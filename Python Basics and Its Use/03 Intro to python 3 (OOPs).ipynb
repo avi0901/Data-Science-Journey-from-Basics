{
 "cells": [
  {
   "cell_type": "markdown",
   "id": "pointed-green",
   "metadata": {},
   "source": [
    "## Object Oriented Programming"
   ]
  },
  {
   "cell_type": "code",
   "execution_count": 2,
   "id": "operational-fellow",
   "metadata": {},
   "outputs": [
    {
     "name": "stdout",
     "output_type": "stream",
     "text": [
      "<class 'int'>\n"
     ]
    }
   ],
   "source": [
    "i = 1\n",
    "print(type(i))"
   ]
  },
  {
   "cell_type": "code",
   "execution_count": 3,
   "id": "reduced-voice",
   "metadata": {},
   "outputs": [
    {
     "name": "stdout",
     "output_type": "stream",
     "text": [
      "<class 'list'>\n"
     ]
    }
   ],
   "source": [
    "l = [1,2,3]\n",
    "print(type(l))"
   ]
  },
  {
   "cell_type": "code",
   "execution_count": 4,
   "id": "graduate-judges",
   "metadata": {},
   "outputs": [],
   "source": [
    "#Empty Class\n",
    "class Student:\n",
    "    pass"
   ]
  },
  {
   "cell_type": "code",
   "execution_count": 5,
   "id": "advised-probe",
   "metadata": {},
   "outputs": [],
   "source": [
    "#Create 2 object\n",
    "s1 = Student()\n",
    "s2 = Student()\n",
    "s3 = Student()"
   ]
  },
  {
   "cell_type": "markdown",
   "id": "under-humidity",
   "metadata": {},
   "source": [
    "### Instance Attributes :-"
   ]
  },
  {
   "cell_type": "code",
   "execution_count": 6,
   "id": "missing-senegal",
   "metadata": {},
   "outputs": [],
   "source": [
    "s1.name = \"Avinash Kumar\"\n",
    "s1.age = 21"
   ]
  },
  {
   "cell_type": "code",
   "execution_count": 7,
   "id": "incorrect-telephone",
   "metadata": {},
   "outputs": [],
   "source": [
    "s2.age = 20"
   ]
  },
  {
   "cell_type": "code",
   "execution_count": 8,
   "id": "frequent-integer",
   "metadata": {},
   "outputs": [],
   "source": [
    "s3.rollno = 107"
   ]
  },
  {
   "cell_type": "code",
   "execution_count": 9,
   "id": "stylish-fever",
   "metadata": {},
   "outputs": [
    {
     "name": "stdout",
     "output_type": "stream",
     "text": [
      "{'name': 'Avinash Kumar', 'age': 21}\n",
      "{'age': 20}\n",
      "{'rollno': 107}\n"
     ]
    }
   ],
   "source": [
    "print(s1.__dict__)\n",
    "print(s2.__dict__)\n",
    "print(s3.__dict__)"
   ]
  },
  {
   "cell_type": "code",
   "execution_count": 10,
   "id": "touched-baltimore",
   "metadata": {},
   "outputs": [],
   "source": [
    "s4 = Student()"
   ]
  },
  {
   "cell_type": "code",
   "execution_count": 11,
   "id": "alien-upset",
   "metadata": {},
   "outputs": [
    {
     "name": "stdout",
     "output_type": "stream",
     "text": [
      "{}\n"
     ]
    }
   ],
   "source": [
    "print(s4.__dict__)"
   ]
  },
  {
   "cell_type": "code",
   "execution_count": 12,
   "id": "optional-heaven",
   "metadata": {},
   "outputs": [
    {
     "name": "stdout",
     "output_type": "stream",
     "text": [
      "Avinash Kumar\n"
     ]
    }
   ],
   "source": [
    "print(s1.name)"
   ]
  },
  {
   "cell_type": "code",
   "execution_count": 13,
   "id": "opened-parameter",
   "metadata": {},
   "outputs": [
    {
     "ename": "AttributeError",
     "evalue": "'Student' object has no attribute 'name'",
     "output_type": "error",
     "traceback": [
      "\u001b[1;31m---------------------------------------------------------------------------\u001b[0m",
      "\u001b[1;31mAttributeError\u001b[0m                            Traceback (most recent call last)",
      "\u001b[1;32m<ipython-input-13-0f62c5043e99>\u001b[0m in \u001b[0;36m<module>\u001b[1;34m\u001b[0m\n\u001b[1;32m----> 1\u001b[1;33m \u001b[0mprint\u001b[0m\u001b[1;33m(\u001b[0m\u001b[0ms2\u001b[0m\u001b[1;33m.\u001b[0m\u001b[0mname\u001b[0m\u001b[1;33m)\u001b[0m\u001b[1;33m\u001b[0m\u001b[1;33m\u001b[0m\u001b[0m\n\u001b[0m",
      "\u001b[1;31mAttributeError\u001b[0m: 'Student' object has no attribute 'name'"
     ]
    }
   ],
   "source": [
    "print(s2.name)"
   ]
  },
  {
   "cell_type": "markdown",
   "id": "fleet-supervisor",
   "metadata": {},
   "source": [
    "#### Inbuilt Functions"
   ]
  },
  {
   "cell_type": "code",
   "execution_count": null,
   "id": "interpreted-greensboro",
   "metadata": {},
   "outputs": [],
   "source": [
    "print(hasattr(s1,'name'))"
   ]
  },
  {
   "cell_type": "code",
   "execution_count": null,
   "id": "ordinary-directory",
   "metadata": {},
   "outputs": [],
   "source": [
    "setattr(s2,'name',\"Sunny\")"
   ]
  },
  {
   "cell_type": "code",
   "execution_count": null,
   "id": "absent-ordinance",
   "metadata": {},
   "outputs": [],
   "source": [
    "print(s2.__dict__)"
   ]
  },
  {
   "cell_type": "code",
   "execution_count": null,
   "id": "colonial-pastor",
   "metadata": {},
   "outputs": [],
   "source": [
    "setattr(s2,'name',\"Purohit\")"
   ]
  },
  {
   "cell_type": "code",
   "execution_count": null,
   "id": "filled-agency",
   "metadata": {},
   "outputs": [],
   "source": [
    "print(s2.__dict__)"
   ]
  },
  {
   "cell_type": "code",
   "execution_count": null,
   "id": "brief-times",
   "metadata": {},
   "outputs": [],
   "source": [
    "getattr(s1,'name')"
   ]
  },
  {
   "cell_type": "code",
   "execution_count": null,
   "id": "choice-popularity",
   "metadata": {},
   "outputs": [],
   "source": [
    "getattr(s3,'name')"
   ]
  },
  {
   "cell_type": "code",
   "execution_count": null,
   "id": "million-canal",
   "metadata": {},
   "outputs": [],
   "source": [
    "getattr(s3,'name',\"Not There\")"
   ]
  },
  {
   "cell_type": "code",
   "execution_count": null,
   "id": "actual-jaguar",
   "metadata": {},
   "outputs": [],
   "source": [
    "print(s2.__dict__)\n",
    "delattr(s2,'name')\n",
    "print(s2.__dict__)"
   ]
  },
  {
   "cell_type": "markdown",
   "id": "authentic-hollow",
   "metadata": {},
   "source": [
    "#### Class Attribute"
   ]
  },
  {
   "cell_type": "code",
   "execution_count": 14,
   "id": "interpreted-shower",
   "metadata": {},
   "outputs": [],
   "source": [
    "Student.totalStudents = 20"
   ]
  },
  {
   "cell_type": "code",
   "execution_count": 15,
   "id": "typical-mileage",
   "metadata": {},
   "outputs": [
    {
     "data": {
      "text/plain": [
       "mappingproxy({'__module__': '__main__',\n",
       "              '__dict__': <attribute '__dict__' of 'Student' objects>,\n",
       "              '__weakref__': <attribute '__weakref__' of 'Student' objects>,\n",
       "              '__doc__': None,\n",
       "              'totalStudents': 20})"
      ]
     },
     "execution_count": 15,
     "metadata": {},
     "output_type": "execute_result"
    }
   ],
   "source": [
    "Student.__dict__"
   ]
  },
  {
   "cell_type": "code",
   "execution_count": 16,
   "id": "afraid-treatment",
   "metadata": {},
   "outputs": [],
   "source": [
    "class Student:\n",
    "    # Class Attribute\n",
    "    totalStudents = 20\n",
    "    classTeacher = \"PHK\""
   ]
  },
  {
   "cell_type": "code",
   "execution_count": 17,
   "id": "narrative-transportation",
   "metadata": {},
   "outputs": [],
   "source": [
    "s1 = Student()\n",
    "s2 = Student()"
   ]
  },
  {
   "cell_type": "code",
   "execution_count": 18,
   "id": "empty-kitty",
   "metadata": {},
   "outputs": [
    {
     "name": "stdout",
     "output_type": "stream",
     "text": [
      "{'__module__': '__main__', 'totalStudents': 20, 'classTeacher': 'PHK', '__dict__': <attribute '__dict__' of 'Student' objects>, '__weakref__': <attribute '__weakref__' of 'Student' objects>, '__doc__': None}\n"
     ]
    }
   ],
   "source": [
    "print(Student.__dict__)\n",
    "# Checking Class Dictionary"
   ]
  },
  {
   "cell_type": "code",
   "execution_count": 19,
   "id": "alpha-adolescent",
   "metadata": {},
   "outputs": [
    {
     "name": "stdout",
     "output_type": "stream",
     "text": [
      "{}\n",
      "{}\n"
     ]
    }
   ],
   "source": [
    "print(s1.__dict__)\n",
    "print(s2.__dict__)"
   ]
  },
  {
   "cell_type": "code",
   "execution_count": 21,
   "id": "signal-blocking",
   "metadata": {},
   "outputs": [
    {
     "name": "stdout",
     "output_type": "stream",
     "text": [
      "20\n",
      "20\n",
      "20\n"
     ]
    }
   ],
   "source": [
    "# Standard Method to Access\n",
    "print(Student.totalStudents)\n",
    "# We can do this also\n",
    "print(s1.totalStudents)\n",
    "print(s2.totalStudents)"
   ]
  },
  {
   "cell_type": "code",
   "execution_count": 22,
   "id": "reported-cooperation",
   "metadata": {},
   "outputs": [
    {
     "name": "stdout",
     "output_type": "stream",
     "text": [
      "{}\n",
      "{}\n"
     ]
    }
   ],
   "source": [
    "print(s1.__dict__)\n",
    "print(s2.__dict__)\n",
    "# Checking Instance Dictionary"
   ]
  },
  {
   "cell_type": "code",
   "execution_count": 23,
   "id": "chicken-saying",
   "metadata": {},
   "outputs": [],
   "source": [
    "Student.totalStudents = 30"
   ]
  },
  {
   "cell_type": "code",
   "execution_count": 24,
   "id": "divine-liberal",
   "metadata": {},
   "outputs": [
    {
     "name": "stdout",
     "output_type": "stream",
     "text": [
      "30\n",
      "30\n",
      "30\n"
     ]
    }
   ],
   "source": [
    "print(Student.totalStudents)\n",
    "print(s1.totalStudents)\n",
    "print(s2.totalStudents)"
   ]
  },
  {
   "cell_type": "code",
   "execution_count": 29,
   "id": "valuable-stake",
   "metadata": {},
   "outputs": [],
   "source": [
    "s1.totalStudents = 20"
   ]
  },
  {
   "cell_type": "code",
   "execution_count": 30,
   "id": "understood-basement",
   "metadata": {},
   "outputs": [
    {
     "name": "stdout",
     "output_type": "stream",
     "text": [
      "30\n",
      "20\n",
      "30\n"
     ]
    }
   ],
   "source": [
    "print(Student.totalStudents)\n",
    "print(s1.totalStudents)\n",
    "print(s2.totalStudents)"
   ]
  },
  {
   "cell_type": "code",
   "execution_count": 31,
   "id": "demanding-outreach",
   "metadata": {},
   "outputs": [
    {
     "name": "stdout",
     "output_type": "stream",
     "text": [
      "{'totalStudents': 20}\n",
      "{}\n"
     ]
    }
   ],
   "source": [
    "print(s1.__dict__)\n",
    "print(s2.__dict__)\n",
    "# Checking Instance Dictionary"
   ]
  },
  {
   "cell_type": "markdown",
   "id": "sitting-report",
   "metadata": {},
   "source": [
    "## Methods"
   ]
  },
  {
   "cell_type": "code",
   "execution_count": 1,
   "id": "electronic-collective",
   "metadata": {},
   "outputs": [],
   "source": [
    "class Student:\n",
    "    ## class attributes\n",
    "    totalStudents = 20\n",
    "    classTeacher = 'Komal'\n",
    "    \n",
    "    ## instance method\n",
    "    def printHello():\n",
    "        print(\"Hello\")\n",
    "        \n",
    "s1 = Student()\n",
    "s2 = Student()"
   ]
  },
  {
   "cell_type": "code",
   "execution_count": 2,
   "id": "further-shopper",
   "metadata": {},
   "outputs": [
    {
     "ename": "TypeError",
     "evalue": "printHello() takes 0 positional arguments but 1 was given",
     "output_type": "error",
     "traceback": [
      "\u001b[1;31m---------------------------------------------------------------------------\u001b[0m",
      "\u001b[1;31mTypeError\u001b[0m                                 Traceback (most recent call last)",
      "\u001b[1;32m<ipython-input-2-cecbd9e3dcbb>\u001b[0m in \u001b[0;36m<module>\u001b[1;34m\u001b[0m\n\u001b[1;32m----> 1\u001b[1;33m \u001b[0ms1\u001b[0m\u001b[1;33m.\u001b[0m\u001b[0mprintHello\u001b[0m\u001b[1;33m(\u001b[0m\u001b[1;33m)\u001b[0m\u001b[1;33m\u001b[0m\u001b[1;33m\u001b[0m\u001b[0m\n\u001b[0m",
      "\u001b[1;31mTypeError\u001b[0m: printHello() takes 0 positional arguments but 1 was given"
     ]
    }
   ],
   "source": [
    "s1.printHello()"
   ]
  },
  {
   "cell_type": "code",
   "execution_count": 3,
   "id": "cordless-trial",
   "metadata": {},
   "outputs": [],
   "source": [
    "class Student:\n",
    "    ## class attributes\n",
    "    totalStudents = 20\n",
    "    classTeacher = 'Komal'\n",
    "    \n",
    "    ## instance method\n",
    "    def printHello(self):\n",
    "        print(\"Hello\")\n",
    "        \n",
    "s1 = Student()\n",
    "s2 = Student()"
   ]
  },
  {
   "cell_type": "code",
   "execution_count": 4,
   "id": "stunning-inside",
   "metadata": {},
   "outputs": [
    {
     "name": "stdout",
     "output_type": "stream",
     "text": [
      "Hello\n"
     ]
    }
   ],
   "source": [
    "s1.printHello()"
   ]
  },
  {
   "cell_type": "code",
   "execution_count": 10,
   "id": "adult-education",
   "metadata": {},
   "outputs": [],
   "source": [
    "class Student:\n",
    "    ## class attributes\n",
    "    totalStudents = 20\n",
    "    classTeacher = 'Komal'\n",
    "    \n",
    "    ## instance method\n",
    "    def printHello(self):\n",
    "        print(\"Hello\")\n",
    "        \n",
    "    def print(self,strn):\n",
    "        print(strn)\n",
    "    \n",
    "        \n",
    "s1 = Student()\n",
    "s2 = Student()"
   ]
  },
  {
   "cell_type": "code",
   "execution_count": 11,
   "id": "growing-westminster",
   "metadata": {},
   "outputs": [
    {
     "name": "stdout",
     "output_type": "stream",
     "text": [
      "Hello Jii\n"
     ]
    }
   ],
   "source": [
    "s1.print(\"Hello Jii\")"
   ]
  },
  {
   "cell_type": "code",
   "execution_count": 12,
   "id": "super-ecology",
   "metadata": {},
   "outputs": [
    {
     "ename": "TypeError",
     "evalue": "printHello() missing 1 required positional argument: 'self'",
     "output_type": "error",
     "traceback": [
      "\u001b[1;31m---------------------------------------------------------------------------\u001b[0m",
      "\u001b[1;31mTypeError\u001b[0m                                 Traceback (most recent call last)",
      "\u001b[1;32m<ipython-input-12-83bd1923e698>\u001b[0m in \u001b[0;36m<module>\u001b[1;34m\u001b[0m\n\u001b[1;32m----> 1\u001b[1;33m \u001b[0mStudent\u001b[0m\u001b[1;33m.\u001b[0m\u001b[0mprintHello\u001b[0m\u001b[1;33m(\u001b[0m\u001b[1;33m)\u001b[0m\u001b[1;33m\u001b[0m\u001b[1;33m\u001b[0m\u001b[0m\n\u001b[0m",
      "\u001b[1;31mTypeError\u001b[0m: printHello() missing 1 required positional argument: 'self'"
     ]
    }
   ],
   "source": [
    "Student.printHello()"
   ]
  },
  {
   "cell_type": "code",
   "execution_count": 13,
   "id": "straight-breakfast",
   "metadata": {},
   "outputs": [
    {
     "name": "stdout",
     "output_type": "stream",
     "text": [
      "Hello\n"
     ]
    }
   ],
   "source": [
    "Student.printHello(s2)"
   ]
  },
  {
   "cell_type": "code",
   "execution_count": 19,
   "id": "pursuant-fortune",
   "metadata": {},
   "outputs": [],
   "source": [
    "class Student:\n",
    "    ## class attributes\n",
    "    totalStudents = 20\n",
    "    classTeacher = 'Komal'\n",
    "    \n",
    "    ## instance method\n",
    "    def printHello(self):\n",
    "        print(\"Hello\")\n",
    "        \n",
    "    def print(self,strn):\n",
    "        print(strn)\n",
    "        \n",
    "    def printName(self):\n",
    "        print(name)\n",
    "    \n",
    "        \n",
    "s1 = Student()\n",
    "s2 = Student()"
   ]
  },
  {
   "cell_type": "code",
   "execution_count": 20,
   "id": "boring-plasma",
   "metadata": {},
   "outputs": [],
   "source": [
    "s1.name = \"Avinash\""
   ]
  },
  {
   "cell_type": "code",
   "execution_count": 21,
   "id": "bound-opera",
   "metadata": {},
   "outputs": [
    {
     "ename": "NameError",
     "evalue": "name 'name' is not defined",
     "output_type": "error",
     "traceback": [
      "\u001b[1;31m---------------------------------------------------------------------------\u001b[0m",
      "\u001b[1;31mNameError\u001b[0m                                 Traceback (most recent call last)",
      "\u001b[1;32m<ipython-input-21-1a02b5bc1a55>\u001b[0m in \u001b[0;36m<module>\u001b[1;34m\u001b[0m\n\u001b[1;32m----> 1\u001b[1;33m \u001b[0ms1\u001b[0m\u001b[1;33m.\u001b[0m\u001b[0mprintName\u001b[0m\u001b[1;33m(\u001b[0m\u001b[1;33m)\u001b[0m\u001b[1;33m\u001b[0m\u001b[1;33m\u001b[0m\u001b[0m\n\u001b[0m",
      "\u001b[1;32m<ipython-input-19-8ab0b33e829c>\u001b[0m in \u001b[0;36mprintName\u001b[1;34m(self)\u001b[0m\n\u001b[0;32m     12\u001b[0m \u001b[1;33m\u001b[0m\u001b[0m\n\u001b[0;32m     13\u001b[0m     \u001b[1;32mdef\u001b[0m \u001b[0mprintName\u001b[0m\u001b[1;33m(\u001b[0m\u001b[0mself\u001b[0m\u001b[1;33m)\u001b[0m\u001b[1;33m:\u001b[0m\u001b[1;33m\u001b[0m\u001b[1;33m\u001b[0m\u001b[0m\n\u001b[1;32m---> 14\u001b[1;33m         \u001b[0mprint\u001b[0m\u001b[1;33m(\u001b[0m\u001b[0mname\u001b[0m\u001b[1;33m)\u001b[0m\u001b[1;33m\u001b[0m\u001b[1;33m\u001b[0m\u001b[0m\n\u001b[0m\u001b[0;32m     15\u001b[0m \u001b[1;33m\u001b[0m\u001b[0m\n\u001b[0;32m     16\u001b[0m \u001b[1;33m\u001b[0m\u001b[0m\n",
      "\u001b[1;31mNameError\u001b[0m: name 'name' is not defined"
     ]
    }
   ],
   "source": [
    "s1.printName()"
   ]
  },
  {
   "cell_type": "code",
   "execution_count": 24,
   "id": "careful-poster",
   "metadata": {},
   "outputs": [],
   "source": [
    "class Student:\n",
    "    ## class attributes\n",
    "    totalStudents = 20\n",
    "    classTeacher = 'Komal'\n",
    "    \n",
    "    ## instance method\n",
    "    def printHello(self):\n",
    "        print(\"Hello\")\n",
    "        \n",
    "    def print(self,strn):\n",
    "        print(strn)\n",
    "        \n",
    "    def printName(self):\n",
    "        print(self.name)\n",
    "    \n",
    "        \n",
    "s1 = Student()\n",
    "s2 = Student()"
   ]
  },
  {
   "cell_type": "code",
   "execution_count": 25,
   "id": "documented-retirement",
   "metadata": {},
   "outputs": [],
   "source": [
    "s1.name = \"Avinash\""
   ]
  },
  {
   "cell_type": "code",
   "execution_count": 26,
   "id": "imported-serial",
   "metadata": {},
   "outputs": [
    {
     "name": "stdout",
     "output_type": "stream",
     "text": [
      "Avinash\n"
     ]
    }
   ],
   "source": [
    "s1.printName()"
   ]
  },
  {
   "cell_type": "code",
   "execution_count": 27,
   "id": "electric-notebook",
   "metadata": {},
   "outputs": [],
   "source": [
    "class Student:\n",
    "    ## class attributes\n",
    "    totalStudents = 20\n",
    "    classTeacher = 'Komal'\n",
    "    \n",
    "    ## instance method\n",
    "    def printHello(self):\n",
    "        print(\"Hello\")\n",
    "        \n",
    "    def print(self,strn):\n",
    "        print(strn)\n",
    "        \n",
    "    def printName(self):\n",
    "        name = \"abc\"\n",
    "        print(self.name)\n",
    "        print(name)\n",
    "    \n",
    "        \n",
    "s1 = Student()\n",
    "s2 = Student()"
   ]
  },
  {
   "cell_type": "code",
   "execution_count": 28,
   "id": "refined-essex",
   "metadata": {},
   "outputs": [],
   "source": [
    "s1.name = \"Avinash\""
   ]
  },
  {
   "cell_type": "code",
   "execution_count": 30,
   "id": "fiscal-preview",
   "metadata": {},
   "outputs": [
    {
     "name": "stdout",
     "output_type": "stream",
     "text": [
      "Avinash\n",
      "abc\n"
     ]
    }
   ],
   "source": [
    "s1.printName()"
   ]
  },
  {
   "cell_type": "code",
   "execution_count": 31,
   "id": "dated-denial",
   "metadata": {},
   "outputs": [],
   "source": [
    "class Student:\n",
    "    ## class attributes\n",
    "    totalStudents = 20\n",
    "    classTeacher = 'Komal'\n",
    "    \n",
    "    ## instance method\n",
    "    def printHello(self):\n",
    "        print(\"Hello\")\n",
    "        \n",
    "    def print(self,strn):\n",
    "        print(strn)\n",
    "        \n",
    "    def printName(self):\n",
    "        name = \"abc\"\n",
    "        print(self.name)\n",
    "        print(name)\n",
    "        \n",
    "    def addName(self,name):\n",
    "        self.name = name\n",
    "    \n",
    "        \n",
    "s1 = Student()\n",
    "s2 = Student()"
   ]
  },
  {
   "cell_type": "code",
   "execution_count": 32,
   "id": "active-finder",
   "metadata": {},
   "outputs": [
    {
     "name": "stdout",
     "output_type": "stream",
     "text": [
      "{}\n",
      "{}\n"
     ]
    }
   ],
   "source": [
    "print(s1.__dict__)\n",
    "print(s2.__dict__)"
   ]
  },
  {
   "cell_type": "code",
   "execution_count": 33,
   "id": "comfortable-hepatitis",
   "metadata": {},
   "outputs": [],
   "source": [
    "s1.addName(\"Avinash\")"
   ]
  },
  {
   "cell_type": "code",
   "execution_count": 34,
   "id": "novel-prairie",
   "metadata": {},
   "outputs": [
    {
     "name": "stdout",
     "output_type": "stream",
     "text": [
      "{'name': 'Avinash'}\n",
      "{}\n"
     ]
    }
   ],
   "source": [
    "print(s1.__dict__)\n",
    "print(s2.__dict__)"
   ]
  },
  {
   "cell_type": "code",
   "execution_count": 35,
   "id": "together-fever",
   "metadata": {},
   "outputs": [
    {
     "ename": "AttributeError",
     "evalue": "'Student' object has no attribute 'name'",
     "output_type": "error",
     "traceback": [
      "\u001b[1;31m---------------------------------------------------------------------------\u001b[0m",
      "\u001b[1;31mAttributeError\u001b[0m                            Traceback (most recent call last)",
      "\u001b[1;32m<ipython-input-35-27f93ba74526>\u001b[0m in \u001b[0;36m<module>\u001b[1;34m\u001b[0m\n\u001b[1;32m----> 1\u001b[1;33m \u001b[0ms2\u001b[0m\u001b[1;33m.\u001b[0m\u001b[0mprintName\u001b[0m\u001b[1;33m(\u001b[0m\u001b[1;33m)\u001b[0m\u001b[1;33m\u001b[0m\u001b[1;33m\u001b[0m\u001b[0m\n\u001b[0m",
      "\u001b[1;32m<ipython-input-31-62ae0d4c9be6>\u001b[0m in \u001b[0;36mprintName\u001b[1;34m(self)\u001b[0m\n\u001b[0;32m     13\u001b[0m     \u001b[1;32mdef\u001b[0m \u001b[0mprintName\u001b[0m\u001b[1;33m(\u001b[0m\u001b[0mself\u001b[0m\u001b[1;33m)\u001b[0m\u001b[1;33m:\u001b[0m\u001b[1;33m\u001b[0m\u001b[1;33m\u001b[0m\u001b[0m\n\u001b[0;32m     14\u001b[0m         \u001b[0mname\u001b[0m \u001b[1;33m=\u001b[0m \u001b[1;34m\"abc\"\u001b[0m\u001b[1;33m\u001b[0m\u001b[1;33m\u001b[0m\u001b[0m\n\u001b[1;32m---> 15\u001b[1;33m         \u001b[0mprint\u001b[0m\u001b[1;33m(\u001b[0m\u001b[0mself\u001b[0m\u001b[1;33m.\u001b[0m\u001b[0mname\u001b[0m\u001b[1;33m)\u001b[0m\u001b[1;33m\u001b[0m\u001b[1;33m\u001b[0m\u001b[0m\n\u001b[0m\u001b[0;32m     16\u001b[0m         \u001b[0mprint\u001b[0m\u001b[1;33m(\u001b[0m\u001b[0mname\u001b[0m\u001b[1;33m)\u001b[0m\u001b[1;33m\u001b[0m\u001b[1;33m\u001b[0m\u001b[0m\n\u001b[0;32m     17\u001b[0m \u001b[1;33m\u001b[0m\u001b[0m\n",
      "\u001b[1;31mAttributeError\u001b[0m: 'Student' object has no attribute 'name'"
     ]
    }
   ],
   "source": [
    "s2.printName()"
   ]
  },
  {
   "cell_type": "code",
   "execution_count": 38,
   "id": "harmful-nursery",
   "metadata": {},
   "outputs": [],
   "source": [
    "class Student:\n",
    "    ## class attributes\n",
    "    totalStudents = 20\n",
    "    classTeacher = 'Komal'\n",
    "    \n",
    "    ## instance method\n",
    "    def printHello(self):\n",
    "        print(\"Hello\")\n",
    "        \n",
    "    def print(self,strn):\n",
    "        print(strn)\n",
    "        \n",
    "    def printName(self):\n",
    "        name = \"abc\"\n",
    "        print(self.name)\n",
    "        print(name)\n",
    "        \n",
    "    def addName(self,name):\n",
    "        self.name = name\n",
    "        \n",
    "    def test(self):\n",
    "        #printing class attribute\n",
    "        print(totalStudents)\n",
    "    \n",
    "        \n",
    "s1 = Student()\n",
    "s2 = Student()"
   ]
  },
  {
   "cell_type": "code",
   "execution_count": 39,
   "id": "friendly-retention",
   "metadata": {},
   "outputs": [
    {
     "ename": "NameError",
     "evalue": "name 'totalStudents' is not defined",
     "output_type": "error",
     "traceback": [
      "\u001b[1;31m---------------------------------------------------------------------------\u001b[0m",
      "\u001b[1;31mNameError\u001b[0m                                 Traceback (most recent call last)",
      "\u001b[1;32m<ipython-input-39-afd0e66bee75>\u001b[0m in \u001b[0;36m<module>\u001b[1;34m\u001b[0m\n\u001b[1;32m----> 1\u001b[1;33m \u001b[0ms1\u001b[0m\u001b[1;33m.\u001b[0m\u001b[0mtest\u001b[0m\u001b[1;33m(\u001b[0m\u001b[1;33m)\u001b[0m\u001b[1;33m\u001b[0m\u001b[1;33m\u001b[0m\u001b[0m\n\u001b[0m",
      "\u001b[1;32m<ipython-input-38-6eb934e638bf>\u001b[0m in \u001b[0;36mtest\u001b[1;34m(self)\u001b[0m\n\u001b[0;32m     21\u001b[0m     \u001b[1;32mdef\u001b[0m \u001b[0mtest\u001b[0m\u001b[1;33m(\u001b[0m\u001b[0mself\u001b[0m\u001b[1;33m)\u001b[0m\u001b[1;33m:\u001b[0m\u001b[1;33m\u001b[0m\u001b[1;33m\u001b[0m\u001b[0m\n\u001b[0;32m     22\u001b[0m         \u001b[1;31m#printing class attribute\u001b[0m\u001b[1;33m\u001b[0m\u001b[1;33m\u001b[0m\u001b[1;33m\u001b[0m\u001b[0m\n\u001b[1;32m---> 23\u001b[1;33m         \u001b[0mprint\u001b[0m\u001b[1;33m(\u001b[0m\u001b[0mtotalStudents\u001b[0m\u001b[1;33m)\u001b[0m\u001b[1;33m\u001b[0m\u001b[1;33m\u001b[0m\u001b[0m\n\u001b[0m\u001b[0;32m     24\u001b[0m \u001b[1;33m\u001b[0m\u001b[0m\n\u001b[0;32m     25\u001b[0m \u001b[1;33m\u001b[0m\u001b[0m\n",
      "\u001b[1;31mNameError\u001b[0m: name 'totalStudents' is not defined"
     ]
    }
   ],
   "source": [
    "s1.test()"
   ]
  },
  {
   "cell_type": "code",
   "execution_count": 40,
   "id": "seeing-malpractice",
   "metadata": {},
   "outputs": [],
   "source": [
    "class Student:\n",
    "    ## class attributes\n",
    "    totalStudents = 20\n",
    "    classTeacher = 'Komal'\n",
    "    \n",
    "    ## instance method\n",
    "    def printHello(self):\n",
    "        print(\"Hello\")\n",
    "        \n",
    "    def print(self,strn):\n",
    "        print(strn)\n",
    "        \n",
    "    def printName(self):\n",
    "        name = \"abc\"\n",
    "        print(self.name)\n",
    "        print(name)\n",
    "        \n",
    "    def addName(self,name):\n",
    "        self.name = name\n",
    "        \n",
    "    def test(self):\n",
    "        #printing class attribute\n",
    "        print(Student.totalStudents)\n",
    "    \n",
    "        \n",
    "s1 = Student()\n",
    "s2 = Student()"
   ]
  },
  {
   "cell_type": "code",
   "execution_count": 41,
   "id": "beautiful-manitoba",
   "metadata": {},
   "outputs": [
    {
     "name": "stdout",
     "output_type": "stream",
     "text": [
      "20\n"
     ]
    }
   ],
   "source": [
    "s1.test()"
   ]
  },
  {
   "cell_type": "code",
   "execution_count": 42,
   "id": "realistic-september",
   "metadata": {},
   "outputs": [],
   "source": [
    "class Student:\n",
    "    ## class attributes\n",
    "    totalStudents = 20\n",
    "    classTeacher = 'Komal'\n",
    "    \n",
    "    ## instance method\n",
    "    def printHello(self):\n",
    "        print(\"Hello\")\n",
    "        \n",
    "    def print(self,strn):\n",
    "        print(strn)\n",
    "        \n",
    "    def printName(self):\n",
    "        name = \"abc\"\n",
    "        print(self.name)\n",
    "        print(name)\n",
    "        \n",
    "    def addName(self,name):\n",
    "        self.name = name\n",
    "        \n",
    "    def test(self):\n",
    "        #printing class attribute\n",
    "        print(Student.totalStudents)\n",
    "        \n",
    "    def test2(self):\n",
    "        #updating class attribute\n",
    "        Student.totalStudents = 30\n",
    "        #printing class attribute\n",
    "        print(Student.totalStudents)\n",
    "        #creating class attribute\n",
    "        Student.test_class = 90\n",
    "        \n",
    "s1 = Student()\n",
    "s2 = Student()"
   ]
  },
  {
   "cell_type": "code",
   "execution_count": 43,
   "id": "experienced-relation",
   "metadata": {},
   "outputs": [
    {
     "name": "stdout",
     "output_type": "stream",
     "text": [
      "30\n"
     ]
    }
   ],
   "source": [
    "s1.test2()"
   ]
  },
  {
   "cell_type": "code",
   "execution_count": 44,
   "id": "ideal-radiation",
   "metadata": {},
   "outputs": [
    {
     "name": "stdout",
     "output_type": "stream",
     "text": [
      "{'__module__': '__main__', 'totalStudents': 30, 'classTeacher': 'Komal', 'printHello': <function Student.printHello at 0x000001FF09EC63A8>, 'print': <function Student.print at 0x000001FF09EC6048>, 'printName': <function Student.printName at 0x000001FF09EC6318>, 'addName': <function Student.addName at 0x000001FF09EC6288>, 'test': <function Student.test at 0x000001FF09EC6798>, 'test2': <function Student.test2 at 0x000001FF09EC6DC8>, '__dict__': <attribute '__dict__' of 'Student' objects>, '__weakref__': <attribute '__weakref__' of 'Student' objects>, '__doc__': None, 'test_class': 90}\n"
     ]
    }
   ],
   "source": [
    "print(Student.__dict__)"
   ]
  },
  {
   "cell_type": "code",
   "execution_count": 46,
   "id": "minor-bidder",
   "metadata": {},
   "outputs": [
    {
     "name": "stdout",
     "output_type": "stream",
     "text": [
      "Constructor called\n",
      "Constructor called\n"
     ]
    }
   ],
   "source": [
    "class Student:\n",
    "    ## class attributes\n",
    "    totalStudents = 20\n",
    "    classTeacher = 'Komal'\n",
    "    \n",
    "    ##default constructor\n",
    "    def __init__(self):\n",
    "        print(\"Constructor called\")\n",
    "        pass\n",
    "        \n",
    "s1 = Student()\n",
    "s2 = Student()"
   ]
  },
  {
   "cell_type": "code",
   "execution_count": 47,
   "id": "included-cartoon",
   "metadata": {},
   "outputs": [],
   "source": [
    "class Student:\n",
    "    ## class attributes\n",
    "    totalStudents = 20\n",
    "    classTeacher = 'Komal'\n",
    "    \n",
    "    ##default constructor\n",
    "    def __init__(self):\n",
    "        self.name = 'Mohit'\n",
    "        self.age = 20\n",
    "        self.rollNumber = 101\n",
    "        \n",
    "    ## instance method\n",
    "    def printHello(self):\n",
    "        print(\"Hello\")\n",
    "        \n",
    "    def print(self,strn):\n",
    "        print(strn)\n",
    "        \n",
    "    def printName(self):\n",
    "        name = \"abc\"\n",
    "        print(self.name)\n",
    "        print(name)\n",
    "        \n",
    "    def addName(self,name):\n",
    "        self.name = name\n",
    "        \n",
    "    def test(self):\n",
    "        #printing class attribute\n",
    "        print(Student.totalStudents)\n",
    "        \n",
    "    def test2(self):\n",
    "        #updating class attribute\n",
    "        Student.totalStudents = 30\n",
    "        #printing class attribute\n",
    "        print(Student.totalStudents)\n",
    "        #creating class attribute\n",
    "        Student.test_class = 90\n",
    "        \n",
    "s1 = Student()\n",
    "s2 = Student()"
   ]
  },
  {
   "cell_type": "code",
   "execution_count": 48,
   "id": "ceramic-faith",
   "metadata": {},
   "outputs": [
    {
     "name": "stdout",
     "output_type": "stream",
     "text": [
      "{'name': 'Mohit', 'age': 20, 'rollNumber': 101}\n",
      "{'name': 'Mohit', 'age': 20, 'rollNumber': 101}\n"
     ]
    }
   ],
   "source": [
    "print(s1.__dict__)\n",
    "print(s2.__dict__)"
   ]
  },
  {
   "cell_type": "markdown",
   "id": "material-guarantee",
   "metadata": {},
   "source": [
    "In the all object will have same name, age and roll no. Which is not good ideally"
   ]
  },
  {
   "cell_type": "code",
   "execution_count": 50,
   "id": "adult-columbus",
   "metadata": {},
   "outputs": [],
   "source": [
    "class Student:\n",
    "    ## class attributes\n",
    "    totalStudents = 20\n",
    "    classTeacher = 'Komal'\n",
    "    \n",
    "    ##default constructor\n",
    "    def __init__(self, name, age, rollno):\n",
    "        self.name = name\n",
    "        self.age = age\n",
    "        self.rollNumber = rollno\n",
    "        \n",
    "    ## instance method\n",
    "    def printHello(self):\n",
    "        print(\"Hello\")\n",
    "        \n",
    "    def print(self,strn):\n",
    "        print(strn)\n",
    "        \n",
    "    def printName(self):\n",
    "        name = \"abc\"\n",
    "        print(self.name)\n",
    "        print(name)\n",
    "        \n",
    "    def addName(self,name):\n",
    "        self.name = name\n",
    "        \n",
    "    def test(self):\n",
    "        #printing class attribute\n",
    "        print(Student.totalStudents)\n",
    "        \n",
    "    def test2(self):\n",
    "        #updating class attribute\n",
    "        Student.totalStudents = 30\n",
    "        #printing class attribute\n",
    "        print(Student.totalStudents)\n",
    "        #creating class attribute\n",
    "        Student.test_class = 90\n",
    "        \n",
    "s1 = Student('Avinash', 20, 107)\n",
    "s2 = Student('Monkey', 19 , 145)"
   ]
  },
  {
   "cell_type": "code",
   "execution_count": 51,
   "id": "presidential-crowd",
   "metadata": {},
   "outputs": [
    {
     "name": "stdout",
     "output_type": "stream",
     "text": [
      "{'name': 'Avinash', 'age': 20, 'rollNumber': 107}\n",
      "{'name': 'Monkey', 'age': 19, 'rollNumber': 145}\n"
     ]
    }
   ],
   "source": [
    "print(s1.__dict__)\n",
    "print(s2.__dict__)"
   ]
  },
  {
   "cell_type": "markdown",
   "id": "closed-davis",
   "metadata": {},
   "source": [
    "We can also take default value same as we take in Functions"
   ]
  },
  {
   "cell_type": "code",
   "execution_count": 6,
   "id": "possible-notice",
   "metadata": {},
   "outputs": [],
   "source": [
    "class Student:\n",
    "    ## class attributes\n",
    "    totalStudents = 20\n",
    "    classTeacher = 'Komal'\n",
    "    \n",
    "    ##default constructor\n",
    "    def __init__(self, name, age, rollno):\n",
    "        self.__name = name\n",
    "        self.age = age\n",
    "        self.rollNumber = rollno\n",
    "        \n",
    "    def addName(self,name):\n",
    "        self.__name = name\n",
    "        \n",
    "    def getName(self):\n",
    "        return self.__name\n",
    "    \n",
    "    def setName(self,name,passwd):\n",
    "        if passwd != 1597:\n",
    "            return\n",
    "        if name == \"\":\n",
    "            return\n",
    "        self.__name = name\n",
    "        \n",
    "s1 = Student('Avinash', 20, 107)\n",
    "s2 = Student('Monkey', 19 , 145)"
   ]
  },
  {
   "cell_type": "code",
   "execution_count": 8,
   "id": "agreed-anchor",
   "metadata": {},
   "outputs": [
    {
     "ename": "AttributeError",
     "evalue": "'Student' object has no attribute 'name'",
     "output_type": "error",
     "traceback": [
      "\u001b[1;31m---------------------------------------------------------------------------\u001b[0m",
      "\u001b[1;31mAttributeError\u001b[0m                            Traceback (most recent call last)",
      "\u001b[1;32m<ipython-input-8-bfa1764dcbdc>\u001b[0m in \u001b[0;36m<module>\u001b[1;34m\u001b[0m\n\u001b[1;32m----> 1\u001b[1;33m \u001b[0ms1\u001b[0m\u001b[1;33m.\u001b[0m\u001b[0mname\u001b[0m\u001b[1;33m\u001b[0m\u001b[1;33m\u001b[0m\u001b[0m\n\u001b[0m",
      "\u001b[1;31mAttributeError\u001b[0m: 'Student' object has no attribute 'name'"
     ]
    }
   ],
   "source": [
    "s1.name"
   ]
  },
  {
   "cell_type": "code",
   "execution_count": 17,
   "id": "simple-cloud",
   "metadata": {},
   "outputs": [
    {
     "data": {
      "text/plain": [
       "{'_Student__name': 'Avi', 'age': 20, 'rollNumber': 107}"
      ]
     },
     "execution_count": 17,
     "metadata": {},
     "output_type": "execute_result"
    }
   ],
   "source": [
    "s1.__dict__"
   ]
  },
  {
   "cell_type": "code",
   "execution_count": 9,
   "id": "former-breathing",
   "metadata": {},
   "outputs": [
    {
     "data": {
      "text/plain": [
       "'Avinash'"
      ]
     },
     "execution_count": 9,
     "metadata": {},
     "output_type": "execute_result"
    }
   ],
   "source": [
    "s1.getName()"
   ]
  },
  {
   "cell_type": "code",
   "execution_count": 10,
   "id": "solved-consensus",
   "metadata": {},
   "outputs": [],
   "source": [
    "s1.setName(\"Avi\",1597)"
   ]
  },
  {
   "cell_type": "code",
   "execution_count": 11,
   "id": "immediate-retention",
   "metadata": {},
   "outputs": [
    {
     "data": {
      "text/plain": [
       "'Avi'"
      ]
     },
     "execution_count": 11,
     "metadata": {},
     "output_type": "execute_result"
    }
   ],
   "source": [
    "s1.getName()"
   ]
  },
  {
   "cell_type": "code",
   "execution_count": 12,
   "id": "level-evaluation",
   "metadata": {},
   "outputs": [
    {
     "ename": "AttributeError",
     "evalue": "'Student' object has no attribute 'name'",
     "output_type": "error",
     "traceback": [
      "\u001b[1;31m---------------------------------------------------------------------------\u001b[0m",
      "\u001b[1;31mAttributeError\u001b[0m                            Traceback (most recent call last)",
      "\u001b[1;32m<ipython-input-12-709594944e69>\u001b[0m in \u001b[0;36m<module>\u001b[1;34m\u001b[0m\n\u001b[1;32m----> 1\u001b[1;33m \u001b[0ms2\u001b[0m\u001b[1;33m.\u001b[0m\u001b[0mname\u001b[0m\u001b[1;33m\u001b[0m\u001b[1;33m\u001b[0m\u001b[0m\n\u001b[0m",
      "\u001b[1;31mAttributeError\u001b[0m: 'Student' object has no attribute 'name'"
     ]
    }
   ],
   "source": [
    "s2.name"
   ]
  },
  {
   "cell_type": "code",
   "execution_count": 13,
   "id": "valued-graphics",
   "metadata": {},
   "outputs": [
    {
     "name": "stdout",
     "output_type": "stream",
     "text": [
      "Avi\n"
     ]
    }
   ],
   "source": [
    "print(s1._Student__name)"
   ]
  },
  {
   "cell_type": "markdown",
   "id": "indoor-syntax",
   "metadata": {},
   "source": [
    "##### name is termed as _classname__name\n",
    "We can directly access private function by this name without any public method"
   ]
  },
  {
   "cell_type": "code",
   "execution_count": 14,
   "id": "otherwise-moscow",
   "metadata": {},
   "outputs": [
    {
     "data": {
      "text/plain": [
       "{'_Student__name': 'Avi', 'age': 20, 'rollNumber': 107}"
      ]
     },
     "execution_count": 14,
     "metadata": {},
     "output_type": "execute_result"
    }
   ],
   "source": [
    "s1.__dict__"
   ]
  },
  {
   "cell_type": "markdown",
   "id": "ignored-precipitation",
   "metadata": {},
   "source": [
    "### Class Methods\n"
   ]
  },
  {
   "cell_type": "code",
   "execution_count": 25,
   "id": "superb-plaintiff",
   "metadata": {},
   "outputs": [],
   "source": [
    "class Student:\n",
    "    ## class attributes\n",
    "    __totalStudents = 20\n",
    "    classTeacher = 'Komal'\n",
    "    \n",
    "    \n",
    "    def getTotalStudents(self):\n",
    "        return Student.__totalStudents\n",
    "    \n",
    "    \n",
    "    ##default constructor\n",
    "    def __init__(self, name, age, rollno):\n",
    "        self.__name = name\n",
    "        self.age = age\n",
    "        self.rollNumber = rollno\n",
    "        \n",
    "    def addName(self,name):\n",
    "        self.__name = name\n",
    "        \n",
    "    def getName(self):\n",
    "        return self.__name\n",
    "    \n",
    "    def setName(self,name,passwd):\n",
    "        if passwd != 1597:\n",
    "            return\n",
    "        if name == \"\":\n",
    "            return\n",
    "        self.__name = name\n",
    "        \n",
    "s1 = Student('Avinash', 20, 107)\n",
    "s2 = Student('Monkey', 19 , 145)"
   ]
  },
  {
   "cell_type": "code",
   "execution_count": 26,
   "id": "national-enhancement",
   "metadata": {},
   "outputs": [
    {
     "name": "stdout",
     "output_type": "stream",
     "text": [
      "20\n",
      "20\n"
     ]
    }
   ],
   "source": [
    "print(s1.getTotalStudents())\n",
    "print(Student.getTotalStudents(s1))"
   ]
  },
  {
   "cell_type": "markdown",
   "id": "western-clerk",
   "metadata": {},
   "source": [
    "We don't want to pass object in Student.getTotalStudents(s1) because it is not related to any object. "
   ]
  },
  {
   "cell_type": "code",
   "execution_count": 27,
   "id": "tamil-transformation",
   "metadata": {},
   "outputs": [],
   "source": [
    "class Student:\n",
    "    ## class attributes\n",
    "    __totalStudents = 20\n",
    "    classTeacher = 'Komal'\n",
    "    \n",
    "    @classmethod\n",
    "    def getTotalStudents(cls):\n",
    "        return Student.__totalStudents\n",
    "    \n",
    "    \n",
    "    ##default constructor\n",
    "    def __init__(self, name, age, rollno):\n",
    "        self.__name = name\n",
    "        self.age = age\n",
    "        self.rollNumber = rollno\n",
    "        \n",
    "    def addName(self,name):\n",
    "        self.__name = name\n",
    "        \n",
    "    def getName(self):\n",
    "        return self.__name\n",
    "    \n",
    "    def setName(self,name,passwd):\n",
    "        if passwd != 1597:\n",
    "            return\n",
    "        if name == \"\":\n",
    "            return\n",
    "        self.__name = name\n",
    "        \n",
    "s1 = Student('Avinash', 20, 107)\n",
    "s2 = Student('Monkey', 19 , 145)"
   ]
  },
  {
   "cell_type": "code",
   "execution_count": 28,
   "id": "sacred-police",
   "metadata": {},
   "outputs": [
    {
     "name": "stdout",
     "output_type": "stream",
     "text": [
      "20\n"
     ]
    }
   ],
   "source": [
    "print(Student.getTotalStudents())"
   ]
  },
  {
   "cell_type": "code",
   "execution_count": null,
   "id": "ceramic-monkey",
   "metadata": {},
   "outputs": [],
   "source": []
  }
 ],
 "metadata": {
  "kernelspec": {
   "display_name": "Python 3",
   "language": "python",
   "name": "python3"
  },
  "language_info": {
   "codemirror_mode": {
    "name": "ipython",
    "version": 3
   },
   "file_extension": ".py",
   "mimetype": "text/x-python",
   "name": "python",
   "nbconvert_exporter": "python",
   "pygments_lexer": "ipython3",
   "version": "3.7.6"
  }
 },
 "nbformat": 4,
 "nbformat_minor": 5
}
