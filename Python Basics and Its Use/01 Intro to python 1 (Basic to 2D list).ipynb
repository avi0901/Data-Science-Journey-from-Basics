{
 "cells": [
  {
   "cell_type": "markdown",
   "id": "becoming-champion",
   "metadata": {},
   "source": [
    "## Avinash Kumar\n",
    "Hey all !!!!\n",
    "\n",
    "//we use ## for heading"
   ]
  },
  {
   "cell_type": "markdown",
   "id": "tutorial-database",
   "metadata": {},
   "source": [
    "### Print Something BraDhar"
   ]
  },
  {
   "cell_type": "code",
   "execution_count": 4,
   "id": "dental-arctic",
   "metadata": {
    "scrolled": true
   },
   "outputs": [
    {
     "name": "stdout",
     "output_type": "stream",
     "text": [
      "Hello\n",
      "Jindagi\n"
     ]
    }
   ],
   "source": [
    "print(\"Hello\")\n",
    "print(\"Jindagi\")"
   ]
  },
  {
   "cell_type": "code",
   "execution_count": 3,
   "id": "secure-footwear",
   "metadata": {},
   "outputs": [
    {
     "name": "stdout",
     "output_type": "stream",
     "text": [
      "Kaise hai aap log :)\n"
     ]
    }
   ],
   "source": [
    "print('Kaese hai aap log :)')"
   ]
  },
  {
   "cell_type": "code",
   "execution_count": 7,
   "id": "liked-aquatic",
   "metadata": {},
   "outputs": [
    {
     "data": {
      "text/plain": [
       "20"
      ]
     },
     "execution_count": 7,
     "metadata": {},
     "output_type": "execute_result"
    }
   ],
   "source": [
    "10\n",
    "20"
   ]
  },
  {
   "cell_type": "markdown",
   "id": "fatty-salad",
   "metadata": {},
   "source": [
    "Whatever is the last line of the code it is or result of it is automatically outputed. It is not printed"
   ]
  },
  {
   "cell_type": "markdown",
   "id": "polished-backup",
   "metadata": {},
   "source": [
    "### Variables"
   ]
  },
  {
   "cell_type": "code",
   "execution_count": 11,
   "id": "limited-enemy",
   "metadata": {},
   "outputs": [
    {
     "data": {
      "text/plain": [
       "56192"
      ]
     },
     "execution_count": 11,
     "metadata": {},
     "output_type": "execute_result"
    }
   ],
   "source": [
    "a = 1546\n",
    "b = 54646\n",
    "a+b"
   ]
  },
  {
   "cell_type": "code",
   "execution_count": 16,
   "id": "annual-python",
   "metadata": {},
   "outputs": [
    {
     "name": "stdout",
     "output_type": "stream",
     "text": [
      "z\n",
      "61030\n"
     ]
    }
   ],
   "source": [
    "x = 4546\n",
    "y = 56484\n",
    "\n",
    "z = x+y\n",
    "# sorry darling sorry darling raat me thodi jyaada ho gai sorry darling\n",
    "# '#' is used for comment\n",
    "print('z')\n",
    "print(z)"
   ]
  },
  {
   "cell_type": "code",
   "execution_count": 17,
   "id": "alive-toner",
   "metadata": {},
   "outputs": [
    {
     "data": {
      "text/plain": [
       "1546"
      ]
     },
     "execution_count": 17,
     "metadata": {},
     "output_type": "execute_result"
    }
   ],
   "source": [
    "a\n"
   ]
  },
  {
   "cell_type": "code",
   "execution_count": 2,
   "id": "liable-makeup",
   "metadata": {},
   "outputs": [
    {
     "name": "stdout",
     "output_type": "stream",
     "text": [
      "<class 'int'>\n"
     ]
    },
    {
     "data": {
      "text/plain": [
       "str"
      ]
     },
     "execution_count": 2,
     "metadata": {},
     "output_type": "execute_result"
    }
   ],
   "source": [
    "a=1452\n",
    "print(type(a))\n",
    "a='abc'\n",
    "type(a)"
   ]
  },
  {
   "cell_type": "code",
   "execution_count": 6,
   "id": "authorized-distinction",
   "metadata": {},
   "outputs": [
    {
     "name": "stdout",
     "output_type": "stream",
     "text": [
      "a1\n",
      "a2\n",
      "a3\n",
      "<class 'int'>\n",
      "<class 'float'>\n",
      "<class 'complex'>\n"
     ]
    }
   ],
   "source": [
    "a1=452\n",
    "a2=45.26\n",
    "# a3 = i + 2j\n",
    "a3= 4 + 2j\n",
    "print('a1')\n",
    "print('a2')\n",
    "print('a3')\n",
    "print(type(a1))\n",
    "print(type(a2))\n",
    "print(type(a3))"
   ]
  },
  {
   "cell_type": "code",
   "execution_count": 7,
   "id": "familiar-headset",
   "metadata": {},
   "outputs": [
    {
     "name": "stdout",
     "output_type": "stream",
     "text": [
      "140714530874032\n",
      "140714530874064\n"
     ]
    },
    {
     "data": {
      "text/plain": [
       "11"
      ]
     },
     "execution_count": 7,
     "metadata": {},
     "output_type": "execute_result"
    }
   ],
   "source": [
    "a=10\n",
    "print(id(a))\n",
    "a=a+1\n",
    "print(id(a))\n",
    "a"
   ]
  },
  {
   "cell_type": "markdown",
   "id": "naked-january",
   "metadata": {},
   "source": [
    "In above example id of both the 'a' is different. Because they are having different values therefore each value have different address.\n",
    "\n"
   ]
  },
  {
   "cell_type": "code",
   "execution_count": 8,
   "id": "empty-revolution",
   "metadata": {},
   "outputs": [
    {
     "name": "stdout",
     "output_type": "stream",
     "text": [
      "140714530874352\n",
      "140714530874352\n"
     ]
    }
   ],
   "source": [
    "a=20\n",
    "b=20\n",
    "print(id(a))\n",
    "print(id(b))"
   ]
  },
  {
   "cell_type": "markdown",
   "id": "underlying-advocacy",
   "metadata": {},
   "source": [
    "In the above example id of both variable is same.\n",
    "This happens to number between -5 to 256 (Numbers mostly used).\n"
   ]
  },
  {
   "cell_type": "code",
   "execution_count": 9,
   "id": "annoying-pepper",
   "metadata": {},
   "outputs": [
    {
     "name": "stdout",
     "output_type": "stream",
     "text": [
      "2649602379056\n",
      "2649602377680\n"
     ]
    }
   ],
   "source": [
    "a=1000\n",
    "b=1000\n",
    "print(id(a))\n",
    "print(id(b))"
   ]
  },
  {
   "cell_type": "markdown",
   "id": "dangerous-copyright",
   "metadata": {},
   "source": [
    "In the above example id of both are different."
   ]
  },
  {
   "cell_type": "code",
   "execution_count": 12,
   "id": "aboriginal-consciousness",
   "metadata": {},
   "outputs": [
    {
     "data": {
      "text/plain": [
       "14"
      ]
     },
     "execution_count": 12,
     "metadata": {},
     "output_type": "execute_result"
    }
   ],
   "source": [
    "a=10\n",
    "b=4\n",
    "a+b"
   ]
  },
  {
   "cell_type": "code",
   "execution_count": 13,
   "id": "vocal-cardiff",
   "metadata": {},
   "outputs": [
    {
     "data": {
      "text/plain": [
       "2.5"
      ]
     },
     "execution_count": 13,
     "metadata": {},
     "output_type": "execute_result"
    }
   ],
   "source": [
    "a/b\n"
   ]
  },
  {
   "cell_type": "code",
   "execution_count": 14,
   "id": "academic-language",
   "metadata": {},
   "outputs": [
    {
     "data": {
      "text/plain": [
       "2"
      ]
     },
     "execution_count": 14,
     "metadata": {},
     "output_type": "execute_result"
    }
   ],
   "source": [
    "a//b #integer division"
   ]
  },
  {
   "cell_type": "code",
   "execution_count": 15,
   "id": "intermediate-advertiser",
   "metadata": {},
   "outputs": [
    {
     "data": {
      "text/plain": [
       "10000"
      ]
     },
     "execution_count": 15,
     "metadata": {},
     "output_type": "execute_result"
    }
   ],
   "source": [
    "a**b #exponention"
   ]
  },
  {
   "cell_type": "markdown",
   "id": "democratic-heritage",
   "metadata": {},
   "source": [
    "## Input"
   ]
  },
  {
   "cell_type": "code",
   "execution_count": 17,
   "id": "chinese-addiction",
   "metadata": {},
   "outputs": [
    {
     "name": "stdout",
     "output_type": "stream",
     "text": [
      "453\n",
      "<class 'str'>\n"
     ]
    },
    {
     "data": {
      "text/plain": [
       "'453'"
      ]
     },
     "execution_count": 17,
     "metadata": {},
     "output_type": "execute_result"
    }
   ],
   "source": [
    "r = input()\n",
    "print(type(r))\n",
    "r"
   ]
  },
  {
   "cell_type": "code",
   "execution_count": 19,
   "id": "artistic-visit",
   "metadata": {},
   "outputs": [
    {
     "name": "stdout",
     "output_type": "stream",
     "text": [
      "<class 'str'>\n",
      "<class 'int'>\n"
     ]
    }
   ],
   "source": [
    "b = '45'\n",
    "print(type(b))\n",
    "c= int(b)\n",
    "print (type(c))"
   ]
  },
  {
   "cell_type": "code",
   "execution_count": 20,
   "id": "careful-shore",
   "metadata": {},
   "outputs": [
    {
     "data": {
      "text/plain": [
       "'45'"
      ]
     },
     "execution_count": 20,
     "metadata": {},
     "output_type": "execute_result"
    }
   ],
   "source": [
    "b"
   ]
  },
  {
   "cell_type": "code",
   "execution_count": 21,
   "id": "boolean-macintosh",
   "metadata": {},
   "outputs": [
    {
     "data": {
      "text/plain": [
       "45"
      ]
     },
     "execution_count": 21,
     "metadata": {},
     "output_type": "execute_result"
    }
   ],
   "source": [
    "c"
   ]
  },
  {
   "cell_type": "code",
   "execution_count": 8,
   "id": "sized-investing",
   "metadata": {},
   "outputs": [
    {
     "data": {
      "text/plain": [
       "float"
      ]
     },
     "execution_count": 8,
     "metadata": {},
     "output_type": "execute_result"
    }
   ],
   "source": [
    "p = \"2.5\"\n",
    "q = float(p)\n",
    "type(q)"
   ]
  },
  {
   "cell_type": "code",
   "execution_count": 1,
   "id": "pretty-isolation",
   "metadata": {},
   "outputs": [
    {
     "data": {
      "text/plain": [
       "4"
      ]
     },
     "execution_count": 1,
     "metadata": {},
     "output_type": "execute_result"
    }
   ],
   "source": [
    "x = 4.3\n",
    "y = int(x)\n",
    "y"
   ]
  },
  {
   "cell_type": "code",
   "execution_count": 2,
   "id": "random-musical",
   "metadata": {},
   "outputs": [
    {
     "name": "stdout",
     "output_type": "stream",
     "text": [
      "45\n"
     ]
    },
    {
     "data": {
      "text/plain": [
       "45"
      ]
     },
     "execution_count": 2,
     "metadata": {},
     "output_type": "execute_result"
    }
   ],
   "source": [
    "a = input()\n",
    "b = int(a)\n",
    "b"
   ]
  },
  {
   "cell_type": "code",
   "execution_count": 3,
   "id": "veterinary-cambodia",
   "metadata": {},
   "outputs": [
    {
     "name": "stdout",
     "output_type": "stream",
     "text": [
      "23\n"
     ]
    },
    {
     "data": {
      "text/plain": [
       "int"
      ]
     },
     "execution_count": 3,
     "metadata": {},
     "output_type": "execute_result"
    }
   ],
   "source": [
    "a=int(input())\n",
    "type(a)"
   ]
  },
  {
   "cell_type": "code",
   "execution_count": 4,
   "id": "sporting-globe",
   "metadata": {},
   "outputs": [
    {
     "name": "stdout",
     "output_type": "stream",
     "text": [
      "45\n",
      "56\n"
     ]
    },
    {
     "data": {
      "text/plain": [
       "'4556'"
      ]
     },
     "execution_count": 4,
     "metadata": {},
     "output_type": "execute_result"
    }
   ],
   "source": [
    "a = input()\n",
    "b = input()\n",
    "a+b"
   ]
  },
  {
   "cell_type": "code",
   "execution_count": 6,
   "id": "single-appendix",
   "metadata": {},
   "outputs": [
    {
     "name": "stdout",
     "output_type": "stream",
     "text": [
      "45\n",
      "56\n"
     ]
    },
    {
     "data": {
      "text/plain": [
       "101"
      ]
     },
     "execution_count": 6,
     "metadata": {},
     "output_type": "execute_result"
    }
   ],
   "source": [
    "a = int(input())\n",
    "b = int(input())\n",
    "a+b"
   ]
  },
  {
   "cell_type": "markdown",
   "id": "alien-kelly",
   "metadata": {},
   "source": [
    "## Boolean\n"
   ]
  },
  {
   "cell_type": "code",
   "execution_count": 9,
   "id": "frozen-business",
   "metadata": {},
   "outputs": [
    {
     "data": {
      "text/plain": [
       "False"
      ]
     },
     "execution_count": 9,
     "metadata": {},
     "output_type": "execute_result"
    }
   ],
   "source": [
    "a = True\n",
    "b = False\n",
    "\n",
    "b"
   ]
  },
  {
   "cell_type": "markdown",
   "id": "historical-haiti",
   "metadata": {},
   "source": [
    "## If Else"
   ]
  },
  {
   "cell_type": "code",
   "execution_count": 11,
   "id": "geographic-prize",
   "metadata": {},
   "outputs": [
    {
     "name": "stdout",
     "output_type": "stream",
     "text": [
      "Avi is awesome\n"
     ]
    }
   ],
   "source": [
    "good = True\n",
    "if good:\n",
    "    print(\"Avi is awesome\")\n",
    "else :\n",
    "    print (\"Avi is great\")"
   ]
  },
  {
   "cell_type": "code",
   "execution_count": 3,
   "id": "vocational-quilt",
   "metadata": {},
   "outputs": [
    {
     "name": "stdout",
     "output_type": "stream",
     "text": [
      "45\n",
      "12\n",
      "Both are greater than 10\n"
     ]
    }
   ],
   "source": [
    "x = int(input())\n",
    "y = int(input())\n",
    "\n",
    "if x>10 and y>10 :\n",
    "    print(\"Both are greater than 10\")\n",
    "else :\n",
    "    print(\"Both are not greater than 10\")"
   ]
  },
  {
   "cell_type": "markdown",
   "id": "cosmetic-collar",
   "metadata": {},
   "source": [
    "#### Reverse of a number"
   ]
  },
  {
   "cell_type": "code",
   "execution_count": 4,
   "id": "dying-washington",
   "metadata": {},
   "outputs": [
    {
     "name": "stdout",
     "output_type": "stream",
     "text": [
      "489\n",
      "984\n"
     ]
    }
   ],
   "source": [
    "x = int(input())\n",
    "\n",
    "ans = 0\n",
    "while x>0:\n",
    "    rev = x%10 \n",
    "    ans = (ans*10) + rev\n",
    "    x=x//10\n",
    "    \n",
    "print(ans)"
   ]
  },
  {
   "cell_type": "markdown",
   "id": "twelve-daughter",
   "metadata": {},
   "source": [
    "#### Pattern"
   ]
  },
  {
   "cell_type": "markdown",
   "id": "basic-characteristic",
   "metadata": {},
   "source": [
    "Print pattern like:-\n",
    "1\n",
    "21\n",
    "321\n",
    "4321\n",
    "54321"
   ]
  },
  {
   "cell_type": "code",
   "execution_count": 3,
   "id": "antique-restoration",
   "metadata": {},
   "outputs": [
    {
     "name": "stdout",
     "output_type": "stream",
     "text": [
      "5\n",
      "1\n",
      "21\n",
      "321\n",
      "4321\n",
      "54321\n"
     ]
    }
   ],
   "source": [
    "m = int(input())\n",
    "i=1\n",
    "while i<=m:\n",
    "    j=i\n",
    "    while j>=1:\n",
    "        print(j,end=\"\")\n",
    "        j-=1\n",
    "    i+=1\n",
    "    print()    "
   ]
  },
  {
   "cell_type": "markdown",
   "id": "binding-finder",
   "metadata": {},
   "source": [
    "Print pattern :-\n",
    "A\n",
    "BB\n",
    "CCC\n",
    "DDDD\n",
    "EEEEE\n",
    "FFFFFF"
   ]
  },
  {
   "cell_type": "code",
   "execution_count": 1,
   "id": "boolean-funds",
   "metadata": {},
   "outputs": [
    {
     "name": "stdout",
     "output_type": "stream",
     "text": [
      "5\n",
      "A\n",
      "BB\n",
      "CCC\n",
      "DDDD\n",
      "EEEEE\n"
     ]
    }
   ],
   "source": [
    "n = int(input())\n",
    "i =1\n",
    "while i<=n :\n",
    "    j=1\n",
    "    while j<=i :\n",
    "        print(chr(ord('A')-1+i),end='')\n",
    "        j+=1\n",
    "    i+=1\n",
    "    print()"
   ]
  },
  {
   "cell_type": "markdown",
   "id": "advance-chick",
   "metadata": {},
   "source": [
    "## For loop"
   ]
  },
  {
   "cell_type": "code",
   "execution_count": 5,
   "id": "partial-response",
   "metadata": {},
   "outputs": [
    {
     "name": "stdout",
     "output_type": "stream",
     "text": [
      "A\n",
      "v\n",
      "i\n",
      "n\n",
      "a\n",
      "s\n",
      "h\n"
     ]
    }
   ],
   "source": [
    "x = 'Avinash'\n",
    "for c in x:\n",
    "    print(c)"
   ]
  },
  {
   "cell_type": "code",
   "execution_count": 6,
   "id": "severe-embassy",
   "metadata": {},
   "outputs": [
    {
     "name": "stdout",
     "output_type": "stream",
     "text": [
      "3\n",
      "0\n",
      "1\n",
      "2\n",
      "3\n"
     ]
    }
   ],
   "source": [
    "n = int(input())\n",
    "# start , end, stride/step\n",
    "for x in range(0,n+1,1):\n",
    "    print(x)"
   ]
  },
  {
   "cell_type": "code",
   "execution_count": 8,
   "id": "scientific-findings",
   "metadata": {},
   "outputs": [
    {
     "name": "stdout",
     "output_type": "stream",
     "text": [
      "5\n",
      "0\n",
      "1\n",
      "2\n",
      "3\n",
      "4\n"
     ]
    }
   ],
   "source": [
    "n = int(input())\n",
    "# 0(by default) , end, 1(by default)\n",
    "for x in range(n):\n",
    "    print(x)"
   ]
  },
  {
   "cell_type": "code",
   "execution_count": 9,
   "id": "modular-malta",
   "metadata": {},
   "outputs": [
    {
     "name": "stdout",
     "output_type": "stream",
     "text": [
      "5\n",
      "0\n",
      "1\n",
      "2\n",
      "3\n",
      "4\n",
      "5\n"
     ]
    }
   ],
   "source": [
    "n = int(input())\n",
    "# start, end, 1(by default)\n",
    "for x in range(0,n+1):\n",
    "    print(x)"
   ]
  },
  {
   "cell_type": "code",
   "execution_count": 11,
   "id": "intense-parking",
   "metadata": {},
   "outputs": [
    {
     "name": "stdout",
     "output_type": "stream",
     "text": [
      "3\n",
      "9\n",
      "3\n",
      "6\n",
      "9\n"
     ]
    }
   ],
   "source": [
    "# print multiple of 3 from a to b        a<b\n",
    "a  = int(input()) \n",
    "b  = int(input())\n",
    "\n",
    "for x in range(a,b+1,3):\n",
    "    print(x)\n",
    "    \n",
    "# not a good solution\n"
   ]
  },
  {
   "cell_type": "code",
   "execution_count": 13,
   "id": "perfect-comparative",
   "metadata": {},
   "outputs": [
    {
     "name": "stdout",
     "output_type": "stream",
     "text": [
      "2\n",
      "10\n",
      "3\n",
      "6\n",
      "9\n"
     ]
    }
   ],
   "source": [
    "#one of the good solution\n",
    "a  = int(input()) \n",
    "b  = int(input())\n",
    "\n",
    "for x in range(a,b+1,1):\n",
    "    if x%3==0 :\n",
    "        print(x)\n",
    "        \n",
    "        \n",
    "# it runs loop  many times (b+1-a)"
   ]
  },
  {
   "cell_type": "code",
   "execution_count": 16,
   "id": "suburban-magic",
   "metadata": {},
   "outputs": [
    {
     "name": "stdout",
     "output_type": "stream",
     "text": [
      "1\n",
      "10\n",
      "3\n",
      "6\n",
      "9\n"
     ]
    }
   ],
   "source": [
    "# best solution\n",
    "a  = int(input()) \n",
    "b  = int(input())\n",
    "\n",
    "if a%3==0 :\n",
    "    a=a\n",
    "elif a%3==1 :\n",
    "    a=a+2\n",
    "else :\n",
    "    a=a+1\n",
    "\n",
    "for x in range(a,b+1,3):\n",
    "    print(x)"
   ]
  },
  {
   "cell_type": "code",
   "execution_count": 18,
   "id": "effective-andorra",
   "metadata": {},
   "outputs": [
    {
     "name": "stdout",
     "output_type": "stream",
     "text": [
      "5\n",
      "5 11 14 17 23 "
     ]
    }
   ],
   "source": [
    "#Write a program to print first x terms of the series 3N + 2 which are not multiples of 4.\n",
    "\n",
    "a = int(input())\n",
    "i=1;\n",
    "j=1\n",
    "while(j<=a):\n",
    "    y = 3*i+2\n",
    "    if y%4!=0:\n",
    "        print(y, end=\" \")\n",
    "        i=i+1\n",
    "        j=j+1\n",
    "    else:\n",
    "        i=i+1"
   ]
  },
  {
   "cell_type": "code",
   "execution_count": 21,
   "id": "taken-connection",
   "metadata": {},
   "outputs": [
    {
     "name": "stdout",
     "output_type": "stream",
     "text": [
      "5\n",
      "    1\n",
      "   232\n",
      "  34543\n",
      " 4567654\n",
      "567898765\n"
     ]
    }
   ],
   "source": [
    "# write pattern using for loop\n",
    "a = int(input())\n",
    "\n",
    "for i in range(1,n+1,1):\n",
    "    for j in range(1,n-i+1):\n",
    "        print(\" \", end=\"\")\n",
    "    x = i\n",
    "    for j in range(1,i+1):\n",
    "        print(x,end=\"\")\n",
    "        x+=1\n",
    "    x = x-2\n",
    "    for j in range(1,i):\n",
    "        print(x,end=\"\")\n",
    "        x-=1\n",
    "    print()\n",
    "    \n"
   ]
  },
  {
   "cell_type": "code",
   "execution_count": 22,
   "id": "knowing-samoa",
   "metadata": {},
   "outputs": [
    {
     "name": "stdout",
     "output_type": "stream",
     "text": [
      "1\n",
      "2\n",
      "3\n",
      "4\n",
      "5\n",
      "6\n",
      "7\n",
      "8\n",
      "9\n",
      "After while loop this will me there\n"
     ]
    }
   ],
   "source": [
    "i = 1\n",
    "while i<10 :\n",
    "    print(i)\n",
    "    i+=1\n",
    "    \n",
    "else:\n",
    "    print(\"After while loop this will me there\")"
   ]
  },
  {
   "cell_type": "code",
   "execution_count": 24,
   "id": "emerging-terminology",
   "metadata": {},
   "outputs": [
    {
     "name": "stdout",
     "output_type": "stream",
     "text": [
      "1\n",
      "2\n",
      "3\n",
      "4\n",
      "5\n",
      "After while loop this will be there\n"
     ]
    }
   ],
   "source": [
    "for i in range(1,6):\n",
    "    print(i)\n",
    "    i+=1\n",
    "    \n",
    "else:\n",
    "    print(\"After while loop this will be there\")"
   ]
  },
  {
   "cell_type": "code",
   "execution_count": 25,
   "id": "brown-nerve",
   "metadata": {},
   "outputs": [
    {
     "name": "stdout",
     "output_type": "stream",
     "text": [
      "1\n",
      "2\n",
      "3\n",
      "4\n"
     ]
    }
   ],
   "source": [
    "for i in range(1,10):\n",
    "    if i==5:\n",
    "        break\n",
    "    print(i)\n",
    "    i+=1\n",
    "    \n",
    "else:\n",
    "    print(\"After while loop this will be there\")"
   ]
  },
  {
   "cell_type": "markdown",
   "id": "outside-norfolk",
   "metadata": {},
   "source": [
    "In the above case else is not working because we are coming out of the loop with the help of break statement"
   ]
  },
  {
   "cell_type": "code",
   "execution_count": 28,
   "id": "familiar-alberta",
   "metadata": {},
   "outputs": [
    {
     "name": "stdout",
     "output_type": "stream",
     "text": [
      "13\n",
      "Is Prime\n"
     ]
    }
   ],
   "source": [
    "#prime number using else\n",
    "\n",
    "n = int(input())\n",
    "for d in range(2,n):\n",
    "    if n%d==0:\n",
    "        break\n",
    "else :\n",
    "    print(\"Is Prime\")"
   ]
  },
  {
   "cell_type": "code",
   "execution_count": 29,
   "id": "stuck-spyware",
   "metadata": {},
   "outputs": [
    {
     "name": "stdout",
     "output_type": "stream",
     "text": [
      "hey i will edit pass later\n"
     ]
    }
   ],
   "source": [
    "i = 15\n",
    "if i < 50 :\n",
    "    pass\n",
    "print(\"hey i will edit pass later\")"
   ]
  },
  {
   "cell_type": "code",
   "execution_count": 30,
   "id": "valid-commissioner",
   "metadata": {},
   "outputs": [
    {
     "name": "stdout",
     "output_type": "stream",
     "text": [
      "O yeah\n",
      "O yeah\n",
      "O yeah\n",
      "O yeah\n",
      "O yeah\n"
     ]
    }
   ],
   "source": [
    "i = 5\n",
    "while i<10:\n",
    "    i+=1;\n",
    "    print(\"O yeah\")\n",
    "    pass"
   ]
  },
  {
   "cell_type": "code",
   "execution_count": 6,
   "id": "czech-account",
   "metadata": {},
   "outputs": [
    {
     "name": "stdout",
     "output_type": "stream",
     "text": [
      "10\n",
      "10\n"
     ]
    }
   ],
   "source": [
    "a=1\n",
    "b=1\n",
    "ans =0\n",
    "n = int(input())\n",
    "c=0\n",
    "\n",
    "while c<=n :\n",
    "    c=a+b\n",
    "    if c<=n :\n",
    "        if c%2==0 :\n",
    "            ans += c\n",
    "    a=b\n",
    "    b=c\n",
    "print(ans)\n"
   ]
  },
  {
   "cell_type": "markdown",
   "id": "legislative-contents",
   "metadata": {},
   "source": [
    "## Strings"
   ]
  },
  {
   "cell_type": "code",
   "execution_count": 7,
   "id": "joined-report",
   "metadata": {},
   "outputs": [
    {
     "data": {
      "text/plain": [
       "(str, str, str)"
      ]
     },
     "execution_count": 7,
     "metadata": {},
     "output_type": "execute_result"
    }
   ],
   "source": [
    "a = \"hii i am blah blah blah\"\n",
    "b = 'hello , hello jii'\n",
    "c = 'A'\n",
    "#trying to make ka char data type in line c\n",
    "\n",
    "type(a), type(b), type(c)"
   ]
  },
  {
   "cell_type": "code",
   "execution_count": 8,
   "id": "twelve-indication",
   "metadata": {},
   "outputs": [
    {
     "data": {
      "text/plain": [
       "'i'"
      ]
     },
     "execution_count": 8,
     "metadata": {},
     "output_type": "execute_result"
    }
   ],
   "source": [
    "a[2]"
   ]
  },
  {
   "cell_type": "code",
   "execution_count": 9,
   "id": "small-volunteer",
   "metadata": {},
   "outputs": [
    {
     "data": {
      "text/plain": [
       "str"
      ]
     },
     "execution_count": 9,
     "metadata": {},
     "output_type": "execute_result"
    }
   ],
   "source": [
    "type(a[2])"
   ]
  },
  {
   "cell_type": "code",
   "execution_count": 10,
   "id": "great-fetish",
   "metadata": {},
   "outputs": [
    {
     "name": "stdout",
     "output_type": "stream",
     "text": [
      "h\n",
      "e\n",
      "l\n",
      "l\n",
      "o\n",
      " \n",
      "d\n",
      "a\n",
      "r\n"
     ]
    }
   ],
   "source": [
    "x = \"hello dar\"\n",
    "for i in x:\n",
    "    print(i)"
   ]
  },
  {
   "cell_type": "code",
   "execution_count": 11,
   "id": "flush-product",
   "metadata": {
    "scrolled": true
   },
   "outputs": [
    {
     "ename": "TypeError",
     "evalue": "'str' object does not support item assignment",
     "output_type": "error",
     "traceback": [
      "\u001b[1;31m---------------------------------------------------------------------------\u001b[0m",
      "\u001b[1;31mTypeError\u001b[0m                                 Traceback (most recent call last)",
      "\u001b[1;32m<ipython-input-11-21af86ef6254>\u001b[0m in \u001b[0;36m<module>\u001b[1;34m\u001b[0m\n\u001b[0;32m      1\u001b[0m \u001b[0ma\u001b[0m \u001b[1;33m=\u001b[0m \u001b[1;34m\"abhsg\"\u001b[0m\u001b[1;33m\u001b[0m\u001b[1;33m\u001b[0m\u001b[0m\n\u001b[1;32m----> 2\u001b[1;33m \u001b[0ma\u001b[0m\u001b[1;33m[\u001b[0m\u001b[1;36m2\u001b[0m\u001b[1;33m]\u001b[0m \u001b[1;33m=\u001b[0m \u001b[0mx\u001b[0m\u001b[1;33m\u001b[0m\u001b[1;33m\u001b[0m\u001b[0m\n\u001b[0m",
      "\u001b[1;31mTypeError\u001b[0m: 'str' object does not support item assignment"
     ]
    }
   ],
   "source": [
    "a = \"abhsg\"\n",
    "a[2] = x"
   ]
  },
  {
   "cell_type": "markdown",
   "id": "promising-mills",
   "metadata": {},
   "source": [
    "Remember String is immutable"
   ]
  },
  {
   "cell_type": "code",
   "execution_count": 12,
   "id": "stopped-samoa",
   "metadata": {},
   "outputs": [
    {
     "name": "stdout",
     "output_type": "stream",
     "text": [
      "this is avi's girlfriend\n",
      "Avi said \"Life is great\"\n"
     ]
    }
   ],
   "source": [
    "a = \"this is avi's girlfriend\"\n",
    "b = 'Avi said \"Life is great\"'\n",
    "print(a)\n",
    "print(b)"
   ]
  },
  {
   "cell_type": "code",
   "execution_count": 15,
   "id": "polyphonic-portland",
   "metadata": {},
   "outputs": [
    {
     "name": "stdout",
     "output_type": "stream",
     "text": [
      "this is avi's girlfriend\n",
      "Avi said \"Life is great\"\n",
      "this is avi's girlfriend and Avi said \"Life is great\"\n"
     ]
    }
   ],
   "source": [
    "a = 'this is avi\\'s girlfriend'\n",
    "b = \"Avi said \\\"Life is great\\\"\"\n",
    "print(a)\n",
    "print(b)\n",
    "c = 'this is avi\\'s girlfriend and Avi said \\\"Life is great\\\"'\n",
    "print(c)"
   ]
  },
  {
   "cell_type": "code",
   "execution_count": 16,
   "id": "danish-lottery",
   "metadata": {},
   "outputs": [
    {
     "data": {
      "text/plain": [
       "'this is avi\\'s girlfriendAvi said \"Life is great\"'"
      ]
     },
     "execution_count": 16,
     "metadata": {},
     "output_type": "execute_result"
    }
   ],
   "source": [
    "a+b"
   ]
  },
  {
   "cell_type": "code",
   "execution_count": 21,
   "id": "sophisticated-healthcare",
   "metadata": {},
   "outputs": [],
   "source": [
    "p = 'hey'\n",
    "q = 'Hey'\n",
    "# Uppercase  <  Lowercase"
   ]
  },
  {
   "cell_type": "code",
   "execution_count": 22,
   "id": "weird-editor",
   "metadata": {},
   "outputs": [
    {
     "data": {
      "text/plain": [
       "False"
      ]
     },
     "execution_count": 22,
     "metadata": {},
     "output_type": "execute_result"
    }
   ],
   "source": [
    "p==q"
   ]
  },
  {
   "cell_type": "code",
   "execution_count": 23,
   "id": "sonic-agenda",
   "metadata": {},
   "outputs": [
    {
     "data": {
      "text/plain": [
       "True"
      ]
     },
     "execution_count": 23,
     "metadata": {},
     "output_type": "execute_result"
    }
   ],
   "source": [
    "p>q"
   ]
  },
  {
   "cell_type": "code",
   "execution_count": 24,
   "id": "annoying-squad",
   "metadata": {
    "scrolled": true
   },
   "outputs": [
    {
     "data": {
      "text/plain": [
       "False"
      ]
     },
     "execution_count": 24,
     "metadata": {},
     "output_type": "execute_result"
    }
   ],
   "source": [
    "p<=q"
   ]
  },
  {
   "cell_type": "markdown",
   "id": "empty-electron",
   "metadata": {},
   "source": [
    "#### Split"
   ]
  },
  {
   "cell_type": "code",
   "execution_count": 26,
   "id": "recognized-marking",
   "metadata": {},
   "outputs": [
    {
     "data": {
      "text/plain": [
       "['Mera', 'dil', 'hai', 'aawara']"
      ]
     },
     "execution_count": 26,
     "metadata": {},
     "output_type": "execute_result"
    }
   ],
   "source": [
    "x = \"Mera dil hai aawara\"\n",
    "x.split()"
   ]
  },
  {
   "cell_type": "code",
   "execution_count": 27,
   "id": "conservative-organizer",
   "metadata": {},
   "outputs": [
    {
     "data": {
      "text/plain": [
       "['Mer', ' dil h', 'i ', '', 'w', 'r', '']"
      ]
     },
     "execution_count": 27,
     "metadata": {},
     "output_type": "execute_result"
    }
   ],
   "source": [
    "x.split('a')"
   ]
  },
  {
   "cell_type": "code",
   "execution_count": 28,
   "id": "signed-intelligence",
   "metadata": {},
   "outputs": [
    {
     "data": {
      "text/plain": [
       "'Mera dil hai aawara'"
      ]
     },
     "execution_count": 28,
     "metadata": {},
     "output_type": "execute_result"
    }
   ],
   "source": [
    "x"
   ]
  },
  {
   "cell_type": "markdown",
   "id": "sustained-gibraltar",
   "metadata": {},
   "source": [
    "#### Replace"
   ]
  },
  {
   "cell_type": "code",
   "execution_count": 30,
   "id": "impossible-deposit",
   "metadata": {},
   "outputs": [
    {
     "data": {
      "text/plain": [
       "'Mera dot dot dot hai aawara'"
      ]
     },
     "execution_count": 30,
     "metadata": {},
     "output_type": "execute_result"
    }
   ],
   "source": [
    "p = \"Mera dil hai aawara\"\n",
    "p.replace('dil',\"dot dot dot\")"
   ]
  },
  {
   "cell_type": "code",
   "execution_count": 31,
   "id": "prescription-extreme",
   "metadata": {},
   "outputs": [
    {
     "data": {
      "text/plain": [
       "'Mera dil hai aawara'"
      ]
     },
     "execution_count": 31,
     "metadata": {},
     "output_type": "execute_result"
    }
   ],
   "source": [
    "p"
   ]
  },
  {
   "cell_type": "code",
   "execution_count": 35,
   "id": "terminal-sequence",
   "metadata": {},
   "outputs": [
    {
     "data": {
      "text/plain": [
       "-1"
      ]
     },
     "execution_count": 35,
     "metadata": {},
     "output_type": "execute_result"
    }
   ],
   "source": [
    "# find\n",
    "p.find('dot')"
   ]
  },
  {
   "cell_type": "code",
   "execution_count": 36,
   "id": "defensive-hudson",
   "metadata": {},
   "outputs": [
    {
     "data": {
      "text/plain": [
       "5"
      ]
     },
     "execution_count": 36,
     "metadata": {},
     "output_type": "execute_result"
    }
   ],
   "source": [
    "p.find('dil')"
   ]
  },
  {
   "cell_type": "code",
   "execution_count": 37,
   "id": "embedded-collins",
   "metadata": {},
   "outputs": [
    {
     "data": {
      "text/plain": [
       "'MERA DIL HAI AAWARA'"
      ]
     },
     "execution_count": 37,
     "metadata": {},
     "output_type": "execute_result"
    }
   ],
   "source": [
    "p.upper()"
   ]
  },
  {
   "cell_type": "code",
   "execution_count": 38,
   "id": "useful-basketball",
   "metadata": {},
   "outputs": [
    {
     "data": {
      "text/plain": [
       "'mera dil hai aawara'"
      ]
     },
     "execution_count": 38,
     "metadata": {},
     "output_type": "execute_result"
    }
   ],
   "source": [
    "p.lower()"
   ]
  },
  {
   "cell_type": "code",
   "execution_count": 39,
   "id": "guilty-february",
   "metadata": {},
   "outputs": [
    {
     "data": {
      "text/plain": [
       "False"
      ]
     },
     "execution_count": 39,
     "metadata": {},
     "output_type": "execute_result"
    }
   ],
   "source": [
    "p.isupper()"
   ]
  },
  {
   "cell_type": "code",
   "execution_count": 41,
   "id": "healthy-placement",
   "metadata": {},
   "outputs": [
    {
     "data": {
      "text/plain": [
       "False"
      ]
     },
     "execution_count": 41,
     "metadata": {},
     "output_type": "execute_result"
    }
   ],
   "source": [
    "p.islower()"
   ]
  },
  {
   "cell_type": "code",
   "execution_count": 43,
   "id": "honey-renewal",
   "metadata": {},
   "outputs": [
    {
     "data": {
      "text/plain": [
       "True"
      ]
     },
     "execution_count": 43,
     "metadata": {},
     "output_type": "execute_result"
    }
   ],
   "source": [
    "p.startswith(\"Me\")"
   ]
  },
  {
   "cell_type": "code",
   "execution_count": 44,
   "id": "increasing-federal",
   "metadata": {},
   "outputs": [
    {
     "data": {
      "text/plain": [
       "False"
      ]
     },
     "execution_count": 44,
     "metadata": {},
     "output_type": "execute_result"
    }
   ],
   "source": [
    "p.endswith(\"exs\")"
   ]
  },
  {
   "cell_type": "code",
   "execution_count": 46,
   "id": "hourly-curve",
   "metadata": {},
   "outputs": [
    {
     "data": {
      "text/plain": [
       "False"
      ]
     },
     "execution_count": 46,
     "metadata": {},
     "output_type": "execute_result"
    }
   ],
   "source": [
    "p.isalpha()"
   ]
  },
  {
   "cell_type": "markdown",
   "id": "familiar-blogger",
   "metadata": {},
   "source": [
    "### Slicing"
   ]
  },
  {
   "cell_type": "code",
   "execution_count": 48,
   "id": "stunning-messenger",
   "metadata": {},
   "outputs": [
    {
     "data": {
      "text/plain": [
       "'i'"
      ]
     },
     "execution_count": 48,
     "metadata": {},
     "output_type": "execute_result"
    }
   ],
   "source": [
    "a = 'avinash'\n",
    "a[2]"
   ]
  },
  {
   "cell_type": "code",
   "execution_count": 49,
   "id": "accessory-clone",
   "metadata": {},
   "outputs": [
    {
     "data": {
      "text/plain": [
       "'nash'"
      ]
     },
     "execution_count": 49,
     "metadata": {},
     "output_type": "execute_result"
    }
   ],
   "source": [
    "a[3:]"
   ]
  },
  {
   "cell_type": "code",
   "execution_count": 50,
   "id": "involved-possibility",
   "metadata": {},
   "outputs": [
    {
     "data": {
      "text/plain": [
       "'avin'"
      ]
     },
     "execution_count": 50,
     "metadata": {},
     "output_type": "execute_result"
    }
   ],
   "source": [
    "a[:4]"
   ]
  },
  {
   "cell_type": "code",
   "execution_count": 52,
   "id": "alleged-tongue",
   "metadata": {},
   "outputs": [
    {
     "data": {
      "text/plain": [
       "'vin'"
      ]
     },
     "execution_count": 52,
     "metadata": {},
     "output_type": "execute_result"
    }
   ],
   "source": [
    "a[1:4]"
   ]
  },
  {
   "cell_type": "code",
   "execution_count": 53,
   "id": "economic-schema",
   "metadata": {},
   "outputs": [
    {
     "data": {
      "text/plain": [
       "'vn'"
      ]
     },
     "execution_count": 53,
     "metadata": {},
     "output_type": "execute_result"
    }
   ],
   "source": [
    "a[1:4:2]"
   ]
  },
  {
   "cell_type": "code",
   "execution_count": 54,
   "id": "subject-involvement",
   "metadata": {},
   "outputs": [
    {
     "data": {
      "text/plain": [
       "'avinash'"
      ]
     },
     "execution_count": 54,
     "metadata": {},
     "output_type": "execute_result"
    }
   ],
   "source": [
    "a[:]"
   ]
  },
  {
   "cell_type": "code",
   "execution_count": 55,
   "id": "stopped-garlic",
   "metadata": {},
   "outputs": [
    {
     "data": {
      "text/plain": [
       "'avinash'"
      ]
     },
     "execution_count": 55,
     "metadata": {},
     "output_type": "execute_result"
    }
   ],
   "source": [
    "a[::]"
   ]
  },
  {
   "cell_type": "code",
   "execution_count": 56,
   "id": "finite-residence",
   "metadata": {},
   "outputs": [
    {
     "data": {
      "text/plain": [
       "'hsaniva'"
      ]
     },
     "execution_count": 56,
     "metadata": {},
     "output_type": "execute_result"
    }
   ],
   "source": [
    "a[::-1]"
   ]
  },
  {
   "cell_type": "code",
   "execution_count": 57,
   "id": "ready-newfoundland",
   "metadata": {},
   "outputs": [
    {
     "data": {
      "text/plain": [
       "'hsani'"
      ]
     },
     "execution_count": 57,
     "metadata": {},
     "output_type": "execute_result"
    }
   ],
   "source": [
    "a[6:1:-1]"
   ]
  },
  {
   "cell_type": "code",
   "execution_count": 62,
   "id": "cutting-mustang",
   "metadata": {},
   "outputs": [
    {
     "data": {
      "text/plain": [
       "'cd'"
      ]
     },
     "execution_count": 62,
     "metadata": {},
     "output_type": "execute_result"
    }
   ],
   "source": [
    " \"abcd\"[2:]"
   ]
  },
  {
   "cell_type": "code",
   "execution_count": 63,
   "id": "suspected-internship",
   "metadata": {},
   "outputs": [
    {
     "name": "stdout",
     "output_type": "stream",
     "text": [
      "o\n"
     ]
    }
   ],
   "source": [
    "str1 = 'hello'\n",
    "print(str1[-1:])"
   ]
  },
  {
   "cell_type": "markdown",
   "id": "nasty-trash",
   "metadata": {},
   "source": [
    "-1 corresponds to the last index."
   ]
  },
  {
   "cell_type": "code",
   "execution_count": 64,
   "id": "skilled-overview",
   "metadata": {},
   "outputs": [
    {
     "data": {
      "text/plain": [
       "'o'"
      ]
     },
     "execution_count": 64,
     "metadata": {},
     "output_type": "execute_result"
    }
   ],
   "source": [
    "str1[-1]"
   ]
  },
  {
   "cell_type": "code",
   "execution_count": 65,
   "id": "curious-tablet",
   "metadata": {},
   "outputs": [
    {
     "data": {
      "text/plain": [
       "'gh'"
      ]
     },
     "execution_count": 65,
     "metadata": {},
     "output_type": "execute_result"
    }
   ],
   "source": [
    "s = \"abcdefghi\"\n",
    "s[-3:-1]"
   ]
  },
  {
   "cell_type": "code",
   "execution_count": 60,
   "id": "nasty-fruit",
   "metadata": {},
   "outputs": [
    {
     "name": "stdout",
     "output_type": "stream",
     "text": [
      "avixer\n"
     ]
    },
    {
     "data": {
      "text/plain": [
       "'aviyer'"
      ]
     },
     "execution_count": 60,
     "metadata": {},
     "output_type": "execute_result"
    }
   ],
   "source": [
    "# replace character without using replace function\n",
    "# replace 1st occurance\n",
    "\n",
    "s = input()\n",
    "a = 'x'\n",
    "b = 'y'\n",
    "p = s.find(a)\n",
    "ans = s\n",
    "if p!=-1 :\n",
    "    ans = s[:p] + b + s[p+1:]\n",
    "ans"
   ]
  },
  {
   "cell_type": "code",
   "execution_count": 61,
   "id": "recovered-apple",
   "metadata": {},
   "outputs": [
    {
     "name": "stdout",
     "output_type": "stream",
     "text": [
      "avixadsxfaxdaex\n"
     ]
    },
    {
     "data": {
      "text/plain": [
       "'aviyadsyfaydaey'"
      ]
     },
     "execution_count": 61,
     "metadata": {},
     "output_type": "execute_result"
    }
   ],
   "source": [
    "# replace all occurance\n",
    "s = input()\n",
    "a = 'x'\n",
    "b = 'y'\n",
    "ans = s\n",
    "# everything shuld be done in answer\n",
    "for i in range(0,len(ans)):\n",
    "    if(ans[i] == a):\n",
    "        ans = ans[:i] + b + ans[i+1:]\n",
    "ans"
   ]
  },
  {
   "cell_type": "markdown",
   "id": "naval-participation",
   "metadata": {},
   "source": [
    "## List"
   ]
  },
  {
   "cell_type": "code",
   "execution_count": 1,
   "id": "comfortable-editor",
   "metadata": {},
   "outputs": [],
   "source": [
    "a = [1,2,3]"
   ]
  },
  {
   "cell_type": "code",
   "execution_count": 2,
   "id": "stretch-volleyball",
   "metadata": {},
   "outputs": [
    {
     "data": {
      "text/plain": [
       "list"
      ]
     },
     "execution_count": 2,
     "metadata": {},
     "output_type": "execute_result"
    }
   ],
   "source": [
    "type(a)"
   ]
  },
  {
   "cell_type": "code",
   "execution_count": 3,
   "id": "daily-station",
   "metadata": {},
   "outputs": [],
   "source": [
    "a = [1,2,\"avinash\", 4.56,True]"
   ]
  },
  {
   "cell_type": "code",
   "execution_count": 4,
   "id": "alive-narrative",
   "metadata": {},
   "outputs": [
    {
     "data": {
      "text/plain": [
       "1"
      ]
     },
     "execution_count": 4,
     "metadata": {},
     "output_type": "execute_result"
    }
   ],
   "source": [
    "a[0]"
   ]
  },
  {
   "cell_type": "code",
   "execution_count": 5,
   "id": "usual-screen",
   "metadata": {},
   "outputs": [
    {
     "data": {
      "text/plain": [
       "'avinash'"
      ]
     },
     "execution_count": 5,
     "metadata": {},
     "output_type": "execute_result"
    }
   ],
   "source": [
    "a[2]"
   ]
  },
  {
   "cell_type": "code",
   "execution_count": 8,
   "id": "documentary-yugoslavia",
   "metadata": {},
   "outputs": [
    {
     "data": {
      "text/plain": [
       "True"
      ]
     },
     "execution_count": 8,
     "metadata": {},
     "output_type": "execute_result"
    }
   ],
   "source": [
    "a[4]"
   ]
  },
  {
   "cell_type": "code",
   "execution_count": 9,
   "id": "mysterious-community",
   "metadata": {},
   "outputs": [],
   "source": [
    "a[0] = [1,2,3]"
   ]
  },
  {
   "cell_type": "code",
   "execution_count": 10,
   "id": "expensive-independence",
   "metadata": {},
   "outputs": [
    {
     "data": {
      "text/plain": [
       "[[1, 2, 3], 2, 'avinash', 4.56, True]"
      ]
     },
     "execution_count": 10,
     "metadata": {},
     "output_type": "execute_result"
    }
   ],
   "source": [
    "a"
   ]
  },
  {
   "cell_type": "code",
   "execution_count": 11,
   "id": "manufactured-discipline",
   "metadata": {},
   "outputs": [],
   "source": [
    "b = [0 for i in range(10)]"
   ]
  },
  {
   "cell_type": "code",
   "execution_count": 12,
   "id": "czech-charles",
   "metadata": {},
   "outputs": [
    {
     "data": {
      "text/plain": [
       "[0, 0, 0, 0, 0, 0, 0, 0, 0, 0]"
      ]
     },
     "execution_count": 12,
     "metadata": {},
     "output_type": "execute_result"
    }
   ],
   "source": [
    "b"
   ]
  },
  {
   "cell_type": "code",
   "execution_count": 13,
   "id": "equivalent-hostel",
   "metadata": {},
   "outputs": [],
   "source": [
    "b = [i for i in range(10)]"
   ]
  },
  {
   "cell_type": "code",
   "execution_count": 14,
   "id": "opposed-lithuania",
   "metadata": {},
   "outputs": [
    {
     "data": {
      "text/plain": [
       "[0, 1, 2, 3, 4, 5, 6, 7, 8, 9]"
      ]
     },
     "execution_count": 14,
     "metadata": {},
     "output_type": "execute_result"
    }
   ],
   "source": [
    "b"
   ]
  },
  {
   "cell_type": "code",
   "execution_count": 15,
   "id": "excess-dictionary",
   "metadata": {},
   "outputs": [],
   "source": [
    "b = [i*i for i in range(10)]"
   ]
  },
  {
   "cell_type": "code",
   "execution_count": 16,
   "id": "identified-procedure",
   "metadata": {},
   "outputs": [
    {
     "data": {
      "text/plain": [
       "[0, 1, 4, 9, 16, 25, 36, 49, 64, 81]"
      ]
     },
     "execution_count": 16,
     "metadata": {},
     "output_type": "execute_result"
    }
   ],
   "source": [
    "b"
   ]
  },
  {
   "cell_type": "code",
   "execution_count": 22,
   "id": "pressed-wealth",
   "metadata": {},
   "outputs": [],
   "source": [
    "x = list('hello')"
   ]
  },
  {
   "cell_type": "code",
   "execution_count": 23,
   "id": "armed-radio",
   "metadata": {},
   "outputs": [
    {
     "data": {
      "text/plain": [
       "['h', 'e', 'l', 'l', 'o']"
      ]
     },
     "execution_count": 23,
     "metadata": {},
     "output_type": "execute_result"
    }
   ],
   "source": [
    "x"
   ]
  },
  {
   "cell_type": "code",
   "execution_count": 24,
   "id": "prompt-copper",
   "metadata": {},
   "outputs": [
    {
     "data": {
      "text/plain": [
       "5"
      ]
     },
     "execution_count": 24,
     "metadata": {},
     "output_type": "execute_result"
    }
   ],
   "source": [
    "len(x)"
   ]
  },
  {
   "cell_type": "code",
   "execution_count": 25,
   "id": "czech-lancaster",
   "metadata": {},
   "outputs": [
    {
     "data": {
      "text/plain": [
       "[[1, 2, 3], 2, 'avinash', 4.56, True, 'h', 'e', 'l', 'l', 'o']"
      ]
     },
     "execution_count": 25,
     "metadata": {},
     "output_type": "execute_result"
    }
   ],
   "source": [
    "a+x"
   ]
  },
  {
   "cell_type": "code",
   "execution_count": 26,
   "id": "german-communication",
   "metadata": {},
   "outputs": [
    {
     "data": {
      "text/plain": [
       "['h', 'e', 'l', 'l', 'o', [1, 2, 3], 2, 'avinash', 4.56, True]"
      ]
     },
     "execution_count": 26,
     "metadata": {},
     "output_type": "execute_result"
    }
   ],
   "source": [
    "x+a"
   ]
  },
  {
   "cell_type": "code",
   "execution_count": 27,
   "id": "solved-damages",
   "metadata": {},
   "outputs": [
    {
     "data": {
      "text/plain": [
       "[[1, 2, 3], 2, 'avinash', 4.56, True]"
      ]
     },
     "execution_count": 27,
     "metadata": {},
     "output_type": "execute_result"
    }
   ],
   "source": [
    "a "
   ]
  },
  {
   "cell_type": "code",
   "execution_count": 31,
   "id": "conceptual-crest",
   "metadata": {},
   "outputs": [
    {
     "data": {
      "text/plain": [
       "['h', 'e', 'l', 'l', 'o']"
      ]
     },
     "execution_count": 31,
     "metadata": {},
     "output_type": "execute_result"
    }
   ],
   "source": [
    "x"
   ]
  },
  {
   "cell_type": "code",
   "execution_count": 32,
   "id": "connected-freight",
   "metadata": {},
   "outputs": [
    {
     "data": {
      "text/plain": [
       "['h', 'e', 'l', 'l', 'o', 'h', 'e', 'l', 'l', 'o', 'h', 'e', 'l', 'l', 'o']"
      ]
     },
     "execution_count": 32,
     "metadata": {},
     "output_type": "execute_result"
    }
   ],
   "source": [
    "x*3"
   ]
  },
  {
   "cell_type": "code",
   "execution_count": 56,
   "id": "distinct-diary",
   "metadata": {},
   "outputs": [],
   "source": [
    "a = [1,2,3]"
   ]
  },
  {
   "cell_type": "code",
   "execution_count": 57,
   "id": "absent-purse",
   "metadata": {},
   "outputs": [],
   "source": [
    "a.append(6)"
   ]
  },
  {
   "cell_type": "code",
   "execution_count": 58,
   "id": "patent-august",
   "metadata": {},
   "outputs": [
    {
     "data": {
      "text/plain": [
       "[1, 2, 3, 6]"
      ]
     },
     "execution_count": 58,
     "metadata": {},
     "output_type": "execute_result"
    }
   ],
   "source": [
    "a"
   ]
  },
  {
   "cell_type": "code",
   "execution_count": 59,
   "id": "noted-hollow",
   "metadata": {},
   "outputs": [],
   "source": [
    "a.insert(1,'avi')"
   ]
  },
  {
   "cell_type": "code",
   "execution_count": 60,
   "id": "descending-secondary",
   "metadata": {},
   "outputs": [
    {
     "data": {
      "text/plain": [
       "[1, 'avi', 2, 3, 6]"
      ]
     },
     "execution_count": 60,
     "metadata": {},
     "output_type": "execute_result"
    }
   ],
   "source": [
    "a"
   ]
  },
  {
   "cell_type": "code",
   "execution_count": 61,
   "id": "technological-guatemala",
   "metadata": {},
   "outputs": [],
   "source": [
    "b= list(\"sam\")"
   ]
  },
  {
   "cell_type": "code",
   "execution_count": 62,
   "id": "acute-values",
   "metadata": {},
   "outputs": [
    {
     "data": {
      "text/plain": [
       "['s', 'a', 'm']"
      ]
     },
     "execution_count": 62,
     "metadata": {},
     "output_type": "execute_result"
    }
   ],
   "source": [
    "b"
   ]
  },
  {
   "cell_type": "code",
   "execution_count": 63,
   "id": "orange-debut",
   "metadata": {},
   "outputs": [],
   "source": [
    "a.extend(b)\n",
    "#actually changed a"
   ]
  },
  {
   "cell_type": "code",
   "execution_count": 64,
   "id": "above-corpus",
   "metadata": {},
   "outputs": [
    {
     "data": {
      "text/plain": [
       "[1, 'avi', 2, 3, 6, 's', 'a', 'm']"
      ]
     },
     "execution_count": 64,
     "metadata": {},
     "output_type": "execute_result"
    }
   ],
   "source": [
    "a"
   ]
  },
  {
   "cell_type": "code",
   "execution_count": 65,
   "id": "julian-macintosh",
   "metadata": {},
   "outputs": [],
   "source": [
    "a.remove('a')\n",
    "# when you want to remove particular element"
   ]
  },
  {
   "cell_type": "code",
   "execution_count": 66,
   "id": "suitable-crest",
   "metadata": {},
   "outputs": [
    {
     "data": {
      "text/plain": [
       "[1, 'avi', 2, 3, 6, 's', 'm']"
      ]
     },
     "execution_count": 66,
     "metadata": {},
     "output_type": "execute_result"
    }
   ],
   "source": [
    "a"
   ]
  },
  {
   "cell_type": "code",
   "execution_count": 68,
   "id": "unlimited-placement",
   "metadata": {},
   "outputs": [],
   "source": [
    "py = [1,2,6,2,4,2]"
   ]
  },
  {
   "cell_type": "code",
   "execution_count": 70,
   "id": "crucial-luxury",
   "metadata": {},
   "outputs": [],
   "source": [
    "# remove 1st occurance\n",
    "py.remove(2)"
   ]
  },
  {
   "cell_type": "code",
   "execution_count": 71,
   "id": "challenging-fortune",
   "metadata": {},
   "outputs": [
    {
     "data": {
      "text/plain": [
       "[1, 6, 2, 4, 2]"
      ]
     },
     "execution_count": 71,
     "metadata": {},
     "output_type": "execute_result"
    }
   ],
   "source": [
    "py"
   ]
  },
  {
   "cell_type": "code",
   "execution_count": 72,
   "id": "important-visibility",
   "metadata": {},
   "outputs": [
    {
     "data": {
      "text/plain": [
       "2"
      ]
     },
     "execution_count": 72,
     "metadata": {},
     "output_type": "execute_result"
    }
   ],
   "source": [
    "# when you want to remove from particular index\n",
    "py.pop(2)"
   ]
  },
  {
   "cell_type": "code",
   "execution_count": 74,
   "id": "macro-startup",
   "metadata": {},
   "outputs": [
    {
     "data": {
      "text/plain": [
       "[1, 6, 4, 2]"
      ]
     },
     "execution_count": 74,
     "metadata": {},
     "output_type": "execute_result"
    }
   ],
   "source": [
    "py"
   ]
  },
  {
   "cell_type": "code",
   "execution_count": 75,
   "id": "bigger-reservoir",
   "metadata": {},
   "outputs": [],
   "source": [
    "del py[2]"
   ]
  },
  {
   "cell_type": "code",
   "execution_count": 76,
   "id": "phantom-occupation",
   "metadata": {},
   "outputs": [
    {
     "data": {
      "text/plain": [
       "[1, 6, 2]"
      ]
     },
     "execution_count": 76,
     "metadata": {},
     "output_type": "execute_result"
    }
   ],
   "source": [
    "py"
   ]
  },
  {
   "cell_type": "code",
   "execution_count": 77,
   "id": "conditional-paste",
   "metadata": {},
   "outputs": [],
   "source": [
    "py.sort()"
   ]
  },
  {
   "cell_type": "code",
   "execution_count": 78,
   "id": "weighted-reporter",
   "metadata": {},
   "outputs": [
    {
     "data": {
      "text/plain": [
       "[1, 2, 6]"
      ]
     },
     "execution_count": 78,
     "metadata": {},
     "output_type": "execute_result"
    }
   ],
   "source": [
    "py"
   ]
  },
  {
   "cell_type": "code",
   "execution_count": 80,
   "id": "aggregate-acrobat",
   "metadata": {},
   "outputs": [],
   "source": [
    "rip = list(\"aswathama\")"
   ]
  },
  {
   "cell_type": "code",
   "execution_count": 81,
   "id": "after-model",
   "metadata": {},
   "outputs": [],
   "source": [
    "rip.sort()"
   ]
  },
  {
   "cell_type": "code",
   "execution_count": 82,
   "id": "statutory-acquisition",
   "metadata": {},
   "outputs": [
    {
     "data": {
      "text/plain": [
       "['a', 'a', 'a', 'a', 'h', 'm', 's', 't', 'w']"
      ]
     },
     "execution_count": 82,
     "metadata": {},
     "output_type": "execute_result"
    }
   ],
   "source": [
    "rip"
   ]
  },
  {
   "cell_type": "code",
   "execution_count": 83,
   "id": "signal-condition",
   "metadata": {},
   "outputs": [
    {
     "data": {
      "text/plain": [
       "'w'"
      ]
     },
     "execution_count": 83,
     "metadata": {},
     "output_type": "execute_result"
    }
   ],
   "source": [
    "rip.pop()"
   ]
  },
  {
   "cell_type": "code",
   "execution_count": 84,
   "id": "minus-patent",
   "metadata": {},
   "outputs": [
    {
     "data": {
      "text/plain": [
       "'a'"
      ]
     },
     "execution_count": 84,
     "metadata": {},
     "output_type": "execute_result"
    }
   ],
   "source": [
    "rip.pop(2)"
   ]
  },
  {
   "cell_type": "code",
   "execution_count": 85,
   "id": "conditional-hypothesis",
   "metadata": {},
   "outputs": [],
   "source": [
    " rip.append(4)"
   ]
  },
  {
   "cell_type": "code",
   "execution_count": 88,
   "id": "diverse-congress",
   "metadata": {},
   "outputs": [
    {
     "data": {
      "text/plain": [
       "['a', 'a', 'a', 'h', 'm', 's', 't', 4]"
      ]
     },
     "execution_count": 88,
     "metadata": {},
     "output_type": "execute_result"
    }
   ],
   "source": [
    "rip"
   ]
  },
  {
   "cell_type": "code",
   "execution_count": 89,
   "id": "naked-beverage",
   "metadata": {},
   "outputs": [
    {
     "ename": "TypeError",
     "evalue": "'<' not supported between instances of 'int' and 'str'",
     "output_type": "error",
     "traceback": [
      "\u001b[1;31m---------------------------------------------------------------------------\u001b[0m",
      "\u001b[1;31mTypeError\u001b[0m                                 Traceback (most recent call last)",
      "\u001b[1;32m<ipython-input-89-b072947976c6>\u001b[0m in \u001b[0;36m<module>\u001b[1;34m\u001b[0m\n\u001b[1;32m----> 1\u001b[1;33m \u001b[0mrip\u001b[0m\u001b[1;33m.\u001b[0m\u001b[0msort\u001b[0m\u001b[1;33m(\u001b[0m\u001b[1;33m)\u001b[0m\u001b[1;33m\u001b[0m\u001b[1;33m\u001b[0m\u001b[0m\n\u001b[0m",
      "\u001b[1;31mTypeError\u001b[0m: '<' not supported between instances of 'int' and 'str'"
     ]
    }
   ],
   "source": [
    "rip.sort()"
   ]
  },
  {
   "cell_type": "code",
   "execution_count": 91,
   "id": "northern-compensation",
   "metadata": {},
   "outputs": [
    {
     "data": {
      "text/plain": [
       "4"
      ]
     },
     "execution_count": 91,
     "metadata": {},
     "output_type": "execute_result"
    }
   ],
   "source": [
    "rip.index('m')"
   ]
  },
  {
   "cell_type": "markdown",
   "id": "minimal-optics",
   "metadata": {},
   "source": [
    "#### Print"
   ]
  },
  {
   "cell_type": "code",
   "execution_count": 1,
   "id": "conscious-pressure",
   "metadata": {},
   "outputs": [],
   "source": [
    "a = [4,5,3,1,9,7,6,2]"
   ]
  },
  {
   "cell_type": "code",
   "execution_count": 2,
   "id": "popular-religion",
   "metadata": {},
   "outputs": [
    {
     "name": "stdout",
     "output_type": "stream",
     "text": [
      "4\n",
      "5\n",
      "3\n",
      "1\n",
      "9\n",
      "7\n",
      "6\n",
      "2\n"
     ]
    }
   ],
   "source": [
    "for i in a :\n",
    "    print(i)"
   ]
  },
  {
   "cell_type": "markdown",
   "id": "funky-roberts",
   "metadata": {},
   "source": [
    "### Take Input"
   ]
  },
  {
   "cell_type": "code",
   "execution_count": 3,
   "id": "smart-hearing",
   "metadata": {},
   "outputs": [
    {
     "name": "stdout",
     "output_type": "stream",
     "text": [
      "5\n",
      "1\n",
      "2\n",
      "3\n",
      "5\n",
      "6\n"
     ]
    }
   ],
   "source": [
    "# Method 1\n",
    "a = []\n",
    "size = int(input())\n",
    "for i in range(size):\n",
    "    x = int(input())\n",
    "    a.append(x)"
   ]
  },
  {
   "cell_type": "code",
   "execution_count": 5,
   "id": "convinced-intake",
   "metadata": {},
   "outputs": [
    {
     "data": {
      "text/plain": [
       "[1, 2, 3, 5, 6]"
      ]
     },
     "execution_count": 5,
     "metadata": {},
     "output_type": "execute_result"
    }
   ],
   "source": [
    "a"
   ]
  },
  {
   "cell_type": "code",
   "execution_count": 10,
   "id": "accompanied-warren",
   "metadata": {},
   "outputs": [
    {
     "name": "stdout",
     "output_type": "stream",
     "text": [
      "4 2 5 6 1 7 8\n"
     ]
    },
    {
     "data": {
      "text/plain": [
       "[4, 2, 5, 6, 1, 7, 8]"
      ]
     },
     "execution_count": 10,
     "metadata": {},
     "output_type": "execute_result"
    }
   ],
   "source": [
    "# Method 2\n",
    "\n",
    "# String Input\n",
    "line = input()\n",
    "\n",
    "# Split into string list\n",
    "c = line.split()\n",
    "\n",
    "a = []\n",
    "# Convert into int\n",
    "for s in c :\n",
    "    x = int(s)\n",
    "    a.append(x)\n",
    "a"
   ]
  },
  {
   "cell_type": "code",
   "execution_count": 13,
   "id": "several-bulgarian",
   "metadata": {},
   "outputs": [
    {
     "name": "stdout",
     "output_type": "stream",
     "text": [
      "4 2 1 9 7 6 8\n"
     ]
    },
    {
     "data": {
      "text/plain": [
       "[4, 2, 1, 9, 7, 6, 8]"
      ]
     },
     "execution_count": 13,
     "metadata": {},
     "output_type": "execute_result"
    }
   ],
   "source": [
    "# Method 2 (another way)\n",
    "\n",
    "c = input().split()\n",
    "a = [int(s) for s in c]\n",
    "a"
   ]
  },
  {
   "cell_type": "code",
   "execution_count": 16,
   "id": "voluntary-burns",
   "metadata": {},
   "outputs": [
    {
     "name": "stdout",
     "output_type": "stream",
     "text": [
      "4 1 2 5 6 3\n"
     ]
    },
    {
     "data": {
      "text/plain": [
       "[4, 1, 2, 5, 6, 3]"
      ]
     },
     "execution_count": 16,
     "metadata": {},
     "output_type": "execute_result"
    }
   ],
   "source": [
    "# Method 2 (another way as above)\n",
    "\n",
    "a = [int(s) for s in input().split()]\n",
    "a"
   ]
  },
  {
   "cell_type": "code",
   "execution_count": 17,
   "id": "interested-intellectual",
   "metadata": {},
   "outputs": [
    {
     "name": "stdout",
     "output_type": "stream",
     "text": [
      "5\n",
      "4 5 2 3 15 4\n"
     ]
    },
    {
     "data": {
      "text/plain": [
       "[4, 5, 2, 3, 15, 4]"
      ]
     },
     "execution_count": 17,
     "metadata": {},
     "output_type": "execute_result"
    }
   ],
   "source": [
    "# Method 3 (same as above)\n",
    "size = int(input())\n",
    "a = [int(s) for s in input().split()]\n",
    "a"
   ]
  },
  {
   "cell_type": "code",
   "execution_count": 20,
   "id": "sensitive-skating",
   "metadata": {},
   "outputs": [
    {
     "name": "stdout",
     "output_type": "stream",
     "text": [
      "5 1 2 4 5 6 \n"
     ]
    },
    {
     "data": {
      "text/plain": [
       "[1, 2, 4, 5, 6]"
      ]
     },
     "execution_count": 20,
     "metadata": {},
     "output_type": "execute_result"
    }
   ],
   "source": [
    "a = input()\n",
    "a = a[2:]\n",
    "c = a.split()\n",
    "x = [int(s) for s in c]\n",
    "x"
   ]
  },
  {
   "cell_type": "code",
   "execution_count": 21,
   "id": "chronic-invite",
   "metadata": {},
   "outputs": [
    {
     "name": "stdout",
     "output_type": "stream",
     "text": [
      "4 1 9 7 5 2 45 1 2 78 63\n"
     ]
    },
    {
     "data": {
      "text/plain": [
       "-45"
      ]
     },
     "execution_count": 21,
     "metadata": {},
     "output_type": "execute_result"
    }
   ],
   "source": [
    "# Difference of Even Odd\n",
    "a = [int(s) for s in input().split()]\n",
    "evensum = 0\n",
    "oddsum = 0\n",
    "for i in a:\n",
    "    if i%2==0 :\n",
    "        evensum+=i\n",
    "    else :\n",
    "        oddsum += i\n",
    "difference = evensum - oddsum\n",
    "difference"
   ]
  },
  {
   "cell_type": "code",
   "execution_count": 13,
   "id": "express-corner",
   "metadata": {},
   "outputs": [],
   "source": [
    "a = [1,45,2,4,65,47,4,25,34,'abcf',753]"
   ]
  },
  {
   "cell_type": "code",
   "execution_count": 15,
   "id": "assumed-promotion",
   "metadata": {},
   "outputs": [
    {
     "data": {
      "text/plain": [
       "[1, 45, 2, 4, 65]"
      ]
     },
     "execution_count": 15,
     "metadata": {},
     "output_type": "execute_result"
    }
   ],
   "source": [
    "a[:5]"
   ]
  },
  {
   "cell_type": "code",
   "execution_count": 16,
   "id": "beginning-momentum",
   "metadata": {},
   "outputs": [
    {
     "data": {
      "text/plain": [
       "[4, 65, 47, 4]"
      ]
     },
     "execution_count": 16,
     "metadata": {},
     "output_type": "execute_result"
    }
   ],
   "source": [
    "a[3:7]"
   ]
  },
  {
   "cell_type": "code",
   "execution_count": 19,
   "id": "unexpected-campbell",
   "metadata": {},
   "outputs": [
    {
     "data": {
      "text/plain": [
       "['abcf', 34, 25, 4, 47]"
      ]
     },
     "execution_count": 19,
     "metadata": {},
     "output_type": "execute_result"
    }
   ],
   "source": [
    "a[9:4:-1]"
   ]
  },
  {
   "cell_type": "code",
   "execution_count": 20,
   "id": "undefined-singing",
   "metadata": {},
   "outputs": [
    {
     "data": {
      "text/plain": [
       "[753, 'abcf', 34, 25, 4, 47]"
      ]
     },
     "execution_count": 20,
     "metadata": {},
     "output_type": "execute_result"
    }
   ],
   "source": [
    "a[:4:-1]"
   ]
  },
  {
   "cell_type": "markdown",
   "id": "welsh-guidance",
   "metadata": {},
   "source": [
    " ### MultiDimensional List"
   ]
  },
  {
   "cell_type": "code",
   "execution_count": 21,
   "id": "massive-proportion",
   "metadata": {},
   "outputs": [],
   "source": [
    "a = [[1,2,3,4],[4,5,6,7]]"
   ]
  },
  {
   "cell_type": "code",
   "execution_count": 22,
   "id": "emotional-industry",
   "metadata": {},
   "outputs": [
    {
     "data": {
      "text/plain": [
       "[[1, 2, 3, 4], [4, 5, 6, 7]]"
      ]
     },
     "execution_count": 22,
     "metadata": {},
     "output_type": "execute_result"
    }
   ],
   "source": [
    "a"
   ]
  },
  {
   "cell_type": "code",
   "execution_count": 23,
   "id": "affiliated-heritage",
   "metadata": {},
   "outputs": [
    {
     "data": {
      "text/plain": [
       "[4, 5, 6, 7]"
      ]
     },
     "execution_count": 23,
     "metadata": {},
     "output_type": "execute_result"
    }
   ],
   "source": [
    "a[1]"
   ]
  },
  {
   "cell_type": "code",
   "execution_count": 24,
   "id": "consistent-ladder",
   "metadata": {},
   "outputs": [
    {
     "data": {
      "text/plain": [
       "6"
      ]
     },
     "execution_count": 24,
     "metadata": {},
     "output_type": "execute_result"
    }
   ],
   "source": [
    "a[1][2]"
   ]
  },
  {
   "cell_type": "code",
   "execution_count": 31,
   "id": "acceptable-terrorism",
   "metadata": {},
   "outputs": [
    {
     "name": "stdout",
     "output_type": "stream",
     "text": [
      "3 4\n",
      "1 5 9 7 \n",
      "4 5 3 4\n",
      "1 2 4 8\n"
     ]
    },
    {
     "data": {
      "text/plain": [
       "[[1, 5, 9, 7], [4, 5, 3, 4], [1, 2, 4, 8]]"
      ]
     },
     "execution_count": 31,
     "metadata": {},
     "output_type": "execute_result"
    }
   ],
   "source": [
    "# Take input method one\n",
    "# Row wise input in each line\n",
    "sizes = input().split()\n",
    "m = int(sizes[0])\n",
    "n = int(sizes[1])\n",
    "l = []\n",
    "for i in range(m):\n",
    "    next_row = [int(i) for i in input().split()]\n",
    "    l.append(next_row)\n",
    "l"
   ]
  },
  {
   "cell_type": "code",
   "execution_count": 1,
   "id": "fatty-tension",
   "metadata": {},
   "outputs": [
    {
     "name": "stdout",
     "output_type": "stream",
     "text": [
      "2 3\n",
      "1\n",
      "2\n",
      "5\n",
      "5\n",
      "5\n",
      "4\n"
     ]
    },
    {
     "data": {
      "text/plain": [
       "[[1, 2, 5], [5, 5, 4]]"
      ]
     },
     "execution_count": 1,
     "metadata": {},
     "output_type": "execute_result"
    }
   ],
   "source": [
    "# Take input method two\n",
    "# Each entry in different line\n",
    "sizes = input().split()\n",
    "m = int(sizes[0])\n",
    "n = int(sizes[1])\n",
    "l = []\n",
    "for i in range(m):\n",
    "    next_row = []\n",
    "    for j in range(n):\n",
    "        x = int(input())\n",
    "        next_row.append(x)\n",
    "    l.append(next_row)\n",
    "l"
   ]
  },
  {
   "cell_type": "code",
   "execution_count": 2,
   "id": "later-poland",
   "metadata": {},
   "outputs": [
    {
     "name": "stdout",
     "output_type": "stream",
     "text": [
      "4 5\n",
      "1 4 2 6 5 4 1 2 6 4 5 1 2 3 6 4 4 1 2 3 6 4 5 1 2 3 \n"
     ]
    },
    {
     "data": {
      "text/plain": [
       "[[1, 4, 2, 6, 5], [4, 1, 2, 6, 4], [5, 1, 2, 3, 6], [4, 4, 1, 2, 3]]"
      ]
     },
     "execution_count": 2,
     "metadata": {},
     "output_type": "execute_result"
    }
   ],
   "source": [
    "sizes = input().split()\n",
    "m = int(sizes[0])\n",
    "n = int(sizes[1])\n",
    "l = []\n",
    "# Taking all entry in one line\n",
    "l_ld = [int(i) for i in input().split()]\n",
    "for i in range (m):\n",
    "    start_index = n*i\n",
    "    end_index = n*(i+1)\n",
    "    next_row = l_ld[start_index:end_index]\n",
    "    l.append(next_row)\n",
    "l"
   ]
  },
  {
   "cell_type": "markdown",
   "id": "absolute-depth",
   "metadata": {},
   "source": [
    " "
   ]
  },
  {
   "cell_type": "code",
   "execution_count": 3,
   "id": "transparent-stereo",
   "metadata": {},
   "outputs": [
    {
     "data": {
      "text/plain": [
       "[[1, 12, 5, 7], [4, 5, 2, 3], [7, 4, 1, 9], [5, 3, 4, 9]]"
      ]
     },
     "execution_count": 3,
     "metadata": {},
     "output_type": "execute_result"
    }
   ],
   "source": [
    "a = [[1,12,5,7],[4,5,2,3],[7,4,1,9],[5,3,4,9]]\n",
    "a"
   ]
  },
  {
   "cell_type": "code",
   "execution_count": 4,
   "id": "aboriginal-prototype",
   "metadata": {},
   "outputs": [
    {
     "data": {
      "text/plain": [
       "[[4, 5, 2, 3], [7, 4, 1, 9]]"
      ]
     },
     "execution_count": 4,
     "metadata": {},
     "output_type": "execute_result"
    }
   ],
   "source": [
    "a[1:3]"
   ]
  },
  {
   "cell_type": "code",
   "execution_count": 6,
   "id": "fatty-invitation",
   "metadata": {},
   "outputs": [
    {
     "data": {
      "text/plain": [
       "[[1, 2], [1, 2], [1, 2], [1, 2], [1, 2]]"
      ]
     },
     "execution_count": 6,
     "metadata": {},
     "output_type": "execute_result"
    }
   ],
   "source": [
    "a = [[1,2] for i in range(5)]\n",
    "a"
   ]
  },
  {
   "cell_type": "code",
   "execution_count": 7,
   "id": "civic-viking",
   "metadata": {},
   "outputs": [
    {
     "data": {
      "text/plain": [
       "[[0, 1, 2, 3, 4],\n",
       " [0, 1, 2, 3, 4],\n",
       " [0, 1, 2, 3, 4],\n",
       " [0, 1, 2, 3, 4],\n",
       " [0, 1, 2, 3, 4],\n",
       " [0, 1, 2, 3, 4],\n",
       " [0, 1, 2, 3, 4],\n",
       " [0, 1, 2, 3, 4],\n",
       " [0, 1, 2, 3, 4],\n",
       " [0, 1, 2, 3, 4]]"
      ]
     },
     "execution_count": 7,
     "metadata": {},
     "output_type": "execute_result"
    }
   ],
   "source": [
    "a = [[j for j in range(5)] for i in range(10)]\n",
    "a"
   ]
  },
  {
   "cell_type": "code",
   "execution_count": 8,
   "id": "specialized-click",
   "metadata": {},
   "outputs": [
    {
     "data": {
      "text/plain": [
       "[[0, 0, 0, 0, 0],\n",
       " [1, 1, 1, 1, 1],\n",
       " [2, 2, 2, 2, 2],\n",
       " [3, 3, 3, 3, 3],\n",
       " [4, 4, 4, 4, 4],\n",
       " [5, 5, 5, 5, 5],\n",
       " [6, 6, 6, 6, 6],\n",
       " [7, 7, 7, 7, 7],\n",
       " [8, 8, 8, 8, 8],\n",
       " [9, 9, 9, 9, 9]]"
      ]
     },
     "execution_count": 8,
     "metadata": {},
     "output_type": "execute_result"
    }
   ],
   "source": [
    "a = [[i for j in range(5)] for i in range(10)]\n",
    "a"
   ]
  },
  {
   "cell_type": "code",
   "execution_count": 9,
   "id": "hybrid-nowhere",
   "metadata": {},
   "outputs": [
    {
     "name": "stdout",
     "output_type": "stream",
     "text": [
      "[0, 10, 20]\n"
     ]
    }
   ],
   "source": [
    "A = [[0, 10, 20],[30, 40, 50],[60, 70, 80]]\n",
    "\n",
    "print(A[0:2][0])\n"
   ]
  },
  {
   "cell_type": "markdown",
   "id": "prime-extraction",
   "metadata": {},
   "source": [
    "A[0:2] select the first two row of the 2d list and A[0:2][0] select the first row of the A[0:2] list."
   ]
  },
  {
   "cell_type": "markdown",
   "id": "funky-remainder",
   "metadata": {},
   "source": [
    " "
   ]
  },
  {
   "cell_type": "code",
   "execution_count": 10,
   "id": "stock-furniture",
   "metadata": {},
   "outputs": [
    {
     "name": "stdout",
     "output_type": "stream",
     "text": [
      "[10, 23, 56, [95]]\n"
     ]
    }
   ],
   "source": [
    "a = [10,23,56,[78]]\n",
    "b = list(a)\n",
    "a[3][0] = 95\n",
    "a[1] = 34\n",
    "print(b)\n"
   ]
  },
  {
   "cell_type": "markdown",
   "id": "dimensional-martin",
   "metadata": {},
   "source": [
    "They only create a copy on the 0th level. That's called shallow copy. The elements of a nested element are copied by reference.\n",
    "\n"
   ]
  },
  {
   "cell_type": "markdown",
   "id": "consecutive-alliance",
   "metadata": {},
   "source": [
    " "
   ]
  },
  {
   "cell_type": "code",
   "execution_count": null,
   "id": "collectible-swedish",
   "metadata": {},
   "outputs": [],
   "source": []
  },
  {
   "cell_type": "code",
   "execution_count": null,
   "id": "consolidated-egyptian",
   "metadata": {},
   "outputs": [],
   "source": []
  }
 ],
 "metadata": {
  "kernelspec": {
   "display_name": "Python 3",
   "language": "python",
   "name": "python3"
  },
  "language_info": {
   "codemirror_mode": {
    "name": "ipython",
    "version": 3
   },
   "file_extension": ".py",
   "mimetype": "text/x-python",
   "name": "python",
   "nbconvert_exporter": "python",
   "pygments_lexer": "ipython3",
   "version": "3.8.8"
  }
 },
 "nbformat": 4,
 "nbformat_minor": 5
}
