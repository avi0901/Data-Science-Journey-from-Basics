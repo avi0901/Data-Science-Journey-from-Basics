{
 "cells": [
  {
   "cell_type": "code",
   "execution_count": 3,
   "id": "27a4834b",
   "metadata": {},
   "outputs": [],
   "source": [
    "from selenium import webdriver"
   ]
  },
  {
   "cell_type": "code",
   "execution_count": 11,
   "id": "50d1bf55",
   "metadata": {},
   "outputs": [
    {
     "data": {
      "text/plain": [
       "<selenium.webdriver.chrome.webdriver.WebDriver (session=\"7aa95d29613c2170ca764502546f19a4\")>"
      ]
     },
     "execution_count": 11,
     "metadata": {},
     "output_type": "execute_result"
    }
   ],
   "source": [
    "path = 'D:\\Softwares\\chromedriver'\n",
    "driver = webdriver.Chrome(executable_path = path)\n",
    "driver"
   ]
  },
  {
   "cell_type": "code",
   "execution_count": 12,
   "id": "fcb31495",
   "metadata": {},
   "outputs": [],
   "source": [
    "driver.get('https://phptravels.com/demo/')"
   ]
  },
  {
   "cell_type": "code",
   "execution_count": 13,
   "id": "5206acb8",
   "metadata": {},
   "outputs": [],
   "source": [
    "driver.back()"
   ]
  },
  {
   "cell_type": "code",
   "execution_count": 14,
   "id": "cf592762",
   "metadata": {},
   "outputs": [],
   "source": [
    "driver.forward()"
   ]
  },
  {
   "cell_type": "code",
   "execution_count": 15,
   "id": "762e12dd",
   "metadata": {},
   "outputs": [
    {
     "data": {
      "text/plain": [
       "'Demo Script Test drive - PHPTRAVELS'"
      ]
     },
     "execution_count": 15,
     "metadata": {},
     "output_type": "execute_result"
    }
   ],
   "source": [
    "driver.title"
   ]
  },
  {
   "cell_type": "code",
   "execution_count": 16,
   "id": "fde5f1e9",
   "metadata": {},
   "outputs": [
    {
     "data": {
      "text/plain": [
       "True"
      ]
     },
     "execution_count": 16,
     "metadata": {},
     "output_type": "execute_result"
    }
   ],
   "source": [
    "driver.save_screenshot('test_ss_selenium1.png')"
   ]
  },
  {
   "cell_type": "code",
   "execution_count": 17,
   "id": "5e92faf8",
   "metadata": {},
   "outputs": [
    {
     "data": {
      "text/plain": [
       "'<html lang=\"en\"><head>\\n        <!-- Google Tag Manager -->\\n    <!--<script>(function(w,d,s,l,i){w[l]=w[l]||[];w[l].push({\\'gtm.start\\':\\n    new Date().getTime(),event:\\'gtm.js\\'});var f=d.getElementsByTagName(s)[0],\\n    j=d.createElement(s),dl=l!=\\'dataLayer\\'?\\'&l=\\'+l:\\'\\';j.async=true;j.src=\\n    \\'https://www.googletagmanager.com/gtm.js?id=\\'+i+dl;f.parentNode.insertBefore(j,f);\\n    })(window,document,\\'script\\',\\'dataLayer\\',\\'GTM-MK6J4M\\');</script>-->\\n    \\n    <meta charset=\"UTF-8\">\\n    <meta http-equiv=\"X-UA-Compatible\" content=\"IE=edge\">\\n    <meta name=\"viewport\" content=\"width=device-width, initial-scale=1\">\\n    <meta name=\"apple-mobile-web-app-capable\" content=\"yes\">\\n    <meta name=\"mobile-web-app-capable\" content=\"yes\">\\n        <title>Demo Script Test drive - PHPTRAVELS</title>\\n        <base href=\"https://phptravels.com/\">\\n    <meta name=\"msvalidate.01\" content=\"0C312F1E2E203F1B104B546B6682F9ED\">\\n                        <meta name=\"title\" content=\"Demo Script Test drive\">\\n                    <meta name=\"description\" content=\"php travels script demo is realtime Online php mysql Script for hotels booking, travel online, discount airfares, cheap hotel reservations,lowest fares.\">\\n                    <meta name=\"keywords\" content=\"php travels demo, php hotels booking engine, php booking engine, free travels booking script, travel software, hotel online, reservation system, booking engine, software, travel agent, marketing, travel, hotel xml, air travel, cheap air, flight deals, air flights, cheap airline, cheap airfare, cheap flights from, travel agents, air tickets, airline ticket, cheap flights from to, cheap ticket, cheap tickets airline\">\\n                    <meta name=\"author\" content=\"PHPTRAVELS\">\\n                    <meta property=\"og:title\" content=\"Demo Script Test drive\">\\n                    <meta property=\"og:description\" content=\"php travels script demo is realtime Online php mysql Script for hotels booking, travel online, discount airfares, cheap hotel reservations,lowest fares.\">\\n                    <meta property=\"og:url\" content=\"https://phptravels.com/demo\">\\n                    <meta property=\"og:image\" content=\"https://phptravels.com/assets/img/meta/travel.png\">\\n                    <meta property=\"og:site_name\" content=\"PHPTRAVELS\">\\n                    <meta name=\"title\" content=\"Demo Script Test drive\">\\n                    <meta name=\"description\" content=\"php travels script demo is realtime Online php mysql Script for hotels booking, travel online, discount airfares, cheap hotel reservations,lowest fares.\">\\n                    <meta name=\"twitter:url\" content=\"https://phptravels.com/demo\">\\n                    <meta name=\"twitter:site\" content=\"PHPTRAVELS\">\\n                    <meta name=\"twitter:description\" content=\"php travels script demo is realtime Online php mysql Script for hotels booking, travel online, discount airfares, cheap hotel reservations,lowest fares.\">\\n                    <meta name=\"twitter:image\" content=\"https://phptravels.com/assets/img/meta/travel.png\">\\n        \\n    <link rel=\"shortcut icon\" type=\"image/x-icon\" href=\"https://cdn.jsdelivr.net/gh/qaxim/resources/phpcom/assets/img/favicon.ico\">\\n    <!--<link rel=\"stylesheet\" href=\"https://cdn.jsdelivr.net/gh/qaxim/resources/phpcom/assets/css/style.css\" type=\"text/css\">-->\\n    <link rel=\"stylesheet\" href=\"https://phptravels.com/assets/css/bootstrap.min.css\" type=\"text/css\">\\n    <link rel=\"stylesheet\" href=\"https://phptravels.com/assets/css/style.css\" type=\"text/css\">\\n    <link rel=\"stylesheet\" href=\"https://cdnjs.cloudflare.com/ajax/libs/font-awesome/4.7.0/css/font-awesome.css\" type=\"text/css\">\\n\\n\\n   <!-- MetaTags -->\\n   <script async=\"\" src=\"https://chimpstatic.com/mcjs-connected/js/users/148775ec1e7d637fd7f8a5a94/37c5fbdf68700f7a289c748c7.js\"></script><script type=\"application/ld+json\">\\n   {\\n   \"@context\" : \"http://schema.org\",\\n   \"@type\" : \"Corporation\",\\n   \"brand\": \"PHPTRAVELS\",\\n   \"description\": \"Targeting an incredible small niche, PHPtravels is a script designed for travel agencies that want to move their operations online, helping them setup a fully-working hotel room booking system.\\\\n\\\\nPHPtravels lets users search hotels, check room availability, book a room for their desired time period, and then pay for it, all via a simple interface, that not only looks good, but is also very manageable and customizable via a specially crafted administration panel.\\\\n\\\\nVarious accounts are available, for customers, for travel agents, and above all, for the site webmaster (admin).\\\\n\\\\nAnything on the PHPtravels website is customizable, from the frontend skin, to the active languages, available currencies, and not last, the hotels and rooms.\\\\n\\\\nIf you can get past the fact you need a commercial license to run PHPtravels, the system can be of incredible help if you plan to sell vacations and trips online as well.\",\\n   \"name\" : \"PHPTRAVELS\",\\n   \"founders\": [\\n     \"Qasim Hussain\"\\n   ],\\n   \"foundingDate\": \"2014-05\",\\n   \"foundingLocation\": \"Lahore\",\\n   \"knowsAbout\": \"Create online travel agency using PHPTRAVELS products\",\\n   \"legalName\": \"PHPTRAVELS\",\\n   \"logo\" : \"https://phptravels.com/assets/img/pages/media/icon-primary.png\",\\n   \"numberOfEmployees\": \"15\",\\n   \"ownershipFundingInfo\": \"https://phptravels.com/about-us/\",\\n   \"url\" : \"https://phptravels.com/\",\\n   \"sameAs\" : [\\n     \"https://www.facebook.com/phptravels\",\\n     \"https://www.twitter.com/phptravels\",\\n     \"https://snapchat.com/add/phptravels\",\\n     \"https://instagram.com/phptravels_/\",\\n     \"https://www.youtube.com/user/phptravels\",\\n     \"https://www.linkedin.com/company/phptravels\",\\n     \"https://www.pinterest.com/phptravels_pin/\"\\n   ],\\n   \"slogan\": \"Travel technology partner\",\\n   \"tickerSymbol\": [\\n     \"NYSE:SHOP\",\\n     \"TSX:SHOP\"\\n   ],\\n   \"awards\": \"https://www.ivisa.com/visa-blog/php-travels\"\\n    }\\n    </script>\\n\\n    <script>\\n        // function addLink(){var selection=window.getSelection(),pagelink=\\'<br /><br /> Read more at: \\'+document.location.href,copytext=selection+pagelink,newdiv=document.createElement(\\'div\\');newdiv.style.position=\\'absolute\\';newdiv.style.left=\\'-99999px\\';document.body.appendChild(newdiv);newdiv.innerHTML=copytext;selection.selectAllChildren(newdiv);window.setTimeout(function(){document.body.removeChild(newdiv)},100)}\\n        // document.addEventListener(\\'copy\\',addLink);\\n    </script>\\n\\n    <script>\\n/*! jQuery v1.11.2 | (c) 2005, 2014 jQuery Foundation, Inc. | jquery.org/license */\\n!function(a,b){\"object\"==typeof module&&\"object\"==typeof module.exports?module.exports=a.document?b(a,!0):function(a){if(!a.document)throw new Error(\"jQuery requires a window with a document\");return b(a)}:b(a)}(\"undefined\"!=typeof window?window:this,function(a,b){var c=[],d=c.slice,e=c.concat,f=c.push,g=c.indexOf,h={},i=h.toString,j=h.hasOwnProperty,k={},l=\"1.11.2\",m=function(a,b){return new m.fn.init(a,b)},n=/^[\\\\s\\\\uFEFF\\\\xA0]+|[\\\\s\\\\uFEFF\\\\xA0]+$/g,o=/^-ms-/,p=/-([\\\\da-z])/gi,q=function(a,b){return b.toUpperCase()};m.fn=m.prototype={jquery:l,constructor:m,selector:\"\",length:0,toArray:function(){return d.call(this)},get:function(a){return null!=a?0>a?this[a+this.length]:this[a]:d.call(this)},pushStack:function(a){var b=m.merge(this.constructor(),a);return b.prevObject=this,b.context=this.context,b},each:function(a,b){return m.each(this,a,b)},map:function(a){return this.pushStack(m.map(this,function(b,c){return a.call(b,c,b)}))},slice:function(){return this.pushStack(d.apply(this,arguments))},first:function(){return this.eq(0)},last:function(){return this.eq(-1)},eq:function(a){var b=this.length,c=+a+(0>a?b:0);return this.pushStack(c>=0&&b>c?[this[c]]:[])},end:function(){return this.prevObject||this.constructor(null)},push:f,sort:c.sort,splice:c.splice},m.extend=m.fn.extend=function(){var a,b,c,d,e,f,g=arguments[0]||{},h=1,i=arguments.length,j=!1;for(\"boolean\"==typeof g&&(j=g,g=arguments[h]||{},h++),\"object\"==typeof g||m.isFunction(g)||(g={}),h===i&&(g=this,h--);i>h;h++)if(null!=(e=arguments[h]))for(d in e)a=g[d],c=e[d],g!==c&&(j&&c&&(m.isPlainObject(c)||(b=m.isArray(c)))?(b?(b=!1,f=a&&m.isArray(a)?a:[]):f=a&&m.isPlainObject(a)?a:{},g[d]=m.extend(j,f,c)):void 0!==c&&(g[d]=c));return g},m.extend({expando:\"jQuery\"+(l+Math.random()).replace(/\\\\D/g,\"\"),isReady:!0,error:function(a){throw new Error(a)},noop:function(){},isFunction:function(a){return\"function\"===m.type(a)},isArray:Array.isArray||function(a){return\"array\"===m.type(a)},isWindow:function(a){return null!=a&&a==a.window},isNumeric:function(a){return!m.isArray(a)&&a-parseFloat(a)+1>=0},isEmptyObject:function(a){var b;for(b in a)return!1;return!0},isPlainObject:function(a){var b;if(!a||\"object\"!==m.type(a)||a.nodeType||m.isWindow(a))return!1;try{if(a.constructor&&!j.call(a,\"constructor\")&&!j.call(a.constructor.prototype,\"isPrototypeOf\"))return!1}catch(c){return!1}\\nif(k.ownLast)for(b in a)return j.call(a,b);for(b in a);return void 0===b||j.call(a,b)},type:function(a){return null==a?a+\"\":\"object\"==typeof a||\"function\"==typeof a?h[i.call(a)]||\"object\":typeof a},globalEval:function(b){b&&m.trim(b)&&(a.execScript||function(b){a.eval.call(a,b)})(b)},camelCase:function(a){return a.replace(o,\"ms-\").replace(p,q)},nodeName:function(a,b){return a.nodeName&&a.nodeName.toLowerCase()===b.toLowerCase()},each:function(a,b,c){var d,e=0,f=a.length,g=r(a);if(c){if(g){for(;f>e;e++)if(d=b.apply(a[e],c),d===!1)break}else for(e in a)if(d=b.apply(a[e],c),d===!1)break}else if(g){for(;f>e;e++)if(d=b.call(a[e],e,a[e]),d===!1)break}else for(e in a)if(d=b.call(a[e],e,a[e]),d===!1)break;return a},trim:function(a){return null==a?\"\":(a+\"\").replace(n,\"\")},makeArray:function(a,b){var c=b||[];return null!=a&&(r(Object(a))?m.merge(c,\"string\"==typeof a?[a]:a):f.call(c,a)),c},inArray:function(a,b,c){var d;if(b){if(g)return g.call(b,a,c);for(d=b.length,c=c?0>c?Math.max(0,d+c):c:0;d>c;c++)if(c in b&&b[c]===a)return c}\\nreturn-1},merge:function(a,b){var c=+b.length,d=0,e=a.length;while(c>d)a[e++]=b[d++];if(c!==c)while(void 0!==b[d])a[e++]=b[d++];return a.length=e,a},grep:function(a,b,c){for(var d,e=[],f=0,g=a.length,h=!c;g>f;f++)d=!b(a[f],f),d!==h&&e.push(a[f]);return e},map:function(a,b,c){var d,f=0,g=a.length,h=r(a),i=[];if(h)for(;g>f;f++)d=b(a[f],f,c),null!=d&&i.push(d);else for(f in a)d=b(a[f],f,c),null!=d&&i.push(d);return e.apply([],i)},guid:1,proxy:function(a,b){var c,e,f;return\"string\"==typeof b&&(f=a[b],b=a,a=f),m.isFunction(a)?(c=d.call(arguments,2),e=function(){return a.apply(b||this,c.concat(d.call(arguments)))},e.guid=a.guid=a.guid||m.guid++,e):void 0},now:function(){return+new Date},support:k}),m.each(\"Boolean Number String Function Array Date RegExp Object Error\".split(\" \"),function(a,b){h[\"[object \"+b+\"]\"]=b.toLowerCase()});function r(a){var b=a.length,c=m.type(a);return\"function\"===c||m.isWindow(a)?!1:1===a.nodeType&&b?!0:\"array\"===c||0===b||\"number\"==typeof b&&b>0&&b-1 in a}\\nvar s=function(a){var b,c,d,e,f,g,h,i,j,k,l,m,n,o,p,q,r,s,t,u=\"sizzle\"+1*new Date,v=a.document,w=0,x=0,y=hb(),z=hb(),A=hb(),B=function(a,b){return a===b&&(l=!0),0},C=1<<31,D={}.hasOwnProperty,E=[],F=E.pop,G=E.push,H=E.push,I=E.slice,J=function(a,b){for(var c=0,d=a.length;d>c;c++)if(a[c]===b)return c;return-1},K=\"checked|selected|async|autofocus|autoplay|controls|defer|disabled|hidden|ismap|loop|multiple|open|readonly|required|scoped\",L=\"[\\\\\\\\x20\\\\\\\\t\\\\\\\\r\\\\\\\\n\\\\\\\\f]\",M=\"(?:\\\\\\\\\\\\\\\\.|[\\\\\\\\w-]|[^\\\\\\\\x00-\\\\\\\\xa0])+\",N=M.replace(\"w\",\"w#\"),O=\"\\\\\\\\[\"+L+\"*(\"+M+\")(?:\"+L+\"*([*^$|!~]?=)\"+L+\"*(?:\\'((?:\\\\\\\\\\\\\\\\.|[^\\\\\\\\\\\\\\\\\\'])*)\\'|\\\\\"((?:\\\\\\\\\\\\\\\\.|[^\\\\\\\\\\\\\\\\\\\\\"])*)\\\\\"|(\"+N+\"))|)\"+L+\"*\\\\\\\\]\",P=\":(\"+M+\")(?:\\\\\\\\(((\\'((?:\\\\\\\\\\\\\\\\.|[^\\\\\\\\\\\\\\\\\\'])*)\\'|\\\\\"((?:\\\\\\\\\\\\\\\\.|[^\\\\\\\\\\\\\\\\\\\\\"])*)\\\\\")|((?:\\\\\\\\\\\\\\\\.|[^\\\\\\\\\\\\\\\\()[\\\\\\\\]]|\"+O+\")*)|.*)\\\\\\\\)|)\",Q=new RegExp(L+\"+\",\"g\"),R=new RegExp(\"^\"+L+\"+|((?:^|[^\\\\\\\\\\\\\\\\])(?:\\\\\\\\\\\\\\\\.)*)\"+L+\"+$\",\"g\"),S=new RegExp(\"^\"+L+\"*,\"+L+\"*\"),T=new RegExp(\"^\"+L+\"*([>+~]|\"+L+\")\"+L+\"*\"),U=new RegExp(\"=\"+L+\"*([^\\\\\\\\]\\'\\\\\"]*?)\"+L+\"*\\\\\\\\]\",\"g\"),V=new RegExp(P),W=new RegExp(\"^\"+N+\"$\"),X={ID:new RegExp(\"^#(\"+M+\")\"),CLASS:new RegExp(\"^\\\\\\\\.(\"+M+\")\"),TAG:new RegExp(\"^(\"+M.replace(\"w\",\"w*\")+\")\"),ATTR:new RegExp(\"^\"+O),PSEUDO:new RegExp(\"^\"+P),CHILD:new RegExp(\"^:(only|first|last|nth|nth-last)-(child|of-type)(?:\\\\\\\\(\"+L+\"*(even|odd|(([+-]|)(\\\\\\\\d*)n|)\"+L+\"*(?:([+-]|)\"+L+\"*(\\\\\\\\d+)|))\"+L+\"*\\\\\\\\)|)\",\"i\"),bool:new RegExp(\"^(?:\"+K+\")$\",\"i\"),needsContext:new RegExp(\"^\"+L+\"*[>+~]|:(even|odd|eq|gt|lt|nth|first|last)(?:\\\\\\\\(\"+L+\"*((?:-\\\\\\\\d)?\\\\\\\\d*)\"+L+\"*\\\\\\\\)|)(?=[^-]|$)\",\"i\")},Y=/^(?:input|select|textarea|button)$/i,Z=/^h\\\\d$/i,$=/^[^{]+\\\\{\\\\s*\\\\[native \\\\w/,_=/^(?:#([\\\\w-]+)|(\\\\w+)|\\\\.([\\\\w-]+))$/,ab=/[+~]/,bb=/\\'|\\\\\\\\/g,cb=new RegExp(\"\\\\\\\\\\\\\\\\([\\\\\\\\da-f]{1,6}\"+L+\"?|(\"+L+\")|.)\",\"ig\"),db=function(a,b,c){var d=\"0x\"+b-65536;return d!==d||c?b:0>d?String.fromCharCode(d+65536):String.fromCharCode(d>>10|55296,1023&d|56320)},eb=function(){m()};try{H.apply(E=I.call(v.childNodes),v.childNodes),E[v.childNodes.length].nodeType}catch(fb){H={apply:E.length?function(a,b){G.apply(a,I.call(b))}:function(a,b){var c=a.length,d=0;while(a[c++]=b[d++]);a.length=c-1}}}\\nfunction gb(a,b,d,e){var f,h,j,k,l,o,r,s,w,x;if((b?b.ownerDocument||b:v)!==n&&m(b),b=b||n,d=d||[],k=b.nodeType,\"string\"!=typeof a||!a||1!==k&&9!==k&&11!==k)return d;if(!e&&p){if(11!==k&&(f=_.exec(a)))if(j=f[1]){if(9===k){if(h=b.getElementById(j),!h||!h.parentNode)return d;if(h.id===j)return d.push(h),d}else if(b.ownerDocument&&(h=b.ownerDocument.getElementById(j))&&t(b,h)&&h.id===j)return d.push(h),d}else{if(f[2])return H.apply(d,b.getElementsByTagName(a)),d;if((j=f[3])&&c.getElementsByClassName)return H.apply(d,b.getElementsByClassName(j)),d}\\nif(c.qsa&&(!q||!q.test(a))){if(s=r=u,w=b,x=1!==k&&a,1===k&&\"object\"!==b.nodeName.toLowerCase()){o=g(a),(r=b.getAttribute(\"id\"))?s=r.replace(bb,\"\\\\\\\\$&\"):b.setAttribute(\"id\",s),s=\"[id=\\'\"+s+\"\\'] \",l=o.length;while(l--)o[l]=s+rb(o[l]);w=ab.test(a)&&pb(b.parentNode)||b,x=o.join(\",\")}\\nif(x)try{return H.apply(d,w.querySelectorAll(x)),d}catch(y){}finally{r||b.removeAttribute(\"id\")}}}\\nreturn i(a.replace(R,\"$1\"),b,d,e)}\\nfunction hb(){var a=[];function b(c,e){return a.push(c+\" \")>d.cacheLength&&delete b[a.shift()],b[c+\" \"]=e}\\nreturn b}\\nfunction ib(a){return a[u]=!0,a}\\nfunction jb(a){var b=n.createElement(\"div\");try{return!!a(b)}catch(c){return!1}finally{b.parentNode&&b.parentNode.removeChild(b),b=null}}\\nfunction kb(a,b){var c=a.split(\"|\"),e=a.length;while(e--)d.attrHandle[c[e]]=b}\\nfunction lb(a,b){var c=b&&a,d=c&&1===a.nodeType&&1===b.nodeType&&(~b.sourceIndex||C)-(~a.sourceIndex||C);if(d)return d;if(c)while(c=c.nextSibling)if(c===b)return-1;return a?1:-1}\\nfunction mb(a){return function(b){var c=b.nodeName.toLowerCase();return\"input\"===c&&b.type===a}}\\nfunction nb(a){return function(b){var c=b.nodeName.toLowerCase();return(\"input\"===c||\"button\"===c)&&b.type===a}}\\nfunction ob(a){return ib(function(b){return b=+b,ib(function(c,d){var e,f=a([],c.length,b),g=f.length;while(g--)c[e=f[g]]&&(c[e]=!(d[e]=c[e]))})})}\\nfunction pb(a){return a&&\"undefined\"!=typeof a.getElementsByTagName&&a}\\nc=gb.support={},f=gb.isXML=function(a){var b=a&&(a.ownerDocument||a).documentElement;return b?\"HTML\"!==b.nodeName:!1},m=gb.setDocument=function(a){var b,e,g=a?a.ownerDocument||a:v;return g!==n&&9===g.nodeType&&g.documentElement?(n=g,o=g.documentElement,e=g.defaultView,e&&e!==e.top&&(e.addEventListener?e.addEventListener(\"unload\",eb,!1):e.attachEvent&&e.attachEvent(\"onunload\",eb)),p=!f(g),c.attributes=jb(function(a){return a.className=\"i\",!a.getAttribute(\"className\")}),c.getElementsByTagName=jb(function(a){return a.appendChild(g.createComment(\"\")),!a.getElementsByTagName(\"*\").length}),c.getElementsByClassName=$.test(g.getElementsByClassName),c.getById=jb(function(a){return o.appendChild(a).id=u,!g.getElementsByName||!g.getElementsByName(u).length}),c.getById?(d.find.ID=function(a,b){if(\"undefined\"!=typeof b.getElementById&&p){var c=b.getElementById(a);return c&&c.parentNode?[c]:[]}},d.filter.ID=function(a){var b=a.replace(cb,db);return function(a){return a.getAttribute(\"id\")===b}}):(delete d.find.ID,d.filter.ID=function(a){var b=a.replace(cb,db);return function(a){var c=\"undefined\"!=typeof a.getAttributeNode&&a.getAttributeNode(\"id\");return c&&c.value===b}}),d.find.TAG=c.getElementsByTagName?function(a,b){return\"undefined\"!=typeof b.getElementsByTagName?b.getElementsByTagName(a):c.qsa?b.querySelectorAll(a):void 0}:function(a,b){var c,d=[],e=0,f=b.getElementsByTagName(a);if(\"*\"===a){while(c=f[e++])1===c.nodeType&&d.push(c);return d}\\nreturn f},d.find.CLASS=c.getElementsByClassName&&function(a,b){return p?b.getElementsByClassName(a):void 0},r=[],q=[],(c.qsa=$.test(g.querySelectorAll))&&(jb(function(a){o.appendChild(a).innerHTML=\"<a id=\\'\"+u+\"\\'></a><select id=\\'\"+u+\"-\\\\f]\\' msallowcapture=\\'\\'><option selected=\\'\\'></option></select>\",a.querySelectorAll(\"[msallowcapture^=\\'\\']\").length&&q.push(\"[*^$]=\"+L+\"*(?:\\'\\'|\\\\\"\\\\\")\"),a.querySelectorAll(\"[selected]\").length||q.push(\"\\\\\\\\[\"+L+\"*(?:value|\"+K+\")\"),a.querySelectorAll(\"[id~=\"+u+\"-]\").length||q.push(\"~=\"),a.querySelectorAll(\":checked\").length||q.push(\":checked\"),a.querySelectorAll(\"a#\"+u+\"+*\").length||q.push(\".#.+[+~]\")}),jb(function(a){var b=g.createElement(\"input\");b.setAttribute(\"type\",\"hidden\"),a.appendChild(b).setAttribute(\"name\",\"D\"),a.querySelectorAll(\"[name=d]\").length&&q.push(\"name\"+L+\"*[*^$|!~]?=\"),a.querySelectorAll(\":enabled\").length||q.push(\":enabled\",\":disabled\"),a.querySelectorAll(\"*,:x\"),q.push(\",.*:\")})),(c.matchesSelector=$.test(s=o.matches||o.webkitMatchesSelector||o.mozMatchesSelector||o.oMatchesSelector||o.msMatchesSelector))&&jb(function(a){c.disconnectedMatch=s.call(a,\"div\"),s.call(a,\"[s!=\\'\\']:x\"),r.push(\"!=\",P)}),q=q.length&&new RegExp(q.join(\"|\")),r=r.length&&new RegExp(r.join(\"|\")),b=$.test(o.compareDocumentPosition),t=b||$.test(o.contains)?function(a,b){var c=9===a.nodeType?a.documentElement:a,d=b&&b.parentNode;return a===d||!(!d||1!==d.nodeType||!(c.contains?c.contains(d):a.compareDocumentPosition&&16&a.compareDocumentPosition(d)))}:function(a,b){if(b)while(b=b.parentNode)if(b===a)return!0;return!1},B=b?function(a,b){if(a===b)return l=!0,0;var d=!a.compareDocumentPosition-!b.compareDocumentPosition;return d?d:(d=(a.ownerDocument||a)===(b.ownerDocument||b)?a.compareDocumentPosition(b):1,1&d||!c.sortDetached&&b.compareDocumentPosition(a)===d?a===g||a.ownerDocument===v&&t(v,a)?-1:b===g||b.ownerDocument===v&&t(v,b)?1:k?J(k,a)-J(k,b):0:4&d?-1:1)}:function(a,b){if(a===b)return l=!0,0;var c,d=0,e=a.parentNode,f=b.parentNode,h=[a],i=[b];if(!e||!f)return a===g?-1:b===g?1:e?-1:f?1:k?J(k,a)-J(k,b):0;if(e===f)return lb(a,b);c=a;while(c=c.parentNode)h.unshift(c);c=b;while(c=c.parentNode)i.unshift(c);while(h[d]===i[d])d++;return d?lb(h[d],i[d]):h[d]===v?-1:i[d]===v?1:0},g):n},gb.matches=function(a,b){return gb(a,null,null,b)},gb.matchesSelector=function(a,b){if((a.ownerDocument||a)!==n&&m(a),b=b.replace(U,\"=\\'$1\\']\"),!(!c.matchesSelector||!p||r&&r.test(b)||q&&q.test(b)))try{var d=s.call(a,b);if(d||c.disconnectedMatch||a.document&&11!==a.document.nodeType)return d}catch(e){}\\nreturn gb(b,n,null,[a]).length>0},gb.contains=function(a,b){return(a.ownerDocument||a)!==n&&m(a),t(a,b)},gb.attr=function(a,b){(a.ownerDocument||a)!==n&&m(a);var e=d.attrHandle[b.toLowerCase()],f=e&&D.call(d.attrHandle,b.toLowerCase())?e(a,b,!p):void 0;return void 0!==f?f:c.attributes||!p?a.getAttribute(b):(f=a.getAttributeNode(b))&&f.specified?f.value:null},gb.error=function(a){throw new Error(\"Syntax error, unrecognized expression: \"+a)},gb.uniqueSort=function(a){var b,d=[],e=0,f=0;if(l=!c.detectDuplicates,k=!c.sortStable&&a.slice(0),a.sort(B),l){while(b=a[f++])b===a[f]&&(e=d.push(f));while(e--)a.splice(d[e],1)}\\nreturn k=null,a},e=gb.getText=function(a){var b,c=\"\",d=0,f=a.nodeType;if(f){if(1===f||9===f||11===f){if(\"string\"==typeof a.textContent)return a.textContent;for(a=a.firstChild;a;a=a.nextSibling)c+=e(a)}else if(3===f||4===f)return a.nodeValue}else while(b=a[d++])c+=e(b);return c},d=gb.selectors={cacheLength:50,createPseudo:ib,match:X,attrHandle:{},find:{},relative:{\">\":{dir:\"parentNode\",first:!0},\" \":{dir:\"parentNode\"},\"+\":{dir:\"previousSibling\",first:!0},\"~\":{dir:\"previousSibling\"}},preFilter:{ATTR:function(a){return a[1]=a[1].replace(cb,db),a[3]=(a[3]||a[4]||a[5]||\"\").replace(cb,db),\"~=\"===a[2]&&(a[3]=\" \"+a[3]+\" \"),a.slice(0,4)},CHILD:function(a){return a[1]=a[1].toLowerCase(),\"nth\"===a[1].slice(0,3)?(a[3]||gb.error(a[0]),a[4]=+(a[4]?a[5]+(a[6]||1):2*(\"even\"===a[3]||\"odd\"===a[3])),a[5]=+(a[7]+a[8]||\"odd\"===a[3])):a[3]&&gb.error(a[0]),a},PSEUDO:function(a){var b,c=!a[6]&&a[2];return X.CHILD.test(a[0])?null:(a[3]?a[2]=a[4]||a[5]||\"\":c&&V.test(c)&&(b=g(c,!0))&&(b=c.indexOf(\")\",c.length-b)-c.length)&&(a[0]=a[0].slice(0,b),a[2]=c.slice(0,b)),a.slice(0,3))}},filter:{TAG:function(a){var b=a.replace(cb,db).toLowerCase();return\"*\"===a?function(){return!0}:function(a){return a.nodeName&&a.nodeName.toLowerCase()===b}},CLASS:function(a){var b=y[a+\" \"];return b||(b=new RegExp(\"(^|\"+L+\")\"+a+\"(\"+L+\"|$)\"))&&y(a,function(a){return b.test(\"string\"==typeof a.className&&a.className||\"undefined\"!=typeof a.getAttribute&&a.getAttribute(\"class\")||\"\")})},ATTR:function(a,b,c){return function(d){var e=gb.attr(d,a);return null==e?\"!=\"===b:b?(e+=\"\",\"=\"===b?e===c:\"!=\"===b?e!==c:\"^=\"===b?c&&0===e.indexOf(c):\"*=\"===b?c&&e.indexOf(c)>-1:\"$=\"===b?c&&e.slice(-c.length)===c:\"~=\"===b?(\" \"+e.replace(Q,\" \")+\" \").indexOf(c)>-1:\"|=\"===b?e===c||e.slice(0,c.length+1)===c+\"-\":!1):!0}},CHILD:function(a,b,c,d,e){var f=\"nth\"!==a.slice(0,3),g=\"last\"!==a.slice(-4),h=\"of-type\"===b;return 1===d&&0===e?function(a){return!!a.parentNode}:function(b,c,i){var j,k,l,m,n,o,p=f!==g?\"nextSibling\":\"previousSibling\",q=b.parentNode,r=h&&b.nodeName.toLowerCase(),s=!i&&!h;if(q){if(f){while(p){l=b;while(l=l[p])if(h?l.nodeName.toLowerCase()===r:1===l.nodeType)return!1;o=p=\"only\"===a&&!o&&\"nextSibling\"}\\nreturn!0}\\nif(o=[g?q.firstChild:q.lastChild],g&&s){k=q[u]||(q[u]={}),j=k[a]||[],n=j[0]===w&&j[1],m=j[0]===w&&j[2],l=n&&q.childNodes[n];while(l=++n&&l&&l[p]||(m=n=0)||o.pop())if(1===l.nodeType&&++m&&l===b){k[a]=[w,n,m];break}}else if(s&&(j=(b[u]||(b[u]={}))[a])&&j[0]===w)m=j[1];else while(l=++n&&l&&l[p]||(m=n=0)||o.pop())if((h?l.nodeName.toLowerCase()===r:1===l.nodeType)&&++m&&(s&&((l[u]||(l[u]={}))[a]=[w,m]),l===b))break;return m-=e,m===d||m%d===0&&m/d>=0}}},PSEUDO:function(a,b){var c,e=d.pseudos[a]||d.setFilters[a.toLowerCase()]||gb.error(\"unsupported pseudo: \"+a);return e[u]?e(b):e.length>1?(c=[a,a,\"\",b],d.setFilters.hasOwnProperty(a.toLowerCase())?ib(function(a,c){var d,f=e(a,b),g=f.length;while(g--)d=J(a,f[g]),a[d]=!(c[d]=f[g])}):function(a){return e(a,0,c)}):e}},pseudos:{not:ib(function(a){var b=[],c=[],d=h(a.replace(R,\"$1\"));return d[u]?ib(function(a,b,c,e){var f,g=d(a,null,e,[]),h=a.length;while(h--)(f=g[h])&&(a[h]=!(b[h]=f))}):function(a,e,f){return b[0]=a,d(b,null,f,c),b[0]=null,!c.pop()}}),has:ib(function(a){return function(b){return gb(a,b).length>0}}),contains:ib(function(a){return a=a.replace(cb,db),function(b){return(b.textContent||b.innerText||e(b)).indexOf(a)>-1}}),lang:ib(function(a){return W.test(a||\"\")||gb.error(\"unsupported lang: \"+a),a=a.replace(cb,db).toLowerCase(),function(b){var c;do if(c=p?b.lang:b.getAttribute(\"xml:lang\")||b.getAttribute(\"lang\"))return c=c.toLowerCase(),c===a||0===c.indexOf(a+\"-\");while((b=b.parentNode)&&1===b.nodeType);return!1}}),target:function(b){var c=a.location&&a.location.hash;return c&&c.slice(1)===b.id},root:function(a){return a===o},focus:function(a){return a===n.activeElement&&(!n.hasFocus||n.hasFocus())&&!!(a.type||a.href||~a.tabIndex)},enabled:function(a){return a.disabled===!1},disabled:function(a){return a.disabled===!0},checked:function(a){var b=a.nodeName.toLowerCase();return\"input\"===b&&!!a.checked||\"option\"===b&&!!a.selected},selected:function(a){return a.parentNode&&a.parentNode.selectedIndex,a.selected===!0},empty:function(a){for(a=a.firstChild;a;a=a.nextSibling)if(a.nodeType<6)return!1;return!0},parent:function(a){return!d.pseudos.empty(a)},header:function(a){return Z.test(a.nodeName)},input:function(a){return Y.test(a.nodeName)},button:function(a){var b=a.nodeName.toLowerCase();return\"input\"===b&&\"button\"===a.type||\"button\"===b},text:function(a){var b;return\"input\"===a.nodeName.toLowerCase()&&\"text\"===a.type&&(null==(b=a.getAttribute(\"type\"))||\"text\"===b.toLowerCase())},first:ob(function(){return[0]}),last:ob(function(a,b){return[b-1]}),eq:ob(function(a,b,c){return[0>c?c+b:c]}),even:ob(function(a,b){for(var c=0;b>c;c+=2)a.push(c);return a}),odd:ob(function(a,b){for(var c=1;b>c;c+=2)a.push(c);return a}),lt:ob(function(a,b,c){for(var d=0>c?c+b:c;--d>=0;)a.push(d);return a}),gt:ob(function(a,b,c){for(var d=0>c?c+b:c;++d<b;)a.push(d);return a})}},d.pseudos.nth=d.pseudos.eq;for(b in{radio:!0,checkbox:!0,file:!0,password:!0,image:!0})d.pseudos[b]=mb(b);for(b in{submit:!0,reset:!0})d.pseudos[b]=nb(b);function qb(){}\\nqb.prototype=d.filters=d.pseudos,d.setFilters=new qb,g=gb.tokenize=function(a,b){var c,e,f,g,h,i,j,k=z[a+\" \"];if(k)return b?0:k.slice(0);h=a,i=[],j=d.preFilter;while(h){(!c||(e=S.exec(h)))&&(e&&(h=h.slice(e[0].length)||h),i.push(f=[])),c=!1,(e=T.exec(h))&&(c=e.shift(),f.push({value:c,type:e[0].replace(R,\" \")}),h=h.slice(c.length));for(g in d.filter)!(e=X[g].exec(h))||j[g]&&!(e=j[g](e))||(c=e.shift(),f.push({value:c,type:g,matches:e}),h=h.slice(c.length));if(!c)break}\\nreturn b?h.length:h?gb.error(a):z(a,i).slice(0)};function rb(a){for(var b=0,c=a.length,d=\"\";c>b;b++)d+=a[b].value;return d}\\nfunction sb(a,b,c){var d=b.dir,e=c&&\"parentNode\"===d,f=x++;return b.first?function(b,c,f){while(b=b[d])if(1===b.nodeType||e)return a(b,c,f)}:function(b,c,g){var h,i,j=[w,f];if(g){while(b=b[d])if((1===b.nodeType||e)&&a(b,c,g))return!0}else while(b=b[d])if(1===b.nodeType||e){if(i=b[u]||(b[u]={}),(h=i[d])&&h[0]===w&&h[1]===f)return j[2]=h[2];if(i[d]=j,j[2]=a(b,c,g))return!0}}}\\nfunction tb(a){return a.length>1?function(b,c,d){var e=a.length;while(e--)if(!a[e](b,c,d))return!1;return!0}:a[0]}\\nfunction ub(a,b,c){for(var d=0,e=b.length;e>d;d++)gb(a,b[d],c);return c}\\nfunction vb(a,b,c,d,e){for(var f,g=[],h=0,i=a.length,j=null!=b;i>h;h++)(f=a[h])&&(!c||c(f,d,e))&&(g.push(f),j&&b.push(h));return g}\\nfunction wb(a,b,c,d,e,f){return d&&!d[u]&&(d=wb(d)),e&&!e[u]&&(e=wb(e,f)),ib(function(f,g,h,i){var j,k,l,m=[],n=[],o=g.length,p=f||ub(b||\"*\",h.nodeType?[h]:h,[]),q=!a||!f&&b?p:vb(p,m,a,h,i),r=c?e||(f?a:o||d)?[]:g:q;if(c&&c(q,r,h,i),d){j=vb(r,n),d(j,[],h,i),k=j.length;while(k--)(l=j[k])&&(r[n[k]]=!(q[n[k]]=l))}\\nif(f){if(e||a){if(e){j=[],k=r.length;while(k--)(l=r[k])&&j.push(q[k]=l);e(null,r=[],j,i)}\\nk=r.length;while(k--)(l=r[k])&&(j=e?J(f,l):m[k])>-1&&(f[j]=!(g[j]=l))}}else r=vb(r===g?r.splice(o,r.length):r),e?e(null,g,r,i):H.apply(g,r)})}\\nfunction xb(a){for(var b,c,e,f=a.length,g=d.relative[a[0].type],h=g||d.relative[\" \"],i=g?1:0,k=sb(function(a){return a===b},h,!0),l=sb(function(a){return J(b,a)>-1},h,!0),m=[function(a,c,d){var e=!g&&(d||c!==j)||((b=c).nodeType?k(a,c,d):l(a,c,d));return b=null,e}];f>i;i++)if(c=d.relative[a[i].type])m=[sb(tb(m),c)];else{if(c=d.filter[a[i].type].apply(null,a[i].matches),c[u]){for(e=++i;f>e;e++)if(d.relative[a[e].type])break;return wb(i>1&&tb(m),i>1&&rb(a.slice(0,i-1).concat({value:\" \"===a[i-2].type?\"*\":\"\"})).replace(R,\"$1\"),c,e>i&&xb(a.slice(i,e)),f>e&&xb(a=a.slice(e)),f>e&&rb(a))}\\nm.push(c)}\\nreturn tb(m)}\\nfunction yb(a,b){var c=b.length>0,e=a.length>0,f=function(f,g,h,i,k){var l,m,o,p=0,q=\"0\",r=f&&[],s=[],t=j,u=f||e&&d.find.TAG(\"*\",k),v=w+=null==t?1:Math.random()||.1,x=u.length;for(k&&(j=g!==n&&g);q!==x&&null!=(l=u[q]);q++){if(e&&l){m=0;while(o=a[m++])if(o(l,g,h)){i.push(l);break}\\nk&&(w=v)}\\nc&&((l=!o&&l)&&p--,f&&r.push(l))}\\nif(p+=q,c&&q!==p){m=0;while(o=b[m++])o(r,s,g,h);if(f){if(p>0)while(q--)r[q]||s[q]||(s[q]=F.call(i));s=vb(s)}\\nH.apply(i,s),k&&!f&&s.length>0&&p+b.length>1&&gb.uniqueSort(i)}\\nreturn k&&(w=v,j=t),r};return c?ib(f):f}\\nreturn h=gb.compile=function(a,b){var c,d=[],e=[],f=A[a+\" \"];if(!f){b||(b=g(a)),c=b.length;while(c--)f=xb(b[c]),f[u]?d.push(f):e.push(f);f=A(a,yb(e,d)),f.selector=a}\\nreturn f},i=gb.select=function(a,b,e,f){var i,j,k,l,m,n=\"function\"==typeof a&&a,o=!f&&g(a=n.selector||a);if(e=e||[],1===o.length){if(j=o[0]=o[0].slice(0),j.length>2&&\"ID\"===(k=j[0]).type&&c.getById&&9===b.nodeType&&p&&d.relative[j[1].type]){if(b=(d.find.ID(k.matches[0].replace(cb,db),b)||[])[0],!b)return e;n&&(b=b.parentNode),a=a.slice(j.shift().value.length)}\\ni=X.needsContext.test(a)?0:j.length;while(i--){if(k=j[i],d.relative[l=k.type])break;if((m=d.find[l])&&(f=m(k.matches[0].replace(cb,db),ab.test(j[0].type)&&pb(b.parentNode)||b))){if(j.splice(i,1),a=f.length&&rb(j),!a)return H.apply(e,f),e;break}}}\\nreturn(n||h(a,o))(f,b,!p,e,ab.test(a)&&pb(b.parentNode)||b),e},c.sortStable=u.split(\"\").sort(B).join(\"\")===u,c.detectDuplicates=!!l,m(),c.sortDetached=jb(function(a){return 1&a.compareDocumentPosition(n.createElement(\"div\"))}),jb(function(a){return a.innerHTML=\"<a href=\\'#\\'></a>\",\"#\"===a.firstChild.getAttribute(\"href\")})||kb(\"type|href|height|width\",function(a,b,c){return c?void 0:a.getAttribute(b,\"type\"===b.toLowerCase()?1:2)}),c.attributes&&jb(function(a){return a.innerHTML=\"<input/>\",a.firstChild.setAttribute(\"value\",\"\"),\"\"===a.firstChild.getAttribute(\"value\")})||kb(\"value\",function(a,b,c){return c||\"input\"!==a.nodeName.toLowerCase()?void 0:a.defaultValue}),jb(function(a){return null==a.getAttribute(\"disabled\")})||kb(K,function(a,b,c){var d;return c?void 0:a[b]===!0?b.toLowerCase():(d=a.getAttributeNode(b))&&d.specified?d.value:null}),gb}(a);m.find=s,m.expr=s.selectors,m.expr[\":\"]=m.expr.pseudos,m.unique=s.uniqueSort,m.text=s.getText,m.isXMLDoc=s.isXML,m.contains=s.contains;var t=m.expr.match.needsContext,u=/^<(\\\\w+)\\\\s*\\\\/?>(?:<\\\\/\\\\1>|)$/,v=/^.[^:#\\\\[\\\\.,]*$/;function w(a,b,c){if(m.isFunction(b))return m.grep(a,function(a,d){return!!b.call(a,d,a)!==c});if(b.nodeType)return m.grep(a,function(a){return a===b!==c});if(\"string\"==typeof b){if(v.test(b))return m.filter(b,a,c);b=m.filter(b,a)}\\nreturn m.grep(a,function(a){return m.inArray(a,b)>=0!==c})}\\nm.filter=function(a,b,c){var d=b[0];return c&&(a=\":not(\"+a+\")\"),1===b.length&&1===d.nodeType?m.find.matchesSelector(d,a)?[d]:[]:m.find.matches(a,m.grep(b,function(a){return 1===a.nodeType}))},m.fn.extend({find:function(a){var b,c=[],d=this,e=d.length;if(\"string\"!=typeof a)return this.pushStack(m(a).filter(function(){for(b=0;e>b;b++)if(m.contains(d[b],this))return!0}));for(b=0;e>b;b++)m.find(a,d[b],c);return c=this.pushStack(e>1?m.unique(c):c),c.selector=this.selector?this.selector+\" \"+a:a,c},filter:function(a){return this.pushStack(w(this,a||[],!1))},not:function(a){return this.pushStack(w(this,a||[],!0))},is:function(a){return!!w(this,\"string\"==typeof a&&t.test(a)?m(a):a||[],!1).length}});var x,y=a.document,z=/^(?:\\\\s*(<[\\\\w\\\\W]+>)[^>]*|#([\\\\w-]*))$/,A=m.fn.init=function(a,b){var c,d;if(!a)return this;if(\"string\"==typeof a){if(c=\"<\"===a.charAt(0)&&\">\"===a.charAt(a.length-1)&&a.length>=3?[null,a,null]:z.exec(a),!c||!c[1]&&b)return!b||b.jquery?(b||x).find(a):this.constructor(b).find(a);if(c[1]){if(b=b instanceof m?b[0]:b,m.merge(this,m.parseHTML(c[1],b&&b.nodeType?b.ownerDocument||b:y,!0)),u.test(c[1])&&m.isPlainObject(b))for(c in b)m.isFunction(this[c])?this[c](b[c]):this.attr(c,b[c]);return this}\\nif(d=y.getElementById(c[2]),d&&d.parentNode){if(d.id!==c[2])return x.find(a);this.length=1,this[0]=d}\\nreturn this.context=y,this.selector=a,this}\\nreturn a.nodeType?(this.context=this[0]=a,this.length=1,this):m.isFunction(a)?\"undefined\"!=typeof x.ready?x.ready(a):a(m):(void 0!==a.selector&&(this.selector=a.selector,this.context=a.context),m.makeArray(a,this))};A.prototype=m.fn,x=m(y);var B=/^(?:parents|prev(?:Until|All))/,C={children:!0,contents:!0,next:!0,prev:!0};m.extend({dir:function(a,b,c){var d=[],e=a[b];while(e&&9!==e.nodeType&&(void 0===c||1!==e.nodeType||!m(e).is(c)))1===e.nodeType&&d.push(e),e=e[b];return d},sibling:function(a,b){for(var c=[];a;a=a.nextSibling)1===a.nodeType&&a!==b&&c.push(a);return c}}),m.fn.extend({has:function(a){var b,c=m(a,this),d=c.length;return this.filter(function(){for(b=0;d>b;b++)if(m.contains(this,c[b]))return!0})},closest:function(a,b){for(var c,d=0,e=this.length,f=[],g=t.test(a)||\"string\"!=typeof a?m(a,b||this.context):0;e>d;d++)for(c=this[d];c&&c!==b;c=c.parentNode)if(c.nodeType<11&&(g?g.index(c)>-1:1===c.nodeType&&m.find.matchesSelector(c,a))){f.push(c);break}\\nreturn this.pushStack(f.length>1?m.unique(f):f)},index:function(a){return a?\"string\"==typeof a?m.inArray(this[0],m(a)):m.inArray(a.jquery?a[0]:a,this):this[0]&&this[0].parentNode?this.first().prevAll().length:-1},add:function(a,b){return this.pushStack(m.unique(m.merge(this.get(),m(a,b))))},addBack:function(a){return this.add(null==a?this.prevObject:this.prevObject.filter(a))}});function D(a,b){do a=a[b];while(a&&1!==a.nodeType);return a}\\nm.each({parent:function(a){var b=a.parentNode;return b&&11!==b.nodeType?b:null},parents:function(a){return m.dir(a,\"parentNode\")},parentsUntil:function(a,b,c){return m.dir(a,\"parentNode\",c)},next:function(a){return D(a,\"nextSibling\")},prev:function(a){return D(a,\"previousSibling\")},nextAll:function(a){return m.dir(a,\"nextSibling\")},prevAll:function(a){return m.dir(a,\"previousSibling\")},nextUntil:function(a,b,c){return m.dir(a,\"nextSibling\",c)},prevUntil:function(a,b,c){return m.dir(a,\"previousSibling\",c)},siblings:function(a){return m.sibling((a.parentNode||{}).firstChild,a)},children:function(a){return m.sibling(a.firstChild)},contents:function(a){return m.nodeName(a,\"iframe\")?a.contentDocument||a.contentWindow.document:m.merge([],a.childNodes)}},function(a,b){m.fn[a]=function(c,d){var e=m.map(this,b,c);return\"Until\"!==a.slice(-5)&&(d=c),d&&\"string\"==typeof d&&(e=m.filter(d,e)),this.length>1&&(C[a]||(e=m.unique(e)),B.test(a)&&(e=e.reverse())),this.pushStack(e)}});var E=/\\\\S+/g,F={};function G(a){var b=F[a]={};return m.each(a.match(E)||[],function(a,c){b[c]=!0}),b}\\nm.Callbacks=function(a){a=\"string\"==typeof a?F[a]||G(a):m.extend({},a);var b,c,d,e,f,g,h=[],i=!a.once&&[],j=function(l){for(c=a.memory&&l,d=!0,f=g||0,g=0,e=h.length,b=!0;h&&e>f;f++)if(h[f].apply(l[0],l[1])===!1&&a.stopOnFalse){c=!1;break}\\nb=!1,h&&(i?i.length&&j(i.shift()):c?h=[]:k.disable())},k={add:function(){if(h){var d=h.length;!function f(b){m.each(b,function(b,c){var d=m.type(c);\"function\"===d?a.unique&&k.has(c)||h.push(c):c&&c.length&&\"string\"!==d&&f(c)})}(arguments),b?e=h.length:c&&(g=d,j(c))}\\nreturn this},remove:function(){return h&&m.each(arguments,function(a,c){var d;while((d=m.inArray(c,h,d))>-1)h.splice(d,1),b&&(e>=d&&e--,f>=d&&f--)}),this},has:function(a){return a?m.inArray(a,h)>-1:!(!h||!h.length)},empty:function(){return h=[],e=0,this},disable:function(){return h=i=c=void 0,this},disabled:function(){return!h},lock:function(){return i=void 0,c||k.disable(),this},locked:function(){return!i},fireWith:function(a,c){return!h||d&&!i||(c=c||[],c=[a,c.slice?c.slice():c],b?i.push(c):j(c)),this},fire:function(){return k.fireWith(this,arguments),this},fired:function(){return!!d}};return k},m.extend({Deferred:function(a){var b=[[\"resolve\",\"done\",m.Callbacks(\"once memory\"),\"resolved\"],[\"reject\",\"fail\",m.Callbacks(\"once memory\"),\"rejected\"],[\"notify\",\"progress\",m.Callbacks(\"memory\")]],c=\"pending\",d={state:function(){return c},always:function(){return e.done(arguments).fail(arguments),this},then:function(){var a=arguments;return m.Deferred(function(c){m.each(b,function(b,f){var g=m.isFunction(a[b])&&a[b];e[f[1]](function(){var a=g&&g.apply(this,arguments);a&&m.isFunction(a.promise)?a.promise().done(c.resolve).fail(c.reject).progress(c.notify):c[f[0]+\"With\"](this===d?c.promise():this,g?[a]:arguments)})}),a=null}).promise()},promise:function(a){return null!=a?m.extend(a,d):d}},e={};return d.pipe=d.then,m.each(b,function(a,f){var g=f[2],h=f[3];d[f[1]]=g.add,h&&g.add(function(){c=h},b[1^a][2].disable,b[2][2].lock),e[f[0]]=function(){return e[f[0]+\"With\"](this===e?d:this,arguments),this},e[f[0]+\"With\"]=g.fireWith}),d.promise(e),a&&a.call(e,e),e},when:function(a){var b=0,c=d.call(arguments),e=c.length,f=1!==e||a&&m.isFunction(a.promise)?e:0,g=1===f?a:m.Deferred(),h=function(a,b,c){return function(e){b[a]=this,c[a]=arguments.length>1?d.call(arguments):e,c===i?g.notifyWith(b,c):--f||g.resolveWith(b,c)}},i,j,k;if(e>1)for(i=new Array(e),j=new Array(e),k=new Array(e);e>b;b++)c[b]&&m.isFunction(c[b].promise)?c[b].promise().done(h(b,k,c)).fail(g.reject).progress(h(b,j,i)):--f;return f||g.resolveWith(k,c),g.promise()}});var H;m.fn.ready=function(a){return m.ready.promise().done(a),this},m.extend({isReady:!1,readyWait:1,holdReady:function(a){a?m.readyWait++:m.ready(!0)},ready:function(a){if(a===!0?!--m.readyWait:!m.isReady){if(!y.body)return setTimeout(m.ready);m.isReady=!0,a!==!0&&--m.readyWait>0||(H.resolveWith(y,[m]),m.fn.triggerHandler&&(m(y).triggerHandler(\"ready\"),m(y).off(\"ready\")))}}});function I(){y.addEventListener?(y.removeEventListener(\"DOMContentLoaded\",J,!1),a.removeEventListener(\"load\",J,!1)):(y.detachEvent(\"onreadystatechange\",J),a.detachEvent(\"onload\",J))}\\nfunction J(){(y.addEventListener||\"load\"===event.type||\"complete\"===y.readyState)&&(I(),m.ready())}\\nm.ready.promise=function(b){if(!H)if(H=m.Deferred(),\"complete\"===y.readyState)setTimeout(m.ready);else if(y.addEventListener)y.addEventListener(\"DOMContentLoaded\",J,!1),a.addEventListener(\"load\",J,!1);else{y.attachEvent(\"onreadystatechange\",J),a.attachEvent(\"onload\",J);var c=!1;try{c=null==a.frameElement&&y.documentElement}catch(d){}\\nc&&c.doScroll&&!function e(){if(!m.isReady){try{c.doScroll(\"left\")}catch(a){return setTimeout(e,50)}\\nI(),m.ready()}}()}\\nreturn H.promise(b)};var K=\"undefined\",L;for(L in m(k))break;k.ownLast=\"0\"!==L,k.inlineBlockNeedsLayout=!1,m(function(){var a,b,c,d;c=y.getElementsByTagName(\"body\")[0],c&&c.style&&(b=y.createElement(\"div\"),d=y.createElement(\"div\"),d.style.cssText=\"position:absolute;border:0;width:0;height:0;top:0;left:-9999px\",c.appendChild(d).appendChild(b),typeof b.style.zoom!==K&&(b.style.cssText=\"display:inline;margin:0;border:0;padding:1px;width:1px;zoom:1\",k.inlineBlockNeedsLayout=a=3===b.offsetWidth,a&&(c.style.zoom=1)),c.removeChild(d))}),function(){var a=y.createElement(\"div\");if(null==k.deleteExpando){k.deleteExpando=!0;try{delete a.test}catch(b){k.deleteExpando=!1}}\\na=null}(),m.acceptData=function(a){var b=m.noData[(a.nodeName+\" \").toLowerCase()],c=+a.nodeType||1;return 1!==c&&9!==c?!1:!b||b!==!0&&a.getAttribute(\"classid\")===b};var M=/^(?:\\\\{[\\\\w\\\\W]*\\\\}|\\\\[[\\\\w\\\\W]*\\\\])$/,N=/([A-Z])/g;function O(a,b,c){if(void 0===c&&1===a.nodeType){var d=\"data-\"+b.replace(N,\"-$1\").toLowerCase();if(c=a.getAttribute(d),\"string\"==typeof c){try{c=\"true\"===c?!0:\"false\"===c?!1:\"null\"===c?null:+c+\"\"===c?+c:M.test(c)?m.parseJSON(c):c}catch(e){}\\nm.data(a,b,c)}else c=void 0}\\nreturn c}\\nfunction P(a){var b;for(b in a)if((\"data\"!==b||!m.isEmptyObject(a[b]))&&\"toJSON\"!==b)return!1;return!0}\\nfunction Q(a,b,d,e){if(m.acceptData(a)){var f,g,h=m.expando,i=a.nodeType,j=i?m.cache:a,k=i?a[h]:a[h]&&h;if(k&&j[k]&&(e||j[k].data)||void 0!==d||\"string\"!=typeof b)return k||(k=i?a[h]=c.pop()||m.guid++:h),j[k]||(j[k]=i?{}:{toJSON:m.noop}),(\"object\"==typeof b||\"function\"==typeof b)&&(e?j[k]=m.extend(j[k],b):j[k].data=m.extend(j[k].data,b)),g=j[k],e||(g.data||(g.data={}),g=g.data),void 0!==d&&(g[m.camelCase(b)]=d),\"string\"==typeof b?(f=g[b],null==f&&(f=g[m.camelCase(b)])):f=g,f}}\\nfunction R(a,b,c){if(m.acceptData(a)){var d,e,f=a.nodeType,g=f?m.cache:a,h=f?a[m.expando]:m.expando;if(g[h]){if(b&&(d=c?g[h]:g[h].data)){m.isArray(b)?b=b.concat(m.map(b,m.camelCase)):b in d?b=[b]:(b=m.camelCase(b),b=b in d?[b]:b.split(\" \")),e=b.length;while(e--)delete d[b[e]];if(c?!P(d):!m.isEmptyObject(d))return}(c||(delete g[h].data,P(g[h])))&&(f?m.cleanData([a],!0):k.deleteExpando||g!=g.window?delete g[h]:g[h]=null)}}}\\nm.extend({cache:{},noData:{\"applet \":!0,\"embed \":!0,\"object \":\"clsid:D27CDB6E-AE6D-11cf-96B8-444553540000\"},hasData:function(a){return a=a.nodeType?m.cache[a[m.expando]]:a[m.expando],!!a&&!P(a)},data:function(a,b,c){return Q(a,b,c)},removeData:function(a,b){return R(a,b)},_data:function(a,b,c){return Q(a,b,c,!0)},_removeData:function(a,b){return R(a,b,!0)}}),m.fn.extend({data:function(a,b){var c,d,e,f=this[0],g=f&&f.attributes;if(void 0===a){if(this.length&&(e=m.data(f),1===f.nodeType&&!m._data(f,\"parsedAttrs\"))){c=g.length;while(c--)g[c]&&(d=g[c].name,0===d.indexOf(\"data-\")&&(d=m.camelCase(d.slice(5)),O(f,d,e[d])));m._data(f,\"parsedAttrs\",!0)}\\nreturn e}\\nreturn\"object\"==typeof a?this.each(function(){m.data(this,a)}):arguments.length>1?this.each(function(){m.data(this,a,b)}):f?O(f,a,m.data(f,a)):void 0},removeData:function(a){return this.each(function(){m.removeData(this,a)})}}),m.extend({queue:function(a,b,c){var d;return a?(b=(b||\"fx\")+\"queue\",d=m._data(a,b),c&&(!d||m.isArray(c)?d=m._data(a,b,m.makeArray(c)):d.push(c)),d||[]):void 0},dequeue:function(a,b){b=b||\"fx\";var c=m.queue(a,b),d=c.length,e=c.shift(),f=m._queueHooks(a,b),g=function(){m.dequeue(a,b)};\"inprogress\"===e&&(e=c.shift(),d--),e&&(\"fx\"===b&&c.unshift(\"inprogress\"),delete f.stop,e.call(a,g,f)),!d&&f&&f.empty.fire()},_queueHooks:function(a,b){var c=b+\"queueHooks\";return m._data(a,c)||m._data(a,c,{empty:m.Callbacks(\"once memory\").add(function(){m._removeData(a,b+\"queue\"),m._removeData(a,c)})})}}),m.fn.extend({queue:function(a,b){var c=2;return\"string\"!=typeof a&&(b=a,a=\"fx\",c--),arguments.length<c?m.queue(this[0],a):void 0===b?this:this.each(function(){var c=m.queue(this,a,b);m._queueHooks(this,a),\"fx\"===a&&\"inprogress\"!==c[0]&&m.dequeue(this,a)})},dequeue:function(a){return this.each(function(){m.dequeue(this,a)})},clearQueue:function(a){return this.queue(a||\"fx\",[])},promise:function(a,b){var c,d=1,e=m.Deferred(),f=this,g=this.length,h=function(){--d||e.resolveWith(f,[f])};\"string\"!=typeof a&&(b=a,a=void 0),a=a||\"fx\";while(g--)c=m._data(f[g],a+\"queueHooks\"),c&&c.empty&&(d++,c.empty.add(h));return h(),e.promise(b)}});var S=/[+-]?(?:\\\\d*\\\\.|)\\\\d+(?:[eE][+-]?\\\\d+|)/.source,T=[\"Top\",\"Right\",\"Bottom\",\"Left\"],U=function(a,b){return a=b||a,\"none\"===m.css(a,\"display\")||!m.contains(a.ownerDocument,a)},V=m.access=function(a,b,c,d,e,f,g){var h=0,i=a.length,j=null==c;if(\"object\"===m.type(c)){e=!0;for(h in c)m.access(a,b,h,c[h],!0,f,g)}else if(void 0!==d&&(e=!0,m.isFunction(d)||(g=!0),j&&(g?(b.call(a,d),b=null):(j=b,b=function(a,b,c){return j.call(m(a),c)})),b))for(;i>h;h++)b(a[h],c,g?d:d.call(a[h],h,b(a[h],c)));return e?a:j?b.call(a):i?b(a[0],c):f},W=/^(?:checkbox|radio)$/i;!function(){var a=y.createElement(\"input\"),b=y.createElement(\"div\"),c=y.createDocumentFragment();if(b.innerHTML=\"  <link/><table></table><a href=\\'/a\\'>a</a><input type=\\'checkbox\\'/>\",k.leadingWhitespace=3===b.firstChild.nodeType,k.tbody=!b.getElementsByTagName(\"tbody\").length,k.htmlSerialize=!!b.getElementsByTagName(\"link\").length,k.html5Clone=\"<:nav></:nav>\"!==y.createElement(\"nav\").cloneNode(!0).outerHTML,a.type=\"checkbox\",a.checked=!0,c.appendChild(a),k.appendChecked=a.checked,b.innerHTML=\"<textarea>x</textarea>\",k.noCloneChecked=!!b.cloneNode(!0).lastChild.defaultValue,c.appendChild(b),b.innerHTML=\"<input type=\\'radio\\' checked=\\'checked\\' name=\\'t\\'/>\",k.checkClone=b.cloneNode(!0).cloneNode(!0).lastChild.checked,k.noCloneEvent=!0,b.attachEvent&&(b.attachEvent(\"onclick\",function(){k.noCloneEvent=!1}),b.cloneNode(!0).click()),null==k.deleteExpando){k.deleteExpando=!0;try{delete b.test}catch(d){k.deleteExpando=!1}}}(),function(){var b,c,d=y.createElement(\"div\");for(b in{submit:!0,change:!0,focusin:!0})c=\"on\"+b,(k[b+\"Bubbles\"]=c in a)||(d.setAttribute(c,\"t\"),k[b+\"Bubbles\"]=d.attributes[c].expando===!1);d=null}();var X=/^(?:input|select|textarea)$/i,Y=/^key/,Z=/^(?:mouse|pointer|contextmenu)|click/,$=/^(?:focusinfocus|focusoutblur)$/,_=/^([^.]*)(?:\\\\.(.+)|)$/;function ab(){return!0}\\nfunction bb(){return!1}\\nfunction cb(){try{return y.activeElement}catch(a){}}\\nm.event={global:{},add:function(a,b,c,d,e){var f,g,h,i,j,k,l,n,o,p,q,r=m._data(a);if(r){c.handler&&(i=c,c=i.handler,e=i.selector),c.guid||(c.guid=m.guid++),(g=r.events)||(g=r.events={}),(k=r.handle)||(k=r.handle=function(a){return typeof m===K||a&&m.event.triggered===a.type?void 0:m.event.dispatch.apply(k.elem,arguments)},k.elem=a),b=(b||\"\").match(E)||[\"\"],h=b.length;while(h--)f=_.exec(b[h])||[],o=q=f[1],p=(f[2]||\"\").split(\".\").sort(),o&&(j=m.event.special[o]||{},o=(e?j.delegateType:j.bindType)||o,j=m.event.special[o]||{},l=m.extend({type:o,origType:q,data:d,handler:c,guid:c.guid,selector:e,needsContext:e&&m.expr.match.needsContext.test(e),namespace:p.join(\".\")},i),(n=g[o])||(n=g[o]=[],n.delegateCount=0,j.setup&&j.setup.call(a,d,p,k)!==!1||(a.addEventListener?a.addEventListener(o,k,!1):a.attachEvent&&a.attachEvent(\"on\"+o,k))),j.add&&(j.add.call(a,l),l.handler.guid||(l.handler.guid=c.guid)),e?n.splice(n.delegateCount++,0,l):n.push(l),m.event.global[o]=!0);a=null}},remove:function(a,b,c,d,e){var f,g,h,i,j,k,l,n,o,p,q,r=m.hasData(a)&&m._data(a);if(r&&(k=r.events)){b=(b||\"\").match(E)||[\"\"],j=b.length;while(j--)if(h=_.exec(b[j])||[],o=q=h[1],p=(h[2]||\"\").split(\".\").sort(),o){l=m.event.special[o]||{},o=(d?l.delegateType:l.bindType)||o,n=k[o]||[],h=h[2]&&new RegExp(\"(^|\\\\\\\\.)\"+p.join(\"\\\\\\\\.(?:.*\\\\\\\\.|)\")+\"(\\\\\\\\.|$)\"),i=f=n.length;while(f--)g=n[f],!e&&q!==g.origType||c&&c.guid!==g.guid||h&&!h.test(g.namespace)||d&&d!==g.selector&&(\"**\"!==d||!g.selector)||(n.splice(f,1),g.selector&&n.delegateCount--,l.remove&&l.remove.call(a,g));i&&!n.length&&(l.teardown&&l.teardown.call(a,p,r.handle)!==!1||m.removeEvent(a,o,r.handle),delete k[o])}else for(o in k)m.event.remove(a,o+b[j],c,d,!0);m.isEmptyObject(k)&&(delete r.handle,m._removeData(a,\"events\"))}},trigger:function(b,c,d,e){var f,g,h,i,k,l,n,o=[d||y],p=j.call(b,\"type\")?b.type:b,q=j.call(b,\"namespace\")?b.namespace.split(\".\"):[];if(h=l=d=d||y,3!==d.nodeType&&8!==d.nodeType&&!$.test(p+m.event.triggered)&&(p.indexOf(\".\")>=0&&(q=p.split(\".\"),p=q.shift(),q.sort()),g=p.indexOf(\":\")<0&&\"on\"+p,b=b[m.expando]?b:new m.Event(p,\"object\"==typeof b&&b),b.isTrigger=e?2:3,b.namespace=q.join(\".\"),b.namespace_re=b.namespace?new RegExp(\"(^|\\\\\\\\.)\"+q.join(\"\\\\\\\\.(?:.*\\\\\\\\.|)\")+\"(\\\\\\\\.|$)\"):null,b.result=void 0,b.target||(b.target=d),c=null==c?[b]:m.makeArray(c,[b]),k=m.event.special[p]||{},e||!k.trigger||k.trigger.apply(d,c)!==!1)){if(!e&&!k.noBubble&&!m.isWindow(d)){for(i=k.delegateType||p,$.test(i+p)||(h=h.parentNode);h;h=h.parentNode)o.push(h),l=h;l===(d.ownerDocument||y)&&o.push(l.defaultView||l.parentWindow||a)}\\nn=0;while((h=o[n++])&&!b.isPropagationStopped())b.type=n>1?i:k.bindType||p,f=(m._data(h,\"events\")||{})[b.type]&&m._data(h,\"handle\"),f&&f.apply(h,c),f=g&&h[g],f&&f.apply&&m.acceptData(h)&&(b.result=f.apply(h,c),b.result===!1&&b.preventDefault());if(b.type=p,!e&&!b.isDefaultPrevented()&&(!k._default||k._default.apply(o.pop(),c)===!1)&&m.acceptData(d)&&g&&d[p]&&!m.isWindow(d)){l=d[g],l&&(d[g]=null),m.event.triggered=p;try{d[p]()}catch(r){}\\nm.event.triggered=void 0,l&&(d[g]=l)}\\nreturn b.result}},dispatch:function(a){a=m.event.fix(a);var b,c,e,f,g,h=[],i=d.call(arguments),j=(m._data(this,\"events\")||{})[a.type]||[],k=m.event.special[a.type]||{};if(i[0]=a,a.delegateTarget=this,!k.preDispatch||k.preDispatch.call(this,a)!==!1){h=m.event.handlers.call(this,a,j),b=0;while((f=h[b++])&&!a.isPropagationStopped()){a.currentTarget=f.elem,g=0;while((e=f.handlers[g++])&&!a.isImmediatePropagationStopped())(!a.namespace_re||a.namespace_re.test(e.namespace))&&(a.handleObj=e,a.data=e.data,c=((m.event.special[e.origType]||{}).handle||e.handler).apply(f.elem,i),void 0!==c&&(a.result=c)===!1&&(a.preventDefault(),a.stopPropagation()))}\\nreturn k.postDispatch&&k.postDispatch.call(this,a),a.result}},handlers:function(a,b){var c,d,e,f,g=[],h=b.delegateCount,i=a.target;if(h&&i.nodeType&&(!a.button||\"click\"!==a.type))for(;i!=this;i=i.parentNode||this)if(1===i.nodeType&&(i.disabled!==!0||\"click\"!==a.type)){for(e=[],f=0;h>f;f++)d=b[f],c=d.selector+\" \",void 0===e[c]&&(e[c]=d.needsContext?m(c,this).index(i)>=0:m.find(c,this,null,[i]).length),e[c]&&e.push(d);e.length&&g.push({elem:i,handlers:e})}\\nreturn h<b.length&&g.push({elem:this,handlers:b.slice(h)}),g},fix:function(a){if(a[m.expando])return a;var b,c,d,e=a.type,f=a,g=this.fixHooks[e];g||(this.fixHooks[e]=g=Z.test(e)?this.mouseHooks:Y.test(e)?this.keyHooks:{}),d=g.props?this.props.concat(g.props):this.props,a=new m.Event(f),b=d.length;while(b--)c=d[b],a[c]=f[c];return a.target||(a.target=f.srcElement||y),3===a.target.nodeType&&(a.target=a.target.parentNode),a.metaKey=!!a.metaKey,g.filter?g.filter(a,f):a},props:\"altKey bubbles cancelable ctrlKey currentTarget eventPhase metaKey relatedTarget shiftKey target timeStamp view which\".split(\" \"),fixHooks:{},keyHooks:{props:\"char charCode key keyCode\".split(\" \"),filter:function(a,b){return null==a.which&&(a.which=null!=b.charCode?b.charCode:b.keyCode),a}},mouseHooks:{props:\"button buttons clientX clientY fromElement offsetX offsetY pageX pageY screenX screenY toElement\".split(\" \"),filter:function(a,b){var c,d,e,f=b.button,g=b.fromElement;return null==a.pageX&&null!=b.clientX&&(d=a.target.ownerDocument||y,e=d.documentElement,c=d.body,a.pageX=b.clientX+(e&&e.scrollLeft||c&&c.scrollLeft||0)-(e&&e.clientLeft||c&&c.clientLeft||0),a.pageY=b.clientY+(e&&e.scrollTop||c&&c.scrollTop||0)-(e&&e.clientTop||c&&c.clientTop||0)),!a.relatedTarget&&g&&(a.relatedTarget=g===a.target?b.toElement:g),a.which||void 0===f||(a.which=1&f?1:2&f?3:4&f?2:0),a}},special:{load:{noBubble:!0},focus:{trigger:function(){if(this!==cb()&&this.focus)try{return this.focus(),!1}catch(a){}},delegateType:\"focusin\"},blur:{trigger:function(){return this===cb()&&this.blur?(this.blur(),!1):void 0},delegateType:\"focusout\"},click:{trigger:function(){return m.nodeName(this,\"input\")&&\"checkbox\"===this.type&&this.click?(this.click(),!1):void 0},_default:function(a){return m.nodeName(a.target,\"a\")}},beforeunload:{postDispatch:function(a){void 0!==a.result&&a.originalEvent&&(a.originalEvent.returnValue=a.result)}}},simulate:function(a,b,c,d){var e=m.extend(new m.Event,c,{type:a,isSimulated:!0,originalEvent:{}});d?m.event.trigger(e,null,b):m.event.dispatch.call(b,e),e.isDefaultPrevented()&&c.preventDefault()}},m.removeEvent=y.removeEventListener?function(a,b,c){a.removeEventListener&&a.removeEventListener(b,c,!1)}:function(a,b,c){var d=\"on\"+b;a.detachEvent&&(typeof a[d]===K&&(a[d]=null),a.detachEvent(d,c))},m.Event=function(a,b){return this instanceof m.Event?(a&&a.type?(this.originalEvent=a,this.type=a.type,this.isDefaultPrevented=a.defaultPrevented||void 0===a.defaultPrevented&&a.returnValue===!1?ab:bb):this.type=a,b&&m.extend(this,b),this.timeStamp=a&&a.timeStamp||m.now(),void(this[m.expando]=!0)):new m.Event(a,b)},m.Event.prototype={isDefaultPrevented:bb,isPropagationStopped:bb,isImmediatePropagationStopped:bb,preventDefault:function(){var a=this.originalEvent;this.isDefaultPrevented=ab,a&&(a.preventDefault?a.preventDefault():a.returnValue=!1)},stopPropagation:function(){var a=this.originalEvent;this.isPropagationStopped=ab,a&&(a.stopPropagation&&a.stopPropagation(),a.cancelBubble=!0)},stopImmediatePropagation:function(){var a=this.originalEvent;this.isImmediatePropagationStopped=ab,a&&a.stopImmediatePropagation&&a.stopImmediatePropagation(),this.stopPropagation()}},m.each({mouseenter:\"mouseover\",mouseleave:\"mouseout\",pointerenter:\"pointerover\",pointerleave:\"pointerout\"},function(a,b){m.event.special[a]={delegateType:b,bindType:b,handle:function(a){var c,d=this,e=a.relatedTarget,f=a.handleObj;return(!e||e!==d&&!m.contains(d,e))&&(a.type=f.origType,c=f.handler.apply(this,arguments),a.type=b),c}}}),k.submitBubbles||(m.event.special.submit={setup:function(){return m.nodeName(this,\"form\")?!1:void m.event.add(this,\"click._submit keypress._submit\",function(a){var b=a.target,c=m.nodeName(b,\"input\")||m.nodeName(b,\"button\")?b.form:void 0;c&&!m._data(c,\"submitBubbles\")&&(m.event.add(c,\"submit._submit\",function(a){a._submit_bubble=!0}),m._data(c,\"submitBubbles\",!0))})},postDispatch:function(a){a._submit_bubble&&(delete a._submit_bubble,this.parentNode&&!a.isTrigger&&m.event.simulate(\"submit\",this.parentNode,a,!0))},teardown:function(){return m.nodeName(this,\"form\")?!1:void m.event.remove(this,\"._submit\")}}),k.changeBubbles||(m.event.special.change={setup:function(){return X.test(this.nodeName)?((\"checkbox\"===this.type||\"radio\"===this.type)&&(m.event.add(this,\"propertychange._change\",function(a){\"checked\"===a.originalEvent.propertyName&&(this._just_changed=!0)}),m.event.add(this,\"click._change\",function(a){this._just_changed&&!a.isTrigger&&(this._just_changed=!1),m.event.simulate(\"change\",this,a,!0)})),!1):void m.event.add(this,\"beforeactivate._change\",function(a){var b=a.target;X.test(b.nodeName)&&!m._data(b,\"changeBubbles\")&&(m.event.add(b,\"change._change\",function(a){!this.parentNode||a.isSimulated||a.isTrigger||m.event.simulate(\"change\",this.parentNode,a,!0)}),m._data(b,\"changeBubbles\",!0))})},handle:function(a){var b=a.target;return this!==b||a.isSimulated||a.isTrigger||\"radio\"!==b.type&&\"checkbox\"!==b.type?a.handleObj.handler.apply(this,arguments):void 0},teardown:function(){return m.event.remove(this,\"._change\"),!X.test(this.nodeName)}}),k.focusinBubbles||m.each({focus:\"focusin\",blur:\"focusout\"},function(a,b){var c=function(a){m.event.simulate(b,a.target,m.event.fix(a),!0)};m.event.special[b]={setup:function(){var d=this.ownerDocument||this,e=m._data(d,b);e||d.addEventListener(a,c,!0),m._data(d,b,(e||0)+1)},teardown:function(){var d=this.ownerDocument||this,e=m._data(d,b)-1;e?m._data(d,b,e):(d.removeEventListener(a,c,!0),m._removeData(d,b))}}}),m.fn.extend({on:function(a,b,c,d,e){var f,g;if(\"object\"==typeof a){\"string\"!=typeof b&&(c=c||b,b=void 0);for(f in a)this.on(f,b,c,a[f],e);return this}\\nif(null==c&&null==d?(d=b,c=b=void 0):null==d&&(\"string\"==typeof b?(d=c,c=void 0):(d=c,c=b,b=void 0)),d===!1)d=bb;else if(!d)return this;return 1===e&&(g=d,d=function(a){return m().off(a),g.apply(this,arguments)},d.guid=g.guid||(g.guid=m.guid++)),this.each(function(){m.event.add(this,a,d,c,b)})},one:function(a,b,c,d){return this.on(a,b,c,d,1)},off:function(a,b,c){var d,e;if(a&&a.preventDefault&&a.handleObj)return d=a.handleObj,m(a.delegateTarget).off(d.namespace?d.origType+\".\"+d.namespace:d.origType,d.selector,d.handler),this;if(\"object\"==typeof a){for(e in a)this.off(e,b,a[e]);return this}\\nreturn(b===!1||\"function\"==typeof b)&&(c=b,b=void 0),c===!1&&(c=bb),this.each(function(){m.event.remove(this,a,c,b)})},trigger:function(a,b){return this.each(function(){m.event.trigger(a,b,this)})},triggerHandler:function(a,b){var c=this[0];return c?m.event.trigger(a,b,c,!0):void 0}});function db(a){var b=eb.split(\"|\"),c=a.createDocumentFragment();if(c.createElement)while(b.length)c.createElement(b.pop());return c}\\nvar eb=\"abbr|article|aside|audio|bdi|canvas|data|datalist|details|figcaption|figure|footer|header|hgroup|mark|meter|nav|output|progress|section|summary|time|video\",fb=/ jQuery\\\\d+=\"(?:null|\\\\d+)\"/g,gb=new RegExp(\"<(?:\"+eb+\")[\\\\\\\\s/>]\",\"i\"),hb=/^\\\\s+/,ib=/<(?!area|br|col|embed|hr|img|input|link|meta|param)(([\\\\w:]+)[^>]*)\\\\/>/gi,jb=/<([\\\\w:]+)/,kb=/<tbody/i,lb=/<|&#?\\\\w+;/,mb=/<(?:script|style|link)/i,nb=/checked\\\\s*(?:[^=]|=\\\\s*.checked.)/i,ob=/^$|\\\\/(?:java|ecma)script/i,pb=/^true\\\\/(.*)/,qb=/^\\\\s*<!(?:\\\\[CDATA\\\\[|--)|(?:\\\\]\\\\]|--)>\\\\s*$/g,rb={option:[1,\"<select multiple=\\'multiple\\'>\",\"</select>\"],legend:[1,\"<fieldset>\",\"</fieldset>\"],area:[1,\"<map>\",\"</map>\"],param:[1,\"<object>\",\"</object>\"],thead:[1,\"<table>\",\"</table>\"],tr:[2,\"<table><tbody>\",\"</tbody></table>\"],col:[2,\"<table><tbody></tbody><colgroup>\",\"</colgroup></table>\"],td:[3,\"<table><tbody><tr>\",\"</tr></tbody></table>\"],_default:k.htmlSerialize?[0,\"\",\"\"]:[1,\"X<div>\",\"</div>\"]},sb=db(y),tb=sb.appendChild(y.createElement(\"div\"));rb.optgroup=rb.option,rb.tbody=rb.tfoot=rb.colgroup=rb.caption=rb.thead,rb.th=rb.td;function ub(a,b){var c,d,e=0,f=typeof a.getElementsByTagName!==K?a.getElementsByTagName(b||\"*\"):typeof a.querySelectorAll!==K?a.querySelectorAll(b||\"*\"):void 0;if(!f)for(f=[],c=a.childNodes||a;null!=(d=c[e]);e++)!b||m.nodeName(d,b)?f.push(d):m.merge(f,ub(d,b));return void 0===b||b&&m.nodeName(a,b)?m.merge([a],f):f}\\nfunction vb(a){W.test(a.type)&&(a.defaultChecked=a.checked)}\\nfunction wb(a,b){return m.nodeName(a,\"table\")&&m.nodeName(11!==b.nodeType?b:b.firstChild,\"tr\")?a.getElementsByTagName(\"tbody\")[0]||a.appendChild(a.ownerDocument.createElement(\"tbody\")):a}\\nfunction xb(a){return a.type=(null!==m.find.attr(a,\"type\"))+\"/\"+a.type,a}\\nfunction yb(a){var b=pb.exec(a.type);return b?a.type=b[1]:a.removeAttribute(\"type\"),a}\\nfunction zb(a,b){for(var c,d=0;null!=(c=a[d]);d++)m._data(c,\"globalEval\",!b||m._data(b[d],\"globalEval\"))}\\nfunction Ab(a,b){if(1===b.nodeType&&m.hasData(a)){var c,d,e,f=m._data(a),g=m._data(b,f),h=f.events;if(h){delete g.handle,g.events={};for(c in h)for(d=0,e=h[c].length;e>d;d++)m.event.add(b,c,h[c][d])}\\ng.data&&(g.data=m.extend({},g.data))}}\\nfunction Bb(a,b){var c,d,e;if(1===b.nodeType){if(c=b.nodeName.toLowerCase(),!k.noCloneEvent&&b[m.expando]){e=m._data(b);for(d in e.events)m.removeEvent(b,d,e.handle);b.removeAttribute(m.expando)}\\n\"script\"===c&&b.text!==a.text?(xb(b).text=a.text,yb(b)):\"object\"===c?(b.parentNode&&(b.outerHTML=a.outerHTML),k.html5Clone&&a.innerHTML&&!m.trim(b.innerHTML)&&(b.innerHTML=a.innerHTML)):\"input\"===c&&W.test(a.type)?(b.defaultChecked=b.checked=a.checked,b.value!==a.value&&(b.value=a.value)):\"option\"===c?b.defaultSelected=b.selected=a.defaultSelected:(\"input\"===c||\"textarea\"===c)&&(b.defaultValue=a.defaultValue)}}\\nm.extend({clone:function(a,b,c){var d,e,f,g,h,i=m.contains(a.ownerDocument,a);if(k.html5Clone||m.isXMLDoc(a)||!gb.test(\"<\"+a.nodeName+\">\")?f=a.cloneNode(!0):(tb.innerHTML=a.outerHTML,tb.removeChild(f=tb.firstChild)),!(k.noCloneEvent&&k.noCloneChecked||1!==a.nodeType&&11!==a.nodeType||m.isXMLDoc(a)))for(d=ub(f),h=ub(a),g=0;null!=(e=h[g]);++g)d[g]&&Bb(e,d[g]);if(b)if(c)for(h=h||ub(a),d=d||ub(f),g=0;null!=(e=h[g]);g++)Ab(e,d[g]);else Ab(a,f);return d=ub(f,\"script\"),d.length>0&&zb(d,!i&&ub(a,\"script\")),d=h=e=null,f},buildFragment:function(a,b,c,d){for(var e,f,g,h,i,j,l,n=a.length,o=db(b),p=[],q=0;n>q;q++)if(f=a[q],f||0===f)if(\"object\"===m.type(f))m.merge(p,f.nodeType?[f]:f);else if(lb.test(f)){h=h||o.appendChild(b.createElement(\"div\")),i=(jb.exec(f)||[\"\",\"\"])[1].toLowerCase(),l=rb[i]||rb._default,h.innerHTML=l[1]+f.replace(ib,\"<$1></$2>\")+l[2],e=l[0];while(e--)h=h.lastChild;if(!k.leadingWhitespace&&hb.test(f)&&p.push(b.createTextNode(hb.exec(f)[0])),!k.tbody){f=\"table\"!==i||kb.test(f)?\"<table>\"!==l[1]||kb.test(f)?0:h:h.firstChild,e=f&&f.childNodes.length;while(e--)m.nodeName(j=f.childNodes[e],\"tbody\")&&!j.childNodes.length&&f.removeChild(j)}\\nm.merge(p,h.childNodes),h.textContent=\"\";while(h.firstChild)h.removeChild(h.firstChild);h=o.lastChild}else p.push(b.createTextNode(f));h&&o.removeChild(h),k.appendChecked||m.grep(ub(p,\"input\"),vb),q=0;while(f=p[q++])if((!d||-1===m.inArray(f,d))&&(g=m.contains(f.ownerDocument,f),h=ub(o.appendChild(f),\"script\"),g&&zb(h),c)){e=0;while(f=h[e++])ob.test(f.type||\"\")&&c.push(f)}\\nreturn h=null,o},cleanData:function(a,b){for(var d,e,f,g,h=0,i=m.expando,j=m.cache,l=k.deleteExpando,n=m.event.special;null!=(d=a[h]);h++)if((b||m.acceptData(d))&&(f=d[i],g=f&&j[f])){if(g.events)for(e in g.events)n[e]?m.event.remove(d,e):m.removeEvent(d,e,g.handle);j[f]&&(delete j[f],l?delete d[i]:typeof d.removeAttribute!==K?d.removeAttribute(i):d[i]=null,c.push(f))}}}),m.fn.extend({text:function(a){return V(this,function(a){return void 0===a?m.text(this):this.empty().append((this[0]&&this[0].ownerDocument||y).createTextNode(a))},null,a,arguments.length)},append:function(){return this.domManip(arguments,function(a){if(1===this.nodeType||11===this.nodeType||9===this.nodeType){var b=wb(this,a);b.appendChild(a)}})},prepend:function(){return this.domManip(arguments,function(a){if(1===this.nodeType||11===this.nodeType||9===this.nodeType){var b=wb(this,a);b.insertBefore(a,b.firstChild)}})},before:function(){return this.domManip(arguments,function(a){this.parentNode&&this.parentNode.insertBefore(a,this)})},after:function(){return this.domManip(arguments,function(a){this.parentNode&&this.parentNode.insertBefore(a,this.nextSibling)})},remove:function(a,b){for(var c,d=a?m.filter(a,this):this,e=0;null!=(c=d[e]);e++)b||1!==c.nodeType||m.cleanData(ub(c)),c.parentNode&&(b&&m.contains(c.ownerDocument,c)&&zb(ub(c,\"script\")),c.parentNode.removeChild(c));return this},empty:function(){for(var a,b=0;null!=(a=this[b]);b++){1===a.nodeType&&m.cleanData(ub(a,!1));while(a.firstChild)a.removeChild(a.firstChild);a.options&&m.nodeName(a,\"select\")&&(a.options.length=0)}\\nreturn this},clone:function(a,b){return a=null==a?!1:a,b=null==b?a:b,this.map(function(){return m.clone(this,a,b)})},html:function(a){return V(this,function(a){var b=this[0]||{},c=0,d=this.length;if(void 0===a)return 1===b.nodeType?b.innerHTML.replace(fb,\"\"):void 0;if(!(\"string\"!=typeof a||mb.test(a)||!k.htmlSerialize&&gb.test(a)||!k.leadingWhitespace&&hb.test(a)||rb[(jb.exec(a)||[\"\",\"\"])[1].toLowerCase()])){a=a.replace(ib,\"<$1></$2>\");try{for(;d>c;c++)b=this[c]||{},1===b.nodeType&&(m.cleanData(ub(b,!1)),b.innerHTML=a);b=0}catch(e){}}\\nb&&this.empty().append(a)},null,a,arguments.length)},replaceWith:function(){var a=arguments[0];return this.domManip(arguments,function(b){a=this.parentNode,m.cleanData(ub(this)),a&&a.replaceChild(b,this)}),a&&(a.length||a.nodeType)?this:this.remove()},detach:function(a){return this.remove(a,!0)},domManip:function(a,b){a=e.apply([],a);var c,d,f,g,h,i,j=0,l=this.length,n=this,o=l-1,p=a[0],q=m.isFunction(p);if(q||l>1&&\"string\"==typeof p&&!k.checkClone&&nb.test(p))return this.each(function(c){var d=n.eq(c);q&&(a[0]=p.call(this,c,d.html())),d.domManip(a,b)});if(l&&(i=m.buildFragment(a,this[0].ownerDocument,!1,this),c=i.firstChild,1===i.childNodes.length&&(i=c),c)){for(g=m.map(ub(i,\"script\"),xb),f=g.length;l>j;j++)d=i,j!==o&&(d=m.clone(d,!0,!0),f&&m.merge(g,ub(d,\"script\"))),b.call(this[j],d,j);if(f)for(h=g[g.length-1].ownerDocument,m.map(g,yb),j=0;f>j;j++)d=g[j],ob.test(d.type||\"\")&&!m._data(d,\"globalEval\")&&m.contains(h,d)&&(d.src?m._evalUrl&&m._evalUrl(d.src):m.globalEval((d.text||d.textContent||d.innerHTML||\"\").replace(qb,\"\")));i=c=null}\\nreturn this}}),m.each({appendTo:\"append\",prependTo:\"prepend\",insertBefore:\"before\",insertAfter:\"after\",replaceAll:\"replaceWith\"},function(a,b){m.fn[a]=function(a){for(var c,d=0,e=[],g=m(a),h=g.length-1;h>=d;d++)c=d===h?this:this.clone(!0),m(g[d])[b](c),f.apply(e,c.get());return this.pushStack(e)}});var Cb,Db={};function Eb(b,c){var d,e=m(c.createElement(b)).appendTo(c.body),f=a.getDefaultComputedStyle&&(d=a.getDefaultComputedStyle(e[0]))?d.display:m.css(e[0],\"display\");return e.detach(),f}\\nfunction Fb(a){var b=y,c=Db[a];return c||(c=Eb(a,b),\"none\"!==c&&c||(Cb=(Cb||m(\"<iframe frameborder=\\'0\\' width=\\'0\\' height=\\'0\\'/>\")).appendTo(b.documentElement),b=(Cb[0].contentWindow||Cb[0].contentDocument).document,b.write(),b.close(),c=Eb(a,b),Cb.detach()),Db[a]=c),c}\\n!function(){var a;k.shrinkWrapBlocks=function(){if(null!=a)return a;a=!1;var b,c,d;return c=y.getElementsByTagName(\"body\")[0],c&&c.style?(b=y.createElement(\"div\"),d=y.createElement(\"div\"),d.style.cssText=\"position:absolute;border:0;width:0;height:0;top:0;left:-9999px\",c.appendChild(d).appendChild(b),typeof b.style.zoom!==K&&(b.style.cssText=\"-webkit-box-sizing:content-box;-moz-box-sizing:content-box;box-sizing:content-box;display:block;margin:0;border:0;padding:1px;width:1px;zoom:1\",b.appendChild(y.createElement(\"div\")).style.width=\"5px\",a=3!==b.offsetWidth),c.removeChild(d),a):void 0}}();var Gb=/^margin/,Hb=new RegExp(\"^(\"+S+\")(?!px)[a-z%]+$\",\"i\"),Ib,Jb,Kb=/^(top|right|bottom|left)$/;a.getComputedStyle?(Ib=function(b){return b.ownerDocument.defaultView.opener?b.ownerDocument.defaultView.getComputedStyle(b,null):a.getComputedStyle(b,null)},Jb=function(a,b,c){var d,e,f,g,h=a.style;return c=c||Ib(a),g=c?c.getPropertyValue(b)||c[b]:void 0,c&&(\"\"!==g||m.contains(a.ownerDocument,a)||(g=m.style(a,b)),Hb.test(g)&&Gb.test(b)&&(d=h.width,e=h.minWidth,f=h.maxWidth,h.minWidth=h.maxWidth=h.width=g,g=c.width,h.width=d,h.minWidth=e,h.maxWidth=f)),void 0===g?g:g+\"\"}):y.documentElement.currentStyle&&(Ib=function(a){return a.currentStyle},Jb=function(a,b,c){var d,e,f,g,h=a.style;return c=c||Ib(a),g=c?c[b]:void 0,null==g&&h&&h[b]&&(g=h[b]),Hb.test(g)&&!Kb.test(b)&&(d=h.left,e=a.runtimeStyle,f=e&&e.left,f&&(e.left=a.currentStyle.left),h.left=\"fontSize\"===b?\"1em\":g,g=h.pixelLeft+\"px\",h.left=d,f&&(e.left=f)),void 0===g?g:g+\"\"||\"auto\"});function Lb(a,b){return{get:function(){var c=a();if(null!=c)return c?void delete this.get:(this.get=b).apply(this,arguments)}}}\\n!function(){var b,c,d,e,f,g,h;if(b=y.createElement(\"div\"),b.innerHTML=\"  <link/><table></table><a href=\\'/a\\'>a</a><input type=\\'checkbox\\'/>\",d=b.getElementsByTagName(\"a\")[0],c=d&&d.style){c.cssText=\"float:left;opacity:.5\",k.opacity=\"0.5\"===c.opacity,k.cssFloat=!!c.cssFloat,b.style.backgroundClip=\"content-box\",b.cloneNode(!0).style.backgroundClip=\"\",k.clearCloneStyle=\"content-box\"===b.style.backgroundClip,k.boxSizing=\"\"===c.boxSizing||\"\"===c.MozBoxSizing||\"\"===c.WebkitBoxSizing,m.extend(k,{reliableHiddenOffsets:function(){return null==g&&i(),g},boxSizingReliable:function(){return null==f&&i(),f},pixelPosition:function(){return null==e&&i(),e},reliableMarginRight:function(){return null==h&&i(),h}});function i(){var b,c,d,i;c=y.getElementsByTagName(\"body\")[0],c&&c.style&&(b=y.createElement(\"div\"),d=y.createElement(\"div\"),d.style.cssText=\"position:absolute;border:0;width:0;height:0;top:0;left:-9999px\",c.appendChild(d).appendChild(b),b.style.cssText=\"-webkit-box-sizing:border-box;-moz-box-sizing:border-box;box-sizing:border-box;display:block;margin-top:1%;top:1%;border:1px;padding:1px;width:4px;position:absolute\",e=f=!1,h=!0,a.getComputedStyle&&(e=\"1%\"!==(a.getComputedStyle(b,null)||{}).top,f=\"4px\"===(a.getComputedStyle(b,null)||{width:\"4px\"}).width,i=b.appendChild(y.createElement(\"div\")),i.style.cssText=b.style.cssText=\"-webkit-box-sizing:content-box;-moz-box-sizing:content-box;box-sizing:content-box;display:block;margin:0;border:0;padding:0\",i.style.marginRight=i.style.width=\"0\",b.style.width=\"1px\",h=!parseFloat((a.getComputedStyle(i,null)||{}).marginRight),b.removeChild(i)),b.innerHTML=\"<table><tr><td></td><td>t</td></tr></table>\",i=b.getElementsByTagName(\"td\"),i[0].style.cssText=\"margin:0;border:0;padding:0;display:none\",g=0===i[0].offsetHeight,g&&(i[0].style.display=\"\",i[1].style.display=\"none\",g=0===i[0].offsetHeight),c.removeChild(d))}}}(),m.swap=function(a,b,c,d){var e,f,g={};for(f in b)g[f]=a.style[f],a.style[f]=b[f];e=c.apply(a,d||[]);for(f in b)a.style[f]=g[f];return e};var Mb=/alpha\\\\([^)]*\\\\)/i,Nb=/opacity\\\\s*=\\\\s*([^)]*)/,Ob=/^(none|table(?!-c[ea]).+)/,Pb=new RegExp(\"^(\"+S+\")(.*)$\",\"i\"),Qb=new RegExp(\"^([+-])=(\"+S+\")\",\"i\"),Rb={position:\"absolute\",visibility:\"hidden\",display:\"block\"},Sb={letterSpacing:\"0\",fontWeight:\"400\"},Tb=[\"Webkit\",\"O\",\"Moz\",\"ms\"];function Ub(a,b){if(b in a)return b;var c=b.charAt(0).toUpperCase()+b.slice(1),d=b,e=Tb.length;while(e--)if(b=Tb[e]+c,b in a)return b;return d}\\nfunction Vb(a,b){for(var c,d,e,f=[],g=0,h=a.length;h>g;g++)d=a[g],d.style&&(f[g]=m._data(d,\"olddisplay\"),c=d.style.display,b?(f[g]||\"none\"!==c||(d.style.display=\"\"),\"\"===d.style.display&&U(d)&&(f[g]=m._data(d,\"olddisplay\",Fb(d.nodeName)))):(e=U(d),(c&&\"none\"!==c||!e)&&m._data(d,\"olddisplay\",e?c:m.css(d,\"display\"))));for(g=0;h>g;g++)d=a[g],d.style&&(b&&\"none\"!==d.style.display&&\"\"!==d.style.display||(d.style.display=b?f[g]||\"\":\"none\"));return a}\\nfunction Wb(a,b,c){var d=Pb.exec(b);return d?Math.max(0,d[1]-(c||0))+(d[2]||\"px\"):b}\\nfunction Xb(a,b,c,d,e){for(var f=c===(d?\"border\":\"content\")?4:\"width\"===b?1:0,g=0;4>f;f+=2)\"margin\"===c&&(g+=m.css(a,c+T[f],!0,e)),d?(\"content\"===c&&(g-=m.css(a,\"padding\"+T[f],!0,e)),\"margin\"!==c&&(g-=m.css(a,\"border\"+T[f]+\"Width\",!0,e))):(g+=m.css(a,\"padding\"+T[f],!0,e),\"padding\"!==c&&(g+=m.css(a,\"border\"+T[f]+\"Width\",!0,e)));return g}\\nfunction Yb(a,b,c){var d=!0,e=\"width\"===b?a.offsetWidth:a.offsetHeight,f=Ib(a),g=k.boxSizing&&\"border-box\"===m.css(a,\"boxSizing\",!1,f);if(0>=e||null==e){if(e=Jb(a,b,f),(0>e||null==e)&&(e=a.style[b]),Hb.test(e))return e;d=g&&(k.boxSizingReliable()||e===a.style[b]),e=parseFloat(e)||0}\\nreturn e+Xb(a,b,c||(g?\"border\":\"content\"),d,f)+\"px\"}\\nm.extend({cssHooks:{opacity:{get:function(a,b){if(b){var c=Jb(a,\"opacity\");return\"\"===c?\"1\":c}}}},cssNumber:{columnCount:!0,fillOpacity:!0,flexGrow:!0,flexShrink:!0,fontWeight:!0,lineHeight:!0,opacity:!0,order:!0,orphans:!0,widows:!0,zIndex:!0,zoom:!0},cssProps:{\"float\":k.cssFloat?\"cssFloat\":\"styleFloat\"},style:function(a,b,c,d){if(a&&3!==a.nodeType&&8!==a.nodeType&&a.style){var e,f,g,h=m.camelCase(b),i=a.style;if(b=m.cssProps[h]||(m.cssProps[h]=Ub(i,h)),g=m.cssHooks[b]||m.cssHooks[h],void 0===c)return g&&\"get\" in g&&void 0!==(e=g.get(a,!1,d))?e:i[b];if(f=typeof c,\"string\"===f&&(e=Qb.exec(c))&&(c=(e[1]+1)*e[2]+parseFloat(m.css(a,b)),f=\"number\"),null!=c&&c===c&&(\"number\"!==f||m.cssNumber[h]||(c+=\"px\"),k.clearCloneStyle||\"\"!==c||0!==b.indexOf(\"background\")||(i[b]=\"inherit\"),!(g&&\"set\" in g&&void 0===(c=g.set(a,c,d)))))try{i[b]=c}catch(j){}}},css:function(a,b,c,d){var e,f,g,h=m.camelCase(b);return b=m.cssProps[h]||(m.cssProps[h]=Ub(a.style,h)),g=m.cssHooks[b]||m.cssHooks[h],g&&\"get\" in g&&(f=g.get(a,!0,c)),void 0===f&&(f=Jb(a,b,d)),\"normal\"===f&&b in Sb&&(f=Sb[b]),\"\"===c||c?(e=parseFloat(f),c===!0||m.isNumeric(e)?e||0:f):f}}),m.each([\"height\",\"width\"],function(a,b){m.cssHooks[b]={get:function(a,c,d){return c?Ob.test(m.css(a,\"display\"))&&0===a.offsetWidth?m.swap(a,Rb,function(){return Yb(a,b,d)}):Yb(a,b,d):void 0},set:function(a,c,d){var e=d&&Ib(a);return Wb(a,c,d?Xb(a,b,d,k.boxSizing&&\"border-box\"===m.css(a,\"boxSizing\",!1,e),e):0)}}}),k.opacity||(m.cssHooks.opacity={get:function(a,b){return Nb.test((b&&a.currentStyle?a.currentStyle.filter:a.style.filter)||\"\")?.01*parseFloat(RegExp.$1)+\"\":b?\"1\":\"\"},set:function(a,b){var c=a.style,d=a.currentStyle,e=m.isNumeric(b)?\"alpha(opacity=\"+100*b+\")\":\"\",f=d&&d.filter||c.filter||\"\";c.zoom=1,(b>=1||\"\"===b)&&\"\"===m.trim(f.replace(Mb,\"\"))&&c.removeAttribute&&(c.removeAttribute(\"filter\"),\"\"===b||d&&!d.filter)||(c.filter=Mb.test(f)?f.replace(Mb,e):f+\" \"+e)}}),m.cssHooks.marginRight=Lb(k.reliableMarginRight,function(a,b){return b?m.swap(a,{display:\"inline-block\"},Jb,[a,\"marginRight\"]):void 0}),m.each({margin:\"\",padding:\"\",border:\"Width\"},function(a,b){m.cssHooks[a+b]={expand:function(c){for(var d=0,e={},f=\"string\"==typeof c?c.split(\" \"):[c];4>d;d++)e[a+T[d]+b]=f[d]||f[d-2]||f[0];return e}},Gb.test(a)||(m.cssHooks[a+b].set=Wb)}),m.fn.extend({css:function(a,b){return V(this,function(a,b,c){var d,e,f={},g=0;if(m.isArray(b)){for(d=Ib(a),e=b.length;e>g;g++)f[b[g]]=m.css(a,b[g],!1,d);return f}\\nreturn void 0!==c?m.style(a,b,c):m.css(a,b)},a,b,arguments.length>1)},show:function(){return Vb(this,!0)},hide:function(){return Vb(this)},toggle:function(a){return\"boolean\"==typeof a?a?this.show():this.hide():this.each(function(){U(this)?m(this).show():m(this).hide()})}});function Zb(a,b,c,d,e){return new Zb.prototype.init(a,b,c,d,e)}\\nm.Tween=Zb,Zb.prototype={constructor:Zb,init:function(a,b,c,d,e,f){this.elem=a,this.prop=c,this.easing=e||\"swing\",this.options=b,this.start=this.now=this.cur(),this.end=d,this.unit=f||(m.cssNumber[c]?\"\":\"px\")},cur:function(){var a=Zb.propHooks[this.prop];return a&&a.get?a.get(this):Zb.propHooks._default.get(this)},run:function(a){var b,c=Zb.propHooks[this.prop];return this.pos=b=this.options.duration?m.easing[this.easing](a,this.options.duration*a,0,1,this.options.duration):a,this.now=(this.end-this.start)*b+this.start,this.options.step&&this.options.step.call(this.elem,this.now,this),c&&c.set?c.set(this):Zb.propHooks._default.set(this),this}},Zb.prototype.init.prototype=Zb.prototype,Zb.propHooks={_default:{get:function(a){var b;return null==a.elem[a.prop]||a.elem.style&&null!=a.elem.style[a.prop]?(b=m.css(a.elem,a.prop,\"\"),b&&\"auto\"!==b?b:0):a.elem[a.prop]},set:function(a){m.fx.step[a.prop]?m.fx.step[a.prop](a):a.elem.style&&(null!=a.elem.style[m.cssProps[a.prop]]||m.cssHooks[a.prop])?m.style(a.elem,a.prop,a.now+a.unit):a.elem[a.prop]=a.now}}},Zb.propHooks.scrollTop=Zb.propHooks.scrollLeft={set:function(a){a.elem.nodeType&&a.elem.parentNode&&(a.elem[a.prop]=a.now)}},m.easing={linear:function(a){return a},swing:function(a){return.5-Math.cos(a*Math.PI)/2}},m.fx=Zb.prototype.init,m.fx.step={};var $b,_b,ac=/^(?:toggle|show|hide)$/,bc=new RegExp(\"^(?:([+-])=|)(\"+S+\")([a-z%]*)$\",\"i\"),cc=/queueHooks$/,dc=[ic],ec={\"*\":[function(a,b){var c=this.createTween(a,b),d=c.cur(),e=bc.exec(b),f=e&&e[3]||(m.cssNumber[a]?\"\":\"px\"),g=(m.cssNumber[a]||\"px\"!==f&&+d)&&bc.exec(m.css(c.elem,a)),h=1,i=20;if(g&&g[3]!==f){f=f||g[3],e=e||[],g=+d||1;do h=h||\".5\",g/=h,m.style(c.elem,a,g+f);while(h!==(h=c.cur()/d)&&1!==h&&--i)}\\nreturn e&&(g=c.start=+g||+d||0,c.unit=f,c.end=e[1]?g+(e[1]+1)*e[2]:+e[2]),c}]};function fc(){return setTimeout(function(){$b=void 0}),$b=m.now()}\\nfunction gc(a,b){var c,d={height:a},e=0;for(b=b?1:0;4>e;e+=2-b)c=T[e],d[\"margin\"+c]=d[\"padding\"+c]=a;return b&&(d.opacity=d.width=a),d}\\nfunction hc(a,b,c){for(var d,e=(ec[b]||[]).concat(ec[\"*\"]),f=0,g=e.length;g>f;f++)if(d=e[f].call(c,b,a))return d}\\nfunction ic(a,b,c){var d,e,f,g,h,i,j,l,n=this,o={},p=a.style,q=a.nodeType&&U(a),r=m._data(a,\"fxshow\");c.queue||(h=m._queueHooks(a,\"fx\"),null==h.unqueued&&(h.unqueued=0,i=h.empty.fire,h.empty.fire=function(){h.unqueued||i()}),h.unqueued++,n.always(function(){n.always(function(){h.unqueued--,m.queue(a,\"fx\").length||h.empty.fire()})})),1===a.nodeType&&(\"height\" in b||\"width\" in b)&&(c.overflow=[p.overflow,p.overflowX,p.overflowY],j=m.css(a,\"display\"),l=\"none\"===j?m._data(a,\"olddisplay\")||Fb(a.nodeName):j,\"inline\"===l&&\"none\"===m.css(a,\"float\")&&(k.inlineBlockNeedsLayout&&\"inline\"!==Fb(a.nodeName)?p.zoom=1:p.display=\"inline-block\")),c.overflow&&(p.overflow=\"hidden\",k.shrinkWrapBlocks()||n.always(function(){p.overflow=c.overflow[0],p.overflowX=c.overflow[1],p.overflowY=c.overflow[2]}));for(d in b)if(e=b[d],ac.exec(e)){if(delete b[d],f=f||\"toggle\"===e,e===(q?\"hide\":\"show\")){if(\"show\"!==e||!r||void 0===r[d])continue;q=!0}\\no[d]=r&&r[d]||m.style(a,d)}else j=void 0;if(m.isEmptyObject(o))\"inline\"===(\"none\"===j?Fb(a.nodeName):j)&&(p.display=j);else{r?\"hidden\" in r&&(q=r.hidden):r=m._data(a,\"fxshow\",{}),f&&(r.hidden=!q),q?m(a).show():n.done(function(){m(a).hide()}),n.done(function(){var b;m._removeData(a,\"fxshow\");for(b in o)m.style(a,b,o[b])});for(d in o)g=hc(q?r[d]:0,d,n),d in r||(r[d]=g.start,q&&(g.end=g.start,g.start=\"width\"===d||\"height\"===d?1:0))}}\\nfunction jc(a,b){var c,d,e,f,g;for(c in a)if(d=m.camelCase(c),e=b[d],f=a[c],m.isArray(f)&&(e=f[1],f=a[c]=f[0]),c!==d&&(a[d]=f,delete a[c]),g=m.cssHooks[d],g&&\"expand\" in g){f=g.expand(f),delete a[d];for(c in f)c in a||(a[c]=f[c],b[c]=e)}else b[d]=e}\\nfunction kc(a,b,c){var d,e,f=0,g=dc.length,h=m.Deferred().always(function(){delete i.elem}),i=function(){if(e)return!1;for(var b=$b||fc(),c=Math.max(0,j.startTime+j.duration-b),d=c/j.duration||0,f=1-d,g=0,i=j.tweens.length;i>g;g++)j.tweens[g].run(f);return h.notifyWith(a,[j,f,c]),1>f&&i?c:(h.resolveWith(a,[j]),!1)},j=h.promise({elem:a,props:m.extend({},b),opts:m.extend(!0,{specialEasing:{}},c),originalProperties:b,originalOptions:c,startTime:$b||fc(),duration:c.duration,tweens:[],createTween:function(b,c){var d=m.Tween(a,j.opts,b,c,j.opts.specialEasing[b]||j.opts.easing);return j.tweens.push(d),d},stop:function(b){var c=0,d=b?j.tweens.length:0;if(e)return this;for(e=!0;d>c;c++)j.tweens[c].run(1);return b?h.resolveWith(a,[j,b]):h.rejectWith(a,[j,b]),this}}),k=j.props;for(jc(k,j.opts.specialEasing);g>f;f++)if(d=dc[f].call(j,a,k,j.opts))return d;return m.map(k,hc,j),m.isFunction(j.opts.start)&&j.opts.start.call(a,j),m.fx.timer(m.extend(i,{elem:a,anim:j,queue:j.opts.queue})),j.progress(j.opts.progress).done(j.opts.done,j.opts.complete).fail(j.opts.fail).always(j.opts.always)}\\nm.Animation=m.extend(kc,{tweener:function(a,b){m.isFunction(a)?(b=a,a=[\"*\"]):a=a.split(\" \");for(var c,d=0,e=a.length;e>d;d++)c=a[d],ec[c]=ec[c]||[],ec[c].unshift(b)},prefilter:function(a,b){b?dc.unshift(a):dc.push(a)}}),m.speed=function(a,b,c){var d=a&&\"object\"==typeof a?m.extend({},a):{complete:c||!c&&b||m.isFunction(a)&&a,duration:a,easing:c&&b||b&&!m.isFunction(b)&&b};return d.duration=m.fx.off?0:\"number\"==typeof d.duration?d.duration:d.duration in m.fx.speeds?m.fx.speeds[d.duration]:m.fx.speeds._default,(null==d.queue||d.queue===!0)&&(d.queue=\"fx\"),d.old=d.complete,d.complete=function(){m.isFunction(d.old)&&d.old.call(this),d.queue&&m.dequeue(this,d.queue)},d},m.fn.extend({fadeTo:function(a,b,c,d){return this.filter(U).css(\"opacity\",0).show().end().animate({opacity:b},a,c,d)},animate:function(a,b,c,d){var e=m.isEmptyObject(a),f=m.speed(b,c,d),g=function(){var b=kc(this,m.extend({},a),f);(e||m._data(this,\"finish\"))&&b.stop(!0)};return g.finish=g,e||f.queue===!1?this.each(g):this.queue(f.queue,g)},stop:function(a,b,c){var d=function(a){var b=a.stop;delete a.stop,b(c)};return\"string\"!=typeof a&&(c=b,b=a,a=void 0),b&&a!==!1&&this.queue(a||\"fx\",[]),this.each(function(){var b=!0,e=null!=a&&a+\"queueHooks\",f=m.timers,g=m._data(this);if(e)g[e]&&g[e].stop&&d(g[e]);else for(e in g)g[e]&&g[e].stop&&cc.test(e)&&d(g[e]);for(e=f.length;e--;)f[e].elem!==this||null!=a&&f[e].queue!==a||(f[e].anim.stop(c),b=!1,f.splice(e,1));(b||!c)&&m.dequeue(this,a)})},finish:function(a){return a!==!1&&(a=a||\"fx\"),this.each(function(){var b,c=m._data(this),d=c[a+\"queue\"],e=c[a+\"queueHooks\"],f=m.timers,g=d?d.length:0;for(c.finish=!0,m.queue(this,a,[]),e&&e.stop&&e.stop.call(this,!0),b=f.length;b--;)f[b].elem===this&&f[b].queue===a&&(f[b].anim.stop(!0),f.splice(b,1));for(b=0;g>b;b++)d[b]&&d[b].finish&&d[b].finish.call(this);delete c.finish})}}),m.each([\"toggle\",\"show\",\"hide\"],function(a,b){var c=m.fn[b];m.fn[b]=function(a,d,e){return null==a||\"boolean\"==typeof a?c.apply(this,arguments):this.animate(gc(b,!0),a,d,e)}}),m.each({slideDown:gc(\"show\"),slideUp:gc(\"hide\"),slideToggle:gc(\"toggle\"),fadeIn:{opacity:\"show\"},fadeOut:{opacity:\"hide\"},fadeToggle:{opacity:\"toggle\"}},function(a,b){m.fn[a]=function(a,c,d){return this.animate(b,a,c,d)}}),m.timers=[],m.fx.tick=function(){var a,b=m.timers,c=0;for($b=m.now();c<b.length;c++)a=b[c],a()||b[c]!==a||b.splice(c--,1);b.length||m.fx.stop(),$b=void 0},m.fx.timer=function(a){m.timers.push(a),a()?m.fx.start():m.timers.pop()},m.fx.interval=13,m.fx.start=function(){_b||(_b=setInterval(m.fx.tick,m.fx.interval))},m.fx.stop=function(){clearInterval(_b),_b=null},m.fx.speeds={slow:600,fast:200,_default:400},m.fn.delay=function(a,b){return a=m.fx?m.fx.speeds[a]||a:a,b=b||\"fx\",this.queue(b,function(b,c){var d=setTimeout(b,a);c.stop=function(){clearTimeout(d)}})},function(){var a,b,c,d,e;b=y.createElement(\"div\"),b.setAttribute(\"className\",\"t\"),b.innerHTML=\"  <link/><table></table><a href=\\'/a\\'>a</a><input type=\\'checkbox\\'/>\",d=b.getElementsByTagName(\"a\")[0],c=y.createElement(\"select\"),e=c.appendChild(y.createElement(\"option\")),a=b.getElementsByTagName(\"input\")[0],d.style.cssText=\"top:1px\",k.getSetAttribute=\"t\"!==b.className,k.style=/top/.test(d.getAttribute(\"style\")),k.hrefNormalized=\"/a\"===d.getAttribute(\"href\"),k.checkOn=!!a.value,k.optSelected=e.selected,k.enctype=!!y.createElement(\"form\").enctype,c.disabled=!0,k.optDisabled=!e.disabled,a=y.createElement(\"input\"),a.setAttribute(\"value\",\"\"),k.input=\"\"===a.getAttribute(\"value\"),a.value=\"t\",a.setAttribute(\"type\",\"radio\"),k.radioValue=\"t\"===a.value}();var lc=/\\\\r/g;m.fn.extend({val:function(a){var b,c,d,e=this[0];{if(arguments.length)return d=m.isFunction(a),this.each(function(c){var e;1===this.nodeType&&(e=d?a.call(this,c,m(this).val()):a,null==e?e=\"\":\"number\"==typeof e?e+=\"\":m.isArray(e)&&(e=m.map(e,function(a){return null==a?\"\":a+\"\"})),b=m.valHooks[this.type]||m.valHooks[this.nodeName.toLowerCase()],b&&\"set\" in b&&void 0!==b.set(this,e,\"value\")||(this.value=e))});if(e)return b=m.valHooks[e.type]||m.valHooks[e.nodeName.toLowerCase()],b&&\"get\" in b&&void 0!==(c=b.get(e,\"value\"))?c:(c=e.value,\"string\"==typeof c?c.replace(lc,\"\"):null==c?\"\":c)}}}),m.extend({valHooks:{option:{get:function(a){var b=m.find.attr(a,\"value\");return null!=b?b:m.trim(m.text(a))}},select:{get:function(a){for(var b,c,d=a.options,e=a.selectedIndex,f=\"select-one\"===a.type||0>e,g=f?null:[],h=f?e+1:d.length,i=0>e?h:f?e:0;h>i;i++)if(c=d[i],!(!c.selected&&i!==e||(k.optDisabled?c.disabled:null!==c.getAttribute(\"disabled\"))||c.parentNode.disabled&&m.nodeName(c.parentNode,\"optgroup\"))){if(b=m(c).val(),f)return b;g.push(b)}\\nreturn g},set:function(a,b){var c,d,e=a.options,f=m.makeArray(b),g=e.length;while(g--)if(d=e[g],m.inArray(m.valHooks.option.get(d),f)>=0)try{d.selected=c=!0}catch(h){d.scrollHeight}else d.selected=!1;return c||(a.selectedIndex=-1),e}}}}),m.each([\"radio\",\"checkbox\"],function(){m.valHooks[this]={set:function(a,b){return m.isArray(b)?a.checked=m.inArray(m(a).val(),b)>=0:void 0}},k.checkOn||(m.valHooks[this].get=function(a){return null===a.getAttribute(\"value\")?\"on\":a.value})});var mc,nc,oc=m.expr.attrHandle,pc=/^(?:checked|selected)$/i,qc=k.getSetAttribute,rc=k.input;m.fn.extend({attr:function(a,b){return V(this,m.attr,a,b,arguments.length>1)},removeAttr:function(a){return this.each(function(){m.removeAttr(this,a)})}}),m.extend({attr:function(a,b,c){var d,e,f=a.nodeType;if(a&&3!==f&&8!==f&&2!==f)return typeof a.getAttribute===K?m.prop(a,b,c):(1===f&&m.isXMLDoc(a)||(b=b.toLowerCase(),d=m.attrHooks[b]||(m.expr.match.bool.test(b)?nc:mc)),void 0===c?d&&\"get\" in d&&null!==(e=d.get(a,b))?e:(e=m.find.attr(a,b),null==e?void 0:e):null!==c?d&&\"set\" in d&&void 0!==(e=d.set(a,c,b))?e:(a.setAttribute(b,c+\"\"),c):void m.removeAttr(a,b))},removeAttr:function(a,b){var c,d,e=0,f=b&&b.match(E);if(f&&1===a.nodeType)while(c=f[e++])d=m.propFix[c]||c,m.expr.match.bool.test(c)?rc&&qc||!pc.test(c)?a[d]=!1:a[m.camelCase(\"default-\"+c)]=a[d]=!1:m.attr(a,c,\"\"),a.removeAttribute(qc?c:d)},attrHooks:{type:{set:function(a,b){if(!k.radioValue&&\"radio\"===b&&m.nodeName(a,\"input\")){var c=a.value;return a.setAttribute(\"type\",b),c&&(a.value=c),b}}}}}),nc={set:function(a,b,c){return b===!1?m.removeAttr(a,c):rc&&qc||!pc.test(c)?a.setAttribute(!qc&&m.propFix[c]||c,c):a[m.camelCase(\"default-\"+c)]=a[c]=!0,c}},m.each(m.expr.match.bool.source.match(/\\\\w+/g),function(a,b){var c=oc[b]||m.find.attr;oc[b]=rc&&qc||!pc.test(b)?function(a,b,d){var e,f;return d||(f=oc[b],oc[b]=e,e=null!=c(a,b,d)?b.toLowerCase():null,oc[b]=f),e}:function(a,b,c){return c?void 0:a[m.camelCase(\"default-\"+b)]?b.toLowerCase():null}}),rc&&qc||(m.attrHooks.value={set:function(a,b,c){return m.nodeName(a,\"input\")?void(a.defaultValue=b):mc&&mc.set(a,b,c)}}),qc||(mc={set:function(a,b,c){var d=a.getAttributeNode(c);return d||a.setAttributeNode(d=a.ownerDocument.createAttribute(c)),d.value=b+=\"\",\"value\"===c||b===a.getAttribute(c)?b:void 0}},oc.id=oc.name=oc.coords=function(a,b,c){var d;return c?void 0:(d=a.getAttributeNode(b))&&\"\"!==d.value?d.value:null},m.valHooks.button={get:function(a,b){var c=a.getAttributeNode(b);return c&&c.specified?c.value:void 0},set:mc.set},m.attrHooks.contenteditable={set:function(a,b,c){mc.set(a,\"\"===b?!1:b,c)}},m.each([\"width\",\"height\"],function(a,b){m.attrHooks[b]={set:function(a,c){return\"\"===c?(a.setAttribute(b,\"auto\"),c):void 0}}})),k.style||(m.attrHooks.style={get:function(a){return a.style.cssText||void 0},set:function(a,b){return a.style.cssText=b+\"\"}});var sc=/^(?:input|select|textarea|button|object)$/i,tc=/^(?:a|area)$/i;m.fn.extend({prop:function(a,b){return V(this,m.prop,a,b,arguments.length>1)},removeProp:function(a){return a=m.propFix[a]||a,this.each(function(){try{this[a]=void 0,delete this[a]}catch(b){}})}}),m.extend({propFix:{\"for\":\"htmlFor\",\"class\":\"className\"},prop:function(a,b,c){var d,e,f,g=a.nodeType;if(a&&3!==g&&8!==g&&2!==g)return f=1!==g||!m.isXMLDoc(a),f&&(b=m.propFix[b]||b,e=m.propHooks[b]),void 0!==c?e&&\"set\" in e&&void 0!==(d=e.set(a,c,b))?d:a[b]=c:e&&\"get\" in e&&null!==(d=e.get(a,b))?d:a[b]},propHooks:{tabIndex:{get:function(a){var b=m.find.attr(a,\"tabindex\");return b?parseInt(b,10):sc.test(a.nodeName)||tc.test(a.nodeName)&&a.href?0:-1}}}}),k.hrefNormalized||m.each([\"href\",\"src\"],function(a,b){m.propHooks[b]={get:function(a){return a.getAttribute(b,4)}}}),k.optSelected||(m.propHooks.selected={get:function(a){var b=a.parentNode;return b&&(b.selectedIndex,b.parentNode&&b.parentNode.selectedIndex),null}}),m.each([\"tabIndex\",\"readOnly\",\"maxLength\",\"cellSpacing\",\"cellPadding\",\"rowSpan\",\"colSpan\",\"useMap\",\"frameBorder\",\"contentEditable\"],function(){m.propFix[this.toLowerCase()]=this}),k.enctype||(m.propFix.enctype=\"encoding\");var uc=/[\\\\t\\\\r\\\\n\\\\f]/g;m.fn.extend({addClass:function(a){var b,c,d,e,f,g,h=0,i=this.length,j=\"string\"==typeof a&&a;if(m.isFunction(a))return this.each(function(b){m(this).addClass(a.call(this,b,this.className))});if(j)for(b=(a||\"\").match(E)||[];i>h;h++)if(c=this[h],d=1===c.nodeType&&(c.className?(\" \"+c.className+\" \").replace(uc,\" \"):\" \")){f=0;while(e=b[f++])d.indexOf(\" \"+e+\" \")<0&&(d+=e+\" \");g=m.trim(d),c.className!==g&&(c.className=g)}\\nreturn this},removeClass:function(a){var b,c,d,e,f,g,h=0,i=this.length,j=0===arguments.length||\"string\"==typeof a&&a;if(m.isFunction(a))return this.each(function(b){m(this).removeClass(a.call(this,b,this.className))});if(j)for(b=(a||\"\").match(E)||[];i>h;h++)if(c=this[h],d=1===c.nodeType&&(c.className?(\" \"+c.className+\" \").replace(uc,\" \"):\"\")){f=0;while(e=b[f++])while(d.indexOf(\" \"+e+\" \")>=0)d=d.replace(\" \"+e+\" \",\" \");g=a?m.trim(d):\"\",c.className!==g&&(c.className=g)}\\nreturn this},toggleClass:function(a,b){var c=typeof a;return\"boolean\"==typeof b&&\"string\"===c?b?this.addClass(a):this.removeClass(a):this.each(m.isFunction(a)?function(c){m(this).toggleClass(a.call(this,c,this.className,b),b)}:function(){if(\"string\"===c){var b,d=0,e=m(this),f=a.match(E)||[];while(b=f[d++])e.hasClass(b)?e.removeClass(b):e.addClass(b)}else(c===K||\"boolean\"===c)&&(this.className&&m._data(this,\"__className__\",this.className),this.className=this.className||a===!1?\"\":m._data(this,\"__className__\")||\"\")})},hasClass:function(a){for(var b=\" \"+a+\" \",c=0,d=this.length;d>c;c++)if(1===this[c].nodeType&&(\" \"+this[c].className+\" \").replace(uc,\" \").indexOf(b)>=0)return!0;return!1}}),m.each(\"blur focus focusin focusout load resize scroll unload click dblclick mousedown mouseup mousemove mouseover mouseout mouseenter mouseleave change select submit keydown keypress keyup error contextmenu\".split(\" \"),function(a,b){m.fn[b]=function(a,c){return arguments.length>0?this.on(b,null,a,c):this.trigger(b)}}),m.fn.extend({hover:function(a,b){return this.mouseenter(a).mouseleave(b||a)},bind:function(a,b,c){return this.on(a,null,b,c)},unbind:function(a,b){return this.off(a,null,b)},delegate:function(a,b,c,d){return this.on(b,a,c,d)},undelegate:function(a,b,c){return 1===arguments.length?this.off(a,\"**\"):this.off(b,a||\"**\",c)}});var vc=m.now(),wc=/\\\\?/,xc=/(,)|(\\\\[|{)|(}|])|\"(?:[^\"\\\\\\\\\\\\r\\\\n]|\\\\\\\\[\"\\\\\\\\\\\\/bfnrt]|\\\\\\\\u[\\\\da-fA-F]{4})*\"\\\\s*:?|true|false|null|-?(?!0\\\\d)\\\\d+(?:\\\\.\\\\d+|)(?:[eE][+-]?\\\\d+|)/g;m.parseJSON=function(b){if(a.JSON&&a.JSON.parse)return a.JSON.parse(b+\"\");var c,d=null,e=m.trim(b+\"\");return e&&!m.trim(e.replace(xc,function(a,b,e,f){return c&&b&&(d=0),0===d?a:(c=e||b,d+=!f-!e,\"\")}))?Function(\"return \"+e)():m.error(\"Invalid JSON: \"+b)},m.parseXML=function(b){var c,d;if(!b||\"string\"!=typeof b)return null;try{a.DOMParser?(d=new DOMParser,c=d.parseFromString(b,\"text/xml\")):(c=new ActiveXObject(\"Microsoft.XMLDOM\"),c.async=\"false\",c.loadXML(b))}catch(e){c=void 0}\\nreturn c&&c.documentElement&&!c.getElementsByTagName(\"parsererror\").length||m.error(\"Invalid XML: \"+b),c};var yc,zc,Ac=/#.*$/,Bc=/([?&])_=[^&]*/,Cc=/^(.*?):[ \\\\t]*([^\\\\r\\\\n]*)\\\\r?$/gm,Dc=/^(?:about|app|app-storage|.+-extension|file|res|widget):$/,Ec=/^(?:GET|HEAD)$/,Fc=/^\\\\/\\\\//,Gc=/^([\\\\w.+-]+:)(?:\\\\/\\\\/(?:[^\\\\/?#]*@|)([^\\\\/?#:]*)(?::(\\\\d+)|)|)/,Hc={},Ic={},Jc=\"*/\".concat(\"*\");try{zc=location.href}catch(Kc){zc=y.createElement(\"a\"),zc.href=\"\",zc=zc.href}\\nyc=Gc.exec(zc.toLowerCase())||[];function Lc(a){return function(b,c){\"string\"!=typeof b&&(c=b,b=\"*\");var d,e=0,f=b.toLowerCase().match(E)||[];if(m.isFunction(c))while(d=f[e++])\"+\"===d.charAt(0)?(d=d.slice(1)||\"*\",(a[d]=a[d]||[]).unshift(c)):(a[d]=a[d]||[]).push(c)}}\\nfunction Mc(a,b,c,d){var e={},f=a===Ic;function g(h){var i;return e[h]=!0,m.each(a[h]||[],function(a,h){var j=h(b,c,d);return\"string\"!=typeof j||f||e[j]?f?!(i=j):void 0:(b.dataTypes.unshift(j),g(j),!1)}),i}\\nreturn g(b.dataTypes[0])||!e[\"*\"]&&g(\"*\")}\\nfunction Nc(a,b){var c,d,e=m.ajaxSettings.flatOptions||{};for(d in b)void 0!==b[d]&&((e[d]?a:c||(c={}))[d]=b[d]);return c&&m.extend(!0,a,c),a}\\nfunction Oc(a,b,c){var d,e,f,g,h=a.contents,i=a.dataTypes;while(\"*\"===i[0])i.shift(),void 0===e&&(e=a.mimeType||b.getResponseHeader(\"Content-Type\"));if(e)for(g in h)if(h[g]&&h[g].test(e)){i.unshift(g);break}\\nif(i[0]in c)f=i[0];else{for(g in c){if(!i[0]||a.converters[g+\" \"+i[0]]){f=g;break}\\nd||(d=g)}\\nf=f||d}\\nreturn f?(f!==i[0]&&i.unshift(f),c[f]):void 0}\\nfunction Pc(a,b,c,d){var e,f,g,h,i,j={},k=a.dataTypes.slice();if(k[1])for(g in a.converters)j[g.toLowerCase()]=a.converters[g];f=k.shift();while(f)if(a.responseFields[f]&&(c[a.responseFields[f]]=b),!i&&d&&a.dataFilter&&(b=a.dataFilter(b,a.dataType)),i=f,f=k.shift())if(\"*\"===f)f=i;else if(\"*\"!==i&&i!==f){if(g=j[i+\" \"+f]||j[\"* \"+f],!g)for(e in j)if(h=e.split(\" \"),h[1]===f&&(g=j[i+\" \"+h[0]]||j[\"* \"+h[0]])){g===!0?g=j[e]:j[e]!==!0&&(f=h[0],k.unshift(h[1]));break}\\nif(g!==!0)if(g&&a[\"throws\"])b=g(b);else try{b=g(b)}catch(l){return{state:\"parsererror\",error:g?l:\"No conversion from \"+i+\" to \"+f}}}\\nreturn{state:\"success\",data:b}}\\nm.extend({active:0,lastModified:{},etag:{},ajaxSettings:{url:zc,type:\"GET\",isLocal:Dc.test(yc[1]),global:!0,processData:!0,async:!0,contentType:\"application/x-www-form-urlencoded; charset=UTF-8\",accepts:{\"*\":Jc,text:\"text/plain\",html:\"text/html\",xml:\"application/xml, text/xml\",json:\"application/json, text/javascript\"},contents:{xml:/xml/,html:/html/,json:/json/},responseFields:{xml:\"responseXML\",text:\"responseText\",json:\"responseJSON\"},converters:{\"* text\":String,\"text html\":!0,\"text json\":m.parseJSON,\"text xml\":m.parseXML},flatOptions:{url:!0,context:!0}},ajaxSetup:function(a,b){return b?Nc(Nc(a,m.ajaxSettings),b):Nc(m.ajaxSettings,a)},ajaxPrefilter:Lc(Hc),ajaxTransport:Lc(Ic),ajax:function(a,b){\"object\"==typeof a&&(b=a,a=void 0),b=b||{};var c,d,e,f,g,h,i,j,k=m.ajaxSetup({},b),l=k.context||k,n=k.context&&(l.nodeType||l.jquery)?m(l):m.event,o=m.Deferred(),p=m.Callbacks(\"once memory\"),q=k.statusCode||{},r={},s={},t=0,u=\"canceled\",v={readyState:0,getResponseHeader:function(a){var b;if(2===t){if(!j){j={};while(b=Cc.exec(f))j[b[1].toLowerCase()]=b[2]}\\nb=j[a.toLowerCase()]}\\nreturn null==b?null:b},getAllResponseHeaders:function(){return 2===t?f:null},setRequestHeader:function(a,b){var c=a.toLowerCase();return t||(a=s[c]=s[c]||a,r[a]=b),this},overrideMimeType:function(a){return t||(k.mimeType=a),this},statusCode:function(a){var b;if(a)if(2>t)for(b in a)q[b]=[q[b],a[b]];else v.always(a[v.status]);return this},abort:function(a){var b=a||u;return i&&i.abort(b),x(0,b),this}};if(o.promise(v).complete=p.add,v.success=v.done,v.error=v.fail,k.url=((a||k.url||zc)+\"\").replace(Ac,\"\").replace(Fc,yc[1]+\"//\"),k.type=b.method||b.type||k.method||k.type,k.dataTypes=m.trim(k.dataType||\"*\").toLowerCase().match(E)||[\"\"],null==k.crossDomain&&(c=Gc.exec(k.url.toLowerCase()),k.crossDomain=!(!c||c[1]===yc[1]&&c[2]===yc[2]&&(c[3]||(\"http:\"===c[1]?\"80\":\"443\"))===(yc[3]||(\"http:\"===yc[1]?\"80\":\"443\")))),k.data&&k.processData&&\"string\"!=typeof k.data&&(k.data=m.param(k.data,k.traditional)),Mc(Hc,k,b,v),2===t)return v;h=m.event&&k.global,h&&0===m.active++&&m.event.trigger(\"ajaxStart\"),k.type=k.type.toUpperCase(),k.hasContent=!Ec.test(k.type),e=k.url,k.hasContent||(k.data&&(e=k.url+=(wc.test(e)?\"&\":\"?\")+k.data,delete k.data),k.cache===!1&&(k.url=Bc.test(e)?e.replace(Bc,\"$1_=\"+vc++):e+(wc.test(e)?\"&\":\"?\")+\"_=\"+vc++)),k.ifModified&&(m.lastModified[e]&&v.setRequestHeader(\"If-Modified-Since\",m.lastModified[e]),m.etag[e]&&v.setRequestHeader(\"If-None-Match\",m.etag[e])),(k.data&&k.hasContent&&k.contentType!==!1||b.contentType)&&v.setRequestHeader(\"Content-Type\",k.contentType),v.setRequestHeader(\"Accept\",k.dataTypes[0]&&k.accepts[k.dataTypes[0]]?k.accepts[k.dataTypes[0]]+(\"*\"!==k.dataTypes[0]?\", \"+Jc+\"; q=0.01\":\"\"):k.accepts[\"*\"]);for(d in k.headers)v.setRequestHeader(d,k.headers[d]);if(k.beforeSend&&(k.beforeSend.call(l,v,k)===!1||2===t))return v.abort();u=\"abort\";for(d in{success:1,error:1,complete:1})v[d](k[d]);if(i=Mc(Ic,k,b,v)){v.readyState=1,h&&n.trigger(\"ajaxSend\",[v,k]),k.async&&k.timeout>0&&(g=setTimeout(function(){v.abort(\"timeout\")},k.timeout));try{t=1,i.send(r,x)}catch(w){if(!(2>t))throw w;x(-1,w)}}else x(-1,\"No Transport\");function x(a,b,c,d){var j,r,s,u,w,x=b;2!==t&&(t=2,g&&clearTimeout(g),i=void 0,f=d||\"\",v.readyState=a>0?4:0,j=a>=200&&300>a||304===a,c&&(u=Oc(k,v,c)),u=Pc(k,u,v,j),j?(k.ifModified&&(w=v.getResponseHeader(\"Last-Modified\"),w&&(m.lastModified[e]=w),w=v.getResponseHeader(\"etag\"),w&&(m.etag[e]=w)),204===a||\"HEAD\"===k.type?x=\"nocontent\":304===a?x=\"notmodified\":(x=u.state,r=u.data,s=u.error,j=!s)):(s=x,(a||!x)&&(x=\"error\",0>a&&(a=0))),v.status=a,v.statusText=(b||x)+\"\",j?o.resolveWith(l,[r,x,v]):o.rejectWith(l,[v,x,s]),v.statusCode(q),q=void 0,h&&n.trigger(j?\"ajaxSuccess\":\"ajaxError\",[v,k,j?r:s]),p.fireWith(l,[v,x]),h&&(n.trigger(\"ajaxComplete\",[v,k]),--m.active||m.event.trigger(\"ajaxStop\")))}\\nreturn v},getJSON:function(a,b,c){return m.get(a,b,c,\"json\")},getScript:function(a,b){return m.get(a,void 0,b,\"script\")}}),m.each([\"get\",\"post\"],function(a,b){m[b]=function(a,c,d,e){return m.isFunction(c)&&(e=e||d,d=c,c=void 0),m.ajax({url:a,type:b,dataType:e,data:c,success:d})}}),m._evalUrl=function(a){return m.ajax({url:a,type:\"GET\",dataType:\"script\",async:!1,global:!1,\"throws\":!0})},m.fn.extend({wrapAll:function(a){if(m.isFunction(a))return this.each(function(b){m(this).wrapAll(a.call(this,b))});if(this[0]){var b=m(a,this[0].ownerDocument).eq(0).clone(!0);this[0].parentNode&&b.insertBefore(this[0]),b.map(function(){var a=this;while(a.firstChild&&1===a.firstChild.nodeType)a=a.firstChild;return a}).append(this)}\\nreturn this},wrapInner:function(a){return this.each(m.isFunction(a)?function(b){m(this).wrapInner(a.call(this,b))}:function(){var b=m(this),c=b.contents();c.length?c.wrapAll(a):b.append(a)})},wrap:function(a){var b=m.isFunction(a);return this.each(function(c){m(this).wrapAll(b?a.call(this,c):a)})},unwrap:function(){return this.parent().each(function(){m.nodeName(this,\"body\")||m(this).replaceWith(this.childNodes)}).end()}}),m.expr.filters.hidden=function(a){return a.offsetWidth<=0&&a.offsetHeight<=0||!k.reliableHiddenOffsets()&&\"none\"===(a.style&&a.style.display||m.css(a,\"display\"))},m.expr.filters.visible=function(a){return!m.expr.filters.hidden(a)};var Qc=/%20/g,Rc=/\\\\[\\\\]$/,Sc=/\\\\r?\\\\n/g,Tc=/^(?:submit|button|image|reset|file)$/i,Uc=/^(?:input|select|textarea|keygen)/i;function Vc(a,b,c,d){var e;if(m.isArray(b))m.each(b,function(b,e){c||Rc.test(a)?d(a,e):Vc(a+\"[\"+(\"object\"==typeof e?b:\"\")+\"]\",e,c,d)});else if(c||\"object\"!==m.type(b))d(a,b);else for(e in b)Vc(a+\"[\"+e+\"]\",b[e],c,d)}\\nm.param=function(a,b){var c,d=[],e=function(a,b){b=m.isFunction(b)?b():null==b?\"\":b,d[d.length]=encodeURIComponent(a)+\"=\"+encodeURIComponent(b)};if(void 0===b&&(b=m.ajaxSettings&&m.ajaxSettings.traditional),m.isArray(a)||a.jquery&&!m.isPlainObject(a))m.each(a,function(){e(this.name,this.value)});else for(c in a)Vc(c,a[c],b,e);return d.join(\"&\").replace(Qc,\"+\")},m.fn.extend({serialize:function(){return m.param(this.serializeArray())},serializeArray:function(){return this.map(function(){var a=m.prop(this,\"elements\");return a?m.makeArray(a):this}).filter(function(){var a=this.type;return this.name&&!m(this).is(\":disabled\")&&Uc.test(this.nodeName)&&!Tc.test(a)&&(this.checked||!W.test(a))}).map(function(a,b){var c=m(this).val();return null==c?null:m.isArray(c)?m.map(c,function(a){return{name:b.name,value:a.replace(Sc,\"\\\\r\\\\n\")}}):{name:b.name,value:c.replace(Sc,\"\\\\r\\\\n\")}}).get()}}),m.ajaxSettings.xhr=void 0!==a.ActiveXObject?function(){return!this.isLocal&&/^(get|post|head|put|delete|options)$/i.test(this.type)&&Zc()||$c()}:Zc;var Wc=0,Xc={},Yc=m.ajaxSettings.xhr();a.attachEvent&&a.attachEvent(\"onunload\",function(){for(var a in Xc)Xc[a](void 0,!0)}),k.cors=!!Yc&&\"withCredentials\" in Yc,Yc=k.ajax=!!Yc,Yc&&m.ajaxTransport(function(a){if(!a.crossDomain||k.cors){var b;return{send:function(c,d){var e,f=a.xhr(),g=++Wc;if(f.open(a.type,a.url,a.async,a.username,a.password),a.xhrFields)for(e in a.xhrFields)f[e]=a.xhrFields[e];a.mimeType&&f.overrideMimeType&&f.overrideMimeType(a.mimeType),a.crossDomain||c[\"X-Requested-With\"]||(c[\"X-Requested-With\"]=\"XMLHttpRequest\");for(e in c)void 0!==c[e]&&f.setRequestHeader(e,c[e]+\"\");f.send(a.hasContent&&a.data||null),b=function(c,e){var h,i,j;if(b&&(e||4===f.readyState))if(delete Xc[g],b=void 0,f.onreadystatechange=m.noop,e)4!==f.readyState&&f.abort();else{j={},h=f.status,\"string\"==typeof f.responseText&&(j.text=f.responseText);try{i=f.statusText}catch(k){i=\"\"}\\nh||!a.isLocal||a.crossDomain?1223===h&&(h=204):h=j.text?200:404}\\nj&&d(h,i,j,f.getAllResponseHeaders())},a.async?4===f.readyState?setTimeout(b):f.onreadystatechange=Xc[g]=b:b()},abort:function(){b&&b(void 0,!0)}}}});function Zc(){try{return new a.XMLHttpRequest}catch(b){}}\\nfunction $c(){try{return new a.ActiveXObject(\"Microsoft.XMLHTTP\")}catch(b){}}\\nm.ajaxSetup({accepts:{script:\"text/javascript, application/javascript, application/ecmascript, application/x-ecmascript\"},contents:{script:/(?:java|ecma)script/},converters:{\"text script\":function(a){return m.globalEval(a),a}}}),m.ajaxPrefilter(\"script\",function(a){void 0===a.cache&&(a.cache=!1),a.crossDomain&&(a.type=\"GET\",a.global=!1)}),m.ajaxTransport(\"script\",function(a){if(a.crossDomain){var b,c=y.head||m(\"head\")[0]||y.documentElement;return{send:function(d,e){b=y.createElement(\"script\"),b.async=!0,a.scriptCharset&&(b.charset=a.scriptCharset),b.src=a.url,b.onload=b.onreadystatechange=function(a,c){(c||!b.readyState||/loaded|complete/.test(b.readyState))&&(b.onload=b.onreadystatechange=null,b.parentNode&&b.parentNode.removeChild(b),b=null,c||e(200,\"success\"))},c.insertBefore(b,c.firstChild)},abort:function(){b&&b.onload(void 0,!0)}}}});var _c=[],ad=/(=)\\\\?(?=&|$)|\\\\?\\\\?/;m.ajaxSetup({jsonp:\"callback\",jsonpCallback:function(){var a=_c.pop()||m.expando+\"_\"+vc++;return this[a]=!0,a}}),m.ajaxPrefilter(\"json jsonp\",function(b,c,d){var e,f,g,h=b.jsonp!==!1&&(ad.test(b.url)?\"url\":\"string\"==typeof b.data&&!(b.contentType||\"\").indexOf(\"application/x-www-form-urlencoded\")&&ad.test(b.data)&&\"data\");return h||\"jsonp\"===b.dataTypes[0]?(e=b.jsonpCallback=m.isFunction(b.jsonpCallback)?b.jsonpCallback():b.jsonpCallback,h?b[h]=b[h].replace(ad,\"$1\"+e):b.jsonp!==!1&&(b.url+=(wc.test(b.url)?\"&\":\"?\")+b.jsonp+\"=\"+e),b.converters[\"script json\"]=function(){return g||m.error(e+\" was not called\"),g[0]},b.dataTypes[0]=\"json\",f=a[e],a[e]=function(){g=arguments},d.always(function(){a[e]=f,b[e]&&(b.jsonpCallback=c.jsonpCallback,_c.push(e)),g&&m.isFunction(f)&&f(g[0]),g=f=void 0}),\"script\"):void 0}),m.parseHTML=function(a,b,c){if(!a||\"string\"!=typeof a)return null;\"boolean\"==typeof b&&(c=b,b=!1),b=b||y;var d=u.exec(a),e=!c&&[];return d?[b.createElement(d[1])]:(d=m.buildFragment([a],b,e),e&&e.length&&m(e).remove(),m.merge([],d.childNodes))};var bd=m.fn.load;m.fn.load=function(a,b,c){if(\"string\"!=typeof a&&bd)return bd.apply(this,arguments);var d,e,f,g=this,h=a.indexOf(\" \");return h>=0&&(d=m.trim(a.slice(h,a.length)),a=a.slice(0,h)),m.isFunction(b)?(c=b,b=void 0):b&&\"object\"==typeof b&&(f=\"POST\"),g.length>0&&m.ajax({url:a,type:f,dataType:\"html\",data:b}).done(function(a){e=arguments,g.html(d?m(\"<div>\").append(m.parseHTML(a)).find(d):a)}).complete(c&&function(a,b){g.each(c,e||[a.responseText,b,a])}),this},m.each([\"ajaxStart\",\"ajaxStop\",\"ajaxComplete\",\"ajaxError\",\"ajaxSuccess\",\"ajaxSend\"],function(a,b){m.fn[b]=function(a){return this.on(b,a)}}),m.expr.filters.animated=function(a){return m.grep(m.timers,function(b){return a===b.elem}).length};var cd=a.document.documentElement;function dd(a){return m.isWindow(a)?a:9===a.nodeType?a.defaultView||a.parentWindow:!1}\\nm.offset={setOffset:function(a,b,c){var d,e,f,g,h,i,j,k=m.css(a,\"position\"),l=m(a),n={};\"static\"===k&&(a.style.position=\"relative\"),h=l.offset(),f=m.css(a,\"top\"),i=m.css(a,\"left\"),j=(\"absolute\"===k||\"fixed\"===k)&&m.inArray(\"auto\",[f,i])>-1,j?(d=l.position(),g=d.top,e=d.left):(g=parseFloat(f)||0,e=parseFloat(i)||0),m.isFunction(b)&&(b=b.call(a,c,h)),null!=b.top&&(n.top=b.top-h.top+g),null!=b.left&&(n.left=b.left-h.left+e),\"using\" in b?b.using.call(a,n):l.css(n)}},m.fn.extend({offset:function(a){if(arguments.length)return void 0===a?this:this.each(function(b){m.offset.setOffset(this,a,b)});var b,c,d={top:0,left:0},e=this[0],f=e&&e.ownerDocument;if(f)return b=f.documentElement,m.contains(b,e)?(typeof e.getBoundingClientRect!==K&&(d=e.getBoundingClientRect()),c=dd(f),{top:d.top+(c.pageYOffset||b.scrollTop)-(b.clientTop||0),left:d.left+(c.pageXOffset||b.scrollLeft)-(b.clientLeft||0)}):d},position:function(){if(this[0]){var a,b,c={top:0,left:0},d=this[0];return\"fixed\"===m.css(d,\"position\")?b=d.getBoundingClientRect():(a=this.offsetParent(),b=this.offset(),m.nodeName(a[0],\"html\")||(c=a.offset()),c.top+=m.css(a[0],\"borderTopWidth\",!0),c.left+=m.css(a[0],\"borderLeftWidth\",!0)),{top:b.top-c.top-m.css(d,\"marginTop\",!0),left:b.left-c.left-m.css(d,\"marginLeft\",!0)}}},offsetParent:function(){return this.map(function(){var a=this.offsetParent||cd;while(a&&!m.nodeName(a,\"html\")&&\"static\"===m.css(a,\"position\"))a=a.offsetParent;return a||cd})}}),m.each({scrollLeft:\"pageXOffset\",scrollTop:\"pageYOffset\"},function(a,b){var c=/Y/.test(b);m.fn[a]=function(d){return V(this,function(a,d,e){var f=dd(a);return void 0===e?f?b in f?f[b]:f.document.documentElement[d]:a[d]:void(f?f.scrollTo(c?m(f).scrollLeft():e,c?e:m(f).scrollTop()):a[d]=e)},a,d,arguments.length,null)}}),m.each([\"top\",\"left\"],function(a,b){m.cssHooks[b]=Lb(k.pixelPosition,function(a,c){return c?(c=Jb(a,b),Hb.test(c)?m(a).position()[b]+\"px\":c):void 0})}),m.each({Height:\"height\",Width:\"width\"},function(a,b){m.each({padding:\"inner\"+a,content:b,\"\":\"outer\"+a},function(c,d){m.fn[d]=function(d,e){var f=arguments.length&&(c||\"boolean\"!=typeof d),g=c||(d===!0||e===!0?\"margin\":\"border\");return V(this,function(b,c,d){var e;return m.isWindow(b)?b.document.documentElement[\"client\"+a]:9===b.nodeType?(e=b.documentElement,Math.max(b.body[\"scroll\"+a],e[\"scroll\"+a],b.body[\"offset\"+a],e[\"offset\"+a],e[\"client\"+a])):void 0===d?m.css(b,c,g):m.style(b,c,d,g)},b,f?d:void 0,f,null)}})}),m.fn.size=function(){return this.length},m.fn.andSelf=m.fn.addBack,\"function\"==typeof define&&define.amd&&define(\"jquery\",[],function(){return m});var ed=a.jQuery,fd=a.$;return m.noConflict=function(b){return a.$===m&&(a.$=fd),b&&a.jQuery===m&&(a.jQuery=ed),m},typeof b===K&&(a.jQuery=a.$=m),m});</script><script>$(function(){var $window=$(window),$mainMenu=$(\\'.main-nav\\'),$layout=$(\\'.layout\\'),$navToggle=$(\\'.navbar-toggle\\');$navToggle.on(\\'click\\',function(){$(this).toggleClass(\\'active\\');$mainMenu.toggleClass(\\'active\\');$layout.toggleClass(\\'menu-active\\');$mainMenu.removeClass(\\'sub-menu-open\\');$(\\'.has-drop\\').removeClass(\\'open\\')});$mainMenu.find(\\'.has-drop .lvl-1\\').on(\\'click\\',function(e){if($(window).width()<767){e.preventDefault();$(this).parent().toggleClass(\\'open\\');$(this).parent().siblings().removeClass(\\'open\\');$mainMenu.toggleClass(\\'sub-menu-open\\')}});$mainMenu.find(\\'.sub-menu-back\\').on(\\'click\\',function(){$mainMenu.removeClass(\\'sub-menu-open\\');$(\\'.has-drop\\').removeClass(\\'open\\')});var fixToScroll=function($obj){var top=$obj.parent().offset().top,left=$obj.parent().offset().left,bottom=$($obj.data(\\'limit\\')).offset().top-75,objHeight=$obj.innerHeight(),scrollTop=$(window).scrollTop();$obj.innerWidth($obj.parent().innerWidth());if(scrollTop<top){$obj.css({\\'position\\':\\'relative\\',\\'left\\':0,\\'top\\':0})}else{if(scrollTop>=(bottom-objHeight)){$obj.css({\\'position\\':\\'absolute\\',\\'left\\':0,\\'top\\':bottom-top-objHeight})}else{$obj.css({\\'position\\':\\'fixed\\',\\'left\\':left,\\'top\\':0})}}};var $scrollObjects=$(\\'.j-fixed-box\\');$scrollObjects.each(function(){fixToScroll($(this))});$(window).on(\\'scroll\\',function(){$scrollObjects.each(function(){fixToScroll($(this))})});$(window).on(\\'resize\\',function(){$scrollObjects.each(function(){fixToScroll($(this))})});$(\\'.switcher .button\\').on(\\'click\\',function(){$(this).closest(\\'.switcher\\').toggleClass(\\'on\\').find(\\'.lbl\\').toggleClass(\\'active\\')});$(\\'.switcher .lbl\\').on(\\'click\\',function(e){if(!$(this).hasClass(\\'active\\')){$(this).closest(\\'.switcher\\').find(\\'.button\\').click()}});$(\\'.j-load-testimonials\\').on(\\'click\\',function(e){e.preventDefault();$(this).closest(\\'.testimonials-panel\\').addClass(\\'show-all\\')});$(\\'.layout-404\\').height($(window).height());$(window).on(\\'resize\\',function(){$(\\'.layout-404\\').height($(window).height())});var material={inputTextClass:\\'.inp-row .inp\\',inputTextInit:function(obj){if(obj.val()){obj.addClass(\\'fill\\')}else{obj.removeClass(\\'fill\\')}},eventListeners:function(){var self=this;$(document).ready(function(e){$(self.inputTextClass).each(function(){self.inputTextInit($(this))})});$(document).on(\\'blur\\',self.inputTextClass,function(e){self.inputTextInit($(e.target))})}};material.eventListeners();var dot=$(\\'<span class=\"dot\"></span>\\');$(\\'.merged input\\').each(function(){var step=parseInt($(this).attr(\\'step\\'));var max=parseInt($(this).attr(\\'max\\'));var min=parseInt($(this).attr(\\'min\\'));var count=max/step;if(max-min==max||min!==step){count=max/step-min}else{count=(max/step)-1}\\nfor(var i=min;i<=max;i+=parseInt(step)){var text=max-i+min;if(min===0&&i===max){text=1;this.value=1}\\n$(this).parent().append(dot.clone().css({\\'width\\':\\'calc(\\'+100/count+\\'% - \\'+6/count+\\'px)\\'}).html(text))}});$(document).on(\\'input\\',\\'.merged input\\',function(){var min=parseInt($(this).attr(\\'min\\'));var step=$(this).attr(\\'step\\');var max=$(this).attr(\\'max\\');$(this).parents(\\'.resource-box\\').find(\\'.value\\').text($(this).val());$(this).parent().find(\\'span\\').removeClass(\\'active\\');$(this).parent().find(\\'span\\').eq((max-this.value)/step).addClass(\\'active\\')});$(\\'.merged input\\').trigger(\\'input\\');$(function(){$(\\'[data-toggle=\"tooltip\"]\\').tooltip()});if($(\\'.chart\\').length){$(\\'.chart\\').easyPieChart({lineWidth:7,size:80,scaleColor:!1,trackColor:\\'#e7e9ec\\',barColor:\\'#0dbe82\\'})}(function(){var hashControl=$(\\'.hash-controls-section\\');if(hashControl.length&&$(window).width()>767){var HashTop=hashControl.offset().top;$(window).resize(function(){HashTop=hashControl.offset().top});$(window).scroll(function(){if($(this).scrollTop()>HashTop+1){hashControl.addClass(\"sticky\");hashControl.next(\\'.pull-off\\').height(hashControl.height())}else{hashControl.removeClass(\"sticky\");hashControl.next(\\'.pull-off\\').height(0)}});$(\\'body\\').scrollspy({target:\\'#hash-navbar\\',offset:100});hashControl.find(\\'a\\').on(\\'click\\',function(){$(\\'html, body\\').animate({scrollTop:$($(this).attr(\\'href\\')).offset().top-hashControl.height()},1500);return!1})}})();if($(\\'.toggle-holder\\').length){$(\\'.toggle-link\\').on(\\'click\\',function(e){e.stopPropagation();e.preventDefault();$(this).toggleClass(\\'active\\');$(\\'#collapsible-box\\').slideToggle()})}\\nvar info=$(\\'.icon-info\\');if(info.length){$(document).on(\\'click\\',\\'.icon-info\\',function(e){e.stopPropagation();$(this).parents(\\'.out-of-stock\\').after($(\\'.table-form\\'));$(this).parents(\\'.out-of-stock\\').hide();$(this).parents(\\'.out-of-stock\\').next().show()});$(document).on(\\'click\\',\\'.icon-times, .table-form button\\',function(e){$(this).parents(\\'.table-form\\').hide();$(this).parents(\\'.table-form\\').prev().show()});$(document).on(\\'click\\',function(e){console.log($(e.target).parents(\\'.table-form\\').length);if($(e.target).parents(\\'.table-form\\').length===0&&$(\\'.table-form\\').length){$(\\'.table-form\\').hide();$(\\'.table-form\\').prev().show()}})}\\n$(\\'.notification-line .btn-close\\').on(\\'click\\',function(){$(this).parents(\\'.notification-line\\').slideUp(300);return!1});var toggleLinks=$(\\'.reseller-content .toggle-holder a.toggle-lnk\\');var toggleBtn=$(\\'.reseller-content .toggle-holder a.toggle-btn\\');if(toggleLinks.length){toggleLinks.on(\\'click\\',function(){toggleLinks.removeClass(\\'active\\');$(this).addClass(\\'active\\');$(this).next(\\'.toggle-btn\\').removeClass(\\'active\\');$(this).prev(\\'.toggle-btn\\').addClass(\\'active\\')});toggleBtn.on(\\'click\\',function(){$(this).add(toggleLinks).toggleClass(\\'active\\');toggleLinks.filter(function(){return $(this).hasClass(\\'active\\')}).trigger(\\'click\\');return!1})}\\nif($(\\'#scene\\').length){new Parallaxify({elements:\".parallax-item\"}).registerUpdate()}\\nvar $aside=$(\".sticky.aside-nav\"),$window=$(window),asideOffset=$aside.offset(),MOBILE_THRESHOLD=767;$window.on(\\'scroll\\',function(){});$window.on(\\'resize\\',function(){if($window.width()<=MOBILE_THRESHOLD){$aside.removeClass(\\'fixed\\')}})})</script><script>jQuery(document).ready(function($){var animationDelay=2500,barAnimationDelay=3800,barWaiting=barAnimationDelay-3000,lettersDelay=50,typeLettersDelay=150,selectionDuration=500,typeAnimationDelay=selectionDuration+800,revealDuration=600,revealAnimationDelay=1500;initHeadline();function initHeadline(){singleLetters($(\\'.cd-headline.letters\\').find(\\'b\\'));animateHeadline($(\\'.cd-headline\\'))}\\nfunction singleLetters($words){$words.each(function(){var word=$(this),letters=word.text().split(\\'\\'),selected=word.hasClass(\\'is-visible\\');for(i in letters){if(word.parents(\\'.rotate-2\\').length>0)letters[i]=\\'<em>\\'+letters[i]+\\'</em>\\';letters[i]=(selected)?\\'<i class=\"in\">\\'+letters[i]+\\'</i>\\':\\'<i>\\'+letters[i]+\\'</i>\\'}\\nvar newLetters=letters.join(\\'\\');word.html(newLetters).css(\\'opacity\\',1)})}\\nfunction animateHeadline($headlines){var duration=animationDelay;$headlines.each(function(){var headline=$(this);if(headline.hasClass(\\'loading-bar\\')){duration=barAnimationDelay;setTimeout(function(){headline.find(\\'.cd-words-wrapper\\').addClass(\\'is-loading\\')},barWaiting)}else if(headline.hasClass(\\'clip\\')){var spanWrapper=headline.find(\\'.cd-words-wrapper\\'),newWidth=spanWrapper.width()+10\\nspanWrapper.css(\\'width\\',newWidth)}else if(!headline.hasClass(\\'type\\')){var words=headline.find(\\'.cd-words-wrapper b\\'),width=0;words.each(function(){var wordWidth=$(this).width();if(wordWidth>width)width=wordWidth});headline.find(\\'.cd-words-wrapper\\').css(\\'width\\',width)};setTimeout(function(){hideWord(headline.find(\\'.is-visible\\').eq(0))},duration)})}\\nfunction hideWord($word){var nextWord=takeNext($word);if($word.parents(\\'.cd-headline\\').hasClass(\\'type\\')){var parentSpan=$word.parent(\\'.cd-words-wrapper\\');parentSpan.addClass(\\'selected\\').removeClass(\\'waiting\\');setTimeout(function(){parentSpan.removeClass(\\'selected\\');$word.removeClass(\\'is-visible\\').addClass(\\'is-hidden\\').children(\\'i\\').removeClass(\\'in\\').addClass(\\'out\\')},selectionDuration);setTimeout(function(){showWord(nextWord,typeLettersDelay)},typeAnimationDelay)}else if($word.parents(\\'.cd-headline\\').hasClass(\\'letters\\')){var bool=($word.children(\\'i\\').length>=nextWord.children(\\'i\\').length)?!0:!1;hideLetter($word.find(\\'i\\').eq(0),$word,bool,lettersDelay);showLetter(nextWord.find(\\'i\\').eq(0),nextWord,bool,lettersDelay)}else if($word.parents(\\'.cd-headline\\').hasClass(\\'clip\\')){$word.parents(\\'.cd-words-wrapper\\').animate({width:\\'2px\\'},revealDuration,function(){switchWord($word,nextWord);showWord(nextWord)})}else if($word.parents(\\'.cd-headline\\').hasClass(\\'loading-bar\\')){$word.parents(\\'.cd-words-wrapper\\').removeClass(\\'is-loading\\');switchWord($word,nextWord);setTimeout(function(){hideWord(nextWord)},barAnimationDelay);setTimeout(function(){$word.parents(\\'.cd-words-wrapper\\').addClass(\\'is-loading\\')},barWaiting)}else{switchWord($word,nextWord);setTimeout(function(){hideWord(nextWord)},animationDelay)}}\\nfunction showWord($word,$duration){if($word.parents(\\'.cd-headline\\').hasClass(\\'type\\')){showLetter($word.find(\\'i\\').eq(0),$word,!1,$duration);$word.addClass(\\'is-visible\\').removeClass(\\'is-hidden\\')}else if($word.parents(\\'.cd-headline\\').hasClass(\\'clip\\')){$word.parents(\\'.cd-words-wrapper\\').animate({\\'width\\':$word.width()+10},revealDuration,function(){setTimeout(function(){hideWord($word)},revealAnimationDelay)})}}\\nfunction hideLetter($letter,$word,$bool,$duration){$letter.removeClass(\\'in\\').addClass(\\'out\\');if(!$letter.is(\\':last-child\\')){setTimeout(function(){hideLetter($letter.next(),$word,$bool,$duration)},$duration)}else if($bool){setTimeout(function(){hideWord(takeNext($word))},animationDelay)}\\nif($letter.is(\\':last-child\\')&&$(\\'html\\').hasClass(\\'no-csstransitions\\')){var nextWord=takeNext($word);switchWord($word,nextWord)}}\\nfunction showLetter($letter,$word,$bool,$duration){$letter.addClass(\\'in\\').removeClass(\\'out\\');if(!$letter.is(\\':last-child\\')){setTimeout(function(){showLetter($letter.next(),$word,$bool,$duration)},$duration)}else{if($word.parents(\\'.cd-headline\\').hasClass(\\'type\\')){setTimeout(function(){$word.parents(\\'.cd-words-wrapper\\').addClass(\\'waiting\\')},200)}\\nif(!$bool){setTimeout(function(){hideWord($word)},animationDelay)}}}\\nfunction takeNext($word){return(!$word.is(\\':last-child\\'))?$word.next():$word.parent().children().eq(0)}\\nfunction takePrev($word){return(!$word.is(\\':first-child\\'))?$word.prev():$word.parent().children().last()}\\nfunction switchWord($oldWord,$newWord){$oldWord.removeClass(\\'is-visible\\').addClass(\\'is-hidden\\');$newWord.removeClass(\\'is-hidden\\').addClass(\\'is-visible\\')}});</script><script>if(\"undefined\"==typeof jQuery)throw new Error(\"Bootstrap\\'s JavaScript requires jQuery\");+function(a){\"use strict\";var b=a.fn.jquery.split(\" \")[0].split(\".\");if(b[0]<2&&b[1]<9||1==b[0]&&9==b[1]&&b[2]<1)throw new Error(\"Bootstrap\\'s JavaScript requires jQuery version 1.9.1 or higher\")}(jQuery),+function(a){\"use strict\";function b(){var a=document.createElement(\"bootstrap\"),b={WebkitTransition:\"webkitTransitionEnd\",MozTransition:\"transitionend\",OTransition:\"oTransitionEnd otransitionend\",transition:\"transitionend\"};for(var c in b)if(void 0!==a.style[c])return{end:b[c]};return!1}\\na.fn.emulateTransitionEnd=function(b){var c=!1,d=this;a(this).one(\"bsTransitionEnd\",function(){c=!0});var e=function(){c||a(d).trigger(a.support.transition.end)};return setTimeout(e,b),this},a(function(){a.support.transition=b(),a.support.transition&&(a.event.special.bsTransitionEnd={bindType:a.support.transition.end,delegateType:a.support.transition.end,handle:function(b){return a(b.target).is(this)?b.handleObj.handler.apply(this,arguments):void 0}})})}(jQuery),+function(a){\"use strict\";function b(b){return this.each(function(){var c=a(this),e=c.data(\"bs.alert\");e||c.data(\"bs.alert\",e=new d(this)),\"string\"==typeof b&&e[b].call(c)})}\\nvar c=\\'[data-dismiss=\"alert\"]\\',d=function(b){a(b).on(\"click\",c,this.close)};d.VERSION=\"3.3.4\",d.TRANSITION_DURATION=150,d.prototype.close=function(b){function c(){g.detach().trigger(\"closed.bs.alert\").remove()}\\nvar e=a(this),f=e.attr(\"data-target\");f||(f=e.attr(\"href\"),f=f&&f.replace(/.*(?=#[^\\\\s]*$)/,\"\"));var g=a(f);b&&b.preventDefault(),g.length||(g=e.closest(\".alert\")),g.trigger(b=a.Event(\"close.bs.alert\")),b.isDefaultPrevented()||(g.removeClass(\"in\"),a.support.transition&&g.hasClass(\"fade\")?g.one(\"bsTransitionEnd\",c).emulateTransitionEnd(d.TRANSITION_DURATION):c())};var e=a.fn.alert;a.fn.alert=b,a.fn.alert.Constructor=d,a.fn.alert.noConflict=function(){return a.fn.alert=e,this},a(document).on(\"click.bs.alert.data-api\",c,d.prototype.close)}(jQuery),+function(a){\"use strict\";function b(b){return this.each(function(){var d=a(this),e=d.data(\"bs.button\"),f=\"object\"==typeof b&&b;e||d.data(\"bs.button\",e=new c(this,f)),\"toggle\"==b?e.toggle():b&&e.setState(b)})}\\nvar c=function(b,d){this.$element=a(b),this.options=a.extend({},c.DEFAULTS,d),this.isLoading=!1};c.VERSION=\"3.3.4\",c.DEFAULTS={loadingText:\"loading...\"},c.prototype.setState=function(b){var c=\"disabled\",d=this.$element,e=d.is(\"input\")?\"val\":\"html\",f=d.data();b+=\"Text\",null==f.resetText&&d.data(\"resetText\",d[e]()),setTimeout(a.proxy(function(){d[e](null==f[b]?this.options[b]:f[b]),\"loadingText\"==b?(this.isLoading=!0,d.addClass(c).attr(c,c)):this.isLoading&&(this.isLoading=!1,d.removeClass(c).removeAttr(c))},this),0)},c.prototype.toggle=function(){var a=!0,b=this.$element.closest(\\'[data-toggle=\"buttons\"]\\');if(b.length){var c=this.$element.find(\"input\");\"radio\"==c.prop(\"type\")&&(c.prop(\"checked\")&&this.$element.hasClass(\"active\")?a=!1:b.find(\".active\").removeClass(\"active\")),a&&c.prop(\"checked\",!this.$element.hasClass(\"active\")).trigger(\"change\")}else this.$element.attr(\"aria-pressed\",!this.$element.hasClass(\"active\"));a&&this.$element.toggleClass(\"active\")};var d=a.fn.button;a.fn.button=b,a.fn.button.Constructor=c,a.fn.button.noConflict=function(){return a.fn.button=d,this},a(document).on(\"click.bs.button.data-api\",\\'[data-toggle^=\"button\"]\\',function(c){var d=a(c.target);d.hasClass(\"btn\")||(d=d.closest(\".btn\")),b.call(d,\"toggle\"),c.preventDefault()}).on(\"focus.bs.button.data-api blur.bs.button.data-api\",\\'[data-toggle^=\"button\"]\\',function(b){a(b.target).closest(\".btn\").toggleClass(\"focus\",/^focus(in)?$/.test(b.type))})}(jQuery),+function(a){\"use strict\";function b(b){return this.each(function(){var d=a(this),e=d.data(\"bs.carousel\"),f=a.extend({},c.DEFAULTS,d.data(),\"object\"==typeof b&&b),g=\"string\"==typeof b?b:f.slide;e||d.data(\"bs.carousel\",e=new c(this,f)),\"number\"==typeof b?e.to(b):g?e[g]():f.interval&&e.pause().cycle()})}\\nvar c=function(b,c){this.$element=a(b),this.$indicators=this.$element.find(\".carousel-indicators\"),this.options=c,this.paused=null,this.sliding=null,this.interval=null,this.$active=null,this.$items=null,this.options.keyboard&&this.$element.on(\"keydown.bs.carousel\",a.proxy(this.keydown,this)),\"hover\"==this.options.pause&&!(\"ontouchstart\" in document.documentElement)&&this.$element.on(\"mouseenter.bs.carousel\",a.proxy(this.pause,this)).on(\"mouseleave.bs.carousel\",a.proxy(this.cycle,this))};c.VERSION=\"3.3.4\",c.TRANSITION_DURATION=600,c.DEFAULTS={interval:5e3,pause:\"hover\",wrap:!0,keyboard:!0},c.prototype.keydown=function(a){if(!/input|textarea/i.test(a.target.tagName)){switch(a.which){case 37:this.prev();break;case 39:this.next();break;default:return}\\na.preventDefault()}},c.prototype.cycle=function(b){return b||(this.paused=!1),this.interval&&clearInterval(this.interval),this.options.interval&&!this.paused&&(this.interval=setInterval(a.proxy(this.next,this),this.options.interval)),this},c.prototype.getItemIndex=function(a){return this.$items=a.parent().children(\".item\"),this.$items.index(a||this.$active)},c.prototype.getItemForDirection=function(a,b){var c=this.getItemIndex(b),d=\"prev\"==a&&0===c||\"next\"==a&&c==this.$items.length-1;if(d&&!this.options.wrap)return b;var e=\"prev\"==a?-1:1,f=(c+e)%this.$items.length;return this.$items.eq(f)},c.prototype.to=function(a){var b=this,c=this.getItemIndex(this.$active=this.$element.find(\".item.active\"));return a>this.$items.length-1||0>a?void 0:this.sliding?this.$element.one(\"slid.bs.carousel\",function(){b.to(a)}):c==a?this.pause().cycle():this.slide(a>c?\"next\":\"prev\",this.$items.eq(a))},c.prototype.pause=function(b){return b||(this.paused=!0),this.$element.find(\".next, .prev\").length&&a.support.transition&&(this.$element.trigger(a.support.transition.end),this.cycle(!0)),this.interval=clearInterval(this.interval),this},c.prototype.next=function(){return this.sliding?void 0:this.slide(\"next\")},c.prototype.prev=function(){return this.sliding?void 0:this.slide(\"prev\")},c.prototype.slide=function(b,d){var e=this.$element.find(\".item.active\"),f=d||this.getItemForDirection(b,e),g=this.interval,h=\"next\"==b?\"left\":\"right\",i=this;if(f.hasClass(\"active\"))return this.sliding=!1;var j=f[0],k=a.Event(\"slide.bs.carousel\",{relatedTarget:j,direction:h});if(this.$element.trigger(k),!k.isDefaultPrevented()){if(this.sliding=!0,g&&this.pause(),this.$indicators.length){this.$indicators.find(\".active\").removeClass(\"active\");var l=a(this.$indicators.children()[this.getItemIndex(f)]);l&&l.addClass(\"active\")}\\nvar m=a.Event(\"slid.bs.carousel\",{relatedTarget:j,direction:h});return a.support.transition&&this.$element.hasClass(\"slide\")?(f.addClass(b),f[0].offsetWidth,e.addClass(h),f.addClass(h),e.one(\"bsTransitionEnd\",function(){f.removeClass([b,h].join(\" \")).addClass(\"active\"),e.removeClass([\"active\",h].join(\" \")),i.sliding=!1,setTimeout(function(){i.$element.trigger(m)},0)}).emulateTransitionEnd(c.TRANSITION_DURATION)):(e.removeClass(\"active\"),f.addClass(\"active\"),this.sliding=!1,this.$element.trigger(m)),g&&this.cycle(),this}};var d=a.fn.carousel;a.fn.carousel=b,a.fn.carousel.Constructor=c,a.fn.carousel.noConflict=function(){return a.fn.carousel=d,this};var e=function(c){var d,e=a(this),f=a(e.attr(\"data-target\")||(d=e.attr(\"href\"))&&d.replace(/.*(?=#[^\\\\s]+$)/,\"\"));if(f.hasClass(\"carousel\")){var g=a.extend({},f.data(),e.data()),h=e.attr(\"data-slide-to\");h&&(g.interval=!1),b.call(f,g),h&&f.data(\"bs.carousel\").to(h),c.preventDefault()}};a(document).on(\"click.bs.carousel.data-api\",\"[data-slide]\",e).on(\"click.bs.carousel.data-api\",\"[data-slide-to]\",e),a(window).on(\"load\",function(){a(\\'[data-ride=\"carousel\"]\\').each(function(){var c=a(this);b.call(c,c.data())})})}(jQuery),+function(a){\"use strict\";function b(b){var c,d=b.attr(\"data-target\")||(c=b.attr(\"href\"))&&c.replace(/.*(?=#[^\\\\s]+$)/,\"\");return a(d)}\\nfunction c(b){return this.each(function(){var c=a(this),e=c.data(\"bs.collapse\"),f=a.extend({},d.DEFAULTS,c.data(),\"object\"==typeof b&&b);!e&&f.toggle&&/show|hide/.test(b)&&(f.toggle=!1),e||c.data(\"bs.collapse\",e=new d(this,f)),\"string\"==typeof b&&e[b]()})}\\nvar d=function(b,c){this.$element=a(b),this.options=a.extend({},d.DEFAULTS,c),this.$trigger=a(\\'[data-toggle=\"collapse\"][href=\"#\\'+b.id+\\'\"],[data-toggle=\"collapse\"][data-target=\"#\\'+b.id+\\'\"]\\'),this.transitioning=null,this.options.parent?this.$parent=this.getParent():this.addAriaAndCollapsedClass(this.$element,this.$trigger),this.options.toggle&&this.toggle()};d.VERSION=\"3.3.4\",d.TRANSITION_DURATION=350,d.DEFAULTS={toggle:!0},d.prototype.dimension=function(){var a=this.$element.hasClass(\"width\");return a?\"width\":\"height\"},d.prototype.show=function(){if(!this.transitioning&&!this.$element.hasClass(\"in\")){var b,e=this.$parent&&this.$parent.children(\".panel\").children(\".in, .collapsing\");if(!(e&&e.length&&(b=e.data(\"bs.collapse\"),b&&b.transitioning))){var f=a.Event(\"show.bs.collapse\");if(this.$element.trigger(f),!f.isDefaultPrevented()){e&&e.length&&(c.call(e,\"hide\"),b||e.data(\"bs.collapse\",null));var g=this.dimension();this.$element.removeClass(\"collapse\").addClass(\"collapsing\")[g](0).attr(\"aria-expanded\",!0),this.$trigger.removeClass(\"collapsed\").attr(\"aria-expanded\",!0),this.transitioning=1;var h=function(){this.$element.removeClass(\"collapsing\").addClass(\"collapse in\")[g](\"\"),this.transitioning=0,this.$element.trigger(\"shown.bs.collapse\")};if(!a.support.transition)return h.call(this);var i=a.camelCase([\"scroll\",g].join(\"-\"));this.$element.one(\"bsTransitionEnd\",a.proxy(h,this)).emulateTransitionEnd(d.TRANSITION_DURATION)[g](this.$element[0][i])}}}},d.prototype.hide=function(){if(!this.transitioning&&this.$element.hasClass(\"in\")){var b=a.Event(\"hide.bs.collapse\");if(this.$element.trigger(b),!b.isDefaultPrevented()){var c=this.dimension();this.$element[c](this.$element[c]())[0].offsetHeight,this.$element.addClass(\"collapsing\").removeClass(\"collapse in\").attr(\"aria-expanded\",!1),this.$trigger.addClass(\"collapsed\").attr(\"aria-expanded\",!1),this.transitioning=1;var e=function(){this.transitioning=0,this.$element.removeClass(\"collapsing\").addClass(\"collapse\").trigger(\"hidden.bs.collapse\")};return a.support.transition?void this.$element[c](0).one(\"bsTransitionEnd\",a.proxy(e,this)).emulateTransitionEnd(d.TRANSITION_DURATION):e.call(this)}}},d.prototype.toggle=function(){this[this.$element.hasClass(\"in\")?\"hide\":\"show\"]()},d.prototype.getParent=function(){return a(this.options.parent).find(\\'[data-toggle=\"collapse\"][data-parent=\"\\'+this.options.parent+\\'\"]\\').each(a.proxy(function(c,d){var e=a(d);this.addAriaAndCollapsedClass(b(e),e)},this)).end()},d.prototype.addAriaAndCollapsedClass=function(a,b){var c=a.hasClass(\"in\");a.attr(\"aria-expanded\",c),b.toggleClass(\"collapsed\",!c).attr(\"aria-expanded\",c)};var e=a.fn.collapse;a.fn.collapse=c,a.fn.collapse.Constructor=d,a.fn.collapse.noConflict=function(){return a.fn.collapse=e,this},a(document).on(\"click.bs.collapse.data-api\",\\'[data-toggle=\"collapse\"]\\',function(d){var e=a(this);e.attr(\"data-target\")||d.preventDefault();var f=b(e),g=f.data(\"bs.collapse\"),h=g?\"toggle\":e.data();c.call(f,h)})}(jQuery),+function(a){\"use strict\";function b(b){b&&3===b.which||(a(e).remove(),a(f).each(function(){var d=a(this),e=c(d),f={relatedTarget:this};e.hasClass(\"open\")&&(e.trigger(b=a.Event(\"hide.bs.dropdown\",f)),b.isDefaultPrevented()||(d.attr(\"aria-expanded\",\"false\"),e.removeClass(\"open\").trigger(\"hidden.bs.dropdown\",f)))}))}\\nfunction c(b){var c=b.attr(\"data-target\");c||(c=b.attr(\"href\"),c=c&&/#[A-Za-z]/.test(c)&&c.replace(/.*(?=#[^\\\\s]*$)/,\"\"));var d=c&&a(c);return d&&d.length?d:b.parent()}\\nfunction d(b){return this.each(function(){var c=a(this),d=c.data(\"bs.dropdown\");d||c.data(\"bs.dropdown\",d=new g(this)),\"string\"==typeof b&&d[b].call(c)})}\\nvar e=\".dropdown-backdrop\",f=\\'[data-toggle=\"dropdown\"]\\',g=function(b){a(b).on(\"click.bs.dropdown\",this.toggle)};g.VERSION=\"3.3.4\",g.prototype.toggle=function(d){var e=a(this);if(!e.is(\".disabled, :disabled\")){var f=c(e),g=f.hasClass(\"open\");if(b(),!g){\"ontouchstart\" in document.documentElement&&!f.closest(\".navbar-nav\").length&&a(\\'<div class=\"dropdown-backdrop\"/>\\').insertAfter(a(this)).on(\"click\",b);var h={relatedTarget:this};if(f.trigger(d=a.Event(\"show.bs.dropdown\",h)),d.isDefaultPrevented())return;e.trigger(\"focus\").attr(\"aria-expanded\",\"true\"),f.toggleClass(\"open\").trigger(\"shown.bs.dropdown\",h)}\\nreturn!1}},g.prototype.keydown=function(b){if(/(38|40|27|32)/.test(b.which)&&!/input|textarea/i.test(b.target.tagName)){var d=a(this);if(b.preventDefault(),b.stopPropagation(),!d.is(\".disabled, :disabled\")){var e=c(d),g=e.hasClass(\"open\");if(!g&&27!=b.which||g&&27==b.which)return 27==b.which&&e.find(f).trigger(\"focus\"),d.trigger(\"click\");var h=\" li:not(.disabled):visible a\",i=e.find(\\'[role=\"menu\"]\\'+h+\\', [role=\"listbox\"]\\'+h);if(i.length){var j=i.index(b.target);38==b.which&&j>0&&j--,40==b.which&&j<i.length-1&&j++,~j||(j=0),i.eq(j).trigger(\"focus\")}}}};var h=a.fn.dropdown;a.fn.dropdown=d,a.fn.dropdown.Constructor=g,a.fn.dropdown.noConflict=function(){return a.fn.dropdown=h,this},a(document).on(\"click.bs.dropdown.data-api\",b).on(\"click.bs.dropdown.data-api\",\".dropdown form\",function(a){a.stopPropagation()}).on(\"click.bs.dropdown.data-api\",f,g.prototype.toggle).on(\"keydown.bs.dropdown.data-api\",f,g.prototype.keydown).on(\"keydown.bs.dropdown.data-api\",\\'[role=\"menu\"]\\',g.prototype.keydown).on(\"keydown.bs.dropdown.data-api\",\\'[role=\"listbox\"]\\',g.prototype.keydown)}(jQuery),+function(a){\"use strict\";function b(b,d){return this.each(function(){var e=a(this),f=e.data(\"bs.modal\"),g=a.extend({},c.DEFAULTS,e.data(),\"object\"==typeof b&&b);f||e.data(\"bs.modal\",f=new c(this,g)),\"string\"==typeof b?f[b](d):g.show&&f.show(d)})}\\nvar c=function(b,c){this.options=c,this.$body=a(document.body),this.$element=a(b),this.$dialog=this.$element.find(\".modal-dialog\"),this.$backdrop=null,this.isShown=null,this.originalBodyPad=null,this.scrollbarWidth=0,this.ignoreBackdropClick=!1,this.options.remote&&this.$element.find(\".modal-content\").load(this.options.remote,a.proxy(function(){this.$element.trigger(\"loaded.bs.modal\")},this))};c.VERSION=\"3.3.4\",c.TRANSITION_DURATION=300,c.BACKDROP_TRANSITION_DURATION=150,c.DEFAULTS={backdrop:!0,keyboard:!0,show:!0},c.prototype.toggle=function(a){return this.isShown?this.hide():this.show(a)},c.prototype.show=function(b){var d=this,e=a.Event(\"show.bs.modal\",{relatedTarget:b});this.$element.trigger(e),this.isShown||e.isDefaultPrevented()||(this.isShown=!0,this.checkScrollbar(),this.setScrollbar(),this.$body.addClass(\"modal-open\"),this.escape(),this.resize(),this.$element.on(\"click.dismiss.bs.modal\",\\'[data-dismiss=\"modal\"]\\',a.proxy(this.hide,this)),this.$dialog.on(\"mousedown.dismiss.bs.modal\",function(){d.$element.one(\"mouseup.dismiss.bs.modal\",function(b){a(b.target).is(d.$element)&&(d.ignoreBackdropClick=!0)})}),this.backdrop(function(){var e=a.support.transition&&d.$element.hasClass(\"fade\");d.$element.parent().length||d.$element.appendTo(d.$body),d.$element.show().scrollTop(0),d.adjustDialog(),e&&d.$element[0].offsetWidth,d.$element.addClass(\"in\").attr(\"aria-hidden\",!1),d.enforceFocus();var f=a.Event(\"shown.bs.modal\",{relatedTarget:b});e?d.$dialog.one(\"bsTransitionEnd\",function(){d.$element.trigger(\"focus\").trigger(f)}).emulateTransitionEnd(c.TRANSITION_DURATION):d.$element.trigger(\"focus\").trigger(f)}))},c.prototype.hide=function(b){b&&b.preventDefault(),b=a.Event(\"hide.bs.modal\"),this.$element.trigger(b),this.isShown&&!b.isDefaultPrevented()&&(this.isShown=!1,this.escape(),this.resize(),a(document).off(\"focusin.bs.modal\"),this.$element.removeClass(\"in\").attr(\"aria-hidden\",!0).off(\"click.dismiss.bs.modal\").off(\"mouseup.dismiss.bs.modal\"),this.$dialog.off(\"mousedown.dismiss.bs.modal\"),a.support.transition&&this.$element.hasClass(\"fade\")?this.$element.one(\"bsTransitionEnd\",a.proxy(this.hideModal,this)).emulateTransitionEnd(c.TRANSITION_DURATION):this.hideModal())},c.prototype.enforceFocus=function(){a(document).off(\"focusin.bs.modal\").on(\"focusin.bs.modal\",a.proxy(function(a){this.$element[0]===a.target||this.$element.has(a.target).length||this.$element.trigger(\"focus\")},this))},c.prototype.escape=function(){this.isShown&&this.options.keyboard?this.$element.on(\"keydown.dismiss.bs.modal\",a.proxy(function(a){27==a.which&&this.hide()},this)):this.isShown||this.$element.off(\"keydown.dismiss.bs.modal\")},c.prototype.resize=function(){this.isShown?a(window).on(\"resize.bs.modal\",a.proxy(this.handleUpdate,this)):a(window).off(\"resize.bs.modal\")},c.prototype.hideModal=function(){var a=this;this.$element.hide(),this.backdrop(function(){a.$body.removeClass(\"modal-open\"),a.resetAdjustments(),a.resetScrollbar(),a.$element.trigger(\"hidden.bs.modal\")})},c.prototype.removeBackdrop=function(){this.$backdrop&&this.$backdrop.remove(),this.$backdrop=null},c.prototype.backdrop=function(b){var d=this,e=this.$element.hasClass(\"fade\")?\"fade\":\"\";if(this.isShown&&this.options.backdrop){var f=a.support.transition&&e;if(this.$backdrop=a(\\'<div class=\"modal-backdrop \\'+e+\\'\" />\\').appendTo(this.$body),this.$element.on(\"click.dismiss.bs.modal\",a.proxy(function(a){return this.ignoreBackdropClick?void(this.ignoreBackdropClick=!1):void(a.target===a.currentTarget&&(\"static\"==this.options.backdrop?this.$element[0].focus():this.hide()))},this)),f&&this.$backdrop[0].offsetWidth,this.$backdrop.addClass(\"in\"),!b)return;f?this.$backdrop.one(\"bsTransitionEnd\",b).emulateTransitionEnd(c.BACKDROP_TRANSITION_DURATION):b()}else if(!this.isShown&&this.$backdrop){this.$backdrop.removeClass(\"in\");var g=function(){d.removeBackdrop(),b&&b()};a.support.transition&&this.$element.hasClass(\"fade\")?this.$backdrop.one(\"bsTransitionEnd\",g).emulateTransitionEnd(c.BACKDROP_TRANSITION_DURATION):g()}else b&&b()},c.prototype.handleUpdate=function(){this.adjustDialog()},c.prototype.adjustDialog=function(){var a=this.$element[0].scrollHeight>document.documentElement.clientHeight;this.$element.css({paddingLeft:!this.bodyIsOverflowing&&a?this.scrollbarWidth:\"\",paddingRight:this.bodyIsOverflowing&&!a?this.scrollbarWidth:\"\"})},c.prototype.resetAdjustments=function(){this.$element.css({paddingLeft:\"\",paddingRight:\"\"})},c.prototype.checkScrollbar=function(){var a=window.innerWidth;if(!a){var b=document.documentElement.getBoundingClientRect();a=b.right-Math.abs(b.left)}\\nthis.bodyIsOverflowing=document.body.clientWidth<a,this.scrollbarWidth=this.measureScrollbar()},c.prototype.setScrollbar=function(){var a=parseInt(this.$body.css(\"padding-right\")||0,10);this.originalBodyPad=document.body.style.paddingRight||\"\",this.bodyIsOverflowing&&this.$body.css(\"padding-right\",a+this.scrollbarWidth)},c.prototype.resetScrollbar=function(){this.$body.css(\"padding-right\",this.originalBodyPad)},c.prototype.measureScrollbar=function(){var a=document.createElement(\"div\");a.className=\"modal-scrollbar-measure\",this.$body.append(a);var b=a.offsetWidth-a.clientWidth;return this.$body[0].removeChild(a),b};var d=a.fn.modal;a.fn.modal=b,a.fn.modal.Constructor=c,a.fn.modal.noConflict=function(){return a.fn.modal=d,this},a(document).on(\"click.bs.modal.data-api\",\\'[data-toggle=\"modal\"]\\',function(c){var d=a(this),e=d.attr(\"href\"),f=a(d.attr(\"data-target\")||e&&e.replace(/.*(?=#[^\\\\s]+$)/,\"\")),g=f.data(\"bs.modal\")?\"toggle\":a.extend({remote:!/#/.test(e)&&e},f.data(),d.data());d.is(\"a\")&&c.preventDefault(),f.one(\"show.bs.modal\",function(a){a.isDefaultPrevented()||f.one(\"hidden.bs.modal\",function(){d.is(\":visible\")&&d.trigger(\"focus\")})}),b.call(f,g,this)})}(jQuery),+function(a){\"use strict\";function b(b){return this.each(function(){var d=a(this),e=d.data(\"bs.tooltip\"),f=\"object\"==typeof b&&b;(e||!/destroy|hide/.test(b))&&(e||d.data(\"bs.tooltip\",e=new c(this,f)),\"string\"==typeof b&&e[b]())})}\\nvar c=function(a,b){this.type=null,this.options=null,this.enabled=null,this.timeout=null,this.hoverState=null,this.$element=null,this.init(\"tooltip\",a,b)};c.VERSION=\"3.3.4\",c.TRANSITION_DURATION=150,c.DEFAULTS={animation:!0,placement:\"top\",selector:!1,template:\\'<div class=\"tooltip\" role=\"tooltip\"><div class=\"tooltip-arrow\"></div><div class=\"tooltip-inner\"></div></div>\\',trigger:\"hover focus\",title:\"\",delay:0,html:!1,container:!1,viewport:{selector:\"body\",padding:0}},c.prototype.init=function(b,c,d){if(this.enabled=!0,this.type=b,this.$element=a(c),this.options=this.getOptions(d),this.$viewport=this.options.viewport&&a(this.options.viewport.selector||this.options.viewport),this.$element[0]instanceof document.constructor&&!this.options.selector)throw new Error(\"`selector` option must be specified when initializing \"+this.type+\" on the window.document object!\");for(var e=this.options.trigger.split(\" \"),f=e.length;f--;){var g=e[f];if(\"click\"==g)this.$element.on(\"click.\"+this.type,this.options.selector,a.proxy(this.toggle,this));else if(\"manual\"!=g){var h=\"hover\"==g?\"mouseenter\":\"focusin\",i=\"hover\"==g?\"mouseleave\":\"focusout\";this.$element.on(h+\".\"+this.type,this.options.selector,a.proxy(this.enter,this)),this.$element.on(i+\".\"+this.type,this.options.selector,a.proxy(this.leave,this))}}\\nthis.options.selector?this._options=a.extend({},this.options,{trigger:\"manual\",selector:\"\"}):this.fixTitle()},c.prototype.getDefaults=function(){return c.DEFAULTS},c.prototype.getOptions=function(b){return b=a.extend({},this.getDefaults(),this.$element.data(),b),b.delay&&\"number\"==typeof b.delay&&(b.delay={show:b.delay,hide:b.delay}),b},c.prototype.getDelegateOptions=function(){var b={},c=this.getDefaults();return this._options&&a.each(this._options,function(a,d){c[a]!=d&&(b[a]=d)}),b},c.prototype.enter=function(b){var c=b instanceof this.constructor?b:a(b.currentTarget).data(\"bs.\"+this.type);return c&&c.$tip&&c.$tip.is(\":visible\")?void(c.hoverState=\"in\"):(c||(c=new this.constructor(b.currentTarget,this.getDelegateOptions()),a(b.currentTarget).data(\"bs.\"+this.type,c)),clearTimeout(c.timeout),c.hoverState=\"in\",c.options.delay&&c.options.delay.show?void(c.timeout=setTimeout(function(){\"in\"==c.hoverState&&c.show()},c.options.delay.show)):c.show())},c.prototype.leave=function(b){var c=b instanceof this.constructor?b:a(b.currentTarget).data(\"bs.\"+this.type);return c||(c=new this.constructor(b.currentTarget,this.getDelegateOptions()),a(b.currentTarget).data(\"bs.\"+this.type,c)),clearTimeout(c.timeout),c.hoverState=\"out\",c.options.delay&&c.options.delay.hide?void(c.timeout=setTimeout(function(){\"out\"==c.hoverState&&c.hide()},c.options.delay.hide)):c.hide()},c.prototype.show=function(){var b=a.Event(\"show.bs.\"+this.type);if(this.hasContent()&&this.enabled){this.$element.trigger(b);var d=a.contains(this.$element[0].ownerDocument.documentElement,this.$element[0]);if(b.isDefaultPrevented()||!d)return;var e=this,f=this.tip(),g=this.getUID(this.type);this.setContent(),f.attr(\"id\",g),this.$element.attr(\"aria-describedby\",g),this.options.animation&&f.addClass(\"fade\");var h=\"function\"==typeof this.options.placement?this.options.placement.call(this,f[0],this.$element[0]):this.options.placement,i=/\\\\s?auto?\\\\s?/i,j=i.test(h);j&&(h=h.replace(i,\"\")||\"top\"),f.detach().css({top:0,left:0,display:\"block\"}).addClass(h).data(\"bs.\"+this.type,this),this.options.container?f.appendTo(this.options.container):f.insertAfter(this.$element);var k=this.getPosition(),l=f[0].offsetWidth,m=f[0].offsetHeight;if(j){var n=h,o=this.options.container?a(this.options.container):this.$element.parent(),p=this.getPosition(o);h=\"bottom\"==h&&k.bottom+m>p.bottom?\"top\":\"top\"==h&&k.top-m<p.top?\"bottom\":\"right\"==h&&k.right+l>p.width?\"left\":\"left\"==h&&k.left-l<p.left?\"right\":h,f.removeClass(n).addClass(h)}\\nvar q=this.getCalculatedOffset(h,k,l,m);this.applyPlacement(q,h);var r=function(){var a=e.hoverState;e.$element.trigger(\"shown.bs.\"+e.type),e.hoverState=null,\"out\"==a&&e.leave(e)};a.support.transition&&this.$tip.hasClass(\"fade\")?f.one(\"bsTransitionEnd\",r).emulateTransitionEnd(c.TRANSITION_DURATION):r()}},c.prototype.applyPlacement=function(b,c){var d=this.tip(),e=d[0].offsetWidth,f=d[0].offsetHeight,g=parseInt(d.css(\"margin-top\"),10),h=parseInt(d.css(\"margin-left\"),10);isNaN(g)&&(g=0),isNaN(h)&&(h=0),b.top=b.top+g,b.left=b.left+h,a.offset.setOffset(d[0],a.extend({using:function(a){d.css({top:Math.round(a.top),left:Math.round(a.left)})}},b),0),d.addClass(\"in\");var i=d[0].offsetWidth,j=d[0].offsetHeight;\"top\"==c&&j!=f&&(b.top=b.top+f-j);var k=this.getViewportAdjustedDelta(c,b,i,j);k.left?b.left+=k.left:b.top+=k.top;var l=/top|bottom/.test(c),m=l?2*k.left-e+i:2*k.top-f+j,n=l?\"offsetWidth\":\"offsetHeight\";d.offset(b),this.replaceArrow(m,d[0][n],l)},c.prototype.replaceArrow=function(a,b,c){this.arrow().css(c?\"left\":\"top\",50*(1-a/b)+\"%\").css(c?\"top\":\"left\",\"\")},c.prototype.setContent=function(){var a=this.tip(),b=this.getTitle();a.find(\".tooltip-inner\")[this.options.html?\"html\":\"text\"](b),a.removeClass(\"fade in top bottom left right\")},c.prototype.hide=function(b){function d(){\"in\"!=e.hoverState&&f.detach(),e.$element.removeAttr(\"aria-describedby\").trigger(\"hidden.bs.\"+e.type),b&&b()}\\nvar e=this,f=a(this.$tip),g=a.Event(\"hide.bs.\"+this.type);return this.$element.trigger(g),g.isDefaultPrevented()?void 0:(f.removeClass(\"in\"),a.support.transition&&f.hasClass(\"fade\")?f.one(\"bsTransitionEnd\",d).emulateTransitionEnd(c.TRANSITION_DURATION):d(),this.hoverState=null,this)},c.prototype.fixTitle=function(){var a=this.$element;(a.attr(\"title\")||\"string\"!=typeof a.attr(\"data-original-title\"))&&a.attr(\"data-original-title\",a.attr(\"title\")||\"\").attr(\"title\",\"\")},c.prototype.hasContent=function(){return this.getTitle()},c.prototype.getPosition=function(b){b=b||this.$element;var c=b[0],d=\"BODY\"==c.tagName,e=c.getBoundingClientRect();null==e.width&&(e=a.extend({},e,{width:e.right-e.left,height:e.bottom-e.top}));var f=d?{top:0,left:0}:b.offset(),g={scroll:d?document.documentElement.scrollTop||document.body.scrollTop:b.scrollTop()},h=d?{width:a(window).width(),height:a(window).height()}:null;return a.extend({},e,g,h,f)},c.prototype.getCalculatedOffset=function(a,b,c,d){return\"bottom\"==a?{top:b.top+b.height,left:b.left+b.width/2-c/2}:\"top\"==a?{top:b.top-d,left:b.left+b.width/2-c/2}:\"left\"==a?{top:b.top+b.height/2-d/2,left:b.left-c}:{top:b.top+b.height/2-d/2,left:b.left+b.width}},c.prototype.getViewportAdjustedDelta=function(a,b,c,d){var e={top:0,left:0};if(!this.$viewport)return e;var f=this.options.viewport&&this.options.viewport.padding||0,g=this.getPosition(this.$viewport);if(/right|left/.test(a)){var h=b.top-f-g.scroll,i=b.top+f-g.scroll+d;h<g.top?e.top=g.top-h:i>g.top+g.height&&(e.top=g.top+g.height-i)}else{var j=b.left-f,k=b.left+f+c;j<g.left?e.left=g.left-j:k>g.width&&(e.left=g.left+g.width-k)}\\nreturn e},c.prototype.getTitle=function(){var a,b=this.$element,c=this.options;return a=b.attr(\"data-original-title\")||(\"function\"==typeof c.title?c.title.call(b[0]):c.title)},c.prototype.getUID=function(a){do a+=~~(1e6*Math.random());while(document.getElementById(a));return a},c.prototype.tip=function(){return this.$tip=this.$tip||a(this.options.template)},c.prototype.arrow=function(){return this.$arrow=this.$arrow||this.tip().find(\".tooltip-arrow\")},c.prototype.enable=function(){this.enabled=!0},c.prototype.disable=function(){this.enabled=!1},c.prototype.toggleEnabled=function(){this.enabled=!this.enabled},c.prototype.toggle=function(b){var c=this;b&&(c=a(b.currentTarget).data(\"bs.\"+this.type),c||(c=new this.constructor(b.currentTarget,this.getDelegateOptions()),a(b.currentTarget).data(\"bs.\"+this.type,c))),c.tip().hasClass(\"in\")?c.leave(c):c.enter(c)},c.prototype.destroy=function(){var a=this;clearTimeout(this.timeout),this.hide(function(){a.$element.off(\".\"+a.type).removeData(\"bs.\"+a.type)})};var d=a.fn.tooltip;a.fn.tooltip=b,a.fn.tooltip.Constructor=c,a.fn.tooltip.noConflict=function(){return a.fn.tooltip=d,this}}(jQuery),+function(a){\"use strict\";function b(b){return this.each(function(){var d=a(this),e=d.data(\"bs.popover\"),f=\"object\"==typeof b&&b;(e||!/destroy|hide/.test(b))&&(e||d.data(\"bs.popover\",e=new c(this,f)),\"string\"==typeof b&&e[b]())})}\\nvar c=function(a,b){this.init(\"popover\",a,b)};if(!a.fn.tooltip)throw new Error(\"Popover requires tooltip.js\");c.VERSION=\"3.3.4\",c.DEFAULTS=a.extend({},a.fn.tooltip.Constructor.DEFAULTS,{placement:\"right\",trigger:\"click\",content:\"\",template:\\'<div class=\"popover\" role=\"tooltip\"><div class=\"arrow\"></div><h3 class=\"popover-title\"></h3><div class=\"popover-content\"></div></div>\\'}),c.prototype=a.extend({},a.fn.tooltip.Constructor.prototype),c.prototype.constructor=c,c.prototype.getDefaults=function(){return c.DEFAULTS},c.prototype.setContent=function(){var a=this.tip(),b=this.getTitle(),c=this.getContent();a.find(\".popover-title\")[this.options.html?\"html\":\"text\"](b),a.find(\".popover-content\").children().detach().end()[this.options.html?\"string\"==typeof c?\"html\":\"append\":\"text\"](c),a.removeClass(\"fade top bottom left right in\"),a.find(\".popover-title\").html()||a.find(\".popover-title\").hide()},c.prototype.hasContent=function(){return this.getTitle()||this.getContent()},c.prototype.getContent=function(){var a=this.$element,b=this.options;return a.attr(\"data-content\")||(\"function\"==typeof b.content?b.content.call(a[0]):b.content)},c.prototype.arrow=function(){return this.$arrow=this.$arrow||this.tip().find(\".arrow\")};var d=a.fn.popover;a.fn.popover=b,a.fn.popover.Constructor=c,a.fn.popover.noConflict=function(){return a.fn.popover=d,this}}(jQuery),+function(a){\"use strict\";function b(c,d){this.$body=a(document.body),this.$scrollElement=a(a(c).is(document.body)?window:c),this.options=a.extend({},b.DEFAULTS,d),this.selector=(this.options.target||\"\")+\" .nav li > a\",this.offsets=[],this.targets=[],this.activeTarget=null,this.scrollHeight=0,this.$scrollElement.on(\"scroll.bs.scrollspy\",a.proxy(this.process,this)),this.refresh(),this.process()}\\nfunction c(c){return this.each(function(){var d=a(this),e=d.data(\"bs.scrollspy\"),f=\"object\"==typeof c&&c;e||d.data(\"bs.scrollspy\",e=new b(this,f)),\"string\"==typeof c&&e[c]()})}\\nb.VERSION=\"3.3.4\",b.DEFAULTS={offset:10},b.prototype.getScrollHeight=function(){return this.$scrollElement[0].scrollHeight||Math.max(this.$body[0].scrollHeight,document.documentElement.scrollHeight)},b.prototype.refresh=function(){var b=this,c=\"offset\",d=0;this.offsets=[],this.targets=[],this.scrollHeight=this.getScrollHeight(),a.isWindow(this.$scrollElement[0])||(c=\"position\",d=this.$scrollElement.scrollTop()),this.$body.find(this.selector).map(function(){var b=a(this),e=b.data(\"target\")||b.attr(\"href\"),f=/^#./.test(e)&&a(e);return f&&f.length&&f.is(\":visible\")&&[[f[c]().top+d,e]]||null}).sort(function(a,b){return a[0]-b[0]}).each(function(){b.offsets.push(this[0]),b.targets.push(this[1])})},b.prototype.process=function(){var a,b=this.$scrollElement.scrollTop()+this.options.offset,c=this.getScrollHeight(),d=this.options.offset+c-this.$scrollElement.height(),e=this.offsets,f=this.targets,g=this.activeTarget;if(this.scrollHeight!=c&&this.refresh(),b>=d)return g!=(a=f[f.length-1])&&this.activate(a);if(g&&b<e[0])return this.activeTarget=null,this.clear();for(a=e.length;a--;)g!=f[a]&&b>=e[a]&&(void 0===e[a+1]||b<e[a+1])&&this.activate(f[a])},b.prototype.activate=function(b){this.activeTarget=b,this.clear();var c=this.selector+\\'[data-target=\"\\'+b+\\'\"],\\'+this.selector+\\'[href=\"\\'+b+\\'\"]\\',d=a(c).parents(\"li\").addClass(\"active\");d.parent(\".dropdown-menu\").length&&(d=d.closest(\"li.dropdown\").addClass(\"active\")),d.trigger(\"activate.bs.scrollspy\")},b.prototype.clear=function(){a(this.selector).parentsUntil(this.options.target,\".active\").removeClass(\"active\")};var d=a.fn.scrollspy;a.fn.scrollspy=c,a.fn.scrollspy.Constructor=b,a.fn.scrollspy.noConflict=function(){return a.fn.scrollspy=d,this},a(window).on(\"load.bs.scrollspy.data-api\",function(){a(\\'[data-spy=\"scroll\"]\\').each(function(){var b=a(this);c.call(b,b.data())})})}(jQuery),+function(a){\"use strict\";function b(b){return this.each(function(){var d=a(this),e=d.data(\"bs.tab\");e||d.data(\"bs.tab\",e=new c(this)),\"string\"==typeof b&&e[b]()})}\\nvar c=function(b){this.element=a(b)};c.VERSION=\"3.3.4\",c.TRANSITION_DURATION=150,c.prototype.show=function(){var b=this.element,c=b.closest(\"ul:not(.dropdown-menu)\"),d=b.data(\"target\");if(d||(d=b.attr(\"href\"),d=d&&d.replace(/.*(?=#[^\\\\s]*$)/,\"\")),!b.parent(\"li\").hasClass(\"active\")){var e=c.find(\".active:last a\"),f=a.Event(\"hide.bs.tab\",{relatedTarget:b[0]}),g=a.Event(\"show.bs.tab\",{relatedTarget:e[0]});if(e.trigger(f),b.trigger(g),!g.isDefaultPrevented()&&!f.isDefaultPrevented()){var h=a(d);this.activate(b.closest(\"li\"),c),this.activate(h,h.parent(),function(){e.trigger({type:\"hidden.bs.tab\",relatedTarget:b[0]}),b.trigger({type:\"shown.bs.tab\",relatedTarget:e[0]})})}}},c.prototype.activate=function(b,d,e){function f(){g.removeClass(\"active\").find(\"> .dropdown-menu > .active\").removeClass(\"active\").end().find(\\'[data-toggle=\"tab\"]\\').attr(\"aria-expanded\",!1),b.addClass(\"active\").find(\\'[data-toggle=\"tab\"]\\').attr(\"aria-expanded\",!0),h?(b[0].offsetWidth,b.addClass(\"in\")):b.removeClass(\"fade\"),b.parent(\".dropdown-menu\").length&&b.closest(\"li.dropdown\").addClass(\"active\").end().find(\\'[data-toggle=\"tab\"]\\').attr(\"aria-expanded\",!0),e&&e()}\\nvar g=d.find(\"> .active\"),h=e&&a.support.transition&&(g.length&&g.hasClass(\"fade\")||!!d.find(\"> .fade\").length);g.length&&h?g.one(\"bsTransitionEnd\",f).emulateTransitionEnd(c.TRANSITION_DURATION):f(),g.removeClass(\"in\")};var d=a.fn.tab;a.fn.tab=b,a.fn.tab.Constructor=c,a.fn.tab.noConflict=function(){return a.fn.tab=d,this};var e=function(c){c.preventDefault(),b.call(a(this),\"show\")};a(document).on(\"click.bs.tab.data-api\",\\'[data-toggle=\"tab\"]\\',e).on(\"click.bs.tab.data-api\",\\'[data-toggle=\"pill\"]\\',e)}(jQuery),+function(a){\"use strict\";function b(b){return this.each(function(){var d=a(this),e=d.data(\"bs.affix\"),f=\"object\"==typeof b&&b;e||d.data(\"bs.affix\",e=new c(this,f)),\"string\"==typeof b&&e[b]()})}\\nvar c=function(b,d){this.options=a.extend({},c.DEFAULTS,d),this.$target=a(this.options.target).on(\"scroll.bs.affix.data-api\",a.proxy(this.checkPosition,this)).on(\"click.bs.affix.data-api\",a.proxy(this.checkPositionWithEventLoop,this)),this.$element=a(b),this.affixed=null,this.unpin=null,this.pinnedOffset=null,this.checkPosition()};c.VERSION=\"3.3.4\",c.RESET=\"affix affix-top affix-bottom\",c.DEFAULTS={offset:0,target:window},c.prototype.getState=function(a,b,c,d){var e=this.$target.scrollTop(),f=this.$element.offset(),g=this.$target.height();if(null!=c&&\"top\"==this.affixed)return c>e?\"top\":!1;if(\"bottom\"==this.affixed)return null!=c?e+this.unpin<=f.top?!1:\"bottom\":a-d>=e+g?!1:\"bottom\";var h=null==this.affixed,i=h?e:f.top,j=h?g:b;return null!=c&&c>=e?\"top\":null!=d&&i+j>=a-d?\"bottom\":!1},c.prototype.getPinnedOffset=function(){if(this.pinnedOffset)return this.pinnedOffset;this.$element.removeClass(c.RESET).addClass(\"affix\");var a=this.$target.scrollTop(),b=this.$element.offset();return this.pinnedOffset=b.top-a},c.prototype.checkPositionWithEventLoop=function(){setTimeout(a.proxy(this.checkPosition,this),1)},c.prototype.checkPosition=function(){if(this.$element.is(\":visible\")){var b=this.$element.height(),d=this.options.offset,e=d.top,f=d.bottom,g=a(document.body).height();\"object\"!=typeof d&&(f=e=d),\"function\"==typeof e&&(e=d.top(this.$element)),\"function\"==typeof f&&(f=d.bottom(this.$element));var h=this.getState(g,b,e,f);if(this.affixed!=h){null!=this.unpin&&this.$element.css(\"top\",\"\");var i=\"affix\"+(h?\"-\"+h:\"\"),j=a.Event(i+\".bs.affix\");if(this.$element.trigger(j),j.isDefaultPrevented())return;this.affixed=h,this.unpin=\"bottom\"==h?this.getPinnedOffset():null,this.$element.removeClass(c.RESET).addClass(i).trigger(i.replace(\"affix\",\"affixed\")+\".bs.affix\")}\\n\"bottom\"==h&&this.$element.offset({top:g-b-f})}};var d=a.fn.affix;a.fn.affix=b,a.fn.affix.Constructor=c,a.fn.affix.noConflict=function(){return a.fn.affix=d,this},a(window).on(\"load\",function(){a(\\'[data-spy=\"affix\"]\\').each(function(){var c=a(this),d=c.data();d.offset=d.offset||{},null!=d.offsetBottom&&(d.offset.bottom=d.offsetBottom),null!=d.offsetTop&&(d.offset.top=d.offsetTop),b.call(c,d)})})}(jQuery)\\n</script>\\n\\n<script>\\n/* WowJs */\\n(function(){var a,b,c,d,e,f=function(a,b){return function(){return a.apply(b,arguments)}},g=[].indexOf||function(a){for(var b=0,c=this.length;c>b;b++)if(b in this&&this[b]===a)return b;return-1};b=function(){function a(){}\\nreturn a.prototype.extend=function(a,b){var c,d;for(c in b)d=b[c],null==a[c]&&(a[c]=d);return a},a.prototype.isMobile=function(a){return/Android|webOS|iPhone|iPad|iPod|BlackBerry|IEMobile|Opera Mini/i.test(a)},a.prototype.addEvent=function(a,b,c){return null!=a.addEventListener?a.addEventListener(b,c,!1):null!=a.attachEvent?a.attachEvent(\"on\"+b,c):a[b]=c},a.prototype.removeEvent=function(a,b,c){return null!=a.removeEventListener?a.removeEventListener(b,c,!1):null!=a.detachEvent?a.detachEvent(\"on\"+b,c):delete a[b]},a.prototype.innerHeight=function(){return\"innerHeight\" in window?window.innerHeight:document.documentElement.clientHeight},a}(),c=this.WeakMap||this.MozWeakMap||(c=function(){function a(){this.keys=[],this.values=[]}\\nreturn a.prototype.get=function(a){var b,c,d,e,f;for(f=this.keys,b=d=0,e=f.length;e>d;b=++d)if(c=f[b],c===a)return this.values[b]},a.prototype.set=function(a,b){var c,d,e,f,g;for(g=this.keys,c=e=0,f=g.length;f>e;c=++e)if(d=g[c],d===a)return void(this.values[c]=b);return this.keys.push(a),this.values.push(b)},a}()),a=this.MutationObserver||this.WebkitMutationObserver||this.MozMutationObserver||(a=function(){function a(){\"undefined\"!=typeof console&&null!==console&&console.warn(\"MutationObserver is not supported by your browser.\"),\"undefined\"!=typeof console&&null!==console&&console.warn(\"WOW.js cannot detect dom mutations, please call .sync() after loading new content.\")}\\nreturn a.notSupported=!0,a.prototype.observe=function(){},a}()),d=this.getComputedStyle||function(a){return this.getPropertyValue=function(b){var c;return\"float\"===b&&(b=\"styleFloat\"),e.test(b)&&b.replace(e,function(a,b){return b.toUpperCase()}),(null!=(c=a.currentStyle)?c[b]:void 0)||null},this},e=/(\\\\-([a-z]){1})/g,this.WOW=function(){function e(a){null==a&&(a={}),this.scrollCallback=f(this.scrollCallback,this),this.scrollHandler=f(this.scrollHandler,this),this.start=f(this.start,this),this.scrolled=!0,this.config=this.util().extend(a,this.defaults),this.animationNameCache=new c}\\nreturn e.prototype.defaults={boxClass:\"wow\",animateClass:\"animated\",offset:0,mobile:!0,live:!0,callback:null},e.prototype.init=function(){var a;return this.element=window.document.documentElement,\"interactive\"===(a=document.readyState)||\"complete\"===a?this.start():this.util().addEvent(document,\"DOMContentLoaded\",this.start),this.finished=[]},e.prototype.start=function(){var b,c,d,e;if(this.stopped=!1,this.boxes=function(){var a,c,d,e;for(d=this.element.querySelectorAll(\".\"+this.config.boxClass),e=[],a=0,c=d.length;c>a;a++)b=d[a],e.push(b);return e}.call(this),this.all=function(){var a,c,d,e;for(d=this.boxes,e=[],a=0,c=d.length;c>a;a++)b=d[a],e.push(b);return e}.call(this),this.boxes.length)if(this.disabled())this.resetStyle();else for(e=this.boxes,c=0,d=e.length;d>c;c++)b=e[c],this.applyStyle(b,!0);return this.disabled()||(this.util().addEvent(window,\"scroll\",this.scrollHandler),this.util().addEvent(window,\"resize\",this.scrollHandler),this.interval=setInterval(this.scrollCallback,50)),this.config.live?new a(function(a){return function(b){var c,d,e,f,g;for(g=[],e=0,f=b.length;f>e;e++)d=b[e],g.push(function(){var a,b,e,f;for(e=d.addedNodes||[],f=[],a=0,b=e.length;b>a;a++)c=e[a],f.push(this.doSync(c));return f}.call(a));return g}}(this)).observe(document.body,{childList:!0,subtree:!0}):void 0},e.prototype.stop=function(){return this.stopped=!0,this.util().removeEvent(window,\"scroll\",this.scrollHandler),this.util().removeEvent(window,\"resize\",this.scrollHandler),null!=this.interval?clearInterval(this.interval):void 0},e.prototype.sync=function(){return a.notSupported?this.doSync(this.element):void 0},e.prototype.doSync=function(a){var b,c,d,e,f;if(null==a&&(a=this.element),1===a.nodeType){for(a=a.parentNode||a,e=a.querySelectorAll(\".\"+this.config.boxClass),f=[],c=0,d=e.length;d>c;c++)b=e[c],g.call(this.all,b)<0?(this.boxes.push(b),this.all.push(b),this.stopped||this.disabled()?this.resetStyle():this.applyStyle(b,!0),f.push(this.scrolled=!0)):f.push(void 0);return f}},e.prototype.show=function(a){return this.applyStyle(a),a.className=\"\"+a.className+\" \"+this.config.animateClass,null!=this.config.callback?this.config.callback(a):void 0},e.prototype.applyStyle=function(a,b){var c,d,e;return d=a.getAttribute(\"data-wow-duration\"),c=a.getAttribute(\"data-wow-delay\"),e=a.getAttribute(\"data-wow-iteration\"),this.animate(function(f){return function(){return f.customStyle(a,b,d,c,e)}}(this))},e.prototype.animate=function(){return\"requestAnimationFrame\" in window?function(a){return window.requestAnimationFrame(a)}:function(a){return a()}}(),e.prototype.resetStyle=function(){var a,b,c,d,e;for(d=this.boxes,e=[],b=0,c=d.length;c>b;b++)a=d[b],e.push(a.style.visibility=\"visible\");return e},e.prototype.customStyle=function(a,b,c,d,e){return b&&this.cacheAnimationName(a),a.style.visibility=b?\"hidden\":\"visible\",c&&this.vendorSet(a.style,{animationDuration:c}),d&&this.vendorSet(a.style,{animationDelay:d}),e&&this.vendorSet(a.style,{animationIterationCount:e}),this.vendorSet(a.style,{animationName:b?\"none\":this.cachedAnimationName(a)}),a},e.prototype.vendors=[\"moz\",\"webkit\"],e.prototype.vendorSet=function(a,b){var c,d,e,f;f=[];for(c in b)d=b[c],a[\"\"+c]=d,f.push(function(){var b,f,g,h;for(g=this.vendors,h=[],b=0,f=g.length;f>b;b++)e=g[b],h.push(a[\"\"+e+c.charAt(0).toUpperCase()+c.substr(1)]=d);return h}.call(this));return f},e.prototype.vendorCSS=function(a,b){var c,e,f,g,h,i;for(e=d(a),c=e.getPropertyCSSValue(b),i=this.vendors,g=0,h=i.length;h>g;g++)f=i[g],c=c||e.getPropertyCSSValue(\"-\"+f+\"-\"+b);return c},e.prototype.animationName=function(a){var b;try{b=this.vendorCSS(a,\"animation-name\").cssText}catch(c){b=d(a).getPropertyValue(\"animation-name\")}\\nreturn\"none\"===b?\"\":b},e.prototype.cacheAnimationName=function(a){return this.animationNameCache.set(a,this.animationName(a))},e.prototype.cachedAnimationName=function(a){return this.animationNameCache.get(a)},e.prototype.scrollHandler=function(){return this.scrolled=!0},e.prototype.scrollCallback=function(){var a;return!this.scrolled||(this.scrolled=!1,this.boxes=function(){var b,c,d,e;for(d=this.boxes,e=[],b=0,c=d.length;c>b;b++)a=d[b],a&&(this.isVisible(a)?this.show(a):e.push(a));return e}.call(this),this.boxes.length||this.config.live)?void 0:this.stop()},e.prototype.offsetTop=function(a){for(var b;void 0===a.offsetTop;)a=a.parentNode;for(b=a.offsetTop;a=a.offsetParent;)b+=a.offsetTop;return b},e.prototype.isVisible=function(a){var b,c,d,e,f;return c=a.getAttribute(\"data-wow-offset\")||this.config.offset,f=window.pageYOffset,e=f+Math.min(this.element.clientHeight,this.util().innerHeight())-c,d=this.offsetTop(a),b=d+a.clientHeight,e>=d&&b>=f},e.prototype.util=function(){return null!=this._util?this._util:this._util=new b},e.prototype.disabled=function(){return!this.config.mobile&&this.util().isMobile(navigator.userAgent)},e}()}).call(this);new WOW().init()\\n</script>\\n\\n<script>\\n$(window).scroll(function(){\\nif ($(this).scrollTop() > 10) {\\n$(\\'.BS-header\\').addClass(\\'scrolled\\');\\n} else {\\n$(\\'.BS-header\\').removeClass(\\'scrolled\\');\\n}\\n});\\n\\n$(document).ready(function(){\\n$(\\'.showmob\\').click(function(){ $(\".BS-header\").addClass(\"mobile-visible\"); });\\n$(\\'.hidemob\\').click(function(){ $(\".BS-header\").removeClass(\"mobile-visible\"); });\\n$(\\'.lvl-0\\').on(\\'click\\', function(){ $(this).addClass(\\'open\\'); });\\n});\\n\\n</script>\\n<script async=\"\" type=\"text/javascript\" src=\"https://cdn.livechatinc.com/tracking.js\"></script></head>\\n<body>\\n\\n<!--\\n<style> \\n.pyro > .before, .pyro > .after {\\n  position: fixed;\\n  z-index: 9999;\\n  width: 5px;\\n  height: 5px;\\n  border-radius: 50%;\\n  box-shadow: -120px -218.66667px blue, 248px -16.66667px #00ff84, 190px 16.33333px #002bff, -113px -308.66667px #ff009d, -109px -287.66667px #ffb300, -50px -313.66667px #ff006e, 226px -31.66667px #ff4000, 180px -351.66667px #ff00d0, -12px -338.66667px #00f6ff, 220px -388.66667px #99ff00, -69px -27.66667px #ff0400, -111px -339.66667px #6200ff, 155px -237.66667px #00ddff, -152px -380.66667px #00ffd0, -50px -37.66667px #00ffdd, -95px -175.66667px #a6ff00, -88px 10.33333px #0d00ff, 112px -309.66667px #005eff, 69px -415.66667px #ff00a6, 168px -100.66667px #ff004c, -244px 24.33333px #ff6600, 97px -325.66667px #ff0066, -211px -182.66667px #00ffa2, 236px -126.66667px #b700ff, 140px -196.66667px #9000ff, 125px -175.66667px #00bbff, 118px -381.66667px #ff002f, 144px -111.66667px #ffae00, 36px -78.66667px #f600ff, -63px -196.66667px #c800ff, -218px -227.66667px #d4ff00, -134px -377.66667px #ea00ff, -36px -412.66667px #ff00d4, 209px -106.66667px #00fff2, 91px -278.66667px #000dff, -22px -191.66667px #9dff00, 139px -392.66667px #a6ff00, 56px -2.66667px #0099ff, -156px -276.66667px #ea00ff, -163px -233.66667px #00fffb, -238px -346.66667px #00ff73, 62px -363.66667px #0088ff, 244px -170.66667px #0062ff, 224px -142.66667px #b300ff, 141px -208.66667px #9000ff, 211px -285.66667px #ff6600, 181px -128.66667px #1e00ff, 90px -123.66667px #c800ff, 189px 70.33333px #00ffc8, -18px -383.66667px #00ff33, 100px -6.66667px #ff008c;\\n  -moz-animation: 1s bang ease-out infinite backwards, 1s gravity ease-in infinite backwards, 5s position linear infinite backwards;\\n  -webkit-animation: 1s bang ease-out infinite backwards, 1s gravity ease-in infinite backwards, 5s position linear infinite backwards;\\n  -o-animation: 1s bang ease-out infinite backwards, 1s gravity ease-in infinite backwards, 5s position linear infinite backwards;\\n  -ms-animation: 1s bang ease-out infinite backwards, 1s gravity ease-in infinite backwards, 5s position linear infinite backwards;\\n  animation: 1s bang ease-out infinite backwards, 1s gravity ease-in infinite backwards, 5s position linear infinite backwards; }\\n\\n.pyro > .after {\\n  -moz-animation-delay: 1.25s, 1.25s, 1.25s;\\n  -webkit-animation-delay: 1.25s, 1.25s, 1.25s;\\n  -o-animation-delay: 1.25s, 1.25s, 1.25s;\\n  -ms-animation-delay: 1.25s, 1.25s, 1.25s;\\n  animation-delay: 1.25s, 1.25s, 1.25s;\\n  -moz-animation-duration: 1.25s, 1.25s, 6.25s;\\n  -webkit-animation-duration: 1.25s, 1.25s, 6.25s;\\n  -o-animation-duration: 1.25s, 1.25s, 6.25s;\\n  -ms-animation-duration: 1.25s, 1.25s, 6.25s;\\n  animation-duration: 1.25s, 1.25s, 6.25s; }\\n\\n@-webkit-keyframes bang {\\n  from {\\n    box-shadow: 0 0 white, 0 0 white, 0 0 white, 0 0 white, 0 0 white, 0 0 white, 0 0 white, 0 0 white, 0 0 white, 0 0 white, 0 0 white, 0 0 white, 0 0 white, 0 0 white, 0 0 white, 0 0 white, 0 0 white, 0 0 white, 0 0 white, 0 0 white, 0 0 white, 0 0 white, 0 0 white, 0 0 white, 0 0 white, 0 0 white, 0 0 white, 0 0 white, 0 0 white, 0 0 white, 0 0 white, 0 0 white, 0 0 white, 0 0 white, 0 0 white, 0 0 white, 0 0 white, 0 0 white, 0 0 white, 0 0 white, 0 0 white, 0 0 white, 0 0 white, 0 0 white, 0 0 white, 0 0 white, 0 0 white, 0 0 white, 0 0 white, 0 0 white, 0 0 white; } }\\n@-moz-keyframes bang {\\n  from {\\n    box-shadow: 0 0 white, 0 0 white, 0 0 white, 0 0 white, 0 0 white, 0 0 white, 0 0 white, 0 0 white, 0 0 white, 0 0 white, 0 0 white, 0 0 white, 0 0 white, 0 0 white, 0 0 white, 0 0 white, 0 0 white, 0 0 white, 0 0 white, 0 0 white, 0 0 white, 0 0 white, 0 0 white, 0 0 white, 0 0 white, 0 0 white, 0 0 white, 0 0 white, 0 0 white, 0 0 white, 0 0 white, 0 0 white, 0 0 white, 0 0 white, 0 0 white, 0 0 white, 0 0 white, 0 0 white, 0 0 white, 0 0 white, 0 0 white, 0 0 white, 0 0 white, 0 0 white, 0 0 white, 0 0 white, 0 0 white, 0 0 white, 0 0 white, 0 0 white, 0 0 white; } }\\n@-o-keyframes bang {\\n  from {\\n    box-shadow: 0 0 white, 0 0 white, 0 0 white, 0 0 white, 0 0 white, 0 0 white, 0 0 white, 0 0 white, 0 0 white, 0 0 white, 0 0 white, 0 0 white, 0 0 white, 0 0 white, 0 0 white, 0 0 white, 0 0 white, 0 0 white, 0 0 white, 0 0 white, 0 0 white, 0 0 white, 0 0 white, 0 0 white, 0 0 white, 0 0 white, 0 0 white, 0 0 white, 0 0 white, 0 0 white, 0 0 white, 0 0 white, 0 0 white, 0 0 white, 0 0 white, 0 0 white, 0 0 white, 0 0 white, 0 0 white, 0 0 white, 0 0 white, 0 0 white, 0 0 white, 0 0 white, 0 0 white, 0 0 white, 0 0 white, 0 0 white, 0 0 white, 0 0 white, 0 0 white; } }\\n@-ms-keyframes bang {\\n  from {\\n    box-shadow: 0 0 white, 0 0 white, 0 0 white, 0 0 white, 0 0 white, 0 0 white, 0 0 white, 0 0 white, 0 0 white, 0 0 white, 0 0 white, 0 0 white, 0 0 white, 0 0 white, 0 0 white, 0 0 white, 0 0 white, 0 0 white, 0 0 white, 0 0 white, 0 0 white, 0 0 white, 0 0 white, 0 0 white, 0 0 white, 0 0 white, 0 0 white, 0 0 white, 0 0 white, 0 0 white, 0 0 white, 0 0 white, 0 0 white, 0 0 white, 0 0 white, 0 0 white, 0 0 white, 0 0 white, 0 0 white, 0 0 white, 0 0 white, 0 0 white, 0 0 white, 0 0 white, 0 0 white, 0 0 white, 0 0 white, 0 0 white, 0 0 white, 0 0 white, 0 0 white; } }\\n@keyframes bang {\\n  from {\\n    box-shadow: 0 0 white, 0 0 white, 0 0 white, 0 0 white, 0 0 white, 0 0 white, 0 0 white, 0 0 white, 0 0 white, 0 0 white, 0 0 white, 0 0 white, 0 0 white, 0 0 white, 0 0 white, 0 0 white, 0 0 white, 0 0 white, 0 0 white, 0 0 white, 0 0 white, 0 0 white, 0 0 white, 0 0 white, 0 0 white, 0 0 white, 0 0 white, 0 0 white, 0 0 white, 0 0 white, 0 0 white, 0 0 white, 0 0 white, 0 0 white, 0 0 white, 0 0 white, 0 0 white, 0 0 white, 0 0 white, 0 0 white, 0 0 white, 0 0 white, 0 0 white, 0 0 white, 0 0 white, 0 0 white, 0 0 white, 0 0 white, 0 0 white, 0 0 white, 0 0 white; } }\\n@-webkit-keyframes gravity {\\n  to {\\n    transform: translateY(200px);\\n    -moz-transform: translateY(200px);\\n    -webkit-transform: translateY(200px);\\n    -o-transform: translateY(200px);\\n    -ms-transform: translateY(200px);\\n    opacity: 0; } }\\n@-moz-keyframes gravity {\\n  to {\\n    transform: translateY(200px);\\n    -moz-transform: translateY(200px);\\n    -webkit-transform: translateY(200px);\\n    -o-transform: translateY(200px);\\n    -ms-transform: translateY(200px);\\n    opacity: 0; } }\\n@-o-keyframes gravity {\\n  to {\\n    transform: translateY(200px);\\n    -moz-transform: translateY(200px);\\n    -webkit-transform: translateY(200px);\\n    -o-transform: translateY(200px);\\n    -ms-transform: translateY(200px);\\n    opacity: 0; } }\\n@-ms-keyframes gravity {\\n  to {\\n    transform: translateY(200px);\\n    -moz-transform: translateY(200px);\\n    -webkit-transform: translateY(200px);\\n    -o-transform: translateY(200px);\\n    -ms-transform: translateY(200px);\\n    opacity: 0; } }\\n@keyframes gravity {\\n  to {\\n    transform: translateY(200px);\\n    -moz-transform: translateY(200px);\\n    -webkit-transform: translateY(200px);\\n    -o-transform: translateY(200px);\\n    -ms-transform: translateY(200px);\\n    opacity: 0; } }\\n@-webkit-keyframes position {\\n  0%, 19.9% {\\n    margin-top: 10%;\\n    margin-left: 40%; }\\n\\n  20%, 39.9% {\\n    margin-top: 40%;\\n    margin-left: 30%; }\\n\\n  40%, 59.9% {\\n    margin-top: 20%;\\n    margin-left: 70%; }\\n\\n  60%, 79.9% {\\n    margin-top: 30%;\\n    margin-left: 20%; }\\n\\n  80%, 99.9% {\\n    margin-top: 30%;\\n    margin-left: 80%; } }\\n@-moz-keyframes position {\\n  0%, 19.9% {\\n    margin-top: 10%;\\n    margin-left: 40%; }\\n\\n  20%, 39.9% {\\n    margin-top: 40%;\\n    margin-left: 30%; }\\n\\n  40%, 59.9% {\\n    margin-top: 20%;\\n    margin-left: 70%; }\\n\\n  60%, 79.9% {\\n    margin-top: 30%;\\n    margin-left: 20%; }\\n\\n  80%, 99.9% {\\n    margin-top: 30%;\\n    margin-left: 80%; } }\\n@-o-keyframes position {\\n  0%, 19.9% {\\n    margin-top: 10%;\\n    margin-left: 40%; }\\n\\n  20%, 39.9% {\\n    margin-top: 40%;\\n    margin-left: 30%; }\\n\\n  40%, 59.9% {\\n    margin-top: 20%;\\n    margin-left: 70%; }\\n\\n  60%, 79.9% {\\n    margin-top: 30%;\\n    margin-left: 20%; }\\n\\n  80%, 99.9% {\\n    margin-top: 30%;\\n    margin-left: 80%; } }\\n@-ms-keyframes position {\\n  0%, 19.9% {\\n    margin-top: 10%;\\n    margin-left: 40%; }\\n\\n  20%, 39.9% {\\n    margin-top: 40%;\\n    margin-left: 30%; }\\n\\n  40%, 59.9% {\\n    margin-top: 20%;\\n    margin-left: 70%; }\\n\\n  60%, 79.9% {\\n    margin-top: 30%;\\n    margin-left: 20%; }\\n\\n  80%, 99.9% {\\n    margin-top: 30%;\\n    margin-left: 80%; } }\\n@keyframes position {\\n  0%, 19.9% {\\n    margin-top: 10%;\\n    margin-left: 40%; }\\n\\n  20%, 39.9% {\\n    margin-top: 40%;\\n    margin-left: 30%; }\\n\\n  40%, 59.9% {\\n    margin-top: 20%;\\n    margin-left: 70%; }\\n\\n  60%, 79.9% {\\n    margin-top: 30%;\\n    margin-left: 20%; }\\n\\n  80%, 99.9% {\\n    margin-top: 30%;\\n    margin-left: 80%; } }\\n\\n</style>\\n\\n<div class=\"pyro\">\\n    <div class=\"before\"></div>\\n    <div class=\"after\"></div>\\n</div>\\n-->\\n<!-- Google Tag Manager (noscript) -->\\n<noscript><iframe src=\"https://www.googletagmanager.com/ns.html?id=GTM-MK6J4M\"\\nheight=\"0\" width=\"0\" style=\"display:none;visibility:hidden\"></iframe></noscript>\\n<!-- End Google Tag Manager (noscript) -->\\n\\n<header class=\"BS-header\">\\n    <div class=\"container\">\\n        <a class=\"BS-logo nav-link\" href=\"https://phptravels.com/\" title=\"phptravels\">\\n        <div>\\n        <svg xmlns=\"http://www.w3.org/2000/svg\" xmlns:xlink=\"http://www.w3.org/1999/xlink\">\\n        <defs>\\n        </defs>\\n        <image id=\"icon\" x=\"11\" y=\"5\" fill=\"#000000\" style=\"width:20px\" xlink:href=\"data:img/png;base64,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\"></image>\\n        <text id=\"PHPTRAVELS\" class=\"cls-1\" x=\"50\" y=\"20\">PHPTRAVELS</text>\\n        <text id=\"TRAVEL_TECHNOLOGY_PARTNER\" data-name=\"TRAVEL TECHNOLOGY PARTNER\" class=\"cls-2\" x=\"50\" y=\"33\">TRAVEL TECHNOLOGY PARTNER</text>\\n        </svg>\\n        </div>\\n        </a>\\n        <div class=\"menu-mobile-ico\">\\n            <svg version=\"1.1\" xmlns=\"http://www.w3.org/2000/svg\" class=\"menu-ico showmob\" x=\"0px\" y=\"0px\" viewBox=\"0 0 26 26\" style=\"enable-background:new 0 0 26 26;\" xml:space=\"preserve\">\\n              <g>\\n                <rect y=\"5\" class=\"st0\" width=\"26\" height=\"2\"></rect>\\n                <rect y=\"12\" class=\"st0\" width=\"26\" height=\"2\"></rect>\\n                <rect y=\"19\" class=\"st0\" width=\"26\" height=\"2\"></rect>\\n              </g>\\n            </svg>\\n            <svg version=\"1.1\" xmlns=\"http://www.w3.org/2000/svg\" class=\"close-ico hidemob\" x=\"0px\" y=\"0px\" viewBox=\"0 0 26 26\" style=\"enable-background:new 0 0 26 26;\" xml:space=\"preserve\">\\n                <polygon class=\"st0\" points=\"22.7,4.7 21.3,3.3 13,11.6 4.7,3.3 3.3,4.7 11.6,13 3.3,21.3 4.7,22.7 13,14.4 21.3,22.7 22.7,21.3 14.4,13 \"></polygon>\\n            </svg>\\n        </div>\\n        <nav class=\"clearfix\">\\n            <a class=\"lvl-0 link nav-link\" href=\"https://phptravels.com/demo\">Demo</a>\\n            <a class=\"lvl-0 link nav-link\" href=\"https://phptravels.com/order\">Pricing</a>\\n            <div class=\"lvl-0 dropdown\">\\n                <span>Features</span>\\n                <div class=\"dropdown-content featuresDropdown\">\\n                    <a class=\"lvl-1 link nav-link\" href=\"https://phptravels.com/features\">Main Features</a>\\n                    <a class=\"lvl-1 link nav-link\" href=\"https://phptravels.com/hotels-module-features/\">Hotels Module</a>\\n                    <a class=\"lvl-1 link nav-link\" href=\"https://phptravels.com/flights-module-features/\">Flights Module</a>\\n                    <a class=\"lvl-1 link nav-link\" href=\"https://phptravels.com/tours-module-features/\">Tours Module</a>\\n                    <a class=\"lvl-1 link nav-link\" href=\"https://phptravels.com/cars-module-features/\">Cars Module</a>\\n                    <a class=\"lvl-1 link nav-link\" href=\"https://phptravels.com/offers-module-features/\">Offers Module</a>\\n                    <a class=\"lvl-1 link nav-link\" href=\"https://phptravels.com/blog-module-features/\">Blog Module</a>\\n                    <a class=\"lvl-1 link nav-link\" href=\"https://phptravels.com/newsletter-module-features/\">Newsletter Module</a>\\n                    <a class=\"lvl-1 link nav-link\" href=\"https://phptravels.com/cms-module-features/\">CMS Module</a>\\n                </div>\\n            </div>\\n            <div class=\"lvl-0 dropdown\">\\n                <span>Product</span>\\n                <div class=\"dropdown-content featuresDropdown\">\\n                    <a class=\"lvl-1 link nav-link\" href=\"https://phptravels.com/services/\">Product Services</a>\\n                    <a class=\"lvl-1 link nav-link\" href=\"https://phptravels.com/integrations/\">Integrations</a>\\n                    <a class=\"lvl-1 link nav-link\" href=\"https://phptravels.com/customizations/\">Customizations</a>\\n                    <a class=\"lvl-1 link nav-link\" href=\"https://phptravels.com/expedia-xml-api-integration/\">API XMLIntegration</a>\\n                    <a class=\"lvl-1 link nav-link\" href=\"https://phptravels.com/travel-xml-api-suppliers-list/\">Suppliers list</a>\\n                    <a class=\"lvl-1 link nav-link\" href=\"https://phptravels.com/providers/\">Providers</a>\\n                    <a class=\"lvl-1 link nav-link\" href=\"https://phptravels.com/technology/\">Technology</a>\\n                    <a class=\"lvl-1 link nav-link\" href=\"https://phptravels.com/requirements/\">Requirements</a>\\n                    <a class=\"lvl-1 link nav-link\" href=\"https://phptravels.com/change-log/\">Changelog</a>\\n                    <a class=\"lvl-1 link nav-link\" href=\"https://phptravels.com/mobile-applications/\">Mobiles App</a>\\n                    <a class=\"lvl-1 link nav-link\" href=\"https://phptravels.com/desktop-application/\">Desktop App</a>\\n                    <a class=\"lvl-1 link nav-link\" href=\"https://phptravels.com/updates/\">Updates</a>\\n                    <a class=\"lvl-1 link nav-link\" href=\"https://phptravels.com/how-to-get-started/\">How to Start</a>\\n                </div>\\n            </div>\\n            <a class=\"lvl-0 link nav-link\" href=\"https://phptravels.com/integrations\">Integrations</a>\\n            <a class=\"lvl-0 link nav-link\" href=\"https://docs.phptravels.com\" target=\"_blank\">Docs</a>\\n            <a class=\"lvl-0 link\" href=\"https://phptravels.com/blog\" target=\"_blank\">Blog</a>\\n            <div class=\"lvl-0 dropdown headerLang\">\\n                <span class=\"currentLanguage\">Company</span>\\n                <div class=\"dropdown-content langList\">\\n                <!--<a class=\"lvl-1 link nav-link\" href=\"https://phptravels.com/chat/\" >Public Chat</a>-->\\n                <a class=\"lvl-1 link nav-link\" href=\"https://phptravels.com/earn-with-phptravels\">Content Program</a>\\n                <a class=\"lvl-1 link nav-link\" href=\"https://phptravels.com/about-us/\">About Us</a>\\n                <a class=\"lvl-1 link nav-link\" href=\"https://phptravels.com/contact-us/\">Contact Us</a>\\n                <a class=\"lvl-1 link nav-link\" href=\"https://phptravels.com/partners/\">Partners</a>\\n                <a class=\"lvl-1 link nav-link\" href=\"https://phptravels.com/the-team/\">The Team</a>\\n                <a class=\"lvl-1 link nav-link\" href=\"https://phptravels.com/affiliate/\">Affiliate</a>\\n                <a class=\"lvl-1 link nav-link\" href=\"https://phptravels.com/media-kit/\">Media Kit</a>\\n                <a class=\"lvl-1 link nav-link\" href=\"https://phptravels.com/jobs/\">Careers / Jobs</a>\\n                <a class=\"lvl-1 link nav-link\" href=\"https://phptravels.com/privacy-statement/\">Privacy Policy</a>\\n                <a class=\"lvl-1 link nav-link\" href=\"https://phptravels.com/terms-and-conditions/\">Terms &amp; Conditions</a>\\n                <a class=\"lvl-1 link nav-link\" href=\"https://www.phptravels.info\" target=\"_blank\">Forums</a>\\n                </div>\\n            </div>\\n            <a class=\"lvl-0 sign-in btn btn-md btn-white-outline\" href=\"https://phptravels.org/\" target=\"_blank\">Login</a>\\n            <!--<a class=\"lvl-0 signup-free btn btn-md btn-white-outline\" href=\"https://phptravels.org/register.php\" target=\"_blank\">Sign up</a>-->\\n        </nav>\\n    </div>\\n</header>\\n\\n<div aria-hidden=\"true\" style=\"opacity: 0;\"></div>\\n\\n<div id=\"PageContainer\">\\n<main role=\"main\" id=\"Main\">\\n<div class=\"templates-page\">\\n<header class=\"text-left\">\\n    <div class=\"container\">\\n        <div class=\"row\">\\n            <div class=\"col-sm-12\">\\n                <h2 data-wow-duration=\"0.3s\" data-wow-delay=\"0.5s\" class=\"wow fadeIn upper animated\" id=\"header-title\" style=\"visibility: visible; animation-duration: 0.3s; animation-delay: 0.5s; animation-name: fadeIn;\">Application Test Drive</h2>\\n                <p class=\"wow fadeIn animated\" id=\"header-description\" data-wow-duration=\"0.3s\" data-wow-delay=\"0.6s\" style=\"visibility: visible; animation-duration: 0.3s; animation-delay: 0.6s; animation-name: fadeIn;\">Free updates lifetime and upgrades 1 year</p>\\n            </div>\\n        </div>\\n    </div>\\n</header>\\n</div>\\n\\n<!--<section class=\"hero hero--centered hero--pricing gradient inverse\">\\n    <div class=\"container\">\\n        <div class=\"row\">\\n            <div class=\"col-md-6\">\\n                <div class=\"text\">\\n                    <h2></h2>\\n                    <p ></p>\\n                </div>\\n            </div>\\n            <div class=\"col-md-6\">\\n                <div class=\"row\">\\n                    <div class=\"col-md-6\">\\n                        <a href=\"https://phptravels.com/order/\" class=\"btn btn-hero btns btn-success hero-right\">\\n                        <span class=\"hero-slogan\">Check <b>Pricing</b></span>\\n                        <span class=\"hero-icon animate zoomIn\" style=\"visibility: visible; animation-name: zoomIn;\"><span class=\"animate zoomIn\"></span>\\n                        <img class=\"animate zoomIn\" src=\"https://phptravels.com/assets/img/quotation.svg\" alt=\"Pricing Quote\" style=\"visibility: visible; animation-name: zoomIn;\">\\n                        <span class=\"animate zoomIn\" style=\"visibility: visible; animation-name: zoomIn;\"></span>\\n                        </span>\\n                        </a>\\n                    </div>\\n                    <div class=\"col-md-6\">\\n                        <a href=\"https://phptravels.com/demo/\" class=\"btn btn-hero btns btn-light-blue\">\\n                        <span class=\"hero-icon animate zoomIn\" style=\"visibility: visible; animation-name: zoomIn;\">\\n                        <img class=\"product animate zoomIn\" src=\"https://phptravels.com/assets/img/product.svg\" alt=\"Our Products Demo\" style=\"visibility: visible; animation-name: zoomIn;\">\\n                        <span class=\"animate zoomIn\" style=\"visibility: visible; animation-name: zoomIn;\"></span></span>\\n                        <span class=\"hero-slogan\">Explore <b>Demo</b> </span>\\n                        </a>\\n                    </div>\\n                </div>\\n            </div>\\n        </div>\\n    </div>\\n</section>--><style>\\n.img-hover:hover{opacity:.5;filter:alpha(opacity=50);-webkit-transition:all .3s ease-out;-moz-transition:all .3s ease-out;transition:all .3s ease-out}\\n.resource-box{color:#1f1f32}\\n hr{border-color:#e7eaef;margin:1em 0}\\n.profile{display:block;max-width:85%;height:auto}\\n.grey-box{margin-top:-25px}\\n.tiltle-line{height:2px;width:40px;background-color:#3d51b4;display:inline-block}\\n.main-title{margin-bottom:0}\\n.grey-box{background-color:#f3f8ff!important;padding:1em 0 40px 0}\\n.flex{display:-webkit-box;display:flex;-webkit-box-align:center;align-items:center;-webkit-box-pack:center;justify-content:center}\\n.app-btn{width:100%;color:#fff;margin:0px 0px 5px;text-align:left;border-radius:2px;height:45px;text-decoration:none;font-family:\"Lucida Grande\",sans-serif;font-size:10px;text-transform:uppercase}\\n.app-btn p{margin: 10px 10px; line-height: 14px;}\\n.app-btn.blu{background-color:#101010;-webkit-transition:background-color .25s linear;transition:background-color .25s linear}\\n.app-btn.blu:hover{background-color:#454545;text-decoration:none}\\n.app-btn i{width:20%;text-align:center;font-size:28px;margin-right:7px}\\n.app-btn .big-txt{font-size:17px;text-transform:capitalize}\\n.scr{max-height: 200px;}\\n.beautiful-templates{margin:0px!important}\\n.banners{width:100%!important}\\n.banner6{width:100%!important}\\n.beautiful-templates{background:transparent!important}\\n.banners img{width: 250px!important; height: 160px!important; margin-top: 42px!important;}\\n.home { overflow-x: unset; }\\n</style>\\n\\n<section class=\"grey-box\">\\n    <div class=\"container\">\\n        <div class=\"row\">\\n\\n        <div class=\"col-md-12 form-group text-center wow fadeIn animated\" data-wow-duration=\"0.3s\" data-wow-delay=\"0.2s\" style=\"visibility: visible; animation-duration: 0.3s; animation-delay: 0.2s; animation-name: fadeIn;\">\\n        <h4 class=\"main-title go-right h3\"><strong>Demo Credentials for Frontend and Backend</strong></h4>\\n        <div class=\"clearfix\"></div>\\n        <i class=\"tiltle-line go-right\"></i>\\n        </div>\\n\\n        <!-- frontend -->\\n        <div data-wow-duration=\"0.3s\" data-wow-delay=\"0.4s\" class=\"wow fadeInUp col-md-4 animated\" style=\"visibility: visible; animation-duration: 0.3s; animation-delay: 0.4s; animation-name: fadeInUp;\">\\n        <div class=\"resource-box\">\\n        <div class=\"row\">\\n        <div class=\"col-md-12\">\\n        <div class=\"home\">\\n        <div class=\"section beautiful-templates\">\\n        <div class=\"banners-container\">\\n        <div class=\"banners\">\\n        <div class=\"banner-container banner6\">\\n        <img src=\"https://phptravels.com/assets/img/front.png\" class=\"scr center-block img-responsive\" alt=\"homepage\">\\n        <a class=\"overlay\" target=\"_blank\" href=\"//www.phptravels.net\">\\n        Homepage - Front-End\\n        </a>\\n        </div>\\n        </div>\\n        </div>\\n        </div>\\n        </div>\\n        </div>\\n        <div class=\"col-md-12\">\\n        <h3 class=\"text-center\">\\n        <strong>Homepage</strong> Front-End\\n        </h3>\\n        <div class=\"col-md-12\">\\n        <div class=\"row\">\\n        <div class=\"col-md-12 form-group\">\\n        <div class=\"\">\\n        <a target=\"_blank\" href=\"//www.phptravels.net\" class=\"btn btn-primary btn-lg btn-block\">\\n        <small>http://www.phptravels.net</small>\\n        </a>\\n        </div>\\n        </div>\\n        <div class=\"col-md-12\">\\n        <div class=\"col-md-3 col-xs-3\">\\n        <img class=\"img-rounded row img-responsive\" src=\"https://phptravels.com/assets/img/pages/demo/customer.png\" alt=\"customer\">\\n        </div>\\n        <div class=\"col-md-9\">\\n        <div class=\"row\">\\n        <strong>Email</strong> user@phptravels.com<br>\\n        <strong>Password</strong> demouser\\n        </div>\\n        </div>\\n        </div>\\n        </div>\\n        </div>\\n        </div>\\n        </div>\\n        </div>\\n        </div>\\n\\n        <!-- administrator -->\\n        <div data-wow-duration=\"0.3s\" data-wow-delay=\"1s\" class=\" wow fadeInUp col-md-4\" style=\"visibility: hidden; animation-duration: 0.3s; animation-delay: 1s; animation-name: none;\">\\n        <div class=\"resource-box\">\\n        <div class=\"row\">\\n        <div class=\"col-md-12\">\\n        <div class=\"home\">\\n        <div class=\"section beautiful-templates\">\\n        <div class=\"banners-container\">\\n        <div class=\"banners\">\\n        <div class=\"banner-container banner6\">\\n        <img src=\"https://phptravels.com/assets/img/back.png\" class=\"scr center-block img-responsive\" alt=\"administrator\">\\n        <a class=\"overlay\" target=\"_blank\" href=\"//www.phptravels.net/admin\">\\n        Administrator - Back-End\\n        </a>\\n        </div>\\n        </div>\\n        </div>\\n        </div>\\n        </div>\\n        </div>\\n        <div class=\"col-md-12\">\\n        <h3 class=\"text-center\">\\n        <strong>Administrator</strong> Back-End\\n        </h3>\\n        <div class=\"col-md-12\">\\n        <div class=\"row\">\\n        <div class=\"col-md-12 form-group\">\\n        <div class=\"\">\\n        <a target=\"_blank\" href=\"//www.phptravels.net/admin\" class=\"btn btn-primary btn-lg btn-block\">\\n        <small>http://www.phptravels.net/admin</small>\\n        </a>\\n        </div>\\n        </div>\\n        <div class=\"col-md-12\">\\n        <div class=\"col-md-3 col-xs-3\">\\n        <img class=\"img-rounded row img-responsive\" src=\"https://phptravels.com/assets/img/pages/demo/admin.png\" alt=\"admin\">\\n        </div>\\n        <div class=\"col-md-9\">\\n        <div class=\"row\">\\n        <strong>Email</strong> admin@phptravels.com<br>\\n        <strong>Password</strong> demoadmin\\n        </div>\\n        </div>\\n        </div>\\n        </div>\\n        </div>\\n        </div>\\n        </div>\\n        </div>\\n        </div>\\n\\n        <!-- supplier -->\\n        <div data-wow-duration=\"0.3s\" data-wow-delay=\"1.2s\" class=\" wow fadeInUp col-md-4\" style=\"visibility: hidden; animation-duration: 0.3s; animation-delay: 1.2s; animation-name: none;\">\\n        <div class=\"resource-box\">\\n        <div class=\"row\">\\n        <div class=\"col-md-12\">\\n        <div class=\"home\">\\n        <div class=\"section beautiful-templates\">\\n        <div class=\"banners-container\">\\n        <div class=\"banners\">\\n        <div class=\"banner-container banner6\">\\n        <img src=\"https://phptravels.com/assets/img/back.png\" class=\"scr center-block img-responsive\" alt=\"supplier\">\\n        <a class=\"overlay\" target=\"_blank\" href=\"//www.phptravels.net/supplier\">\\n        Supplier Panel - Back-End\\n        </a>\\n        </div>\\n        </div>\\n        </div>\\n        </div>\\n        </div>\\n        </div>\\n        <div class=\"col-md-12\">\\n        <h3 class=\"text-center\">\\n        <strong>Supplier</strong> Back-End\\n        </h3>\\n        <div class=\"col-md-12\">\\n        <div class=\"row\">\\n        <div class=\"col-md-12 form-group\">\\n        <div class=\"\">\\n        <a target=\"_blank\" href=\"//www.phptravels.net/supplier\" class=\"btn btn-primary btn-lg btn-block\">\\n        <small>http://www.phptravels.net/supplier</small>\\n        </a>\\n        </div>\\n        </div>\\n        <div class=\"col-md-12\">\\n        <div class=\"col-md-3 col-xs-3\">\\n        <img class=\"img-rounded row img-responsive\" src=\"https://phptravels.com/assets/img/pages/demo/supplier.png\" alt=\"admin\">\\n        </div>\\n        <div class=\"col-md-9\">\\n        <div class=\"row\">\\n        <strong>Email</strong> supplier@phptravels.com<br>\\n        <strong>Password</strong> demosupplier\\n        </div>\\n        </div>\\n        </div>\\n        </div>\\n        </div>\\n        </div>\\n        </div>\\n        </div>\\n        </div>\\n\\n        <div class=\"clearfix hidden-xs sx-hidden\" style=\"margin:50px\"></div>\\n\\n        <!-- mobile apps -->\\n        <div data-wow-duration=\"0.3s\" data-wow-delay=\"0.6s\" class=\" wow fadeInUp col-md-4\" style=\"visibility: hidden; animation-duration: 0.3s; animation-delay: 0.6s; animation-name: none;\">\\n        <div class=\"resource-box\">\\n        <div class=\"row\">\\n        <div class=\"col-md-12\">\\n        <div class=\"home\">\\n        <div class=\"section beautiful-templates\">\\n        <div class=\"banners-container\">\\n        <div class=\"banners\">\\n        <div class=\"banner-container banner6\">\\n        <img src=\"https://phptravels.com/assets/img/mob.jpg\" class=\"scr center-block img-responsive img-rounded\" alt=\"administrator\">\\n        <a class=\"overlay\" target=\"_blank\" href=\"https://phptravels.com/mobile-applications/\">\\n        Mobile Apps\\n        </a>\\n        </div>\\n        </div>\\n        </div>\\n        </div>\\n        </div>\\n        </div>\\n        <div class=\"col-md-12\">\\n        <h3 class=\"text-center\">\\n        <strong>iOS</strong> App\\n        </h3>\\n        <div class=\"col-md-12\">\\n        <div class=\"row\">\\n\\n        <div class=\"col-md-12\">\\n\\n        <div class=\"social-btns\">\\n        <a class=\"app-btn blu flex vert col-md-12\" href=\"http://itunes.apple.com/us/app/travels-native/id1297567389\" target=\"blank\">\\n        <i class=\"fa fab fa-apple\"></i>\\n        <p>Available on the <br> <span class=\"big-txt\">App Store</span></p>\\n        </a>\\n        </div>\\n\\n        </div>\\n        </div>\\n        </div>\\n        </div>\\n        </div>\\n        </div>\\n        </div>\\n\\n        <!-- mobile apps -->\\n        <div data-wow-duration=\"0.3s\" data-wow-delay=\"0.8s\" class=\" wow fadeInUp col-md-4\" style=\"visibility: hidden; animation-duration: 0.3s; animation-delay: 0.8s; animation-name: none;\">\\n        <div class=\"resource-box\">\\n        <div class=\"row\">\\n        <div class=\"col-md-12\">\\n        <div class=\"home\">\\n        <div class=\"section beautiful-templates\">\\n        <div class=\"banners-container\">\\n        <div class=\"banners\">\\n        <div class=\"banner-container banner6\">\\n        <img src=\"https://phptravels.com/assets/img/mob.jpg\" class=\"scr center-block img-responsive img-rounded\" alt=\"administrator\">\\n        <a class=\"overlay\" target=\"_blank\" href=\"https://phptravels.com/mobile-applications/\">\\n        Mobile Apps\\n        </a>\\n        </div>\\n        </div>\\n        </div>\\n        </div>\\n        </div>\\n        </div>\\n        <div class=\"col-md-12\">\\n        <h3 class=\"text-center\">\\n        <strong>Android</strong> App\\n        </h3>\\n        <div class=\"col-md-12\">\\n        <div class=\"row\">\\n\\n        <div class=\"col-md-12\">\\n\\n        <div class=\"social-btns\">\\n        <a class=\"app-btn blu flex vert col-md-12\" href=\"https://play.google.com/store/apps/details?id=com.phptravelsnative\" target=\"blank\">\\n        <i class=\"fa fab fa-google\"></i>\\n        <p>Get it on <br> <span class=\"big-txt\">Google Play</span></p>\\n        </a>\\n        </div>\\n\\n        </div>\\n        </div>\\n        </div>\\n        </div>\\n        </div>\\n        </div>\\n        </div>\\n\\n        <!-- agent -->\\n        <!--<div data-wow-duration=\"0.3s\" data-wow-delay=\"1.4s\" class=\" wow fadeInUp col-md-4\">\\n        <div class=\"resource-box\">\\n        <div class=\"row\">\\n        <div class=\"col-md-12\">\\n        <div class=\"home\">\\n        <div class=\"section beautiful-templates\">\\n        <div class=\"banners-container\">\\n        <div class=\"banners\">\\n        <div class=\"banner-container banner6\">\\n        <img src=\"https://phptravels.com/assets/img/back.png\" class=\"scr center-block img-responsive\" alt=\"agent\">\\n        <a class=\"overlay\" target=\"_blank\" href=\"//www.phptravels.net/agent\">\\n        Agent Panel - Back-End\\n        </a>\\n        </div>\\n        </div>\\n        </div>\\n        </div>\\n        </div>\\n        </div>\\n        <div class=\"col-md-12\">\\n        <h3 class=\"text-center\">\\n        <strong>Agent</strong> Back-End\\n        </h3>\\n        <div class=\"col-md-12\">\\n        <div class=\"row\">\\n        <div class=\"col-md-12 form-group\">\\n        <div class=\"\">\\n        <a target=\"_blank\" href=\"//www.phptravels.net/agent\" class=\"btn btn-primary btn-lg btn-block\">\\n        <small>http://www.phptravels.net/agent</small>\\n        </a>\\n        </div>\\n        </div>\\n        <div class=\"col-md-12\">\\n        <div class=\"col-md-3 col-xs-3\">\\n        <img class=\"img-rounded row img-responsive\" src=\"https://phptravels.com/assets/img/pages/demo/supplier.png\" alt=\"agent\">\\n        </div>\\n        <div class=\"col-md-9\">\\n        <div class=\"row\">\\n        <strong>Email</strong> agent@phptravels.com<br>\\n        <strong>Password</strong> demoagent\\n        </div>\\n        </div>\\n        </div>\\n        </div>\\n        </div>\\n        </div>\\n        </div>\\n        </div>\\n        </div>-->\\n\\n\\n\\n\\n\\n\\n        <!--\\n        <div class=\"col-md-12 form-group\">\\n        <h4 class=\"main-title go-right h3\"><strong>API Based Modules</strong></h4>\\n        <div class=\"clearfix\"></div>\\n        <i class=\"tiltle-line go-right\"></i>\\n        </div>\\n\\n        <div data-wow-duration=\"0.3s\" data-wow-delay=\"0.5s\" class=\" wow fadeInUp col-md-4\">\\n            <div class=\"panel panel-default resource-box\">\\n                <div class=\"panel-heading form-group\">Expedia Hotels Module</div>\\n                <div class=\"row\">\\n                    <img class=\"img-rounded center-block\" src=\"https://phptravels.com/assets/img/pages/integrations/expedia.png\" alt=\"expedia\">\\n                    <hr>\\n                    <div class=\"col-md-12\">\\n                        <img src=\"https://phptravels.com/assets/img/front.png\" class=\"well-sm icon-resources img100\" alt=\"homepage\">\\n                    </div>\\n                    <div class=\"clearfix\"></div>\\n                    <hr>\\n                    <div class=\"col-md-12\">\\n                        <div class=\"row\">\\n                            <div class=\"col-md-12\">\\n                                <div class=\"row\">\\n                                    <div class=\"col-md-6\"><a target=\"_blank\" href=\"https://www.phptravels.net/public/expedia/\" class=\"btn btn-primary btn-block\">Check Demo</a></div>\\n                                    <div class=\"col-md-6\"><a target=\"_blank\" href=\"https://phptravels.com/order/\" target=\"_blank\" class=\"btn btn-success btn-block\">Pricing</a></div>\\n                                </div>\\n                            </div>\\n                        </div>\\n                    </div>\\n                </div>\\n            </div>\\n        </div>\\n\\n        <div data-wow-duration=\"0.3s\" data-wow-delay=\"0.5s\" class=\" wow fadeInUp col-md-4\">\\n            <div class=\"panel panel-default resource-box\">\\n                <div class=\"panel-heading form-group\">Hotelbeds Hotels Module</div>\\n                <div class=\"row\">\\n                    <img class=\"img-rounded center-block\" src=\"https://phptravels.com/assets/img/pages/integrations/hotelbeds.png\" alt=\"hotelbeds\">\\n                    <hr>\\n                    <div class=\"col-md-12\">\\n                        <img src=\"https://phptravels.com/assets/img/front.png\" class=\"well-sm icon-resources img100\" alt=\"homepage\">\\n                    </div>\\n                    <div class=\"clearfix\"></div>\\n                    <hr>\\n                    <div class=\"col-md-12\">\\n                        <div class=\"row\">\\n                            <div class=\"col-md-12\">\\n                                <div class=\"row\">\\n                                    <div class=\"col-md-6\"><a target=\"_blank\" href=\"https://www.phptravels.net/public/hotelbeds/\" class=\"btn btn-primary btn-block\">Check Demo</a></div>\\n                                    <div class=\"col-md-6\"><a target=\"_blank\" href=\"https://phptravels.com/order/\" target=\"_blank\" class=\"btn btn-success btn-block\">Pricing</a></div>\\n                                </div>\\n                            </div>\\n                        </div>\\n                    </div>\\n                </div>\\n            </div>\\n        </div>\\n\\n        <div data-wow-duration=\"0.3s\" data-wow-delay=\"0.5s\" class=\" wow fadeInUp col-md-4\">\\n            <div class=\"panel panel-default resource-box\">\\n                <div class=\"panel-heading form-group\">Amadues Flights Module</div>\\n                <div class=\"row\">\\n                    <img class=\"img-rounded center-block\" src=\"https://phptravels.com/assets/img/pages/integrations/amadeus.png\" alt=\"amadues\">\\n                    <hr>\\n                    <div class=\"col-md-12\">\\n                        <img src=\"https://phptravels.com/assets/img/front.png\" class=\"well-sm icon-resources img100\" alt=\"homepage\">\\n                    </div>\\n                    <div class=\"clearfix\"></div>\\n                    <hr>\\n                    <div class=\"col-md-12\">\\n                        <div class=\"row\">\\n                            <div class=\"col-md-12\">\\n                                <div class=\"row\">\\n                                    <div class=\"col-md-6\"><a target=\"_blank\" href=\"https://www.phptravels.net/public/amadeus/\" class=\"btn btn-primary btn-block\">Check Demo</a></div>\\n                                    <div class=\"col-md-6\"><a target=\"_blank\" href=\"https://phptravels.com/order/\" target=\"_blank\" class=\"btn btn-success btn-block\">Pricing</a></div>\\n                                </div>\\n                            </div>\\n                        </div>\\n                    </div>\\n                </div>\\n            </div>\\n        </div>\\n\\n        <div data-wow-duration=\"0.3s\" data-wow-delay=\"0.5s\" class=\" wow fadeInUp col-md-4\">\\n            <div class=\"panel panel-default resource-box\">\\n                <div class=\"panel-heading form-group\">Travelport Flights Module</div>\\n                <div class=\"row\">\\n                    <img class=\"img-rounded center-block\" src=\"https://phptravels.com/assets/img/pages/integrations/travelport.png\" alt=\"amadues\">\\n                    <hr>\\n                    <div class=\"col-md-12\">\\n                        <img src=\"https://phptravels.com/assets/img/front.png\" class=\"well-sm icon-resources img100\" alt=\"homepage\">\\n                    </div>\\n                    <div class=\"clearfix\"></div>\\n                    <hr>\\n                    <div class=\"col-md-12\">\\n                        <div class=\"row\">\\n                            <div class=\"col-md-12\">\\n                                <div class=\"row\">\\n                                    <div class=\"col-md-6\"><a target=\"_blank\" href=\"https://www.phptravels.net/public/travelport/\" class=\"btn btn-primary btn-block\">Check Demo</a></div>\\n                                    <div class=\"col-md-6\"><a target=\"_blank\" href=\"https://phptravels.com/order/\" target=\"_blank\" class=\"btn btn-success btn-block\">Pricing</a></div>\\n                                </div>\\n                            </div>\\n                        </div>\\n                    </div>\\n                </div>\\n            </div>\\n        </div>-->\\n\\n        <!--<div data-wow-duration=\"0.3s\" data-wow-delay=\"0.5s\" class=\" wow fadeInUp col-md-4\">\\n            <div class=\"panel panel-default resource-box\">\\n                <div class=\"panel-heading form-group\">Travelport Flights Module</div>\\n                <div class=\"row\">\\n                    <img class=\"img-rounded center-block\" src=\"https://phptravels.com/assets/img/pages/integrations/travelport.png\" alt=\"amadues\">\\n                    <hr>\\n                    <div class=\"col-md-12\">\\n                        <img src=\"https://phptravels.com/assets/img/front.png\" class=\"well-sm icon-resources img100\" alt=\"homepage\">\\n                    </div>\\n                    <div class=\"clearfix\"></div>\\n                    <hr>\\n                    <div class=\"col-md-12\">\\n                        <div class=\"row\">\\n                            <div class=\"col-md-12\">\\n                                <div class=\"row\">\\n                                    <div class=\"col-md-6\"><a target=\"_blank\" href=\"https://www.phptravels.net/public/travelport/\" class=\"btn btn-primary btn-block\">Check Demo</a></div>\\n                                    <div class=\"col-md-6\"><a target=\"_blank\" href=\"https://phptravels.com/order/\" target=\"_blank\" class=\"btn btn-success btn-block\">Pricing</a></div>\\n                                </div>\\n                            </div>\\n                        </div>\\n                    </div>\\n                </div>\\n            </div>\\n        </div>-->\\n\\n        <!--<div data-wow-duration=\"0.3s\" data-wow-delay=\"0.5s\" class=\" wow fadeInUp col-md-4\">\\n            <div class=\"panel panel-default resource-box\">\\n                <div class=\"panel-heading form-group\">Amadues Flights Module</div>\\n                <div class=\"row\">\\n                    <img class=\"img-rounded center-block\" src=\"https://phptravels.com/assets/img/pages/integrations/amadeus.png\" alt=\"amadues\">\\n                    <hr>\\n                    <div class=\"col-md-12\">\\n                        <img src=\"https://phptravels.com/assets/img/front.png\" class=\"well-sm icon-resources img100\" alt=\"homepage\">\\n                    </div>\\n                    <div class=\"clearfix\"></div>\\n                    <hr>\\n                    <div class=\"col-md-12\">\\n                        <div class=\"row\">\\n                            <div class=\"col-md-12\">\\n                                <div class=\"row\">\\n                                    <div class=\"col-md-6\"><a target=\"_blank\" href=\"https://www.phptravels.net/public/amadeus/\" class=\"btn btn-primary btn-block\">Check Demo</a></div>\\n                                    <div class=\"col-md-6\"><a target=\"_blank\" href=\"https://phptravels.com/order/\" target=\"_blank\" class=\"btn btn-success btn-block\">Pricing</a></div>\\n                                </div>\\n                            </div>\\n                        </div>\\n                    </div>\\n                </div>\\n            </div>\\n        </div>-->\\n\\n\\n        </div>\\n    </div>\\n</section>\\n<section>\\n    <div class=\"container\">\\n        <br><br>\\n        <h3 class=\"wow fadeIn strong text-center\" style=\"visibility: hidden; animation-name: none;\"><strong>F&nbsp;A&nbsp;Q</strong></h3>\\n        <hr>\\n        <div class=\"row form-group\">\\n            <div class=\"wow fadeIn col-md-6\" style=\"visibility: hidden; animation-name: none;\">\\n                <h4 class=\"strong\">How can I test the PHPTRAVELS demo?</h4>\\n                <p>Please click on above provided details for homepage, administrator and supplier login in order to check the features of application in real-time.</p>\\n                <hr>\\n                <h4 class=\"strong\">Can I save content?</h4>\\n                <p>Yes, but all the database content will be reset after every few minutes to protect the software  and show the demo material only.  Moreover, the content can be customized as per your requirements.</p>\\n                <hr>\\n                <h4 class=\"strong\">What is included in the application?</h4>\\n                <p>We have added all the features for running your business, and you are free to test the entire application from back-end to front-end.</p>\\n            </div>\\n            <div class=\"wow fadeIn col-md-6\" style=\"visibility: hidden; animation-name: none;\">\\n                <h4 class=\"strong\">Do you charge for testing?</h4>\\n                <p>Not at all, we offer free application testing. There are no charges for testing. You can test this booking application anytime by visiting the demo page.</p>\\n                <hr>\\n                <h4 class=\"strong\">May I test the application on my hosting?</h4>\\n                <p>Sorry, we do not offer to test on your hosting. You can test the entire application on our server. Once you are satisfied, you can purchase and install it on your website. We will provide complete support.</p>\\n                <hr>\\n                <h4 class=\"strong\">Is your application responsive?</h4>\\n                <p>Yes, our all themes and user-interface are 99% responsive and optimized for desktop PC, laptop, tablet or phone device. We will recommend you open the demo on your mobile, tablet and laptop to experience.</p>\\n            </div>\\n        </div>\\n    </div>\\n</section>\\n<div class=\"container\">\\n    <hr>\\n    <p class=\"text-center text-danger\">Any change to demo script will reset to default settings. Do not try to edit, remove or change demo content because the accounts are only for the demo purpose.</p>\\n    <div><span style=\"color: #ffffff;\">hotels, script, php mysql,flights, flights, tickets, travel software, hotel online, reservation system, booking engine, search engine optimization, software, travel agent, marketing, travel, hotel, xml, air travel, cheap air, flight deals, air flights, cheap airline, cheap airfare, cheap flights from, travel agents, air tickets, airline ticket, cheap flights from to, cheap ticket, cheap tickets airline</span></div>\\n</div></main>\\n</div>\\n\\n<div class=\"container\">\\n<p class=\"regions\"><strong class=\"a\">Africa : </strong>Zimbabwe, South Africa, Kenya, Tanzania, Nigeria, Egypt | <strong class=\"sa\">South\\nAsia : </strong>Bangladesh, Bhutan, Maldives, Nepal, Srilanka | <strong class=\"sea\">South East Asia :</strong>Cambodia,\\nIndonesia, Malaysia, Philippines, Singapore, Thailand, Vietnam | <strong class=\"me\">Middle East :</strong> Iran,\\nJordan, Oman, Qatar, Saudi Arabia, UAE, Yemen, Bahrain, Kuwait, Turkey | <strong class=\"e\">Europe : </strong>Austria,\\nGermany, Denmark, Ukraine, Portugal, United Kingdom, Netherlands, Croatia | <strong class=\"na\">North America :</strong>\\nUnited States, Canada, Mexico |<strong class=\"ca\"> Central America :</strong> Caribbean Islands, Dominican Republic.\\n</p>\\n</div>\\n<nav class=\"navbar navbar-default foot-nav-holder mb-0 newsletter\" style=\"padding: 15px 0px 15px;\">\\n    <div class=\"container\">\\n        <div class=\"collapse navbar-collapse\">\\n            <ul class=\"nav navbar-nav\">\\n                <li><a style=\"padding-top:10px;padding-bottom:0\" href=\"javascript:void(0)\">Join <strong style=\"font-family:tahoma\">Newsletter</strong></a></li>\\n            </ul>\\n            <div id=\"email\" class=\"inp-holder\" style=\"display:flex\">\\n                <input style=\"height:40px; width:300px;\" class=\"form-control newsletter_email\" type=\"text\" placeholder=\"your@email.com\" name=\"email\" id=\"address\">\\n                <button onclick=\"subscribe_click()\" class=\"btn\" value=\"\">SUBSCRIBE</button>\\n            </div>\\n        </div>\\n    </div>\\n</nav>\\n<footer class=\"BS-footer\">\\n    <div class=\"container\">\\n        <div class=\"row\">\\n            <div class=\"col-xs-12 col-sm-4 logo\">\\n                <a class=\"BS-logo nav-link\" href=\"https://phptravels.com/\" title=\"php travels\">\\n                  <img src=\"https://phptravels.com/assets/img/logo-white.webp\" alt=\"php travels\" class=\"img-responsive footer_logo\">\\n                </a>\\n            </div>\\n            <div class=\"col-xs-6 col-sm-4 col-md-2 links banner-maker\">\\n                <div class=\"bannersnack-pages title\">Product</div>\\n                <a class=\"lvl-0 link nav-link\" href=\"https://phptravels.com/desktop-application/\">Desktop App</a>\\n                <a class=\"lvl-0 link nav-link\" href=\"https://phptravels.com/mobile-applications/\">Mobile Apps</a>\\n                <a class=\"lvl-0 link nav-link\" href=\"https://phptravels.com/features/\" title=\"Features\">Features</a>\\n                <a class=\"lvl-0 link nav-link\" href=\"https://phptravels.com/requirements/\" title=\"Requirements\">Requirements</a>\\n                <a class=\"lvl-0 link nav-link\" href=\"https://phptravels.com/technology/\" title=\"Technology\">Technology</a>\\n           </div>\\n            <div class=\"col-xs-6 col-sm-4 col-md-2 links products\">\\n                <div class=\"products title\">Resources</div>\\n                <a class=\"lvl-0 link nav-link\" href=\"https://phptravels.com/change-log/\">Changelog</a>\\n                <a class=\"lvl-0 link nav-link\" href=\"https://phptravels.com/updates/\">Updates</a>\\n                <a class=\"lvl-0 link nav-link\" href=\"https://phptravels.com/providers/\">Providers</a>\\n                <a class=\"lvl-0 link nav-link\" href=\"https://phptravels.com/affiliate/\" title=\"Affiliate\">Affiliate</a>\\n                <a class=\"lvl-0 link nav-link\" href=\"https://phptravels.com/roadmap/\" title=\"road map\">Road Map</a>\\n             </div>\\n            <div class=\"clearfix visible-xs visible-sm\"></div>\\n            <div class=\"col-xs-6 col-sm-4 col-md-2 links social-media\">\\n                <div class=\"social-media title\">Services</div>\\n                <a class=\"lvl-0 link nav-link\" href=\"https://phptravels.com/services/\">Product Services</a>\\n                <a class=\"lvl-0 link nav-link\" href=\"https://phptravels.com/customizations/\">Customizations</a>\\n                <a class=\"lvl-0 link nav-link\" href=\"https://phptravels.com/change-log/\">Changelog</a>\\n                <a class=\"lvl-0 link nav-link\" href=\"https://phptravels.com/expedia-api-integration/\"><span style=\"font-size:0px\">Expedia</span>Hotels Integration</a>\\n                <a class=\"lvl-0 link nav-link\" href=\"https://phptravels.com/shared-hosting/\">Shared Cloud Hosting</a>\\n            </div>\\n            <div class=\"col-xs-6 col-sm-4 col-md-2 links html5-banners\">\\n                <div class=\"html5-banners title\">Company</div>\\n                <a class=\"lvl-0 link nav-link\" target=\"blank\" href=\"https://phptravels.com/blog/\">Blog</a>\\n                <a class=\"lvl-0 link nav-link\" href=\"https://phptravels.com/about-us/\">About Us</a>\\n                <a class=\"lvl-0 link nav-link\" href=\"https://phptravels.com/contact-us/\">Contact Us</a>\\n                <a class=\"lvl-0 link nav-link\" href=\"https://phptravels.com/jobs/\">Jobs <span class=\"jobs\">WE ARE HIRING!</span></a>\\n                <a class=\"lvl-0 link nav-link\" href=\"https://phptravels.com/the-team/\">The Team</a>\\n            </div>\\n            <div class=\"clearfix hidden-sm\"></div>\\n            <div class=\"col-xs-6 col-sm-4 links follow-us\">\\n                <div class=\"title hidden-sm hidden-md hidden-lg\">Follow us</div>\\n                <a class=\"lvl-0 link social\" rel=\"noopener nofollow\" href=\"https://www.facebook.com/phptravels/\" target=\"_blank\">\\n                    <svg xmlns=\"http://www.w3.org/2000/svg\" viewBox=\"0 0 32 32\">\\n                        <path d=\"M13.81,26V16.92H10.75V13.21h3.06V10.1A4.1,4.1,0,0,1,17.91,6h3.2V9.33H18.82a1.3,1.3,0,0,0-1.3,1.3v2.58H21l-0.49,3.71h-3V26\"></path>\\n                    </svg>\\n                    <span class=\"hidden-sm hidden-md hidden-lg inline\"> Facebook</span>\\n                </a>\\n                <a class=\"lvl-0 link social\" rel=\"noopener nofollow\" href=\"https://www.youtube.com/c/phptravelsofficial\" target=\"_blank\">\\n                    <svg xmlns=\"http://www.w3.org/2000/svg\" viewBox=\"0 0 32 32\">\\n                        <path d=\"M23,9H9a3,3,0,0,0-3,3v8a3,3,0,0,0,3,3H23a3,3,0,0,0,3-3V12A3,3,0,0,0,23,9ZM14,19.5v-7l6,3.58Z\"></path>\\n                    </svg>\\n                    <span class=\"hidden-sm hidden-md hidden-lg inline\"> Youtube</span>\\n                </a>\\n                <a class=\"lvl-0 link social\" rel=\"noopener nofollow\" href=\"https://www.twitter.com/phptravels\" target=\"_blank\">\\n                    <svg xmlns=\"http://www.w3.org/2000/svg\" viewBox=\"0 0 32 32\">\\n                        <path d=\"M6.15,22.21a11.54,11.54,0,0,0,17.7-9.75q0-.24,0-0.47a9.07,9.07,0,0,0,2-2.06,9.36,9.36,0,0,1-2.29.59h0a4.29,4.29,0,0,0,1.76-2.25,14,14,0,0,1-2,.82l-0.59.18A4,4,0,0,0,15.86,13a12.19,12.19,0,0,1-8.31-4.2S5.62,11.4,8.71,14.12A4.16,4.16,0,0,1,7,13.6a3.85,3.85,0,0,0,3.2,4,3.7,3.7,0,0,1-1.79.07,4,4,0,0,0,3.72,2.83,7.77,7.77,0,0,1-5.94,1.7h0Zm0,0\"></path>\\n                    </svg>\\n                    <span class=\"hidden-sm hidden-md hidden-lg inline\"> Twitter</span>\\n                </a>\\n                <a class=\"lvl-0 link social\" rel=\"noopener nofollow\" href=\"https://www.linkedin.com/company/phptravels/\" target=\"_blank\">\\n                    <svg xmlns=\"http://www.w3.org/2000/svg\" x=\"10px\" y=\"50px\" width=\"22\" height=\"22\" viewBox=\"0 -25 220 240\">\\n                    <path d=\"M139.75,0h-107.5c-17.80469,0 -32.25,14.44531 -32.25,32.25v107.5c0,17.80469 14.44531,32.25 32.25,32.25h107.5c17.80469,0 32.25,-14.44531 32.25,-32.25v-107.5c0,-17.80469 -14.44531,-32.25 -32.25,-32.25zM53.18149,146.00361h-26.71996l-0.15504,-80.00481h26.71995zM39.14964,55.53305h-0.15505c-8.73437,0 -14.36779,-6.02103 -14.36779,-13.51502c0,-7.67488 5.81431,-13.48919 14.70373,-13.48919c8.88942,0 14.34194,5.8143 14.52283,13.48919c0,7.49399 -5.65926,13.51502 -14.70372,13.51502zM145.82272,146.00361h-26.95253v-43.46515c0,-10.51743 -2.79087,-17.67548 -12.19712,-17.67548c-7.18389,0 -11.0601,4.83233 -12.92067,9.50962c-0.69772,1.67969 -0.8786,3.97957 -0.8786,6.33113v45.29988h-27.08173l-0.15505,-80.00481h27.08173l0.15505,11.29267c3.46274,-5.34916 9.22536,-12.92067 23.02463,-12.92067c17.10697,0 29.89844,11.16346 29.89844,35.17007v46.46274z\"></path>\\n                    </svg>\\n                    <span class=\"hidden-sm hidden-md hidden-lg inline\"> Pinterest</span>\\n                </a>\\n                <a class=\"lvl-0 link social\" rel=\"noopener nofollow\" href=\"https://www.instagram.com/phptravels_/\" target=\"_blank\">\\n                    <svg xmlns=\"http://www.w3.org/2000/svg\" viewBox=\"0 0 32 32\">\\n                        <circle cx=\"21.37\" cy=\"10.64\" r=\"1.13\"></circle>\\n                        <circle cx=\"21.37\" cy=\"10.64\" r=\"1.13\"></circle>\\n                        <circle cx=\"21.37\" cy=\"10.64\" r=\"1.13\"></circle>\\n                        <circle cx=\"21.37\" cy=\"10.64\" r=\"1.13\"></circle>\\n                        <circle cx=\"21.37\" cy=\"10.64\" r=\"1.13\"></circle>\\n                        <path d=\"M11,26a5,5,0,0,1-5-5V11a5,5,0,0,1,5-5H21a5,5,0,0,1,5,5V21a5,5,0,0,1-5,5H11ZM11,8a3,3,0,0,0-3,3V21a3,3,0,0,0,3,3H21a3,3,0,0,0,3-3V11a3,3,0,0,0-3-3H11Z\"></path>\\n                        <path d=\"M16,21.1A5.1,5.1,0,1,1,21.1,16,5.11,5.11,0,0,1,16,21.1Zm0-8.21A3.11,3.11,0,1,0,19.11,16,3.11,3.11,0,0,0,16,12.89Z\"></path>\\n                    </svg>\\n                    <span class=\"hidden-sm hidden-md hidden-lg inline\"> Instagram</span>\\n                </a>\\n\\n                <div class=\"footer-payments hidden-sm hidden-xs\">\\n                <div class=\"payments-container\">\\n                    <h6>Accepted Payments</h6>\\n                    <div class=\"form-group\">\\n                        <img src=\"https://phptravels.com/assets/img/home/gateway.webp\" class=\"img-responsive\" alt=\"payment gateways\">\\n                    </div>\\n                    <p>All the major e-payment gatways are accepted here including Paypal, Credit Card, Western Union, Skrill, Bitcoin, Transferwise.</p>\\n                </div>\\n                </div>\\n            </div>\\n            <div class=\"col-xs-6 col-sm-4 col-md-6 col-md-push-4 links support-links\">\\n                <div class=\"hidden-md hidden-lg title\">Support</div>\\n                 <a class=\"support link nav-link\" href=\"https://phptravels.com/terms-and-conditions/\">Terms of Service</a>\\n                 <a class=\"support link nav-link\" href=\"https://phptravels.com/privacy-statement/\">Privacy Policy</a>\\n                 <!--<a href=\"https://phptravels.com/contact/\">Contact Us</a>-->\\n                 <a class=\"support link nav-link\" target=\"_blank\" href=\"https://direct.lc.chat/4618001/\">Live Chat</a>\\n                 <a class=\"support link nav-link\" href=\"https://phptravels.com/earn-with-phptravels\">Content Program</a>\\n                 <!--<a class=\"support link nav-link\" target=\"_blank\" href=\"https://phptravels.org/submitticket.php?step=2&deptid=1\">Support Ticket</a>-->\\n                 <a class=\"support link nav-link\" href=\"https://phptravels.com/chat/\">Public Chat</a>\\n          </div>\\n            <div class=\"clearfix hidden-md hidden-lg\"></div>\\n            <div class=\"col-xs-12 col-sm-8 col-md-4 col-md-pull-6 all-rights\">\\n                © 2021 PHPTARVELS. All Rights Reserved.\\n            </div>\\n        </div>\\n    </div>\\n</footer>\\n\\n<!--\\n<section class=\"foot_area\">\\n    <div class=\"container text-center customize\">\\n        <div style=\"padding:45px\">\\n            <h2 class=\"section-title strong\">LOOKING FOR A CUSTOM SOLUTION?</h2>\\n            <br>\\n            <div class=\"title-actions\">\\n                <a style=\"display:inline-table;\" href=\"https://phptravels.com/submit\" class=\"btn btn-hero btn-success hero-right\">\\n                <span class=\"hero-slogan\"><small>Submit</small> <b>Requirements</b></span>\\n                <span class=\"hero-icon animate zoomIn\" style=\"visibility: visible; animation-name: zoomIn;\"><span\\n                    class=\"animate zoomIn\" style=\"visibility: visible; animation-name: zoomIn;\"></span>\\n                <img class=\"animate zoomIn\" src=\"https://phptravels.com/assets/img/quotation.svg\" alt=\"Pricing Quote\"\\n                    style=\"visibility: visible; animation-name: zoomIn;\">\\n                </span>\\n                </a>\\n            </div>\\n        </div>\\n    </div>-->\\n<script>\\nfunction subscribe_click(){if(validateEmail($(\".newsletter_email\").val()||$(\".newsletter_email\").val().trim()!=\"\")){$.ajax({url:\\'https://phptravels.com/home/subscribe\\',data:{email:$(\\'.newsletter_email\\').val(),},type:\\'post\\',success:function(output){if(output){alert(\"Successfully Subscribe.\")}else{alert(\"This email has been already registered with us.\")}}})}else{alert(\"Email Incorrect\")}}\\nfunction validateEmail($email){var emailReg=/^([\\\\w-\\\\.]+@([\\\\w-]+\\\\.)+[\\\\w-]{2,4})?$/;return emailReg.test($email)}\\n$(\"document\").ready(function($){var nav=$(\\'#main-nav-top\\');$(window).scroll(function(){if($(this).scrollTop()>125){$(\".breathing-button\").parent().css({\"position\":\"relative\",zIndex:\\'1\\'});$(\\'.breathing-button\\').css({position:\"fixed\",top:\"83px\",zIndex:\"99999999\"})\\nnav.addClass(\"f-nav\")}else{$(\\'.breathing-button\\').css({position:\"relative\",top:\"0\"})\\nnav.removeClass(\"f-nav\")}})});\\n</script>\\n<script>console.log(\"%cHi there! 👋 We are PHPTRAVELS. we help travel agencies and individuals to operate online and sell travel services.\", \"font-size:14px\");console.log(\"%cAny doubts, get in touch at info@phptravels.com\", \"font-size:12px\");</script>\\n<!-- <div id=\"myDIV\">\\n<div style=\"display:none\" class=\"offer wow fadeIn\">\\n<div class=\"container\">\\n<img style=\"max-height: 250px;\" src=\"https://phptravels.com/assets/img/offers/50dis.jpg\" class=\"center-block img-responsive\" alt=\"discount offer\" />\\n<img src=\"https://phptravels.com/assets/img/offers/timer.gif\" class=\"center-block img-responsive\" alt=\"discount offer\" />\\n<h3 class=\"text-center\"><strong>SPECIAL OFFER</strong> - Save <b>50%</b> now - Limited Time Offer!</h3>\\n<h3 class=\"text-center\"><a class=\"btn btn-success center-block\" href=\"https://phptravels.com/order_50\">Claim Discount</a></h3>\\n<div class=\"clearfix\"></div>\\n<h3 class=\"text-center\"><span onclick=\"myFunction()\" style=\"width:160px\" class=\"btn btn-danger center-block\">Not Now</span></h3>\\n</div>\\n<div class=\"clearfix\"></div>\\n</div>\\n</div>\\n\\n<script>\\nfunction myFunction() {\\n  var x = document.getElementById(\"myDIV\");\\n  if (x.style.display === \"none\") {\\n    x.style.display = \"block\";\\n  } else {\\n    x.style.display = \"none\";\\n  }\\n}\\n</script>\\n\\n<script>\\n$(window).ready(function(){\\n  setInterval(function(){\\n    $(\\'.offer\\').addClass(\"showit\")\\n  }, 300000);\\n});\\n</script>\\n\\n<style>\\n.showit{height:100%;width:100%;position:fixed; z-index:9999;background:#ffffff;display:block !important;top:0px}\\n</style> -->\\n\\n<!--<div style=\"width: 150px;position:fixed;bottom:80px;left:20px;z-index:9999\" data-wow-duration=\"0.5s\" data-wow-delay=\"5s\" class=\"wow fadeInLeft ad collapse in hidden-xs\">\\n    <button class=\"ad-btn-hide\" data-toggle=\"collapse\" data-target=\".ad\" style=\"border-radius: 20px; border: transparent; position: absolute; top: 8px; left: 8px;\">x</button>\\n    <div class=\"well well-sm\" style=\"background:black;\">\\n        <p class=\"text-center strong\" style=\"margin:0px !important\"><strong style=\"color:white\">BIG FRIDAY</strong></p>\\n        <a href=\"https://phptravels.com/order/\" target=\"blank\">\\n            <img src=\"https://phptravels.com/assets/img/promotions/big_friday.jpg\" alt=\"promotion\" class=\"img-responsive\">\\n        </a>\\n\\n        <div class=\"text-center\" style=\"background-color:#f0381f;padding:8px\">\\n        <p style=\"color:#ffffff;font-size:14px;margin-bottom:0px\"><strong>Discount 50% Off!</strong></p>\\n        <p style=\"color:#ffffff;font-size:10px;margin-bottom:0px\"><strong>Special 2019 Crazy Spring Sale Offer</strong></p>\\n        </div>\\n\\n        <div class=\"text-center\" style=\"background-color:#FBCF32;padding:2px\">\\n            <p style=\"color:#333366;font-size:10px;margin-bottom:0px\"><strong>Promo <b>Applied!</b></strong></p>\\n        </div>\\n\\n        <a href=\"https://phptravels.com/order/\" target=\"blank\"><img src=\"https://phptravels.com/assets/img/offers/timer.gif\" alt=\"promotion\" class=\"img-responsive\"></a>\\n        <a href=\"https://phptravels.com/order/\" target=\"blank\" style=\"margin-top:4px;margin-bottom:0px;border-radius:0px;border-radius: 0px !important; padding: 2px !important;\" class=\"btn-xs btn btn-success btn-block\" >Claim Now!</a>\\n    </div>\\n</div>-->\\n\\n\\n\\n<!--<script>\\n  !function(){var analytics=window.analytics=window.analytics||[];if(!analytics.initialize)if(analytics.invoked)window.console&&console.error&&console.error(\"Segment snippet included twice.\");else{analytics.invoked=!0;analytics.methods=[\"trackSubmit\",\"trackClick\",\"trackLink\",\"trackForm\",\"pageview\",\"identify\",\"reset\",\"group\",\"track\",\"ready\",\"alias\",\"debug\",\"page\",\"once\",\"off\",\"on\",\"addSourceMiddleware\",\"addDestinationMiddleware\"];analytics.factory=function(e){return function(){var t=Array.prototype.slice.call(arguments);t.unshift(e);analytics.push(t);return analytics}};for(var e=0;e<analytics.methods.length;e++){var t=analytics.methods[e];analytics[t]=analytics.factory(t)}analytics.load=function(e,t){var n=document.createElement(\"script\");n.type=\"text/javascript\";n.async=!0;n.src=\"https://cdn.segment.com/analytics.js/v1/\"+e+\"/analytics.min.js\";var a=document.getElementsByTagName(\"script\")[0];a.parentNode.insertBefore(n,a);analytics._loadOptions=t};analytics.SNIPPET_VERSION=\"4.1.0\";\\n  analytics.load(\"clZi8huqW3YcqAsJoTsh5nb0kI3vxhRA\");\\n  analytics.page();\\n  }}();\\n</script>-->\\n\\n<!--<link rel=\"manifest\" href=\"/manifest.json\" />\\n<script src=\"https://cdn.onesignal.com/sdks/OneSignalSDK.js\" async=\"\"></script>\\n<script>\\n  var OneSignal = window.OneSignal || [];\\n  OneSignal.push(function() {\\n    OneSignal.init({\\n      appId: \"752e418f-4ca0-473d-b710-b04dff7e9f12\",\\n    });\\n  });\\n</script>-->\\n\\n<!--<script src=\"https://phptravels.com/track/tracker.min.js\" async></script>-->\\n\\n\\n<!-- Start of HubSpot Embed Code -->\\n<!--  <script type=\"text/javascript\" id=\"hs-script-loader\" async defer src=\"//js.hs-scripts.com/6856823.js\"></script>  -->\\n<!-- End of HubSpot Embed Code -->\\n\\n<!--<script>\\nvar __lc = {};\\n__lc.license = 4618001;\\nsetTimeout(function() {\\n(function() {\\nvar lc = document.createElement(\\'script\\'); lc.type = \\'text/javascript\\'; lc.async = true;\\nlc.src = (\\'https:\\' == document.location.protocol ? \\'https://\\' : \\'http://\\') + \\'cdn.livechatinc.com/tracking.js\\';\\nvar s = document.getElementsByTagName(\\'script\\')[0]; s.parentNode.insertBefore(lc, s);\\n})();\\n}, 5000);\\n</script>-->\\n\\n<!--Start of Tawk.to Script-->\\n<!--<script type=\"text/javascript\">\\nvar Tawk_API=Tawk_API||{}, Tawk_LoadStart=new Date();\\n(function(){\\nvar s1=document.createElement(\"script\"),s0=document.getElementsByTagName(\"script\")[0];\\ns1.async=true;\\ns1.src=\\'https://embed.tawk.to/5e09f7e87e39ea1242a257ca/default\\';\\ns1.charset=\\'UTF-8\\';\\ns1.setAttribute(\\'crossorigin\\',\\'*\\');\\ns0.parentNode.insertBefore(s1,s0);\\n})();\\n</script>-->\\n<!--End of Tawk.to Script-->\\n\\n<!-- Start of LiveChat (www.livechatinc.com) code -->\\n<script>\\nsetTimeout(function() {\\n    window.__lc = window.__lc || {};\\n    window.__lc.license = 4618001;\\n    ;(function(n,t,c){function i(n){return e._h?e._h.apply(null,n):e._q.push(n)}var e={_q:[],_h:null,_v:\"2.0\",on:function(){i([\"on\",c.call(arguments)])},once:function(){i([\"once\",c.call(arguments)])},off:function(){i([\"off\",c.call(arguments)])},get:function(){if(!e._h)throw new Error(\"[LiveChatWidget] You can\\'t use getters before load.\");return i([\"get\",c.call(arguments)])},call:function(){i([\"call\",c.call(arguments)])},init:function(){var n=t.createElement(\"script\");n.async=!0,n.type=\"text/javascript\",n.src=\"https://cdn.livechatinc.com/tracking.js\",t.head.appendChild(n)}};!n.__lc.asyncInit&&e.init(),n.LiveChatWidget=n.LiveChatWidget||e}(window,document,[].slice))\\n}, 9000);\\n</script>\\n<noscript><a href=\"https://www.livechatinc.com/chat-with/4618001/\" rel=\"nofollow\">Chat with us</a>, powered by <a href=\"https://www.livechatinc.com/?welcome\" rel=\"noopener nofollow\" target=\"_blank\">LiveChat</a></noscript>\\n<!-- End of LiveChat code -->\\n\\n\\n<!-- Mailchimp Form -->\\n<script id=\"mcjs\">\\nsetTimeout(function() {\\n!function(c,h,i,m,p){m=c.createElement(h),p=c.getElementsByTagName(h)[0],m.async=1,m.src=i,p.parentNode.insertBefore(m,p)}(document,\"script\",\"https://chimpstatic.com/mcjs-connected/js/users/148775ec1e7d637fd7f8a5a94/37c5fbdf68700f7a289c748c7.js\");\\n}, 89000);\\n</script>\\n<!-- Mailchimp Form -->\\n\\n<!-- promo -->\\n<!--<script>\\n    (function (w,i,d,g,e,t,s) {w[d] = w[d]||[];t= i.createElement(g);\\n        t.async=1;t.src=e;s=i.getElementsByTagName(g)[0];s.parentNode.insertBefore(t, s);\\n    })(window, document, \\'_gscq\\',\\'script\\',\\'//widgets.getsitecontrol.com/53476/script.js\\');\\n</script>-->\\n<!-- promo -->\\n\\n<!--<script>\\nvar countDownDate = new Date(\"Dec 7, 2017 09:37:25\").getTime();\\nvar x = setInterval(function() {\\nvar now = new Date().getTime();\\nvar distance = countDownDate - now;\\nvar days = Math.floor(distance / (1000 * 60 * 60 * 24));\\nvar hours = Math.floor((distance % (1000 * 60 * 60 * 24)) / (1000 * 60 * 60));\\nvar minutes = Math.floor((distance % (1000 * 60 * 60)) / (1000 * 60));\\nvar seconds = Math.floor((distance % (1000 * 60)) / 1000);\\n    document.getElementById(\"demos\").innerHTML =\\n    hours + \"<small><strong class=\\'title\\'> Hours</strong></small>  \"\\n    + minutes + \"<small><strong class=\\'title\\'> Mins</strong></small> \"\\n    + seconds + \"<small><strong class=\\'title\\'> Secs</strong></small> \";\\n    if (distance < 0) {\\n        clearInterval(x);\\n        document.getElementById(\"demos\").innerHTML = \"80 % Discount just EXPIRED!\";\\n        }\\n        }, 1000);\\n        </script>\\n        <a href=\"https://phptravels.com/order/\" target=\"blank\"><img src=\"https://phptravels.com/assets/img/offers/blackfriday.png\" alt=\"promotion\" class=\"img-responsive\"></a>\\n        <h5 class=\"text-center\"><strong style=\"color:black\">BLACK FRIDAY</strong></h5>\\n        <a href=\"https://phptravels.com/order/\" target=\"blank\"><img src=\"https://phptravels.com/assets/img/cm.jpg\" alt=\"promotion\" class=\"img-responsive\"></a>\\n        <a href=\"https://phptravels.com/order/\" target=\"blank\" style=\"margin-top:4px;margin-bottom:0px;\" class=\"btn-sm btn btn-primary btn-block\" >Order Now</a>\\n    </div>\\n</div>-->\\n\\n\\n<a href=\"https://wa.me/923311442244\" target=\"blank\">\\n<div class=\"whatsapp wow flash animated\" data-wow-delay=\"2s\" data-wow-duration=\"2s\" style=\"visibility: visible; animation-duration: 2s; animation-delay: 2s; animation-name: flash;\">\\n<svg xmlns=\"http://www.w3.org/2000/svg\" xmlns:xlink=\"http://www.w3.org/1999/xlink\" viewBox=\"0 0 32 32\" class=\"wh-messenger-svg-whatsapp wh-svg-icon\">\\n<path d=\" M19.11 17.205c-.372 0-1.088 1.39-1.518 1.39a.63.63 0 0 1-.315-.1c-.802-.402-1.504-.817-2.163-1.447-.545-.516-1.146-1.29-1.46-1.963a.426.426 0 0 1-.073-.215c0-.33.99-.945.99-1.49 0-.143-.73-2.09-.832-2.335-.143-.372-.214-.487-.6-.487-.187 0-.36-.043-.53-.043-.302 0-.53.115-.746.315-.688.645-1.032 1.318-1.06 2.264v.114c-.015.99.472 1.977 1.017 2.78 1.23 1.82 2.506 3.41 4.554 4.34.616.287 2.035.888 2.722.888.817 0 2.15-.515 2.478-1.318.13-.33.244-.73.244-1.088 0-.058 0-.144-.03-.215-.1-.172-2.434-1.39-2.678-1.39zm-2.908 7.593c-1.747 0-3.48-.53-4.942-1.49L7.793 24.41l1.132-3.337a8.955 8.955 0 0 1-1.72-5.272c0-4.955 4.04-8.995 8.997-8.995S25.2 10.845 25.2 15.8c0 4.958-4.04 8.998-8.998 8.998zm0-19.798c-5.96 0-10.8 4.842-10.8 10.8 0 1.964.53 3.898 1.546 5.574L5 27.176l5.974-1.92a10.807 10.807 0 0 0 16.03-9.455c0-5.958-4.842-10.8-10.802-10.8z\" fill-rule=\"evenodd\"></path>\\n</svg>\\n</div>\\n</a>\\n<div id=\"chat-widget-container\" style=\"opacity: 1; visibility: visible; z-index: 2147483639; position: fixed; bottom: 0px; width: 281px; height: 63px; max-width: 100%; max-height: calc(100% - 0px); min-height: 0px; min-width: 0px; background-color: transparent; border: 0px; overflow: hidden; right: 20px; transition: none 0s ease 0s !important;\"><iframe allow=\"autoplay\" src=\"https://secure.livechatinc.com/customer/action/open_chat?license_id=4618001&amp;group=0&amp;embedded=1&amp;widget_version=3&amp;unique_groups=0\" allowtransparency=\"true\" id=\"chat-widget\" name=\"chat-widget\" title=\"LiveChat chat widget\" scrolling=\"no\" style=\"width: 100%; height: 100%; min-height: 0px; min-width: 0px; margin: 0px; padding: 0px; background-image: none; background-position: 0% 0%; background-size: initial; background-attachment: scroll; background-origin: initial; background-clip: initial; background-color: rgba(0, 0, 0, 0); border-width: 0px; float: none; position: absolute; inset: 0px; transition: none 0s ease 0s !important;\"></iframe></div><script src=\"//downloads.mailchimp.com/js/signup-forms/popup/unique-methods/embed.js\" type=\"text/javascript\"></script></body></html>'"
      ]
     },
     "execution_count": 17,
     "metadata": {},
     "output_type": "execute_result"
    }
   ],
   "source": [
    "driver.page_source"
   ]
  },
  {
   "cell_type": "code",
   "execution_count": 18,
   "id": "991c7b3c",
   "metadata": {},
   "outputs": [],
   "source": [
    "req_btn = driver.find_element_by_link_text('Requirements')\n",
    "req_btn.click()"
   ]
  },
  {
   "cell_type": "code",
   "execution_count": 19,
   "id": "f9a89cdd",
   "metadata": {},
   "outputs": [],
   "source": [
    "driver.back()"
   ]
  },
  {
   "cell_type": "code",
   "execution_count": 21,
   "id": "8b19c8fd",
   "metadata": {},
   "outputs": [],
   "source": [
    "req_btn = driver.find_element_by_partial_link_text('Req')\n",
    "req_btn.click()"
   ]
  },
  {
   "cell_type": "code",
   "execution_count": 22,
   "id": "0023cb17",
   "metadata": {},
   "outputs": [
    {
     "ename": "NoSuchElementException",
     "evalue": "Message: no such element: Unable to locate element: {\"method\":\"partial link text\",\"selector\":\"Reqs\"}\n  (Session info: chrome=91.0.4472.124)\n",
     "output_type": "error",
     "traceback": [
      "\u001b[1;31m---------------------------------------------------------------------------\u001b[0m",
      "\u001b[1;31mNoSuchElementException\u001b[0m                    Traceback (most recent call last)",
      "\u001b[1;32m<ipython-input-22-9dc219cf3b40>\u001b[0m in \u001b[0;36m<module>\u001b[1;34m\u001b[0m\n\u001b[0;32m      1\u001b[0m \u001b[1;31m#Text which doesn't exist with link gives error\u001b[0m\u001b[1;33m\u001b[0m\u001b[1;33m\u001b[0m\u001b[1;33m\u001b[0m\u001b[0m\n\u001b[1;32m----> 2\u001b[1;33m \u001b[0mreq_btn\u001b[0m \u001b[1;33m=\u001b[0m \u001b[0mdriver\u001b[0m\u001b[1;33m.\u001b[0m\u001b[0mfind_element_by_partial_link_text\u001b[0m\u001b[1;33m(\u001b[0m\u001b[1;34m'Reqs'\u001b[0m\u001b[1;33m)\u001b[0m\u001b[1;33m\u001b[0m\u001b[1;33m\u001b[0m\u001b[0m\n\u001b[0m\u001b[0;32m      3\u001b[0m \u001b[0mreq_btn\u001b[0m\u001b[1;33m.\u001b[0m\u001b[0mclick\u001b[0m\u001b[1;33m(\u001b[0m\u001b[1;33m)\u001b[0m\u001b[1;33m\u001b[0m\u001b[1;33m\u001b[0m\u001b[0m\n",
      "\u001b[1;32m~\\anaconda3\\lib\\site-packages\\selenium\\webdriver\\remote\\webdriver.py\u001b[0m in \u001b[0;36mfind_element_by_partial_link_text\u001b[1;34m(self, link_text)\u001b[0m\n\u001b[0;32m    460\u001b[0m             \u001b[0melement\u001b[0m \u001b[1;33m=\u001b[0m \u001b[0mdriver\u001b[0m\u001b[1;33m.\u001b[0m\u001b[0mfind_element_by_partial_link_text\u001b[0m\u001b[1;33m(\u001b[0m\u001b[1;34m'Sign'\u001b[0m\u001b[1;33m)\u001b[0m\u001b[1;33m\u001b[0m\u001b[1;33m\u001b[0m\u001b[0m\n\u001b[0;32m    461\u001b[0m         \"\"\"\n\u001b[1;32m--> 462\u001b[1;33m         \u001b[1;32mreturn\u001b[0m \u001b[0mself\u001b[0m\u001b[1;33m.\u001b[0m\u001b[0mfind_element\u001b[0m\u001b[1;33m(\u001b[0m\u001b[0mby\u001b[0m\u001b[1;33m=\u001b[0m\u001b[0mBy\u001b[0m\u001b[1;33m.\u001b[0m\u001b[0mPARTIAL_LINK_TEXT\u001b[0m\u001b[1;33m,\u001b[0m \u001b[0mvalue\u001b[0m\u001b[1;33m=\u001b[0m\u001b[0mlink_text\u001b[0m\u001b[1;33m)\u001b[0m\u001b[1;33m\u001b[0m\u001b[1;33m\u001b[0m\u001b[0m\n\u001b[0m\u001b[0;32m    463\u001b[0m \u001b[1;33m\u001b[0m\u001b[0m\n\u001b[0;32m    464\u001b[0m     \u001b[1;32mdef\u001b[0m \u001b[0mfind_elements_by_partial_link_text\u001b[0m\u001b[1;33m(\u001b[0m\u001b[0mself\u001b[0m\u001b[1;33m,\u001b[0m \u001b[0mlink_text\u001b[0m\u001b[1;33m)\u001b[0m\u001b[1;33m:\u001b[0m\u001b[1;33m\u001b[0m\u001b[1;33m\u001b[0m\u001b[0m\n",
      "\u001b[1;32m~\\anaconda3\\lib\\site-packages\\selenium\\webdriver\\remote\\webdriver.py\u001b[0m in \u001b[0;36mfind_element\u001b[1;34m(self, by, value)\u001b[0m\n\u001b[0;32m    974\u001b[0m                 \u001b[0mby\u001b[0m \u001b[1;33m=\u001b[0m \u001b[0mBy\u001b[0m\u001b[1;33m.\u001b[0m\u001b[0mCSS_SELECTOR\u001b[0m\u001b[1;33m\u001b[0m\u001b[1;33m\u001b[0m\u001b[0m\n\u001b[0;32m    975\u001b[0m                 \u001b[0mvalue\u001b[0m \u001b[1;33m=\u001b[0m \u001b[1;34m'[name=\"%s\"]'\u001b[0m \u001b[1;33m%\u001b[0m \u001b[0mvalue\u001b[0m\u001b[1;33m\u001b[0m\u001b[1;33m\u001b[0m\u001b[0m\n\u001b[1;32m--> 976\u001b[1;33m         return self.execute(Command.FIND_ELEMENT, {\n\u001b[0m\u001b[0;32m    977\u001b[0m             \u001b[1;34m'using'\u001b[0m\u001b[1;33m:\u001b[0m \u001b[0mby\u001b[0m\u001b[1;33m,\u001b[0m\u001b[1;33m\u001b[0m\u001b[1;33m\u001b[0m\u001b[0m\n\u001b[0;32m    978\u001b[0m             'value': value})['value']\n",
      "\u001b[1;32m~\\anaconda3\\lib\\site-packages\\selenium\\webdriver\\remote\\webdriver.py\u001b[0m in \u001b[0;36mexecute\u001b[1;34m(self, driver_command, params)\u001b[0m\n\u001b[0;32m    319\u001b[0m         \u001b[0mresponse\u001b[0m \u001b[1;33m=\u001b[0m \u001b[0mself\u001b[0m\u001b[1;33m.\u001b[0m\u001b[0mcommand_executor\u001b[0m\u001b[1;33m.\u001b[0m\u001b[0mexecute\u001b[0m\u001b[1;33m(\u001b[0m\u001b[0mdriver_command\u001b[0m\u001b[1;33m,\u001b[0m \u001b[0mparams\u001b[0m\u001b[1;33m)\u001b[0m\u001b[1;33m\u001b[0m\u001b[1;33m\u001b[0m\u001b[0m\n\u001b[0;32m    320\u001b[0m         \u001b[1;32mif\u001b[0m \u001b[0mresponse\u001b[0m\u001b[1;33m:\u001b[0m\u001b[1;33m\u001b[0m\u001b[1;33m\u001b[0m\u001b[0m\n\u001b[1;32m--> 321\u001b[1;33m             \u001b[0mself\u001b[0m\u001b[1;33m.\u001b[0m\u001b[0merror_handler\u001b[0m\u001b[1;33m.\u001b[0m\u001b[0mcheck_response\u001b[0m\u001b[1;33m(\u001b[0m\u001b[0mresponse\u001b[0m\u001b[1;33m)\u001b[0m\u001b[1;33m\u001b[0m\u001b[1;33m\u001b[0m\u001b[0m\n\u001b[0m\u001b[0;32m    322\u001b[0m             response['value'] = self._unwrap_value(\n\u001b[0;32m    323\u001b[0m                 response.get('value', None))\n",
      "\u001b[1;32m~\\anaconda3\\lib\\site-packages\\selenium\\webdriver\\remote\\errorhandler.py\u001b[0m in \u001b[0;36mcheck_response\u001b[1;34m(self, response)\u001b[0m\n\u001b[0;32m    240\u001b[0m                 \u001b[0malert_text\u001b[0m \u001b[1;33m=\u001b[0m \u001b[0mvalue\u001b[0m\u001b[1;33m[\u001b[0m\u001b[1;34m'alert'\u001b[0m\u001b[1;33m]\u001b[0m\u001b[1;33m.\u001b[0m\u001b[0mget\u001b[0m\u001b[1;33m(\u001b[0m\u001b[1;34m'text'\u001b[0m\u001b[1;33m)\u001b[0m\u001b[1;33m\u001b[0m\u001b[1;33m\u001b[0m\u001b[0m\n\u001b[0;32m    241\u001b[0m             \u001b[1;32mraise\u001b[0m \u001b[0mexception_class\u001b[0m\u001b[1;33m(\u001b[0m\u001b[0mmessage\u001b[0m\u001b[1;33m,\u001b[0m \u001b[0mscreen\u001b[0m\u001b[1;33m,\u001b[0m \u001b[0mstacktrace\u001b[0m\u001b[1;33m,\u001b[0m \u001b[0malert_text\u001b[0m\u001b[1;33m)\u001b[0m\u001b[1;33m\u001b[0m\u001b[1;33m\u001b[0m\u001b[0m\n\u001b[1;32m--> 242\u001b[1;33m         \u001b[1;32mraise\u001b[0m \u001b[0mexception_class\u001b[0m\u001b[1;33m(\u001b[0m\u001b[0mmessage\u001b[0m\u001b[1;33m,\u001b[0m \u001b[0mscreen\u001b[0m\u001b[1;33m,\u001b[0m \u001b[0mstacktrace\u001b[0m\u001b[1;33m)\u001b[0m\u001b[1;33m\u001b[0m\u001b[1;33m\u001b[0m\u001b[0m\n\u001b[0m\u001b[0;32m    243\u001b[0m \u001b[1;33m\u001b[0m\u001b[0m\n\u001b[0;32m    244\u001b[0m     \u001b[1;32mdef\u001b[0m \u001b[0m_value_or_default\u001b[0m\u001b[1;33m(\u001b[0m\u001b[0mself\u001b[0m\u001b[1;33m,\u001b[0m \u001b[0mobj\u001b[0m\u001b[1;33m,\u001b[0m \u001b[0mkey\u001b[0m\u001b[1;33m,\u001b[0m \u001b[0mdefault\u001b[0m\u001b[1;33m)\u001b[0m\u001b[1;33m:\u001b[0m\u001b[1;33m\u001b[0m\u001b[1;33m\u001b[0m\u001b[0m\n",
      "\u001b[1;31mNoSuchElementException\u001b[0m: Message: no such element: Unable to locate element: {\"method\":\"partial link text\",\"selector\":\"Reqs\"}\n  (Session info: chrome=91.0.4472.124)\n"
     ]
    }
   ],
   "source": [
    "#Text which doesn't exist with link gives error\n",
    "req_btn = driver.find_element_by_partial_link_text('Reqs')\n",
    "req_btn.click()"
   ]
  },
  {
   "cell_type": "code",
   "execution_count": 42,
   "id": "f0ab2ec3",
   "metadata": {},
   "outputs": [
    {
     "data": {
      "text/plain": [
       "<selenium.webdriver.chrome.webdriver.WebDriver (session=\"853af5be21627500c0609ae45ebf8548\")>"
      ]
     },
     "execution_count": 42,
     "metadata": {},
     "output_type": "execute_result"
    }
   ],
   "source": [
    "path = 'D:\\Softwares\\chromedriver'\n",
    "driver = webdriver.Chrome(executable_path = path)\n",
    "driver"
   ]
  },
  {
   "cell_type": "code",
   "execution_count": 40,
   "id": "06dae6c3",
   "metadata": {},
   "outputs": [],
   "source": [
    "link = 'https://www.google.com/'\n",
    "driver.get(link)"
   ]
  },
  {
   "cell_type": "code",
   "execution_count": 26,
   "id": "3c239a55",
   "metadata": {},
   "outputs": [],
   "source": [
    "req_btn = driver.find_element_by_partial_link_text('mages')\n",
    "req_btn.click()"
   ]
  },
  {
   "cell_type": "code",
   "execution_count": 27,
   "id": "3ad3b8be",
   "metadata": {},
   "outputs": [
    {
     "data": {
      "text/plain": [
       "'Google Images'"
      ]
     },
     "execution_count": 27,
     "metadata": {},
     "output_type": "execute_result"
    }
   ],
   "source": [
    "driver.title"
   ]
  },
  {
   "cell_type": "code",
   "execution_count": 28,
   "id": "beeea8b6",
   "metadata": {},
   "outputs": [],
   "source": [
    "driver.back()"
   ]
  },
  {
   "cell_type": "code",
   "execution_count": 33,
   "id": "33966b68",
   "metadata": {},
   "outputs": [],
   "source": [
    "driver.maximize_window()"
   ]
  },
  {
   "cell_type": "code",
   "execution_count": 32,
   "id": "1062ac09",
   "metadata": {},
   "outputs": [],
   "source": [
    "driver.minimize_window()"
   ]
  },
  {
   "cell_type": "code",
   "execution_count": 34,
   "id": "2a15cceb",
   "metadata": {},
   "outputs": [
    {
     "data": {
      "text/plain": [
       "'https://www.google.com/'"
      ]
     },
     "execution_count": 34,
     "metadata": {},
     "output_type": "execute_result"
    }
   ],
   "source": [
    "driver.current_url"
   ]
  },
  {
   "cell_type": "code",
   "execution_count": 35,
   "id": "ee298191",
   "metadata": {},
   "outputs": [],
   "source": [
    "driver.refresh()"
   ]
  },
  {
   "cell_type": "code",
   "execution_count": 37,
   "id": "01564dbd",
   "metadata": {},
   "outputs": [],
   "source": [
    "driver.get(driver.current_url)\n",
    "#Equivalent to refresh"
   ]
  },
  {
   "cell_type": "code",
   "execution_count": 38,
   "id": "236e793b",
   "metadata": {},
   "outputs": [],
   "source": [
    "driver.close()"
   ]
  },
  {
   "cell_type": "code",
   "execution_count": 48,
   "id": "869a3ea8",
   "metadata": {},
   "outputs": [],
   "source": [
    "path = 'D:\\Softwares\\chromedriver'\n",
    "driver = webdriver.Chrome(executable_path = path)\n",
    "link = 'https://www.google.com/'\n",
    "driver.get(link)"
   ]
  },
  {
   "cell_type": "code",
   "execution_count": 47,
   "id": "e00a17a3",
   "metadata": {},
   "outputs": [],
   "source": [
    "driver.close()\n",
    "#closes current page only"
   ]
  },
  {
   "cell_type": "code",
   "execution_count": 49,
   "id": "36f38e13",
   "metadata": {},
   "outputs": [],
   "source": [
    "driver.quit()\n",
    "#closes all pages "
   ]
  },
  {
   "cell_type": "code",
   "execution_count": 50,
   "id": "3a65c5ed",
   "metadata": {},
   "outputs": [],
   "source": [
    "path = 'D:\\Softwares\\chromedriver'\n",
    "driver = webdriver.Chrome(executable_path = path)"
   ]
  },
  {
   "cell_type": "code",
   "execution_count": 51,
   "id": "48629634",
   "metadata": {},
   "outputs": [],
   "source": [
    "link = 'https://books.toscrape.com/'\n",
    "driver.get(link)"
   ]
  },
  {
   "cell_type": "markdown",
   "id": "f64ec468",
   "metadata": {},
   "source": [
    "##### By link text"
   ]
  },
  {
   "cell_type": "code",
   "execution_count": 55,
   "id": "ce231632",
   "metadata": {},
   "outputs": [
    {
     "data": {
      "text/plain": [
       "<selenium.webdriver.remote.webelement.WebElement (session=\"71b0b7bbd5e0569e94d1f59ccb3411cf\", element=\"98792fa5-99d9-468b-a873-7b4a1ce3dcdf\")>"
      ]
     },
     "execution_count": 55,
     "metadata": {},
     "output_type": "execute_result"
    }
   ],
   "source": [
    "c1 = driver.find_element_by_link_text('Music')\n",
    "c1"
   ]
  },
  {
   "cell_type": "code",
   "execution_count": 56,
   "id": "6d9e8901",
   "metadata": {},
   "outputs": [],
   "source": [
    "c1.click()"
   ]
  },
  {
   "cell_type": "markdown",
   "id": "173314ff",
   "metadata": {},
   "source": [
    "##### By partial link text"
   ]
  },
  {
   "cell_type": "code",
   "execution_count": 57,
   "id": "e7cb49ea",
   "metadata": {},
   "outputs": [],
   "source": [
    "b1 = driver.find_element_by_partial_link_text('Kill')\n",
    "b1.click()"
   ]
  },
  {
   "cell_type": "code",
   "execution_count": 58,
   "id": "d32bcb02",
   "metadata": {},
   "outputs": [],
   "source": [
    "driver.back()"
   ]
  },
  {
   "cell_type": "code",
   "execution_count": 59,
   "id": "ccab87fb",
   "metadata": {},
   "outputs": [
    {
     "data": {
      "text/plain": [
       "[<selenium.webdriver.remote.webelement.WebElement (session=\"71b0b7bbd5e0569e94d1f59ccb3411cf\", element=\"8edac2a2-e5f6-4d30-822b-ba85cec5bb0d\")>,\n",
       " <selenium.webdriver.remote.webelement.WebElement (session=\"71b0b7bbd5e0569e94d1f59ccb3411cf\", element=\"c6085d6c-8701-4e1c-8c01-f6b27d9b02e8\")>]"
      ]
     },
     "execution_count": 59,
     "metadata": {},
     "output_type": "execute_result"
    }
   ],
   "source": [
    "li = driver.find_elements_by_partial_link_text('Kill')\n",
    "li"
   ]
  },
  {
   "cell_type": "code",
   "execution_count": 60,
   "id": "fef108fc",
   "metadata": {},
   "outputs": [],
   "source": [
    "driver.back()"
   ]
  },
  {
   "cell_type": "markdown",
   "id": "706a2a58",
   "metadata": {},
   "source": [
    "##### By class name"
   ]
  },
  {
   "cell_type": "code",
   "execution_count": 62,
   "id": "57b04c8d",
   "metadata": {},
   "outputs": [
    {
     "data": {
      "text/plain": [
       "<selenium.webdriver.remote.webelement.WebElement (session=\"71b0b7bbd5e0569e94d1f59ccb3411cf\", element=\"4f9ca4c3-9c74-46e4-824c-9cbe48e74374\")>"
      ]
     },
     "execution_count": 62,
     "metadata": {},
     "output_type": "execute_result"
    }
   ],
   "source": [
    "i1 = driver.find_element_by_class_name('image_container')\n",
    "i1"
   ]
  },
  {
   "cell_type": "code",
   "execution_count": 64,
   "id": "c5a155e4",
   "metadata": {},
   "outputs": [],
   "source": [
    "i1.click()"
   ]
  },
  {
   "cell_type": "code",
   "execution_count": 65,
   "id": "a1132177",
   "metadata": {},
   "outputs": [],
   "source": [
    "driver.back()"
   ]
  },
  {
   "cell_type": "code",
   "execution_count": 63,
   "id": "28f5925a",
   "metadata": {},
   "outputs": [
    {
     "data": {
      "text/plain": [
       "[<selenium.webdriver.remote.webelement.WebElement (session=\"71b0b7bbd5e0569e94d1f59ccb3411cf\", element=\"4f9ca4c3-9c74-46e4-824c-9cbe48e74374\")>,\n",
       " <selenium.webdriver.remote.webelement.WebElement (session=\"71b0b7bbd5e0569e94d1f59ccb3411cf\", element=\"788a30d6-d70b-4edf-b6bf-4debee9cef1b\")>,\n",
       " <selenium.webdriver.remote.webelement.WebElement (session=\"71b0b7bbd5e0569e94d1f59ccb3411cf\", element=\"0f91a3ed-9a0b-415a-a366-cbc684ec4046\")>,\n",
       " <selenium.webdriver.remote.webelement.WebElement (session=\"71b0b7bbd5e0569e94d1f59ccb3411cf\", element=\"ec318dad-ae4e-4171-85a8-cdb81d634647\")>,\n",
       " <selenium.webdriver.remote.webelement.WebElement (session=\"71b0b7bbd5e0569e94d1f59ccb3411cf\", element=\"24c54519-30bf-4336-a7f1-d6ac2105da35\")>,\n",
       " <selenium.webdriver.remote.webelement.WebElement (session=\"71b0b7bbd5e0569e94d1f59ccb3411cf\", element=\"d379d1d9-5b0f-4817-9211-64426df225f0\")>,\n",
       " <selenium.webdriver.remote.webelement.WebElement (session=\"71b0b7bbd5e0569e94d1f59ccb3411cf\", element=\"d69bf5a6-dafe-46fc-80eb-92838380f356\")>,\n",
       " <selenium.webdriver.remote.webelement.WebElement (session=\"71b0b7bbd5e0569e94d1f59ccb3411cf\", element=\"e962f49c-a245-4cc4-8478-5905e50c5a18\")>,\n",
       " <selenium.webdriver.remote.webelement.WebElement (session=\"71b0b7bbd5e0569e94d1f59ccb3411cf\", element=\"ecc21016-7827-48ef-adf1-65af40cedb0a\")>,\n",
       " <selenium.webdriver.remote.webelement.WebElement (session=\"71b0b7bbd5e0569e94d1f59ccb3411cf\", element=\"4645f16a-59d1-42dc-98fd-9213f790c5be\")>,\n",
       " <selenium.webdriver.remote.webelement.WebElement (session=\"71b0b7bbd5e0569e94d1f59ccb3411cf\", element=\"42379119-e67b-47e7-951a-daa1185383f4\")>,\n",
       " <selenium.webdriver.remote.webelement.WebElement (session=\"71b0b7bbd5e0569e94d1f59ccb3411cf\", element=\"bb1b7463-379c-4f7f-9c73-e6987a969402\")>,\n",
       " <selenium.webdriver.remote.webelement.WebElement (session=\"71b0b7bbd5e0569e94d1f59ccb3411cf\", element=\"2f206163-466b-477b-a2c7-06b4f5e4898b\")>,\n",
       " <selenium.webdriver.remote.webelement.WebElement (session=\"71b0b7bbd5e0569e94d1f59ccb3411cf\", element=\"9c0577e8-9004-4e08-a9b8-057e5cd61df7\")>,\n",
       " <selenium.webdriver.remote.webelement.WebElement (session=\"71b0b7bbd5e0569e94d1f59ccb3411cf\", element=\"7bd87687-f9b2-4c1f-8efa-22ac0ade090b\")>,\n",
       " <selenium.webdriver.remote.webelement.WebElement (session=\"71b0b7bbd5e0569e94d1f59ccb3411cf\", element=\"878a4b3c-1d11-48c7-bae4-00817c49bf94\")>,\n",
       " <selenium.webdriver.remote.webelement.WebElement (session=\"71b0b7bbd5e0569e94d1f59ccb3411cf\", element=\"e48be0ea-d0d8-47c8-beac-ce18efe4e6bf\")>,\n",
       " <selenium.webdriver.remote.webelement.WebElement (session=\"71b0b7bbd5e0569e94d1f59ccb3411cf\", element=\"beb696e7-bfd1-4e8f-974d-b57b669ec66b\")>,\n",
       " <selenium.webdriver.remote.webelement.WebElement (session=\"71b0b7bbd5e0569e94d1f59ccb3411cf\", element=\"f0ae4e0e-b1e6-4170-940d-b002ac6e0b9d\")>,\n",
       " <selenium.webdriver.remote.webelement.WebElement (session=\"71b0b7bbd5e0569e94d1f59ccb3411cf\", element=\"18e541d8-8fa9-4ae0-b819-13fe02993382\")>]"
      ]
     },
     "execution_count": 63,
     "metadata": {},
     "output_type": "execute_result"
    }
   ],
   "source": [
    "li1 = driver.find_elements_by_class_name('image_container')\n",
    "li1"
   ]
  },
  {
   "cell_type": "code",
   "execution_count": 66,
   "id": "f74bc44e",
   "metadata": {},
   "outputs": [
    {
     "data": {
      "text/plain": [
       "20"
      ]
     },
     "execution_count": 66,
     "metadata": {},
     "output_type": "execute_result"
    }
   ],
   "source": [
    "len(li1)"
   ]
  },
  {
   "cell_type": "markdown",
   "id": "23a363e3",
   "metadata": {},
   "source": [
    "##### By tag name"
   ]
  },
  {
   "cell_type": "code",
   "execution_count": 67,
   "id": "1002644e",
   "metadata": {},
   "outputs": [
    {
     "data": {
      "text/plain": [
       "<selenium.webdriver.remote.webelement.WebElement (session=\"71b0b7bbd5e0569e94d1f59ccb3411cf\", element=\"e6fa6dfe-1786-4a6e-ac60-8e08deabc5d3\")>"
      ]
     },
     "execution_count": 67,
     "metadata": {},
     "output_type": "execute_result"
    }
   ],
   "source": [
    "x1 = driver.find_element_by_tag_name('img')\n",
    "x1"
   ]
  },
  {
   "cell_type": "code",
   "execution_count": 68,
   "id": "7631bde9",
   "metadata": {},
   "outputs": [],
   "source": [
    "x1.click()"
   ]
  },
  {
   "cell_type": "code",
   "execution_count": 69,
   "id": "f402fa05",
   "metadata": {},
   "outputs": [],
   "source": [
    "driver.back()"
   ]
  },
  {
   "cell_type": "code",
   "execution_count": 71,
   "id": "138b5523",
   "metadata": {},
   "outputs": [
    {
     "data": {
      "text/plain": [
       "<selenium.webdriver.remote.webelement.WebElement (session=\"71b0b7bbd5e0569e94d1f59ccb3411cf\", element=\"113b51a2-870b-46e4-bfda-a01b56dc2830\")>"
      ]
     },
     "execution_count": 71,
     "metadata": {},
     "output_type": "execute_result"
    }
   ],
   "source": [
    "x2 = driver.find_element_by_tag_name('h3')\n",
    "x2"
   ]
  },
  {
   "cell_type": "code",
   "execution_count": 72,
   "id": "121b91a4",
   "metadata": {},
   "outputs": [],
   "source": [
    "x2.click()"
   ]
  },
  {
   "cell_type": "code",
   "execution_count": 73,
   "id": "b27b4070",
   "metadata": {},
   "outputs": [],
   "source": [
    "driver.back()"
   ]
  },
  {
   "cell_type": "markdown",
   "id": "a5d5095a",
   "metadata": {},
   "source": [
    "##### By name"
   ]
  },
  {
   "cell_type": "code",
   "execution_count": 74,
   "id": "0dcaebfb",
   "metadata": {},
   "outputs": [
    {
     "data": {
      "text/plain": [
       "<selenium.webdriver.remote.webelement.WebElement (session=\"71b0b7bbd5e0569e94d1f59ccb3411cf\", element=\"c7e86e83-087e-4a46-bfee-6ecbeb4db39d\")>"
      ]
     },
     "execution_count": 74,
     "metadata": {},
     "output_type": "execute_result"
    }
   ],
   "source": [
    "x3 = driver.find_element_by_name('viewport')\n",
    "x3"
   ]
  },
  {
   "cell_type": "markdown",
   "id": "92150b99",
   "metadata": {},
   "source": [
    "##### By id name"
   ]
  },
  {
   "cell_type": "code",
   "execution_count": 77,
   "id": "35b60b42",
   "metadata": {},
   "outputs": [
    {
     "data": {
      "text/plain": [
       "<selenium.webdriver.remote.webelement.WebElement (session=\"71b0b7bbd5e0569e94d1f59ccb3411cf\", element=\"9972c02a-bbd7-4583-9a7b-c687ac039791\")>"
      ]
     },
     "execution_count": 77,
     "metadata": {},
     "output_type": "execute_result"
    }
   ],
   "source": [
    "x3 = driver.find_element_by_id('promotions_left')\n",
    "x3"
   ]
  },
  {
   "cell_type": "code",
   "execution_count": 78,
   "id": "5ed957ef",
   "metadata": {},
   "outputs": [
    {
     "name": "stdout",
     "output_type": "stream",
     "text": [
      "<class 'selenium.webdriver.remote.webelement.WebElement'>\n",
      "<class 'selenium.webdriver.remote.webelement.WebElement'>\n",
      "<class 'selenium.webdriver.remote.webelement.WebElement'>\n"
     ]
    }
   ],
   "source": [
    "print(type(x3))\n",
    "print(type(x1))\n",
    "print(type(i1))"
   ]
  },
  {
   "cell_type": "code",
   "execution_count": 83,
   "id": "e6807688",
   "metadata": {},
   "outputs": [
    {
     "data": {
      "text/plain": [
       "<selenium.webdriver.remote.webelement.WebElement (session=\"71b0b7bbd5e0569e94d1f59ccb3411cf\", element=\"5e111c5b-8226-4b7f-b860-da8266a9c483\")>"
      ]
     },
     "execution_count": 83,
     "metadata": {},
     "output_type": "execute_result"
    }
   ],
   "source": [
    "p = driver.find_element_by_class_name('price_color')\n",
    "p"
   ]
  },
  {
   "cell_type": "code",
   "execution_count": 84,
   "id": "a076cd4d",
   "metadata": {},
   "outputs": [],
   "source": [
    "p.click()"
   ]
  },
  {
   "cell_type": "code",
   "execution_count": 85,
   "id": "cc623437",
   "metadata": {},
   "outputs": [
    {
     "ename": "InvalidElementStateException",
     "evalue": "Message: invalid element state\n  (Session info: chrome=91.0.4472.124)\n",
     "output_type": "error",
     "traceback": [
      "\u001b[1;31m---------------------------------------------------------------------------\u001b[0m",
      "\u001b[1;31mInvalidElementStateException\u001b[0m              Traceback (most recent call last)",
      "\u001b[1;32m<ipython-input-85-a634af8d912d>\u001b[0m in \u001b[0;36m<module>\u001b[1;34m\u001b[0m\n\u001b[1;32m----> 1\u001b[1;33m \u001b[0mp\u001b[0m\u001b[1;33m.\u001b[0m\u001b[0mclear\u001b[0m\u001b[1;33m(\u001b[0m\u001b[1;33m)\u001b[0m\u001b[1;33m\u001b[0m\u001b[1;33m\u001b[0m\u001b[0m\n\u001b[0m",
      "\u001b[1;32m~\\anaconda3\\lib\\site-packages\\selenium\\webdriver\\remote\\webelement.py\u001b[0m in \u001b[0;36mclear\u001b[1;34m(self)\u001b[0m\n\u001b[0;32m     93\u001b[0m     \u001b[1;32mdef\u001b[0m \u001b[0mclear\u001b[0m\u001b[1;33m(\u001b[0m\u001b[0mself\u001b[0m\u001b[1;33m)\u001b[0m\u001b[1;33m:\u001b[0m\u001b[1;33m\u001b[0m\u001b[1;33m\u001b[0m\u001b[0m\n\u001b[0;32m     94\u001b[0m         \u001b[1;34m\"\"\"Clears the text if it's a text entry element.\"\"\"\u001b[0m\u001b[1;33m\u001b[0m\u001b[1;33m\u001b[0m\u001b[0m\n\u001b[1;32m---> 95\u001b[1;33m         \u001b[0mself\u001b[0m\u001b[1;33m.\u001b[0m\u001b[0m_execute\u001b[0m\u001b[1;33m(\u001b[0m\u001b[0mCommand\u001b[0m\u001b[1;33m.\u001b[0m\u001b[0mCLEAR_ELEMENT\u001b[0m\u001b[1;33m)\u001b[0m\u001b[1;33m\u001b[0m\u001b[1;33m\u001b[0m\u001b[0m\n\u001b[0m\u001b[0;32m     96\u001b[0m \u001b[1;33m\u001b[0m\u001b[0m\n\u001b[0;32m     97\u001b[0m     \u001b[1;32mdef\u001b[0m \u001b[0mget_property\u001b[0m\u001b[1;33m(\u001b[0m\u001b[0mself\u001b[0m\u001b[1;33m,\u001b[0m \u001b[0mname\u001b[0m\u001b[1;33m)\u001b[0m\u001b[1;33m:\u001b[0m\u001b[1;33m\u001b[0m\u001b[1;33m\u001b[0m\u001b[0m\n",
      "\u001b[1;32m~\\anaconda3\\lib\\site-packages\\selenium\\webdriver\\remote\\webelement.py\u001b[0m in \u001b[0;36m_execute\u001b[1;34m(self, command, params)\u001b[0m\n\u001b[0;32m    631\u001b[0m             \u001b[0mparams\u001b[0m \u001b[1;33m=\u001b[0m \u001b[1;33m{\u001b[0m\u001b[1;33m}\u001b[0m\u001b[1;33m\u001b[0m\u001b[1;33m\u001b[0m\u001b[0m\n\u001b[0;32m    632\u001b[0m         \u001b[0mparams\u001b[0m\u001b[1;33m[\u001b[0m\u001b[1;34m'id'\u001b[0m\u001b[1;33m]\u001b[0m \u001b[1;33m=\u001b[0m \u001b[0mself\u001b[0m\u001b[1;33m.\u001b[0m\u001b[0m_id\u001b[0m\u001b[1;33m\u001b[0m\u001b[1;33m\u001b[0m\u001b[0m\n\u001b[1;32m--> 633\u001b[1;33m         \u001b[1;32mreturn\u001b[0m \u001b[0mself\u001b[0m\u001b[1;33m.\u001b[0m\u001b[0m_parent\u001b[0m\u001b[1;33m.\u001b[0m\u001b[0mexecute\u001b[0m\u001b[1;33m(\u001b[0m\u001b[0mcommand\u001b[0m\u001b[1;33m,\u001b[0m \u001b[0mparams\u001b[0m\u001b[1;33m)\u001b[0m\u001b[1;33m\u001b[0m\u001b[1;33m\u001b[0m\u001b[0m\n\u001b[0m\u001b[0;32m    634\u001b[0m \u001b[1;33m\u001b[0m\u001b[0m\n\u001b[0;32m    635\u001b[0m     \u001b[1;32mdef\u001b[0m \u001b[0mfind_element\u001b[0m\u001b[1;33m(\u001b[0m\u001b[0mself\u001b[0m\u001b[1;33m,\u001b[0m \u001b[0mby\u001b[0m\u001b[1;33m=\u001b[0m\u001b[0mBy\u001b[0m\u001b[1;33m.\u001b[0m\u001b[0mID\u001b[0m\u001b[1;33m,\u001b[0m \u001b[0mvalue\u001b[0m\u001b[1;33m=\u001b[0m\u001b[1;32mNone\u001b[0m\u001b[1;33m)\u001b[0m\u001b[1;33m:\u001b[0m\u001b[1;33m\u001b[0m\u001b[1;33m\u001b[0m\u001b[0m\n",
      "\u001b[1;32m~\\anaconda3\\lib\\site-packages\\selenium\\webdriver\\remote\\webdriver.py\u001b[0m in \u001b[0;36mexecute\u001b[1;34m(self, driver_command, params)\u001b[0m\n\u001b[0;32m    319\u001b[0m         \u001b[0mresponse\u001b[0m \u001b[1;33m=\u001b[0m \u001b[0mself\u001b[0m\u001b[1;33m.\u001b[0m\u001b[0mcommand_executor\u001b[0m\u001b[1;33m.\u001b[0m\u001b[0mexecute\u001b[0m\u001b[1;33m(\u001b[0m\u001b[0mdriver_command\u001b[0m\u001b[1;33m,\u001b[0m \u001b[0mparams\u001b[0m\u001b[1;33m)\u001b[0m\u001b[1;33m\u001b[0m\u001b[1;33m\u001b[0m\u001b[0m\n\u001b[0;32m    320\u001b[0m         \u001b[1;32mif\u001b[0m \u001b[0mresponse\u001b[0m\u001b[1;33m:\u001b[0m\u001b[1;33m\u001b[0m\u001b[1;33m\u001b[0m\u001b[0m\n\u001b[1;32m--> 321\u001b[1;33m             \u001b[0mself\u001b[0m\u001b[1;33m.\u001b[0m\u001b[0merror_handler\u001b[0m\u001b[1;33m.\u001b[0m\u001b[0mcheck_response\u001b[0m\u001b[1;33m(\u001b[0m\u001b[0mresponse\u001b[0m\u001b[1;33m)\u001b[0m\u001b[1;33m\u001b[0m\u001b[1;33m\u001b[0m\u001b[0m\n\u001b[0m\u001b[0;32m    322\u001b[0m             response['value'] = self._unwrap_value(\n\u001b[0;32m    323\u001b[0m                 response.get('value', None))\n",
      "\u001b[1;32m~\\anaconda3\\lib\\site-packages\\selenium\\webdriver\\remote\\errorhandler.py\u001b[0m in \u001b[0;36mcheck_response\u001b[1;34m(self, response)\u001b[0m\n\u001b[0;32m    240\u001b[0m                 \u001b[0malert_text\u001b[0m \u001b[1;33m=\u001b[0m \u001b[0mvalue\u001b[0m\u001b[1;33m[\u001b[0m\u001b[1;34m'alert'\u001b[0m\u001b[1;33m]\u001b[0m\u001b[1;33m.\u001b[0m\u001b[0mget\u001b[0m\u001b[1;33m(\u001b[0m\u001b[1;34m'text'\u001b[0m\u001b[1;33m)\u001b[0m\u001b[1;33m\u001b[0m\u001b[1;33m\u001b[0m\u001b[0m\n\u001b[0;32m    241\u001b[0m             \u001b[1;32mraise\u001b[0m \u001b[0mexception_class\u001b[0m\u001b[1;33m(\u001b[0m\u001b[0mmessage\u001b[0m\u001b[1;33m,\u001b[0m \u001b[0mscreen\u001b[0m\u001b[1;33m,\u001b[0m \u001b[0mstacktrace\u001b[0m\u001b[1;33m,\u001b[0m \u001b[0malert_text\u001b[0m\u001b[1;33m)\u001b[0m\u001b[1;33m\u001b[0m\u001b[1;33m\u001b[0m\u001b[0m\n\u001b[1;32m--> 242\u001b[1;33m         \u001b[1;32mraise\u001b[0m \u001b[0mexception_class\u001b[0m\u001b[1;33m(\u001b[0m\u001b[0mmessage\u001b[0m\u001b[1;33m,\u001b[0m \u001b[0mscreen\u001b[0m\u001b[1;33m,\u001b[0m \u001b[0mstacktrace\u001b[0m\u001b[1;33m)\u001b[0m\u001b[1;33m\u001b[0m\u001b[1;33m\u001b[0m\u001b[0m\n\u001b[0m\u001b[0;32m    243\u001b[0m \u001b[1;33m\u001b[0m\u001b[0m\n\u001b[0;32m    244\u001b[0m     \u001b[1;32mdef\u001b[0m \u001b[0m_value_or_default\u001b[0m\u001b[1;33m(\u001b[0m\u001b[0mself\u001b[0m\u001b[1;33m,\u001b[0m \u001b[0mobj\u001b[0m\u001b[1;33m,\u001b[0m \u001b[0mkey\u001b[0m\u001b[1;33m,\u001b[0m \u001b[0mdefault\u001b[0m\u001b[1;33m)\u001b[0m\u001b[1;33m:\u001b[0m\u001b[1;33m\u001b[0m\u001b[1;33m\u001b[0m\u001b[0m\n",
      "\u001b[1;31mInvalidElementStateException\u001b[0m: Message: invalid element state\n  (Session info: chrome=91.0.4472.124)\n"
     ]
    }
   ],
   "source": [
    "p.clear()"
   ]
  },
  {
   "cell_type": "code",
   "execution_count": 87,
   "id": "b7222a30",
   "metadata": {},
   "outputs": [
    {
     "data": {
      "text/plain": [
       "'£51.77'"
      ]
     },
     "execution_count": 87,
     "metadata": {},
     "output_type": "execute_result"
    }
   ],
   "source": [
    "p.text"
   ]
  },
  {
   "cell_type": "code",
   "execution_count": 88,
   "id": "ead8ee11",
   "metadata": {},
   "outputs": [
    {
     "data": {
      "text/plain": [
       "'p'"
      ]
     },
     "execution_count": 88,
     "metadata": {},
     "output_type": "execute_result"
    }
   ],
   "source": [
    "p.tag_name"
   ]
  },
  {
   "cell_type": "code",
   "execution_count": 89,
   "id": "3e160dcf",
   "metadata": {},
   "outputs": [
    {
     "data": {
      "text/plain": [
       "'price_color'"
      ]
     },
     "execution_count": 89,
     "metadata": {},
     "output_type": "execute_result"
    }
   ],
   "source": [
    "p.get_attribute('class')"
   ]
  },
  {
   "cell_type": "code",
   "execution_count": 90,
   "id": "9a87f9ed",
   "metadata": {},
   "outputs": [],
   "source": [
    "p.get_attribute('href')"
   ]
  },
  {
   "cell_type": "code",
   "execution_count": 91,
   "id": "b40b8da4",
   "metadata": {},
   "outputs": [
    {
     "data": {
      "text/plain": [
       "True"
      ]
     },
     "execution_count": 91,
     "metadata": {},
     "output_type": "execute_result"
    }
   ],
   "source": [
    "p.is_displayed()"
   ]
  },
  {
   "cell_type": "code",
   "execution_count": 92,
   "id": "eca1fb58",
   "metadata": {},
   "outputs": [
    {
     "data": {
      "text/plain": [
       "True"
      ]
     },
     "execution_count": 92,
     "metadata": {},
     "output_type": "execute_result"
    }
   ],
   "source": [
    "p.is_enabled()"
   ]
  },
  {
   "cell_type": "code",
   "execution_count": 94,
   "id": "f43d42eb",
   "metadata": {},
   "outputs": [
    {
     "data": {
      "text/plain": [
       "False"
      ]
     },
     "execution_count": 94,
     "metadata": {},
     "output_type": "execute_result"
    }
   ],
   "source": [
    "p.is_selected()"
   ]
  },
  {
   "cell_type": "markdown",
   "id": "58d112ea",
   "metadata": {},
   "source": [
    "#### Problem FaceBook"
   ]
  },
  {
   "cell_type": "code",
   "execution_count": 5,
   "id": "bfd5ae81",
   "metadata": {},
   "outputs": [
    {
     "data": {
      "text/plain": [
       "<selenium.webdriver.chrome.webdriver.WebDriver (session=\"053d849ac1c3ab4590139faaf6a0aefb\")>"
      ]
     },
     "execution_count": 5,
     "metadata": {},
     "output_type": "execute_result"
    }
   ],
   "source": [
    "from selenium import webdriver\n",
    "path = 'D:\\Softwares\\chromedriver'\n",
    "driver = webdriver.Chrome(executable_path = path)\n",
    "driver"
   ]
  },
  {
   "cell_type": "code",
   "execution_count": 6,
   "id": "7fde3f27",
   "metadata": {},
   "outputs": [],
   "source": [
    "driver.get('https://www.facebook.com/r.php')"
   ]
  },
  {
   "cell_type": "code",
   "execution_count": 7,
   "id": "aa361b0e",
   "metadata": {},
   "outputs": [
    {
     "data": {
      "text/plain": [
       "<selenium.webdriver.remote.webelement.WebElement (session=\"053d849ac1c3ab4590139faaf6a0aefb\", element=\"98c4d605-f4ca-47e9-b466-4ac0962c2755\")>"
      ]
     },
     "execution_count": 7,
     "metadata": {},
     "output_type": "execute_result"
    }
   ],
   "source": [
    "t1 = driver.find_element_by_name('firstname')\n",
    "t1"
   ]
  },
  {
   "cell_type": "code",
   "execution_count": 9,
   "id": "f30dff32",
   "metadata": {},
   "outputs": [
    {
     "data": {
      "text/plain": [
       "True"
      ]
     },
     "execution_count": 9,
     "metadata": {},
     "output_type": "execute_result"
    }
   ],
   "source": [
    "t1.is_enabled()"
   ]
  },
  {
   "cell_type": "code",
   "execution_count": 10,
   "id": "6dbd9b88",
   "metadata": {},
   "outputs": [
    {
     "data": {
      "text/plain": [
       "<selenium.webdriver.remote.webelement.WebElement (session=\"053d849ac1c3ab4590139faaf6a0aefb\", element=\"8c4926b6-203e-4e11-80c8-4a79b56b11b8\")>"
      ]
     },
     "execution_count": 10,
     "metadata": {},
     "output_type": "execute_result"
    }
   ],
   "source": [
    "d1 = driver.find_element_by_id('day')\n",
    "d1"
   ]
  },
  {
   "cell_type": "code",
   "execution_count": 11,
   "id": "5c55baa8",
   "metadata": {},
   "outputs": [],
   "source": [
    "d1.click()"
   ]
  },
  {
   "cell_type": "code",
   "execution_count": 13,
   "id": "f912bd92",
   "metadata": {},
   "outputs": [
    {
     "data": {
      "text/plain": [
       "<selenium.webdriver.remote.webelement.WebElement (session=\"053d849ac1c3ab4590139faaf6a0aefb\", element=\"f41ff2c4-a58c-4981-9b97-c24fe395262a\")>"
      ]
     },
     "execution_count": 13,
     "metadata": {},
     "output_type": "execute_result"
    }
   ],
   "source": [
    "t2 = driver.find_element_by_name('sex')\n",
    "t2"
   ]
  },
  {
   "cell_type": "code",
   "execution_count": 14,
   "id": "52678b6e",
   "metadata": {},
   "outputs": [
    {
     "data": {
      "text/plain": [
       "False"
      ]
     },
     "execution_count": 14,
     "metadata": {},
     "output_type": "execute_result"
    }
   ],
   "source": [
    "t2.is_selected()"
   ]
  },
  {
   "cell_type": "code",
   "execution_count": 15,
   "id": "8a2ad6aa",
   "metadata": {},
   "outputs": [
    {
     "data": {
      "text/plain": [
       "True"
      ]
     },
     "execution_count": 15,
     "metadata": {},
     "output_type": "execute_result"
    }
   ],
   "source": [
    "t2.is_selected()"
   ]
  },
  {
   "cell_type": "code",
   "execution_count": 16,
   "id": "b884e7b2",
   "metadata": {},
   "outputs": [],
   "source": [
    "driver.quit()"
   ]
  },
  {
   "cell_type": "markdown",
   "id": "c361d67e",
   "metadata": {},
   "source": [
    "#### Problem Topological Searching\n",
    "See this star star"
   ]
  },
  {
   "cell_type": "code",
   "execution_count": 16,
   "id": "356a61f7",
   "metadata": {},
   "outputs": [
    {
     "data": {
      "text/plain": [
       "<selenium.webdriver.chrome.webdriver.WebDriver (session=\"857cc54a908a19a1fc4ff28c99d248f9\")>"
      ]
     },
     "execution_count": 16,
     "metadata": {},
     "output_type": "execute_result"
    }
   ],
   "source": [
    "from selenium import webdriver\n",
    "path = 'D:\\Softwares\\chromedriver'\n",
    "driver = webdriver.Chrome(executable_path = path)\n",
    "driver"
   ]
  },
  {
   "cell_type": "code",
   "execution_count": 17,
   "id": "407c6e4e",
   "metadata": {},
   "outputs": [],
   "source": [
    "link = 'https://www.geeksforgeeks.org/'\n",
    "driver.get(link)"
   ]
  },
  {
   "cell_type": "code",
   "execution_count": 18,
   "id": "b694e55d",
   "metadata": {},
   "outputs": [],
   "source": [
    "b1 = driver.find_element_by_link_text('Data Structures')\n",
    "b1.click()"
   ]
  },
  {
   "cell_type": "code",
   "execution_count": 21,
   "id": "9e2956b2",
   "metadata": {},
   "outputs": [],
   "source": [
    "b2 = driver.find_element_by_link_text('Graph')\n",
    "b2.click()"
   ]
  },
  {
   "cell_type": "code",
   "execution_count": 22,
   "id": "98f8948f",
   "metadata": {},
   "outputs": [],
   "source": [
    "from bs4 import BeautifulSoup as bs\n",
    "data = bs(driver.page_source,'lxml')"
   ]
  },
  {
   "cell_type": "code",
   "execution_count": 23,
   "id": "ee895643",
   "metadata": {},
   "outputs": [],
   "source": [
    "data2 = data.find(class_ = 'topologicalSorting')"
   ]
  },
  {
   "cell_type": "code",
   "execution_count": 24,
   "id": "ae955505",
   "metadata": {},
   "outputs": [
    {
     "name": "stdout",
     "output_type": "stream",
     "text": [
      "Topological Sorting\n",
      "All topological sorts of a Directed Acyclic Graph\n",
      "Kahn’s Algorithm for Topological Sorting\n",
      "Maximum edges that can be added to DAG so that is remains DAG\n",
      "Longest path between any pair of vertices\n",
      "Longest Path in a Directed Acyclic Graph\n",
      "Longest Path in a Directed Acyclic Graph | Set 2\n",
      "Topological Sort of a graph using departure time of vertex\n",
      "Given a sorted dictionary of an alien language, find order of characters\n"
     ]
    }
   ],
   "source": [
    "li3 = data2.find_all('a')\n",
    "for i in li3:\n",
    "    print(i.string)"
   ]
  },
  {
   "cell_type": "code",
   "execution_count": null,
   "id": "ec6b7449",
   "metadata": {},
   "outputs": [],
   "source": []
  },
  {
   "cell_type": "markdown",
   "id": "15ac29eb",
   "metadata": {},
   "source": [
    "#### find_element_by_xpath()"
   ]
  },
  {
   "cell_type": "code",
   "execution_count": 26,
   "id": "2e34cf25",
   "metadata": {},
   "outputs": [
    {
     "data": {
      "text/plain": [
       "<selenium.webdriver.chrome.webdriver.WebDriver (session=\"2c5d6d5ae9962388dcdb72f63ce7e270\")>"
      ]
     },
     "execution_count": 26,
     "metadata": {},
     "output_type": "execute_result"
    }
   ],
   "source": [
    "from selenium import webdriver\n",
    "path = 'D:\\Softwares\\chromedriver'\n",
    "driver = webdriver.Chrome(executable_path = path)\n",
    "driver"
   ]
  },
  {
   "cell_type": "code",
   "execution_count": 27,
   "id": "34828c2a",
   "metadata": {},
   "outputs": [],
   "source": [
    "link = 'https://books.toscrape.com/'\n",
    "driver.get(link)"
   ]
  },
  {
   "cell_type": "markdown",
   "id": "53739fd0",
   "metadata": {},
   "source": [
    "##### Absolute xpath"
   ]
  },
  {
   "cell_type": "code",
   "execution_count": 29,
   "id": "1fd4b80c",
   "metadata": {},
   "outputs": [
    {
     "data": {
      "text/plain": [
       "<selenium.webdriver.remote.webelement.WebElement (session=\"2c5d6d5ae9962388dcdb72f63ce7e270\", element=\"761c631a-2d8a-404c-9320-cdc63c681ba5\")>"
      ]
     },
     "execution_count": 29,
     "metadata": {},
     "output_type": "execute_result"
    }
   ],
   "source": [
    "ans = driver.find_element_by_xpath('/html/head/title')\n",
    "ans"
   ]
  },
  {
   "cell_type": "code",
   "execution_count": 30,
   "id": "479b1d14",
   "metadata": {},
   "outputs": [
    {
     "data": {
      "text/plain": [
       "'<title>\\n    All products | Books to Scrape - Sandbox\\n</title>'"
      ]
     },
     "execution_count": 30,
     "metadata": {},
     "output_type": "execute_result"
    }
   ],
   "source": [
    "ans.get_attribute('outerHTML')"
   ]
  },
  {
   "cell_type": "code",
   "execution_count": 31,
   "id": "f3c25aa9",
   "metadata": {},
   "outputs": [
    {
     "data": {
      "text/plain": [
       "'\\n    All products | Books to Scrape - Sandbox\\n'"
      ]
     },
     "execution_count": 31,
     "metadata": {},
     "output_type": "execute_result"
    }
   ],
   "source": [
    "ans.get_attribute('innerHTML')"
   ]
  },
  {
   "cell_type": "code",
   "execution_count": 32,
   "id": "e255e137",
   "metadata": {},
   "outputs": [
    {
     "data": {
      "text/plain": [
       "<selenium.webdriver.remote.webelement.WebElement (session=\"2c5d6d5ae9962388dcdb72f63ce7e270\", element=\"e7287858-9328-4003-aaa4-a6ac3bb115b4\")>"
      ]
     },
     "execution_count": 32,
     "metadata": {},
     "output_type": "execute_result"
    }
   ],
   "source": [
    "ans = driver.find_element_by_xpath('/html/body/div/div/ul')\n",
    "ans"
   ]
  },
  {
   "cell_type": "code",
   "execution_count": 33,
   "id": "c7cfd33f",
   "metadata": {},
   "outputs": [
    {
     "data": {
      "text/plain": [
       "'<ul class=\"breadcrumb\">\\n        <li>\\n            <a href=\"index.html\">Home</a>\\n        </li>\\n        <li class=\"active\">All products</li>\\n    </ul>'"
      ]
     },
     "execution_count": 33,
     "metadata": {},
     "output_type": "execute_result"
    }
   ],
   "source": [
    "ans.get_attribute('outerHTML')"
   ]
  },
  {
   "cell_type": "code",
   "execution_count": 34,
   "id": "b6909e4b",
   "metadata": {},
   "outputs": [
    {
     "data": {
      "text/plain": [
       "'breadcrumb'"
      ]
     },
     "execution_count": 34,
     "metadata": {},
     "output_type": "execute_result"
    }
   ],
   "source": [
    "ans.get_attribute('class')"
   ]
  },
  {
   "cell_type": "markdown",
   "id": "1cc81833",
   "metadata": {},
   "source": [
    "##### Relative xpath"
   ]
  },
  {
   "cell_type": "code",
   "execution_count": 36,
   "id": "90632c51",
   "metadata": {},
   "outputs": [
    {
     "data": {
      "text/plain": [
       "<selenium.webdriver.remote.webelement.WebElement (session=\"2c5d6d5ae9962388dcdb72f63ce7e270\", element=\"e7287858-9328-4003-aaa4-a6ac3bb115b4\")>"
      ]
     },
     "execution_count": 36,
     "metadata": {},
     "output_type": "execute_result"
    }
   ],
   "source": [
    "#Example 1\n",
    "ans = driver.find_element_by_xpath('//ul[@class = \"breadcrumb\"]')\n",
    "ans"
   ]
  },
  {
   "cell_type": "code",
   "execution_count": 37,
   "id": "de3bf7fb",
   "metadata": {},
   "outputs": [
    {
     "data": {
      "text/plain": [
       "'<ul class=\"breadcrumb\">\\n        <li>\\n            <a href=\"index.html\">Home</a>\\n        </li>\\n        <li class=\"active\">All products</li>\\n    </ul>'"
      ]
     },
     "execution_count": 37,
     "metadata": {},
     "output_type": "execute_result"
    }
   ],
   "source": [
    "ans.get_attribute('outerHTML')"
   ]
  },
  {
   "cell_type": "code",
   "execution_count": 38,
   "id": "63042bd1",
   "metadata": {},
   "outputs": [
    {
     "data": {
      "text/plain": [
       "'<ul class=\"breadcrumb\">\\n        <li>\\n            <a href=\"index.html\">Home</a>\\n        </li>\\n        <li class=\"active\">All products</li>\\n    </ul>'"
      ]
     },
     "execution_count": 38,
     "metadata": {},
     "output_type": "execute_result"
    }
   ],
   "source": [
    "#Example 2 \n",
    "ans = driver.find_element_by_xpath('//div[@class = \"container-fluid page\"]/div/ul')\n",
    "ans.get_attribute('outerHTML')"
   ]
  },
  {
   "cell_type": "code",
   "execution_count": 40,
   "id": "fe29e008",
   "metadata": {},
   "outputs": [
    {
     "data": {
      "text/plain": [
       "'<ul class=\"breadcrumb\">\\n        <li>\\n            <a href=\"index.html\">Home</a>\\n        </li>\\n        <li class=\"active\">All products</li>\\n    </ul>'"
      ]
     },
     "execution_count": 40,
     "metadata": {},
     "output_type": "execute_result"
    }
   ],
   "source": [
    "#Example 3\n",
    "ans = driver.find_element_by_xpath('//div[@class = \"container-fluid page\"]//ul')\n",
    "ans.get_attribute('outerHTML')"
   ]
  },
  {
   "cell_type": "code",
   "execution_count": 42,
   "id": "3e1f4df4",
   "metadata": {},
   "outputs": [
    {
     "data": {
      "text/plain": [
       "'<ul class=\"breadcrumb\">\\n        <li>\\n            <a href=\"index.html\">Home</a>\\n        </li>\\n        <li class=\"active\">All products</li>\\n    </ul>'"
      ]
     },
     "execution_count": 42,
     "metadata": {},
     "output_type": "execute_result"
    }
   ],
   "source": [
    "#Example 4\n",
    "ans = driver.find_element_by_xpath('//*[@class = \"breadcrumb\"]')\n",
    "ans.get_attribute('outerHTML')"
   ]
  },
  {
   "cell_type": "code",
   "execution_count": 43,
   "id": "191c35f8",
   "metadata": {},
   "outputs": [
    {
     "data": {
      "text/plain": [
       "'<ul class=\"breadcrumb\">\\n        <li>\\n            <a href=\"index.html\">Home</a>\\n        </li>\\n        <li class=\"active\">All products</li>\\n    </ul>'"
      ]
     },
     "execution_count": 43,
     "metadata": {},
     "output_type": "execute_result"
    }
   ],
   "source": [
    "#Example 5\n",
    "ans = driver.find_element_by_xpath('//*[@class = \"container-fluid page\"]/div/ul')\n",
    "ans.get_attribute('outerHTML')"
   ]
  },
  {
   "cell_type": "code",
   "execution_count": 48,
   "id": "8dcbd8e7",
   "metadata": {},
   "outputs": [
    {
     "data": {
      "text/plain": [
       "'<div class=\"row\">\\n                <div class=\"col-sm-8 h1\"><a href=\"index.html\">Books to Scrape</a><small> We love being scraped!</small>\\n</div>\\n\\n                \\n            </div>'"
      ]
     },
     "execution_count": 48,
     "metadata": {},
     "output_type": "execute_result"
    }
   ],
   "source": [
    "#Example 6\n",
    "ans = driver.find_element_by_xpath('//div/*')\n",
    "ans.get_attribute('outerHTML')"
   ]
  },
  {
   "cell_type": "code",
   "execution_count": 49,
   "id": "c047b2c9",
   "metadata": {},
   "outputs": [
    {
     "data": {
      "text/plain": [
       "'<html lang=\"en-us\" class=\"no-js\"><!--<![endif]--><head>\\n        <title>\\n    All products | Books to Scrape - Sandbox\\n</title>\\n\\n        <meta http-equiv=\"content-type\" content=\"text/html; charset=UTF-8\">\\n        <meta name=\"created\" content=\"24th Jun 2016 09:29\">\\n        <meta name=\"description\" content=\"\">\\n        <meta name=\"viewport\" content=\"width=device-width\">\\n        <meta name=\"robots\" content=\"NOARCHIVE,NOCACHE\">\\n\\n        <!-- Le HTML5 shim, for IE6-8 support of HTML elements -->\\n        <!--[if lt IE 9]>\\n        <script src=\"//html5shim.googlecode.com/svn/trunk/html5.js\"></script>\\n        <![endif]-->\\n\\n        \\n            <link rel=\"shortcut icon\" href=\"static/oscar/favicon.ico\">\\n        \\n\\n        \\n        \\n    \\n    \\n        <link rel=\"stylesheet\" type=\"text/css\" href=\"static/oscar/css/styles.css\">\\n    \\n    <link rel=\"stylesheet\" href=\"static/oscar/js/bootstrap-datetimepicker/bootstrap-datetimepicker.css\">\\n    <link rel=\"stylesheet\" type=\"text/css\" href=\"static/oscar/css/datetimepicker.css\">\\n\\n\\n        \\n        \\n\\n        \\n\\n        \\n            \\n            \\n\\n        \\n    </head>\\n\\n    <body id=\"default\" class=\"default\">\\n        \\n        \\n    \\n    \\n    <header class=\"header container-fluid\">\\n        <div class=\"page_inner\">\\n            <div class=\"row\">\\n                <div class=\"col-sm-8 h1\"><a href=\"index.html\">Books to Scrape</a><small> We love being scraped!</small>\\n</div>\\n\\n                \\n            </div>\\n        </div>\\n    </header>\\n\\n    \\n    \\n<div class=\"container-fluid page\">\\n    <div class=\"page_inner\">\\n        \\n    <ul class=\"breadcrumb\">\\n        <li>\\n            <a href=\"index.html\">Home</a>\\n        </li>\\n        <li class=\"active\">All products</li>\\n    </ul>\\n\\n        <div class=\"row\">\\n\\n            <aside class=\"sidebar col-sm-4 col-md-3\">\\n                \\n                <div id=\"promotions_left\">\\n                    \\n                </div>\\n                \\n    \\n    \\n        \\n        <div class=\"side_categories\">\\n            <ul class=\"nav nav-list\">\\n                \\n                    <li>\\n                        <a href=\"catalogue/category/books_1/index.html\">\\n                            \\n                                Books\\n                            \\n                        </a>\\n\\n                        <ul>\\n                        \\n                \\n                    <li>\\n                        <a href=\"catalogue/category/books/travel_2/index.html\">\\n                            \\n                                Travel\\n                            \\n                        </a>\\n\\n                        </li>\\n                        \\n                \\n                    <li>\\n                        <a href=\"catalogue/category/books/mystery_3/index.html\">\\n                            \\n                                Mystery\\n                            \\n                        </a>\\n\\n                        </li>\\n                        \\n                \\n                    <li>\\n                        <a href=\"catalogue/category/books/historical-fiction_4/index.html\">\\n                            \\n                                Historical Fiction\\n                            \\n                        </a>\\n\\n                        </li>\\n                        \\n                \\n                    <li>\\n                        <a href=\"catalogue/category/books/sequential-art_5/index.html\">\\n                            \\n                                Sequential Art\\n                            \\n                        </a>\\n\\n                        </li>\\n                        \\n                \\n                    <li>\\n                        <a href=\"catalogue/category/books/classics_6/index.html\">\\n                            \\n                                Classics\\n                            \\n                        </a>\\n\\n                        </li>\\n                        \\n                \\n                    <li>\\n                        <a href=\"catalogue/category/books/philosophy_7/index.html\">\\n                            \\n                                Philosophy\\n                            \\n                        </a>\\n\\n                        </li>\\n                        \\n                \\n                    <li>\\n                        <a href=\"catalogue/category/books/romance_8/index.html\">\\n                            \\n                                Romance\\n                            \\n                        </a>\\n\\n                        </li>\\n                        \\n                \\n                    <li>\\n                        <a href=\"catalogue/category/books/womens-fiction_9/index.html\">\\n                            \\n                                Womens Fiction\\n                            \\n                        </a>\\n\\n                        </li>\\n                        \\n                \\n                    <li>\\n                        <a href=\"catalogue/category/books/fiction_10/index.html\">\\n                            \\n                                Fiction\\n                            \\n                        </a>\\n\\n                        </li>\\n                        \\n                \\n                    <li>\\n                        <a href=\"catalogue/category/books/childrens_11/index.html\">\\n                            \\n                                Childrens\\n                            \\n                        </a>\\n\\n                        </li>\\n                        \\n                \\n                    <li>\\n                        <a href=\"catalogue/category/books/religion_12/index.html\">\\n                            \\n                                Religion\\n                            \\n                        </a>\\n\\n                        </li>\\n                        \\n                \\n                    <li>\\n                        <a href=\"catalogue/category/books/nonfiction_13/index.html\">\\n                            \\n                                Nonfiction\\n                            \\n                        </a>\\n\\n                        </li>\\n                        \\n                \\n                    <li>\\n                        <a href=\"catalogue/category/books/music_14/index.html\">\\n                            \\n                                Music\\n                            \\n                        </a>\\n\\n                        </li>\\n                        \\n                \\n                    <li>\\n                        <a href=\"catalogue/category/books/default_15/index.html\">\\n                            \\n                                Default\\n                            \\n                        </a>\\n\\n                        </li>\\n                        \\n                \\n                    <li>\\n                        <a href=\"catalogue/category/books/science-fiction_16/index.html\">\\n                            \\n                                Science Fiction\\n                            \\n                        </a>\\n\\n                        </li>\\n                        \\n                \\n                    <li>\\n                        <a href=\"catalogue/category/books/sports-and-games_17/index.html\">\\n                            \\n                                Sports and Games\\n                            \\n                        </a>\\n\\n                        </li>\\n                        \\n                \\n                    <li>\\n                        <a href=\"catalogue/category/books/add-a-comment_18/index.html\">\\n                            \\n                                Add a comment\\n                            \\n                        </a>\\n\\n                        </li>\\n                        \\n                \\n                    <li>\\n                        <a href=\"catalogue/category/books/fantasy_19/index.html\">\\n                            \\n                                Fantasy\\n                            \\n                        </a>\\n\\n                        </li>\\n                        \\n                \\n                    <li>\\n                        <a href=\"catalogue/category/books/new-adult_20/index.html\">\\n                            \\n                                New Adult\\n                            \\n                        </a>\\n\\n                        </li>\\n                        \\n                \\n                    <li>\\n                        <a href=\"catalogue/category/books/young-adult_21/index.html\">\\n                            \\n                                Young Adult\\n                            \\n                        </a>\\n\\n                        </li>\\n                        \\n                \\n                    <li>\\n                        <a href=\"catalogue/category/books/science_22/index.html\">\\n                            \\n                                Science\\n                            \\n                        </a>\\n\\n                        </li>\\n                        \\n                \\n                    <li>\\n                        <a href=\"catalogue/category/books/poetry_23/index.html\">\\n                            \\n                                Poetry\\n                            \\n                        </a>\\n\\n                        </li>\\n                        \\n                \\n                    <li>\\n                        <a href=\"catalogue/category/books/paranormal_24/index.html\">\\n                            \\n                                Paranormal\\n                            \\n                        </a>\\n\\n                        </li>\\n                        \\n                \\n                    <li>\\n                        <a href=\"catalogue/category/books/art_25/index.html\">\\n                            \\n                                Art\\n                            \\n                        </a>\\n\\n                        </li>\\n                        \\n                \\n                    <li>\\n                        <a href=\"catalogue/category/books/psychology_26/index.html\">\\n                            \\n                                Psychology\\n                            \\n                        </a>\\n\\n                        </li>\\n                        \\n                \\n                    <li>\\n                        <a href=\"catalogue/category/books/autobiography_27/index.html\">\\n                            \\n                                Autobiography\\n                            \\n                        </a>\\n\\n                        </li>\\n                        \\n                \\n                    <li>\\n                        <a href=\"catalogue/category/books/parenting_28/index.html\">\\n                            \\n                                Parenting\\n                            \\n                        </a>\\n\\n                        </li>\\n                        \\n                \\n                    <li>\\n                        <a href=\"catalogue/category/books/adult-fiction_29/index.html\">\\n                            \\n                                Adult Fiction\\n                            \\n                        </a>\\n\\n                        </li>\\n                        \\n                \\n                    <li>\\n                        <a href=\"catalogue/category/books/humor_30/index.html\">\\n                            \\n                                Humor\\n                            \\n                        </a>\\n\\n                        </li>\\n                        \\n                \\n                    <li>\\n                        <a href=\"catalogue/category/books/horror_31/index.html\">\\n                            \\n                                Horror\\n                            \\n                        </a>\\n\\n                        </li>\\n                        \\n                \\n                    <li>\\n                        <a href=\"catalogue/category/books/history_32/index.html\">\\n                            \\n                                History\\n                            \\n                        </a>\\n\\n                        </li>\\n                        \\n                \\n                    <li>\\n                        <a href=\"catalogue/category/books/food-and-drink_33/index.html\">\\n                            \\n                                Food and Drink\\n                            \\n                        </a>\\n\\n                        </li>\\n                        \\n                \\n                    <li>\\n                        <a href=\"catalogue/category/books/christian-fiction_34/index.html\">\\n                            \\n                                Christian Fiction\\n                            \\n                        </a>\\n\\n                        </li>\\n                        \\n                \\n                    <li>\\n                        <a href=\"catalogue/category/books/business_35/index.html\">\\n                            \\n                                Business\\n                            \\n                        </a>\\n\\n                        </li>\\n                        \\n                \\n                    <li>\\n                        <a href=\"catalogue/category/books/biography_36/index.html\">\\n                            \\n                                Biography\\n                            \\n                        </a>\\n\\n                        </li>\\n                        \\n                \\n                    <li>\\n                        <a href=\"catalogue/category/books/thriller_37/index.html\">\\n                            \\n                                Thriller\\n                            \\n                        </a>\\n\\n                        </li>\\n                        \\n                \\n                    <li>\\n                        <a href=\"catalogue/category/books/contemporary_38/index.html\">\\n                            \\n                                Contemporary\\n                            \\n                        </a>\\n\\n                        </li>\\n                        \\n                \\n                    <li>\\n                        <a href=\"catalogue/category/books/spirituality_39/index.html\">\\n                            \\n                                Spirituality\\n                            \\n                        </a>\\n\\n                        </li>\\n                        \\n                \\n                    <li>\\n                        <a href=\"catalogue/category/books/academic_40/index.html\">\\n                            \\n                                Academic\\n                            \\n                        </a>\\n\\n                        </li>\\n                        \\n                \\n                    <li>\\n                        <a href=\"catalogue/category/books/self-help_41/index.html\">\\n                            \\n                                Self Help\\n                            \\n                        </a>\\n\\n                        </li>\\n                        \\n                \\n                    <li>\\n                        <a href=\"catalogue/category/books/historical_42/index.html\">\\n                            \\n                                Historical\\n                            \\n                        </a>\\n\\n                        </li>\\n                        \\n                \\n                    <li>\\n                        <a href=\"catalogue/category/books/christian_43/index.html\">\\n                            \\n                                Christian\\n                            \\n                        </a>\\n\\n                        </li>\\n                        \\n                \\n                    <li>\\n                        <a href=\"catalogue/category/books/suspense_44/index.html\">\\n                            \\n                                Suspense\\n                            \\n                        </a>\\n\\n                        </li>\\n                        \\n                \\n                    <li>\\n                        <a href=\"catalogue/category/books/short-stories_45/index.html\">\\n                            \\n                                Short Stories\\n                            \\n                        </a>\\n\\n                        </li>\\n                        \\n                \\n                    <li>\\n                        <a href=\"catalogue/category/books/novels_46/index.html\">\\n                            \\n                                Novels\\n                            \\n                        </a>\\n\\n                        </li>\\n                        \\n                \\n                    <li>\\n                        <a href=\"catalogue/category/books/health_47/index.html\">\\n                            \\n                                Health\\n                            \\n                        </a>\\n\\n                        </li>\\n                        \\n                \\n                    <li>\\n                        <a href=\"catalogue/category/books/politics_48/index.html\">\\n                            \\n                                Politics\\n                            \\n                        </a>\\n\\n                        </li>\\n                        \\n                \\n                    <li>\\n                        <a href=\"catalogue/category/books/cultural_49/index.html\">\\n                            \\n                                Cultural\\n                            \\n                        </a>\\n\\n                        </li>\\n                        \\n                \\n                    <li>\\n                        <a href=\"catalogue/category/books/erotica_50/index.html\">\\n                            \\n                                Erotica\\n                            \\n                        </a>\\n\\n                        </li>\\n                        \\n                \\n                    <li>\\n                        <a href=\"catalogue/category/books/crime_51/index.html\">\\n                            \\n                                Crime\\n                            \\n                        </a>\\n\\n                        </li>\\n                        \\n                            </ul></li>\\n                        \\n                \\n            </ul>\\n        </div>\\n    \\n    \\n\\n            </aside>\\n\\n            <div class=\"col-sm-8 col-md-9\">\\n                \\n                <div class=\"page-header action\">\\n                    <h1>All products</h1>\\n                </div>\\n                \\n\\n                \\n\\n\\n\\n<div id=\"messages\">\\n\\n</div>\\n\\n\\n                <div id=\"promotions\">\\n                    \\n                </div>\\n\\n                \\n    <form method=\"get\" class=\"form-horizontal\">\\n        \\n        <div style=\"display:none\">\\n            \\n            \\n        </div>\\n\\n        \\n            \\n                \\n                    <strong>1000</strong> results - showing <strong>1</strong> to <strong>20</strong>.\\n                \\n            \\n            \\n        \\n    </form>\\n    \\n        <section>\\n            <div class=\"alert alert-warning\" role=\"alert\"><strong>Warning!</strong> This is a demo website for web scraping purposes. Prices and ratings here were randomly assigned and have no real meaning.</div>\\n\\n            <div>\\n                <ol class=\"row\">\\n                    \\n                        <li class=\"col-xs-6 col-sm-4 col-md-3 col-lg-3\">\\n\\n\\n\\n\\n\\n\\n    <article class=\"product_pod\">\\n        \\n            <div class=\"image_container\">\\n                \\n                    \\n                    <a href=\"catalogue/a-light-in-the-attic_1000/index.html\"><img src=\"media/cache/2c/da/2cdad67c44b002e7ead0cc35693c0e8b.jpg\" alt=\"A Light in the Attic\" class=\"thumbnail\"></a>\\n                    \\n                \\n            </div>\\n        \\n\\n        \\n            \\n                <p class=\"star-rating Three\">\\n                    <i class=\"icon-star\"></i>\\n                    <i class=\"icon-star\"></i>\\n                    <i class=\"icon-star\"></i>\\n                    <i class=\"icon-star\"></i>\\n                    <i class=\"icon-star\"></i>\\n                </p>\\n            \\n        \\n\\n        \\n            <h3><a href=\"catalogue/a-light-in-the-attic_1000/index.html\" title=\"A Light in the Attic\">A Light in the ...</a></h3>\\n        \\n\\n        \\n            <div class=\"product_price\">\\n                \\n\\n\\n\\n\\n\\n\\n    \\n        <p class=\"price_color\">£51.77</p>\\n    \\n\\n<p class=\"instock availability\">\\n    <i class=\"icon-ok\"></i>\\n    \\n        In stock\\n    \\n</p>\\n\\n                \\n                    \\n\\n\\n\\n\\n\\n\\n    \\n    <form>\\n        <button type=\"submit\" class=\"btn btn-primary btn-block\" data-loading-text=\"Adding...\">Add to basket</button>\\n    </form>\\n\\n\\n                \\n            </div>\\n        \\n    </article>\\n\\n</li>\\n                    \\n                        <li class=\"col-xs-6 col-sm-4 col-md-3 col-lg-3\">\\n\\n\\n\\n\\n\\n\\n    <article class=\"product_pod\">\\n        \\n            <div class=\"image_container\">\\n                \\n                    \\n                    <a href=\"catalogue/tipping-the-velvet_999/index.html\"><img src=\"media/cache/26/0c/260c6ae16bce31c8f8c95daddd9f4a1c.jpg\" alt=\"Tipping the Velvet\" class=\"thumbnail\"></a>\\n                    \\n                \\n            </div>\\n        \\n\\n        \\n            \\n                <p class=\"star-rating One\">\\n                    <i class=\"icon-star\"></i>\\n                    <i class=\"icon-star\"></i>\\n                    <i class=\"icon-star\"></i>\\n                    <i class=\"icon-star\"></i>\\n                    <i class=\"icon-star\"></i>\\n                </p>\\n            \\n        \\n\\n        \\n            <h3><a href=\"catalogue/tipping-the-velvet_999/index.html\" title=\"Tipping the Velvet\">Tipping the Velvet</a></h3>\\n        \\n\\n        \\n            <div class=\"product_price\">\\n                \\n\\n\\n\\n\\n\\n\\n    \\n        <p class=\"price_color\">£53.74</p>\\n    \\n\\n<p class=\"instock availability\">\\n    <i class=\"icon-ok\"></i>\\n    \\n        In stock\\n    \\n</p>\\n\\n                \\n                    \\n\\n\\n\\n\\n\\n\\n    \\n    <form>\\n        <button type=\"submit\" class=\"btn btn-primary btn-block\" data-loading-text=\"Adding...\">Add to basket</button>\\n    </form>\\n\\n\\n                \\n            </div>\\n        \\n    </article>\\n\\n</li>\\n                    \\n                        <li class=\"col-xs-6 col-sm-4 col-md-3 col-lg-3\">\\n\\n\\n\\n\\n\\n\\n    <article class=\"product_pod\">\\n        \\n            <div class=\"image_container\">\\n                \\n                    \\n                    <a href=\"catalogue/soumission_998/index.html\"><img src=\"media/cache/3e/ef/3eef99c9d9adef34639f510662022830.jpg\" alt=\"Soumission\" class=\"thumbnail\"></a>\\n                    \\n                \\n            </div>\\n        \\n\\n        \\n            \\n                <p class=\"star-rating One\">\\n                    <i class=\"icon-star\"></i>\\n                    <i class=\"icon-star\"></i>\\n                    <i class=\"icon-star\"></i>\\n                    <i class=\"icon-star\"></i>\\n                    <i class=\"icon-star\"></i>\\n                </p>\\n            \\n        \\n\\n        \\n            <h3><a href=\"catalogue/soumission_998/index.html\" title=\"Soumission\">Soumission</a></h3>\\n        \\n\\n        \\n            <div class=\"product_price\">\\n                \\n\\n\\n\\n\\n\\n\\n    \\n        <p class=\"price_color\">£50.10</p>\\n    \\n\\n<p class=\"instock availability\">\\n    <i class=\"icon-ok\"></i>\\n    \\n        In stock\\n    \\n</p>\\n\\n                \\n                    \\n\\n\\n\\n\\n\\n\\n    \\n    <form>\\n        <button type=\"submit\" class=\"btn btn-primary btn-block\" data-loading-text=\"Adding...\">Add to basket</button>\\n    </form>\\n\\n\\n                \\n            </div>\\n        \\n    </article>\\n\\n</li>\\n                    \\n                        <li class=\"col-xs-6 col-sm-4 col-md-3 col-lg-3\">\\n\\n\\n\\n\\n\\n\\n    <article class=\"product_pod\">\\n        \\n            <div class=\"image_container\">\\n                \\n                    \\n                    <a href=\"catalogue/sharp-objects_997/index.html\"><img src=\"media/cache/32/51/3251cf3a3412f53f339e42cac2134093.jpg\" alt=\"Sharp Objects\" class=\"thumbnail\"></a>\\n                    \\n                \\n            </div>\\n        \\n\\n        \\n            \\n                <p class=\"star-rating Four\">\\n                    <i class=\"icon-star\"></i>\\n                    <i class=\"icon-star\"></i>\\n                    <i class=\"icon-star\"></i>\\n                    <i class=\"icon-star\"></i>\\n                    <i class=\"icon-star\"></i>\\n                </p>\\n            \\n        \\n\\n        \\n            <h3><a href=\"catalogue/sharp-objects_997/index.html\" title=\"Sharp Objects\">Sharp Objects</a></h3>\\n        \\n\\n        \\n            <div class=\"product_price\">\\n                \\n\\n\\n\\n\\n\\n\\n    \\n        <p class=\"price_color\">£47.82</p>\\n    \\n\\n<p class=\"instock availability\">\\n    <i class=\"icon-ok\"></i>\\n    \\n        In stock\\n    \\n</p>\\n\\n                \\n                    \\n\\n\\n\\n\\n\\n\\n    \\n    <form>\\n        <button type=\"submit\" class=\"btn btn-primary btn-block\" data-loading-text=\"Adding...\">Add to basket</button>\\n    </form>\\n\\n\\n                \\n            </div>\\n        \\n    </article>\\n\\n</li>\\n                    \\n                        <li class=\"col-xs-6 col-sm-4 col-md-3 col-lg-3\">\\n\\n\\n\\n\\n\\n\\n    <article class=\"product_pod\">\\n        \\n            <div class=\"image_container\">\\n                \\n                    \\n                    <a href=\"catalogue/sapiens-a-brief-history-of-humankind_996/index.html\"><img src=\"media/cache/be/a5/bea5697f2534a2f86a3ef27b5a8c12a6.jpg\" alt=\"Sapiens: A Brief History of Humankind\" class=\"thumbnail\"></a>\\n                    \\n                \\n            </div>\\n        \\n\\n        \\n            \\n                <p class=\"star-rating Five\">\\n                    <i class=\"icon-star\"></i>\\n                    <i class=\"icon-star\"></i>\\n                    <i class=\"icon-star\"></i>\\n                    <i class=\"icon-star\"></i>\\n                    <i class=\"icon-star\"></i>\\n                </p>\\n            \\n        \\n\\n        \\n            <h3><a href=\"catalogue/sapiens-a-brief-history-of-humankind_996/index.html\" title=\"Sapiens: A Brief History of Humankind\">Sapiens: A Brief History ...</a></h3>\\n        \\n\\n        \\n            <div class=\"product_price\">\\n                \\n\\n\\n\\n\\n\\n\\n    \\n        <p class=\"price_color\">£54.23</p>\\n    \\n\\n<p class=\"instock availability\">\\n    <i class=\"icon-ok\"></i>\\n    \\n        In stock\\n    \\n</p>\\n\\n                \\n                    \\n\\n\\n\\n\\n\\n\\n    \\n    <form>\\n        <button type=\"submit\" class=\"btn btn-primary btn-block\" data-loading-text=\"Adding...\">Add to basket</button>\\n    </form>\\n\\n\\n                \\n            </div>\\n        \\n    </article>\\n\\n</li>\\n                    \\n                        <li class=\"col-xs-6 col-sm-4 col-md-3 col-lg-3\">\\n\\n\\n\\n\\n\\n\\n    <article class=\"product_pod\">\\n        \\n            <div class=\"image_container\">\\n                \\n                    \\n                    <a href=\"catalogue/the-requiem-red_995/index.html\"><img src=\"media/cache/68/33/68339b4c9bc034267e1da611ab3b34f8.jpg\" alt=\"The Requiem Red\" class=\"thumbnail\"></a>\\n                    \\n                \\n            </div>\\n        \\n\\n        \\n            \\n                <p class=\"star-rating One\">\\n                    <i class=\"icon-star\"></i>\\n                    <i class=\"icon-star\"></i>\\n                    <i class=\"icon-star\"></i>\\n                    <i class=\"icon-star\"></i>\\n                    <i class=\"icon-star\"></i>\\n                </p>\\n            \\n        \\n\\n        \\n            <h3><a href=\"catalogue/the-requiem-red_995/index.html\" title=\"The Requiem Red\">The Requiem Red</a></h3>\\n        \\n\\n        \\n            <div class=\"product_price\">\\n                \\n\\n\\n\\n\\n\\n\\n    \\n        <p class=\"price_color\">£22.65</p>\\n    \\n\\n<p class=\"instock availability\">\\n    <i class=\"icon-ok\"></i>\\n    \\n        In stock\\n    \\n</p>\\n\\n                \\n                    \\n\\n\\n\\n\\n\\n\\n    \\n    <form>\\n        <button type=\"submit\" class=\"btn btn-primary btn-block\" data-loading-text=\"Adding...\">Add to basket</button>\\n    </form>\\n\\n\\n                \\n            </div>\\n        \\n    </article>\\n\\n</li>\\n                    \\n                        <li class=\"col-xs-6 col-sm-4 col-md-3 col-lg-3\">\\n\\n\\n\\n\\n\\n\\n    <article class=\"product_pod\">\\n        \\n            <div class=\"image_container\">\\n                \\n                    \\n                    <a href=\"catalogue/the-dirty-little-secrets-of-getting-your-dream-job_994/index.html\"><img src=\"media/cache/92/27/92274a95b7c251fea59a2b8a78275ab4.jpg\" alt=\"The Dirty Little Secrets of Getting Your Dream Job\" class=\"thumbnail\"></a>\\n                    \\n                \\n            </div>\\n        \\n\\n        \\n            \\n                <p class=\"star-rating Four\">\\n                    <i class=\"icon-star\"></i>\\n                    <i class=\"icon-star\"></i>\\n                    <i class=\"icon-star\"></i>\\n                    <i class=\"icon-star\"></i>\\n                    <i class=\"icon-star\"></i>\\n                </p>\\n            \\n        \\n\\n        \\n            <h3><a href=\"catalogue/the-dirty-little-secrets-of-getting-your-dream-job_994/index.html\" title=\"The Dirty Little Secrets of Getting Your Dream Job\">The Dirty Little Secrets ...</a></h3>\\n        \\n\\n        \\n            <div class=\"product_price\">\\n                \\n\\n\\n\\n\\n\\n\\n    \\n        <p class=\"price_color\">£33.34</p>\\n    \\n\\n<p class=\"instock availability\">\\n    <i class=\"icon-ok\"></i>\\n    \\n        In stock\\n    \\n</p>\\n\\n                \\n                    \\n\\n\\n\\n\\n\\n\\n    \\n    <form>\\n        <button type=\"submit\" class=\"btn btn-primary btn-block\" data-loading-text=\"Adding...\">Add to basket</button>\\n    </form>\\n\\n\\n                \\n            </div>\\n        \\n    </article>\\n\\n</li>\\n                    \\n                        <li class=\"col-xs-6 col-sm-4 col-md-3 col-lg-3\">\\n\\n\\n\\n\\n\\n\\n    <article class=\"product_pod\">\\n        \\n            <div class=\"image_container\">\\n                \\n                    \\n                    <a href=\"catalogue/the-coming-woman-a-novel-based-on-the-life-of-the-infamous-feminist-victoria-woodhull_993/index.html\"><img src=\"media/cache/3d/54/3d54940e57e662c4dd1f3ff00c78cc64.jpg\" alt=\"The Coming Woman: A Novel Based on the Life of the Infamous Feminist, Victoria Woodhull\" class=\"thumbnail\"></a>\\n                    \\n                \\n            </div>\\n        \\n\\n        \\n            \\n                <p class=\"star-rating Three\">\\n                    <i class=\"icon-star\"></i>\\n                    <i class=\"icon-star\"></i>\\n                    <i class=\"icon-star\"></i>\\n                    <i class=\"icon-star\"></i>\\n                    <i class=\"icon-star\"></i>\\n                </p>\\n            \\n        \\n\\n        \\n            <h3><a href=\"catalogue/the-coming-woman-a-novel-based-on-the-life-of-the-infamous-feminist-victoria-woodhull_993/index.html\" title=\"The Coming Woman: A Novel Based on the Life of the Infamous Feminist, Victoria Woodhull\">The Coming Woman: A ...</a></h3>\\n        \\n\\n        \\n            <div class=\"product_price\">\\n                \\n\\n\\n\\n\\n\\n\\n    \\n        <p class=\"price_color\">£17.93</p>\\n    \\n\\n<p class=\"instock availability\">\\n    <i class=\"icon-ok\"></i>\\n    \\n        In stock\\n    \\n</p>\\n\\n                \\n                    \\n\\n\\n\\n\\n\\n\\n    \\n    <form>\\n        <button type=\"submit\" class=\"btn btn-primary btn-block\" data-loading-text=\"Adding...\">Add to basket</button>\\n    </form>\\n\\n\\n                \\n            </div>\\n        \\n    </article>\\n\\n</li>\\n                    \\n                        <li class=\"col-xs-6 col-sm-4 col-md-3 col-lg-3\">\\n\\n\\n\\n\\n\\n\\n    <article class=\"product_pod\">\\n        \\n            <div class=\"image_container\">\\n                \\n                    \\n                    <a href=\"catalogue/the-boys-in-the-boat-nine-americans-and-their-epic-quest-for-gold-at-the-1936-berlin-olympics_992/index.html\"><img src=\"media/cache/66/88/66883b91f6804b2323c8369331cb7dd1.jpg\" alt=\"The Boys in the Boat: Nine Americans and Their Epic Quest for Gold at the 1936 Berlin Olympics\" class=\"thumbnail\"></a>\\n                    \\n                \\n            </div>\\n        \\n\\n        \\n            \\n                <p class=\"star-rating Four\">\\n                    <i class=\"icon-star\"></i>\\n                    <i class=\"icon-star\"></i>\\n                    <i class=\"icon-star\"></i>\\n                    <i class=\"icon-star\"></i>\\n                    <i class=\"icon-star\"></i>\\n                </p>\\n            \\n        \\n\\n        \\n            <h3><a href=\"catalogue/the-boys-in-the-boat-nine-americans-and-their-epic-quest-for-gold-at-the-1936-berlin-olympics_992/index.html\" title=\"The Boys in the Boat: Nine Americans and Their Epic Quest for Gold at the 1936 Berlin Olympics\">The Boys in the ...</a></h3>\\n        \\n\\n        \\n            <div class=\"product_price\">\\n                \\n\\n\\n\\n\\n\\n\\n    \\n        <p class=\"price_color\">£22.60</p>\\n    \\n\\n<p class=\"instock availability\">\\n    <i class=\"icon-ok\"></i>\\n    \\n        In stock\\n    \\n</p>\\n\\n                \\n                    \\n\\n\\n\\n\\n\\n\\n    \\n    <form>\\n        <button type=\"submit\" class=\"btn btn-primary btn-block\" data-loading-text=\"Adding...\">Add to basket</button>\\n    </form>\\n\\n\\n                \\n            </div>\\n        \\n    </article>\\n\\n</li>\\n                    \\n                        <li class=\"col-xs-6 col-sm-4 col-md-3 col-lg-3\">\\n\\n\\n\\n\\n\\n\\n    <article class=\"product_pod\">\\n        \\n            <div class=\"image_container\">\\n                \\n                    \\n                    <a href=\"catalogue/the-black-maria_991/index.html\"><img src=\"media/cache/58/46/5846057e28022268153beff6d352b06c.jpg\" alt=\"The Black Maria\" class=\"thumbnail\"></a>\\n                    \\n                \\n            </div>\\n        \\n\\n        \\n            \\n                <p class=\"star-rating One\">\\n                    <i class=\"icon-star\"></i>\\n                    <i class=\"icon-star\"></i>\\n                    <i class=\"icon-star\"></i>\\n                    <i class=\"icon-star\"></i>\\n                    <i class=\"icon-star\"></i>\\n                </p>\\n            \\n        \\n\\n        \\n            <h3><a href=\"catalogue/the-black-maria_991/index.html\" title=\"The Black Maria\">The Black Maria</a></h3>\\n        \\n\\n        \\n            <div class=\"product_price\">\\n                \\n\\n\\n\\n\\n\\n\\n    \\n        <p class=\"price_color\">£52.15</p>\\n    \\n\\n<p class=\"instock availability\">\\n    <i class=\"icon-ok\"></i>\\n    \\n        In stock\\n    \\n</p>\\n\\n                \\n                    \\n\\n\\n\\n\\n\\n\\n    \\n    <form>\\n        <button type=\"submit\" class=\"btn btn-primary btn-block\" data-loading-text=\"Adding...\">Add to basket</button>\\n    </form>\\n\\n\\n                \\n            </div>\\n        \\n    </article>\\n\\n</li>\\n                    \\n                        <li class=\"col-xs-6 col-sm-4 col-md-3 col-lg-3\">\\n\\n\\n\\n\\n\\n\\n    <article class=\"product_pod\">\\n        \\n            <div class=\"image_container\">\\n                \\n                    \\n                    <a href=\"catalogue/starving-hearts-triangular-trade-trilogy-1_990/index.html\"><img src=\"media/cache/be/f4/bef44da28c98f905a3ebec0b87be8530.jpg\" alt=\"Starving Hearts (Triangular Trade Trilogy, #1)\" class=\"thumbnail\"></a>\\n                    \\n                \\n            </div>\\n        \\n\\n        \\n            \\n                <p class=\"star-rating Two\">\\n                    <i class=\"icon-star\"></i>\\n                    <i class=\"icon-star\"></i>\\n                    <i class=\"icon-star\"></i>\\n                    <i class=\"icon-star\"></i>\\n                    <i class=\"icon-star\"></i>\\n                </p>\\n            \\n        \\n\\n        \\n            <h3><a href=\"catalogue/starving-hearts-triangular-trade-trilogy-1_990/index.html\" title=\"Starving Hearts (Triangular Trade Trilogy, #1)\">Starving Hearts (Triangular Trade ...</a></h3>\\n        \\n\\n        \\n            <div class=\"product_price\">\\n                \\n\\n\\n\\n\\n\\n\\n    \\n        <p class=\"price_color\">£13.99</p>\\n    \\n\\n<p class=\"instock availability\">\\n    <i class=\"icon-ok\"></i>\\n    \\n        In stock\\n    \\n</p>\\n\\n                \\n                    \\n\\n\\n\\n\\n\\n\\n    \\n    <form>\\n        <button type=\"submit\" class=\"btn btn-primary btn-block\" data-loading-text=\"Adding...\">Add to basket</button>\\n    </form>\\n\\n\\n                \\n            </div>\\n        \\n    </article>\\n\\n</li>\\n                    \\n                        <li class=\"col-xs-6 col-sm-4 col-md-3 col-lg-3\">\\n\\n\\n\\n\\n\\n\\n    <article class=\"product_pod\">\\n        \\n            <div class=\"image_container\">\\n                \\n                    \\n                    <a href=\"catalogue/shakespeares-sonnets_989/index.html\"><img src=\"media/cache/10/48/1048f63d3b5061cd2f424d20b3f9b666.jpg\" alt=\"Shakespeare\\'s Sonnets\" class=\"thumbnail\"></a>\\n                    \\n                \\n            </div>\\n        \\n\\n        \\n            \\n                <p class=\"star-rating Four\">\\n                    <i class=\"icon-star\"></i>\\n                    <i class=\"icon-star\"></i>\\n                    <i class=\"icon-star\"></i>\\n                    <i class=\"icon-star\"></i>\\n                    <i class=\"icon-star\"></i>\\n                </p>\\n            \\n        \\n\\n        \\n            <h3><a href=\"catalogue/shakespeares-sonnets_989/index.html\" title=\"Shakespeare\\'s Sonnets\">Shakespeare\\'s Sonnets</a></h3>\\n        \\n\\n        \\n            <div class=\"product_price\">\\n                \\n\\n\\n\\n\\n\\n\\n    \\n        <p class=\"price_color\">£20.66</p>\\n    \\n\\n<p class=\"instock availability\">\\n    <i class=\"icon-ok\"></i>\\n    \\n        In stock\\n    \\n</p>\\n\\n                \\n                    \\n\\n\\n\\n\\n\\n\\n    \\n    <form>\\n        <button type=\"submit\" class=\"btn btn-primary btn-block\" data-loading-text=\"Adding...\">Add to basket</button>\\n    </form>\\n\\n\\n                \\n            </div>\\n        \\n    </article>\\n\\n</li>\\n                    \\n                        <li class=\"col-xs-6 col-sm-4 col-md-3 col-lg-3\">\\n\\n\\n\\n\\n\\n\\n    <article class=\"product_pod\">\\n        \\n            <div class=\"image_container\">\\n                \\n                    \\n                    <a href=\"catalogue/set-me-free_988/index.html\"><img src=\"media/cache/5b/88/5b88c52633f53cacf162c15f4f823153.jpg\" alt=\"Set Me Free\" class=\"thumbnail\"></a>\\n                    \\n                \\n            </div>\\n        \\n\\n        \\n            \\n                <p class=\"star-rating Five\">\\n                    <i class=\"icon-star\"></i>\\n                    <i class=\"icon-star\"></i>\\n                    <i class=\"icon-star\"></i>\\n                    <i class=\"icon-star\"></i>\\n                    <i class=\"icon-star\"></i>\\n                </p>\\n            \\n        \\n\\n        \\n            <h3><a href=\"catalogue/set-me-free_988/index.html\" title=\"Set Me Free\">Set Me Free</a></h3>\\n        \\n\\n        \\n            <div class=\"product_price\">\\n                \\n\\n\\n\\n\\n\\n\\n    \\n        <p class=\"price_color\">£17.46</p>\\n    \\n\\n<p class=\"instock availability\">\\n    <i class=\"icon-ok\"></i>\\n    \\n        In stock\\n    \\n</p>\\n\\n                \\n                    \\n\\n\\n\\n\\n\\n\\n    \\n    <form>\\n        <button type=\"submit\" class=\"btn btn-primary btn-block\" data-loading-text=\"Adding...\">Add to basket</button>\\n    </form>\\n\\n\\n                \\n            </div>\\n        \\n    </article>\\n\\n</li>\\n                    \\n                        <li class=\"col-xs-6 col-sm-4 col-md-3 col-lg-3\">\\n\\n\\n\\n\\n\\n\\n    <article class=\"product_pod\">\\n        \\n            <div class=\"image_container\">\\n                \\n                    \\n                    <a href=\"catalogue/scott-pilgrims-precious-little-life-scott-pilgrim-1_987/index.html\"><img src=\"media/cache/94/b1/94b1b8b244bce9677c2f29ccc890d4d2.jpg\" alt=\"Scott Pilgrim\\'s Precious Little Life (Scott Pilgrim #1)\" class=\"thumbnail\"></a>\\n                    \\n                \\n            </div>\\n        \\n\\n        \\n            \\n                <p class=\"star-rating Five\">\\n                    <i class=\"icon-star\"></i>\\n                    <i class=\"icon-star\"></i>\\n                    <i class=\"icon-star\"></i>\\n                    <i class=\"icon-star\"></i>\\n                    <i class=\"icon-star\"></i>\\n                </p>\\n            \\n        \\n\\n        \\n            <h3><a href=\"catalogue/scott-pilgrims-precious-little-life-scott-pilgrim-1_987/index.html\" title=\"Scott Pilgrim\\'s Precious Little Life (Scott Pilgrim #1)\">Scott Pilgrim\\'s Precious Little ...</a></h3>\\n        \\n\\n        \\n            <div class=\"product_price\">\\n                \\n\\n\\n\\n\\n\\n\\n    \\n        <p class=\"price_color\">£52.29</p>\\n    \\n\\n<p class=\"instock availability\">\\n    <i class=\"icon-ok\"></i>\\n    \\n        In stock\\n    \\n</p>\\n\\n                \\n                    \\n\\n\\n\\n\\n\\n\\n    \\n    <form>\\n        <button type=\"submit\" class=\"btn btn-primary btn-block\" data-loading-text=\"Adding...\">Add to basket</button>\\n    </form>\\n\\n\\n                \\n            </div>\\n        \\n    </article>\\n\\n</li>\\n                    \\n                        <li class=\"col-xs-6 col-sm-4 col-md-3 col-lg-3\">\\n\\n\\n\\n\\n\\n\\n    <article class=\"product_pod\">\\n        \\n            <div class=\"image_container\">\\n                \\n                    \\n                    <a href=\"catalogue/rip-it-up-and-start-again_986/index.html\"><img src=\"media/cache/81/c4/81c4a973364e17d01f217e1188253d5e.jpg\" alt=\"Rip it Up and Start Again\" class=\"thumbnail\"></a>\\n                    \\n                \\n            </div>\\n        \\n\\n        \\n            \\n                <p class=\"star-rating Five\">\\n                    <i class=\"icon-star\"></i>\\n                    <i class=\"icon-star\"></i>\\n                    <i class=\"icon-star\"></i>\\n                    <i class=\"icon-star\"></i>\\n                    <i class=\"icon-star\"></i>\\n                </p>\\n            \\n        \\n\\n        \\n            <h3><a href=\"catalogue/rip-it-up-and-start-again_986/index.html\" title=\"Rip it Up and Start Again\">Rip it Up and ...</a></h3>\\n        \\n\\n        \\n            <div class=\"product_price\">\\n                \\n\\n\\n\\n\\n\\n\\n    \\n        <p class=\"price_color\">£35.02</p>\\n    \\n\\n<p class=\"instock availability\">\\n    <i class=\"icon-ok\"></i>\\n    \\n        In stock\\n    \\n</p>\\n\\n                \\n                    \\n\\n\\n\\n\\n\\n\\n    \\n    <form>\\n        <button type=\"submit\" class=\"btn btn-primary btn-block\" data-loading-text=\"Adding...\">Add to basket</button>\\n    </form>\\n\\n\\n                \\n            </div>\\n        \\n    </article>\\n\\n</li>\\n                    \\n                        <li class=\"col-xs-6 col-sm-4 col-md-3 col-lg-3\">\\n\\n\\n\\n\\n\\n\\n    <article class=\"product_pod\">\\n        \\n            <div class=\"image_container\">\\n                \\n                    \\n                    <a href=\"catalogue/our-band-could-be-your-life-scenes-from-the-american-indie-underground-1981-1991_985/index.html\"><img src=\"media/cache/54/60/54607fe8945897cdcced0044103b10b6.jpg\" alt=\"Our Band Could Be Your Life: Scenes from the American Indie Underground, 1981-1991\" class=\"thumbnail\"></a>\\n                    \\n                \\n            </div>\\n        \\n\\n        \\n            \\n                <p class=\"star-rating Three\">\\n                    <i class=\"icon-star\"></i>\\n                    <i class=\"icon-star\"></i>\\n                    <i class=\"icon-star\"></i>\\n                    <i class=\"icon-star\"></i>\\n                    <i class=\"icon-star\"></i>\\n                </p>\\n            \\n        \\n\\n        \\n            <h3><a href=\"catalogue/our-band-could-be-your-life-scenes-from-the-american-indie-underground-1981-1991_985/index.html\" title=\"Our Band Could Be Your Life: Scenes from the American Indie Underground, 1981-1991\">Our Band Could Be ...</a></h3>\\n        \\n\\n        \\n            <div class=\"product_price\">\\n                \\n\\n\\n\\n\\n\\n\\n    \\n        <p class=\"price_color\">£57.25</p>\\n    \\n\\n<p class=\"instock availability\">\\n    <i class=\"icon-ok\"></i>\\n    \\n        In stock\\n    \\n</p>\\n\\n                \\n                    \\n\\n\\n\\n\\n\\n\\n    \\n    <form>\\n        <button type=\"submit\" class=\"btn btn-primary btn-block\" data-loading-text=\"Adding...\">Add to basket</button>\\n    </form>\\n\\n\\n                \\n            </div>\\n        \\n    </article>\\n\\n</li>\\n                    \\n                        <li class=\"col-xs-6 col-sm-4 col-md-3 col-lg-3\">\\n\\n\\n\\n\\n\\n\\n    <article class=\"product_pod\">\\n        \\n            <div class=\"image_container\">\\n                \\n                    \\n                    <a href=\"catalogue/olio_984/index.html\"><img src=\"media/cache/55/33/553310a7162dfbc2c6d19a84da0df9e1.jpg\" alt=\"Olio\" class=\"thumbnail\"></a>\\n                    \\n                \\n            </div>\\n        \\n\\n        \\n            \\n                <p class=\"star-rating One\">\\n                    <i class=\"icon-star\"></i>\\n                    <i class=\"icon-star\"></i>\\n                    <i class=\"icon-star\"></i>\\n                    <i class=\"icon-star\"></i>\\n                    <i class=\"icon-star\"></i>\\n                </p>\\n            \\n        \\n\\n        \\n            <h3><a href=\"catalogue/olio_984/index.html\" title=\"Olio\">Olio</a></h3>\\n        \\n\\n        \\n            <div class=\"product_price\">\\n                \\n\\n\\n\\n\\n\\n\\n    \\n        <p class=\"price_color\">£23.88</p>\\n    \\n\\n<p class=\"instock availability\">\\n    <i class=\"icon-ok\"></i>\\n    \\n        In stock\\n    \\n</p>\\n\\n                \\n                    \\n\\n\\n\\n\\n\\n\\n    \\n    <form>\\n        <button type=\"submit\" class=\"btn btn-primary btn-block\" data-loading-text=\"Adding...\">Add to basket</button>\\n    </form>\\n\\n\\n                \\n            </div>\\n        \\n    </article>\\n\\n</li>\\n                    \\n                        <li class=\"col-xs-6 col-sm-4 col-md-3 col-lg-3\">\\n\\n\\n\\n\\n\\n\\n    <article class=\"product_pod\">\\n        \\n            <div class=\"image_container\">\\n                \\n                    \\n                    <a href=\"catalogue/mesaerion-the-best-science-fiction-stories-1800-1849_983/index.html\"><img src=\"media/cache/09/a3/09a3aef48557576e1a85ba7efea8ecb7.jpg\" alt=\"Mesaerion: The Best Science Fiction Stories 1800-1849\" class=\"thumbnail\"></a>\\n                    \\n                \\n            </div>\\n        \\n\\n        \\n            \\n                <p class=\"star-rating One\">\\n                    <i class=\"icon-star\"></i>\\n                    <i class=\"icon-star\"></i>\\n                    <i class=\"icon-star\"></i>\\n                    <i class=\"icon-star\"></i>\\n                    <i class=\"icon-star\"></i>\\n                </p>\\n            \\n        \\n\\n        \\n            <h3><a href=\"catalogue/mesaerion-the-best-science-fiction-stories-1800-1849_983/index.html\" title=\"Mesaerion: The Best Science Fiction Stories 1800-1849\">Mesaerion: The Best Science ...</a></h3>\\n        \\n\\n        \\n            <div class=\"product_price\">\\n                \\n\\n\\n\\n\\n\\n\\n    \\n        <p class=\"price_color\">£37.59</p>\\n    \\n\\n<p class=\"instock availability\">\\n    <i class=\"icon-ok\"></i>\\n    \\n        In stock\\n    \\n</p>\\n\\n                \\n                    \\n\\n\\n\\n\\n\\n\\n    \\n    <form>\\n        <button type=\"submit\" class=\"btn btn-primary btn-block\" data-loading-text=\"Adding...\">Add to basket</button>\\n    </form>\\n\\n\\n                \\n            </div>\\n        \\n    </article>\\n\\n</li>\\n                    \\n                        <li class=\"col-xs-6 col-sm-4 col-md-3 col-lg-3\">\\n\\n\\n\\n\\n\\n\\n    <article class=\"product_pod\">\\n        \\n            <div class=\"image_container\">\\n                \\n                    \\n                    <a href=\"catalogue/libertarianism-for-beginners_982/index.html\"><img src=\"media/cache/0b/bc/0bbcd0a6f4bcd81ccb1049a52736406e.jpg\" alt=\"Libertarianism for Beginners\" class=\"thumbnail\"></a>\\n                    \\n                \\n            </div>\\n        \\n\\n        \\n            \\n                <p class=\"star-rating Two\">\\n                    <i class=\"icon-star\"></i>\\n                    <i class=\"icon-star\"></i>\\n                    <i class=\"icon-star\"></i>\\n                    <i class=\"icon-star\"></i>\\n                    <i class=\"icon-star\"></i>\\n                </p>\\n            \\n        \\n\\n        \\n            <h3><a href=\"catalogue/libertarianism-for-beginners_982/index.html\" title=\"Libertarianism for Beginners\">Libertarianism for Beginners</a></h3>\\n        \\n\\n        \\n            <div class=\"product_price\">\\n                \\n\\n\\n\\n\\n\\n\\n    \\n        <p class=\"price_color\">£51.33</p>\\n    \\n\\n<p class=\"instock availability\">\\n    <i class=\"icon-ok\"></i>\\n    \\n        In stock\\n    \\n</p>\\n\\n                \\n                    \\n\\n\\n\\n\\n\\n\\n    \\n    <form>\\n        <button type=\"submit\" class=\"btn btn-primary btn-block\" data-loading-text=\"Adding...\">Add to basket</button>\\n    </form>\\n\\n\\n                \\n            </div>\\n        \\n    </article>\\n\\n</li>\\n                    \\n                        <li class=\"col-xs-6 col-sm-4 col-md-3 col-lg-3\">\\n\\n\\n\\n\\n\\n\\n    <article class=\"product_pod\">\\n        \\n            <div class=\"image_container\">\\n                \\n                    \\n                    <a href=\"catalogue/its-only-the-himalayas_981/index.html\"><img src=\"media/cache/27/a5/27a53d0bb95bdd88288eaf66c9230d7e.jpg\" alt=\"It\\'s Only the Himalayas\" class=\"thumbnail\"></a>\\n                    \\n                \\n            </div>\\n        \\n\\n        \\n            \\n                <p class=\"star-rating Two\">\\n                    <i class=\"icon-star\"></i>\\n                    <i class=\"icon-star\"></i>\\n                    <i class=\"icon-star\"></i>\\n                    <i class=\"icon-star\"></i>\\n                    <i class=\"icon-star\"></i>\\n                </p>\\n            \\n        \\n\\n        \\n            <h3><a href=\"catalogue/its-only-the-himalayas_981/index.html\" title=\"It\\'s Only the Himalayas\">It\\'s Only the Himalayas</a></h3>\\n        \\n\\n        \\n            <div class=\"product_price\">\\n                \\n\\n\\n\\n\\n\\n\\n    \\n        <p class=\"price_color\">£45.17</p>\\n    \\n\\n<p class=\"instock availability\">\\n    <i class=\"icon-ok\"></i>\\n    \\n        In stock\\n    \\n</p>\\n\\n                \\n                    \\n\\n\\n\\n\\n\\n\\n    \\n    <form>\\n        <button type=\"submit\" class=\"btn btn-primary btn-block\" data-loading-text=\"Adding...\">Add to basket</button>\\n    </form>\\n\\n\\n                \\n            </div>\\n        \\n    </article>\\n\\n</li>\\n                    \\n                </ol>\\n                \\n\\n\\n\\n    <div>\\n        <ul class=\"pager\">\\n            \\n            <li class=\"current\">\\n            \\n                Page 1 of 50\\n            \\n            </li>\\n            \\n                <li class=\"next\"><a href=\"catalogue/page-2.html\">next</a></li>\\n            \\n        </ul>\\n    </div>\\n\\n\\n            </div>\\n        </section>\\n    \\n\\n\\n            </div>\\n\\n        </div><!-- /row -->\\n    </div><!-- /page_inner -->\\n</div><!-- /container-fluid -->\\n\\n\\n    \\n<footer class=\"footer container-fluid\">\\n    \\n        \\n    \\n</footer>\\n\\n\\n        \\n        \\n  \\n            <!-- jQuery -->\\n            <script src=\"http://ajax.googleapis.com/ajax/libs/jquery/1.9.1/jquery.min.js\"></script>\\n            <script>window.jQuery || document.write(\\'<script src=\"static/oscar/js/jquery/jquery-1.9.1.min.js\"><\\\\/script>\\')</script><script src=\"static/oscar/js/jquery/jquery-1.9.1.min.js\"></script>\\n        \\n  \\n\\n\\n        \\n        \\n    \\n        \\n    <!-- Twitter Bootstrap -->\\n    <script type=\"text/javascript\" src=\"static/oscar/js/bootstrap3/bootstrap.min.js\"></script>\\n    <!-- Oscar -->\\n    <script src=\"static/oscar/js/oscar/ui.js\" type=\"text/javascript\" charset=\"utf-8\"></script>\\n\\n    <script src=\"static/oscar/js/bootstrap-datetimepicker/bootstrap-datetimepicker.js\" type=\"text/javascript\" charset=\"utf-8\"></script>\\n    <script src=\"static/oscar/js/bootstrap-datetimepicker/locales/bootstrap-datetimepicker.all.js\" type=\"text/javascript\" charset=\"utf-8\"></script>\\n\\n\\n        \\n        \\n    \\n\\n    \\n\\n\\n        \\n        <script type=\"text/javascript\">\\n            $(function() {\\n                \\n    \\n    \\n    oscar.init();\\n\\n    oscar.search.init();\\n\\n            });\\n        </script>\\n\\n        \\n        <!-- Version: N/A -->\\n        \\n    \\n\\n</body></html>'"
      ]
     },
     "execution_count": 49,
     "metadata": {},
     "output_type": "execute_result"
    }
   ],
   "source": [
    "#Example 7\n",
    "ans = driver.find_element_by_xpath('//*')\n",
    "ans.get_attribute('outerHTML')"
   ]
  },
  {
   "cell_type": "code",
   "execution_count": 51,
   "id": "3380d982",
   "metadata": {},
   "outputs": [
    {
     "data": {
      "text/plain": [
       "'<div class=\"page_inner\">\\n            <div class=\"row\">\\n                <div class=\"col-sm-8 h1\"><a href=\"index.html\">Books to Scrape</a><small> We love being scraped!</small>\\n</div>\\n\\n                \\n            </div>\\n        </div>'"
      ]
     },
     "execution_count": 51,
     "metadata": {},
     "output_type": "execute_result"
    }
   ],
   "source": [
    "#Example 8\n",
    "ans = driver.find_element_by_xpath('//div[@*]')\n",
    "ans.get_attribute('outerHTML')"
   ]
  },
  {
   "cell_type": "code",
   "execution_count": 54,
   "id": "04404ac9",
   "metadata": {},
   "outputs": [
    {
     "ename": "NoSuchElementException",
     "evalue": "Message: no such element: Unable to locate element: {\"method\":\"xpath\",\"selector\":\"//div[@class = \"action\"]\"}\n  (Session info: chrome=91.0.4472.124)\n",
     "output_type": "error",
     "traceback": [
      "\u001b[1;31m---------------------------------------------------------------------------\u001b[0m",
      "\u001b[1;31mNoSuchElementException\u001b[0m                    Traceback (most recent call last)",
      "\u001b[1;32m<ipython-input-54-3af8e7ae7a9b>\u001b[0m in \u001b[0;36m<module>\u001b[1;34m\u001b[0m\n\u001b[0;32m      1\u001b[0m \u001b[1;31m#Example 9\u001b[0m\u001b[1;33m\u001b[0m\u001b[1;33m\u001b[0m\u001b[1;33m\u001b[0m\u001b[0m\n\u001b[0;32m      2\u001b[0m \u001b[1;31m#Multiple class    class = 'page-header action'\u001b[0m\u001b[1;33m\u001b[0m\u001b[1;33m\u001b[0m\u001b[1;33m\u001b[0m\u001b[0m\n\u001b[1;32m----> 3\u001b[1;33m \u001b[0mans\u001b[0m \u001b[1;33m=\u001b[0m \u001b[0mdriver\u001b[0m\u001b[1;33m.\u001b[0m\u001b[0mfind_element_by_xpath\u001b[0m\u001b[1;33m(\u001b[0m\u001b[1;34m'//div[@class = \"action\"]'\u001b[0m\u001b[1;33m)\u001b[0m\u001b[1;33m\u001b[0m\u001b[1;33m\u001b[0m\u001b[0m\n\u001b[0m\u001b[0;32m      4\u001b[0m \u001b[0mans\u001b[0m\u001b[1;33m.\u001b[0m\u001b[0mget_attribute\u001b[0m\u001b[1;33m(\u001b[0m\u001b[1;34m'outerHTML'\u001b[0m\u001b[1;33m)\u001b[0m\u001b[1;33m\u001b[0m\u001b[1;33m\u001b[0m\u001b[0m\n",
      "\u001b[1;32m~\\anaconda3\\lib\\site-packages\\selenium\\webdriver\\remote\\webdriver.py\u001b[0m in \u001b[0;36mfind_element_by_xpath\u001b[1;34m(self, xpath)\u001b[0m\n\u001b[0;32m    392\u001b[0m             \u001b[0melement\u001b[0m \u001b[1;33m=\u001b[0m \u001b[0mdriver\u001b[0m\u001b[1;33m.\u001b[0m\u001b[0mfind_element_by_xpath\u001b[0m\u001b[1;33m(\u001b[0m\u001b[1;34m'//div/td[1]'\u001b[0m\u001b[1;33m)\u001b[0m\u001b[1;33m\u001b[0m\u001b[1;33m\u001b[0m\u001b[0m\n\u001b[0;32m    393\u001b[0m         \"\"\"\n\u001b[1;32m--> 394\u001b[1;33m         \u001b[1;32mreturn\u001b[0m \u001b[0mself\u001b[0m\u001b[1;33m.\u001b[0m\u001b[0mfind_element\u001b[0m\u001b[1;33m(\u001b[0m\u001b[0mby\u001b[0m\u001b[1;33m=\u001b[0m\u001b[0mBy\u001b[0m\u001b[1;33m.\u001b[0m\u001b[0mXPATH\u001b[0m\u001b[1;33m,\u001b[0m \u001b[0mvalue\u001b[0m\u001b[1;33m=\u001b[0m\u001b[0mxpath\u001b[0m\u001b[1;33m)\u001b[0m\u001b[1;33m\u001b[0m\u001b[1;33m\u001b[0m\u001b[0m\n\u001b[0m\u001b[0;32m    395\u001b[0m \u001b[1;33m\u001b[0m\u001b[0m\n\u001b[0;32m    396\u001b[0m     \u001b[1;32mdef\u001b[0m \u001b[0mfind_elements_by_xpath\u001b[0m\u001b[1;33m(\u001b[0m\u001b[0mself\u001b[0m\u001b[1;33m,\u001b[0m \u001b[0mxpath\u001b[0m\u001b[1;33m)\u001b[0m\u001b[1;33m:\u001b[0m\u001b[1;33m\u001b[0m\u001b[1;33m\u001b[0m\u001b[0m\n",
      "\u001b[1;32m~\\anaconda3\\lib\\site-packages\\selenium\\webdriver\\remote\\webdriver.py\u001b[0m in \u001b[0;36mfind_element\u001b[1;34m(self, by, value)\u001b[0m\n\u001b[0;32m    974\u001b[0m                 \u001b[0mby\u001b[0m \u001b[1;33m=\u001b[0m \u001b[0mBy\u001b[0m\u001b[1;33m.\u001b[0m\u001b[0mCSS_SELECTOR\u001b[0m\u001b[1;33m\u001b[0m\u001b[1;33m\u001b[0m\u001b[0m\n\u001b[0;32m    975\u001b[0m                 \u001b[0mvalue\u001b[0m \u001b[1;33m=\u001b[0m \u001b[1;34m'[name=\"%s\"]'\u001b[0m \u001b[1;33m%\u001b[0m \u001b[0mvalue\u001b[0m\u001b[1;33m\u001b[0m\u001b[1;33m\u001b[0m\u001b[0m\n\u001b[1;32m--> 976\u001b[1;33m         return self.execute(Command.FIND_ELEMENT, {\n\u001b[0m\u001b[0;32m    977\u001b[0m             \u001b[1;34m'using'\u001b[0m\u001b[1;33m:\u001b[0m \u001b[0mby\u001b[0m\u001b[1;33m,\u001b[0m\u001b[1;33m\u001b[0m\u001b[1;33m\u001b[0m\u001b[0m\n\u001b[0;32m    978\u001b[0m             'value': value})['value']\n",
      "\u001b[1;32m~\\anaconda3\\lib\\site-packages\\selenium\\webdriver\\remote\\webdriver.py\u001b[0m in \u001b[0;36mexecute\u001b[1;34m(self, driver_command, params)\u001b[0m\n\u001b[0;32m    319\u001b[0m         \u001b[0mresponse\u001b[0m \u001b[1;33m=\u001b[0m \u001b[0mself\u001b[0m\u001b[1;33m.\u001b[0m\u001b[0mcommand_executor\u001b[0m\u001b[1;33m.\u001b[0m\u001b[0mexecute\u001b[0m\u001b[1;33m(\u001b[0m\u001b[0mdriver_command\u001b[0m\u001b[1;33m,\u001b[0m \u001b[0mparams\u001b[0m\u001b[1;33m)\u001b[0m\u001b[1;33m\u001b[0m\u001b[1;33m\u001b[0m\u001b[0m\n\u001b[0;32m    320\u001b[0m         \u001b[1;32mif\u001b[0m \u001b[0mresponse\u001b[0m\u001b[1;33m:\u001b[0m\u001b[1;33m\u001b[0m\u001b[1;33m\u001b[0m\u001b[0m\n\u001b[1;32m--> 321\u001b[1;33m             \u001b[0mself\u001b[0m\u001b[1;33m.\u001b[0m\u001b[0merror_handler\u001b[0m\u001b[1;33m.\u001b[0m\u001b[0mcheck_response\u001b[0m\u001b[1;33m(\u001b[0m\u001b[0mresponse\u001b[0m\u001b[1;33m)\u001b[0m\u001b[1;33m\u001b[0m\u001b[1;33m\u001b[0m\u001b[0m\n\u001b[0m\u001b[0;32m    322\u001b[0m             response['value'] = self._unwrap_value(\n\u001b[0;32m    323\u001b[0m                 response.get('value', None))\n",
      "\u001b[1;32m~\\anaconda3\\lib\\site-packages\\selenium\\webdriver\\remote\\errorhandler.py\u001b[0m in \u001b[0;36mcheck_response\u001b[1;34m(self, response)\u001b[0m\n\u001b[0;32m    240\u001b[0m                 \u001b[0malert_text\u001b[0m \u001b[1;33m=\u001b[0m \u001b[0mvalue\u001b[0m\u001b[1;33m[\u001b[0m\u001b[1;34m'alert'\u001b[0m\u001b[1;33m]\u001b[0m\u001b[1;33m.\u001b[0m\u001b[0mget\u001b[0m\u001b[1;33m(\u001b[0m\u001b[1;34m'text'\u001b[0m\u001b[1;33m)\u001b[0m\u001b[1;33m\u001b[0m\u001b[1;33m\u001b[0m\u001b[0m\n\u001b[0;32m    241\u001b[0m             \u001b[1;32mraise\u001b[0m \u001b[0mexception_class\u001b[0m\u001b[1;33m(\u001b[0m\u001b[0mmessage\u001b[0m\u001b[1;33m,\u001b[0m \u001b[0mscreen\u001b[0m\u001b[1;33m,\u001b[0m \u001b[0mstacktrace\u001b[0m\u001b[1;33m,\u001b[0m \u001b[0malert_text\u001b[0m\u001b[1;33m)\u001b[0m\u001b[1;33m\u001b[0m\u001b[1;33m\u001b[0m\u001b[0m\n\u001b[1;32m--> 242\u001b[1;33m         \u001b[1;32mraise\u001b[0m \u001b[0mexception_class\u001b[0m\u001b[1;33m(\u001b[0m\u001b[0mmessage\u001b[0m\u001b[1;33m,\u001b[0m \u001b[0mscreen\u001b[0m\u001b[1;33m,\u001b[0m \u001b[0mstacktrace\u001b[0m\u001b[1;33m)\u001b[0m\u001b[1;33m\u001b[0m\u001b[1;33m\u001b[0m\u001b[0m\n\u001b[0m\u001b[0;32m    243\u001b[0m \u001b[1;33m\u001b[0m\u001b[0m\n\u001b[0;32m    244\u001b[0m     \u001b[1;32mdef\u001b[0m \u001b[0m_value_or_default\u001b[0m\u001b[1;33m(\u001b[0m\u001b[0mself\u001b[0m\u001b[1;33m,\u001b[0m \u001b[0mobj\u001b[0m\u001b[1;33m,\u001b[0m \u001b[0mkey\u001b[0m\u001b[1;33m,\u001b[0m \u001b[0mdefault\u001b[0m\u001b[1;33m)\u001b[0m\u001b[1;33m:\u001b[0m\u001b[1;33m\u001b[0m\u001b[1;33m\u001b[0m\u001b[0m\n",
      "\u001b[1;31mNoSuchElementException\u001b[0m: Message: no such element: Unable to locate element: {\"method\":\"xpath\",\"selector\":\"//div[@class = \"action\"]\"}\n  (Session info: chrome=91.0.4472.124)\n"
     ]
    }
   ],
   "source": [
    "#Example 9\n",
    "#Multiple class    class = 'page-header action'\n",
    "ans = driver.find_element_by_xpath('//div[@class = \"action\"]')\n",
    "ans.get_attribute('outerHTML')"
   ]
  },
  {
   "cell_type": "code",
   "execution_count": 55,
   "id": "151ba3da",
   "metadata": {},
   "outputs": [
    {
     "data": {
      "text/plain": [
       "'<div class=\"page-header action\">\\n                    <h1>All products</h1>\\n                </div>'"
      ]
     },
     "execution_count": 55,
     "metadata": {},
     "output_type": "execute_result"
    }
   ],
   "source": [
    "#Example 9 (Actual way to find)\n",
    "#Multiple class    class = 'page-header action'\n",
    "ans = driver.find_element_by_xpath('//div[contains(@class , \"action\")]')\n",
    "ans.get_attribute('outerHTML')"
   ]
  },
  {
   "cell_type": "code",
   "execution_count": 59,
   "id": "29d49a5a",
   "metadata": {},
   "outputs": [
    {
     "data": {
      "text/plain": [
       "'<div class=\"page_inner\">\\n            <div class=\"row\">\\n                <div class=\"col-sm-8 h1\"><a href=\"index.html\">Books to Scrape</a><small> We love being scraped!</small>\\n</div>\\n\\n                \\n            </div>\\n        </div>'"
      ]
     },
     "execution_count": 59,
     "metadata": {},
     "output_type": "execute_result"
    }
   ],
   "source": [
    "#Example 10\n",
    "#Partial Search\n",
    "ans = driver.find_element_by_xpath('//div[starts-with(@class , \"pag\")]')\n",
    "ans.get_attribute('outerHTML')"
   ]
  },
  {
   "cell_type": "markdown",
   "id": "b5b3dc62",
   "metadata": {},
   "source": [
    "##### Predicates"
   ]
  },
  {
   "cell_type": "code",
   "execution_count": 61,
   "id": "8488c52f",
   "metadata": {},
   "outputs": [],
   "source": [
    "ans = driver.find_element_by_xpath('//ul[@class = \"nav nav-list\"]')\n",
    "#ans.get_attribute('outerHTML')"
   ]
  },
  {
   "cell_type": "code",
   "execution_count": 63,
   "id": "056f0806",
   "metadata": {},
   "outputs": [
    {
     "data": {
      "text/plain": [
       "'<li>\\n                        <a href=\"catalogue/category/books/travel_2/index.html\">\\n                            \\n                                Travel\\n                            \\n                        </a>\\n\\n                        </li>'"
      ]
     },
     "execution_count": 63,
     "metadata": {},
     "output_type": "execute_result"
    }
   ],
   "source": [
    "ans = driver.find_element_by_xpath('//ul[@class = \"nav nav-list\"]/li/ul/li')\n",
    "ans.get_attribute('outerHTML')"
   ]
  },
  {
   "cell_type": "code",
   "execution_count": 64,
   "id": "5f14151b",
   "metadata": {},
   "outputs": [
    {
     "data": {
      "text/plain": [
       "'<li>\\n                        <a href=\"catalogue/category/books/travel_2/index.html\">\\n                            \\n                                Travel\\n                            \\n                        </a>\\n\\n                        </li>'"
      ]
     },
     "execution_count": 64,
     "metadata": {},
     "output_type": "execute_result"
    }
   ],
   "source": [
    "ans = driver.find_element_by_xpath('//ul[@class = \"nav nav-list\"]/li/ul/li[1]')\n",
    "ans.get_attribute('outerHTML')"
   ]
  },
  {
   "cell_type": "code",
   "execution_count": 65,
   "id": "5f0e6d15",
   "metadata": {},
   "outputs": [
    {
     "data": {
      "text/plain": [
       "'<li>\\n                        <a href=\"catalogue/category/books/historical-fiction_4/index.html\">\\n                            \\n                                Historical Fiction\\n                            \\n                        </a>\\n\\n                        </li>'"
      ]
     },
     "execution_count": 65,
     "metadata": {},
     "output_type": "execute_result"
    }
   ],
   "source": [
    "ans = driver.find_element_by_xpath('//ul[@class = \"nav nav-list\"]/li/ul/li[3]')\n",
    "ans.get_attribute('outerHTML')"
   ]
  },
  {
   "cell_type": "code",
   "execution_count": 66,
   "id": "b432f22d",
   "metadata": {},
   "outputs": [
    {
     "data": {
      "text/plain": [
       "'<li>\\n                        <a href=\"catalogue/category/books/crime_51/index.html\">\\n                            \\n                                Crime\\n                            \\n                        </a>\\n\\n                        </li>'"
      ]
     },
     "execution_count": 66,
     "metadata": {},
     "output_type": "execute_result"
    }
   ],
   "source": [
    "ans = driver.find_element_by_xpath('//ul[@class = \"nav nav-list\"]/li/ul/li[last()]')\n",
    "ans.get_attribute('outerHTML')"
   ]
  },
  {
   "cell_type": "code",
   "execution_count": 67,
   "id": "d92295b8",
   "metadata": {},
   "outputs": [
    {
     "data": {
      "text/plain": [
       "'<li>\\n                        <a href=\"catalogue/category/books/erotica_50/index.html\">\\n                            \\n                                Erotica\\n                            \\n                        </a>\\n\\n                        </li>'"
      ]
     },
     "execution_count": 67,
     "metadata": {},
     "output_type": "execute_result"
    }
   ],
   "source": [
    "ans = driver.find_element_by_xpath('//ul[@class = \"nav nav-list\"]/li/ul/li[last()-1]')\n",
    "ans.get_attribute('outerHTML')"
   ]
  },
  {
   "cell_type": "code",
   "execution_count": 68,
   "id": "f427c019",
   "metadata": {},
   "outputs": [
    {
     "data": {
      "text/plain": [
       "'<li>\\n                        <a href=\"catalogue/category/books/travel_2/index.html\">\\n                            \\n                                Travel\\n                            \\n                        </a>\\n\\n                        </li>'"
      ]
     },
     "execution_count": 68,
     "metadata": {},
     "output_type": "execute_result"
    }
   ],
   "source": [
    "ans = driver.find_element_by_xpath('//ul[@class = \"nav nav-list\"]/li/ul/li[position()<3]')\n",
    "ans.get_attribute('outerHTML')"
   ]
  },
  {
   "cell_type": "code",
   "execution_count": 71,
   "id": "d385cb59",
   "metadata": {},
   "outputs": [
    {
     "data": {
      "text/plain": [
       "2"
      ]
     },
     "execution_count": 71,
     "metadata": {},
     "output_type": "execute_result"
    }
   ],
   "source": [
    "ans = driver.find_elements_by_xpath('//ul[@class = \"nav nav-list\"]/li/ul/li[position()<3]')\n",
    "len(ans)"
   ]
  },
  {
   "cell_type": "markdown",
   "id": "f18dc318",
   "metadata": {},
   "source": [
    "##### CSS Selector\n",
    "##### find_element_by_css_selector"
   ]
  },
  {
   "cell_type": "code",
   "execution_count": 72,
   "id": "1837a93b",
   "metadata": {},
   "outputs": [
    {
     "data": {
      "text/plain": [
       "<selenium.webdriver.remote.webelement.WebElement (session=\"2c5d6d5ae9962388dcdb72f63ce7e270\", element=\"761c631a-2d8a-404c-9320-cdc63c681ba5\")>"
      ]
     },
     "execution_count": 72,
     "metadata": {},
     "output_type": "execute_result"
    }
   ],
   "source": [
    "#Absolute Path\n",
    "ans = driver.find_element_by_css_selector('html head title')\n",
    "ans"
   ]
  },
  {
   "cell_type": "code",
   "execution_count": 73,
   "id": "ab188013",
   "metadata": {},
   "outputs": [
    {
     "data": {
      "text/plain": [
       "'<title>\\n    All products | Books to Scrape - Sandbox\\n</title>'"
      ]
     },
     "execution_count": 73,
     "metadata": {},
     "output_type": "execute_result"
    }
   ],
   "source": [
    "ans.get_attribute('outerHTML')"
   ]
  },
  {
   "cell_type": "code",
   "execution_count": 74,
   "id": "1ea595dd",
   "metadata": {},
   "outputs": [
    {
     "data": {
      "text/plain": [
       "'<div class=\"col-sm-8 h1\"><a href=\"index.html\">Books to Scrape</a><small> We love being scraped!</small>\\n</div>'"
      ]
     },
     "execution_count": 74,
     "metadata": {},
     "output_type": "execute_result"
    }
   ],
   "source": [
    "#Relative path\n",
    "ans = driver.find_element_by_css_selector('div div div')\n",
    "ans.get_attribute('outerHTML')"
   ]
  },
  {
   "cell_type": "code",
   "execution_count": 76,
   "id": "eedbb7bb",
   "metadata": {},
   "outputs": [
    {
     "data": {
      "text/plain": [
       "'<div class=\"page_inner\">\\n            <div class=\"row\">\\n                <div class=\"col-sm-8 h1\"><a href=\"index.html\">Books to Scrape</a><small> We love being scraped!</small>\\n</div>\\n\\n                \\n            </div>\\n        </div>'"
      ]
     },
     "execution_count": 76,
     "metadata": {},
     "output_type": "execute_result"
    }
   ],
   "source": [
    "#Relative path\n",
    "#Using class\n",
    "ans = driver.find_element_by_css_selector('div.page_inner')\n",
    "ans.get_attribute('outerHTML')"
   ]
  },
  {
   "cell_type": "code",
   "execution_count": 77,
   "id": "ac11a54a",
   "metadata": {},
   "outputs": [
    {
     "data": {
      "text/plain": [
       "'<li>\\n            <a href=\"index.html\">Home</a>\\n        </li>'"
      ]
     },
     "execution_count": 77,
     "metadata": {},
     "output_type": "execute_result"
    }
   ],
   "source": [
    "#Relative path\n",
    "#Using class\n",
    "ans = driver.find_element_by_css_selector('div.page_inner ul li')\n",
    "ans.get_attribute('outerHTML')"
   ]
  },
  {
   "cell_type": "code",
   "execution_count": 78,
   "id": "e6355607",
   "metadata": {},
   "outputs": [
    {
     "data": {
      "text/plain": [
       "'<li>\\n            <a href=\"index.html\">Home</a>\\n        </li>'"
      ]
     },
     "execution_count": 78,
     "metadata": {},
     "output_type": "execute_result"
    }
   ],
   "source": [
    "#Relative path\n",
    "#Using class\n",
    "ans = driver.find_element_by_css_selector('div.page_inner>ul>li')\n",
    "ans.get_attribute('outerHTML')"
   ]
  },
  {
   "cell_type": "code",
   "execution_count": null,
   "id": "ccdfc9b1",
   "metadata": {},
   "outputs": [],
   "source": []
  },
  {
   "cell_type": "markdown",
   "id": "7cfe83b3",
   "metadata": {},
   "source": [
    "#### Problem "
   ]
  },
  {
   "cell_type": "code",
   "execution_count": 1,
   "id": "16b27aa4",
   "metadata": {},
   "outputs": [
    {
     "data": {
      "text/plain": [
       "<selenium.webdriver.chrome.webdriver.WebDriver (session=\"844592b76b20ba91847c8ace91686a2f\")>"
      ]
     },
     "execution_count": 1,
     "metadata": {},
     "output_type": "execute_result"
    }
   ],
   "source": [
    "from selenium import webdriver\n",
    "path = 'D:\\Softwares\\chromedriver'\n",
    "driver = webdriver.Chrome(executable_path = path)\n",
    "driver"
   ]
  },
  {
   "cell_type": "code",
   "execution_count": 2,
   "id": "c236bfd9",
   "metadata": {},
   "outputs": [],
   "source": [
    "driver.get('https://www.nga.gov/collection/artists.html')"
   ]
  },
  {
   "cell_type": "code",
   "execution_count": 3,
   "id": "1df03964",
   "metadata": {},
   "outputs": [
    {
     "data": {
      "text/plain": [
       "'<li><div class=\"return-main\"><span class=\"category\">Artist</span><dl class=\"return-artist\"><dt class=\"title\"><a href=\"/content/ngaweb/collection/artist-info.17840.html\">A. B.</a></dt></dl></div></li>'"
      ]
     },
     "execution_count": 3,
     "metadata": {},
     "output_type": "execute_result"
    }
   ],
   "source": [
    "ans = driver.find_element_by_xpath('//ul[@id=\"returns\"]/li[5]')\n",
    "ans.get_attribute('outerHTML')"
   ]
  },
  {
   "cell_type": "code",
   "execution_count": 4,
   "id": "68a802c8",
   "metadata": {},
   "outputs": [
    {
     "data": {
      "text/plain": [
       "'<li><div class=\"return-main\"><span class=\"category\">Artist</span><dl class=\"return-artist\"><dt class=\"title\"><a href=\"/content/ngaweb/collection/artist-info.17840.html\">A. B.</a></dt></dl></div></li>'"
      ]
     },
     "execution_count": 4,
     "metadata": {},
     "output_type": "execute_result"
    }
   ],
   "source": [
    "ans = driver.find_element_by_xpath('//ul[@class=\"returns\"]/li[5]')\n",
    "ans.get_attribute('outerHTML')"
   ]
  },
  {
   "cell_type": "markdown",
   "id": "43fe814b",
   "metadata": {},
   "source": [
    "#### Problem"
   ]
  },
  {
   "cell_type": "code",
   "execution_count": 8,
   "id": "ffa04b72",
   "metadata": {},
   "outputs": [
    {
     "data": {
      "text/plain": [
       "'<a href=\"/content/ngaweb/collection/artist-info.49297.html\">107 Workshop</a>'"
      ]
     },
     "execution_count": 8,
     "metadata": {},
     "output_type": "execute_result"
    }
   ],
   "source": [
    "ans = driver.find_element_by_css_selector('dl dt a')\n",
    "ans.get_attribute('outerHTML')"
   ]
  },
  {
   "cell_type": "code",
   "execution_count": 9,
   "id": "98ae815f",
   "metadata": {},
   "outputs": [
    {
     "data": {
      "text/plain": [
       "'<a href=\"/content/ngaweb/collection/artist-info.49297.html\">107 Workshop</a>'"
      ]
     },
     "execution_count": 9,
     "metadata": {},
     "output_type": "execute_result"
    }
   ],
   "source": [
    "ans = driver.find_element_by_css_selector('dt.title a')\n",
    "ans.get_attribute('outerHTML')"
   ]
  },
  {
   "cell_type": "code",
   "execution_count": 14,
   "id": "e5da9228",
   "metadata": {},
   "outputs": [
    {
     "data": {
      "text/plain": [
       "'<a href=\"/content/ngaweb/collection/artist-info.49297.html\">107 Workshop</a>'"
      ]
     },
     "execution_count": 14,
     "metadata": {},
     "output_type": "execute_result"
    }
   ],
   "source": [
    "ans = driver.find_element_by_css_selector('dl.return-artist a')\n",
    "ans.get_attribute('outerHTML')"
   ]
  },
  {
   "cell_type": "code",
   "execution_count": 21,
   "id": "cc4268ac",
   "metadata": {},
   "outputs": [
    {
     "data": {
      "text/plain": [
       "'<a href=\"/content/ngaweb/collection/artist-info.49297.html\">107 Workshop</a>'"
      ]
     },
     "execution_count": 21,
     "metadata": {},
     "output_type": "execute_result"
    }
   ],
   "source": [
    "ans = driver.find_element_by_css_selector('dt.title a')\n",
    "ans.get_attribute('outerHTML')"
   ]
  },
  {
   "cell_type": "code",
   "execution_count": 22,
   "id": "292a1d88",
   "metadata": {},
   "outputs": [
    {
     "data": {
      "text/plain": [
       "'<a href=\"/content/ngaweb/collection/artist-info.49297.html\">107 Workshop</a>'"
      ]
     },
     "execution_count": 22,
     "metadata": {},
     "output_type": "execute_result"
    }
   ],
   "source": [
    "ans = driver.find_element_by_css_selector('dt.title>a')\n",
    "ans.get_attribute('outerHTML')"
   ]
  },
  {
   "cell_type": "code",
   "execution_count": 1,
   "id": "650a529c",
   "metadata": {},
   "outputs": [
    {
     "data": {
      "text/plain": [
       "<selenium.webdriver.chrome.webdriver.WebDriver (session=\"da264f556362e501c65d80f56e8dcdcf\")>"
      ]
     },
     "execution_count": 1,
     "metadata": {},
     "output_type": "execute_result"
    }
   ],
   "source": [
    "from selenium import webdriver\n",
    "path = 'D:\\Softwares\\chromedriver'\n",
    "driver = webdriver.Chrome(executable_path = path)\n",
    "driver"
   ]
  },
  {
   "cell_type": "code",
   "execution_count": 2,
   "id": "3cc1637e",
   "metadata": {},
   "outputs": [],
   "source": [
    "link = 'https://www.google.com/'\n",
    "driver.get(link)"
   ]
  },
  {
   "cell_type": "code",
   "execution_count": 3,
   "id": "05d1c82a",
   "metadata": {},
   "outputs": [
    {
     "data": {
      "text/plain": [
       "<selenium.webdriver.remote.webelement.WebElement (session=\"da264f556362e501c65d80f56e8dcdcf\", element=\"62c70624-eedf-4e6e-aebe-f38a14e9b942\")>"
      ]
     },
     "execution_count": 3,
     "metadata": {},
     "output_type": "execute_result"
    }
   ],
   "source": [
    "text_box = driver.find_element_by_name('q')\n",
    "text_box"
   ]
  },
  {
   "cell_type": "code",
   "execution_count": 4,
   "id": "f7f1437c",
   "metadata": {},
   "outputs": [],
   "source": [
    "text_box.send_keys('Who is prime minister of India')"
   ]
  },
  {
   "cell_type": "code",
   "execution_count": 5,
   "id": "39eec373",
   "metadata": {},
   "outputs": [],
   "source": [
    "text_box.submit()"
   ]
  },
  {
   "cell_type": "code",
   "execution_count": null,
   "id": "7411ab08",
   "metadata": {},
   "outputs": [],
   "source": []
  },
  {
   "cell_type": "code",
   "execution_count": 6,
   "id": "0db39df7",
   "metadata": {},
   "outputs": [],
   "source": [
    "link = 'https://www.google.com/maps'\n",
    "driver.get(link)"
   ]
  },
  {
   "cell_type": "code",
   "execution_count": 7,
   "id": "62591e07",
   "metadata": {},
   "outputs": [
    {
     "data": {
      "text/plain": [
       "<selenium.webdriver.remote.webelement.WebElement (session=\"da264f556362e501c65d80f56e8dcdcf\", element=\"26c4ecea-fc7c-4a2e-b983-edb564a879de\")>"
      ]
     },
     "execution_count": 7,
     "metadata": {},
     "output_type": "execute_result"
    }
   ],
   "source": [
    "text_box = driver.find_element_by_name('q')\n",
    "text_box"
   ]
  },
  {
   "cell_type": "code",
   "execution_count": 8,
   "id": "4c02bcc2",
   "metadata": {},
   "outputs": [],
   "source": [
    "text_box.send_keys('Maharishi Vidya Mandir Raigarh')"
   ]
  },
  {
   "cell_type": "code",
   "execution_count": 9,
   "id": "08880f59",
   "metadata": {},
   "outputs": [],
   "source": [
    "text_box.submit()"
   ]
  },
  {
   "cell_type": "markdown",
   "id": "6d4453c2",
   "metadata": {},
   "source": [
    "Nothing happens because submit button is not of type = 'submit'"
   ]
  },
  {
   "cell_type": "code",
   "execution_count": 10,
   "id": "355baf29",
   "metadata": {},
   "outputs": [
    {
     "data": {
      "text/plain": [
       "<selenium.webdriver.remote.webelement.WebElement (session=\"da264f556362e501c65d80f56e8dcdcf\", element=\"42205359-c77d-4f76-b989-57b4a7bf05f6\")>"
      ]
     },
     "execution_count": 10,
     "metadata": {},
     "output_type": "execute_result"
    }
   ],
   "source": [
    "button = driver.find_element_by_class_name('searchbox-searchbutton')\n",
    "button"
   ]
  },
  {
   "cell_type": "code",
   "execution_count": 11,
   "id": "efbb7446",
   "metadata": {},
   "outputs": [],
   "source": [
    "button.click()"
   ]
  },
  {
   "cell_type": "code",
   "execution_count": null,
   "id": "ff48fc6a",
   "metadata": {},
   "outputs": [],
   "source": []
  },
  {
   "cell_type": "code",
   "execution_count": 13,
   "id": "89f1f849",
   "metadata": {},
   "outputs": [],
   "source": [
    "driver.get('https://accounts.google.com/servicelogin')"
   ]
  },
  {
   "cell_type": "code",
   "execution_count": 26,
   "id": "db972cf9",
   "metadata": {},
   "outputs": [],
   "source": [
    "email = 'email_id@gmail.com'\n",
    "password = 'Password12345'"
   ]
  },
  {
   "cell_type": "code",
   "execution_count": 27,
   "id": "d62b1edd",
   "metadata": {},
   "outputs": [
    {
     "data": {
      "text/plain": [
       "<selenium.webdriver.remote.webelement.WebElement (session=\"da264f556362e501c65d80f56e8dcdcf\", element=\"4d9d3b2f-82c0-4b40-a442-864aefe92120\")>"
      ]
     },
     "execution_count": 27,
     "metadata": {},
     "output_type": "execute_result"
    }
   ],
   "source": [
    "e_btn = driver.find_element_by_name('identifier')\n",
    "e_btn"
   ]
  },
  {
   "cell_type": "code",
   "execution_count": 28,
   "id": "ec42b7e5",
   "metadata": {},
   "outputs": [],
   "source": [
    "e_btn.send_keys(email)"
   ]
  },
  {
   "cell_type": "code",
   "execution_count": 29,
   "id": "8e844710",
   "metadata": {},
   "outputs": [
    {
     "data": {
      "text/plain": [
       "<selenium.webdriver.remote.webelement.WebElement (session=\"da264f556362e501c65d80f56e8dcdcf\", element=\"933016af-1271-4eb9-af86-3b4387f2a7e3\")>"
      ]
     },
     "execution_count": 29,
     "metadata": {},
     "output_type": "execute_result"
    }
   ],
   "source": [
    "btn = driver.find_element_by_class_name('VfPpkd-vQzf8d')\n",
    "btn"
   ]
  },
  {
   "cell_type": "code",
   "execution_count": 30,
   "id": "6fc384ea",
   "metadata": {},
   "outputs": [],
   "source": [
    "btn.click()"
   ]
  },
  {
   "cell_type": "markdown",
   "id": "9a53330d",
   "metadata": {},
   "source": [
    "### Assignments"
   ]
  },
  {
   "cell_type": "markdown",
   "id": "31212ba3",
   "metadata": {},
   "source": [
    "#### Problem 1\n",
    "Find all the plans of Airtel in Delhi NCR"
   ]
  },
  {
   "cell_type": "code",
   "execution_count": 1,
   "id": "5849bfd5",
   "metadata": {},
   "outputs": [
    {
     "data": {
      "text/plain": [
       "<selenium.webdriver.chrome.webdriver.WebDriver (session=\"14608231b4cd73eb6b4791556965504a\")>"
      ]
     },
     "execution_count": 1,
     "metadata": {},
     "output_type": "execute_result"
    }
   ],
   "source": [
    "from selenium import webdriver\n",
    "path = 'D:\\Softwares\\chromedriver'\n",
    "driver = webdriver.Chrome(executable_path = path)\n",
    "driver"
   ]
  },
  {
   "cell_type": "code",
   "execution_count": 5,
   "id": "adce814c",
   "metadata": {},
   "outputs": [],
   "source": [
    "driver.get('https://paytm.com/recharge')"
   ]
  },
  {
   "cell_type": "code",
   "execution_count": 6,
   "id": "6697b0db",
   "metadata": {},
   "outputs": [],
   "source": [
    "oper = driver.find_element_by_xpath('//div[@class = \"_1exI\"]/input')\n",
    "oper.send_keys('Airtel')"
   ]
  },
  {
   "cell_type": "code",
   "execution_count": 8,
   "id": "7d333d8c",
   "metadata": {},
   "outputs": [],
   "source": [
    "oper = driver.find_element_by_xpath('//div[@class = \"dfy8\"]//li[3]//input')\n",
    "oper.send_keys('Delhi NCR')"
   ]
  },
  {
   "cell_type": "code",
   "execution_count": 16,
   "id": "53ea6feb",
   "metadata": {},
   "outputs": [
    {
     "data": {
      "text/plain": [
       "[<selenium.webdriver.remote.webelement.WebElement (session=\"14608231b4cd73eb6b4791556965504a\", element=\"6bda1567-1b38-4cf9-9712-f38894500a5c\")>,\n",
       " <selenium.webdriver.remote.webelement.WebElement (session=\"14608231b4cd73eb6b4791556965504a\", element=\"a9751e3c-5b5f-47d1-a50e-c3a7d531118b\")>,\n",
       " <selenium.webdriver.remote.webelement.WebElement (session=\"14608231b4cd73eb6b4791556965504a\", element=\"8a1a23d4-0c79-431c-b176-7c68070aed13\")>,\n",
       " <selenium.webdriver.remote.webelement.WebElement (session=\"14608231b4cd73eb6b4791556965504a\", element=\"1ac93d0e-87f4-470c-b358-d26d7316463b\")>,\n",
       " <selenium.webdriver.remote.webelement.WebElement (session=\"14608231b4cd73eb6b4791556965504a\", element=\"52b3f7cf-1a86-4698-acbe-135cb0df0f8c\")>,\n",
       " <selenium.webdriver.remote.webelement.WebElement (session=\"14608231b4cd73eb6b4791556965504a\", element=\"fb473b44-e9fa-4b99-93ca-8b3aa0acc6e5\")>]"
      ]
     },
     "execution_count": 16,
     "metadata": {},
     "output_type": "execute_result"
    }
   ],
   "source": [
    "cate = driver.find_elements_by_xpath('//div[contains (@class , \"_3HKw\")]')\n",
    "cate"
   ]
  },
  {
   "cell_type": "code",
   "execution_count": 17,
   "id": "c61b3748",
   "metadata": {},
   "outputs": [
    {
     "name": "stdout",
     "output_type": "stream",
     "text": [
      "Popular\n",
      "Rs. 149\n",
      "Rs. 49\n",
      "Rs. 249\n",
      "Rs. 399\n",
      "Rs. 598\n",
      "Rs. 48\n",
      "Rs. 98\n",
      "Rs. 10\n",
      "Rs. 20\n",
      "Rs. 248\n",
      "Rs. 299\n",
      "\n",
      "Validity\n",
      "Rs. 149\n",
      "Rs. 49\n",
      "Rs. 249\n",
      "Rs. 399\n",
      "Rs. 598\n",
      "Rs. 48\n",
      "Rs. 98\n",
      "Rs. 10\n",
      "Rs. 20\n",
      "Rs. 248\n",
      "Rs. 299\n",
      "\n",
      "Cricket Plans\n",
      "Rs. 149\n",
      "Rs. 49\n",
      "Rs. 249\n",
      "Rs. 399\n",
      "Rs. 598\n",
      "Rs. 48\n",
      "Rs. 98\n",
      "Rs. 10\n",
      "Rs. 20\n",
      "Rs. 248\n",
      "Rs. 299\n",
      "\n",
      "Data Add On\n",
      "Rs. 149\n",
      "Rs. 49\n",
      "Rs. 249\n",
      "Rs. 399\n",
      "Rs. 598\n",
      "Rs. 48\n",
      "Rs. 98\n",
      "Rs. 10\n",
      "Rs. 20\n",
      "Rs. 248\n",
      "Rs. 299\n",
      "\n",
      "Top Up\n",
      "Rs. 149\n",
      "Rs. 49\n",
      "Rs. 249\n",
      "Rs. 399\n",
      "Rs. 598\n",
      "Rs. 48\n",
      "Rs. 98\n",
      "Rs. 10\n",
      "Rs. 20\n",
      "Rs. 248\n",
      "Rs. 299\n",
      "\n",
      "Roaming\n",
      "Rs. 149\n",
      "Rs. 49\n",
      "Rs. 249\n",
      "Rs. 399\n",
      "Rs. 598\n",
      "Rs. 48\n",
      "Rs. 98\n",
      "Rs. 10\n",
      "Rs. 20\n",
      "Rs. 248\n",
      "Rs. 299\n",
      "\n"
     ]
    }
   ],
   "source": [
    "for i in cate:\n",
    "    print(i.text)\n",
    "    price = driver.find_elements_by_xpath('//button[contains (@class , \"_3vjB\")]')\n",
    "    for j in price:\n",
    "        print(j.text)\n",
    "    print()"
   ]
  },
  {
   "cell_type": "markdown",
   "id": "2ece34cb",
   "metadata": {},
   "source": [
    "#### Problem 2\n",
    "Search iphone and print the price of 1st four results"
   ]
  },
  {
   "cell_type": "code",
   "execution_count": 18,
   "id": "ebfc49d7",
   "metadata": {},
   "outputs": [],
   "source": [
    "link = 'https://paytm.com/'\n",
    "driver.get(link)"
   ]
  },
  {
   "cell_type": "code",
   "execution_count": 26,
   "id": "eeb16a35",
   "metadata": {},
   "outputs": [
    {
     "data": {
      "text/plain": [
       "<selenium.webdriver.remote.webelement.WebElement (session=\"14608231b4cd73eb6b4791556965504a\", element=\"02acdda5-cbe7-4921-b8d5-31940e05449b\")>"
      ]
     },
     "execution_count": 26,
     "metadata": {},
     "output_type": "execute_result"
    }
   ],
   "source": [
    "box = driver.find_element_by_xpath('//div[contains (@class , \"_3HxD\")]/input')\n",
    "box"
   ]
  },
  {
   "cell_type": "code",
   "execution_count": 30,
   "id": "5656dec6",
   "metadata": {},
   "outputs": [],
   "source": [
    "box.clear()\n",
    "box.send_keys('iphone \\n')"
   ]
  },
  {
   "cell_type": "code",
   "execution_count": 34,
   "id": "aa4f34fc",
   "metadata": {},
   "outputs": [
    {
     "data": {
      "text/plain": [
       "10"
      ]
     },
     "execution_count": 34,
     "metadata": {},
     "output_type": "execute_result"
    }
   ],
   "source": [
    "phones = driver.find_elements_by_class_name('_1kMS')\n",
    "len(phones)"
   ]
  },
  {
   "cell_type": "code",
   "execution_count": 37,
   "id": "b5e4d4c6",
   "metadata": {},
   "outputs": [
    {
     "name": "stdout",
     "output_type": "stream",
     "text": [
      "Rs 139900\n",
      "Rs 59900\n",
      "Rs 54900\n",
      "Rs 54900\n"
     ]
    }
   ],
   "source": [
    "for i in range(4):\n",
    "    print(phones[i].text)"
   ]
  },
  {
   "cell_type": "markdown",
   "id": "62a87291",
   "metadata": {},
   "source": [
    "#### Problem 3\n",
    "List of trains"
   ]
  },
  {
   "cell_type": "code",
   "execution_count": 58,
   "id": "41205726",
   "metadata": {},
   "outputs": [],
   "source": [
    "link = 'https://paytm.com/'\n",
    "driver.get(link)"
   ]
  },
  {
   "cell_type": "code",
   "execution_count": 59,
   "id": "a2736e01",
   "metadata": {},
   "outputs": [
    {
     "data": {
      "text/plain": [
       "<selenium.webdriver.remote.webelement.WebElement (session=\"14608231b4cd73eb6b4791556965504a\", element=\"355ccf41-e4f2-4f31-aa8f-9f82eb9edaed\")>"
      ]
     },
     "execution_count": 59,
     "metadata": {},
     "output_type": "execute_result"
    }
   ],
   "source": [
    "train = driver.find_element_by_xpath('//a[@title = \"Train\"]')\n",
    "train"
   ]
  },
  {
   "cell_type": "code",
   "execution_count": 60,
   "id": "fed937cc",
   "metadata": {},
   "outputs": [],
   "source": [
    "train.click()"
   ]
  },
  {
   "cell_type": "code",
   "execution_count": 61,
   "id": "110b7c53",
   "metadata": {},
   "outputs": [
    {
     "data": {
      "text/plain": [
       "<selenium.webdriver.remote.webelement.WebElement (session=\"14608231b4cd73eb6b4791556965504a\", element=\"cfbd31d6-1800-47ba-90ab-c56629340354\")>"
      ]
     },
     "execution_count": 61,
     "metadata": {},
     "output_type": "execute_result"
    }
   ],
   "source": [
    "tb1 = driver.find_element_by_xpath('//div[@data-reactid = \"170\"]//input')\n",
    "tb1"
   ]
  },
  {
   "cell_type": "code",
   "execution_count": 62,
   "id": "0d9dfb17",
   "metadata": {},
   "outputs": [],
   "source": [
    "tb1.send_keys('Delhi- All Stations')"
   ]
  },
  {
   "cell_type": "code",
   "execution_count": 63,
   "id": "f117b1fe",
   "metadata": {},
   "outputs": [
    {
     "data": {
      "text/plain": [
       "<selenium.webdriver.remote.webelement.WebElement (session=\"14608231b4cd73eb6b4791556965504a\", element=\"d97732b2-e6a7-4b02-ba64-03752c8b5749\")>"
      ]
     },
     "execution_count": 63,
     "metadata": {},
     "output_type": "execute_result"
    }
   ],
   "source": [
    "tb2 = driver.find_element_by_xpath('//div[@data-reactid = \"186\"]//input')\n",
    "tb2"
   ]
  },
  {
   "cell_type": "code",
   "execution_count": 64,
   "id": "55ab7fa6",
   "metadata": {},
   "outputs": [],
   "source": [
    "tb2.send_keys('ASR - Amritsar Jn')"
   ]
  },
  {
   "cell_type": "code",
   "execution_count": 65,
   "id": "5ad7058b",
   "metadata": {},
   "outputs": [],
   "source": [
    "driver.find_element_by_xpath('//div[@data-reactid = \"210\"]').click()"
   ]
  },
  {
   "cell_type": "code",
   "execution_count": 67,
   "id": "8e3671f7",
   "metadata": {},
   "outputs": [],
   "source": [
    "driver.find_element_by_xpath('//button[@data-reactid = \"215\"]').click()"
   ]
  },
  {
   "cell_type": "markdown",
   "id": "899e5404",
   "metadata": {},
   "source": [
    "Now asking for log in "
   ]
  },
  {
   "cell_type": "markdown",
   "id": "0784c9b4",
   "metadata": {},
   "source": [
    "#### Problem 4\n",
    "Find Accuracy in BST"
   ]
  },
  {
   "cell_type": "code",
   "execution_count": 136,
   "id": "1a90af0c",
   "metadata": {},
   "outputs": [],
   "source": [
    "link = 'https://practice.geeksforgeeks.org/'\n",
    "driver.get(link)"
   ]
  },
  {
   "cell_type": "code",
   "execution_count": 146,
   "id": "cc1e9830",
   "metadata": {},
   "outputs": [
    {
     "name": "stdout",
     "output_type": "stream",
     "text": [
      "Minimum element in BST ---> 62.66\n",
      "Normal BST to Balanced BST ---> 61.67\n",
      "Construct BST from Postorder ---> 57.08\n",
      "Sum of leaf nodes in BST ---> 56.54\n",
      "Search a node in BST ---> 55.04\n",
      "Preorder to Postorder ---> 54.06\n",
      "Brothers From Different Roots ---> 51.82\n",
      "Count BST nodes that lie in a given range ---> 50.5\n",
      "Lowest Common Ancestor in a BST ---> 50.22\n",
      "Add all greater values to every node in a BST ---> 50\n",
      "Binary Tree to BST ---> 50\n",
      "Is Binary Tree Heap ---> 50\n",
      "Merge two BST 's ---> 50\n",
      "Fixing Two nodes of a BST ---> 50\n",
      "Find the Closest Element in BST ---> 49.94\n",
      "Find Common Nodes in two BSTs ---> 49.82\n",
      "Print BST elements in given range ---> 49.48\n",
      "k-th smallest element in BST ---> 49.44\n",
      "Delete nodes greater than k ---> 49.43\n",
      "Pairs violating BST property ---> 49.1\n",
      "Array to BST ---> 48.95\n",
      "Find a pair with given target in BST ---> 47.17\n",
      "Predecessor and Successor ---> 46.01\n",
      "Unique BST's ---> 44.17\n",
      "Median of BST ---> 43.23\n",
      "Kth largest element in BST ---> 42.26\n",
      "Closest Neighbor in BST ---> 40.04\n",
      "Inorder Successor in BST ---> 39.66\n",
      "Preorder Traversal and BST ---> 38.46\n",
      "Check whether BST contains Dead End ---> 38.09\n",
      "Change of Key in BST ---> 37.02\n",
      "AVL Tree Insertion ---> 35.15\n",
      "Delete a node from BST ---> 34.76\n",
      "pth common ancestor in BST ---> 34.63\n",
      "Insert a node in a BST ---> 32.7\n",
      "Top View of Binary Tree ---> 32.3\n",
      "Largest BST ---> 30.88\n",
      "Does array represent Heap ---> 28.97\n",
      "Check for BST ---> 21.58\n",
      "Optimal binary search tree ---> 20\n"
     ]
    }
   ],
   "source": [
    "import time\n",
    "from selenium import webdriver\n",
    "import re\n",
    "from bs4 import BeautifulSoup\n",
    "driver=webdriver.Chrome('D:\\Softwares\\chromedriver')\n",
    "driver.get('https://practice.geeksforgeeks.org/')\n",
    "time.sleep(3)\n",
    "driver.find_element_by_partial_link_text('Got it!').click()\n",
    "time.sleep(2)\n",
    "\n",
    "driver.find_element_by_xpath('//img[@alt=\"BST\"]').click()\n",
    "time.sleep(2)\n",
    "names=[]\n",
    "accuracy=[]\n",
    "for i in driver.find_elements_by_xpath('//div[@id=\"problemFeed\"]/div/div/div/span'):\n",
    "    names.append(i.get_attribute('innerHTML'))\n",
    "for i in driver.find_elements_by_xpath('//div[@id=\"problemFeed\"]/div/div/div/div/div[3]/div/div'):\n",
    "    accuracy.append(i.get_attribute('aria-valuenow'))\n",
    "for i in range(len(names)):\n",
    "    print(names[i], '--->', accuracy[i])"
   ]
  },
  {
   "cell_type": "markdown",
   "id": "c0f728c3",
   "metadata": {},
   "source": [
    "#### Problem 5"
   ]
  },
  {
   "cell_type": "code",
   "execution_count": 192,
   "id": "427fdc90",
   "metadata": {},
   "outputs": [
    {
     "name": "stdout",
     "output_type": "stream",
     "text": [
      "Array :\n",
      "\t Largest Element in Array\n",
      "\t Game with nos\n",
      "\t C++ Arrays (Sum of array) | Set 1\n",
      "\t Play With OR\n",
      "\t C++ Array (print an element) | Set 2\n",
      "\t Java 1-d and 2-d Array\n",
      "\t Cyclically rotate an array by one\n",
      "\t Find minimum and maximum element in an array\n",
      "\t Wave Array\n",
      "\t Ishaan Loves Chocolates\n",
      "\t Display longest name\n",
      "\t Multiply left and right array sum.\n",
      "\t Sum of Array Elements\n",
      "\t Rotate Array\n",
      "\t Sum of Array\n",
      "\t Form a number divisible by 3 using array digits\n",
      "\t Nuts and Bolts Problem\n",
      "\t Product of maximum in first array and minimum in second\n",
      "\t Count of smaller elements\n",
      "\t Balanced Array\n",
      "\t Print Elements of Array\n",
      "\t Minimum number to form the sum even\n",
      "\t ArrayList Operation\n",
      "\t Maximum in Struct Array\n",
      "\t Segregate 0s and 1s\n",
      "\t Rearrange an array with O(1) extra space\n",
      "\t Fighting the darkness\n",
      "\t Value equal to index value\n",
      "\t Count the Zeros\n",
      "\t Operations on ArrayList\n",
      "\t k largest elements\n",
      "\t Find Transition Point\n",
      "\t Bitonic Point\n",
      "\t Matrix Interchange\n",
      "\t Number of occurrence\n",
      "\t Nearly Sorted Algorithm\n",
      "\t Play with an array\n",
      "\t Swap kth elements\n",
      "\t Matrix Interchange - Java\n",
      "\t Need Some Change\n",
      "Linked List :\n",
      "\t QuickSort on Doubly Linked List\n",
      "\t Count nodes of linked list\n",
      "\t Delete without head pointer\n",
      "\t Quick Sort on Linked List\n",
      "\t Merge Sort on Doubly Linked List\n",
      "\t Linked List Matrix\n",
      "\t Count Pairs whose sum is equal to X\n",
      "\t Linked List Length Even or Odd?\n",
      "\t Occurence of an integer in a Linked List\n",
      "\t Binary Tree to CDLL\n",
      "\t Rotate doubly Linked List\n",
      "\t Merge Sort for Linked List\n",
      "\t Add two numbers represented by Linked List\n",
      "\t Delete Alternate Nodes\n",
      "\t Absolute List Sorting\n",
      "\t Reverse a Doubly Linked List\n",
      "\t Identical Linked Lists\n",
      "\t Add 1 to a number represented as linked list\n",
      "\t linked list of strings forms a palindrome\n",
      "\t Merge 2 sorted linked list in reverse order\n",
      "\t Split a Circular Linked List into two halves\n",
      "\t Find the Sum of Last N nodes of the Linked List\n",
      "\t Check If Circular Linked List\n",
      "\t Compare two linked lists\n",
      "\t Rearrange linked list in-place\n",
      "\t Deletion and Reverse in Linked List\n",
      "\t Union of Two Linked Lists\n",
      "\t Leaves to DLL\n",
      "\t Delete Middle of Linked List\n",
      "\t Polynomial Addition\n",
      "\t Implement Stack using Linked List\n",
      "\t Reorder List\n",
      "\t Clone a linked list with next and random pointer\n",
      "\t Intersection Point in Y Shapped Linked Lists\n",
      "\t Linked List in Zig-Zag fashion\n",
      "\t Multiply two polynomials II\n",
      "\t Given a linked list of 0s, 1s and 2s, sort it.\n",
      "\t Merge two sorted linked lists\n",
      "\t Remove duplicates from an unsorted linked list\n",
      "\t Rearrange a linked list\n"
     ]
    }
   ],
   "source": [
    "import time\n",
    "\n",
    "driver.get('https://practice.geeksforgeeks.org/')\n",
    "time.sleep(2)\n",
    "\n",
    "links=[]\n",
    "for i in driver.find_elements_by_xpath('//div[@class=\"container\"]/div[2]/div[2]/div/a')[:2]:\n",
    "    links.append([str(i.get_attribute('href')), i.find_element_by_tag_name('span').get_attribute('innerHTML')])\n",
    "for i in links:\n",
    "    print(i[1], \":\")\n",
    "    driver.get(i[0])\n",
    "    time.sleep(5)\n",
    "    for k in (driver.find_elements_by_xpath('//div[@class=\"panel-body\"]/span')):\n",
    "        #print('Avinash')\n",
    "        print('\\t', k.text)\n",
    "    driver.back()"
   ]
  },
  {
   "cell_type": "markdown",
   "id": "8d1819dd",
   "metadata": {},
   "source": [
    "#### Problem 6\n",
    "Scrape Coding Ninjas instagram handle and print content of 1st five posts"
   ]
  },
  {
   "cell_type": "code",
   "execution_count": 1,
   "id": "3225d2c4",
   "metadata": {},
   "outputs": [
    {
     "data": {
      "text/plain": [
       "<selenium.webdriver.chrome.webdriver.WebDriver (session=\"900c866ee2baa309c4daaafa48431f35\")>"
      ]
     },
     "execution_count": 1,
     "metadata": {},
     "output_type": "execute_result"
    }
   ],
   "source": [
    "from selenium import webdriver\n",
    "path = 'D:\\Softwares\\chromedriver'\n",
    "driver = webdriver.Chrome(executable_path = path)\n",
    "driver"
   ]
  },
  {
   "cell_type": "code",
   "execution_count": 23,
   "id": "aac92331",
   "metadata": {},
   "outputs": [],
   "source": [
    "driver.get('https://www.instagram.com/coding.ninjas/')"
   ]
  },
  {
   "cell_type": "code",
   "execution_count": 24,
   "id": "f26d6d7c",
   "metadata": {},
   "outputs": [],
   "source": [
    "listt = driver.find_elements_by_xpath('//div[contains(@class , \"_bz0w\")]/a')[:5]\n",
    "link = []\n",
    "for i in listt:\n",
    "    link.append(i.get_attribute('href'))"
   ]
  },
  {
   "cell_type": "code",
   "execution_count": 25,
   "id": "1fff9430",
   "metadata": {},
   "outputs": [
    {
     "name": "stdout",
     "output_type": "stream",
     "text": [
      "While we understand the importance of a degree, the dearth of skills among Indian techies can’t be overlooked. Coding Ninjas not only takes care of your certification but ensures that you don’t lack behind when it comes to upskilling yourself and becoming job ready.\n",
      "#codingskills #programming #CodingNinjas\n",
      "\n",
      "STUDENTS YOU MEET IN HOSTEL LIFE\n",
      "\n",
      "Let “Gyaani”, “Fattu” and “Rattu” walk you through the different types of students you get to see during your hostel life and how a student can take their programming career to the next level by enrolling with Coding Ninjas - India’s most loved ed-tech platform for coding!\n",
      "#ProgrammersLife #HostelLife #CodingNinjas\n",
      "\n",
      "We can’t keep calm because this will be an injustice to the developer community! If you are a coder and love flaunting your projects, then #GitHub is the space to be!\n",
      "#interviewmemes #ProgrammersLife #CodingNinjas\n",
      "\n",
      "Learning coding isn’t rocket science, but surely securing a job in your dream company is.\n",
      "If Prafull can do it, so can you with your hard work and practice👇🏻\n",
      "#CodeStudio #CodingNinjas\n",
      "\n",
      "Think you can solve this question mostly asked in leading Product based companies?\n",
      "Comment your answers and let’s see how many get it right👇🏻\n",
      "#CodingNinjas #CNChallenge #codingproblems\n",
      "\n"
     ]
    }
   ],
   "source": [
    "for i in link:\n",
    "    driver.get(i)\n",
    "    hey = driver.find_element_by_xpath('//div[contains(@class , \"X7jCj\")]/div/span')\n",
    "    print(hey.text)\n",
    "    print()"
   ]
  }
 ],
 "metadata": {
  "kernelspec": {
   "display_name": "Python 3",
   "language": "python",
   "name": "python3"
  },
  "language_info": {
   "codemirror_mode": {
    "name": "ipython",
    "version": 3
   },
   "file_extension": ".py",
   "mimetype": "text/x-python",
   "name": "python",
   "nbconvert_exporter": "python",
   "pygments_lexer": "ipython3",
   "version": "3.8.8"
  }
 },
 "nbformat": 4,
 "nbformat_minor": 5
}
