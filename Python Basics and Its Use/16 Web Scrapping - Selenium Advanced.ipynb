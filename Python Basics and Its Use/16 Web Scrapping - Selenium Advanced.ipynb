{
 "cells": [
  {
   "cell_type": "code",
   "execution_count": 1,
   "id": "0944d5af",
   "metadata": {},
   "outputs": [
    {
     "data": {
      "text/plain": [
       "<selenium.webdriver.chrome.webdriver.WebDriver (session=\"7a1ad603fa9200d120e972ff4678fc08\")>"
      ]
     },
     "execution_count": 1,
     "metadata": {},
     "output_type": "execute_result"
    }
   ],
   "source": [
    "from selenium import webdriver\n",
    "path = 'D:\\Softwares\\chromedriver'\n",
    "driver = webdriver.Chrome(executable_path = path)\n",
    "driver"
   ]
  },
  {
   "cell_type": "code",
   "execution_count": 9,
   "id": "48b2548e",
   "metadata": {},
   "outputs": [
    {
     "data": {
      "text/plain": [
       "<selenium.webdriver.remote.webelement.WebElement (session=\"bb0b28b6eea8e49156061c9f6e72e189\", element=\"1e40c796-8564-4396-a135-83584f8a1670\")>"
      ]
     },
     "execution_count": 9,
     "metadata": {},
     "output_type": "execute_result"
    }
   ],
   "source": [
    "driver.get('https://www.dell.com/en-in')\n",
    "text_box = driver.find_element_by_class_name('mh-search-input')\n",
    "text_box.send_keys('Gaming Laptops')\n",
    "btn = driver.find_element_by_xpath('//button[contains(@class,\"mh-search-btn\")]')\n",
    "btn.click()\n",
    "lap1 = driver.find_element_by_xpath('//article[contains(@id,\"d560253hin9be\")]/section/h3/a')\n",
    "lap1"
   ]
  },
  {
   "cell_type": "markdown",
   "id": "65a979b3",
   "metadata": {},
   "source": [
    "## Implicit Wait"
   ]
  },
  {
   "cell_type": "markdown",
   "id": "623a523f",
   "metadata": {},
   "source": [
    "The Implicit Wait in Selenium is used to tell the web driver to wait for a certain amount of time before it throws a \"No Such Element Exception\". The default setting is 0. Once we set the time, the web driver will wait for the element for that time before throwing an exception."
   ]
  },
  {
   "cell_type": "code",
   "execution_count": 22,
   "id": "7a061dc7",
   "metadata": {},
   "outputs": [
    {
     "data": {
      "text/plain": [
       "<selenium.webdriver.remote.webelement.WebElement (session=\"bb0b28b6eea8e49156061c9f6e72e189\", element=\"4835c987-465f-41fc-8dbf-6b905a763db6\")>"
      ]
     },
     "execution_count": 22,
     "metadata": {},
     "output_type": "execute_result"
    }
   ],
   "source": [
    "driver.get('https://www.dell.com/en-in')\n",
    "text_box = driver.find_element_by_class_name('mh-search-input')\n",
    "text_box.send_keys('Gaming Laptops')\n",
    "btn = driver.find_element_by_xpath('//button[contains(@class,\"mh-search-btn\")]')\n",
    "btn.click()\n",
    "driver.implicitly_wait(10)\n",
    "lap1 = driver.find_element_by_xpath('//article[contains(@id,\"d560253hin9be\")]/section/h3/a')\n",
    "lap1"
   ]
  },
  {
   "cell_type": "code",
   "execution_count": 37,
   "id": "9f53c24f",
   "metadata": {},
   "outputs": [],
   "source": [
    "driver.get(str(lap1.get_attribute('href')))"
   ]
  },
  {
   "cell_type": "markdown",
   "id": "111203c7",
   "metadata": {},
   "source": [
    "## Explicit Wait"
   ]
  },
  {
   "cell_type": "code",
   "execution_count": 24,
   "id": "267cabae",
   "metadata": {},
   "outputs": [],
   "source": [
    "from selenium.webdriver.support.ui import WebDriverWait\n",
    "from selenium.webdriver.support import expected_conditions as EC\n",
    "from selenium.webdriver.common.by import By\n",
    "\n",
    "driver.get('https://www.dell.com/en-in')\n",
    "text_box = driver.find_element_by_class_name('mh-search-input')\n",
    "text_box.send_keys('Gaming Laptops')\n",
    "btn = driver.find_element_by_xpath('//button[contains(@class,\"mh-search-btn\")]')\n",
    "btn.click()\n",
    "\n",
    "wait = WebDriverWait(driver,20)\n",
    "lap1 = wait.until(EC.presence_of_element_located((By.XPATH,'//article[contains(@id,\"d560253hin9be\")]/section/h3/a')))\n",
    "driver.get(str(lap1.get_attribute('href')))"
   ]
  },
  {
   "cell_type": "markdown",
   "id": "b6f60620",
   "metadata": {},
   "source": [
    "#### Conditions\n",
    "• presence_of_element_located (ui_locator)\n",
    "• presence_of_all_elements_located (ui_locator)\n",
    "• visibility_of_element_located (ui_locator)\n",
    "• element_to_be_clickable (ui_locator)\n",
    "\n",
    "#### Some more methods/conditions\n",
    "• title_is (title)\n",
    "• title_contains (title_text)\n",
    "• text_to_be_present_in_element (ui_locator, inner_text)\n",
    "• text_to_be_present_in_element_value (ui_locator, value)\n",
    "• element_to_be_selected (ui_element)\n",
    "• element_located_to_be_selected (ui_locator)\n",
    "• element_selection_state_to_be (ui_element, is_selected)\n",
    "• element_located_selection_state_to_be (ui_locator, is_selected)\n",
    "• alert_is_present \n",
    "• frame_to_be_available_and_switch_to_it (ui_locator)\n",
    "• staleness_of (ui_element)"
   ]
  },
  {
   "cell_type": "markdown",
   "id": "d9001691",
   "metadata": {},
   "source": [
    "## RadioButtons & CheckBoxes"
   ]
  },
  {
   "cell_type": "code",
   "execution_count": 12,
   "id": "887d09c4",
   "metadata": {},
   "outputs": [
    {
     "data": {
      "text/plain": [
       "<selenium.webdriver.chrome.webdriver.WebDriver (session=\"25a266d85ba9d470d908f3cf374a14ce\")>"
      ]
     },
     "execution_count": 12,
     "metadata": {},
     "output_type": "execute_result"
    }
   ],
   "source": [
    "from selenium import webdriver\n",
    "path = 'D:\\Softwares\\chromedriver'\n",
    "driver = webdriver.Chrome(executable_path = path)\n",
    "driver"
   ]
  },
  {
   "cell_type": "code",
   "execution_count": 50,
   "id": "fe15fdd2",
   "metadata": {},
   "outputs": [],
   "source": [
    "driver.get('https://www.seleniumeasy.com/test/basic-checkbox-demo.html')"
   ]
  },
  {
   "cell_type": "code",
   "execution_count": 53,
   "id": "19a2058c",
   "metadata": {},
   "outputs": [
    {
     "data": {
      "text/plain": [
       "<selenium.webdriver.remote.webelement.WebElement (session=\"25a266d85ba9d470d908f3cf374a14ce\", element=\"d387ee0f-b108-49b8-8c5a-c14386d7bf70\")>"
      ]
     },
     "execution_count": 53,
     "metadata": {},
     "output_type": "execute_result"
    }
   ],
   "source": [
    "checkbox = driver.find_element_by_xpath('//input[@id=\"isAgeSelected\"]')\n",
    "checkbox"
   ]
  },
  {
   "cell_type": "code",
   "execution_count": 54,
   "id": "cb2fd82e",
   "metadata": {},
   "outputs": [],
   "source": [
    "checkbox.click()"
   ]
  },
  {
   "cell_type": "code",
   "execution_count": 55,
   "id": "78ce7242",
   "metadata": {},
   "outputs": [
    {
     "data": {
      "text/plain": [
       "True"
      ]
     },
     "execution_count": 55,
     "metadata": {},
     "output_type": "execute_result"
    }
   ],
   "source": [
    "checkbox.is_selected()"
   ]
  },
  {
   "cell_type": "code",
   "execution_count": 56,
   "id": "0518808c",
   "metadata": {},
   "outputs": [
    {
     "data": {
      "text/plain": [
       "False"
      ]
     },
     "execution_count": 56,
     "metadata": {},
     "output_type": "execute_result"
    }
   ],
   "source": [
    "checkbox.click()\n",
    "checkbox.is_selected()"
   ]
  },
  {
   "cell_type": "markdown",
   "id": "fe578ce7",
   "metadata": {},
   "source": [
    "## DropDown"
   ]
  },
  {
   "cell_type": "code",
   "execution_count": 57,
   "id": "7a725204",
   "metadata": {},
   "outputs": [
    {
     "data": {
      "text/plain": [
       "<selenium.webdriver.remote.webelement.WebElement (session=\"25a266d85ba9d470d908f3cf374a14ce\", element=\"bd5569e1-5d08-4b35-b481-5e7574d8195a\")>"
      ]
     },
     "execution_count": 57,
     "metadata": {},
     "output_type": "execute_result"
    }
   ],
   "source": [
    "driver.get('https://www.seleniumeasy.com/test/basic-select-dropdown-demo.html')\n",
    "drp_dwn = driver.find_element_by_id('select-demo')\n",
    "drp_dwn"
   ]
  },
  {
   "cell_type": "code",
   "execution_count": 58,
   "id": "0dff5a4c",
   "metadata": {},
   "outputs": [
    {
     "data": {
      "text/plain": [
       "<selenium.webdriver.support.select.Select at 0x2ccc880ed30>"
      ]
     },
     "execution_count": 58,
     "metadata": {},
     "output_type": "execute_result"
    }
   ],
   "source": [
    "from selenium.webdriver.support.select import Select\n",
    "s = Select(drp_dwn)\n",
    "s"
   ]
  },
  {
   "cell_type": "code",
   "execution_count": 59,
   "id": "af563408",
   "metadata": {},
   "outputs": [
    {
     "data": {
      "text/plain": [
       "[<selenium.webdriver.remote.webelement.WebElement (session=\"25a266d85ba9d470d908f3cf374a14ce\", element=\"edba9e78-e53e-4da4-bbe4-f4b62b8d603f\")>,\n",
       " <selenium.webdriver.remote.webelement.WebElement (session=\"25a266d85ba9d470d908f3cf374a14ce\", element=\"0ac71231-9875-4f61-8ceb-1240f444c090\")>,\n",
       " <selenium.webdriver.remote.webelement.WebElement (session=\"25a266d85ba9d470d908f3cf374a14ce\", element=\"6806c489-4cc9-40cf-87e2-d560478f8ffb\")>,\n",
       " <selenium.webdriver.remote.webelement.WebElement (session=\"25a266d85ba9d470d908f3cf374a14ce\", element=\"ef5686bb-091e-4129-8898-99d3d01b5ca2\")>,\n",
       " <selenium.webdriver.remote.webelement.WebElement (session=\"25a266d85ba9d470d908f3cf374a14ce\", element=\"fb6bdc0d-6fe6-4e9b-b324-11077c8e5f35\")>,\n",
       " <selenium.webdriver.remote.webelement.WebElement (session=\"25a266d85ba9d470d908f3cf374a14ce\", element=\"74f2135c-ba7f-4a98-bc64-329715d921c5\")>,\n",
       " <selenium.webdriver.remote.webelement.WebElement (session=\"25a266d85ba9d470d908f3cf374a14ce\", element=\"426c18a2-6ac8-4044-be43-3209907d48ad\")>,\n",
       " <selenium.webdriver.remote.webelement.WebElement (session=\"25a266d85ba9d470d908f3cf374a14ce\", element=\"8acf1eb5-68e9-4523-a581-de4b2c8825fe\")>]"
      ]
     },
     "execution_count": 59,
     "metadata": {},
     "output_type": "execute_result"
    }
   ],
   "source": [
    "s.options"
   ]
  },
  {
   "cell_type": "code",
   "execution_count": 60,
   "id": "4b9e8ccd",
   "metadata": {},
   "outputs": [
    {
     "data": {
      "text/plain": [
       "<selenium.webdriver.remote.webelement.WebElement (session=\"25a266d85ba9d470d908f3cf374a14ce\", element=\"edba9e78-e53e-4da4-bbe4-f4b62b8d603f\")>"
      ]
     },
     "execution_count": 60,
     "metadata": {},
     "output_type": "execute_result"
    }
   ],
   "source": [
    "s.first_selected_option"
   ]
  },
  {
   "cell_type": "code",
   "execution_count": 61,
   "id": "3193eb25",
   "metadata": {},
   "outputs": [
    {
     "data": {
      "text/plain": [
       "'<option value=\"\" selected=\"\" disabled=\"\">Please select</option>'"
      ]
     },
     "execution_count": 61,
     "metadata": {},
     "output_type": "execute_result"
    }
   ],
   "source": [
    "s.first_selected_option.get_attribute('outerHTML')"
   ]
  },
  {
   "cell_type": "code",
   "execution_count": 62,
   "id": "089d253a",
   "metadata": {},
   "outputs": [
    {
     "data": {
      "text/plain": [
       "[<selenium.webdriver.remote.webelement.WebElement (session=\"25a266d85ba9d470d908f3cf374a14ce\", element=\"edba9e78-e53e-4da4-bbe4-f4b62b8d603f\")>]"
      ]
     },
     "execution_count": 62,
     "metadata": {},
     "output_type": "execute_result"
    }
   ],
   "source": [
    "s.all_selected_options"
   ]
  },
  {
   "cell_type": "code",
   "execution_count": 63,
   "id": "a36cf456",
   "metadata": {},
   "outputs": [],
   "source": [
    "s.select_by_index(2)"
   ]
  },
  {
   "cell_type": "code",
   "execution_count": 64,
   "id": "2c741ac9",
   "metadata": {},
   "outputs": [],
   "source": [
    "s.select_by_value('Friday')"
   ]
  },
  {
   "cell_type": "code",
   "execution_count": 65,
   "id": "95d3b2f8",
   "metadata": {},
   "outputs": [],
   "source": [
    "s.select_by_visible_text('Wednesday')"
   ]
  },
  {
   "cell_type": "code",
   "execution_count": 66,
   "id": "c84825fc",
   "metadata": {},
   "outputs": [],
   "source": [
    "s.select_by_index('3')"
   ]
  },
  {
   "cell_type": "code",
   "execution_count": 67,
   "id": "252d2bb4",
   "metadata": {},
   "outputs": [
    {
     "ename": "NotImplementedError",
     "evalue": "You may only deselect options of a multi-select",
     "output_type": "error",
     "traceback": [
      "\u001b[1;31m---------------------------------------------------------------------------\u001b[0m",
      "\u001b[1;31mNotImplementedError\u001b[0m                       Traceback (most recent call last)",
      "\u001b[1;32m<ipython-input-67-358262b6649f>\u001b[0m in \u001b[0;36m<module>\u001b[1;34m\u001b[0m\n\u001b[1;32m----> 1\u001b[1;33m \u001b[0ms\u001b[0m\u001b[1;33m.\u001b[0m\u001b[0mdeselect_by_index\u001b[0m\u001b[1;33m(\u001b[0m\u001b[1;36m3\u001b[0m\u001b[1;33m)\u001b[0m\u001b[1;33m\u001b[0m\u001b[1;33m\u001b[0m\u001b[0m\n\u001b[0m",
      "\u001b[1;32m~\\anaconda3\\lib\\site-packages\\selenium\\webdriver\\support\\select.py\u001b[0m in \u001b[0;36mdeselect_by_index\u001b[1;34m(self, index)\u001b[0m\n\u001b[0;32m    181\u001b[0m         \"\"\"\n\u001b[0;32m    182\u001b[0m         \u001b[1;32mif\u001b[0m \u001b[1;32mnot\u001b[0m \u001b[0mself\u001b[0m\u001b[1;33m.\u001b[0m\u001b[0mis_multiple\u001b[0m\u001b[1;33m:\u001b[0m\u001b[1;33m\u001b[0m\u001b[1;33m\u001b[0m\u001b[0m\n\u001b[1;32m--> 183\u001b[1;33m             \u001b[1;32mraise\u001b[0m \u001b[0mNotImplementedError\u001b[0m\u001b[1;33m(\u001b[0m\u001b[1;34m\"You may only deselect options of a multi-select\"\u001b[0m\u001b[1;33m)\u001b[0m\u001b[1;33m\u001b[0m\u001b[1;33m\u001b[0m\u001b[0m\n\u001b[0m\u001b[0;32m    184\u001b[0m         \u001b[1;32mfor\u001b[0m \u001b[0mopt\u001b[0m \u001b[1;32min\u001b[0m \u001b[0mself\u001b[0m\u001b[1;33m.\u001b[0m\u001b[0moptions\u001b[0m\u001b[1;33m:\u001b[0m\u001b[1;33m\u001b[0m\u001b[1;33m\u001b[0m\u001b[0m\n\u001b[0;32m    185\u001b[0m             \u001b[1;32mif\u001b[0m \u001b[0mopt\u001b[0m\u001b[1;33m.\u001b[0m\u001b[0mget_attribute\u001b[0m\u001b[1;33m(\u001b[0m\u001b[1;34m\"index\"\u001b[0m\u001b[1;33m)\u001b[0m \u001b[1;33m==\u001b[0m \u001b[0mstr\u001b[0m\u001b[1;33m(\u001b[0m\u001b[0mindex\u001b[0m\u001b[1;33m)\u001b[0m\u001b[1;33m:\u001b[0m\u001b[1;33m\u001b[0m\u001b[1;33m\u001b[0m\u001b[0m\n",
      "\u001b[1;31mNotImplementedError\u001b[0m: You may only deselect options of a multi-select"
     ]
    }
   ],
   "source": [
    "s.deselect_by_index(3)"
   ]
  },
  {
   "cell_type": "code",
   "execution_count": 68,
   "id": "1f170642",
   "metadata": {},
   "outputs": [
    {
     "data": {
      "text/plain": [
       "<selenium.webdriver.remote.webelement.WebElement (session=\"25a266d85ba9d470d908f3cf374a14ce\", element=\"da70218d-4664-4efa-af7f-c0007018bd39\")>"
      ]
     },
     "execution_count": 68,
     "metadata": {},
     "output_type": "execute_result"
    }
   ],
   "source": [
    "drp_dwn2 = driver.find_element_by_id('multi-select')\n",
    "drp_dwn2"
   ]
  },
  {
   "cell_type": "code",
   "execution_count": 69,
   "id": "c605b4a7",
   "metadata": {},
   "outputs": [],
   "source": [
    "s2 = Select(drp_dwn2)"
   ]
  },
  {
   "cell_type": "code",
   "execution_count": 70,
   "id": "b0ad02b1",
   "metadata": {},
   "outputs": [],
   "source": [
    "s2.select_by_index(5)\n",
    "s2.select_by_value('Florida')\n",
    "s2.select_by_visible_text('Pennsylvania')"
   ]
  },
  {
   "cell_type": "code",
   "execution_count": 71,
   "id": "12950531",
   "metadata": {},
   "outputs": [
    {
     "data": {
      "text/plain": [
       "[<selenium.webdriver.remote.webelement.WebElement (session=\"25a266d85ba9d470d908f3cf374a14ce\", element=\"85702f0a-2ef5-49e3-878d-4a89da90febb\")>,\n",
       " <selenium.webdriver.remote.webelement.WebElement (session=\"25a266d85ba9d470d908f3cf374a14ce\", element=\"41661341-a6dc-4d82-b360-781dbd47660c\")>,\n",
       " <selenium.webdriver.remote.webelement.WebElement (session=\"25a266d85ba9d470d908f3cf374a14ce\", element=\"b5e007f0-77d0-46f5-acff-10d64605b184\")>]"
      ]
     },
     "execution_count": 71,
     "metadata": {},
     "output_type": "execute_result"
    }
   ],
   "source": [
    "s2.all_selected_options"
   ]
  },
  {
   "cell_type": "code",
   "execution_count": 72,
   "id": "1d6d138f",
   "metadata": {},
   "outputs": [
    {
     "data": {
      "text/plain": [
       "'<option value=\"Florida\">Florida</option>'"
      ]
     },
     "execution_count": 72,
     "metadata": {},
     "output_type": "execute_result"
    }
   ],
   "source": [
    "s2.first_selected_option.get_attribute('outerHTML')"
   ]
  },
  {
   "cell_type": "code",
   "execution_count": 73,
   "id": "c85216c9",
   "metadata": {},
   "outputs": [],
   "source": [
    "s2.deselect_by_value('Pennsylvania')"
   ]
  },
  {
   "cell_type": "code",
   "execution_count": 74,
   "id": "87a94caa",
   "metadata": {},
   "outputs": [],
   "source": [
    "s2.deselect_all()"
   ]
  },
  {
   "cell_type": "markdown",
   "id": "39d3971a",
   "metadata": {},
   "source": [
    "## Scroll WebPage"
   ]
  },
  {
   "cell_type": "code",
   "execution_count": 75,
   "id": "02686cc7",
   "metadata": {},
   "outputs": [],
   "source": [
    "driver.get('https://www.google.com/')"
   ]
  },
  {
   "cell_type": "markdown",
   "id": "63c6cdea",
   "metadata": {},
   "source": [
    "Running with JavaScript Below"
   ]
  },
  {
   "cell_type": "code",
   "execution_count": 76,
   "id": "9b182c25",
   "metadata": {},
   "outputs": [],
   "source": [
    "driver.execute_script('window.location = \"https://twitter.com/stackoverheards\";')"
   ]
  },
  {
   "cell_type": "code",
   "execution_count": 78,
   "id": "0d28b0bd",
   "metadata": {},
   "outputs": [
    {
     "data": {
      "text/plain": [
       "<selenium.webdriver.remote.webelement.WebElement (session=\"25a266d85ba9d470d908f3cf374a14ce\", element=\"2b10a64d-6daa-47b4-9767-4d1a39b71a62\")>"
      ]
     },
     "execution_count": 78,
     "metadata": {},
     "output_type": "execute_result"
    }
   ],
   "source": [
    "driver.execute_script('return document.getElementById(\"layers\");')"
   ]
  },
  {
   "cell_type": "code",
   "execution_count": 79,
   "id": "965a9e77",
   "metadata": {},
   "outputs": [
    {
     "data": {
      "text/plain": [
       "<selenium.webdriver.remote.webelement.WebElement (session=\"25a266d85ba9d470d908f3cf374a14ce\", element=\"2b10a64d-6daa-47b4-9767-4d1a39b71a62\")>"
      ]
     },
     "execution_count": 79,
     "metadata": {},
     "output_type": "execute_result"
    }
   ],
   "source": [
    "driver.find_element_by_id('layers')"
   ]
  },
  {
   "cell_type": "code",
   "execution_count": 86,
   "id": "b31d0d0d",
   "metadata": {},
   "outputs": [],
   "source": [
    "driver.execute_script('window.scrollBy(0,1000)')"
   ]
  },
  {
   "cell_type": "code",
   "execution_count": 87,
   "id": "f8ebfd2e",
   "metadata": {},
   "outputs": [],
   "source": [
    "driver.execute_script('window.scrollBy(0,1000)')"
   ]
  },
  {
   "cell_type": "code",
   "execution_count": 88,
   "id": "e083c7a5",
   "metadata": {},
   "outputs": [],
   "source": [
    "driver.execute_script('window.scrollBy(0,1000)')"
   ]
  },
  {
   "cell_type": "code",
   "execution_count": 89,
   "id": "8fe04a0a",
   "metadata": {},
   "outputs": [],
   "source": [
    "for i in range(5):\n",
    "    driver.execute_script('window.scrollBy(0,1000)')"
   ]
  },
  {
   "cell_type": "code",
   "execution_count": 90,
   "id": "50d8bca6",
   "metadata": {},
   "outputs": [],
   "source": [
    "import time\n",
    "for i in range(6):\n",
    "    driver.execute_script('window.scrollBy(0,-1000)')\n",
    "    time.sleep(3)"
   ]
  },
  {
   "cell_type": "code",
   "execution_count": 92,
   "id": "5fac7e80",
   "metadata": {},
   "outputs": [],
   "source": [
    "driver.execute_script('window.scrollTo(0,5000)')"
   ]
  },
  {
   "cell_type": "markdown",
   "id": "c9ed1ffc",
   "metadata": {},
   "source": [
    "### Infinite Scrolling"
   ]
  },
  {
   "cell_type": "code",
   "execution_count": 109,
   "id": "0fe9dff4",
   "metadata": {},
   "outputs": [],
   "source": [
    "driver.execute_script('window.location = \"https://twitter.com/stackoverheards\";')"
   ]
  },
  {
   "cell_type": "code",
   "execution_count": 110,
   "id": "e1e490a1",
   "metadata": {},
   "outputs": [
    {
     "data": {
      "text/plain": [
       "3682"
      ]
     },
     "execution_count": 110,
     "metadata": {},
     "output_type": "execute_result"
    }
   ],
   "source": [
    "driver.execute_script('return document.body.scrollHeight;')"
   ]
  },
  {
   "cell_type": "code",
   "execution_count": 111,
   "id": "7b253a71",
   "metadata": {},
   "outputs": [],
   "source": [
    "driver.execute_script('window.scrollTo(0,document.body.scrollHeight);')"
   ]
  },
  {
   "cell_type": "code",
   "execution_count": 112,
   "id": "a5cb1b09",
   "metadata": {},
   "outputs": [
    {
     "data": {
      "text/plain": [
       "6835"
      ]
     },
     "execution_count": 112,
     "metadata": {},
     "output_type": "execute_result"
    }
   ],
   "source": [
    "driver.execute_script('return document.body.scrollHeight;')"
   ]
  },
  {
   "cell_type": "code",
   "execution_count": 113,
   "id": "263dfff9",
   "metadata": {},
   "outputs": [],
   "source": [
    "driver.execute_script('window.scrollTo(0,document.body.scrollHeight);')"
   ]
  },
  {
   "cell_type": "code",
   "execution_count": 114,
   "id": "065fe689",
   "metadata": {},
   "outputs": [
    {
     "data": {
      "text/plain": [
       "9201"
      ]
     },
     "execution_count": 114,
     "metadata": {},
     "output_type": "execute_result"
    }
   ],
   "source": [
    "driver.execute_script('return document.body.scrollHeight;')"
   ]
  },
  {
   "cell_type": "markdown",
   "id": "213a9bdd",
   "metadata": {},
   "source": [
    "Scroll Till New data is loading"
   ]
  },
  {
   "cell_type": "code",
   "execution_count": 129,
   "id": "0a139886",
   "metadata": {},
   "outputs": [],
   "source": [
    "driver.refresh()"
   ]
  },
  {
   "cell_type": "code",
   "execution_count": 130,
   "id": "dfe864ba",
   "metadata": {},
   "outputs": [
    {
     "name": "stdout",
     "output_type": "stream",
     "text": [
      "3682 6835\n",
      "6835 9201\n",
      "9201 11406\n",
      "11406 14278\n",
      "14278 16881\n",
      "16881 19674\n",
      "19674 21978\n",
      "21978 24083\n",
      "24083 26456\n",
      "26456 28761\n",
      "28761 30846\n",
      "30846 33330\n",
      "33330 35775\n",
      "35775 38422\n",
      "38422 40528\n",
      "40528 42813\n",
      "42813 45957\n",
      "45957 48088\n",
      "48088 50033\n",
      "50033 52198\n",
      "52198 54494\n",
      "54494 56563\n",
      "56563 57119\n",
      "57119 57119\n"
     ]
    }
   ],
   "source": [
    "import time\n",
    "current_height = driver.execute_script('return document.body.scrollHeight;')\n",
    "\n",
    "while True:\n",
    "    driver.execute_script('window.scrollTo(0,arguments[0]);',current_height)\n",
    "    time.sleep(3)\n",
    "    new_height = driver.execute_script('return document.body.scrollHeight;')\n",
    "    print(current_height,new_height)\n",
    "    if new_height == current_height :\n",
    "        break\n",
    "    current_height = new_height"
   ]
  },
  {
   "cell_type": "markdown",
   "id": "3f64696a",
   "metadata": {},
   "source": [
    "## Switch Window Focus"
   ]
  },
  {
   "cell_type": "code",
   "execution_count": 1,
   "id": "d666e2e0",
   "metadata": {},
   "outputs": [
    {
     "data": {
      "text/plain": [
       "<selenium.webdriver.chrome.webdriver.WebDriver (session=\"167e17aae8c4c7187233fe26c1ce9c4f\")>"
      ]
     },
     "execution_count": 1,
     "metadata": {},
     "output_type": "execute_result"
    }
   ],
   "source": [
    "from selenium import webdriver\n",
    "path = 'D:\\Softwares\\chromedriver'\n",
    "driver = webdriver.Chrome(executable_path = path)\n",
    "driver"
   ]
  },
  {
   "cell_type": "code",
   "execution_count": 2,
   "id": "48a11841",
   "metadata": {},
   "outputs": [],
   "source": [
    "driver.get('https://www.google.com/')"
   ]
  },
  {
   "cell_type": "code",
   "execution_count": 3,
   "id": "10ad6482",
   "metadata": {},
   "outputs": [
    {
     "data": {
      "text/plain": [
       "'Google'"
      ]
     },
     "execution_count": 3,
     "metadata": {},
     "output_type": "execute_result"
    }
   ],
   "source": [
    "driver.title"
   ]
  },
  {
   "cell_type": "code",
   "execution_count": 5,
   "id": "7e4d6308",
   "metadata": {},
   "outputs": [],
   "source": [
    "driver.execute_script('window.open(\"https://twitter.com/\");')"
   ]
  },
  {
   "cell_type": "code",
   "execution_count": 6,
   "id": "5f577a20",
   "metadata": {},
   "outputs": [
    {
     "data": {
      "text/plain": [
       "'Google'"
      ]
     },
     "execution_count": 6,
     "metadata": {},
     "output_type": "execute_result"
    }
   ],
   "source": [
    "driver.title"
   ]
  },
  {
   "cell_type": "markdown",
   "id": "88a60f46",
   "metadata": {},
   "source": [
    "Title is still same because focus of the driver is still on the previous page. We have to shift it"
   ]
  },
  {
   "cell_type": "code",
   "execution_count": 7,
   "id": "ba60cc9a",
   "metadata": {},
   "outputs": [
    {
     "data": {
      "text/plain": [
       "['CDwindow-0959BC6E459D1E3B52D7BF473495AD1D',\n",
       " 'CDwindow-FAA1B08499DEE4CDD6BAB4B52D4363B1']"
      ]
     },
     "execution_count": 7,
     "metadata": {},
     "output_type": "execute_result"
    }
   ],
   "source": [
    "driver.window_handles"
   ]
  },
  {
   "cell_type": "code",
   "execution_count": 8,
   "id": "5dda6a09",
   "metadata": {},
   "outputs": [
    {
     "data": {
      "text/plain": [
       "'CDwindow-0959BC6E459D1E3B52D7BF473495AD1D'"
      ]
     },
     "execution_count": 8,
     "metadata": {},
     "output_type": "execute_result"
    }
   ],
   "source": [
    "driver.current_window_handle"
   ]
  },
  {
   "cell_type": "code",
   "execution_count": 9,
   "id": "80a9e462",
   "metadata": {},
   "outputs": [],
   "source": [
    "handles = driver.window_handles"
   ]
  },
  {
   "cell_type": "code",
   "execution_count": 10,
   "id": "26c3b2b0",
   "metadata": {},
   "outputs": [],
   "source": [
    "driver.switch_to.window(handles[1])"
   ]
  },
  {
   "cell_type": "code",
   "execution_count": 11,
   "id": "49588f7d",
   "metadata": {},
   "outputs": [
    {
     "data": {
      "text/plain": [
       "'Twitter. It’s what’s happening / Twitter'"
      ]
     },
     "execution_count": 11,
     "metadata": {},
     "output_type": "execute_result"
    }
   ],
   "source": [
    "driver.title"
   ]
  },
  {
   "cell_type": "markdown",
   "id": "f3e65148",
   "metadata": {},
   "source": [
    "## Handle Popups"
   ]
  },
  {
   "cell_type": "code",
   "execution_count": 12,
   "id": "4868404a",
   "metadata": {},
   "outputs": [],
   "source": [
    "driver.get('http://demo.automationtesting.in/Alerts.html')"
   ]
  },
  {
   "cell_type": "code",
   "execution_count": 13,
   "id": "086b3457",
   "metadata": {},
   "outputs": [],
   "source": [
    "but1 = driver.find_element_by_xpath('//div[@id = \"OKTab\"]/button')\n",
    "but1.click()"
   ]
  },
  {
   "cell_type": "code",
   "execution_count": 14,
   "id": "5c8bdd5d",
   "metadata": {},
   "outputs": [],
   "source": [
    "alert_obj = driver.switch_to.alert"
   ]
  },
  {
   "cell_type": "code",
   "execution_count": 15,
   "id": "2d65382b",
   "metadata": {},
   "outputs": [
    {
     "data": {
      "text/plain": [
       "'I am an alert box!'"
      ]
     },
     "execution_count": 15,
     "metadata": {},
     "output_type": "execute_result"
    }
   ],
   "source": [
    "alert_obj.text"
   ]
  },
  {
   "cell_type": "code",
   "execution_count": 16,
   "id": "87eaf32e",
   "metadata": {},
   "outputs": [],
   "source": [
    "alert_obj.accept()"
   ]
  },
  {
   "cell_type": "code",
   "execution_count": 17,
   "id": "6a92b919",
   "metadata": {},
   "outputs": [
    {
     "data": {
      "text/plain": [
       "[<selenium.webdriver.remote.webelement.WebElement (session=\"167e17aae8c4c7187233fe26c1ce9c4f\", element=\"1ab3dad0-35a8-4544-b55b-dc8b1931fd5c\")>,\n",
       " <selenium.webdriver.remote.webelement.WebElement (session=\"167e17aae8c4c7187233fe26c1ce9c4f\", element=\"008bdd16-2bb9-42cf-b1a5-eb649dbf6c7f\")>,\n",
       " <selenium.webdriver.remote.webelement.WebElement (session=\"167e17aae8c4c7187233fe26c1ce9c4f\", element=\"bc12b25b-61d9-4c76-847c-ac359adf8903\")>]"
      ]
     },
     "execution_count": 17,
     "metadata": {},
     "output_type": "execute_result"
    }
   ],
   "source": [
    "li1 = driver.find_elements_by_xpath('//div[contains(@class , \"pullleft\")]/ul/li')\n",
    "li1"
   ]
  },
  {
   "cell_type": "code",
   "execution_count": 18,
   "id": "adeadc27",
   "metadata": {},
   "outputs": [],
   "source": [
    "li1[1].click()"
   ]
  },
  {
   "cell_type": "code",
   "execution_count": 19,
   "id": "8cff901e",
   "metadata": {},
   "outputs": [
    {
     "data": {
      "text/plain": [
       "'Press a Button !'"
      ]
     },
     "execution_count": 19,
     "metadata": {},
     "output_type": "execute_result"
    }
   ],
   "source": [
    "but1 = driver.find_element_by_xpath('//div[@id = \"CancelTab\"]/button')\n",
    "but1.click()\n",
    "alert_obj = driver.switch_to.alert\n",
    "alert_obj.text"
   ]
  },
  {
   "cell_type": "code",
   "execution_count": 20,
   "id": "7eb8de43",
   "metadata": {},
   "outputs": [],
   "source": [
    "alert_obj.dismiss()"
   ]
  },
  {
   "cell_type": "code",
   "execution_count": 21,
   "id": "65cffcce",
   "metadata": {},
   "outputs": [
    {
     "data": {
      "text/plain": [
       "'Press a Button !'"
      ]
     },
     "execution_count": 21,
     "metadata": {},
     "output_type": "execute_result"
    }
   ],
   "source": [
    "but1 = driver.find_element_by_xpath('//div[@id = \"CancelTab\"]/button')\n",
    "but1.click()\n",
    "alert_obj = driver.switch_to.alert\n",
    "alert_obj.text"
   ]
  },
  {
   "cell_type": "code",
   "execution_count": 22,
   "id": "13954884",
   "metadata": {},
   "outputs": [],
   "source": [
    "alert_obj.accept()"
   ]
  },
  {
   "cell_type": "code",
   "execution_count": 23,
   "id": "c6c04b64",
   "metadata": {},
   "outputs": [],
   "source": [
    "li1[2].click()"
   ]
  },
  {
   "cell_type": "code",
   "execution_count": 24,
   "id": "2c312ae8",
   "metadata": {},
   "outputs": [
    {
     "data": {
      "text/plain": [
       "'Please enter your name'"
      ]
     },
     "execution_count": 24,
     "metadata": {},
     "output_type": "execute_result"
    }
   ],
   "source": [
    "but1 = driver.find_element_by_xpath('//div[@id = \"Textbox\"]/button')\n",
    "but1.click()\n",
    "alert_obj = driver.switch_to.alert\n",
    "alert_obj.text"
   ]
  },
  {
   "cell_type": "code",
   "execution_count": 27,
   "id": "51c05159",
   "metadata": {},
   "outputs": [],
   "source": [
    "alert_obj.send_keys('Avinash Kumar')"
   ]
  },
  {
   "cell_type": "code",
   "execution_count": 28,
   "id": "8781dded",
   "metadata": {},
   "outputs": [],
   "source": [
    "alert_obj.accept()"
   ]
  },
  {
   "cell_type": "code",
   "execution_count": null,
   "id": "3fe377aa",
   "metadata": {},
   "outputs": [],
   "source": []
  }
 ],
 "metadata": {
  "kernelspec": {
   "display_name": "Python 3",
   "language": "python",
   "name": "python3"
  },
  "language_info": {
   "codemirror_mode": {
    "name": "ipython",
    "version": 3
   },
   "file_extension": ".py",
   "mimetype": "text/x-python",
   "name": "python",
   "nbconvert_exporter": "python",
   "pygments_lexer": "ipython3",
   "version": "3.8.8"
  }
 },
 "nbformat": 4,
 "nbformat_minor": 5
}
