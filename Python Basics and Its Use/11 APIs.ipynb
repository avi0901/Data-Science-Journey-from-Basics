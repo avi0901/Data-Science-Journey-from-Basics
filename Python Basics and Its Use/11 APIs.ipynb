{
 "cells": [
  {
   "cell_type": "code",
   "execution_count": 1,
   "id": "67fa70a3",
   "metadata": {},
   "outputs": [],
   "source": [
    "#https://api.github.com/events\n",
    "#https://codingninjas.in/api/v3/courses\n",
    "#https://dog.ceo/dog-api/\n",
    "#https://docs.openaq.org\n",
    "#https://www.metaweather.com/api/\n",
    "#https://httpbin.org\n",
    "#https://jsonplaceholder.typicode.com"
   ]
  },
  {
   "cell_type": "code",
   "execution_count": null,
   "id": "d7ddfcfc",
   "metadata": {},
   "outputs": [],
   "source": [
    "import requests\n",
    "response = requests.get('https://api.github.com/events')"
   ]
  },
  {
   "cell_type": "code",
   "execution_count": 3,
   "id": "83c03513",
   "metadata": {},
   "outputs": [
    {
     "name": "stdout",
     "output_type": "stream",
     "text": [
      "200\n",
      "utf-8\n"
     ]
    }
   ],
   "source": [
    "print(response.status_code)\n",
    "print(response.encoding)"
   ]
  },
  {
   "cell_type": "code",
   "execution_count": 4,
   "id": "ba4d9d75",
   "metadata": {},
   "outputs": [
    {
     "name": "stdout",
     "output_type": "stream",
     "text": [
      "[{\"id\":\"16653825737\",\"type\":\"PullRequestEvent\",\"actor\":{\"id\":66032756,\"login\":\"LucasACES\",\"display_login\":\"LucasACES\",\"gravatar_id\":\"\",\"url\":\"https://api.github.com/users/LucasACES\",\"avatar_url\":\"https://avatars.githubusercontent.com/u/66032756?\"},\"repo\":{\"id\":342435955,\"name\":\"Time-1-ADS/ProjetoGSW\",\"url\":\"https://api.github.com/repos/Time-1-ADS/ProjetoGSW\"},\"payload\":{\"action\":\"opened\",\"number\":11,\"pull_request\":{\"url\":\"https://api.github.com/repos/Time-1-ADS/ProjetoGSW/pulls/11\",\"id\":662312252,\"node_id\":\"MDExOlB1bGxSZXF1ZXN0NjYyMzEyMjUy\",\"html_url\":\"https://github.com/Time-1-ADS/ProjetoGSW/pull/11\",\"diff_url\":\"https://github.com/Time-1-ADS/ProjetoGSW/pull/11.diff\",\"patch_url\":\"https://github.com/Time-1-ADS/ProjetoGSW/pull/11.patch\",\"issue_url\":\"https://api.github.com/repos/Time-1-ADS/ProjetoGSW/issues/11\",\"number\":11,\"state\":\"open\",\"locked\":false,\"title\":\"atualizando telas\",\"user\":{\"login\":\"LucasACES\",\"id\":66032756,\"node_id\":\"MDQ6VXNlcjY2MDMyNzU2\",\"avatar_url\":\"https://avatars.githubusercontent.com/u/66032756?v=4\",\"gravatar_id\":\"\",\"url\":\"https://api.github.com/users/LucasACES\",\"html_url\":\"https://github.com/LucasACES\",\"followers_url\":\"https://api.github.com/users/LucasACES/followers\",\"following_url\":\"https://api.github.com/users/LucasACES/following{/other_user}\",\"gists_url\":\"https://api.github.com/users/LucasACES/gists{/gist_id}\",\"starred_url\":\"https://api.github.com/users/LucasACES/starred{/owner}{/repo}\",\"subscriptions_url\":\"https://api.github.com/users/LucasACES/subscriptions\",\"organizations_url\":\"https://api.github.com/users/LucasACES/orgs\",\"repos_url\":\"https://api.github.com/users/LucasACES/repos\",\"events_url\":\"https://api.github.com/users/LucasACES/events{/privacy}\",\"received_events_url\":\"https://api.github.com/users/LucasACES/received_events\",\"type\":\"User\",\"site_admin\":false},\"body\":\"\",\"created_at\":\"2021-06-05T06:25:24Z\",\"updated_at\":\"2021-06-05T06:25:24Z\",\"closed_at\":null,\"merged_at\":null,\"merge_commit_sha\":null,\"assignee\":null,\"assignees\":[],\"requested_reviewers\":[],\"requested_teams\":[],\"labels\":[],\"milestone\":null,\"draft\":false,\"commits_url\":\"https://api.github.com/repos/Time-1-ADS/ProjetoGSW/pulls/11/commits\",\"review_comments_url\":\"https://api.github.com/repos/Time-1-ADS/ProjetoGSW/pulls/11/comments\",\"review_comment_url\":\"https://api.github.com/repos/Time-1-ADS/ProjetoGSW/pulls/comments{/number}\",\"comments_url\":\"https://api.github.com/repos/Time-1-ADS/ProjetoGSW/issues/11/comments\",\"statuses_url\":\"https://api.github.com/repos/Time-1-ADS/ProjetoGSW/statuses/0b8bb65a89376998413f4032cbd9b720c324cf3a\",\"head\":{\"label\":\"Time-1-ADS:atualizado\",\"ref\":\"atualizado\",\"sha\":\"0b8bb65a89376998413f4032cbd9b720c324cf3a\",\"user\":{\"login\":\"Time-1-ADS\",\"id\":79676235,\"node_id\":\"MDEyOk9yZ2FuaXphdGlvbjc5Njc2MjM1\",\"avatar_url\":\"https://avatars.githubusercontent.com/u/79676235?v=4\",\"gravatar_id\":\"\",\"url\":\"https://api.github.com/users/Time-1-ADS\",\"html_url\":\"https://github.com/Time-1-ADS\",\"followers_url\":\"https://api.github.com/users/Time-1-ADS/followers\",\"following_url\":\"https://api.github.com/users/Time-1-ADS/following{/other_user}\",\"gists_url\":\"https://api.github.com/users/Time-1-ADS/gists{/gist_id}\",\"starred_url\":\"https://api.github.com/users/Time-1-ADS/starred{/owner}{/repo}\",\"subscriptions_url\":\"https://api.github.com/users/Time-1-ADS/subscriptions\",\"organizations_url\":\"https://api.github.com/users/Time-1-ADS/orgs\",\"repos_url\":\"https://api.github.com/users/Time-1-ADS/repos\",\"events_url\":\"https://api.github.com/users/Time-1-ADS/events{/privacy}\",\"received_events_url\":\"https://api.github.com/users/Time-1-ADS/received_events\",\"type\":\"Organization\",\"site_admin\":false},\"repo\":{\"id\":342435955,\"node_id\":\"MDEwOlJlcG9zaXRvcnkzNDI0MzU5NTU=\",\"name\":\"ProjetoGSW\",\"full_name\":\"Time-1-ADS/ProjetoGSW\",\"private\":false,\"owner\":{\"login\":\"Time-1-ADS\",\"id\":79676235,\"node_id\":\"MDEyOk9yZ2FuaXphdGlvbjc5Njc2MjM1\",\"avatar_url\":\"https://avatars.githubusercontent.com/u/79676235?v=4\",\"gravatar_id\":\"\",\"url\":\"https://api.github.com/users/Time-1-ADS\",\"html_url\":\"https://github.com/Time-1-ADS\",\"followers_url\":\"https://api.github.com/users/Time-1-ADS/followers\",\"following_url\":\"https://api.github.com/users/Time-1-ADS/following{/other_user}\",\"gists_url\":\"https://api.github.com/users/Time-1-ADS/gists{/gist_id}\",\"starred_url\":\"https://api.github.com/users/Time-1-ADS/starred{/owner}{/repo}\",\"subscriptions_url\":\"https://api.github.com/users/Time-1-ADS/subscriptions\",\"organizations_url\":\"https://api.github.com/users/Time-1-ADS/orgs\",\"repos_url\":\"https://api.github.com/users/Time-1-ADS/repos\",\"events_url\":\"https://api.github.com/users/Time-1-ADS/events{/privacy}\",\"received_events_url\":\"https://api.github.com/users/Time-1-ADS/received_events\",\"type\":\"Organization\",\"site_admin\":false},\"html_url\":\"https://github.com/Time-1-ADS/ProjetoGSW\",\"description\":\"🚀 Projeto GSW Dashboard\",\"fork\":false,\"url\":\"https://api.github.com/repos/Time-1-ADS/ProjetoGSW\",\"forks_url\":\"https://api.github.com/repos/Time-1-ADS/ProjetoGSW/forks\",\"keys_url\":\"https://api.github.com/repos/Time-1-ADS/ProjetoGSW/keys{/key_id}\",\"collaborators_url\":\"https://api.github.com/repos/Time-1-ADS/ProjetoGSW/collaborators{/collaborator}\",\"teams_url\":\"https://api.github.com/repos/Time-1-ADS/ProjetoGSW/teams\",\"hooks_url\":\"https://api.github.com/repos/Time-1-ADS/ProjetoGSW/hooks\",\"issue_events_url\":\"https://api.github.com/repos/Time-1-ADS/ProjetoGSW/issues/events{/number}\",\"events_url\":\"https://api.github.com/repos/Time-1-ADS/ProjetoGSW/events\",\"assignees_url\":\"https://api.github.com/repos/Time-1-ADS/ProjetoGSW/assignees{/user}\",\"branches_url\":\"https://api.github.com/repos/Time-1-ADS/ProjetoGSW/branches{/branch}\",\"tags_url\":\"https://api.github.com/repos/Time-1-ADS/ProjetoGSW/tags\",\"blobs_url\":\"https://api.github.com/repos/Time-1-ADS/ProjetoGSW/git/blobs{/sha}\",\"git_tags_url\":\"https://api.github.com/repos/Time-1-ADS/ProjetoGSW/git/tags{/sha}\",\"git_refs_url\":\"https://api.github.com/repos/Time-1-ADS/ProjetoGSW/git/refs{/sha}\",\"trees_url\":\"https://api.github.com/repos/Time-1-ADS/ProjetoGSW/git/trees{/sha}\",\"statuses_url\":\"https://api.github.com/repos/Time-1-ADS/ProjetoGSW/statuses/{sha}\",\"languages_url\":\"https://api.github.com/repos/Time-1-ADS/ProjetoGSW/languages\",\"stargazers_url\":\"https://api.github.com/repos/Time-1-ADS/ProjetoGSW/stargazers\",\"contributors_url\":\"https://api.github.com/repos/Time-1-ADS/ProjetoGSW/contributors\",\"subscribers_url\":\"https://api.github.com/repos/Time-1-ADS/ProjetoGSW/subscribers\",\"subscription_url\":\"https://api.github.com/repos/Time-1-ADS/ProjetoGSW/subscription\",\"commits_url\":\"https://api.github.com/repos/Time-1-ADS/ProjetoGSW/commits{/sha}\",\"git_commits_url\":\"https://api.github.com/repos/Time-1-ADS/ProjetoGSW/git/commits{/sha}\",\"comments_url\":\"https://api.github.com/repos/Time-1-ADS/ProjetoGSW/comments{/number}\",\"issue_comment_url\":\"https://api.github.com/repos/Time-1-ADS/ProjetoGSW/issues/comments{/number}\",\"contents_url\":\"https://api.github.com/repos/Time-1-ADS/ProjetoGSW/contents/{+path}\",\"compare_url\":\"https://api.github.com/repos/Time-1-ADS/ProjetoGSW/compare/{base}...{head}\",\"merges_url\":\"https://api.github.com/repos/Time-1-ADS/ProjetoGSW/merges\",\"archive_url\":\"https://api.github.com/repos/Time-1-ADS/ProjetoGSW/{archive_format}{/ref}\",\"downloads_url\":\"https://api.github.com/repos/Time-1-ADS/ProjetoGSW/downloads\",\"issues_url\":\"https://api.github.com/repos/Time-1-ADS/ProjetoGSW/issues{/number}\",\"pulls_url\":\"https://api.github.com/repos/Time-1-ADS/ProjetoGSW/pulls{/number}\",\"milestones_url\":\"https://api.github.com/repos/Time-1-ADS/ProjetoGSW/milestones{/number}\",\"notifications_url\":\"https://api.github.com/repos/Time-1-ADS/ProjetoGSW/notifications{?since,all,participating}\",\"labels_url\":\"https://api.github.com/repos/Time-1-ADS/ProjetoGSW/labels{/name}\",\"releases_url\":\"https://api.github.com/repos/Time-1-ADS/ProjetoGSW/releases{/id}\",\"deployments_url\":\"https://api.github.com/repos/Time-1-ADS/ProjetoGSW/deployments\",\"created_at\":\"2021-02-26T02:09:22Z\",\"updated_at\":\"2021-06-02T13:55:24Z\",\"pushed_at\":\"2021-06-05T06:24:11Z\",\"git_url\":\"git://github.com/Time-1-ADS/ProjetoGSW.git\",\"ssh_url\":\"git@github.com:Time-1-ADS/ProjetoGSW.git\",\"clone_url\":\"https://github.com/Time-1-ADS/ProjetoGSW.git\",\"svn_url\":\"https://github.com/Time-1-ADS/ProjetoGSW\",\"homepage\":\"\",\"size\":48853,\"stargazers_count\":4,\"watchers_count\":4,\"language\":\"HTML\",\"has_issues\":true,\"has_projects\":true,\"has_downloads\":true,\"has_wiki\":true,\"has_pages\":false,\"forks_count\":2,\"mirror_url\":null,\"archived\":false,\"disabled\":false,\"open_issues_count\":1,\"license\":null,\"forks\":2,\"open_issues\":1,\"watchers\":4,\"default_branch\":\"main\"}},\"base\":{\"label\":\"Time-1-ADS:main\",\"ref\":\"main\",\"sha\":\"bc2a0dd2d3ddc68280feb9fcd355e3844202318f\",\"user\":{\"login\":\"Time-1-ADS\",\"id\":79676235,\"node_id\":\"MDEyOk9yZ2FuaXphdGlvbjc5Njc2MjM1\",\"avatar_url\":\"https://avatars.githubusercontent.com/u/79676235?v=4\",\"gravatar_id\":\"\",\"url\":\"https://api.github.com/users/Time-1-ADS\",\"html_url\":\"https://github.com/Time-1-ADS\",\"followers_url\":\"https://api.github.com/users/Time-1-ADS/followers\",\"following_url\":\"https://api.github.com/users/Time-1-ADS/following{/other_user}\",\"gists_url\":\"https://api.github.com/users/Time-1-ADS/gists{/gist_id}\",\"starred_url\":\"https://api.github.com/users/Time-1-ADS/starred{/owner}{/repo}\",\"subscriptions_url\":\"https://api.github.com/users/Time-1-ADS/subscriptions\",\"organizations_url\":\"https://api.github.com/users/Time-1-ADS/orgs\",\"repos_url\":\"https://api.github.com/users/Time-1-ADS/repos\",\"events_url\":\"https://api.github.com/users/Time-1-ADS/events{/privacy}\",\"received_events_url\":\"https://api.github.com/users/Time-1-ADS/received_events\",\"type\":\"Organization\",\"site_admin\":false},\"repo\":{\"id\":342435955,\"node_id\":\"MDEwOlJlcG9zaXRvcnkzNDI0MzU5NTU=\",\"name\":\"ProjetoGSW\",\"full_name\":\"Time-1-ADS/ProjetoGSW\",\"private\":false,\"owner\":{\"login\":\"Time-1-ADS\",\"id\":79676235,\"node_id\":\"MDEyOk9yZ2FuaXphdGlvbjc5Njc2MjM1\",\"avatar_url\":\"https://avatars.githubusercontent.com/u/79676235?v=4\",\"gravatar_id\":\"\",\"url\":\"https://api.github.com/users/Time-1-ADS\",\"html_url\":\"https://github.com/Time-1-ADS\",\"followers_url\":\"https://api.github.com/users/Time-1-ADS/followers\",\"following_url\":\"https://api.github.com/users/Time-1-ADS/following{/other_user}\",\"gists_url\":\"https://api.github.com/users/Time-1-ADS/gists{/gist_id}\",\"starred_url\":\"https://api.github.com/users/Time-1-ADS/starred{/owner}{/repo}\",\"subscriptions_url\":\"https://api.github.com/users/Time-1-ADS/subscriptions\",\"organizations_url\":\"https://api.github.com/users/Time-1-ADS/orgs\",\"repos_url\":\"https://api.github.com/users/Time-1-ADS/repos\",\"events_url\":\"https://api.github.com/users/Time-1-ADS/events{/privacy}\",\"received_events_url\":\"https://api.github.com/users/Time-1-ADS/received_events\",\"type\":\"Organization\",\"site_admin\":false},\"html_url\":\"https://github.com/Time-1-ADS/ProjetoGSW\",\"description\":\"🚀 Projeto GSW Dashboard\",\"fork\":false,\"url\":\"https://api.github.com/repos/Time-1-ADS/ProjetoGSW\",\"forks_url\":\"https://api.github.com/repos/Time-1-ADS/ProjetoGSW/forks\",\"keys_url\":\"https://api.github.com/repos/Time-1-ADS/ProjetoGSW/keys{/key_id}\",\"collaborators_url\":\"https://api.github.com/repos/Time-1-ADS/ProjetoGSW/collaborators{/collaborator}\",\"teams_url\":\"https://api.github.com/repos/Time-1-ADS/ProjetoGSW/teams\",\"hooks_url\":\"https://api.github.com/repos/Time-1-ADS/ProjetoGSW/hooks\",\"issue_events_url\":\"https://api.github.com/repos/Time-1-ADS/ProjetoGSW/issues/events{/number}\",\"events_url\":\"https://api.github.com/repos/Time-1-ADS/ProjetoGSW/events\",\"assignees_url\":\"https://api.github.com/repos/Time-1-ADS/ProjetoGSW/assignees{/user}\",\"branches_url\":\"https://api.github.com/repos/Time-1-ADS/ProjetoGSW/branches{/branch}\",\"tags_url\":\"https://api.github.com/repos/Time-1-ADS/ProjetoGSW/tags\",\"blobs_url\":\"https://api.github.com/repos/Time-1-ADS/ProjetoGSW/git/blobs{/sha}\",\"git_tags_url\":\"https://api.github.com/repos/Time-1-ADS/ProjetoGSW/git/tags{/sha}\",\"git_refs_url\":\"https://api.github.com/repos/Time-1-ADS/ProjetoGSW/git/refs{/sha}\",\"trees_url\":\"https://api.github.com/repos/Time-1-ADS/ProjetoGSW/git/trees{/sha}\",\"statuses_url\":\"https://api.github.com/repos/Time-1-ADS/ProjetoGSW/statuses/{sha}\",\"languages_url\":\"https://api.github.com/repos/Time-1-ADS/ProjetoGSW/languages\",\"stargazers_url\":\"https://api.github.com/repos/Time-1-ADS/ProjetoGSW/stargazers\",\"contributors_url\":\"https://api.github.com/repos/Time-1-ADS/ProjetoGSW/contributors\",\"subscribers_url\":\"https://api.github.com/repos/Time-1-ADS/ProjetoGSW/subscribers\",\"subscription_url\":\"https://api.github.com/repos/Time-1-ADS/ProjetoGSW/subscription\",\"commits_url\":\"https://api.github.com/repos/Time-1-ADS/ProjetoGSW/commits{/sha}\",\"git_commits_url\":\"https://api.github.com/repos/Time-1-ADS/ProjetoGSW/git/commits{/sha}\",\"comments_url\":\"https://api.github.com/repos/Time-1-ADS/ProjetoGSW/comments{/number}\",\"issue_comment_url\":\"https://api.github.com/repos/Time-1-ADS/ProjetoGSW/issues/comments{/number}\",\"contents_url\":\"https://api.github.com/repos/Time-1-ADS/ProjetoGSW/contents/{+path}\",\"compare_url\":\"https://api.github.com/repos/Time-1-ADS/ProjetoGSW/compare/{base}...{head}\",\"merges_url\":\"https://api.github.com/repos/Time-1-ADS/ProjetoGSW/merges\",\"archive_url\":\"https://api.github.com/repos/Time-1-ADS/ProjetoGSW/{archive_format}{/ref}\",\"downloads_url\":\"https://api.github.com/repos/Time-1-ADS/ProjetoGSW/downloads\",\"issues_url\":\"https://api.github.com/repos/Time-1-ADS/ProjetoGSW/issues{/number}\",\"pulls_url\":\"https://api.github.com/repos/Time-1-ADS/ProjetoGSW/pulls{/number}\",\"milestones_url\":\"https://api.github.com/repos/Time-1-ADS/ProjetoGSW/milestones{/number}\",\"notifications_url\":\"https://api.github.com/repos/Time-1-ADS/ProjetoGSW/notifications{?since,all,participating}\",\"labels_url\":\"https://api.github.com/repos/Time-1-ADS/ProjetoGSW/labels{/name}\",\"releases_url\":\"https://api.github.com/repos/Time-1-ADS/ProjetoGSW/releases{/id}\",\"deployments_url\":\"https://api.github.com/repos/Time-1-ADS/ProjetoGSW/deployments\",\"created_at\":\"2021-02-26T02:09:22Z\",\"updated_at\":\"2021-06-02T13:55:24Z\",\"pushed_at\":\"2021-06-05T06:24:11Z\",\"git_url\":\"git://github.com/Time-1-ADS/ProjetoGSW.git\",\"ssh_url\":\"git@github.com:Time-1-ADS/ProjetoGSW.git\",\"clone_url\":\"https://github.com/Time-1-ADS/ProjetoGSW.git\",\"svn_url\":\"https://github.com/Time-1-ADS/ProjetoGSW\",\"homepage\":\"\",\"size\":48853,\"stargazers_count\":4,\"watchers_count\":4,\"language\":\"HTML\",\"has_issues\":true,\"has_projects\":true,\"has_downloads\":true,\"has_wiki\":true,\"has_pages\":false,\"forks_count\":2,\"mirror_url\":null,\"archived\":false,\"disabled\":false,\"open_issues_count\":1,\"license\":null,\"forks\":2,\"open_issues\":1,\"watchers\":4,\"default_branch\":\"main\"}},\"_links\":{\"self\":{\"href\":\"https://api.github.com/repos/Time-1-ADS/ProjetoGSW/pulls/11\"},\"html\":{\"href\":\"https://github.com/Time-1-ADS/ProjetoGSW/pull/11\"},\"issue\":{\"href\":\"https://api.github.com/repos/Time-1-ADS/ProjetoGSW/issues/11\"},\"comments\":{\"href\":\"https://api.github.com/repos/Time-1-ADS/ProjetoGSW/issues/11/comments\"},\"review_comments\":{\"href\":\"https://api.github.com/repos/Time-1-ADS/ProjetoGSW/pulls/11/comments\"},\"review_comment\":{\"href\":\"https://api.github.com/repos/Time-1-ADS/ProjetoGSW/pulls/comments{/number}\"},\"commits\":{\"href\":\"https://api.github.com/repos/Time-1-ADS/ProjetoGSW/pulls/11/commits\"},\"statuses\":{\"href\":\"https://api.github.com/repos/Time-1-ADS/ProjetoGSW/statuses/0b8bb65a89376998413f4032cbd9b720c324cf3a\"}},\"author_association\":\"MEMBER\",\"auto_merge\":null,\"active_lock_reason\":null,\"merged\":false,\"mergeable\":null,\"rebaseable\":null,\"mergeable_state\":\"unknown\",\"merged_by\":null,\"comments\":0,\"review_comments\":0,\"maintainer_can_modify\":false,\"commits\":1,\"additions\":3124,\"deletions\":1368,\"changed_files\":21}},\"public\":true,\"created_at\":\"2021-06-05T06:25:24Z\",\"org\":{\"id\":79676235,\"login\":\"Time-1-ADS\",\"gravatar_id\":\"\",\"url\":\"https://api.github.com/orgs/Time-1-ADS\",\"avatar_url\":\"https://avatars.githubusercontent.com/u/79676235?\"}},{\"id\":\"16653825733\",\"type\":\"PushEvent\",\"actor\":{\"id\":67411203,\"login\":\"stasvitalich\",\"display_login\":\"stasvitalich\",\"gravatar_id\":\"\",\"url\":\"https://api.github.com/users/stasvitalich\",\"avatar_url\":\"https://avatars.githubusercontent.com/u/67411203?\"},\"repo\":{\"id\":373488452,\"name\":\"WebHeroSchool/Stas_Project\",\"url\":\"https://api.github.com/repos/WebHeroSchool/Stas_Project\"},\"payload\":{\"push_id\":7264941986,\"size\":1,\"distinct_size\":1,\"ref\":\"refs/heads/newbranch\",\"head\":\"84ac4c48b90ff9cfe80485f83f4cd478e02aa777\",\"before\":\"f47185eb9aa175e2c5a6fec0dd88f6e4dc96585b\",\"commits\":[{\"sha\":\"84ac4c48b90ff9cfe80485f83f4cd478e02aa777\",\"author\":{\"email\":\"stasvitalich1994@gmail.com\",\"name\":\"Станислав-ПК\\\\Станислав\"},\"message\":\"Расставил имена классов для тегов в файле index.html\",\"distinct\":true,\"url\":\"https://api.github.com/repos/WebHeroSchool/Stas_Project/commits/84ac4c48b90ff9cfe80485f83f4cd478e02aa777\"}]},\"public\":true,\"created_at\":\"2021-06-05T06:25:24Z\",\"org\":{\"id\":42409752,\"login\":\"WebHeroSchool\",\"gravatar_id\":\"\",\"url\":\"https://api.github.com/orgs/WebHeroSchool\",\"avatar_url\":\"https://avatars.githubusercontent.com/u/42409752?\"}},{\"id\":\"16653825730\",\"type\":\"PushEvent\",\"actor\":{\"id\":50306963,\"login\":\"nuhptr\",\"display_login\":\"nuhptr\",\"gravatar_id\":\"\",\"url\":\"https://api.github.com/users/nuhptr\",\"avatar_url\":\"https://avatars.githubusercontent.com/u/50306963?\"},\"repo\":{\"id\":310396643,\"name\":\"nuhptr/Code-Laravel-Journey\",\"url\":\"https://api.github.com/repos/nuhptr/Code-Laravel-Journey\"},\"payload\":{\"push_id\":7264941984,\"size\":1,\"distinct_size\":1,\"ref\":\"refs/heads/master\",\"head\":\"04bcdcbb7eab53e7b5f7f8f0ca36f8cdedb71aef\",\"before\":\"089189338216ea9e1f84626783cfec72980ec4b9\",\"commits\":[{\"sha\":\"04bcdcbb7eab53e7b5f7f8f0ca36f8cdedb71aef\",\"author\":{\"email\":\"nugrahaadi733@gmail.com\",\"name\":\"nuhptr\"},\"message\":\"percabangan\",\"distinct\":true,\"url\":\"https://api.github.com/repos/nuhptr/Code-Laravel-Journey/commits/04bcdcbb7eab53e7b5f7f8f0ca36f8cdedb71aef\"}]},\"public\":true,\"created_at\":\"2021-06-05T06:25:24Z\"},{\"id\":\"16653825731\",\"type\":\"PushEvent\",\"actor\":{\"id\":70147943,\"login\":\"LapisLiozuli\",\"display_login\":\"LapisLiozuli\",\"gravatar_id\":\"\",\"url\":\"https://api.github.com/users/LapisLiozuli\",\"avatar_url\":\"https://avatars.githubusercontent.com/u/70147943?\"},\"repo\":{\"id\":368946856,\"name\":\"LapisLiozuli/Slimeology\",\"url\":\"https://api.github.com/repos/LapisLiozuli/Slimeology\"},\"payload\":{\"push_id\":7264941978,\"size\":11,\"distinct_size\":6,\"ref\":\"refs/heads/1.16.1\",\"head\":\"fb797da991de7f13614ae613711fb714af51b365\",\"before\":\"757c7543dffeb1673682cc816211dbe79edb0127\",\"commits\":[{\"sha\":\"9d788bdea09f7848f74cab45f72d3467bea8dae4\",\"author\":{\"email\":\"70147943+LapisLiozuli@users.noreply.github.com\",\"name\":\"LapisLiozuli\"},\"message\":\"Updating method mappings from 1.16.1 to 1.16.2.\",\"distinct\":false,\"url\":\"https://api.github.com/repos/LapisLiozuli/Slimeology/commits/9d788bdea09f7848f74cab45f72d3467bea8dae4\"},{\"sha\":\"a4fa5cc4f5912fe970200b9a37c36bff82f2ea9c\",\"author\":{\"email\":\"70147943+LapisLiozuli@users.noreply.github.com\",\"name\":\"LapisLiozuli\"},\"message\":\"Added config entry for Debug Slime. Messing around with String-to-Identifier conversion.\",\"distinct\":false,\"url\":\"https://api.github.com/repos/LapisLiozuli/Slimeology/commits/a4fa5cc4f5912fe970200b9a37c36bff82f2ea9c\"},{\"sha\":\"7b30ed0657a6dab1591ac7bcf7194e14a6db1bb5\",\"author\":{\"email\":\"70147943+LapisLiozuli@users.noreply.github.com\",\"name\":\"LapisLiozuli\"},\"message\":\"Fixed spawning of Coloured Slimes in allocated chunks and biomes.\",\"distinct\":false,\"url\":\"https://api.github.com/repos/LapisLiozuli/Slimeology/commits/7b30ed0657a6dab1591ac7bcf7194e14a6db1bb5\"},{\"sha\":\"922f3c22dbde493b3d61e55407bae01b534353a7\",\"author\":{\"email\":\"70147943+LapisLiozuli@users.noreply.github.com\",\"name\":\"LapisLiozuli\"},\"message\":\"Changed version number from 0.1.1 to 0.1.1+1.16.2. Removed recipe for the unused (prototype) item Slimotic Duplicator. Started tidying the code.\",\"distinct\":false,\"url\":\"https://api.github.com/repos/LapisLiozuli/Slimeology/commits/922f3c22dbde493b3d61e55407bae01b534353a7\"},{\"sha\":\"cbc8d77b4ae169ad9b8e2b10929f4e15265e483c\",\"author\":{\"email\":\"70147943+LapisLiozuli@users.noreply.github.com\",\"name\":\"LapisLiozuli\"},\"message\":\"RegisterSEC: Replaced checkBiomeForSpawnEntry() with BiomeModifications.addSpawn(BiomeSelectors.includeByKey()). Removed SpawnRestrictionMixin to use SpawnRestrictionAccessor from FAPI instead. Tidied up code in other files.\",\"distinct\":false,\"url\":\"https://api.github.com/repos/LapisLiozuli/Slimeology/commits/cbc8d77b4ae169ad9b8e2b10929f4e15265e483c\"},{\"sha\":\"f81b6946541dfb48cdab3057b01cdfe29ca1d77b\",\"author\":{\"email\":\"70147943+LapisLiozuli@users.noreply.github.com\",\"name\":\"LapisLiozuli\"},\"message\":\"Tidied up CSB.\",\"distinct\":true,\"url\":\"https://api.github.com/repos/LapisLiozuli/Slimeology/commits/f81b6946541dfb48cdab3057b01cdfe29ca1d77b\"},{\"sha\":\"6603613fb4a6efaf4c777a68a183dfc3110b1b4b\",\"author\":{\"email\":\"70147943+LapisLiozuli@users.noreply.github.com\",\"name\":\"LapisLiozuli\"},\"message\":\"Merge branch 'main' into 1.16.1\\n\\n# Conflicts:\\n#\\tgradle.properties\\n#\\tsrc/main/java/com/lapisliozuli/slimeology/blocks/ColouredSlimeBlocks.java\",\"distinct\":true,\"url\":\"https://api.github.com/repos/LapisLiozuli/Slimeology/commits/6603613fb4a6efaf4c777a68a183dfc3110b1b4b\"},{\"sha\":\"8e939a0536a969763ab5d90eeeee99c27210463c\",\"author\":{\"email\":\"70147943+LapisLiozuli@users.noreply.github.com\",\"name\":\"LapisLiozuli\"},\"message\":\"Added back the 1.16.1 versions of SlimeEntityColoured and RegisterSEC. Added back SpawnRestrictionMixin. Updated gradle.properties for 1.16.1.\",\"distinct\":true,\"url\":\"https://api.github.com/repos/LapisLiozuli/Slimeology/commits/8e939a0536a969763ab5d90eeeee99c27210463c\"},{\"sha\":\"d7618d79b587210363b75c7d0f868661b853e820\",\"author\":{\"email\":\"70147943+LapisLiozuli@users.noreply.github.com\",\"name\":\"LapisLiozuli\"},\"message\":\"no message\",\"distinct\":true,\"url\":\"https://api.github.com/repos/LapisLiozuli/Slimeology/commits/d7618d79b587210363b75c7d0f868661b853e820\"},{\"sha\":\"a09d0b5e2196719052e3b9677b3f5dbd9b2b3edf\",\"author\":{\"email\":\"70147943+LapisLiozuli@users.noreply.github.com\",\"name\":\"LapisLiozuli\"},\"message\":\"Tidied up SlimeEntityColoured and RegisterSEC.\",\"distinct\":true,\"url\":\"https://api.github.com/repos/LapisLiozuli/Slimeology/commits/a09d0b5e2196719052e3b9677b3f5dbd9b2b3edf\"},{\"sha\":\"fb797da991de7f13614ae613711fb714af51b365\",\"author\":{\"email\":\"70147943+LapisLiozuli@users.noreply.github.com\",\"name\":\"LapisLiozuli\"},\"message\":\"Reverted method mappings from 1.16.2 to 1.16.1. Hopefully this will be the last time this happens.\",\"distinct\":true,\"url\":\"https://api.github.com/repos/LapisLiozuli/Slimeology/commits/fb797da991de7f13614ae613711fb714af51b365\"}]},\"public\":true,\"created_at\":\"2021-06-05T06:25:24Z\"},{\"id\":\"16653825727\",\"type\":\"PushEvent\",\"actor\":{\"id\":31046147,\"login\":\"ngawung\",\"display_login\":\"ngawung\",\"gravatar_id\":\"\",\"url\":\"https://api.github.com/users/ngawung\",\"avatar_url\":\"https://avatars.githubusercontent.com/u/31046147?\"},\"repo\":{\"id\":359806769,\"name\":\"ngawung/melody-vue\",\"url\":\"https://api.github.com/repos/ngawung/melody-vue\"},\"payload\":{\"push_id\":7264941976,\"size\":1,\"distinct_size\":1,\"ref\":\"refs/heads/main\",\"head\":\"d3a5f0e4e5597093ebf9cbacbd24be25b03b7a83\",\"before\":\"63d534ced899b494402e49b9e9f0c54abf2e383b\",\"commits\":[{\"sha\":\"d3a5f0e4e5597093ebf9cbacbd24be25b03b7a83\",\"author\":{\"email\":\"ferdian.artwork@gmail.com\",\"name\":\"Ferdian\"},\"message\":\"fix convert btn\",\"distinct\":true,\"url\":\"https://api.github.com/repos/ngawung/melody-vue/commits/d3a5f0e4e5597093ebf9cbacbd24be25b03b7a83\"}]},\"public\":true,\"created_at\":\"2021-06-05T06:25:24Z\"},{\"id\":\"16653825723\",\"type\":\"PushEvent\",\"actor\":{\"id\":74113347,\"login\":\"commit-b0t\",\"display_login\":\"commit-b0t\",\"gravatar_id\":\"\",\"url\":\"https://api.github.com/users/commit-b0t\",\"avatar_url\":\"https://avatars.githubusercontent.com/u/74113347?\"},\"repo\":{\"id\":310908821,\"name\":\"commit-b0t/commit-b0t\",\"url\":\"https://api.github.com/repos/commit-b0t/commit-b0t\"},\"payload\":{\"push_id\":7264941975,\"size\":1,\"distinct_size\":1,\"ref\":\"refs/heads/master\",\"head\":\"6c3b1fab23440ae7bea527a829e8e54facc6487a\",\"before\":\"80439859eaf1d667bbd35aaad6abf8c97141564a\",\"commits\":[{\"sha\":\"6c3b1fab23440ae7bea527a829e8e54facc6487a\",\"author\":{\"email\":\"74113347+commit-b0t@users.noreply.github.com\",\"name\":\"Commit\"},\"message\":\"chore: updated README.md\",\"distinct\":true,\"url\":\"https://api.github.com/repos/commit-b0t/commit-b0t/commits/6c3b1fab23440ae7bea527a829e8e54facc6487a\"}]},\"public\":true,\"created_at\":\"2021-06-05T06:25:24Z\"},{\"id\":\"16653825721\",\"type\":\"PushEvent\",\"actor\":{\"id\":68417258,\"login\":\"breakingheatmap\",\"display_login\":\"breakingheatmap\",\"gravatar_id\":\"\",\"url\":\"https://api.github.com/users/breakingheatmap\",\"avatar_url\":\"https://avatars.githubusercontent.com/u/68417258?\"},\"repo\":{\"id\":280356388,\"name\":\"breakingheatmap/breakingheatmap\",\"url\":\"https://api.github.com/repos/breakingheatmap/breakingheatmap\"},\"payload\":{\"push_id\":7264941981,\"size\":1,\"distinct_size\":1,\"ref\":\"refs/heads/master\",\"head\":\"bf3fbc11c41d784179cd4e0fff4a1006f364535a\",\"before\":\"ad8a7444d55b2c4a265d0c1e1f0cb9efb7727188\",\"commits\":[{\"sha\":\"bf3fbc11c41d784179cd4e0fff4a1006f364535a\",\"author\":{\"email\":\"sudomaze@gmail.com\",\"name\":\"sudomaze\"},\"message\":\"1622874321\",\"distinct\":true,\"url\":\"https://api.github.com/repos/breakingheatmap/breakingheatmap/commits/bf3fbc11c41d784179cd4e0fff4a1006f364535a\"}]},\"public\":true,\"created_at\":\"2021-06-05T06:25:24Z\"},{\"id\":\"16653825720\",\"type\":\"PushEvent\",\"actor\":{\"id\":28452932,\"login\":\"mohamedelmesawy\",\"display_login\":\"mohamedelmesawy\",\"gravatar_id\":\"\",\"url\":\"https://api.github.com/users/mohamedelmesawy\",\"avatar_url\":\"https://avatars.githubusercontent.com/u/28452932?\"},\"repo\":{\"id\":374036027,\"name\":\"mohamedelmesawy/Java_EDA_Code\",\"url\":\"https://api.github.com/repos/mohamedelmesawy/Java_EDA_Code\"},\"payload\":{\"push_id\":7264941979,\"size\":1,\"distinct_size\":1,\"ref\":\"refs/heads/main\",\"head\":\"a285115d37b48c7d43ad72532a703b9d00cdb6f3\",\"before\":\"919bde2ce22400e1dfb8df00d07b96b30c0460d0\",\"commits\":[{\"sha\":\"a285115d37b48c7d43ad72532a703b9d00cdb6f3\",\"author\":{\"email\":\"mohamedelmesawy1993@gmail.com\",\"name\":\"mohamedelmesawy\"},\"message\":\"Pyramid DAO\",\"distinct\":true,\"url\":\"https://api.github.com/repos/mohamedelmesawy/Java_EDA_Code/commits/a285115d37b48c7d43ad72532a703b9d00cdb6f3\"}]},\"public\":true,\"created_at\":\"2021-06-05T06:25:24Z\"},{\"id\":\"16653825719\",\"type\":\"PushEvent\",\"actor\":{\"id\":80952336,\"login\":\"weather-now-data2\",\"display_login\":\"weather-now-data2\",\"gravatar_id\":\"\",\"url\":\"https://api.github.com/users/weather-now-data2\",\"avatar_url\":\"https://avatars.githubusercontent.com/u/80952336?\"},\"repo\":{\"id\":349369264,\"name\":\"weather-now-data2/weather-now-data2.github.io\",\"url\":\"https://api.github.com/repos/weather-now-data2/weather-now-data2.github.io\"},\"payload\":{\"push_id\":7264941980,\"size\":1,\"distinct_size\":1,\"ref\":\"refs/heads/main\",\"head\":\"b34b6c0263784e23e09f52be5fdd1731ca32ef57\",\"before\":\"0f4a4fadaf57e0f17e9e9b22041bc783e2143ecb\",\"commits\":[{\"sha\":\"b34b6c0263784e23e09f52be5fdd1731ca32ef57\",\"author\":{\"email\":\"80952336+weather-now-data2@users.noreply.github.com\",\"name\":\"weather-now-data2\"},\"message\":\"Create data/forecast/20210611/202106111800-cloud_7_2_3_95.jpg\",\"distinct\":true,\"url\":\"https://api.github.com/repos/weather-now-data2/weather-now-data2.github.io/commits/b34b6c0263784e23e09f52be5fdd1731ca32ef57\"}]},\"public\":true,\"created_at\":\"2021-06-05T06:25:24Z\"},{\"id\":\"16653825714\",\"type\":\"PushEvent\",\"actor\":{\"id\":61834038,\"login\":\"leemyeonji\",\"display_login\":\"leemyeonji\",\"gravatar_id\":\"\",\"url\":\"https://api.github.com/users/leemyeonji\",\"avatar_url\":\"https://avatars.githubusercontent.com/u/61834038?\"},\"repo\":{\"id\":374017944,\"name\":\"leemyeonji/SwiftUI-Combine-and-Data\",\"url\":\"https://api.github.com/repos/leemyeonji/SwiftUI-Combine-and-Data\"},\"payload\":{\"push_id\":7264941970,\"size\":1,\"distinct_size\":1,\"ref\":\"refs/heads/main\",\"head\":\"cf2ea4d98320169d1e533c05ddc17db37fb2b610\",\"before\":\"cbb82b520b717010e54e32eb5f83ac9a96c206db\",\"commits\":[{\"sha\":\"cf2ea4d98320169d1e533c05ddc17db37fb2b610\",\"author\":{\"email\":\"61834038+leemyeonji@users.noreply.github.com\",\"name\":\"leemyeonji\"},\"message\":\"NavigationLink and Link\",\"distinct\":true,\"url\":\"https://api.github.com/repos/leemyeonji/SwiftUI-Combine-and-Data/commits/cf2ea4d98320169d1e533c05ddc17db37fb2b610\"}]},\"public\":true,\"created_at\":\"2021-06-05T06:25:24Z\"},{\"id\":\"16653825716\",\"type\":\"IssueCommentEvent\",\"actor\":{\"id\":41898282,\"login\":\"github-actions[bot]\",\"display_login\":\"github-actions\",\"gravatar_id\":\"\",\"url\":\"https://api.github.com/users/github-actions[bot]\",\"avatar_url\":\"https://avatars.githubusercontent.com/u/41898282?\"},\"repo\":{\"id\":337482312,\"name\":\"Y-Doka/content\",\"url\":\"https://api.github.com/repos/Y-Doka/content\"},\"payload\":{\"action\":\"created\",\"issue\":{\"url\":\"https://api.github.com/repos/Y-Doka/content/issues/813\",\"repository_url\":\"https://api.github.com/repos/Y-Doka/content\",\"labels_url\":\"https://api.github.com/repos/Y-Doka/content/issues/813/labels{/name}\",\"comments_url\":\"https://api.github.com/repos/Y-Doka/content/issues/813/comments\",\"events_url\":\"https://api.github.com/repos/Y-Doka/content/issues/813/events\",\"html_url\":\"https://github.com/Y-Doka/content/pull/813\",\"id\":912118163,\"node_id\":\"MDExOlB1bGxSZXF1ZXN0NjYyMzEyMTY2\",\"number\":813,\"title\":\"Добавляет статью про CSS-переменные\",\"user\":{\"login\":\"ezhkov\",\"id\":568355,\"node_id\":\"MDQ6VXNlcjU2ODM1NQ==\",\"avatar_url\":\"https://avatars.githubusercontent.com/u/568355?v=4\",\"gravatar_id\":\"\",\"url\":\"https://api.github.com/users/ezhkov\",\"html_url\":\"https://github.com/ezhkov\",\"followers_url\":\"https://api.github.com/users/ezhkov/followers\",\"following_url\":\"https://api.github.com/users/ezhkov/following{/other_user}\",\"gists_url\":\"https://api.github.com/users/ezhkov/gists{/gist_id}\",\"starred_url\":\"https://api.github.com/users/ezhkov/starred{/owner}{/repo}\",\"subscriptions_url\":\"https://api.github.com/users/ezhkov/subscriptions\",\"organizations_url\":\"https://api.github.com/users/ezhkov/orgs\",\"repos_url\":\"https://api.github.com/users/ezhkov/repos\",\"events_url\":\"https://api.github.com/users/ezhkov/events{/privacy}\",\"received_events_url\":\"https://api.github.com/users/ezhkov/received_events\",\"type\":\"User\",\"site_admin\":false},\"labels\":[{\"id\":2913109522,\"node_id\":\"MDU6TGFiZWwyOTEzMTA5NTIy\",\"url\":\"https://api.github.com/repos/Y-Doka/content/labels/css\",\"name\":\"css\",\"color\":\"1D76DB\",\"default\":false,\"description\":\"Контент по CSS\"},{\"id\":2913130055,\"node_id\":\"MDU6TGFiZWwyOTEzMTMwMDU1\",\"url\":\"https://api.github.com/repos/Y-Doka/content/labels/%D1%81%D1%82%D0%B0%D1%82%D1%8C%D1%8F\",\"name\":\"статья\",\"color\":\"cccccc\",\"default\":false,\"description\":\"Расширенный материал с авторским мнением, примерами и рассуждениями\"}],\"state\":\"open\",\"locked\":false,\"assignee\":null,\"assignees\":[],\"milestone\":null,\"comments\":1,\"created_at\":\"2021-06-05T06:24:50Z\",\"updated_at\":\"2021-06-05T06:25:24Z\",\"closed_at\":null,\"author_association\":\"CONTRIBUTOR\",\"active_lock_reason\":null,\"pull_request\":{\"url\":\"https://api.github.com/repos/Y-Doka/content/pulls/813\",\"html_url\":\"https://github.com/Y-Doka/content/pull/813\",\"diff_url\":\"https://github.com/Y-Doka/content/pull/813.diff\",\"patch_url\":\"https://github.com/Y-Doka/content/pull/813.patch\"},\"body\":\"Закрывает #797 \",\"performed_via_github_app\":null},\"comment\":{\"url\":\"https://api.github.com/repos/Y-Doka/content/issues/comments/855192373\",\"html_url\":\"https://github.com/Y-Doka/content/pull/813#issuecomment-855192373\",\"issue_url\":\"https://api.github.com/repos/Y-Doka/content/issues/813\",\"id\":855192373,\"node_id\":\"MDEyOklzc3VlQ29tbWVudDg1NTE5MjM3Mw==\",\"user\":{\"login\":\"github-actions[bot]\",\"id\":41898282,\"node_id\":\"MDM6Qm90NDE4OTgyODI=\",\"avatar_url\":\"https://avatars.githubusercontent.com/in/15368?v=4\",\"gravatar_id\":\"\",\"url\":\"https://api.github.com/users/github-actions%5Bbot%5D\",\"html_url\":\"https://github.com/apps/github-actions\",\"followers_url\":\"https://api.github.com/users/github-actions%5Bbot%5D/followers\",\"following_url\":\"https://api.github.com/users/github-actions%5Bbot%5D/following{/other_user}\",\"gists_url\":\"https://api.github.com/users/github-actions%5Bbot%5D/gists{/gist_id}\",\"starred_url\":\"https://api.github.com/users/github-actions%5Bbot%5D/starred{/owner}{/repo}\",\"subscriptions_url\":\"https://api.github.com/users/github-actions%5Bbot%5D/subscriptions\",\"organizations_url\":\"https://api.github.com/users/github-actions%5Bbot%5D/orgs\",\"repos_url\":\"https://api.github.com/users/github-actions%5Bbot%5D/repos\",\"events_url\":\"https://api.github.com/users/github-actions%5Bbot%5D/events{/privacy}\",\"received_events_url\":\"https://api.github.com/users/github-actions%5Bbot%5D/received_events\",\"type\":\"Bot\",\"site_admin\":false},\"created_at\":\"2021-06-05T06:25:24Z\",\"updated_at\":\"2021-06-05T06:25:24Z\",\"author_association\":\"NONE\",\"body\":\"\\nИдёт публикация превью для контента из 9c84b329e7074e3f9b2bff615847dcb71be6cadf… Подробнее [в логах](https://github.com/Y-Doka/content/runs/2751708868).\\n  \\n<!-- Sticky Pull Request Comment: Surge Preview preview' -->\",\"performed_via_github_app\":null}},\"public\":true,\"created_at\":\"2021-06-05T06:25:24Z\",\"org\":{\"id\":68655605,\"login\":\"Y-Doka\",\"gravatar_id\":\"\",\"url\":\"https://api.github.com/orgs/Y-Doka\",\"avatar_url\":\"https://avatars.githubusercontent.com/u/68655605?\"}},{\"id\":\"16653825713\",\"type\":\"PushEvent\",\"actor\":{\"id\":65614408,\"login\":\"Soniartha\",\"display_login\":\"Soniartha\",\"gravatar_id\":\"\",\"url\":\"https://api.github.com/users/Soniartha\",\"avatar_url\":\"https://avatars.githubusercontent.com/u/65614408?\"},\"repo\":{\"id\":374031445,\"name\":\"Soniartha/pohon.adopsi.riau\",\"url\":\"https://api.github.com/repos/Soniartha/pohon.adopsi.riau\"},\"payload\":{\"push_id\":7264941972,\"size\":1,\"distinct_size\":1,\"ref\":\"refs/heads/main\",\"head\":\"90c3eee619dfd899b0cc0f7d798b0d84c6a92a2c\",\"before\":\"69798da9df1091d32c8f28b0cc4511757ffe36da\",\"commits\":[{\"sha\":\"90c3eee619dfd899b0cc0f7d798b0d84c6a92a2c\",\"author\":{\"email\":\"soniarthasimarmata@gmail.com\",\"name\":\"Soniartha Simarmata\"},\"message\":\"mengubah harga pohon dewasa\",\"distinct\":true,\"url\":\"https://api.github.com/repos/Soniartha/pohon.adopsi.riau/commits/90c3eee619dfd899b0cc0f7d798b0d84c6a92a2c\"}]},\"public\":true,\"created_at\":\"2021-06-05T06:25:24Z\"},{\"id\":\"16653825703\",\"type\":\"PushEvent\",\"actor\":{\"id\":38213500,\"login\":\"LinkLiar\",\"display_login\":\"LinkLiar\",\"gravatar_id\":\"\",\"url\":\"https://api.github.com/users/LinkLiar\",\"avatar_url\":\"https://avatars.githubusercontent.com/u/38213500?\"},\"repo\":{\"id\":278708061,\"name\":\"LinkLiar/EngineerRobot\",\"url\":\"https://api.github.com/repos/LinkLiar/EngineerRobot\"},\"payload\":{\"push_id\":7264941965,\"size\":1,\"distinct_size\":1,\"ref\":\"refs/heads/master\",\"head\":\"69799874e077ab083f6fe06fbff1a5573dfaceae\",\"before\":\"5d81995d62966432289f540ca9fc1efc5f4de46f\",\"commits\":[{\"sha\":\"69799874e077ab083f6fe06fbff1a5573dfaceae\",\"author\":{\"email\":\"38213500+LinkLiar@users.noreply.github.com\",\"name\":\"Link\"},\"message\":\"Update README.md\",\"distinct\":true,\"url\":\"https://api.github.com/repos/LinkLiar/EngineerRobot/commits/69799874e077ab083f6fe06fbff1a5573dfaceae\"}]},\"public\":true,\"created_at\":\"2021-06-05T06:25:24Z\"},{\"id\":\"16653825698\",\"type\":\"PushEvent\",\"actor\":{\"id\":29708070,\"login\":\"AMTitan\",\"display_login\":\"AMTitan\",\"gravatar_id\":\"\",\"url\":\"https://api.github.com/users/AMTitan\",\"avatar_url\":\"https://avatars.githubusercontent.com/u/29708070?\"},\"repo\":{\"id\":335998483,\"name\":\"AMTitan/AMTitan\",\"url\":\"https://api.github.com/repos/AMTitan/AMTitan\"},\"payload\":{\"push_id\":7264941966,\"size\":1,\"distinct_size\":1,\"ref\":\"refs/heads/master\",\"head\":\"a46ac414fed99d77044d5f611ee5d6c1b7642355\",\"before\":\"e193ca70453dcff5e3f34b19177aa2d40e8d8ca1\",\"commits\":[{\"sha\":\"a46ac414fed99d77044d5f611ee5d6c1b7642355\",\"author\":{\"email\":\"actions@users.noreply.github.com\",\"name\":\"Automated Publisher\"},\"message\":\"Automated publish: Sat Jun  5 06:25:20 UTC 2021 e193ca70453dcff5e3f34b19177aa2d40e8d8ca1\",\"distinct\":true,\"url\":\"https://api.github.com/repos/AMTitan/AMTitan/commits/a46ac414fed99d77044d5f611ee5d6c1b7642355\"}]},\"public\":true,\"created_at\":\"2021-06-05T06:25:24Z\"},{\"id\":\"16653825700\",\"type\":\"PushEvent\",\"actor\":{\"id\":6692083,\"login\":\"tyeth\",\"display_login\":\"tyeth\",\"gravatar_id\":\"\",\"url\":\"https://api.github.com/users/tyeth\",\"avatar_url\":\"https://avatars.githubusercontent.com/u/6692083?\"},\"repo\":{\"id\":372955526,\"name\":\"tyeth/growlab-pics-greenhouse\",\"url\":\"https://api.github.com/repos/tyeth/growlab-pics-greenhouse\"},\"payload\":{\"push_id\":7264941962,\"size\":1,\"distinct_size\":1,\"ref\":\"refs/heads/main\",\"head\":\"fc56f3dd47184e78f580a4a6bd8c1f467fb3fe37\",\"before\":\"f12345281672811b1d8456a8ad8301be982a6625\",\"commits\":[{\"sha\":\"fc56f3dd47184e78f580a4a6bd8c1f467fb3fe37\",\"author\":{\"email\":\"tyethgundry@googlemail.com\",\"name\":\"Tyeth\"},\"message\":\"Next batch\",\"distinct\":true,\"url\":\"https://api.github.com/repos/tyeth/growlab-pics-greenhouse/commits/fc56f3dd47184e78f580a4a6bd8c1f467fb3fe37\"}]},\"public\":true,\"created_at\":\"2021-06-05T06:25:24Z\"},{\"id\":\"16653825693\",\"type\":\"PushEvent\",\"actor\":{\"id\":52494248,\"login\":\"Sirapavee\",\"display_login\":\"Sirapavee\",\"gravatar_id\":\"\",\"url\":\"https://api.github.com/users/Sirapavee\",\"avatar_url\":\"https://avatars.githubusercontent.com/u/52494248?\"},\"repo\":{\"id\":368820921,\"name\":\"Sirapavee/my-website\",\"url\":\"https://api.github.com/repos/Sirapavee/my-website\"},\"payload\":{\"push_id\":7264941954,\"size\":1,\"distinct_size\":1,\"ref\":\"refs/heads/main\",\"head\":\"9e3cddad296cfb10c625f265f1e6afd495c9e687\",\"before\":\"7d3fb42a9283940bf1116ba3527cd999290f719c\",\"commits\":[{\"sha\":\"9e3cddad296cfb10c625f265f1e6afd495c9e687\",\"author\":{\"email\":\"52494248+Sirapavee@users.noreply.github.com\",\"name\":\"Sirapavee\"},\"message\":\"Update projects.ts\",\"distinct\":true,\"url\":\"https://api.github.com/repos/Sirapavee/my-website/commits/9e3cddad296cfb10c625f265f1e6afd495c9e687\"}]},\"public\":true,\"created_at\":\"2021-06-05T06:25:24Z\"},{\"id\":\"16653825695\",\"type\":\"IssueCommentEvent\",\"actor\":{\"id\":34301187,\"login\":\"AyushBherwani1998\",\"display_login\":\"AyushBherwani1998\",\"gravatar_id\":\"\",\"url\":\"https://api.github.com/users/AyushBherwani1998\",\"avatar_url\":\"https://avatars.githubusercontent.com/u/34301187?\"},\"repo\":{\"id\":136667574,\"name\":\"flutter/samples\",\"url\":\"https://api.github.com/repos/flutter/samples\"},\"payload\":{\"action\":\"created\",\"issue\":{\"url\":\"https://api.github.com/repos/flutter/samples/issues/803\",\"repository_url\":\"https://api.github.com/repos/flutter/samples\",\"labels_url\":\"https://api.github.com/repos/flutter/samples/issues/803/labels{/name}\",\"comments_url\":\"https://api.github.com/repos/flutter/samples/issues/803/comments\",\"events_url\":\"https://api.github.com/repos/flutter/samples/issues/803/events\",\"html_url\":\"https://github.com/flutter/samples/pull/803\",\"id\":906405088,\"node_id\":\"MDExOlB1bGxSZXF1ZXN0NjU3NDE3NzE1\",\"number\":803,\"title\":\"[platform_channels] Migrate to sound null safety\",\"user\":{\"login\":\"AyushBherwani1998\",\"id\":34301187,\"node_id\":\"MDQ6VXNlcjM0MzAxMTg3\",\"avatar_url\":\"https://avatars.githubusercontent.com/u/34301187?v=4\",\"gravatar_id\":\"\",\"url\":\"https://api.github.com/users/AyushBherwani1998\",\"html_url\":\"https://github.com/AyushBherwani1998\",\"followers_url\":\"https://api.github.com/users/AyushBherwani1998/followers\",\"following_url\":\"https://api.github.com/users/AyushBherwani1998/following{/other_user}\",\"gists_url\":\"https://api.github.com/users/AyushBherwani1998/gists{/gist_id}\",\"starred_url\":\"https://api.github.com/users/AyushBherwani1998/starred{/owner}{/repo}\",\"subscriptions_url\":\"https://api.github.com/users/AyushBherwani1998/subscriptions\",\"organizations_url\":\"https://api.github.com/users/AyushBherwani1998/orgs\",\"repos_url\":\"https://api.github.com/users/AyushBherwani1998/repos\",\"events_url\":\"https://api.github.com/users/AyushBherwani1998/events{/privacy}\",\"received_events_url\":\"https://api.github.com/users/AyushBherwani1998/received_events\",\"type\":\"User\",\"site_admin\":false},\"labels\":[{\"id\":2789850388,\"node_id\":\"MDU6TGFiZWwyNzg5ODUwMzg4\",\"url\":\"https://api.github.com/repos/flutter/samples/labels/cla:%20yes\",\"name\":\"cla: yes\",\"color\":\"1d76db\",\"default\":false,\"description\":\"Contributor license agreement signed by all authors\"}],\"state\":\"open\",\"locked\":false,\"assignee\":null,\"assignees\":[],\"milestone\":null,\"comments\":4,\"created_at\":\"2021-05-29T07:14:35Z\",\"updated_at\":\"2021-06-05T06:25:23Z\",\"closed_at\":null,\"author_association\":\"MEMBER\",\"active_lock_reason\":null,\"pull_request\":{\"url\":\"https://api.github.com/repos/flutter/samples/pulls/803\",\"html_url\":\"https://github.com/flutter/samples/pull/803\",\"diff_url\":\"https://github.com/flutter/samples/pull/803.diff\",\"patch_url\":\"https://github.com/flutter/samples/pull/803.patch\"},\"body\":\"## Description\\r\\nMigrates platform_channels sample to sound null safety\",\"performed_via_github_app\":null},\"comment\":{\"url\":\"https://api.github.com/repos/flutter/samples/issues/comments/855192372\",\"html_url\":\"https://github.com/flutter/samples/pull/803#issuecomment-855192372\",\"issue_url\":\"https://api.github.com/repos/flutter/samples/issues/803\",\"id\":855192372,\"node_id\":\"MDEyOklzc3VlQ29tbWVudDg1NTE5MjM3Mg==\",\"user\":{\"login\":\"AyushBherwani1998\",\"id\":34301187,\"node_id\":\"MDQ6VXNlcjM0MzAxMTg3\",\"avatar_url\":\"https://avatars.githubusercontent.com/u/34301187?v=4\",\"gravatar_id\":\"\",\"url\":\"https://api.github.com/users/AyushBherwani1998\",\"html_url\":\"https://github.com/AyushBherwani1998\",\"followers_url\":\"https://api.github.com/users/AyushBherwani1998/followers\",\"following_url\":\"https://api.github.com/users/AyushBherwani1998/following{/other_user}\",\"gists_url\":\"https://api.github.com/users/AyushBherwani1998/gists{/gist_id}\",\"starred_url\":\"https://api.github.com/users/AyushBherwani1998/starred{/owner}{/repo}\",\"subscriptions_url\":\"https://api.github.com/users/AyushBherwani1998/subscriptions\",\"organizations_url\":\"https://api.github.com/users/AyushBherwani1998/orgs\",\"repos_url\":\"https://api.github.com/users/AyushBherwani1998/repos\",\"events_url\":\"https://api.github.com/users/AyushBherwani1998/events{/privacy}\",\"received_events_url\":\"https://api.github.com/users/AyushBherwani1998/received_events\",\"type\":\"User\",\"site_admin\":false},\"created_at\":\"2021-06-05T06:25:23Z\",\"updated_at\":\"2021-06-05T06:25:23Z\",\"author_association\":\"MEMBER\",\"body\":\"> Thanks for doing this migration, by the way. I hope you and your family are doing well.\\r\\nThank you, dad and aunt tested positive last week. Currently they are in isolation and recovering well.\",\"performed_via_github_app\":null}},\"public\":true,\"created_at\":\"2021-06-05T06:25:24Z\",\"org\":{\"id\":14101776,\"login\":\"flutter\",\"gravatar_id\":\"\",\"url\":\"https://api.github.com/orgs/flutter\",\"avatar_url\":\"https://avatars.githubusercontent.com/u/14101776?\"}},{\"id\":\"16653825678\",\"type\":\"PushEvent\",\"actor\":{\"id\":27728022,\"login\":\"min20120907\",\"display_login\":\"min20120907\",\"gravatar_id\":\"\",\"url\":\"https://api.github.com/users/min20120907\",\"avatar_url\":\"https://avatars.githubusercontent.com/u/27728022?\"},\"repo\":{\"id\":173542031,\"name\":\"min20120907/NewsAnalyzer\",\"url\":\"https://api.github.com/repos/min20120907/NewsAnalyzer\"},\"payload\":{\"push_id\":7264941943,\"size\":1,\"distinct_size\":1,\"ref\":\"refs/heads/master\",\"head\":\"9504c4ec8c0832092f04e64f229d73c4410058ec\",\"before\":\"a6bfba416e4fb48258dcc00eb11f03d61b77559b\",\"commits\":[{\"sha\":\"9504c4ec8c0832092f04e64f229d73c4410058ec\",\"author\":{\"email\":\"jefflin.je598@gmail.com\",\"name\":\"Cangyu Lin\"},\"message\":\"hide keys\",\"distinct\":true,\"url\":\"https://api.github.com/repos/min20120907/NewsAnalyzer/commits/9504c4ec8c0832092f04e64f229d73c4410058ec\"}]},\"public\":true,\"created_at\":\"2021-06-05T06:25:23Z\"},{\"id\":\"16653825688\",\"type\":\"PushEvent\",\"actor\":{\"id\":4977902,\"login\":\"axxdeveloper\",\"display_login\":\"axxdeveloper\",\"gravatar_id\":\"\",\"url\":\"https://api.github.com/users/axxdeveloper\",\"avatar_url\":\"https://avatars.githubusercontent.com/u/4977902?\"},\"repo\":{\"id\":367413667,\"name\":\"axxdeveloper/mymachines\",\"url\":\"https://api.github.com/repos/axxdeveloper/mymachines\"},\"payload\":{\"push_id\":7264941957,\"size\":5,\"distinct_size\":5,\"ref\":\"refs/heads/main\",\"head\":\"7f08e1121dccd7acb65e2863e7fbc2885877284a\",\"before\":\"adb0aa0c249489d9d80d28eacfe029847d8ac8f1\",\"commits\":[{\"sha\":\"f7af2087fb933620ccc7f4640c4b0bda3c317b2d\",\"author\":{\"email\":\"shooeugenesea.tw@gmail.com\",\"name\":\"shooeugenesea.tw@gmail.com\"},\"message\":\"change ip for isaac-ubuntu-kvm\",\"distinct\":true,\"url\":\"https://api.github.com/repos/axxdeveloper/mymachines/commits/f7af2087fb933620ccc7f4640c4b0bda3c317b2d\"},{\"sha\":\"14598c9162220d203eda0800bad6ee63fcda3f46\",\"author\":{\"email\":\"shooeugenesea.tw@gmail.com\",\"name\":\"shooeugenesea.tw@gmail.com\"},\"message\":\"change ip for isaac-ubuntu-kvm\",\"distinct\":true,\"url\":\"https://api.github.com/repos/axxdeveloper/mymachines/commits/14598c9162220d203eda0800bad6ee63fcda3f46\"},{\"sha\":\"59a8103fc072be519ef24885a314d8a6e5db53a3\",\"author\":{\"email\":\"shooeugenesea.tw@gmail.com\",\"name\":\"shooeugenesea.tw@gmail.com\"},\"message\":\"change ip for isaac-ubuntu-kvm\",\"distinct\":true,\"url\":\"https://api.github.com/repos/axxdeveloper/mymachines/commits/59a8103fc072be519ef24885a314d8a6e5db53a3\"},{\"sha\":\"c564b8f2aa8c1ee056d1415b30f1cab4a0da4e52\",\"author\":{\"email\":\"shooeugenesea.tw@gmail.com\",\"name\":\"shooeugenesea.tw@gmail.com\"},\"message\":\"change ip for isaac-ubuntu-kvm\",\"distinct\":true,\"url\":\"https://api.github.com/repos/axxdeveloper/mymachines/commits/c564b8f2aa8c1ee056d1415b30f1cab4a0da4e52\"},{\"sha\":\"7f08e1121dccd7acb65e2863e7fbc2885877284a\",\"author\":{\"email\":\"shooeugenesea.tw@gmail.com\",\"name\":\"shooeugenesea.tw@gmail.com\"},\"message\":\"change ip for isaac-ubuntu-kvm\",\"distinct\":true,\"url\":\"https://api.github.com/repos/axxdeveloper/mymachines/commits/7f08e1121dccd7acb65e2863e7fbc2885877284a\"}]},\"public\":true,\"created_at\":\"2021-06-05T06:25:24Z\"},{\"id\":\"16653825683\",\"type\":\"PushEvent\",\"actor\":{\"id\":19388676,\"login\":\"fanxiushu\",\"display_login\":\"fanxiushu\",\"gravatar_id\":\"\",\"url\":\"https://api.github.com/users/fanxiushu\",\"avatar_url\":\"https://avatars.githubusercontent.com/u/19388676?\"},\"repo\":{\"id\":76175985,\"name\":\"fanxiushu/xFsRedir\",\"url\":\"https://api.github.com/repos/fanxiushu/xFsRedir\"},\"payload\":{\"push_id\":7264941955,\"size\":1,\"distinct_size\":1,\"ref\":\"refs/heads/master\",\"head\":\"f8ed7c6385c8d73b9f01f9c9df166c7c9fc5990a\",\"before\":\"a9250853d968ec425709ff43114f0247aabf4906\",\"commits\":[{\"sha\":\"f8ed7c6385c8d73b9f01f9c9df166c7c9fc5990a\",\"author\":{\"email\":\"fanxiushu@163.com\",\"name\":\"Fanxiushu\"},\"message\":\"xfsredir files system uploaded\",\"distinct\":true,\"url\":\"https://api.github.com/repos/fanxiushu/xFsRedir/commits/f8ed7c6385c8d73b9f01f9c9df166c7c9fc5990a\"}]},\"public\":true,\"created_at\":\"2021-06-05T06:25:24Z\"},{\"id\":\"16653825692\",\"type\":\"PushEvent\",\"actor\":{\"id\":80952336,\"login\":\"weather-now-data2\",\"display_login\":\"weather-now-data2\",\"gravatar_id\":\"\",\"url\":\"https://api.github.com/users/weather-now-data2\",\"avatar_url\":\"https://avatars.githubusercontent.com/u/80952336?\"},\"repo\":{\"id\":349369264,\"name\":\"weather-now-data2/weather-now-data2.github.io\",\"url\":\"https://api.github.com/repos/weather-now-data2/weather-now-data2.github.io\"},\"payload\":{\"push_id\":7264941956,\"size\":1,\"distinct_size\":1,\"ref\":\"refs/heads/main\",\"head\":\"0f4a4fadaf57e0f17e9e9b22041bc783e2143ecb\",\"before\":\"f62d3d2d341f9bc4046a8f8e304bf05dbfa0009f\",\"commits\":[{\"sha\":\"0f4a4fadaf57e0f17e9e9b22041bc783e2143ecb\",\"author\":{\"email\":\"80952336+weather-now-data2@users.noreply.github.com\",\"name\":\"weather-now-data2\"},\"message\":\"Create data/forecast/20210611/202106111800-cloud_6_3_3_95.jpg\",\"distinct\":true,\"url\":\"https://api.github.com/repos/weather-now-data2/weather-now-data2.github.io/commits/0f4a4fadaf57e0f17e9e9b22041bc783e2143ecb\"}]},\"public\":true,\"created_at\":\"2021-06-05T06:25:24Z\"},{\"id\":\"16653825679\",\"type\":\"CreateEvent\",\"actor\":{\"id\":85383194,\"login\":\"jgwg\",\"display_login\":\"jgwg\",\"gravatar_id\":\"\",\"url\":\"https://api.github.com/users/jgwg\",\"avatar_url\":\"https://avatars.githubusercontent.com/u/85383194?\"},\"repo\":{\"id\":374037817,\"name\":\"jgwg/goorm-aut\",\"url\":\"https://api.github.com/repos/jgwg/goorm-aut\"},\"payload\":{\"ref\":\"master\",\"ref_type\":\"branch\",\"master_branch\":\"master\",\"description\":null,\"pusher_type\":\"user\"},\"public\":true,\"created_at\":\"2021-06-05T06:25:23Z\"},{\"id\":\"16653825668\",\"type\":\"PushEvent\",\"actor\":{\"id\":44921155,\"login\":\"ourhimalayas\",\"display_login\":\"ourhimalayas\",\"gravatar_id\":\"\",\"url\":\"https://api.github.com/users/ourhimalayas\",\"avatar_url\":\"https://avatars.githubusercontent.com/u/44921155?\"},\"repo\":{\"id\":156971998,\"name\":\"ourhimalayas/txt\",\"url\":\"https://api.github.com/repos/ourhimalayas/txt\"},\"payload\":{\"push_id\":7264941936,\"size\":1,\"distinct_size\":1,\"ref\":\"refs/heads/master\",\"head\":\"aa3ae3e9377dc4d84b152283a1dcf4ff4c341cbb\",\"before\":\"e6f3f79511ed6e0efea21f8c97ee347f894a4d8c\",\"commits\":[{\"sha\":\"aa3ae3e9377dc4d84b152283a1dcf4ff4c341cbb\",\"author\":{\"email\":\"44921155+ourhimalayas@users.noreply.github.com\",\"name\":\"ourhimalayas\"},\"message\":\"update\",\"distinct\":true,\"url\":\"https://api.github.com/repos/ourhimalayas/txt/commits/aa3ae3e9377dc4d84b152283a1dcf4ff4c341cbb\"}]},\"public\":true,\"created_at\":\"2021-06-05T06:25:23Z\"},{\"id\":\"16653825667\",\"type\":\"PushEvent\",\"actor\":{\"id\":82971453,\"login\":\"magorska\",\"display_login\":\"magorska\",\"gravatar_id\":\"\",\"url\":\"https://api.github.com/users/magorska\",\"avatar_url\":\"https://avatars.githubusercontent.com/u/82971453?\"},\"repo\":{\"id\":361653736,\"name\":\"magorska/kodilla-course\",\"url\":\"https://api.github.com/repos/magorska/kodilla-course\"},\"payload\":{\"push_id\":7264941935,\"size\":1,\"distinct_size\":1,\"ref\":\"refs/heads/master\",\"head\":\"3478dc5b54cacfda6a462144c63388add8f0f31a\",\"before\":\"9c95621f945e74661c0b99a645bf70491e5d6782\",\"commits\":[{\"sha\":\"3478dc5b54cacfda6a462144c63388add8f0f31a\",\"author\":{\"email\":\"magorska.95@gmail.com\",\"name\":\"Marta Górska\"},\"message\":\"14.3 portfolio\",\"distinct\":true,\"url\":\"https://api.github.com/repos/magorska/kodilla-course/commits/3478dc5b54cacfda6a462144c63388add8f0f31a\"}]},\"public\":true,\"created_at\":\"2021-06-05T06:25:23Z\"},{\"id\":\"16653825676\",\"type\":\"CreateEvent\",\"actor\":{\"id\":85385133,\"login\":\"EvgeniyMyagkostupov\",\"display_login\":\"EvgeniyMyagkostupov\",\"gravatar_id\":\"\",\"url\":\"https://api.github.com/users/EvgeniyMyagkostupov\",\"avatar_url\":\"https://avatars.githubusercontent.com/u/85385133?\"},\"repo\":{\"id\":374037859,\"name\":\"EvgeniyMyagkostupov/github-slideshow\",\"url\":\"https://api.github.com/repos/EvgeniyMyagkostupov/github-slideshow\"},\"payload\":{\"ref\":\"master\",\"ref_type\":\"branch\",\"master_branch\":\"main\",\"description\":\"A robot powered training repository :robot:\",\"pusher_type\":\"user\"},\"public\":true,\"created_at\":\"2021-06-05T06:25:23Z\"},{\"id\":\"16653825674\",\"type\":\"PushEvent\",\"actor\":{\"id\":40918737,\"login\":\"donaldsouza\",\"display_login\":\"donaldsouza\",\"gravatar_id\":\"\",\"url\":\"https://api.github.com/users/donaldsouza\",\"avatar_url\":\"https://avatars.githubusercontent.com/u/40918737?\"},\"repo\":{\"id\":240272766,\"name\":\"donaldsouza/current-date\",\"url\":\"https://api.github.com/repos/donaldsouza/current-date\"},\"payload\":{\"push_id\":7264941951,\"size\":1,\"distinct_size\":1,\"ref\":\"refs/heads/master\",\"head\":\"a14e5d02b26807a0ca6d886ea3855b39663e41c9\",\"before\":\"c071d8cbe87a2c60e459fcd18496fb238412e230\",\"commits\":[{\"sha\":\"a14e5d02b26807a0ca6d886ea3855b39663e41c9\",\"author\":{\"email\":\"40918737+donaldsouza@users.noreply.github.com\",\"name\":\"donaldsouza\"},\"message\":\"message_2021-06-05T06:25:23\",\"distinct\":true,\"url\":\"https://api.github.com/repos/donaldsouza/current-date/commits/a14e5d02b26807a0ca6d886ea3855b39663e41c9\"}]},\"public\":true,\"created_at\":\"2021-06-05T06:25:23Z\"},{\"id\":\"16653825664\",\"type\":\"PullRequestEvent\",\"actor\":{\"id\":10810283,\"login\":\"direwolf-github\",\"display_login\":\"direwolf-github\",\"gravatar_id\":\"\",\"url\":\"https://api.github.com/users/direwolf-github\",\"avatar_url\":\"https://avatars.githubusercontent.com/u/10810283?\"},\"repo\":{\"id\":374037810,\"name\":\"direwolf-github/my-app-b346eb9a\",\"url\":\"https://api.github.com/repos/direwolf-github/my-app-b346eb9a\"},\"payload\":{\"action\":\"closed\",\"number\":1,\"pull_request\":{\"url\":\"https://api.github.com/repos/direwolf-github/my-app-b346eb9a/pulls/1\",\"id\":662312219,\"node_id\":\"MDExOlB1bGxSZXF1ZXN0NjYyMzEyMjE5\",\"html_url\":\"https://github.com/direwolf-github/my-app-b346eb9a/pull/1\",\"diff_url\":\"https://github.com/direwolf-github/my-app-b346eb9a/pull/1.diff\",\"patch_url\":\"https://github.com/direwolf-github/my-app-b346eb9a/pull/1.patch\",\"issue_url\":\"https://api.github.com/repos/direwolf-github/my-app-b346eb9a/issues/1\",\"number\":1,\"state\":\"closed\",\"locked\":false,\"title\":\"Direwolf review apps test branch-cc7d84b4\",\"user\":{\"login\":\"direwolf-github\",\"id\":10810283,\"node_id\":\"MDQ6VXNlcjEwODEwMjgz\",\"avatar_url\":\"https://avatars.githubusercontent.com/u/10810283?v=4\",\"gravatar_id\":\"\",\"url\":\"https://api.github.com/users/direwolf-github\",\"html_url\":\"https://github.com/direwolf-github\",\"followers_url\":\"https://api.github.com/users/direwolf-github/followers\",\"following_url\":\"https://api.github.com/users/direwolf-github/following{/other_user}\",\"gists_url\":\"https://api.github.com/users/direwolf-github/gists{/gist_id}\",\"starred_url\":\"https://api.github.com/users/direwolf-github/starred{/owner}{/repo}\",\"subscriptions_url\":\"https://api.github.com/users/direwolf-github/subscriptions\",\"organizations_url\":\"https://api.github.com/users/direwolf-github/orgs\",\"repos_url\":\"https://api.github.com/users/direwolf-github/repos\",\"events_url\":\"https://api.github.com/users/direwolf-github/events{/privacy}\",\"received_events_url\":\"https://api.github.com/users/direwolf-github/received_events\",\"type\":\"User\",\"site_admin\":false},\"body\":\"Direwolf review apps test branch-cc7d84b4\",\"created_at\":\"2021-06-05T06:25:11Z\",\"updated_at\":\"2021-06-05T06:25:23Z\",\"closed_at\":\"2021-06-05T06:25:23Z\",\"merged_at\":null,\"merge_commit_sha\":\"57d9da3e5460c9baf2f05be5c6261039dd30bf6b\",\"assignee\":null,\"assignees\":[],\"requested_reviewers\":[],\"requested_teams\":[],\"labels\":[],\"milestone\":null,\"draft\":false,\"commits_url\":\"https://api.github.com/repos/direwolf-github/my-app-b346eb9a/pulls/1/commits\",\"review_comments_url\":\"https://api.github.com/repos/direwolf-github/my-app-b346eb9a/pulls/1/comments\",\"review_comment_url\":\"https://api.github.com/repos/direwolf-github/my-app-b346eb9a/pulls/comments{/number}\",\"comments_url\":\"https://api.github.com/repos/direwolf-github/my-app-b346eb9a/issues/1/comments\",\"statuses_url\":\"https://api.github.com/repos/direwolf-github/my-app-b346eb9a/statuses/6f9b892b659e537a66659815d74effaf40c0713a\",\"head\":{\"label\":\"direwolf-github:branch-cc7d84b4\",\"ref\":\"branch-cc7d84b4\",\"sha\":\"6f9b892b659e537a66659815d74effaf40c0713a\",\"user\":{\"login\":\"direwolf-github\",\"id\":10810283,\"node_id\":\"MDQ6VXNlcjEwODEwMjgz\",\"avatar_url\":\"https://avatars.githubusercontent.com/u/10810283?v=4\",\"gravatar_id\":\"\",\"url\":\"https://api.github.com/users/direwolf-github\",\"html_url\":\"https://github.com/direwolf-github\",\"followers_url\":\"https://api.github.com/users/direwolf-github/followers\",\"following_url\":\"https://api.github.com/users/direwolf-github/following{/other_user}\",\"gists_url\":\"https://api.github.com/users/direwolf-github/gists{/gist_id}\",\"starred_url\":\"https://api.github.com/users/direwolf-github/starred{/owner}{/repo}\",\"subscriptions_url\":\"https://api.github.com/users/direwolf-github/subscriptions\",\"organizations_url\":\"https://api.github.com/users/direwolf-github/orgs\",\"repos_url\":\"https://api.github.com/users/direwolf-github/repos\",\"events_url\":\"https://api.github.com/users/direwolf-github/events{/privacy}\",\"received_events_url\":\"https://api.github.com/users/direwolf-github/received_events\",\"type\":\"User\",\"site_admin\":false},\"repo\":{\"id\":374037810,\"node_id\":\"MDEwOlJlcG9zaXRvcnkzNzQwMzc4MTA=\",\"name\":\"my-app-b346eb9a\",\"full_name\":\"direwolf-github/my-app-b346eb9a\",\"private\":false,\"owner\":{\"login\":\"direwolf-github\",\"id\":10810283,\"node_id\":\"MDQ6VXNlcjEwODEwMjgz\",\"avatar_url\":\"https://avatars.githubusercontent.com/u/10810283?v=4\",\"gravatar_id\":\"\",\"url\":\"https://api.github.com/users/direwolf-github\",\"html_url\":\"https://github.com/direwolf-github\",\"followers_url\":\"https://api.github.com/users/direwolf-github/followers\",\"following_url\":\"https://api.github.com/users/direwolf-github/following{/other_user}\",\"gists_url\":\"https://api.github.com/users/direwolf-github/gists{/gist_id}\",\"starred_url\":\"https://api.github.com/users/direwolf-github/starred{/owner}{/repo}\",\"subscriptions_url\":\"https://api.github.com/users/direwolf-github/subscriptions\",\"organizations_url\":\"https://api.github.com/users/direwolf-github/orgs\",\"repos_url\":\"https://api.github.com/users/direwolf-github/repos\",\"events_url\":\"https://api.github.com/users/direwolf-github/events{/privacy}\",\"received_events_url\":\"https://api.github.com/users/direwolf-github/received_events\",\"type\":\"User\",\"site_admin\":false},\"html_url\":\"https://github.com/direwolf-github/my-app-b346eb9a\",\"description\":null,\"fork\":false,\"url\":\"https://api.github.com/repos/direwolf-github/my-app-b346eb9a\",\"forks_url\":\"https://api.github.com/repos/direwolf-github/my-app-b346eb9a/forks\",\"keys_url\":\"https://api.github.com/repos/direwolf-github/my-app-b346eb9a/keys{/key_id}\",\"collaborators_url\":\"https://api.github.com/repos/direwolf-github/my-app-b346eb9a/collaborators{/collaborator}\",\"teams_url\":\"https://api.github.com/repos/direwolf-github/my-app-b346eb9a/teams\",\"hooks_url\":\"https://api.github.com/repos/direwolf-github/my-app-b346eb9a/hooks\",\"issue_events_url\":\"https://api.github.com/repos/direwolf-github/my-app-b346eb9a/issues/events{/number}\",\"events_url\":\"https://api.github.com/repos/direwolf-github/my-app-b346eb9a/events\",\"assignees_url\":\"https://api.github.com/repos/direwolf-github/my-app-b346eb9a/assignees{/user}\",\"branches_url\":\"https://api.github.com/repos/direwolf-github/my-app-b346eb9a/branches{/branch}\",\"tags_url\":\"https://api.github.com/repos/direwolf-github/my-app-b346eb9a/tags\",\"blobs_url\":\"https://api.github.com/repos/direwolf-github/my-app-b346eb9a/git/blobs{/sha}\",\"git_tags_url\":\"https://api.github.com/repos/direwolf-github/my-app-b346eb9a/git/tags{/sha}\",\"git_refs_url\":\"https://api.github.com/repos/direwolf-github/my-app-b346eb9a/git/refs{/sha}\",\"trees_url\":\"https://api.github.com/repos/direwolf-github/my-app-b346eb9a/git/trees{/sha}\",\"statuses_url\":\"https://api.github.com/repos/direwolf-github/my-app-b346eb9a/statuses/{sha}\",\"languages_url\":\"https://api.github.com/repos/direwolf-github/my-app-b346eb9a/languages\",\"stargazers_url\":\"https://api.github.com/repos/direwolf-github/my-app-b346eb9a/stargazers\",\"contributors_url\":\"https://api.github.com/repos/direwolf-github/my-app-b346eb9a/contributors\",\"subscribers_url\":\"https://api.github.com/repos/direwolf-github/my-app-b346eb9a/subscribers\",\"subscription_url\":\"https://api.github.com/repos/direwolf-github/my-app-b346eb9a/subscription\",\"commits_url\":\"https://api.github.com/repos/direwolf-github/my-app-b346eb9a/commits{/sha}\",\"git_commits_url\":\"https://api.github.com/repos/direwolf-github/my-app-b346eb9a/git/commits{/sha}\",\"comments_url\":\"https://api.github.com/repos/direwolf-github/my-app-b346eb9a/comments{/number}\",\"issue_comment_url\":\"https://api.github.com/repos/direwolf-github/my-app-b346eb9a/issues/comments{/number}\",\"contents_url\":\"https://api.github.com/repos/direwolf-github/my-app-b346eb9a/contents/{+path}\",\"compare_url\":\"https://api.github.com/repos/direwolf-github/my-app-b346eb9a/compare/{base}...{head}\",\"merges_url\":\"https://api.github.com/repos/direwolf-github/my-app-b346eb9a/merges\",\"archive_url\":\"https://api.github.com/repos/direwolf-github/my-app-b346eb9a/{archive_format}{/ref}\",\"downloads_url\":\"https://api.github.com/repos/direwolf-github/my-app-b346eb9a/downloads\",\"issues_url\":\"https://api.github.com/repos/direwolf-github/my-app-b346eb9a/issues{/number}\",\"pulls_url\":\"https://api.github.com/repos/direwolf-github/my-app-b346eb9a/pulls{/number}\",\"milestones_url\":\"https://api.github.com/repos/direwolf-github/my-app-b346eb9a/milestones{/number}\",\"notifications_url\":\"https://api.github.com/repos/direwolf-github/my-app-b346eb9a/notifications{?since,all,participating}\",\"labels_url\":\"https://api.github.com/repos/direwolf-github/my-app-b346eb9a/labels{/name}\",\"releases_url\":\"https://api.github.com/repos/direwolf-github/my-app-b346eb9a/releases{/id}\",\"deployments_url\":\"https://api.github.com/repos/direwolf-github/my-app-b346eb9a/deployments\",\"created_at\":\"2021-06-05T06:25:05Z\",\"updated_at\":\"2021-06-05T06:25:09Z\",\"pushed_at\":\"2021-06-05T06:25:23Z\",\"git_url\":\"git://github.com/direwolf-github/my-app-b346eb9a.git\",\"ssh_url\":\"git@github.com:direwolf-github/my-app-b346eb9a.git\",\"clone_url\":\"https://github.com/direwolf-github/my-app-b346eb9a.git\",\"svn_url\":\"https://github.com/direwolf-github/my-app-b346eb9a\",\"homepage\":null,\"size\":0,\"stargazers_count\":0,\"watchers_count\":0,\"language\":null,\"has_issues\":true,\"has_projects\":true,\"has_downloads\":true,\"has_wiki\":true,\"has_pages\":false,\"forks_count\":0,\"mirror_url\":null,\"archived\":false,\"disabled\":false,\"open_issues_count\":0,\"license\":null,\"forks\":0,\"open_issues\":0,\"watchers\":0,\"default_branch\":\"master\"}},\"base\":{\"label\":\"direwolf-github:master\",\"ref\":\"master\",\"sha\":\"6a976d8057f562b5ce78e042ebfe80de42b91a69\",\"user\":{\"login\":\"direwolf-github\",\"id\":10810283,\"node_id\":\"MDQ6VXNlcjEwODEwMjgz\",\"avatar_url\":\"https://avatars.githubusercontent.com/u/10810283?v=4\",\"gravatar_id\":\"\",\"url\":\"https://api.github.com/users/direwolf-github\",\"html_url\":\"https://github.com/direwolf-github\",\"followers_url\":\"https://api.github.com/users/direwolf-github/followers\",\"following_url\":\"https://api.github.com/users/direwolf-github/following{/other_user}\",\"gists_url\":\"https://api.github.com/users/direwolf-github/gists{/gist_id}\",\"starred_url\":\"https://api.github.com/users/direwolf-github/starred{/owner}{/repo}\",\"subscriptions_url\":\"https://api.github.com/users/direwolf-github/subscriptions\",\"organizations_url\":\"https://api.github.com/users/direwolf-github/orgs\",\"repos_url\":\"https://api.github.com/users/direwolf-github/repos\",\"events_url\":\"https://api.github.com/users/direwolf-github/events{/privacy}\",\"received_events_url\":\"https://api.github.com/users/direwolf-github/received_events\",\"type\":\"User\",\"site_admin\":false},\"repo\":{\"id\":374037810,\"node_id\":\"MDEwOlJlcG9zaXRvcnkzNzQwMzc4MTA=\",\"name\":\"my-app-b346eb9a\",\"full_name\":\"direwolf-github/my-app-b346eb9a\",\"private\":false,\"owner\":{\"login\":\"direwolf-github\",\"id\":10810283,\"node_id\":\"MDQ6VXNlcjEwODEwMjgz\",\"avatar_url\":\"https://avatars.githubusercontent.com/u/10810283?v=4\",\"gravatar_id\":\"\",\"url\":\"https://api.github.com/users/direwolf-github\",\"html_url\":\"https://github.com/direwolf-github\",\"followers_url\":\"https://api.github.com/users/direwolf-github/followers\",\"following_url\":\"https://api.github.com/users/direwolf-github/following{/other_user}\",\"gists_url\":\"https://api.github.com/users/direwolf-github/gists{/gist_id}\",\"starred_url\":\"https://api.github.com/users/direwolf-github/starred{/owner}{/repo}\",\"subscriptions_url\":\"https://api.github.com/users/direwolf-github/subscriptions\",\"organizations_url\":\"https://api.github.com/users/direwolf-github/orgs\",\"repos_url\":\"https://api.github.com/users/direwolf-github/repos\",\"events_url\":\"https://api.github.com/users/direwolf-github/events{/privacy}\",\"received_events_url\":\"https://api.github.com/users/direwolf-github/received_events\",\"type\":\"User\",\"site_admin\":false},\"html_url\":\"https://github.com/direwolf-github/my-app-b346eb9a\",\"description\":null,\"fork\":false,\"url\":\"https://api.github.com/repos/direwolf-github/my-app-b346eb9a\",\"forks_url\":\"https://api.github.com/repos/direwolf-github/my-app-b346eb9a/forks\",\"keys_url\":\"https://api.github.com/repos/direwolf-github/my-app-b346eb9a/keys{/key_id}\",\"collaborators_url\":\"https://api.github.com/repos/direwolf-github/my-app-b346eb9a/collaborators{/collaborator}\",\"teams_url\":\"https://api.github.com/repos/direwolf-github/my-app-b346eb9a/teams\",\"hooks_url\":\"https://api.github.com/repos/direwolf-github/my-app-b346eb9a/hooks\",\"issue_events_url\":\"https://api.github.com/repos/direwolf-github/my-app-b346eb9a/issues/events{/number}\",\"events_url\":\"https://api.github.com/repos/direwolf-github/my-app-b346eb9a/events\",\"assignees_url\":\"https://api.github.com/repos/direwolf-github/my-app-b346eb9a/assignees{/user}\",\"branches_url\":\"https://api.github.com/repos/direwolf-github/my-app-b346eb9a/branches{/branch}\",\"tags_url\":\"https://api.github.com/repos/direwolf-github/my-app-b346eb9a/tags\",\"blobs_url\":\"https://api.github.com/repos/direwolf-github/my-app-b346eb9a/git/blobs{/sha}\",\"git_tags_url\":\"https://api.github.com/repos/direwolf-github/my-app-b346eb9a/git/tags{/sha}\",\"git_refs_url\":\"https://api.github.com/repos/direwolf-github/my-app-b346eb9a/git/refs{/sha}\",\"trees_url\":\"https://api.github.com/repos/direwolf-github/my-app-b346eb9a/git/trees{/sha}\",\"statuses_url\":\"https://api.github.com/repos/direwolf-github/my-app-b346eb9a/statuses/{sha}\",\"languages_url\":\"https://api.github.com/repos/direwolf-github/my-app-b346eb9a/languages\",\"stargazers_url\":\"https://api.github.com/repos/direwolf-github/my-app-b346eb9a/stargazers\",\"contributors_url\":\"https://api.github.com/repos/direwolf-github/my-app-b346eb9a/contributors\",\"subscribers_url\":\"https://api.github.com/repos/direwolf-github/my-app-b346eb9a/subscribers\",\"subscription_url\":\"https://api.github.com/repos/direwolf-github/my-app-b346eb9a/subscription\",\"commits_url\":\"https://api.github.com/repos/direwolf-github/my-app-b346eb9a/commits{/sha}\",\"git_commits_url\":\"https://api.github.com/repos/direwolf-github/my-app-b346eb9a/git/commits{/sha}\",\"comments_url\":\"https://api.github.com/repos/direwolf-github/my-app-b346eb9a/comments{/number}\",\"issue_comment_url\":\"https://api.github.com/repos/direwolf-github/my-app-b346eb9a/issues/comments{/number}\",\"contents_url\":\"https://api.github.com/repos/direwolf-github/my-app-b346eb9a/contents/{+path}\",\"compare_url\":\"https://api.github.com/repos/direwolf-github/my-app-b346eb9a/compare/{base}...{head}\",\"merges_url\":\"https://api.github.com/repos/direwolf-github/my-app-b346eb9a/merges\",\"archive_url\":\"https://api.github.com/repos/direwolf-github/my-app-b346eb9a/{archive_format}{/ref}\",\"downloads_url\":\"https://api.github.com/repos/direwolf-github/my-app-b346eb9a/downloads\",\"issues_url\":\"https://api.github.com/repos/direwolf-github/my-app-b346eb9a/issues{/number}\",\"pulls_url\":\"https://api.github.com/repos/direwolf-github/my-app-b346eb9a/pulls{/number}\",\"milestones_url\":\"https://api.github.com/repos/direwolf-github/my-app-b346eb9a/milestones{/number}\",\"notifications_url\":\"https://api.github.com/repos/direwolf-github/my-app-b346eb9a/notifications{?since,all,participating}\",\"labels_url\":\"https://api.github.com/repos/direwolf-github/my-app-b346eb9a/labels{/name}\",\"releases_url\":\"https://api.github.com/repos/direwolf-github/my-app-b346eb9a/releases{/id}\",\"deployments_url\":\"https://api.github.com/repos/direwolf-github/my-app-b346eb9a/deployments\",\"created_at\":\"2021-06-05T06:25:05Z\",\"updated_at\":\"2021-06-05T06:25:09Z\",\"pushed_at\":\"2021-06-05T06:25:23Z\",\"git_url\":\"git://github.com/direwolf-github/my-app-b346eb9a.git\",\"ssh_url\":\"git@github.com:direwolf-github/my-app-b346eb9a.git\",\"clone_url\":\"https://github.com/direwolf-github/my-app-b346eb9a.git\",\"svn_url\":\"https://github.com/direwolf-github/my-app-b346eb9a\",\"homepage\":null,\"size\":0,\"stargazers_count\":0,\"watchers_count\":0,\"language\":null,\"has_issues\":true,\"has_projects\":true,\"has_downloads\":true,\"has_wiki\":true,\"has_pages\":false,\"forks_count\":0,\"mirror_url\":null,\"archived\":false,\"disabled\":false,\"open_issues_count\":0,\"license\":null,\"forks\":0,\"open_issues\":0,\"watchers\":0,\"default_branch\":\"master\"}},\"_links\":{\"self\":{\"href\":\"https://api.github.com/repos/direwolf-github/my-app-b346eb9a/pulls/1\"},\"html\":{\"href\":\"https://github.com/direwolf-github/my-app-b346eb9a/pull/1\"},\"issue\":{\"href\":\"https://api.github.com/repos/direwolf-github/my-app-b346eb9a/issues/1\"},\"comments\":{\"href\":\"https://api.github.com/repos/direwolf-github/my-app-b346eb9a/issues/1/comments\"},\"review_comments\":{\"href\":\"https://api.github.com/repos/direwolf-github/my-app-b346eb9a/pulls/1/comments\"},\"review_comment\":{\"href\":\"https://api.github.com/repos/direwolf-github/my-app-b346eb9a/pulls/comments{/number}\"},\"commits\":{\"href\":\"https://api.github.com/repos/direwolf-github/my-app-b346eb9a/pulls/1/commits\"},\"statuses\":{\"href\":\"https://api.github.com/repos/direwolf-github/my-app-b346eb9a/statuses/6f9b892b659e537a66659815d74effaf40c0713a\"}},\"author_association\":\"OWNER\",\"auto_merge\":null,\"active_lock_reason\":null,\"merged\":false,\"mergeable\":true,\"rebaseable\":true,\"mergeable_state\":\"clean\",\"merged_by\":null,\"comments\":0,\"review_comments\":0,\"maintainer_can_modify\":false,\"commits\":1,\"additions\":1,\"deletions\":0,\"changed_files\":1}},\"public\":true,\"created_at\":\"2021-06-05T06:25:23Z\"},{\"id\":\"16653825675\",\"type\":\"CreateEvent\",\"actor\":{\"id\":78495117,\"login\":\"careymwarabu\",\"display_login\":\"careymwarabu\",\"gravatar_id\":\"\",\"url\":\"https://api.github.com/users/careymwarabu\",\"avatar_url\":\"https://avatars.githubusercontent.com/u/78495117?\"},\"repo\":{\"id\":374037874,\"name\":\"careymwarabu/news\",\"url\":\"https://api.github.com/repos/careymwarabu/news\"},\"payload\":{\"ref\":null,\"ref_type\":\"repository\",\"master_branch\":\"main\",\"description\":null,\"pusher_type\":\"user\"},\"public\":true,\"created_at\":\"2021-06-05T06:25:23Z\"},{\"id\":\"16653825661\",\"type\":\"PushEvent\",\"actor\":{\"id\":67270651,\"login\":\"minoplhy\",\"display_login\":\"minoplhy\",\"gravatar_id\":\"\",\"url\":\"https://api.github.com/users/minoplhy\",\"avatar_url\":\"https://avatars.githubusercontent.com/u/67270651?\"},\"repo\":{\"id\":368929704,\"name\":\"minoplhy/upptime-status\",\"url\":\"https://api.github.com/repos/minoplhy/upptime-status\"},\"payload\":{\"push_id\":7264941933,\"size\":6,\"distinct_size\":6,\"ref\":\"refs/heads/master\",\"head\":\"cd1f41dbbc88e616d87953d5388b7f30131d6681\",\"before\":\"587f699b035a1470f926ceab3d8eeee3f3159d65\",\"commits\":[{\"sha\":\"2c73862cc092aa91faf1cec12bccbe37e8976553\",\"author\":{\"email\":\"hurbar@m21.kylz.nl\",\"name\":\"Hurbar\"},\"message\":\"🟩 [LU] Kylz.nl is up (200 in 390 ms) [skip ci] [upptime]\",\"distinct\":true,\"url\":\"https://api.github.com/repos/minoplhy/upptime-status/commits/2c73862cc092aa91faf1cec12bccbe37e8976553\"},{\"sha\":\"a60558ef5ec8fb5d796771f1423b4913994f6762\",\"author\":{\"email\":\"hurbar@m21.kylz.nl\",\"name\":\"Hurbar\"},\"message\":\"🟩 [LU] Git server is up (200 in 397 ms) [skip ci] [upptime]\",\"distinct\":true,\"url\":\"https://api.github.com/repos/minoplhy/upptime-status/commits/a60558ef5ec8fb5d796771f1423b4913994f6762\"},{\"sha\":\"9248dd885f5669273a75f5a9e9887393b3062654\",\"author\":{\"email\":\"hurbar@m21.kylz.nl\",\"name\":\"Hurbar\"},\"message\":\"🟩 [LU] filters-build webserver is up (200 in 373 ms) [skip ci] [upptime]\",\"distinct\":true,\"url\":\"https://api.github.com/repos/minoplhy/upptime-status/commits/9248dd885f5669273a75f5a9e9887393b3062654\"},{\"sha\":\"f21b44c6b5993bc9d9e4cf2b66133ea407bf3c1b\",\"author\":{\"email\":\"hurbar@m21.kylz.nl\",\"name\":\"Hurbar\"},\"message\":\"🟩 [LU] Crappy blog is up (200 in 718 ms) [skip ci] [upptime]\",\"distinct\":true,\"url\":\"https://api.github.com/repos/minoplhy/upptime-status/commits/f21b44c6b5993bc9d9e4cf2b66133ea407bf3c1b\"},{\"sha\":\"f34a3183c6704c4a1b9f737458ac7ca934c252c8\",\"author\":{\"email\":\"hurbar@m21.kylz.nl\",\"name\":\"Hurbar\"},\"message\":\"🟩 [LU-frontend] [CH-backend] **FAKE**S3 CDN is up (403 in 665 ms) [skip ci] [upptime]\",\"distinct\":true,\"url\":\"https://api.github.com/repos/minoplhy/upptime-status/commits/f34a3183c6704c4a1b9f737458ac7ca934c252c8\"},{\"sha\":\"cd1f41dbbc88e616d87953d5388b7f30131d6681\",\"author\":{\"email\":\"hurbar@m21.kylz.nl\",\"name\":\"Hurbar\"},\"message\":\"🟩 [US] m21 webserver is up (200 in 327 ms) [skip ci] [upptime]\",\"distinct\":true,\"url\":\"https://api.github.com/repos/minoplhy/upptime-status/commits/cd1f41dbbc88e616d87953d5388b7f30131d6681\"}]},\"public\":true,\"created_at\":\"2021-06-05T06:25:23Z\"},{\"id\":\"16653825662\",\"type\":\"DeleteEvent\",\"actor\":{\"id\":10810283,\"login\":\"direwolf-github\",\"display_login\":\"direwolf-github\",\"gravatar_id\":\"\",\"url\":\"https://api.github.com/users/direwolf-github\",\"avatar_url\":\"https://avatars.githubusercontent.com/u/10810283?\"},\"repo\":{\"id\":374037810,\"name\":\"direwolf-github/my-app-b346eb9a\",\"url\":\"https://api.github.com/repos/direwolf-github/my-app-b346eb9a\"},\"payload\":{\"ref\":\"branch-cc7d84b4\",\"ref_type\":\"branch\",\"pusher_type\":\"user\"},\"public\":true,\"created_at\":\"2021-06-05T06:25:23Z\"}]\n"
     ]
    }
   ],
   "source": [
    "print(response.text)"
   ]
  },
  {
   "cell_type": "code",
   "execution_count": 5,
   "id": "5b7f2ade",
   "metadata": {},
   "outputs": [
    {
     "name": "stdout",
     "output_type": "stream",
     "text": [
      "https://api.github.com/events\n"
     ]
    }
   ],
   "source": [
    "print(response.url)"
   ]
  },
  {
   "cell_type": "code",
   "execution_count": 6,
   "id": "2630f62a",
   "metadata": {},
   "outputs": [
    {
     "name": "stdout",
     "output_type": "stream",
     "text": [
      "{'Server': 'GitHub.com', 'Date': 'Sat, 05 Jun 2021 06:30:24 GMT', 'Content-Type': 'application/json; charset=utf-8', 'Cache-Control': 'public, max-age=60, s-maxage=60', 'Vary': 'Accept, Accept-Encoding, Accept, X-Requested-With', 'ETag': 'W/\"dcfaf831a09c5440aa8917868e752099e4db3317c7aada52cffecda079b715c6\"', 'Last-Modified': 'Sat, 05 Jun 2021 06:25:24 GMT', 'X-Poll-Interval': '60', 'X-GitHub-Media-Type': 'github.v3; format=json', 'Link': '<https://api.github.com/events?page=2>; rel=\"next\", <https://api.github.com/events?page=10>; rel=\"last\"', 'Access-Control-Expose-Headers': 'ETag, Link, Location, Retry-After, X-GitHub-OTP, X-RateLimit-Limit, X-RateLimit-Remaining, X-RateLimit-Used, X-RateLimit-Resource, X-RateLimit-Reset, X-OAuth-Scopes, X-Accepted-OAuth-Scopes, X-Poll-Interval, X-GitHub-Media-Type, Deprecation, Sunset', 'Access-Control-Allow-Origin': '*', 'Strict-Transport-Security': 'max-age=31536000; includeSubdomains; preload', 'X-Frame-Options': 'deny', 'X-Content-Type-Options': 'nosniff', 'X-XSS-Protection': '0', 'Referrer-Policy': 'origin-when-cross-origin, strict-origin-when-cross-origin', 'Content-Security-Policy': \"default-src 'none'\", 'Content-Encoding': 'gzip', 'X-RateLimit-Limit': '60', 'X-RateLimit-Remaining': '59', 'X-RateLimit-Reset': '1622878224', 'X-RateLimit-Resource': 'core', 'X-RateLimit-Used': '1', 'Accept-Ranges': 'bytes', 'Transfer-Encoding': 'chunked', 'X-GitHub-Request-Id': '208C:313C:62E5E2:6F2ACF:60BB19FF'}\n"
     ]
    }
   ],
   "source": [
    "print(response.headers)"
   ]
  },
  {
   "cell_type": "code",
   "execution_count": 7,
   "id": "cb90f753",
   "metadata": {},
   "outputs": [
    {
     "name": "stdout",
     "output_type": "stream",
     "text": [
      "origin-when-cross-origin, strict-origin-when-cross-origin\n",
      "origin-when-cross-origin, strict-origin-when-cross-origin\n"
     ]
    }
   ],
   "source": [
    "print(response.headers['Referrer-Policy'])\n",
    "print(response.headers['referrer-policy'])"
   ]
  },
  {
   "cell_type": "code",
   "execution_count": 8,
   "id": "73283f04",
   "metadata": {},
   "outputs": [
    {
     "name": "stdout",
     "output_type": "stream",
     "text": [
      "origin-when-cross-origin, strict-origin-when-cross-origin\n",
      "origin-when-cross-origin, strict-origin-when-cross-origin\n"
     ]
    }
   ],
   "source": [
    "header_info = response.headers\n",
    "print(header_info['Referrer-Policy'])\n",
    "print(header_info['referrer-policy'])"
   ]
  },
  {
   "cell_type": "code",
   "execution_count": 9,
   "id": "d39b97f4",
   "metadata": {},
   "outputs": [
    {
     "name": "stdout",
     "output_type": "stream",
     "text": [
      "application/json; charset=utf-8\n"
     ]
    }
   ],
   "source": [
    "print(header_info['Content-Type'])"
   ]
  },
  {
   "cell_type": "markdown",
   "id": "a2172ae7",
   "metadata": {},
   "source": [
    "### JSON"
   ]
  },
  {
   "cell_type": "code",
   "execution_count": 10,
   "id": "9958cef8",
   "metadata": {},
   "outputs": [
    {
     "name": "stdout",
     "output_type": "stream",
     "text": [
      "{'Student': 'Avinash'}\n",
      "<class 'str'>\n",
      "<class 'dict'>\n",
      "Avinash\n"
     ]
    }
   ],
   "source": [
    "import json\n",
    "json_data = '{\"Student\" : \"Avinash\"}'\n",
    "python_data = json.loads(json_data)\n",
    "print(python_data)\n",
    "print(type(json_data))\n",
    "print(type(python_data))\n",
    "print(python_data[\"Student\"])"
   ]
  },
  {
   "cell_type": "code",
   "execution_count": 11,
   "id": "9de6f5e0",
   "metadata": {},
   "outputs": [
    {
     "name": "stdout",
     "output_type": "stream",
     "text": [
      "{'Roll_no': 101}\n",
      "101\n",
      "<class 'int'>\n"
     ]
    }
   ],
   "source": [
    "json_data = '{\"Roll_no\" : 101}'\n",
    "python_data = json.loads(json_data)\n",
    "print(python_data)\n",
    "print(python_data['Roll_no'])\n",
    "print(type(python_data['Roll_no']))"
   ]
  },
  {
   "cell_type": "code",
   "execution_count": 12,
   "id": "53db0f6e",
   "metadata": {},
   "outputs": [
    {
     "name": "stdout",
     "output_type": "stream",
     "text": [
      "{'Roll_no': 101.2}\n",
      "101.2\n",
      "<class 'float'>\n"
     ]
    }
   ],
   "source": [
    "json_data = '{\"Roll_no\" : 101.2}'\n",
    "python_data = json.loads(json_data)\n",
    "print(python_data)\n",
    "print(python_data['Roll_no'])\n",
    "print(type(python_data['Roll_no']))"
   ]
  },
  {
   "cell_type": "code",
   "execution_count": 13,
   "id": "ba3a1c67",
   "metadata": {},
   "outputs": [
    {
     "name": "stdout",
     "output_type": "stream",
     "text": [
      "{'Roll_no': None}\n",
      "None\n",
      "<class 'NoneType'>\n"
     ]
    }
   ],
   "source": [
    "json_data = '{\"Roll_no\" : null}'\n",
    "python_data = json.loads(json_data)\n",
    "print(python_data)\n",
    "print(python_data['Roll_no'])\n",
    "print(type(python_data['Roll_no']))"
   ]
  },
  {
   "cell_type": "code",
   "execution_count": 14,
   "id": "d062d993",
   "metadata": {},
   "outputs": [
    {
     "name": "stdout",
     "output_type": "stream",
     "text": [
      "Avinash\n",
      "102\n"
     ]
    }
   ],
   "source": [
    "json_data = '{\"Student\" : {\"Name\":\"Avinash\",\"Roll_No\":102}}'\n",
    "python_data = json.loads(json_data)\n",
    "\n",
    "student_details = python_data['Student']\n",
    "print(student_details['Name'])\n",
    "print(student_details['Roll_No'])"
   ]
  },
  {
   "cell_type": "code",
   "execution_count": 15,
   "id": "ac11c932",
   "metadata": {},
   "outputs": [
    {
     "name": "stdout",
     "output_type": "stream",
     "text": [
      "<class 'dict'>\n",
      "<class 'list'>\n",
      "5\n"
     ]
    }
   ],
   "source": [
    "json_data = '{\"Fruits\" : [\"Apple\",\"Orange\",\"Litchi\",\"Guava\",\"Mango\"]}'\n",
    "python_data = json.loads(json_data)\n",
    "print(type(python_data))\n",
    "print(type(python_data[\"Fruits\"]))\n",
    "print(len(python_data[\"Fruits\"]))"
   ]
  },
  {
   "cell_type": "code",
   "execution_count": 16,
   "id": "d84e247e",
   "metadata": {},
   "outputs": [
    {
     "name": "stdout",
     "output_type": "stream",
     "text": [
      "Apple\n",
      "Orange\n",
      "Litchi\n",
      "Guava\n",
      "Mango\n"
     ]
    }
   ],
   "source": [
    "for i in python_data['Fruits']:\n",
    "    print(i)"
   ]
  },
  {
   "cell_type": "code",
   "execution_count": 17,
   "id": "5d4dc62a",
   "metadata": {},
   "outputs": [
    {
     "name": "stdout",
     "output_type": "stream",
     "text": [
      "{\"data\":{\"courses\":[{\"id\":40,\"title\":\"Data structures and Algorithms [C++/Java/Python]\",\"online_title\":\"premium-foundation-course\",\"offline_title\":\"\",\"name\":\"Premium Data structures and Algorithms [C++/Java/Python]\",\"level\":\"Foundation Courses\",\"brief_intro\":\"\",\"preview_image_url\":\"\",\"available_online\":true,\"available_offline\":false,\"is_career_track\":false,\"course_group_id\":7,\"classroom_icon_url\":\"https://files.codingninjas.in/0000000000003765.png\"},{\"id\":16,\"title\":\"Competitive Programmer\",\"online_title\":\"online-competitive-programming-track\",\"offline_title\":\"\",\"name\":\"Ninja Competitive Programmer Track\",\"level\":\"Career Tracks\",\"brief_intro\":\"Competitive Track\",\"preview_image_url\":\"https://files.codingninjas.in/0000000000001177.png\",\"available_online\":true,\"available_offline\":false,\"is_career_track\":true,\"course_group_id\":3,\"classroom_icon_url\":\"https://files.codingninjas.in/0000000000003775.png\"},{\"id\":43,\"title\":\"Premium Data Science Course\",\"online_title\":\"premium-data-science-course\",\"offline_title\":\"\",\"name\":\"Premium Data Science Course\",\"level\":\"Foundation Courses\",\"brief_intro\":\"\",\"preview_image_url\":\"\",\"available_online\":true,\"available_offline\":false,\"is_career_track\":false,\"course_group_id\":7,\"classroom_icon_url\":\"https://files.codingninjas.in/0000000000003765.png\"},{\"id\":41,\"title\":\"Premium Competitive Course\",\"online_title\":\"premium-competitive-course\",\"offline_title\":\"\",\"name\":\"Premium Competitive Programming Course\",\"level\":\"Foundation Courses\",\"brief_intro\":\"\",\"preview_image_url\":\"\",\"available_online\":true,\"available_offline\":false,\"is_career_track\":false,\"course_group_id\":7,\"classroom_icon_url\":\"https://files.codingninjas.in/0000000000003765.png\"},{\"id\":1,\"title\":\"C++ \\u0026 Data Structures\",\"online_title\":\"onlline-c-plus-plus-course\",\"offline_title\":\"classroom-c-plus-plus-course\",\"name\":\"C++ Foundation with Data Structures\",\"level\":\"Foundation Courses\",\"brief_intro\":\"Brief Intro\",\"preview_image_url\":\"https://files.codingninjas.in/0000000000001176.png\",\"available_online\":true,\"available_offline\":false,\"is_career_track\":false,\"course_group_id\":1,\"classroom_icon_url\":\"https://files.codingninjas.in/0000000000003771.png\"},{\"id\":34,\"title\":\"Front End (React)\",\"online_title\":\"online-web-dev-with-react\",\"offline_title\":\"\",\"name\":\"Advanced  Front-End Web Development with React\",\"level\":\"Development Courses\",\"brief_intro\":\"Advanced  Front-End Web Development with React\",\"preview_image_url\":\"https://ninjasfiles.s3.amazonaws.com/0000000000001179.png\",\"available_online\":true,\"available_offline\":false,\"is_career_track\":false,\"course_group_id\":2,\"classroom_icon_url\":\"https://files.codingninjas.in/0000000000003769.png\"},{\"id\":45,\"title\":\"Premium Android Course\",\"online_title\":\"premium-android-app-development-course\",\"offline_title\":\"\",\"name\":\"Premium Android App Development\",\"level\":\"Foundation Courses\",\"brief_intro\":\"\",\"preview_image_url\":\"\",\"available_online\":true,\"available_offline\":false,\"is_career_track\":false,\"course_group_id\":7,\"classroom_icon_url\":\"https://files.codingninjas.in/0000000000003765.png\"},{\"id\":44,\"title\":\"Premium Machine Learning Course\",\"online_title\":\"premium-machine-learning-course\",\"offline_title\":\"\",\"name\":\"Premium Machine Learning Course\",\"level\":\"Foundation Courses\",\"brief_intro\":\"\",\"preview_image_url\":\"\",\"available_online\":true,\"available_offline\":false,\"is_career_track\":false,\"course_group_id\":7,\"classroom_icon_url\":\"https://files.codingninjas.in/0000000000003765.png\"},{\"id\":42,\"title\":\"Premium Web Dev Course\",\"online_title\":\"premium-full-stack-web-development-course\",\"offline_title\":\"\",\"name\":\"Premium Full Stack Web Development\",\"level\":\"Foundation Courses\",\"brief_intro\":\"\",\"preview_image_url\":\"\",\"available_online\":true,\"available_offline\":false,\"is_career_track\":false,\"course_group_id\":7,\"classroom_icon_url\":\"https://files.codingninjas.in/0000000000003765.png\"},{\"id\":6,\"title\":\"Machine Learning\",\"online_title\":\"online-machine-learning-course\",\"offline_title\":\"classroom-machine-learning-course\",\"name\":\"Machine Learning \\u0026 Deep Learning Course\",\"level\":\"Advanced Courses\",\"brief_intro\":\"Machine learning engineers build, implement, and maintain machine learning systems in technology products.\",\"preview_image_url\":\"https://ninjasfiles.s3.amazonaws.com/0000000000001181.png\",\"available_online\":true,\"available_offline\":false,\"is_career_track\":false,\"course_group_id\":2,\"classroom_icon_url\":\"https://files.codingninjas.in/0000000000003766.png\"},{\"id\":12,\"title\":\"Web Dev (Full Stack)\",\"online_title\":\"online-full-stack-node-js-web-dev-course\",\"offline_title\":\"\",\"name\":\"Full Stack Web Development\",\"level\":\"Development Courses\",\"brief_intro\":\"Web Development\",\"preview_image_url\":\"https://ninjasfiles.s3.amazonaws.com/0000000000001179.png\",\"available_online\":true,\"available_offline\":false,\"is_career_track\":false,\"course_group_id\":2,\"classroom_icon_url\":\"https://files.codingninjas.in/0000000000003764.png\"},{\"id\":2,\"title\":\"Java \\u0026 Data Structures\",\"online_title\":\"online-java-course\",\"offline_title\":\"classroom-java-course\",\"name\":\"JAVA Foundation with Data Structures\",\"level\":\"Foundation Courses\",\"brief_intro\":\"Brief Intro\",\"preview_image_url\":\"https://ninjasfiles.s3.amazonaws.com/0000000000001255.png\",\"available_online\":true,\"available_offline\":false,\"is_career_track\":false,\"course_group_id\":1,\"classroom_icon_url\":\"https://files.codingninjas.in/0000000000003772.png\"},{\"id\":35,\"title\":\"Android Developer\",\"online_title\":\"online-android-development-career-track\",\"offline_title\":\"\",\"name\":\"Ninja Android Developer Career Track \",\"level\":\"Career Tracks\",\"brief_intro\":\"beginner to pro Android Developer!\",\"preview_image_url\":\"https://ninjasfiles.s3.amazonaws.com/0000000000001175.png\",\"available_online\":true,\"available_offline\":false,\"is_career_track\":true,\"course_group_id\":3,\"classroom_icon_url\":\"https://files.codingninjas.in/0000000000003774.png\"},{\"id\":4,\"title\":\"Interview Preparation\",\"online_title\":\"online-interview-preparation\",\"offline_title\":\"classroom-interview-preparation\",\"name\":\"Interview Preparation Course\",\"level\":\"Advanced Courses\",\"brief_intro\":\"Brief Intro\",\"preview_image_url\":\"https://ninjasfiles.s3.amazonaws.com/0000000000001178.png\",\"available_online\":true,\"available_offline\":false,\"is_career_track\":false,\"course_group_id\":1,\"classroom_icon_url\":\"https://files.codingninjas.in/0000000000003765.png\"},{\"id\":13,\"title\":\"Data Science\",\"online_title\":\"online-data-science-course\",\"offline_title\":\"\",\"name\":\"Data Science \\u0026 Machine Learning Complete\",\"level\":\"Advanced Courses\",\"brief_intro\":\"Brief Intro\",\"preview_image_url\":\"https://ninjasfiles.s3.amazonaws.com/0000000000001371.png\",\"available_online\":true,\"available_offline\":false,\"is_career_track\":false,\"course_group_id\":2,\"classroom_icon_url\":\"https://files.codingninjas.in/0000000000003763.png\"},{\"id\":36,\"title\":\"Python \\u0026 Web Dev (MERN)\",\"online_title\":\"ninja-web-developer-career-track-mern-stack\",\"offline_title\":\"\",\"name\":\"Ninja  Web Developer Career Track - NodeJS \\u0026 ReactJs\",\"level\":\"Career Tracks\",\"brief_intro\":\"Programming foundation + MERN Stack Web Development complete Career Track\",\"preview_image_url\":\"https://ninjasfiles.s3.amazonaws.com/0000000000001179.png\",\"available_online\":true,\"available_offline\":false,\"is_career_track\":true,\"course_group_id\":3,\"classroom_icon_url\":\"https://files.codingninjas.in/0000000000003777.png\"},{\"id\":10,\"title\":\"Competitive Programming\",\"online_title\":\"online-competitive-programming-course\",\"offline_title\":\"\",\"name\":\"Competitive Programming Course\",\"level\":\"Advanced Courses\",\"brief_intro\":\"Eminence\",\"preview_image_url\":\"https://ninjasfiles.s3.amazonaws.com/0000000000001177.png\",\"available_online\":true,\"available_offline\":false,\"is_career_track\":false,\"course_group_id\":1,\"classroom_icon_url\":\"https://files.codingninjas.in/0000000000003762.png\"},{\"id\":17,\"title\":\"C++ \\u0026 Web Dev (Node.js)\",\"online_title\":\"web-developer-career-track\",\"offline_title\":\"\",\"name\":\"Ninja  Web Developer Career Track - NodeJS\",\"level\":\"Career Tracks\",\"brief_intro\":\"Programming foundation + Full Stack Web Development Career Track\",\"preview_image_url\":\"https://ninjasfiles.s3.amazonaws.com/0000000000001179.png\",\"available_online\":true,\"available_offline\":false,\"is_career_track\":true,\"course_group_id\":3,\"classroom_icon_url\":\"https://files.codingninjas.in/0000000000003777.png\"},{\"id\":18,\"title\":\"Data Scientist\",\"online_title\":\"data-Scientist-career-track\",\"offline_title\":\"\",\"name\":\"Ninja Data Scientist Career Track\",\"level\":\"Career Tracks\",\"brief_intro\":\"Programming foundation + Data Science with ML career track\",\"preview_image_url\":\"https://ninjasfiles.s3.amazonaws.com/0000000000001371.png\",\"available_online\":true,\"available_offline\":false,\"is_career_track\":true,\"course_group_id\":3,\"classroom_icon_url\":\"https://files.codingninjas.in/0000000000003778.png\"},{\"id\":11,\"title\":\"Python \\u0026 Data Structures\",\"online_title\":\"online-python-course\",\"offline_title\":\"offline-python-course\",\"name\":\"Python Foundation with Data Structures\",\"level\":\"Foundation Courses\",\"brief_intro\":\"Python Foundation\",\"preview_image_url\":\"https://ninjasfiles.s3.amazonaws.com/0000000000001282.png\",\"available_online\":true,\"available_offline\":false,\"is_career_track\":false,\"course_group_id\":1,\"classroom_icon_url\":\"https://files.codingninjas.in/0000000000003773.png\"},{\"id\":33,\"title\":\"Android (Kotlin)\",\"online_title\":\"online-android-Development-kotlin\",\"offline_title\":\"\",\"name\":\"Android Development with Kotlin\",\"level\":\"Development Courses\",\"brief_intro\":\"Android Development Kotlin\",\"preview_image_url\":\"https://ninjasfiles.s3.amazonaws.com/0000000000001175.png\",\"available_online\":true,\"available_offline\":false,\"is_career_track\":false,\"course_group_id\":2,\"classroom_icon_url\":\"https://files.codingninjas.in/0000000000003761.png\"},{\"id\":21,\"title\":\"Aptitude Preparation\",\"online_title\":\"online-aptitude-preparation\",\"offline_title\":\"\",\"name\":\"Aptitude Preparation Course\",\"level\":\"Foundation Courses\",\"brief_intro\":\"Brief Intro\",\"preview_image_url\":\"https://ninjasfiles.s3.amazonaws.com/0000000000001178.png\",\"available_online\":true,\"available_offline\":false,\"is_career_track\":false,\"course_group_id\":1,\"classroom_icon_url\":\"https://files.codingninjas.in/0000000000003770.png\"},{\"id\":19,\"title\":\"Machine Learning\",\"online_title\":\"machine-learning-engineer-career-track\",\"offline_title\":\"\",\"name\":\"Ninja Machine Learning Engineer Career Track\",\"level\":\"Career Tracks\",\"brief_intro\":\"Programming foundation + Machine Learning career track\",\"preview_image_url\":\"https://ninjasfiles.s3.amazonaws.com/0000000000001181.png\",\"available_online\":true,\"available_offline\":false,\"is_career_track\":true,\"course_group_id\":3,\"classroom_icon_url\":\"https://files.codingninjas.in/0000000000003776.png\"}],\"course_groups\":[{\"id\":1,\"name\":\"Foundation, Algorithmic \\u0026 Advanced\",\"order\":1,\"course_ids\":[1,2,4,10,11,21],\"json_data\":{\"color\":\"#FFEBC2\",\"image_link\":\"https://ninjasfiles.s3.amazonaws.com/0000000000003821.png\",\"text_color\":\"#AC933C\",\"short_description\":\"Foundation courses are designed such that \\u003cstrong\\u003eno prerequisites are required.\\u003c/strong\\u003e Data Structures(DS) and Algorithms(algo.) parts build on the basics to give you a \\u003cstrong\\u003esolid programming foundation\\u003c/strong\\u003e. Competitive is where you start to \\u003cstrong\\u003epush the boundaries!\\u003c/strong\\u003e\",\"mobile_short_description\":\"Foundation courses are designed such that \\u003cspan\\u003eno prerequisites are required.\\u003c/span\\u003e\"},\"is_independent\":false},{\"id\":2,\"name\":\"Data \\u0026 Development\",\"order\":2,\"course_ids\":[34,6,12,13,33],\"json_data\":{\"color\":\"#80D4B1\",\"image_link\":\"https://files.codingninjas.in/0000000000003846.svg\",\"text_color\":\"#257D68\",\"short_description\":\"Data courses dwell in the state of the art algorithms and require good knowledge of programming fundamentals. Web development courses use modern JavaScript to build powerful and fast applications from the ground up. \\u003cstrong\\u003eNo prior development experience needed\\u003c/strong\\u003e\",\"mobile_short_description\":\"Data courses dwell in the state of the art algorithms and require good knowledge of programming fundamentals. Web development courses use modern JavaScript to build powerful and fast applications from the ground up. \\u003cspan\\u003eNo prior development experience needed\\u003c/span\\u003e\"},\"is_independent\":false},{\"id\":3,\"name\":\"Career Track\",\"order\":3,\"course_ids\":[16,35,36,17,18,19],\"json_data\":{\"color\":\"#C898FF\",\"image_link\":\"https://files.codingninjas.in/0000000000003845.svg\",\"text_color\":\"#603CAC\",\"short_description\":\"These are courses that take you from \\u003cstrong\\u003ezero to hero\\u003c/strong\\u003e. Each track is designed specifically to cater to a particular goal you can choose and \\u003cstrong\\u003ecovers everything you need to learn and assumes no prior knowledge.\\u003c/strong\\u003e\",\"mobile_short_description\":\"Each track is designed specifically to cater to a particular goal you can choose and \\u003cspan\\u003ecovers everything you need to learn and assumes no prior knowledge.\\u003c/span\\u003e\"},\"is_independent\":true},{\"id\":7,\"name\":\"Premium Course\",\"order\":null,\"course_ids\":[40,43,41,45,44,42],\"json_data\":null,\"is_independent\":true}]},\"message\":\"Courses\",\"status\":200,\"error\":null,\"disabled\":false,\"update\":false,\"external_rating\":null}\n"
     ]
    }
   ],
   "source": [
    "import requests\n",
    "response = requests.get('https://codingninjas.in/api/v3/courses')\n",
    "print(response.text)"
   ]
  },
  {
   "cell_type": "code",
   "execution_count": 18,
   "id": "b904cbfc",
   "metadata": {},
   "outputs": [
    {
     "name": "stdout",
     "output_type": "stream",
     "text": [
      "<class 'dict'>\n"
     ]
    }
   ],
   "source": [
    "import json\n",
    "python_data = json.loads(response.text)\n",
    "print(type(python_data))"
   ]
  },
  {
   "cell_type": "markdown",
   "id": "b7ffdac3",
   "metadata": {},
   "source": [
    "We can use JSON reader extension in web browser to see data in good format.\n",
    "It is very useful"
   ]
  },
  {
   "cell_type": "code",
   "execution_count": 19,
   "id": "f84d33b1",
   "metadata": {},
   "outputs": [
    {
     "name": "stdout",
     "output_type": "stream",
     "text": [
      "[{'id': 40, 'title': 'Data structures and Algorithms [C++/Java/Python]', 'online_title': 'premium-foundation-course', 'offline_title': '', 'name': 'Premium Data structures and Algorithms [C++/Java/Python]', 'level': 'Foundation Courses', 'brief_intro': '', 'preview_image_url': '', 'available_online': True, 'available_offline': False, 'is_career_track': False, 'course_group_id': 7, 'classroom_icon_url': 'https://files.codingninjas.in/0000000000003765.png'}, {'id': 16, 'title': 'Competitive Programmer', 'online_title': 'online-competitive-programming-track', 'offline_title': '', 'name': 'Ninja Competitive Programmer Track', 'level': 'Career Tracks', 'brief_intro': 'Competitive Track', 'preview_image_url': 'https://files.codingninjas.in/0000000000001177.png', 'available_online': True, 'available_offline': False, 'is_career_track': True, 'course_group_id': 3, 'classroom_icon_url': 'https://files.codingninjas.in/0000000000003775.png'}, {'id': 43, 'title': 'Premium Data Science Course', 'online_title': 'premium-data-science-course', 'offline_title': '', 'name': 'Premium Data Science Course', 'level': 'Foundation Courses', 'brief_intro': '', 'preview_image_url': '', 'available_online': True, 'available_offline': False, 'is_career_track': False, 'course_group_id': 7, 'classroom_icon_url': 'https://files.codingninjas.in/0000000000003765.png'}, {'id': 41, 'title': 'Premium Competitive Course', 'online_title': 'premium-competitive-course', 'offline_title': '', 'name': 'Premium Competitive Programming Course', 'level': 'Foundation Courses', 'brief_intro': '', 'preview_image_url': '', 'available_online': True, 'available_offline': False, 'is_career_track': False, 'course_group_id': 7, 'classroom_icon_url': 'https://files.codingninjas.in/0000000000003765.png'}, {'id': 1, 'title': 'C++ & Data Structures', 'online_title': 'onlline-c-plus-plus-course', 'offline_title': 'classroom-c-plus-plus-course', 'name': 'C++ Foundation with Data Structures', 'level': 'Foundation Courses', 'brief_intro': 'Brief Intro', 'preview_image_url': 'https://files.codingninjas.in/0000000000001176.png', 'available_online': True, 'available_offline': False, 'is_career_track': False, 'course_group_id': 1, 'classroom_icon_url': 'https://files.codingninjas.in/0000000000003771.png'}, {'id': 34, 'title': 'Front End (React)', 'online_title': 'online-web-dev-with-react', 'offline_title': '', 'name': 'Advanced  Front-End Web Development with React', 'level': 'Development Courses', 'brief_intro': 'Advanced  Front-End Web Development with React', 'preview_image_url': 'https://ninjasfiles.s3.amazonaws.com/0000000000001179.png', 'available_online': True, 'available_offline': False, 'is_career_track': False, 'course_group_id': 2, 'classroom_icon_url': 'https://files.codingninjas.in/0000000000003769.png'}, {'id': 45, 'title': 'Premium Android Course', 'online_title': 'premium-android-app-development-course', 'offline_title': '', 'name': 'Premium Android App Development', 'level': 'Foundation Courses', 'brief_intro': '', 'preview_image_url': '', 'available_online': True, 'available_offline': False, 'is_career_track': False, 'course_group_id': 7, 'classroom_icon_url': 'https://files.codingninjas.in/0000000000003765.png'}, {'id': 44, 'title': 'Premium Machine Learning Course', 'online_title': 'premium-machine-learning-course', 'offline_title': '', 'name': 'Premium Machine Learning Course', 'level': 'Foundation Courses', 'brief_intro': '', 'preview_image_url': '', 'available_online': True, 'available_offline': False, 'is_career_track': False, 'course_group_id': 7, 'classroom_icon_url': 'https://files.codingninjas.in/0000000000003765.png'}, {'id': 42, 'title': 'Premium Web Dev Course', 'online_title': 'premium-full-stack-web-development-course', 'offline_title': '', 'name': 'Premium Full Stack Web Development', 'level': 'Foundation Courses', 'brief_intro': '', 'preview_image_url': '', 'available_online': True, 'available_offline': False, 'is_career_track': False, 'course_group_id': 7, 'classroom_icon_url': 'https://files.codingninjas.in/0000000000003765.png'}, {'id': 6, 'title': 'Machine Learning', 'online_title': 'online-machine-learning-course', 'offline_title': 'classroom-machine-learning-course', 'name': 'Machine Learning & Deep Learning Course', 'level': 'Advanced Courses', 'brief_intro': 'Machine learning engineers build, implement, and maintain machine learning systems in technology products.', 'preview_image_url': 'https://ninjasfiles.s3.amazonaws.com/0000000000001181.png', 'available_online': True, 'available_offline': False, 'is_career_track': False, 'course_group_id': 2, 'classroom_icon_url': 'https://files.codingninjas.in/0000000000003766.png'}, {'id': 12, 'title': 'Web Dev (Full Stack)', 'online_title': 'online-full-stack-node-js-web-dev-course', 'offline_title': '', 'name': 'Full Stack Web Development', 'level': 'Development Courses', 'brief_intro': 'Web Development', 'preview_image_url': 'https://ninjasfiles.s3.amazonaws.com/0000000000001179.png', 'available_online': True, 'available_offline': False, 'is_career_track': False, 'course_group_id': 2, 'classroom_icon_url': 'https://files.codingninjas.in/0000000000003764.png'}, {'id': 2, 'title': 'Java & Data Structures', 'online_title': 'online-java-course', 'offline_title': 'classroom-java-course', 'name': 'JAVA Foundation with Data Structures', 'level': 'Foundation Courses', 'brief_intro': 'Brief Intro', 'preview_image_url': 'https://ninjasfiles.s3.amazonaws.com/0000000000001255.png', 'available_online': True, 'available_offline': False, 'is_career_track': False, 'course_group_id': 1, 'classroom_icon_url': 'https://files.codingninjas.in/0000000000003772.png'}, {'id': 35, 'title': 'Android Developer', 'online_title': 'online-android-development-career-track', 'offline_title': '', 'name': 'Ninja Android Developer Career Track ', 'level': 'Career Tracks', 'brief_intro': 'beginner to pro Android Developer!', 'preview_image_url': 'https://ninjasfiles.s3.amazonaws.com/0000000000001175.png', 'available_online': True, 'available_offline': False, 'is_career_track': True, 'course_group_id': 3, 'classroom_icon_url': 'https://files.codingninjas.in/0000000000003774.png'}, {'id': 4, 'title': 'Interview Preparation', 'online_title': 'online-interview-preparation', 'offline_title': 'classroom-interview-preparation', 'name': 'Interview Preparation Course', 'level': 'Advanced Courses', 'brief_intro': 'Brief Intro', 'preview_image_url': 'https://ninjasfiles.s3.amazonaws.com/0000000000001178.png', 'available_online': True, 'available_offline': False, 'is_career_track': False, 'course_group_id': 1, 'classroom_icon_url': 'https://files.codingninjas.in/0000000000003765.png'}, {'id': 13, 'title': 'Data Science', 'online_title': 'online-data-science-course', 'offline_title': '', 'name': 'Data Science & Machine Learning Complete', 'level': 'Advanced Courses', 'brief_intro': 'Brief Intro', 'preview_image_url': 'https://ninjasfiles.s3.amazonaws.com/0000000000001371.png', 'available_online': True, 'available_offline': False, 'is_career_track': False, 'course_group_id': 2, 'classroom_icon_url': 'https://files.codingninjas.in/0000000000003763.png'}, {'id': 36, 'title': 'Python & Web Dev (MERN)', 'online_title': 'ninja-web-developer-career-track-mern-stack', 'offline_title': '', 'name': 'Ninja  Web Developer Career Track - NodeJS & ReactJs', 'level': 'Career Tracks', 'brief_intro': 'Programming foundation + MERN Stack Web Development complete Career Track', 'preview_image_url': 'https://ninjasfiles.s3.amazonaws.com/0000000000001179.png', 'available_online': True, 'available_offline': False, 'is_career_track': True, 'course_group_id': 3, 'classroom_icon_url': 'https://files.codingninjas.in/0000000000003777.png'}, {'id': 10, 'title': 'Competitive Programming', 'online_title': 'online-competitive-programming-course', 'offline_title': '', 'name': 'Competitive Programming Course', 'level': 'Advanced Courses', 'brief_intro': 'Eminence', 'preview_image_url': 'https://ninjasfiles.s3.amazonaws.com/0000000000001177.png', 'available_online': True, 'available_offline': False, 'is_career_track': False, 'course_group_id': 1, 'classroom_icon_url': 'https://files.codingninjas.in/0000000000003762.png'}, {'id': 17, 'title': 'C++ & Web Dev (Node.js)', 'online_title': 'web-developer-career-track', 'offline_title': '', 'name': 'Ninja  Web Developer Career Track - NodeJS', 'level': 'Career Tracks', 'brief_intro': 'Programming foundation + Full Stack Web Development Career Track', 'preview_image_url': 'https://ninjasfiles.s3.amazonaws.com/0000000000001179.png', 'available_online': True, 'available_offline': False, 'is_career_track': True, 'course_group_id': 3, 'classroom_icon_url': 'https://files.codingninjas.in/0000000000003777.png'}, {'id': 18, 'title': 'Data Scientist', 'online_title': 'data-Scientist-career-track', 'offline_title': '', 'name': 'Ninja Data Scientist Career Track', 'level': 'Career Tracks', 'brief_intro': 'Programming foundation + Data Science with ML career track', 'preview_image_url': 'https://ninjasfiles.s3.amazonaws.com/0000000000001371.png', 'available_online': True, 'available_offline': False, 'is_career_track': True, 'course_group_id': 3, 'classroom_icon_url': 'https://files.codingninjas.in/0000000000003778.png'}, {'id': 11, 'title': 'Python & Data Structures', 'online_title': 'online-python-course', 'offline_title': 'offline-python-course', 'name': 'Python Foundation with Data Structures', 'level': 'Foundation Courses', 'brief_intro': 'Python Foundation', 'preview_image_url': 'https://ninjasfiles.s3.amazonaws.com/0000000000001282.png', 'available_online': True, 'available_offline': False, 'is_career_track': False, 'course_group_id': 1, 'classroom_icon_url': 'https://files.codingninjas.in/0000000000003773.png'}, {'id': 33, 'title': 'Android (Kotlin)', 'online_title': 'online-android-Development-kotlin', 'offline_title': '', 'name': 'Android Development with Kotlin', 'level': 'Development Courses', 'brief_intro': 'Android Development Kotlin', 'preview_image_url': 'https://ninjasfiles.s3.amazonaws.com/0000000000001175.png', 'available_online': True, 'available_offline': False, 'is_career_track': False, 'course_group_id': 2, 'classroom_icon_url': 'https://files.codingninjas.in/0000000000003761.png'}, {'id': 21, 'title': 'Aptitude Preparation', 'online_title': 'online-aptitude-preparation', 'offline_title': '', 'name': 'Aptitude Preparation Course', 'level': 'Foundation Courses', 'brief_intro': 'Brief Intro', 'preview_image_url': 'https://ninjasfiles.s3.amazonaws.com/0000000000001178.png', 'available_online': True, 'available_offline': False, 'is_career_track': False, 'course_group_id': 1, 'classroom_icon_url': 'https://files.codingninjas.in/0000000000003770.png'}, {'id': 19, 'title': 'Machine Learning', 'online_title': 'machine-learning-engineer-career-track', 'offline_title': '', 'name': 'Ninja Machine Learning Engineer Career Track', 'level': 'Career Tracks', 'brief_intro': 'Programming foundation + Machine Learning career track', 'preview_image_url': 'https://ninjasfiles.s3.amazonaws.com/0000000000001181.png', 'available_online': True, 'available_offline': False, 'is_career_track': True, 'course_group_id': 3, 'classroom_icon_url': 'https://files.codingninjas.in/0000000000003776.png'}]\n"
     ]
    }
   ],
   "source": [
    "all_courses = python_data[\"data\"][\"courses\"]\n",
    "print(all_courses)"
   ]
  },
  {
   "cell_type": "code",
   "execution_count": 20,
   "id": "69dc2401",
   "metadata": {},
   "outputs": [
    {
     "name": "stdout",
     "output_type": "stream",
     "text": [
      "<class 'list'>\n"
     ]
    }
   ],
   "source": [
    "print(type(all_courses))"
   ]
  },
  {
   "cell_type": "code",
   "execution_count": 21,
   "id": "84a26e2c",
   "metadata": {},
   "outputs": [
    {
     "name": "stdout",
     "output_type": "stream",
     "text": [
      "Data structures and Algorithms [C++/Java/Python]\n",
      "Competitive Programmer\n",
      "Premium Data Science Course\n",
      "Premium Competitive Course\n",
      "C++ & Data Structures\n",
      "Front End (React)\n",
      "Premium Android Course\n",
      "Premium Machine Learning Course\n",
      "Premium Web Dev Course\n",
      "Machine Learning\n",
      "Web Dev (Full Stack)\n",
      "Java & Data Structures\n",
      "Android Developer\n",
      "Interview Preparation\n",
      "Data Science\n",
      "Python & Web Dev (MERN)\n",
      "Competitive Programming\n",
      "C++ & Web Dev (Node.js)\n",
      "Data Scientist\n",
      "Python & Data Structures\n",
      "Android (Kotlin)\n",
      "Aptitude Preparation\n",
      "Machine Learning\n",
      "23\n"
     ]
    }
   ],
   "source": [
    "# Print name of the courses\n",
    "for i in all_courses:\n",
    "    print(i[\"title\"])\n",
    "print(len(all_courses))"
   ]
  },
  {
   "cell_type": "code",
   "execution_count": 22,
   "id": "adbe757f",
   "metadata": {},
   "outputs": [
    {
     "name": "stdout",
     "output_type": "stream",
     "text": [
      "{\"message\":{\"affenpinscher\":[],\"african\":[],\"airedale\":[],\"akita\":[],\"appenzeller\":[],\"australian\":[\"shepherd\"],\"basenji\":[],\"beagle\":[],\"bluetick\":[],\"borzoi\":[],\"bouvier\":[],\"boxer\":[],\"brabancon\":[],\"briard\":[],\"buhund\":[\"norwegian\"],\"bulldog\":[\"boston\",\"english\",\"french\"],\"bullterrier\":[\"staffordshire\"],\"cairn\":[],\"cattledog\":[\"australian\"],\"chihuahua\":[],\"chow\":[],\"clumber\":[],\"cockapoo\":[],\"collie\":[\"border\"],\"coonhound\":[],\"corgi\":[\"cardigan\"],\"cotondetulear\":[],\"dachshund\":[],\"dalmatian\":[],\"dane\":[\"great\"],\"deerhound\":[\"scottish\"],\"dhole\":[],\"dingo\":[],\"doberman\":[],\"elkhound\":[\"norwegian\"],\"entlebucher\":[],\"eskimo\":[],\"finnish\":[\"lapphund\"],\"frise\":[\"bichon\"],\"germanshepherd\":[],\"greyhound\":[\"italian\"],\"groenendael\":[],\"havanese\":[],\"hound\":[\"afghan\",\"basset\",\"blood\",\"english\",\"ibizan\",\"plott\",\"walker\"],\"husky\":[],\"keeshond\":[],\"kelpie\":[],\"komondor\":[],\"kuvasz\":[],\"labradoodle\":[],\"labrador\":[],\"leonberg\":[],\"lhasa\":[],\"malamute\":[],\"malinois\":[],\"maltese\":[],\"mastiff\":[\"bull\",\"english\",\"tibetan\"],\"mexicanhairless\":[],\"mix\":[],\"mountain\":[\"bernese\",\"swiss\"],\"newfoundland\":[],\"otterhound\":[],\"ovcharka\":[\"caucasian\"],\"papillon\":[],\"pekinese\":[],\"pembroke\":[],\"pinscher\":[\"miniature\"],\"pitbull\":[],\"pointer\":[\"german\",\"germanlonghair\"],\"pomeranian\":[],\"poodle\":[\"miniature\",\"standard\",\"toy\"],\"pug\":[],\"puggle\":[],\"pyrenees\":[],\"redbone\":[],\"retriever\":[\"chesapeake\",\"curly\",\"flatcoated\",\"golden\"],\"ridgeback\":[\"rhodesian\"],\"rottweiler\":[],\"saluki\":[],\"samoyed\":[],\"schipperke\":[],\"schnauzer\":[\"giant\",\"miniature\"],\"setter\":[\"english\",\"gordon\",\"irish\"],\"sheepdog\":[\"english\",\"shetland\"],\"shiba\":[],\"shihtzu\":[],\"spaniel\":[\"blenheim\",\"brittany\",\"cocker\",\"irish\",\"japanese\",\"sussex\",\"welsh\"],\"springer\":[\"english\"],\"stbernard\":[],\"terrier\":[\"american\",\"australian\",\"bedlington\",\"border\",\"dandie\",\"fox\",\"irish\",\"kerryblue\",\"lakeland\",\"norfolk\",\"norwich\",\"patterdale\",\"russell\",\"scottish\",\"sealyham\",\"silky\",\"tibetan\",\"toy\",\"westhighland\",\"wheaten\",\"yorkshire\"],\"vizsla\":[],\"waterdog\":[\"spanish\"],\"weimaraner\":[],\"whippet\":[],\"wolfhound\":[\"irish\"]},\"status\":\"success\"}\n"
     ]
    }
   ],
   "source": [
    "import requests\n",
    "p = requests.get('https://dog.ceo/api/breeds/list/all')\n",
    "print(p.text)"
   ]
  },
  {
   "cell_type": "code",
   "execution_count": 23,
   "id": "cd28ecbc",
   "metadata": {},
   "outputs": [
    {
     "name": "stdout",
     "output_type": "stream",
     "text": [
      "<class 'dict'>\n",
      "{'message': {'affenpinscher': [], 'african': [], 'airedale': [], 'akita': [], 'appenzeller': [], 'australian': ['shepherd'], 'basenji': [], 'beagle': [], 'bluetick': [], 'borzoi': [], 'bouvier': [], 'boxer': [], 'brabancon': [], 'briard': [], 'buhund': ['norwegian'], 'bulldog': ['boston', 'english', 'french'], 'bullterrier': ['staffordshire'], 'cairn': [], 'cattledog': ['australian'], 'chihuahua': [], 'chow': [], 'clumber': [], 'cockapoo': [], 'collie': ['border'], 'coonhound': [], 'corgi': ['cardigan'], 'cotondetulear': [], 'dachshund': [], 'dalmatian': [], 'dane': ['great'], 'deerhound': ['scottish'], 'dhole': [], 'dingo': [], 'doberman': [], 'elkhound': ['norwegian'], 'entlebucher': [], 'eskimo': [], 'finnish': ['lapphund'], 'frise': ['bichon'], 'germanshepherd': [], 'greyhound': ['italian'], 'groenendael': [], 'havanese': [], 'hound': ['afghan', 'basset', 'blood', 'english', 'ibizan', 'plott', 'walker'], 'husky': [], 'keeshond': [], 'kelpie': [], 'komondor': [], 'kuvasz': [], 'labradoodle': [], 'labrador': [], 'leonberg': [], 'lhasa': [], 'malamute': [], 'malinois': [], 'maltese': [], 'mastiff': ['bull', 'english', 'tibetan'], 'mexicanhairless': [], 'mix': [], 'mountain': ['bernese', 'swiss'], 'newfoundland': [], 'otterhound': [], 'ovcharka': ['caucasian'], 'papillon': [], 'pekinese': [], 'pembroke': [], 'pinscher': ['miniature'], 'pitbull': [], 'pointer': ['german', 'germanlonghair'], 'pomeranian': [], 'poodle': ['miniature', 'standard', 'toy'], 'pug': [], 'puggle': [], 'pyrenees': [], 'redbone': [], 'retriever': ['chesapeake', 'curly', 'flatcoated', 'golden'], 'ridgeback': ['rhodesian'], 'rottweiler': [], 'saluki': [], 'samoyed': [], 'schipperke': [], 'schnauzer': ['giant', 'miniature'], 'setter': ['english', 'gordon', 'irish'], 'sheepdog': ['english', 'shetland'], 'shiba': [], 'shihtzu': [], 'spaniel': ['blenheim', 'brittany', 'cocker', 'irish', 'japanese', 'sussex', 'welsh'], 'springer': ['english'], 'stbernard': [], 'terrier': ['american', 'australian', 'bedlington', 'border', 'dandie', 'fox', 'irish', 'kerryblue', 'lakeland', 'norfolk', 'norwich', 'patterdale', 'russell', 'scottish', 'sealyham', 'silky', 'tibetan', 'toy', 'westhighland', 'wheaten', 'yorkshire'], 'vizsla': [], 'waterdog': ['spanish'], 'weimaraner': [], 'whippet': [], 'wolfhound': ['irish']}, 'status': 'success'}\n"
     ]
    }
   ],
   "source": [
    "python_data = p.json()\n",
    "print(type(python_data))\n",
    "print(python_data)"
   ]
  },
  {
   "cell_type": "code",
   "execution_count": 24,
   "id": "a4c5c836",
   "metadata": {},
   "outputs": [
    {
     "name": "stdout",
     "output_type": "stream",
     "text": [
      "affenpinscher  :  0\n",
      "african  :  0\n",
      "airedale  :  0\n",
      "akita  :  0\n",
      "appenzeller  :  0\n",
      "australian  :  1\n",
      "basenji  :  0\n",
      "beagle  :  0\n",
      "bluetick  :  0\n",
      "borzoi  :  0\n",
      "bouvier  :  0\n",
      "boxer  :  0\n",
      "brabancon  :  0\n",
      "briard  :  0\n",
      "buhund  :  1\n",
      "bulldog  :  3\n",
      "bullterrier  :  1\n",
      "cairn  :  0\n",
      "cattledog  :  1\n",
      "chihuahua  :  0\n",
      "chow  :  0\n",
      "clumber  :  0\n",
      "cockapoo  :  0\n",
      "collie  :  1\n",
      "coonhound  :  0\n",
      "corgi  :  1\n",
      "cotondetulear  :  0\n",
      "dachshund  :  0\n",
      "dalmatian  :  0\n",
      "dane  :  1\n",
      "deerhound  :  1\n",
      "dhole  :  0\n",
      "dingo  :  0\n",
      "doberman  :  0\n",
      "elkhound  :  1\n",
      "entlebucher  :  0\n",
      "eskimo  :  0\n",
      "finnish  :  1\n",
      "frise  :  1\n",
      "germanshepherd  :  0\n",
      "greyhound  :  1\n",
      "groenendael  :  0\n",
      "havanese  :  0\n",
      "hound  :  7\n",
      "husky  :  0\n",
      "keeshond  :  0\n",
      "kelpie  :  0\n",
      "komondor  :  0\n",
      "kuvasz  :  0\n",
      "labradoodle  :  0\n",
      "labrador  :  0\n",
      "leonberg  :  0\n",
      "lhasa  :  0\n",
      "malamute  :  0\n",
      "malinois  :  0\n",
      "maltese  :  0\n",
      "mastiff  :  3\n",
      "mexicanhairless  :  0\n",
      "mix  :  0\n",
      "mountain  :  2\n",
      "newfoundland  :  0\n",
      "otterhound  :  0\n",
      "ovcharka  :  1\n",
      "papillon  :  0\n",
      "pekinese  :  0\n",
      "pembroke  :  0\n",
      "pinscher  :  1\n",
      "pitbull  :  0\n",
      "pointer  :  2\n",
      "pomeranian  :  0\n",
      "poodle  :  3\n",
      "pug  :  0\n",
      "puggle  :  0\n",
      "pyrenees  :  0\n",
      "redbone  :  0\n",
      "retriever  :  4\n",
      "ridgeback  :  1\n",
      "rottweiler  :  0\n",
      "saluki  :  0\n",
      "samoyed  :  0\n",
      "schipperke  :  0\n",
      "schnauzer  :  2\n",
      "setter  :  3\n",
      "sheepdog  :  2\n",
      "shiba  :  0\n",
      "shihtzu  :  0\n",
      "spaniel  :  7\n",
      "springer  :  1\n",
      "stbernard  :  0\n",
      "terrier  :  21\n",
      "vizsla  :  0\n",
      "waterdog  :  1\n",
      "weimaraner  :  0\n",
      "whippet  :  0\n",
      "wolfhound  :  1\n"
     ]
    }
   ],
   "source": [
    "#Breeds and number of there subbreeds\n",
    "for key, val in python_data['message'].items():\n",
    "    print(key,\" : \",len(val))"
   ]
  },
  {
   "cell_type": "code",
   "execution_count": 25,
   "id": "4bf9fd1b",
   "metadata": {},
   "outputs": [
    {
     "name": "stdout",
     "output_type": "stream",
     "text": [
      "blenheim\n",
      "brittany\n",
      "cocker\n",
      "irish\n",
      "japanese\n",
      "sussex\n",
      "welsh\n"
     ]
    }
   ],
   "source": [
    "#print sub breed of spaniel\n",
    "for i in python_data['message']['spaniel']:\n",
    "    print(i)"
   ]
  },
  {
   "cell_type": "code",
   "execution_count": 26,
   "id": "fa8a8bd2",
   "metadata": {},
   "outputs": [
    {
     "name": "stdout",
     "output_type": "stream",
     "text": [
      "afghan\n",
      "basset\n",
      "blood\n",
      "english\n",
      "ibizan\n",
      "plott\n",
      "walker\n"
     ]
    }
   ],
   "source": [
    "#print sub breed of hound\n",
    "for i in python_data['message']['hound']:\n",
    "    print(i)"
   ]
  },
  {
   "cell_type": "code",
   "execution_count": 28,
   "id": "c012f0f5",
   "metadata": {},
   "outputs": [
    {
     "name": "stdout",
     "output_type": "stream",
     "text": [
      "3\n"
     ]
    }
   ],
   "source": [
    "#print total sub breed of poodle\n",
    "print(len(python_data['message']['poodle']))"
   ]
  },
  {
   "cell_type": "code",
   "execution_count": 36,
   "id": "6ec6973a",
   "metadata": {},
   "outputs": [
    {
     "name": "stdout",
     "output_type": "stream",
     "text": [
      "200\n",
      "https://api.openaq.org/v1/cities\n"
     ]
    }
   ],
   "source": [
    "a = requests.get('https://api.openaq.org/v1/cities')\n",
    "print(a.status_code)\n",
    "print(a.url)"
   ]
  },
  {
   "cell_type": "code",
   "execution_count": 32,
   "id": "fe8fd62d",
   "metadata": {},
   "outputs": [
    {
     "name": "stdout",
     "output_type": "stream",
     "text": [
      "{'meta': {'name': 'openaq-api', 'license': 'CC BY 4.0d', 'website': 'https://u50g7n0cbj.execute-api.us-east-1.amazonaws.com/', 'page': 1, 'limit': 100, 'found': 3}, 'results': [{'country': 'AE', 'name': 'Abu Dhabi', 'city': 'Abu Dhabi', 'count': 67144963, 'locations': 1}, {'country': 'AE', 'name': 'Dubai', 'city': 'Dubai', 'count': 66077305, 'locations': 1}, {'country': 'AE', 'name': 'N/A', 'city': 'N/A', 'count': 58855521, 'locations': 1}]}\n",
      "https://api.openaq.org/v1/cities?country=AE\n"
     ]
    }
   ],
   "source": [
    "a = requests.get('https://api.openaq.org/v1/cities',params = {\"country\":\"AE\"})\n",
    "print(a.json())\n",
    "print(a.url)"
   ]
  },
  {
   "cell_type": "code",
   "execution_count": 33,
   "id": "5540c456",
   "metadata": {},
   "outputs": [
    {
     "name": "stdout",
     "output_type": "stream",
     "text": [
      "{'meta': {'name': 'openaq-api', 'license': 'CC BY 4.0d', 'website': 'https://u50g7n0cbj.execute-api.us-east-1.amazonaws.com/', 'page': 1, 'limit': 1, 'found': 3}, 'results': [{'country': 'AE', 'name': 'Abu Dhabi', 'city': 'Abu Dhabi', 'count': 67144963, 'locations': 1}]}\n",
      "https://api.openaq.org/v1/cities?country=AE&limit=1\n"
     ]
    }
   ],
   "source": [
    "a = requests.get('https://api.openaq.org/v1/cities',params = {\"country\":\"AE\",\"limit\":1})\n",
    "print(a.json())\n",
    "print(a.url)"
   ]
  },
  {
   "cell_type": "code",
   "execution_count": 38,
   "id": "17687bdc",
   "metadata": {},
   "outputs": [
    {
     "name": "stdout",
     "output_type": "stream",
     "text": [
      "Machine Learning\n"
     ]
    }
   ],
   "source": [
    "#Print the title of the course with id 19\n",
    "course = requests.get('https://codingninjas.in/api/v3/courses')\n",
    "py_course = course.json()\n",
    "idd = py_course['data']['courses']\n",
    "for i in idd:\n",
    "    if i['id']==19 :\n",
    "        print(i['title'])"
   ]
  },
  {
   "cell_type": "code",
   "execution_count": 40,
   "id": "8f7174e2",
   "metadata": {},
   "outputs": [
    {
     "name": "stdout",
     "output_type": "stream",
     "text": [
      "https://api.openaq.org/v1/cities?country=AU\n",
      "69\n"
     ]
    }
   ],
   "source": [
    "#count total number of cities of country AU\n",
    "a = requests.get('https://api.openaq.org/v1/cities',params = {\"country\":\"AU\"})\n",
    "py_f = a.json()\n",
    "print(a.url)\n",
    "print(len(py_f['results']))"
   ]
  },
  {
   "cell_type": "code",
   "execution_count": 46,
   "id": "fb0332e2",
   "metadata": {},
   "outputs": [
    {
     "name": "stdout",
     "output_type": "stream",
     "text": [
      "https://api.openaq.org/v1/cities?country=BE&limit=5&order_by=city\n",
      "Antwerpen\n",
      "Brabant wallon\n",
      "Brussels-Capital Region\n",
      "Flanders\n",
      "Hainaut\n"
     ]
    }
   ],
   "source": [
    "# print first 5 cities of BE\n",
    "a = requests.get('https://api.openaq.org/v1/cities',params = {\"country\":\"BE\",\"limit\":5,'order_by':'city'})\n",
    "py_f = a.json()\n",
    "#print(py_f)\n",
    "print(a.url)\n",
    "for i in py_f['results']:\n",
    "    print(i['city'])"
   ]
  },
  {
   "cell_type": "code",
   "execution_count": 47,
   "id": "35f4d11d",
   "metadata": {},
   "outputs": [
    {
     "data": {
      "text/plain": [
       "403"
      ]
     },
     "execution_count": 47,
     "metadata": {},
     "output_type": "execute_result"
    }
   ],
   "source": [
    "a= requests.get('https://www.metaweather.com/api/location/search/')\n",
    "a.status_code"
   ]
  },
  {
   "cell_type": "code",
   "execution_count": 48,
   "id": "ecdd0af2",
   "metadata": {},
   "outputs": [
    {
     "name": "stdout",
     "output_type": "stream",
     "text": [
      "200\n",
      "[{'title': 'New Delhi', 'location_type': 'City', 'woeid': 28743736, 'latt_long': '28.643999,77.091003'}]\n",
      "https://www.metaweather.com/api/location/search/?query=Delhi\n"
     ]
    }
   ],
   "source": [
    "a= requests.get('https://www.metaweather.com/api/location/search/',params = {\"query\":\"Delhi\"})\n",
    "print(a.status_code)\n",
    "print(a.json())\n",
    "print(a.url)"
   ]
  },
  {
   "cell_type": "code",
   "execution_count": 51,
   "id": "5c9cc304",
   "metadata": {},
   "outputs": [
    {
     "name": "stdout",
     "output_type": "stream",
     "text": [
      "403\n",
      "https://api.nasa.gov/planetary/apod\n"
     ]
    }
   ],
   "source": [
    "a=requests.get('https://api.nasa.gov/planetary/apod')\n",
    "print(a.status_code)\n",
    "print(a.url)"
   ]
  },
  {
   "cell_type": "code",
   "execution_count": 52,
   "id": "964641d5",
   "metadata": {},
   "outputs": [
    {
     "name": "stdout",
     "output_type": "stream",
     "text": [
      "200\n",
      "https://api.nasa.gov/planetary/apod?api_key=DEMO_KEY\n"
     ]
    }
   ],
   "source": [
    "a=requests.get('https://api.nasa.gov/planetary/apod',params = {\"api_key\":\"DEMO_KEY\"})\n",
    "print(a.status_code)\n",
    "print(a.url)"
   ]
  },
  {
   "cell_type": "code",
   "execution_count": 60,
   "id": "0294f9fe",
   "metadata": {},
   "outputs": [
    {
     "name": "stdout",
     "output_type": "stream",
     "text": [
      "1132447\n"
     ]
    }
   ],
   "source": [
    "# Print woied of USA\n",
    "a= requests.get('https://www.metaweather.com/api/location/search/',params = {\"query\":\"USA\"})\n",
    "py_w = a.json()\n",
    "print(py_w[0]['woeid'])"
   ]
  },
  {
   "cell_type": "code",
   "execution_count": 61,
   "id": "c66d21b5",
   "metadata": {},
   "outputs": [
    {
     "name": "stdout",
     "output_type": "stream",
     "text": [
      "403\n"
     ]
    }
   ],
   "source": [
    "# Find name of holiday on 2nd October 2019 in INDIA\n",
    "a = requests.get('https://holidayapi.com/')\n",
    "print(a.status_code)"
   ]
  },
  {
   "cell_type": "code",
   "execution_count": 78,
   "id": "a093eb21",
   "metadata": {},
   "outputs": [
    {
     "name": "stdout",
     "output_type": "stream",
     "text": [
      "200\n",
      "https://holidayapi.com/v1/holidays?key=bba9bd0c-cf37-4dc9-a696-4ba21e1bd370&country=IN&year=2020&month=10&day=2\n",
      "Mahatma Gandhi's Birthday\n"
     ]
    }
   ],
   "source": [
    "a = requests.get('https://holidayapi.com/v1/holidays',params = {\"key\":\"bba9bd0c-cf37-4dc9-a696-4ba21e1bd370\",\"country\":\"IN\",\"year\":2020,\"month\":10,\"day\":2})\n",
    "print(a.status_code)\n",
    "print(a.url)\n",
    "py_o = a.json()\n",
    "print(py_o['holidays'][0]['name'])"
   ]
  },
  {
   "cell_type": "markdown",
   "id": "55fbca5e",
   "metadata": {},
   "source": [
    "### POST request"
   ]
  },
  {
   "cell_type": "code",
   "execution_count": 1,
   "id": "3d99f7a7",
   "metadata": {},
   "outputs": [
    {
     "name": "stdout",
     "output_type": "stream",
     "text": [
      "<Response [200]>\n",
      "{\n",
      "  \"args\": {}, \n",
      "  \"data\": \"\", \n",
      "  \"files\": {}, \n",
      "  \"form\": {}, \n",
      "  \"headers\": {\n",
      "    \"Accept\": \"*/*\", \n",
      "    \"Accept-Encoding\": \"gzip, deflate\", \n",
      "    \"Content-Length\": \"0\", \n",
      "    \"Host\": \"httpbin.org\", \n",
      "    \"User-Agent\": \"python-requests/2.25.1\", \n",
      "    \"X-Amzn-Trace-Id\": \"Root=1-60bc4c31-6776ab696cb3ad0726323070\"\n",
      "  }, \n",
      "  \"json\": null, \n",
      "  \"origin\": \"106.77.167.12\", \n",
      "  \"url\": \"https://httpbin.org/post\"\n",
      "}\n",
      "\n"
     ]
    }
   ],
   "source": [
    "import requests\n",
    "response = requests.post('https://httpbin.org/post')\n",
    "print(response)\n",
    "print(response.text)"
   ]
  },
  {
   "cell_type": "code",
   "execution_count": 2,
   "id": "cb962cff",
   "metadata": {
    "scrolled": true
   },
   "outputs": [
    {
     "name": "stdout",
     "output_type": "stream",
     "text": [
      "<Response [200]>\n",
      "{\n",
      "  \"args\": {}, \n",
      "  \"data\": \"\", \n",
      "  \"files\": {}, \n",
      "  \"form\": {\n",
      "    \"key1\": \"val1\", \n",
      "    \"key2\": \"val2\"\n",
      "  }, \n",
      "  \"headers\": {\n",
      "    \"Accept\": \"*/*\", \n",
      "    \"Accept-Encoding\": \"gzip, deflate\", \n",
      "    \"Content-Length\": \"19\", \n",
      "    \"Content-Type\": \"application/x-www-form-urlencoded\", \n",
      "    \"Host\": \"httpbin.org\", \n",
      "    \"User-Agent\": \"python-requests/2.25.1\", \n",
      "    \"X-Amzn-Trace-Id\": \"Root=1-60bc4ca5-55a1ca0030fc9c0d1cc98783\"\n",
      "  }, \n",
      "  \"json\": null, \n",
      "  \"origin\": \"106.77.167.12\", \n",
      "  \"url\": \"https://httpbin.org/post\"\n",
      "}\n",
      "\n"
     ]
    }
   ],
   "source": [
    "response = requests.post('https://httpbin.org/post',data = {'key1':'val1','key2':'val2'})\n",
    "print(response)\n",
    "print(response.text)"
   ]
  },
  {
   "cell_type": "code",
   "execution_count": 7,
   "id": "c2ca9aad",
   "metadata": {},
   "outputs": [
    {
     "name": "stdout",
     "output_type": "stream",
     "text": [
      "<Response [201]>\n",
      "{\n",
      "  \"id\": 101\n",
      "}\n"
     ]
    }
   ],
   "source": [
    "r = requests.post('https://jsonplaceholder.typicode.com/posts')\n",
    "print(r)\n",
    "print(r.text)"
   ]
  },
  {
   "cell_type": "code",
   "execution_count": 10,
   "id": "5e68fe19",
   "metadata": {},
   "outputs": [
    {
     "name": "stdout",
     "output_type": "stream",
     "text": [
      "<Response [201]>\n",
      "{\n",
      "  \"Boss\": \"Avinash\",\n",
      "  \"<built-in function id>\": \"1010\",\n",
      "  \"userid\": \"2\",\n",
      "  \"title\": \"God\",\n",
      "  \"id\": 101\n",
      "}\n"
     ]
    }
   ],
   "source": [
    "r = requests.post('https://jsonplaceholder.typicode.com/posts',data = {\"Boss\":\"Avinash\",id:1010,\"userid\": 2,'title':'God'})\n",
    "print(r)\n",
    "print(r.text)"
   ]
  },
  {
   "cell_type": "markdown",
   "id": "46d3ead7",
   "metadata": {},
   "source": [
    "In above 2 code id of both are same because. The changes we are doing here is actually not reflecting in the actual database. It is only for the learning purpose."
   ]
  },
  {
   "cell_type": "code",
   "execution_count": null,
   "id": "e76c00d9",
   "metadata": {},
   "outputs": [],
   "source": []
  },
  {
   "cell_type": "code",
   "execution_count": 39,
   "id": "0c35ff79",
   "metadata": {
    "scrolled": false
   },
   "outputs": [
    {
     "name": "stdout",
     "output_type": "stream",
     "text": [
      "Freshmen Induction at Delhi Technological University\n",
      "Webinar on Career Camp\n",
      "World Programming Championship  -  IIT Mumbai | TechFest\n",
      "How to Prepare for Placement interviews?\n",
      "Freshmen Induction at PEC, Chandigarh\n",
      "Freshmen Induction at VIT Chennai\n",
      "Code Kaze 3.0 \n",
      "Codeinja - IIIT Una (Coding Event)\n",
      "Codeinja - College Of Engineering Roorkee (Coding Event)\n",
      "Codeinja - Vishveshwarya Group of Institutions (Coding Event)\n",
      "Codeinja - Technocrats Institute of Technology and Science(Coding Event)\n",
      "Codeinja - NMIT(Coding Event)\n",
      "Codeinja - K L University(Coding Event)\n",
      "Codeinja - Dronacharya college of engineering(Coding Event)\n",
      "Codeinja - Bennett University(Coding Event)\n",
      "Codeinja - Noida Institute of Engineering and Technology(Coding Event)\n",
      "Codeinja - P.I.E.T (Coding Event)\n",
      "Codeinja - Lakshmi Narain College of Technology (Coding Event)\n",
      "Codeinja - NIT-D(Coding Event)\n",
      "Codeinja - Guru Nanak Dev Engineering college (Coding Event)\n"
     ]
    }
   ],
   "source": [
    "#Assignment\n",
    "import json\n",
    "r= open('Datasets/events.json')\n",
    "py_j = json.load(r)\n",
    "\n",
    "for i in py_j['data']['events']:\n",
    "    print(i['name'])"
   ]
  },
  {
   "cell_type": "code",
   "execution_count": null,
   "id": "bb461451",
   "metadata": {},
   "outputs": [],
   "source": []
  }
 ],
 "metadata": {
  "kernelspec": {
   "display_name": "Python 3",
   "language": "python",
   "name": "python3"
  },
  "language_info": {
   "codemirror_mode": {
    "name": "ipython",
    "version": 3
   },
   "file_extension": ".py",
   "mimetype": "text/x-python",
   "name": "python",
   "nbconvert_exporter": "python",
   "pygments_lexer": "ipython3",
   "version": "3.7.6"
  }
 },
 "nbformat": 4,
 "nbformat_minor": 5
}
