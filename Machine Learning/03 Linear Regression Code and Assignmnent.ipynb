{
 "cells": [
  {
   "cell_type": "markdown",
   "id": "4a125ecb",
   "metadata": {},
   "source": [
    "### Write code for Linear Regression"
   ]
  },
  {
   "cell_type": "code",
   "execution_count": 1,
   "id": "e30b21f3",
   "metadata": {},
   "outputs": [],
   "source": [
    "import numpy as np"
   ]
  },
  {
   "cell_type": "code",
   "execution_count": 2,
   "id": "c3dfede5",
   "metadata": {},
   "outputs": [],
   "source": [
    "def fit(x_train,y_train):\n",
    "    a = (x_train*y_train).mean() - (x_train.mean()*y_train.mean())\n",
    "    b = (x_train**2).mean() - (x_train.mean()**2)\n",
    "    m = a/b\n",
    "    c = y_train.mean() - (m*x_train.mean())\n",
    "    return m,c\n",
    "\n",
    "def predict(x_test,m,c):\n",
    "    y_pred = (m*x_test) + c\n",
    "    return y_pred\n",
    "\n",
    "def coeff_of_determination(y_test, y_pred):  #score\n",
    "    u = ((y_test - y_pred)**2).sum()\n",
    "    v = ((y_test - y_test.mean())**2).sum()\n",
    "    return 1-(u/v)\n",
    "\n",
    "def cost(x,y,m,c):\n",
    "    c = ((y - (m*x + c))**2).sum()\n",
    "    return c"
   ]
  },
  {
   "cell_type": "code",
   "execution_count": 3,
   "id": "2c842b1a",
   "metadata": {},
   "outputs": [
    {
     "data": {
      "text/plain": [
       "(100,)"
      ]
     },
     "execution_count": 3,
     "metadata": {},
     "output_type": "execute_result"
    }
   ],
   "source": [
    "data = np.loadtxt(\"Datasets/data.csv\", delimiter=\",\")\n",
    "x = data[:, 0]\n",
    "y = data[:, 1]\n",
    "x.shape"
   ]
  },
  {
   "cell_type": "code",
   "execution_count": 4,
   "id": "af40cd16",
   "metadata": {},
   "outputs": [
    {
     "data": {
      "text/plain": [
       "(70,)"
      ]
     },
     "execution_count": 4,
     "metadata": {},
     "output_type": "execute_result"
    }
   ],
   "source": [
    "from sklearn import model_selection\n",
    "X_train, X_test, Y_train, Y_test = model_selection.train_test_split(x, y, test_size=0.3)\n",
    "X_train.shape"
   ]
  },
  {
   "cell_type": "code",
   "execution_count": 5,
   "id": "4e25c650",
   "metadata": {},
   "outputs": [
    {
     "name": "stdout",
     "output_type": "stream",
     "text": [
      "Test Score:  0.6570507161040435\n",
      "Train Score:  0.5513576907060378\n",
      "M, C  1.187288420786688 15.402098010878134\n",
      "Cost on training data  7819.725475204832\n"
     ]
    }
   ],
   "source": [
    "m, c = fit(X_train, Y_train)\n",
    "# test data\n",
    "y_test_pred = predict(X_test, m, c)\n",
    "print(\"Test Score: \",coeff_of_determination(Y_test, y_test_pred))\n",
    "\n",
    "#train data\n",
    "y_train_pred = predict(X_train, m, c)\n",
    "print(\"Train Score: \", coeff_of_determination(Y_train, y_train_pred))\n",
    "print(\"M, C \", m , c)\n",
    "print(\"Cost on training data \", cost(X_train,Y_train, m, c ))"
   ]
  },
  {
   "cell_type": "markdown",
   "id": "d69d85cc",
   "metadata": {},
   "source": [
    "### Checking with actual one"
   ]
  },
  {
   "cell_type": "code",
   "execution_count": 11,
   "id": "5ea2f65c",
   "metadata": {},
   "outputs": [],
   "source": [
    "x_train = X_train.reshape(-1,1)\n",
    "x_test = X_test.reshape(-1,1)\n",
    "y_train = Y_train\n",
    "y_test = Y_test"
   ]
  },
  {
   "cell_type": "code",
   "execution_count": 12,
   "id": "dd0aac98",
   "metadata": {},
   "outputs": [
    {
     "data": {
      "text/plain": [
       "LinearRegression()"
      ]
     },
     "execution_count": 12,
     "metadata": {},
     "output_type": "execute_result"
    }
   ],
   "source": [
    "from sklearn import model_selection\n",
    "from sklearn.linear_model import LinearRegression\n",
    "alg1 = LinearRegression()\n",
    "alg1.fit(x_train,y_train)"
   ]
  },
  {
   "cell_type": "code",
   "execution_count": 14,
   "id": "1ecea475",
   "metadata": {},
   "outputs": [
    {
     "name": "stdout",
     "output_type": "stream",
     "text": [
      "Test Score:  0.6570507161040433\n",
      "Train Score:  0.5513576907060378\n",
      "M, C  [1.18728842] 15.402098010878177\n"
     ]
    }
   ],
   "source": [
    "print(\"Test Score: \",alg1.score(x_test,y_test))\n",
    "print(\"Train Score: \", alg1.score(x_train,y_train))\n",
    "print(\"M, C \", alg1.coef_ , alg1.intercept_)"
   ]
  },
  {
   "cell_type": "markdown",
   "id": "6efacfd8",
   "metadata": {},
   "source": [
    "## Hence Proved our code is working completly fine"
   ]
  },
  {
   "cell_type": "code",
   "execution_count": null,
   "id": "26be03a5",
   "metadata": {},
   "outputs": [],
   "source": []
  },
  {
   "cell_type": "markdown",
   "id": "642e1f27",
   "metadata": {},
   "source": [
    "### Assignment\n"
   ]
  },
  {
   "cell_type": "code",
   "execution_count": 1,
   "id": "d69d2816",
   "metadata": {},
   "outputs": [],
   "source": [
    "import numpy as np\n",
    "data=np.genfromtxt(\"Datasets/LR_train.csv\",delimiter=',')\n",
    "x_train=data[:,:10]\n",
    "y_train=data[:,10]\n",
    "data=np.genfromtxt(\"Datasets/LR_test.csv\",delimiter=',')\n",
    "x_test=data[:,:10]\n",
    "from sklearn.linear_model import LinearRegression\n",
    "alg=LinearRegression()\n",
    "alg.fit(x_train,y_train)\n",
    "ans=alg.predict(x_test)\n",
    "for i in range(len(ans)):\n",
    "    ans[i]=format(ans[i],'.5f')\n",
    "np.savetxt('Datasets/LR_ans.csv',ans,fmt='%.5f')"
   ]
  },
  {
   "cell_type": "code",
   "execution_count": null,
   "id": "5b0a116a",
   "metadata": {},
   "outputs": [],
   "source": []
  },
  {
   "cell_type": "code",
   "execution_count": null,
   "id": "13822f1b",
   "metadata": {},
   "outputs": [],
   "source": []
  }
 ],
 "metadata": {
  "kernelspec": {
   "display_name": "Python 3",
   "language": "python",
   "name": "python3"
  },
  "language_info": {
   "codemirror_mode": {
    "name": "ipython",
    "version": 3
   },
   "file_extension": ".py",
   "mimetype": "text/x-python",
   "name": "python",
   "nbconvert_exporter": "python",
   "pygments_lexer": "ipython3",
   "version": "3.8.8"
  }
 },
 "nbformat": 4,
 "nbformat_minor": 5
}
