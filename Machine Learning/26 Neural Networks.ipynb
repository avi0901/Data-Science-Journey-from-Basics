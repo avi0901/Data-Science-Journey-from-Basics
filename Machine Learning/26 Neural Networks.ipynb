{
 "cells": [
  {
   "cell_type": "code",
   "execution_count": 1,
   "id": "daa8e57d",
   "metadata": {},
   "outputs": [],
   "source": [
    "from sklearn import datasets\n",
    "from sklearn.model_selection import train_test_split"
   ]
  },
  {
   "cell_type": "code",
   "execution_count": 2,
   "id": "b9e241d4",
   "metadata": {},
   "outputs": [],
   "source": [
    "iris = datasets.load_iris()"
   ]
  },
  {
   "cell_type": "code",
   "execution_count": 3,
   "id": "d5245d43",
   "metadata": {},
   "outputs": [],
   "source": [
    "x = iris.data\n",
    "y = iris.target"
   ]
  },
  {
   "cell_type": "code",
   "execution_count": 4,
   "id": "1678c0c6",
   "metadata": {},
   "outputs": [],
   "source": [
    "x_train, x_test, y_train, y_test = train_test_split(x,y)"
   ]
  },
  {
   "cell_type": "code",
   "execution_count": 5,
   "id": "33be7828",
   "metadata": {},
   "outputs": [],
   "source": [
    "from sklearn.neural_network import MLPClassifier"
   ]
  },
  {
   "cell_type": "code",
   "execution_count": 6,
   "id": "b98f5e8f",
   "metadata": {},
   "outputs": [
    {
     "name": "stderr",
     "output_type": "stream",
     "text": [
      "C:\\Users\\DELL\\anaconda3\\lib\\site-packages\\sklearn\\neural_network\\_multilayer_perceptron.py:614: ConvergenceWarning: Stochastic Optimizer: Maximum iterations (200) reached and the optimization hasn't converged yet.\n",
      "  warnings.warn(\n"
     ]
    },
    {
     "data": {
      "text/plain": [
       "MLPClassifier()"
      ]
     },
     "execution_count": 6,
     "metadata": {},
     "output_type": "execute_result"
    }
   ],
   "source": [
    "clf = MLPClassifier()\n",
    "clf.fit(x_train,y_train)"
   ]
  },
  {
   "cell_type": "markdown",
   "id": "b771f2a1",
   "metadata": {},
   "source": [
    "y_train that we passed is not one hot encoded, we passed the normal data that we have. Classifier will take care of that."
   ]
  },
  {
   "cell_type": "code",
   "execution_count": 7,
   "id": "b2ea5efc",
   "metadata": {},
   "outputs": [
    {
     "data": {
      "text/plain": [
       "0.9736842105263158"
      ]
     },
     "execution_count": 7,
     "metadata": {},
     "output_type": "execute_result"
    }
   ],
   "source": [
    "clf.score(x_test,y_test)"
   ]
  },
  {
   "cell_type": "code",
   "execution_count": null,
   "id": "3d00ac55",
   "metadata": {},
   "outputs": [],
   "source": []
  },
  {
   "cell_type": "code",
   "execution_count": 19,
   "id": "7c4cd2c5",
   "metadata": {},
   "outputs": [
    {
     "name": "stderr",
     "output_type": "stream",
     "text": [
      "C:\\Users\\DELL\\anaconda3\\lib\\site-packages\\sklearn\\neural_network\\_multilayer_perceptron.py:614: ConvergenceWarning: Stochastic Optimizer: Maximum iterations (1000) reached and the optimization hasn't converged yet.\n",
      "  warnings.warn(\n"
     ]
    },
    {
     "data": {
      "text/plain": [
       "0.9736842105263158"
      ]
     },
     "execution_count": 19,
     "metadata": {},
     "output_type": "execute_result"
    }
   ],
   "source": [
    "clf = MLPClassifier(hidden_layer_sizes = (20,), max_iter = 1000)\n",
    "clf.fit(x_train,y_train)\n",
    "clf.score(x_test,y_test)"
   ]
  },
  {
   "cell_type": "code",
   "execution_count": 21,
   "id": "eb8d5fdc",
   "metadata": {
    "scrolled": true
   },
   "outputs": [
    {
     "data": {
      "text/plain": [
       "[array([[-3.88701834e-02,  2.51217183e-01, -1.74329014e-02,\n",
       "          2.00948702e-01, -1.64992099e-02, -2.07695629e-01,\n",
       "          8.98343869e-02,  1.92844440e-01,  5.33922373e-01,\n",
       "          4.10168903e-01,  1.63520328e-01, -2.09786811e-02,\n",
       "         -1.71062057e-01,  3.76066841e-01,  6.94458874e-01,\n",
       "          2.94622921e-01, -7.79563532e-10,  4.06412419e-01,\n",
       "         -8.78436708e-02,  2.30313973e-02],\n",
       "        [-2.40928413e-02, -8.20017970e-02, -1.49900386e-01,\n",
       "          2.61219858e-01, -8.46430893e-03,  5.53483804e-02,\n",
       "         -1.82063091e-01, -4.43294351e-01,  3.46404979e-01,\n",
       "          4.52507225e-01, -3.79786078e-01, -2.85026808e-02,\n",
       "         -5.38238530e-01,  3.75964830e-01,  7.80600151e-01,\n",
       "          5.94796669e-01, -1.56265343e-02,  2.28452174e-01,\n",
       "          2.48682734e-03,  1.77304658e-01],\n",
       "        [-2.29122322e-02,  6.81742388e-01, -1.74365999e-02,\n",
       "         -3.10553363e-01, -1.72283118e-03,  4.76033915e-01,\n",
       "          4.88283751e-01,  8.09675091e-01,  2.49709028e-01,\n",
       "         -5.45426836e-02,  8.36603297e-01, -4.61896807e-02,\n",
       "          4.02724779e-01, -5.66565155e-01, -8.97940801e-01,\n",
       "          2.44535860e-01,  3.28600485e-03, -5.96721283e-02,\n",
       "         -2.38319482e-02,  4.97730793e-01],\n",
       "        [-2.39081342e-02,  9.13791676e-01, -5.16891840e-02,\n",
       "         -3.12547324e-01, -1.52901839e-08,  2.68707855e-01,\n",
       "          4.68800266e-01,  3.35715734e-01, -3.68056876e-01,\n",
       "         -1.05271421e-01,  4.31596156e-01, -1.09977258e-02,\n",
       "          2.93720516e-02,  5.70518058e-04, -9.32853630e-01,\n",
       "         -5.92857533e-01, -1.18708229e-06, -2.31146447e-01,\n",
       "         -7.39908171e-03,  3.33731398e-01]]),\n",
       " array([[ 2.39301550e-02, -2.34645282e-02, -2.97951493e-03],\n",
       "        [-3.35562846e-01, -7.14720563e-02,  1.45369919e-01],\n",
       "        [-1.10374316e-14, -7.56858967e-03, -1.55310715e-06],\n",
       "        [ 3.31826635e-01,  2.40617538e-01, -3.12651006e-01],\n",
       "        [-1.11842390e-04,  3.72666215e-05,  5.77198609e-09],\n",
       "        [-4.28276394e-01,  9.83203881e-02, -5.69815392e-02],\n",
       "        [-1.03757295e+00, -4.44592578e-01,  4.47246437e-01],\n",
       "        [-5.78117775e-01,  2.15208475e-01,  5.29799875e-01],\n",
       "        [ 4.46440832e-01,  3.78851046e-01,  1.24559182e-01],\n",
       "        [ 4.55820851e-01,  2.53642024e-01, -1.38892210e-01],\n",
       "        [-6.27872267e-01,  1.98015941e-01,  6.32154189e-01],\n",
       "        [ 1.05125223e-04,  9.48749335e-05,  3.69038032e-03],\n",
       "        [-1.04439246e-01,  8.36447549e-02, -4.02877122e-01],\n",
       "        [ 5.91011403e-01,  3.19590628e-01, -1.25527542e-01],\n",
       "        [ 1.00607255e+00,  8.31837037e-01, -1.07348308e+00],\n",
       "        [ 1.70505152e-01, -3.13434105e-02, -4.57126232e-01],\n",
       "        [ 1.16519331e-21,  4.40905814e-15,  1.80156335e-02],\n",
       "        [ 3.73143511e-01,  3.08754123e-01,  1.12941473e-01],\n",
       "        [ 1.00867003e-07,  1.23472300e-06,  1.36330391e-16],\n",
       "        [-1.23253387e-01, -5.16868127e-01,  2.91768554e-01]])]"
      ]
     },
     "execution_count": 21,
     "metadata": {},
     "output_type": "execute_result"
    }
   ],
   "source": [
    "clf.coefs_"
   ]
  },
  {
   "cell_type": "code",
   "execution_count": 22,
   "id": "b6153614",
   "metadata": {},
   "outputs": [
    {
     "data": {
      "text/plain": [
       "2"
      ]
     },
     "execution_count": 22,
     "metadata": {},
     "output_type": "execute_result"
    }
   ],
   "source": [
    "len(clf.coefs_)"
   ]
  },
  {
   "cell_type": "code",
   "execution_count": 28,
   "id": "4d65af39",
   "metadata": {},
   "outputs": [
    {
     "data": {
      "text/plain": [
       "((4, 20), (20, 3))"
      ]
     },
     "execution_count": 28,
     "metadata": {},
     "output_type": "execute_result"
    }
   ],
   "source": [
    "clf.coefs_[0].shape, clf.coefs_[1].shape"
   ]
  },
  {
   "cell_type": "code",
   "execution_count": 29,
   "id": "4cb96d46",
   "metadata": {},
   "outputs": [
    {
     "data": {
      "text/plain": [
       "((20,), (3,))"
      ]
     },
     "execution_count": 29,
     "metadata": {},
     "output_type": "execute_result"
    }
   ],
   "source": [
    "clf.intercepts_[0].shape, clf.intercepts_[1].shape"
   ]
  },
  {
   "cell_type": "code",
   "execution_count": null,
   "id": "49c09bad",
   "metadata": {},
   "outputs": [],
   "source": []
  }
 ],
 "metadata": {
  "kernelspec": {
   "display_name": "Python 3",
   "language": "python",
   "name": "python3"
  },
  "language_info": {
   "codemirror_mode": {
    "name": "ipython",
    "version": 3
   },
   "file_extension": ".py",
   "mimetype": "text/x-python",
   "name": "python",
   "nbconvert_exporter": "python",
   "pygments_lexer": "ipython3",
   "version": "3.8.8"
  }
 },
 "nbformat": 4,
 "nbformat_minor": 5
}
