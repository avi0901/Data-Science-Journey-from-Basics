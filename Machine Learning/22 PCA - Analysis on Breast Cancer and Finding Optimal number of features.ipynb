{
 "cells": [
  {
   "cell_type": "code",
   "execution_count": 1,
   "id": "6dfda804",
   "metadata": {},
   "outputs": [],
   "source": [
    "from sklearn import decomposition, linear_model, datasets\n",
    "import numpy as np\n",
    "import time\n",
    "from sklearn.preprocessing import StandardScaler\n",
    "from sklearn.model_selection import train_test_split"
   ]
  },
  {
   "cell_type": "code",
   "execution_count": 2,
   "id": "37f647e5",
   "metadata": {},
   "outputs": [],
   "source": [
    "breast_cancer = datasets.load_breast_cancer()"
   ]
  },
  {
   "cell_type": "code",
   "execution_count": 3,
   "id": "350eef81",
   "metadata": {},
   "outputs": [
    {
     "data": {
      "text/plain": [
       "(569, 30)"
      ]
     },
     "execution_count": 3,
     "metadata": {},
     "output_type": "execute_result"
    }
   ],
   "source": [
    "X = breast_cancer.data\n",
    "X.shape"
   ]
  },
  {
   "cell_type": "code",
   "execution_count": 4,
   "id": "7da825e8",
   "metadata": {},
   "outputs": [],
   "source": [
    "sc = StandardScaler()\n",
    "X_std = sc.fit_transform(X)"
   ]
  },
  {
   "cell_type": "code",
   "execution_count": 9,
   "id": "1464f106",
   "metadata": {},
   "outputs": [],
   "source": [
    "x_train,x_test, y_train, y_test = train_test_split(X_std,breast_cancer.target, random_state =69)"
   ]
  },
  {
   "cell_type": "code",
   "execution_count": 10,
   "id": "43209ae9",
   "metadata": {},
   "outputs": [],
   "source": [
    "#Reducing the dimension using PCA\n",
    "pca = decomposition.PCA(n_components = 15)\n",
    "X_train_pca = pca.fit_transform(x_train)\n",
    "X_test_pca = pca.transform(x_test)"
   ]
  },
  {
   "cell_type": "code",
   "execution_count": 12,
   "id": "1c10eda2",
   "metadata": {},
   "outputs": [
    {
     "name": "stdout",
     "output_type": "stream",
     "text": [
      "0.05499911308288574\n",
      "0.958041958041958\n"
     ]
    }
   ],
   "source": [
    "# Using Linear Regression without PCA\n",
    "lr = linear_model.LogisticRegression()\n",
    "start = time.time()\n",
    "lr.fit(x_train,y_train)\n",
    "ending = time.time()\n",
    "without_pca_time = ending-start\n",
    "without_pca_score = lr.score(x_test,y_test)\n",
    "print(without_pca_time)\n",
    "print(without_pca_score)"
   ]
  },
  {
   "cell_type": "code",
   "execution_count": 17,
   "id": "8bb67f36",
   "metadata": {},
   "outputs": [
    {
     "name": "stdout",
     "output_type": "stream",
     "text": [
      "0.024001121520996094\n",
      "0.972027972027972\n"
     ]
    }
   ],
   "source": [
    "# Using Linear Regression with PCA\n",
    "lr = linear_model.LogisticRegression()\n",
    "start = time.time()\n",
    "lr.fit(X_train_pca,y_train)\n",
    "ending = time.time()\n",
    "with_pca_time = ending-start\n",
    "with_pca_score = lr.score(X_test_pca,y_test)\n",
    "print(with_pca_time)\n",
    "print(with_pca_score)"
   ]
  },
  {
   "cell_type": "code",
   "execution_count": 21,
   "id": "e1f0d73d",
   "metadata": {
    "scrolled": true
   },
   "outputs": [
    {
     "data": {
      "text/plain": [
       "array([13.22759625,  5.22297038,  2.97505234,  1.93759787,  1.56262571,\n",
       "        1.12937496,  0.67547899,  0.50790502,  0.43686345,  0.37537896,\n",
       "        0.27301707,  0.24182226,  0.20474057,  0.16292122,  0.09687194])"
      ]
     },
     "execution_count": 21,
     "metadata": {},
     "output_type": "execute_result"
    }
   ],
   "source": [
    "pca.explained_variance_"
   ]
  },
  {
   "cell_type": "code",
   "execution_count": null,
   "id": "4690f9d0",
   "metadata": {},
   "outputs": [],
   "source": []
  },
  {
   "cell_type": "markdown",
   "id": "0d3d22c4",
   "metadata": {},
   "source": [
    "## Finding Optimal Number of Features"
   ]
  },
  {
   "cell_type": "code",
   "execution_count": 22,
   "id": "70f57e25",
   "metadata": {},
   "outputs": [],
   "source": [
    "from sklearn import decomposition, linear_model, datasets\n",
    "import numpy as np\n",
    "import time\n",
    "from sklearn.preprocessing import StandardScaler\n",
    "from sklearn.model_selection import train_test_split"
   ]
  },
  {
   "cell_type": "code",
   "execution_count": 23,
   "id": "9376c91a",
   "metadata": {},
   "outputs": [],
   "source": [
    "breast_cancer = datasets.load_breast_cancer()"
   ]
  },
  {
   "cell_type": "code",
   "execution_count": 24,
   "id": "e70f7e1b",
   "metadata": {},
   "outputs": [
    {
     "data": {
      "text/plain": [
       "(569, 30)"
      ]
     },
     "execution_count": 24,
     "metadata": {},
     "output_type": "execute_result"
    }
   ],
   "source": [
    "X = breast_cancer.data\n",
    "X.shape"
   ]
  },
  {
   "cell_type": "code",
   "execution_count": 25,
   "id": "e951d548",
   "metadata": {},
   "outputs": [],
   "source": [
    "sc = StandardScaler()\n",
    "X_std = sc.fit_transform(X)\n",
    "x_train,x_test, y_train, y_test = train_test_split(X_std,breast_cancer.target, random_state =69)"
   ]
  },
  {
   "cell_type": "code",
   "execution_count": 26,
   "id": "7a9d2e0f",
   "metadata": {},
   "outputs": [],
   "source": [
    "pca = decomposition.PCA()"
   ]
  },
  {
   "cell_type": "code",
   "execution_count": 27,
   "id": "0dbcc46e",
   "metadata": {},
   "outputs": [
    {
     "data": {
      "text/plain": [
       "array([[ 3.62479776e+00, -2.07099293e+00, -1.48156694e+00, ...,\n",
       "        -1.12211305e-01, -7.30838883e-02, -9.49106482e-03],\n",
       "       [-1.78289390e+00,  1.26604228e+00, -8.00430000e-01, ...,\n",
       "        -2.83758321e-02,  1.39953311e-02, -4.98892081e-04],\n",
       "       [-3.73935047e+00, -1.68757319e+00,  3.09520390e+00, ...,\n",
       "        -7.32925087e-03, -1.10122785e-03, -3.68074906e-03],\n",
       "       ...,\n",
       "       [-2.94450500e+00, -2.32096728e+00, -3.95796639e-01, ...,\n",
       "         1.23213121e-02,  1.29747769e-02, -5.97799132e-03],\n",
       "       [ 4.59097400e+00,  3.39571566e+00, -1.93418778e+00, ...,\n",
       "        -1.31619948e-02, -3.52460588e-02, -3.67727780e-03],\n",
       "       [-4.25988995e-01, -1.96644116e+00, -1.63326116e+00, ...,\n",
       "         1.42415713e-02,  1.32111210e-02,  6.49166974e-03]])"
      ]
     },
     "execution_count": 27,
     "metadata": {},
     "output_type": "execute_result"
    }
   ],
   "source": [
    "pca.fit_transform(x_train)"
   ]
  },
  {
   "cell_type": "code",
   "execution_count": 28,
   "id": "bf900bc7",
   "metadata": {},
   "outputs": [
    {
     "data": {
      "text/plain": [
       "array([1.32275963e+01, 5.22297038e+00, 2.97505234e+00, 1.93759787e+00,\n",
       "       1.56262571e+00, 1.12937496e+00, 6.75478985e-01, 5.07905021e-01,\n",
       "       4.36863454e-01, 3.75378957e-01, 2.73017068e-01, 2.41822262e-01,\n",
       "       2.04740567e-01, 1.62921221e-01, 9.68719418e-02, 8.11293485e-02,\n",
       "       6.27269893e-02, 5.23785314e-02, 4.97193013e-02, 3.10022307e-02,\n",
       "       3.05996675e-02, 2.60677979e-02, 2.29342280e-02, 1.76947134e-02,\n",
       "       1.09961982e-02, 7.55639952e-03, 5.84339811e-03, 1.54424043e-03,\n",
       "       7.08584154e-04, 1.13368075e-04])"
      ]
     },
     "execution_count": 28,
     "metadata": {},
     "output_type": "execute_result"
    }
   ],
   "source": [
    "pca.explained_variance_"
   ]
  },
  {
   "cell_type": "code",
   "execution_count": 31,
   "id": "17ad363f",
   "metadata": {},
   "outputs": [
    {
     "data": {
      "text/plain": [
       "14"
      ]
     },
     "execution_count": 31,
     "metadata": {},
     "output_type": "execute_result"
    }
   ],
   "source": [
    "total = sum(pca.explained_variance_)\n",
    "k = 0\n",
    "current_variance = 0\n",
    "# I want 95% variance\n",
    "while current_variance/total < 0.99:\n",
    "    current_variance += pca.explained_variance_[k]\n",
    "    k = k+1\n",
    "\n",
    "k"
   ]
  },
  {
   "cell_type": "markdown",
   "id": "79b056aa",
   "metadata": {},
   "source": [
    "We got the value of k. Now we can directly use this"
   ]
  },
  {
   "cell_type": "code",
   "execution_count": 32,
   "id": "abc84b72",
   "metadata": {},
   "outputs": [],
   "source": [
    "#Reducing the dimension using PCA\n",
    "pca = decomposition.PCA(n_components = k)\n",
    "X_train_pca = pca.fit_transform(x_train)\n",
    "X_test_pca = pca.transform(x_test)"
   ]
  },
  {
   "cell_type": "code",
   "execution_count": null,
   "id": "81d0e3b2",
   "metadata": {},
   "outputs": [],
   "source": []
  }
 ],
 "metadata": {
  "kernelspec": {
   "display_name": "Python 3",
   "language": "python",
   "name": "python3"
  },
  "language_info": {
   "codemirror_mode": {
    "name": "ipython",
    "version": 3
   },
   "file_extension": ".py",
   "mimetype": "text/x-python",
   "name": "python",
   "nbconvert_exporter": "python",
   "pygments_lexer": "ipython3",
   "version": "3.8.8"
  }
 },
 "nbformat": 4,
 "nbformat_minor": 5
}
