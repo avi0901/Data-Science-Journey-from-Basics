{
 "cells": [
  {
   "cell_type": "code",
   "execution_count": 57,
   "id": "ebd780bb",
   "metadata": {},
   "outputs": [],
   "source": [
    "import keras\n",
    "from keras.models import Sequential\n",
    "from keras.layers import Conv2D, Dense, Activation, MaxPooling2D, Dropout, Flatten"
   ]
  },
  {
   "cell_type": "code",
   "execution_count": 58,
   "id": "dc995ef4",
   "metadata": {},
   "outputs": [],
   "source": [
    "from keras.datasets import mnist\n",
    "(X_train, Y_train), (X_test, Y_test) = mnist.load_data()"
   ]
  },
  {
   "cell_type": "code",
   "execution_count": 59,
   "id": "392d89c4",
   "metadata": {},
   "outputs": [
    {
     "name": "stdout",
     "output_type": "stream",
     "text": [
      "Shapes of Datasets\n",
      "X_train :  (60000, 28, 28)\n",
      "X_test :  (10000, 28, 28)\n",
      "Y_train :  (60000,)\n",
      "Y_test :  (10000,)\n"
     ]
    }
   ],
   "source": [
    "print(\"Shapes of Datasets\")\n",
    "print(\"X_train : \", X_train.shape)\n",
    "print(\"X_test : \", X_test.shape)\n",
    "print(\"Y_train : \", Y_train.shape)\n",
    "print(\"Y_test : \", Y_test.shape)"
   ]
  },
  {
   "cell_type": "code",
   "execution_count": 60,
   "id": "c9f6069b",
   "metadata": {},
   "outputs": [],
   "source": [
    "X_train = X_train.astype('float')\n",
    "X_test = X_test.astype('float')"
   ]
  },
  {
   "cell_type": "code",
   "execution_count": 61,
   "id": "dccdc866",
   "metadata": {},
   "outputs": [],
   "source": [
    "# Creating a Model\n",
    "model = Sequential()"
   ]
  },
  {
   "cell_type": "code",
   "execution_count": 62,
   "id": "f98b2c17",
   "metadata": {},
   "outputs": [],
   "source": [
    "input_width = 28\n",
    "input_height = 28\n",
    "input_channels =1\n",
    "input_pixels = 784\n",
    "\n",
    "n_conv1 = 32\n",
    "n_conv2 = 64\n",
    "stride_conv1 = 1\n",
    "stride_conv2 = 1\n",
    "conv1_k = 5\n",
    "conv2_k = 5\n",
    "max_pool1_k = 2\n",
    "max_pool2_k = 2\n",
    "\n",
    "n_hidden = 1024\n",
    "n_out = 10\n",
    "\n",
    "input_size_to_hidden = (input_width//(max_pool1_k*max_pool2_k)) * (input_height//(max_pool1_k*max_pool2_k)) * n_conv2"
   ]
  },
  {
   "cell_type": "code",
   "execution_count": 63,
   "id": "efbfa24d",
   "metadata": {},
   "outputs": [],
   "source": [
    "X_train=X_train.reshape((60000, 28, 28, 1))\n",
    "X_test=X_test.reshape((10000, 28, 28, 1))\n",
    "Y_train=keras.utils.to_categorical(Y_train, n_out)\n",
    "Y_test=keras.utils.to_categorical(Y_test, n_out)"
   ]
  },
  {
   "cell_type": "code",
   "execution_count": 64,
   "id": "80b02c14",
   "metadata": {},
   "outputs": [],
   "source": [
    "conv_1 = keras.layers.Conv2D(n_conv1, kernel_size = (conv1_k, conv1_k), padding=\"same\", input_shape=(28, 28, 1),\n",
    "                             strides = (stride_conv1, stride_conv1), activation='relu',  use_bias = True)\n",
    "model.add(conv_1)\n",
    "pool_1 = keras.layers.MaxPooling2D(pool_size=(max_pool1_k, max_pool1_k))\n",
    "model.add(pool_1)\n",
    "conv_2 = keras.layers.Conv2D(n_conv2, kernel_size = (conv2_k, conv2_k), padding=\"same\",\n",
    "                             strides = (stride_conv2, stride_conv2), activation='relu',  use_bias = True)\n",
    "model.add(conv_2)\n",
    "pool_2 = keras.layers.MaxPooling2D(pool_size=(max_pool2_k, max_pool2_k))\n",
    "model.add(pool_2)\n",
    "\n",
    "dropout = keras.layers.Dropout(0.2)\n",
    "model.add(dropout)\n",
    "\n",
    "shape = keras.layers.Flatten()\n",
    "model.add(shape)\n",
    "\n",
    "layer1 = Dense(units = 128, activation = 'relu')\n",
    "model.add(layer1)\n",
    "output = Dense(units = n_out, activation = 'relu')\n",
    "model.add(output)"
   ]
  },
  {
   "cell_type": "raw",
   "id": "39fc6f03",
   "metadata": {},
   "source": [
    "model=Sequential()\n",
    "\n",
    "model.add(Conv2D(32 ,kernel_size=(5, 5), padding='same', input_shape=(28, 28, 1), strides=(1, 1), activation='relu'))\n",
    "model.add(MaxPooling2D(pool_size=(2, 2)))\n",
    "\n",
    "model.add(Conv2D(32 ,kernel_size=(5, 5), padding='same', strides=(1, 1), activation='relu'))\n",
    "model.add(MaxPooling2D(pool_size=(2, 2)))\n",
    "\n",
    "model.add(Flatten())\n",
    "model.add(Dense(1024, activation='relu'))\n",
    "model.add(Dropout(0.1))\n",
    "\n",
    "model.add(Dense(10, activation='relu'))"
   ]
  },
  {
   "cell_type": "code",
   "execution_count": 65,
   "id": "4216375e",
   "metadata": {},
   "outputs": [],
   "source": [
    "# Compiling\n",
    "model.compile(optimizer = 'adam', loss = 'binary_crossentropy', metrics = ['accuracy'])"
   ]
  },
  {
   "cell_type": "code",
   "execution_count": 66,
   "id": "67710173",
   "metadata": {},
   "outputs": [
    {
     "name": "stdout",
     "output_type": "stream",
     "text": [
      "Epoch 1/12\n",
      "60/60 [==============================] - 60s 1s/step - loss: 2.8509 - accuracy: 0.1049\n",
      "Epoch 2/12\n",
      "60/60 [==============================] - 60s 995ms/step - loss: 2.7471 - accuracy: 0.1044\n",
      "Epoch 3/12\n",
      "60/60 [==============================] - 60s 999ms/step - loss: 2.7471 - accuracy: 0.1044\n",
      "Epoch 4/12\n",
      "60/60 [==============================] - 43s 716ms/step - loss: 2.7471 - accuracy: 0.1044\n",
      "Epoch 5/12\n",
      "60/60 [==============================] - 42s 701ms/step - loss: 2.7471 - accuracy: 0.1044\n",
      "Epoch 6/12\n",
      "60/60 [==============================] - 40s 667ms/step - loss: 2.7471 - accuracy: 0.1044\n",
      "Epoch 7/12\n",
      "60/60 [==============================] - 39s 652ms/step - loss: 2.7471 - accuracy: 0.1044\n",
      "Epoch 8/12\n",
      "60/60 [==============================] - 39s 652ms/step - loss: 2.7471 - accuracy: 0.1044\n",
      "Epoch 9/12\n",
      "60/60 [==============================] - 39s 647ms/step - loss: 2.7471 - accuracy: 0.1044\n",
      "Epoch 10/12\n",
      "60/60 [==============================] - 41s 676ms/step - loss: 2.7471 - accuracy: 0.1044\n",
      "Epoch 11/12\n",
      "60/60 [==============================] - 43s 715ms/step - loss: 2.7471 - accuracy: 0.1044\n",
      "Epoch 12/12\n",
      "60/60 [==============================] - 41s 676ms/step - loss: 2.7471 - accuracy: 0.1044\n"
     ]
    },
    {
     "data": {
      "text/plain": [
       "<tensorflow.python.keras.callbacks.History at 0x1ec84b86b80>"
      ]
     },
     "execution_count": 66,
     "metadata": {},
     "output_type": "execute_result"
    }
   ],
   "source": [
    "# Fitting\n",
    "model.fit(X_train, Y_train, batch_size = 1000, epochs=12)"
   ]
  },
  {
   "cell_type": "code",
   "execution_count": 67,
   "id": "ba102629",
   "metadata": {},
   "outputs": [
    {
     "data": {
      "text/plain": [
       "array([[  0.     ,   0.     ,   0.     , ..., 358.44675,   0.     ,\n",
       "          0.     ],\n",
       "       [  0.     ,   0.     ,   0.     , ..., 457.42087,   0.     ,\n",
       "          0.     ],\n",
       "       [  0.     ,   0.     ,   0.     , ..., 226.95113,   0.     ,\n",
       "          0.     ],\n",
       "       ...,\n",
       "       [  0.     ,   0.     ,   0.     , ..., 431.14847,   0.     ,\n",
       "          0.     ],\n",
       "       [  0.     ,   0.     ,   0.     , ..., 388.4855 ,   0.     ,\n",
       "          0.     ],\n",
       "       [  0.     ,   0.     ,   0.     , ..., 537.00134,   0.     ,\n",
       "          0.     ]], dtype=float32)"
      ]
     },
     "execution_count": 67,
     "metadata": {},
     "output_type": "execute_result"
    }
   ],
   "source": [
    "# Predict\n",
    "predictions = model.predict(X_test)\n",
    "predictions"
   ]
  },
  {
   "cell_type": "code",
   "execution_count": 69,
   "id": "023cc2d6",
   "metadata": {},
   "outputs": [
    {
     "name": "stdout",
     "output_type": "stream",
     "text": [
      "313/313 [==============================] - 2s 5ms/step - loss: 2.7521 - accuracy: 0.1028\n"
     ]
    },
    {
     "data": {
      "text/plain": [
       "[2.7520909309387207, 0.10279999673366547]"
      ]
     },
     "execution_count": 69,
     "metadata": {},
     "output_type": "execute_result"
    }
   ],
   "source": [
    "score = model.evaluate(X_test, Y_test)\n",
    "score"
   ]
  },
  {
   "cell_type": "code",
   "execution_count": 1,
   "id": "cd514582",
   "metadata": {},
   "outputs": [],
   "source": [
    "from keras.utils import to_categorical"
   ]
  },
  {
   "cell_type": "code",
   "execution_count": null,
   "id": "c83c96ad",
   "metadata": {},
   "outputs": [],
   "source": []
  }
 ],
 "metadata": {
  "kernelspec": {
   "display_name": "Python 3",
   "language": "python",
   "name": "python3"
  },
  "language_info": {
   "codemirror_mode": {
    "name": "ipython",
    "version": 3
   },
   "file_extension": ".py",
   "mimetype": "text/x-python",
   "name": "python",
   "nbconvert_exporter": "python",
   "pygments_lexer": "ipython3",
   "version": "3.8.8"
  }
 },
 "nbformat": 4,
 "nbformat_minor": 5
}
