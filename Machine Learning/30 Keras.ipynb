{
 "cells": [
  {
   "cell_type": "code",
   "execution_count": 1,
   "id": "3f19116d",
   "metadata": {},
   "outputs": [],
   "source": [
    "from keras.models import Sequential\n",
    "from keras.layers import Dense"
   ]
  },
  {
   "cell_type": "code",
   "execution_count": 7,
   "id": "8e67f82c",
   "metadata": {},
   "outputs": [],
   "source": [
    "#Loading Data\n",
    "\n",
    "from sklearn import datasets\n",
    "cancer = datasets.load_breast_cancer()\n",
    "from sklearn.model_selection import train_test_split\n",
    "\n",
    "x_train, x_test, y_train, y_test, = train_test_split(cancer.data,cancer.target, test_size = 0.2, random_state = 69)\n",
    "\n",
    "# Scaling the data\n",
    "from sklearn.preprocessing import StandardScaler\n",
    "sc = StandardScaler()\n",
    "x_train = sc.fit_transform(x_train)\n",
    "x_test = sc.transform(x_test)"
   ]
  },
  {
   "cell_type": "code",
   "execution_count": 15,
   "id": "a2b0ed77",
   "metadata": {},
   "outputs": [],
   "source": [
    "# Creating aModel\n",
    "model = Sequential()"
   ]
  },
  {
   "cell_type": "code",
   "execution_count": 16,
   "id": "3a42e778",
   "metadata": {},
   "outputs": [],
   "source": [
    "# Creating Layers\n",
    "\n",
    "layer1 = Dense(units = 32, activation = 'relu', input_dim = 30)\n",
    "#input_dim is mandaory to create 1st layer only\n",
    "model.add(layer1)\n",
    "model.add(Dense(units = 16, activation = 'relu'))\n",
    "# Creating 2nd layer\n",
    "model.add(Dense(units = 1, activation = 'sigmoid'))\n",
    "# Creating 3rd layer"
   ]
  },
  {
   "cell_type": "code",
   "execution_count": 17,
   "id": "3a055edd",
   "metadata": {},
   "outputs": [],
   "source": [
    "# Compiling\n",
    "model.compile(optimizer = 'adam', loss = 'binary_crossentropy', metrics = ['accuracy'])"
   ]
  },
  {
   "cell_type": "raw",
   "id": "04e47a5d",
   "metadata": {},
   "source": [
    "# Fitting\n",
    "model.fit(x_train, y_train)"
   ]
  },
  {
   "cell_type": "raw",
   "id": "a8967ede",
   "metadata": {},
   "source": [
    "model.fit(x_train, y_train, epochs=20)"
   ]
  },
  {
   "cell_type": "raw",
   "id": "32d7ceba",
   "metadata": {},
   "source": [
    "model.fit(x_train, y_train, epochs=20, batch_size = 50)"
   ]
  },
  {
   "cell_type": "code",
   "execution_count": 18,
   "id": "f8f53161",
   "metadata": {},
   "outputs": [
    {
     "name": "stdout",
     "output_type": "stream",
     "text": [
      "Epoch 1/20\n",
      " 1/10 [==>...........................] - ETA: 0s - loss: 0.8219 - accuracy: 0.6200WARNING:tensorflow:Callbacks method `on_test_batch_end` is slow compared to the batch time (batch time: 0.0007s vs `on_test_batch_end` time: 0.0012s). Check your callbacks.\n",
      "10/10 [==============================] - 0s 34ms/step - loss: 0.7225 - accuracy: 0.6352 - val_loss: 0.7167 - val_accuracy: 0.5526\n",
      "Epoch 2/20\n",
      "10/10 [==============================] - 0s 5ms/step - loss: 0.4726 - accuracy: 0.7626 - val_loss: 0.5060 - val_accuracy: 0.7456\n",
      "Epoch 3/20\n",
      "10/10 [==============================] - 0s 5ms/step - loss: 0.3425 - accuracy: 0.8857 - val_loss: 0.3796 - val_accuracy: 0.8421\n",
      "Epoch 4/20\n",
      "10/10 [==============================] - 0s 6ms/step - loss: 0.2615 - accuracy: 0.9363 - val_loss: 0.3008 - val_accuracy: 0.8860\n",
      "Epoch 5/20\n",
      "10/10 [==============================] - 0s 6ms/step - loss: 0.2135 - accuracy: 0.9429 - val_loss: 0.2550 - val_accuracy: 0.9123\n",
      "Epoch 6/20\n",
      "10/10 [==============================] - 0s 5ms/step - loss: 0.1820 - accuracy: 0.9429 - val_loss: 0.2255 - val_accuracy: 0.9123\n",
      "Epoch 7/20\n",
      "10/10 [==============================] - 0s 5ms/step - loss: 0.1590 - accuracy: 0.9451 - val_loss: 0.2060 - val_accuracy: 0.9123\n",
      "Epoch 8/20\n",
      "10/10 [==============================] - 0s 5ms/step - loss: 0.1433 - accuracy: 0.9495 - val_loss: 0.1934 - val_accuracy: 0.9123\n",
      "Epoch 9/20\n",
      "10/10 [==============================] - 0s 5ms/step - loss: 0.1307 - accuracy: 0.9516 - val_loss: 0.1807 - val_accuracy: 0.9211\n",
      "Epoch 10/20\n",
      "10/10 [==============================] - 0s 5ms/step - loss: 0.1208 - accuracy: 0.9516 - val_loss: 0.1669 - val_accuracy: 0.9211\n",
      "Epoch 11/20\n",
      "10/10 [==============================] - 0s 5ms/step - loss: 0.1129 - accuracy: 0.9582 - val_loss: 0.1570 - val_accuracy: 0.9298\n",
      "Epoch 12/20\n",
      "10/10 [==============================] - 0s 6ms/step - loss: 0.1057 - accuracy: 0.9626 - val_loss: 0.1510 - val_accuracy: 0.9298\n",
      "Epoch 13/20\n",
      "10/10 [==============================] - 0s 6ms/step - loss: 0.1004 - accuracy: 0.9648 - val_loss: 0.1503 - val_accuracy: 0.9386\n",
      "Epoch 14/20\n",
      "10/10 [==============================] - 0s 6ms/step - loss: 0.0965 - accuracy: 0.9648 - val_loss: 0.1478 - val_accuracy: 0.9386\n",
      "Epoch 15/20\n",
      "10/10 [==============================] - 0s 6ms/step - loss: 0.0916 - accuracy: 0.9692 - val_loss: 0.1400 - val_accuracy: 0.9386\n",
      "Epoch 16/20\n",
      "10/10 [==============================] - 0s 5ms/step - loss: 0.0872 - accuracy: 0.9736 - val_loss: 0.1362 - val_accuracy: 0.9474\n",
      "Epoch 17/20\n",
      "10/10 [==============================] - 0s 6ms/step - loss: 0.0831 - accuracy: 0.9758 - val_loss: 0.1338 - val_accuracy: 0.9474\n",
      "Epoch 18/20\n",
      "10/10 [==============================] - 0s 6ms/step - loss: 0.0799 - accuracy: 0.9780 - val_loss: 0.1299 - val_accuracy: 0.9474\n",
      "Epoch 19/20\n",
      "10/10 [==============================] - 0s 6ms/step - loss: 0.0764 - accuracy: 0.9802 - val_loss: 0.1267 - val_accuracy: 0.9474\n",
      "Epoch 20/20\n",
      "10/10 [==============================] - 0s 6ms/step - loss: 0.0735 - accuracy: 0.9802 - val_loss: 0.1267 - val_accuracy: 0.9474\n"
     ]
    },
    {
     "data": {
      "text/plain": [
       "<tensorflow.python.keras.callbacks.History at 0x20e8f1f50a0>"
      ]
     },
     "execution_count": 18,
     "metadata": {},
     "output_type": "execute_result"
    }
   ],
   "source": [
    "model.fit(x_train, y_train, epochs=20, batch_size = 50, validation_data = (x_test,y_test))"
   ]
  },
  {
   "cell_type": "code",
   "execution_count": 19,
   "id": "82497945",
   "metadata": {},
   "outputs": [
    {
     "data": {
      "text/plain": [
       "array([[4.08501923e-02],\n",
       "       [3.66024673e-02],\n",
       "       [8.18602443e-02],\n",
       "       [6.70868218e-01],\n",
       "       [8.43990743e-02],\n",
       "       [1.53988276e-06],\n",
       "       [9.93138552e-01],\n",
       "       [8.97671580e-01],\n",
       "       [9.06691551e-01],\n",
       "       [2.61941552e-03],\n",
       "       [9.83343244e-01],\n",
       "       [2.43842602e-04],\n",
       "       [9.95562434e-01],\n",
       "       [2.74142623e-03],\n",
       "       [9.59681273e-01],\n",
       "       [2.86583960e-01],\n",
       "       [7.58071542e-01],\n",
       "       [1.81933751e-06],\n",
       "       [4.64200974e-02],\n",
       "       [1.13542378e-02],\n",
       "       [9.96433496e-01],\n",
       "       [9.78524923e-01],\n",
       "       [1.47249666e-05],\n",
       "       [5.73304892e-02],\n",
       "       [1.60910547e-01],\n",
       "       [6.16830885e-02],\n",
       "       [8.36113095e-03],\n",
       "       [7.49897063e-01],\n",
       "       [9.99257326e-01],\n",
       "       [2.85807252e-03],\n",
       "       [1.77204907e-02],\n",
       "       [2.42602825e-03],\n",
       "       [9.81435716e-01],\n",
       "       [9.96821225e-01],\n",
       "       [9.92584527e-01],\n",
       "       [1.52388036e-01],\n",
       "       [9.64686215e-01],\n",
       "       [9.99996185e-01],\n",
       "       [5.28362691e-02],\n",
       "       [2.32785940e-04],\n",
       "       [9.99940276e-01],\n",
       "       [9.14225698e-01],\n",
       "       [9.99991894e-01],\n",
       "       [9.96100545e-01],\n",
       "       [9.99695778e-01],\n",
       "       [3.17242742e-03],\n",
       "       [3.22902322e-01],\n",
       "       [9.96270418e-01],\n",
       "       [6.55409694e-03],\n",
       "       [9.93818045e-01],\n",
       "       [9.94793415e-01],\n",
       "       [1.66456997e-02],\n",
       "       [9.96298194e-01],\n",
       "       [2.14874744e-04],\n",
       "       [4.32223082e-04],\n",
       "       [9.96000230e-01],\n",
       "       [9.83140945e-01],\n",
       "       [1.09663874e-01],\n",
       "       [9.96432185e-01],\n",
       "       [9.51208591e-01],\n",
       "       [9.99955356e-01],\n",
       "       [4.53830035e-05],\n",
       "       [9.97033834e-01],\n",
       "       [9.98826921e-01],\n",
       "       [1.66286826e-02],\n",
       "       [9.99947906e-01],\n",
       "       [5.81276417e-03],\n",
       "       [9.56468105e-01],\n",
       "       [9.92704272e-01],\n",
       "       [2.48079598e-02],\n",
       "       [4.14863229e-03],\n",
       "       [7.19455779e-01],\n",
       "       [9.89886880e-01],\n",
       "       [9.97446537e-01],\n",
       "       [9.99226928e-01],\n",
       "       [9.54460502e-01],\n",
       "       [1.73660964e-01],\n",
       "       [5.87561429e-01],\n",
       "       [8.07315111e-04],\n",
       "       [2.96640396e-03],\n",
       "       [9.98289704e-01],\n",
       "       [7.99496472e-02],\n",
       "       [2.31832266e-03],\n",
       "       [9.81653452e-01],\n",
       "       [9.72594023e-01],\n",
       "       [3.86416912e-03],\n",
       "       [9.54577923e-01],\n",
       "       [9.99993682e-01],\n",
       "       [5.44187427e-03],\n",
       "       [9.90249515e-01],\n",
       "       [1.71145797e-03],\n",
       "       [9.96490955e-01],\n",
       "       [9.99490738e-01],\n",
       "       [9.99965906e-01],\n",
       "       [9.87703681e-01],\n",
       "       [9.98185396e-01],\n",
       "       [9.15050268e-01],\n",
       "       [9.99739885e-01],\n",
       "       [9.81071711e-01],\n",
       "       [5.94523966e-01],\n",
       "       [1.47600770e-02],\n",
       "       [8.39383662e-01],\n",
       "       [9.99891639e-01],\n",
       "       [3.34888697e-04],\n",
       "       [5.39879739e-01],\n",
       "       [1.45480037e-03],\n",
       "       [9.75319982e-01],\n",
       "       [9.98727202e-01],\n",
       "       [9.89335775e-01],\n",
       "       [9.26715612e-01],\n",
       "       [1.18998259e-01],\n",
       "       [9.99480128e-01],\n",
       "       [9.80572224e-01],\n",
       "       [5.84802032e-03]], dtype=float32)"
      ]
     },
     "execution_count": 19,
     "metadata": {},
     "output_type": "execute_result"
    }
   ],
   "source": [
    "# Predict\n",
    "\n",
    "predictions = model.predict(x_test)\n",
    "predictions"
   ]
  },
  {
   "cell_type": "code",
   "execution_count": 20,
   "id": "72f5c933",
   "metadata": {},
   "outputs": [
    {
     "name": "stdout",
     "output_type": "stream",
     "text": [
      "4/4 [==============================] - 0s 2ms/step - loss: 0.1267 - accuracy: 0.9474\n"
     ]
    },
    {
     "data": {
      "text/plain": [
       "[0.12672528624534607, 0.9473684430122375]"
      ]
     },
     "execution_count": 20,
     "metadata": {},
     "output_type": "execute_result"
    }
   ],
   "source": [
    "score = model.evaluate(x_test, y_test)\n",
    "score"
   ]
  },
  {
   "cell_type": "markdown",
   "id": "bf582d44",
   "metadata": {},
   "source": [
    "it is printing loss along with all the things you provided in matrix while compiling"
   ]
  }
 ],
 "metadata": {
  "kernelspec": {
   "display_name": "Python 3",
   "language": "python",
   "name": "python3"
  },
  "language_info": {
   "codemirror_mode": {
    "name": "ipython",
    "version": 3
   },
   "file_extension": ".py",
   "mimetype": "text/x-python",
   "name": "python",
   "nbconvert_exporter": "python",
   "pygments_lexer": "ipython3",
   "version": "3.8.8"
  }
 },
 "nbformat": 4,
 "nbformat_minor": 5
}
