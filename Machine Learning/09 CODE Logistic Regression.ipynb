{
 "cells": [
  {
   "cell_type": "markdown",
   "id": "5d80d94a",
   "metadata": {},
   "source": [
    "# CODE Logistic Regression"
   ]
  },
  {
   "cell_type": "code",
   "execution_count": 1,
   "id": "4241b12f",
   "metadata": {},
   "outputs": [],
   "source": [
    "from sklearn.datasets import load_breast_cancer\n",
    "from sklearn import model_selection\n",
    "from sklearn import preprocessing\n",
    "import numpy as np\n",
    "import math"
   ]
  },
  {
   "cell_type": "code",
   "execution_count": 2,
   "id": "0941ff2d",
   "metadata": {},
   "outputs": [],
   "source": [
    "def cost(x_test, y_true,m):\n",
    "    M = len(y_true)\n",
    "    E = 0\n",
    "    for i in range(M):\n",
    "        E += math.log(1+(math.exp(sum(m*x_test[i])))) - y_true[i]*sum(m*x_test[i])\n",
    "    print(E)\n",
    "    return E"
   ]
  },
  {
   "cell_type": "code",
   "execution_count": 3,
   "id": "8b769f8e",
   "metadata": {},
   "outputs": [],
   "source": [
    "def step_gradient(x_train,y_train,learning_rate,m):\n",
    "    m_slope = np.zeros(len(x_train[0]))\n",
    "    for i in range(len(x_train)):\n",
    "        X = x_train[i]\n",
    "        Y = y_train[i]\n",
    "        for j in range(len(X)):\n",
    "            m_slope[j] += (-1/len(X))*(Y-(1/(1+math.exp(-sum(m*X)))))*X[j]\n",
    "    new_m=m-learning_rate*m_slope\n",
    "    return new_m"
   ]
  },
  {
   "cell_type": "code",
   "execution_count": 4,
   "id": "c2c86e00",
   "metadata": {},
   "outputs": [],
   "source": [
    "def gradient_descent(x_train,y_train,iteration,learning_rate):\n",
    "    m = np.zeros(len(x_train[0]))\n",
    "    for i in range(iteration):\n",
    "        m = step_gradient(x_train,y_train,learning_rate,m)\n",
    "        print(\"itr= \", i, \"cost=\", end=' ')\n",
    "        cost(x_train, y_train, m)\n",
    "    return m\n",
    "    "
   ]
  },
  {
   "cell_type": "code",
   "execution_count": 5,
   "id": "88a4c564",
   "metadata": {},
   "outputs": [],
   "source": [
    "def logistic_regression(x_train,y_train):\n",
    "    iteration = 50\n",
    "    learning_rate = 0.1\n",
    "    m = gradient_descent(x_train,y_train,iteration,learning_rate)\n",
    "    return m"
   ]
  },
  {
   "cell_type": "code",
   "execution_count": 6,
   "id": "35c59ca8",
   "metadata": {},
   "outputs": [],
   "source": [
    "data=load_breast_cancer()\n",
    "x_data=data.data\n",
    "y_data=data.target"
   ]
  },
  {
   "cell_type": "code",
   "execution_count": 7,
   "id": "66ca56d2",
   "metadata": {},
   "outputs": [],
   "source": [
    "x_train, x_test, y_train, y_test=model_selection.train_test_split(x_data, y_data)"
   ]
  },
  {
   "cell_type": "code",
   "execution_count": 8,
   "id": "8c8356cf",
   "metadata": {},
   "outputs": [
    {
     "name": "stdout",
     "output_type": "stream",
     "text": [
      "(426, 30)\n",
      "(143, 30)\n"
     ]
    }
   ],
   "source": [
    "print(x_train.shape)\n",
    "print(x_test.shape)"
   ]
  },
  {
   "cell_type": "code",
   "execution_count": 9,
   "id": "24b1dc8e",
   "metadata": {},
   "outputs": [],
   "source": [
    "last_train = np.ones((len(x_train),1))\n",
    "last_test = np.ones((len(x_test),1))\n",
    "x_train = np.append(x_train,last_train,axis = 1)\n",
    "x_test = np.append(x_test,last_test,axis = 1)"
   ]
  },
  {
   "cell_type": "code",
   "execution_count": 10,
   "id": "d1291a88",
   "metadata": {},
   "outputs": [
    {
     "name": "stdout",
     "output_type": "stream",
     "text": [
      "(426, 31)\n",
      "(143, 31)\n"
     ]
    }
   ],
   "source": [
    "print(x_train.shape)\n",
    "print(x_test.shape)"
   ]
  },
  {
   "cell_type": "code",
   "execution_count": 11,
   "id": "190d8f0c",
   "metadata": {},
   "outputs": [],
   "source": [
    "scaler=preprocessing.StandardScaler()\n",
    "scaler.fit(x_train)\n",
    "x_train=scaler.transform(x_train)"
   ]
  },
  {
   "cell_type": "code",
   "execution_count": 12,
   "id": "608f1c10",
   "metadata": {},
   "outputs": [
    {
     "name": "stdout",
     "output_type": "stream",
     "text": [
      "itr=  0 cost= 71.86111169475582\n",
      "itr=  1 cost= 53.09816696260376\n",
      "itr=  2 cost= 44.24678303188679\n",
      "itr=  3 cost= 40.93255806438601\n",
      "itr=  4 cost= 39.34285618572311\n",
      "itr=  5 cost= 38.249956420201414\n",
      "itr=  6 cost= 37.39537489234533\n",
      "itr=  7 cost= 36.68227382811369\n",
      "itr=  8 cost= 36.0644139943434\n",
      "itr=  9 cost= 35.51639854271496\n",
      "itr=  10 cost= 35.02271937334969\n",
      "itr=  11 cost= 34.57306393324342\n",
      "itr=  12 cost= 34.16010014055538\n",
      "itr=  13 cost= 33.77834426072575\n",
      "itr=  14 cost= 33.423537903430365\n",
      "itr=  15 cost= 33.09228050816785\n",
      "itr=  16 cost= 32.78179841322452\n",
      "itr=  17 cost= 32.489791592033654\n",
      "itr=  18 cost= 32.21432721197265\n",
      "itr=  19 cost= 31.95376295391409\n",
      "itr=  20 cost= 31.70669013593904\n",
      "itr=  21 cost= 31.471890532146976\n",
      "itr=  22 cost= 31.2483029653858\n",
      "itr=  23 cost= 31.034997056686358\n",
      "itr=  24 cost= 30.83115232587531\n",
      "itr=  25 cost= 30.63604136312633\n",
      "itr=  26 cost= 30.449016142825666\n",
      "itr=  27 cost= 30.26949679334601\n",
      "itr=  28 cost= 30.096962307262395\n",
      "itr=  29 cost= 29.930942799649156\n",
      "itr=  30 cost= 29.771013012280054\n",
      "itr=  31 cost= 29.61678682858963\n",
      "itr=  32 cost= 29.467912614708037\n",
      "itr=  33 cost= 29.324069240284686\n",
      "itr=  34 cost= 29.18496266232416\n",
      "itr=  35 cost= 29.05032297814183\n",
      "itr=  36 cost= 28.91990187143156\n",
      "itr=  37 cost= 28.793470389525435\n",
      "itr=  38 cost= 28.6708170010959\n",
      "itr=  39 cost= 28.551745892469803\n",
      "itr=  40 cost= 28.436075467887413\n",
      "itr=  41 cost= 28.32363702482928\n",
      "itr=  42 cost= 28.214273580235254\n",
      "itr=  43 cost= 28.10783882728663\n",
      "itr=  44 cost= 28.004196205573937\n",
      "itr=  45 cost= 27.90321807007991\n",
      "itr=  46 cost= 27.804784946564894\n",
      "itr=  47 cost= 27.70878486273993\n",
      "itr=  48 cost= 27.61511274611646\n",
      "itr=  49 cost= 27.523669880686302\n"
     ]
    }
   ],
   "source": [
    "m=logistic_regression(x_train, y_train)"
   ]
  },
  {
   "cell_type": "code",
   "execution_count": 13,
   "id": "c1f6e3c0",
   "metadata": {},
   "outputs": [],
   "source": [
    "testing=x_test\n",
    "testing=scaler.transform(testing)\n",
    "pred=[]\n",
    "for i in testing:\n",
    "    if 1/(1+math.exp(-sum(m*i)))>0.5:\n",
    "        pred.append(1)\n",
    "    else:\n",
    "        pred.append(0)"
   ]
  },
  {
   "cell_type": "code",
   "execution_count": 14,
   "id": "7f14a318",
   "metadata": {},
   "outputs": [
    {
     "name": "stdout",
     "output_type": "stream",
     "text": [
      "score= 0.9790209790209791\n"
     ]
    }
   ],
   "source": [
    "total=0\n",
    "correct=0\n",
    "for i, j in zip(pred, y_test):\n",
    "    total+=1\n",
    "    if i==j:\n",
    "        correct+=1\n",
    "print('score=', correct/total)"
   ]
  },
  {
   "cell_type": "code",
   "execution_count": 15,
   "id": "ebb5ad9b",
   "metadata": {},
   "outputs": [
    {
     "data": {
      "text/plain": [
       "[1,\n",
       " 1,\n",
       " 1,\n",
       " 1,\n",
       " 1,\n",
       " 1,\n",
       " 0,\n",
       " 0,\n",
       " 1,\n",
       " 0,\n",
       " 1,\n",
       " 1,\n",
       " 1,\n",
       " 1,\n",
       " 1,\n",
       " 0,\n",
       " 0,\n",
       " 1,\n",
       " 1,\n",
       " 1,\n",
       " 1,\n",
       " 1,\n",
       " 1,\n",
       " 1,\n",
       " 1,\n",
       " 0,\n",
       " 0,\n",
       " 1,\n",
       " 1,\n",
       " 0,\n",
       " 0,\n",
       " 1,\n",
       " 0,\n",
       " 0,\n",
       " 1,\n",
       " 0,\n",
       " 1,\n",
       " 1,\n",
       " 0,\n",
       " 0,\n",
       " 0,\n",
       " 1,\n",
       " 0,\n",
       " 1,\n",
       " 1,\n",
       " 1,\n",
       " 1,\n",
       " 0,\n",
       " 0,\n",
       " 0,\n",
       " 1,\n",
       " 1,\n",
       " 1,\n",
       " 1,\n",
       " 1,\n",
       " 0,\n",
       " 1,\n",
       " 0,\n",
       " 1,\n",
       " 1,\n",
       " 0,\n",
       " 0,\n",
       " 0,\n",
       " 0,\n",
       " 1,\n",
       " 0,\n",
       " 1,\n",
       " 1,\n",
       " 0,\n",
       " 1,\n",
       " 0,\n",
       " 0,\n",
       " 0,\n",
       " 1,\n",
       " 1,\n",
       " 0,\n",
       " 1,\n",
       " 1,\n",
       " 1,\n",
       " 1,\n",
       " 0,\n",
       " 0,\n",
       " 1,\n",
       " 1,\n",
       " 1,\n",
       " 1,\n",
       " 1,\n",
       " 0,\n",
       " 1,\n",
       " 0,\n",
       " 1,\n",
       " 1,\n",
       " 1,\n",
       " 1,\n",
       " 0,\n",
       " 0,\n",
       " 1,\n",
       " 1,\n",
       " 1,\n",
       " 0,\n",
       " 1,\n",
       " 1,\n",
       " 0,\n",
       " 0,\n",
       " 1,\n",
       " 1,\n",
       " 0,\n",
       " 1,\n",
       " 1,\n",
       " 1,\n",
       " 1,\n",
       " 1,\n",
       " 1,\n",
       " 0,\n",
       " 1,\n",
       " 0,\n",
       " 1,\n",
       " 1,\n",
       " 0,\n",
       " 0,\n",
       " 0,\n",
       " 1,\n",
       " 0,\n",
       " 1,\n",
       " 1,\n",
       " 1,\n",
       " 1,\n",
       " 0,\n",
       " 1,\n",
       " 1,\n",
       " 1,\n",
       " 0,\n",
       " 0,\n",
       " 1,\n",
       " 0,\n",
       " 1,\n",
       " 1,\n",
       " 0,\n",
       " 1,\n",
       " 1,\n",
       " 0,\n",
       " 1,\n",
       " 1]"
      ]
     },
     "execution_count": 15,
     "metadata": {},
     "output_type": "execute_result"
    }
   ],
   "source": [
    "pred"
   ]
  },
  {
   "cell_type": "code",
   "execution_count": null,
   "id": "cb9fa38f",
   "metadata": {},
   "outputs": [],
   "source": []
  }
 ],
 "metadata": {
  "kernelspec": {
   "display_name": "Python 3",
   "language": "python",
   "name": "python3"
  },
  "language_info": {
   "codemirror_mode": {
    "name": "ipython",
    "version": 3
   },
   "file_extension": ".py",
   "mimetype": "text/x-python",
   "name": "python",
   "nbconvert_exporter": "python",
   "pygments_lexer": "ipython3",
   "version": "3.8.8"
  }
 },
 "nbformat": 4,
 "nbformat_minor": 5
}
