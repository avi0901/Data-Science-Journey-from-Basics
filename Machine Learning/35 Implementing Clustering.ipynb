{
 "cells": [
  {
   "cell_type": "code",
   "execution_count": 10,
   "id": "842edfa9",
   "metadata": {},
   "outputs": [],
   "source": [
    "import numpy as np\n",
    "import matplotlib.pyplot as plt"
   ]
  },
  {
   "cell_type": "code",
   "execution_count": 11,
   "id": "8d0c55a1",
   "metadata": {},
   "outputs": [],
   "source": [
    "x = np.array([[1,2],[1.5,1.8],[5,8],[8,8],[1,0.6],[9,11]])"
   ]
  },
  {
   "cell_type": "code",
   "execution_count": 12,
   "id": "558a7f78",
   "metadata": {},
   "outputs": [
    {
     "data": {
      "image/png": "[encoded data removed]",
      "text/plain": [
       "<Figure size 432x288 with 1 Axes>"
      ]
     },
     "metadata": {
      "needs_background": "light"
     },
     "output_type": "display_data"
    }
   ],
   "source": [
    "plt.scatter(x[:,0],x[:,1])\n",
    "plt.show()"
   ]
  },
  {
   "cell_type": "code",
   "execution_count": 19,
   "id": "08ec70ae",
   "metadata": {},
   "outputs": [],
   "source": [
    "def fit(data, k=2, max_iter = 100):\n",
    "    means = []\n",
    "    # randomly initialize the means\n",
    "    for i in range(k):\n",
    "        means.append(data[i])\n",
    "        # we assigned first k data as initial mean\n",
    "    for i in range(max_iter):\n",
    "        # create empty clusters\n",
    "        clusters = []\n",
    "        for j in range(k):\n",
    "            clusters.append([])\n",
    "        # assign the data points to the cluster that they belong to\n",
    "        for point in data:\n",
    "            # find distance to all the mean values\n",
    "            distances = [((point-m)**2).sum() for m in means]\n",
    "            # find the min distance \n",
    "            minDistance = min(distances)\n",
    "            # find the mean for which we got min distance --> l\n",
    "            l = distances.index(minDistance)\n",
    "            # add the point to cluster l\n",
    "            clusters[l].append(point)\n",
    "\n",
    "        # calculate the new mean values\n",
    "        change = False\n",
    "        for j in range(k):\n",
    "            new_mean = np.average(clusters[j], axis = 0)\n",
    "            if not np.array_equal(means[j], new_mean):\n",
    "                change = True\n",
    "            means[j] = new_mean\n",
    "        if not change:\n",
    "            break\n",
    "    return means"
   ]
  },
  {
   "cell_type": "code",
   "execution_count": 21,
   "id": "4fd951ba",
   "metadata": {},
   "outputs": [],
   "source": [
    "def predict(test_data, means):\n",
    "    predictions = []\n",
    "    for point in test_data:\n",
    "        # find distance to all the mean values\n",
    "        distances = [((point-m)**2).sum() for m in means]\n",
    "        # find the min distance \n",
    "        minDistance = min(distances)\n",
    "        # find the mean for which we got min distance --> l\n",
    "        l = distances.index(minDistance)\n",
    "        # add the point to cluster l\n",
    "        predictions.append(l)\n",
    "    return predictions"
   ]
  },
  {
   "cell_type": "code",
   "execution_count": 22,
   "id": "5237f922",
   "metadata": {},
   "outputs": [],
   "source": [
    "means = fit(x)"
   ]
  },
  {
   "cell_type": "code",
   "execution_count": 25,
   "id": "8fd14a09",
   "metadata": {},
   "outputs": [
    {
     "data": {
      "text/plain": [
       "[0, 0, 1, 1, 0, 1]"
      ]
     },
     "execution_count": 25,
     "metadata": {},
     "output_type": "execute_result"
    }
   ],
   "source": [
    "predict(x,means)"
   ]
  },
  {
   "cell_type": "code",
   "execution_count": null,
   "id": "8c207b4b",
   "metadata": {},
   "outputs": [],
   "source": []
  },
  {
   "cell_type": "code",
   "execution_count": null,
   "id": "fa555904",
   "metadata": {},
   "outputs": [],
   "source": []
  },
  {
   "cell_type": "markdown",
   "id": "259af83f",
   "metadata": {},
   "source": [
    "## Implementing KMeans Class:-"
   ]
  },
  {
   "cell_type": "code",
   "execution_count": 42,
   "id": "b7cdb8cc",
   "metadata": {},
   "outputs": [],
   "source": [
    "class K_Means:\n",
    "    def __init__ (self, k=2, max_iter = 100):\n",
    "        print(\"K_Mean initialized\")\n",
    "        self.k = k\n",
    "        self.max_iter = max_iter\n",
    "        \n",
    "    def fit(self, data):\n",
    "        self.means = []\n",
    "        # randomly initialize the means\n",
    "        for i in range(self.k):\n",
    "            self.means.append(data[i])\n",
    "            # we assigned first k data as initial mean\n",
    "        for i in range(self.max_iter):\n",
    "            # create empty clusters\n",
    "            clusters = []\n",
    "            for j in range(self.k):\n",
    "                clusters.append([])\n",
    "            # assign the data points to the cluster that they belong to\n",
    "            for point in data:\n",
    "                # find distance to all the mean values\n",
    "                distances = [((point-m)**2).sum() for m in self.means]\n",
    "                # find the min distance \n",
    "                minDistance = min(distances)\n",
    "                # find the mean for which we got min distance --> l\n",
    "                l = distances.index(minDistance)\n",
    "                # add the point to cluster l\n",
    "                clusters[l].append(point)\n",
    "\n",
    "            # calculate the new mean values\n",
    "            change = False\n",
    "            for j in range(self.k):\n",
    "                new_mean = np.average(clusters[j], axis = 0)\n",
    "                if not np.array_equal(self.means[j], new_mean):\n",
    "                    change = True\n",
    "                self.means[j] = new_mean\n",
    "            if not change:\n",
    "                break\n",
    "                \n",
    "    def predict(self, test_data):\n",
    "        predictions = []\n",
    "        for point in test_data:\n",
    "            # find distance to all the mean values\n",
    "            distances = [((point-m)**2).sum() for m in self.means]\n",
    "            # find the min distance \n",
    "            minDistance = min(distances)\n",
    "            # find the mean for which we got min distance --> l\n",
    "            l = distances.index(minDistance)\n",
    "            # add the point to cluster l\n",
    "            predictions.append(l)\n",
    "        return predictions"
   ]
  },
  {
   "cell_type": "code",
   "execution_count": 43,
   "id": "f5cb480a",
   "metadata": {},
   "outputs": [
    {
     "name": "stdout",
     "output_type": "stream",
     "text": [
      "K_Mean initialized\n"
     ]
    }
   ],
   "source": [
    "kmeans = K_Means()"
   ]
  },
  {
   "cell_type": "code",
   "execution_count": 44,
   "id": "1aaabed4",
   "metadata": {},
   "outputs": [],
   "source": [
    "kmeans.fit(x)"
   ]
  },
  {
   "cell_type": "code",
   "execution_count": 45,
   "id": "31fb816e",
   "metadata": {},
   "outputs": [
    {
     "data": {
      "text/plain": [
       "[0, 0, 1, 1, 0, 1]"
      ]
     },
     "execution_count": 45,
     "metadata": {},
     "output_type": "execute_result"
    }
   ],
   "source": [
    "kmeans.predict(x)"
   ]
  },
  {
   "cell_type": "code",
   "execution_count": 46,
   "id": "fe83cea6",
   "metadata": {},
   "outputs": [
    {
     "data": {
      "text/plain": [
       "[array([1.16666667, 1.46666667]), array([7.33333333, 9.        ])]"
      ]
     },
     "execution_count": 46,
     "metadata": {},
     "output_type": "execute_result"
    }
   ],
   "source": [
    "kmeans.means"
   ]
  },
  {
   "cell_type": "code",
   "execution_count": null,
   "id": "ecfa33b2",
   "metadata": {},
   "outputs": [],
   "source": []
  }
 ],
 "metadata": {
  "kernelspec": {
   "display_name": "Python 3",
   "language": "python",
   "name": "python3"
  },
  "language_info": {
   "codemirror_mode": {
    "name": "ipython",
    "version": 3
   },
   "file_extension": ".py",
   "mimetype": "text/x-python",
   "name": "python",
   "nbconvert_exporter": "python",
   "pygments_lexer": "ipython3",
   "version": "3.8.8"
  }
 },
 "nbformat": 4,
 "nbformat_minor": 5
}
