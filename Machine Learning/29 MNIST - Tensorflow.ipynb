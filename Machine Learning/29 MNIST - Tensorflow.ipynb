{
 "cells": [
  {
   "cell_type": "code",
   "execution_count": 1,
   "id": "4f62b1c6",
   "metadata": {},
   "outputs": [],
   "source": [
    "import tensorflow as tf\n",
    "import numpy as np"
   ]
  },
  {
   "cell_type": "code",
   "execution_count": 2,
   "id": "482bcadd",
   "metadata": {},
   "outputs": [],
   "source": [
    "tf.compat.v1.disable_eager_execution()"
   ]
  },
  {
   "cell_type": "code",
   "execution_count": 3,
   "id": "08583c0e",
   "metadata": {},
   "outputs": [],
   "source": [
    "from tensorflow.keras.datasets import mnist\n",
    "(X_train, Y_train), (X_test, Y_test) = mnist.load_data()"
   ]
  },
  {
   "cell_type": "code",
   "execution_count": 4,
   "id": "03eda823",
   "metadata": {},
   "outputs": [
    {
     "name": "stdout",
     "output_type": "stream",
     "text": [
      "Shapes of Datasets\n",
      "X_train :  (60000, 28, 28)\n",
      "X_test :  (10000, 28, 28)\n",
      "Y_train :  (60000,)\n",
      "Y_test :  (10000,)\n"
     ]
    }
   ],
   "source": [
    "print(\"Shapes of Datasets\")\n",
    "print(\"X_train : \", X_train.shape)\n",
    "print(\"X_test : \", X_test.shape)\n",
    "print(\"Y_train : \", Y_train.shape)\n",
    "print(\"Y_test : \", Y_test.shape)"
   ]
  },
  {
   "cell_type": "code",
   "execution_count": 5,
   "id": "2cadcac3",
   "metadata": {},
   "outputs": [],
   "source": [
    "sess = tf.compat.v1.Session()"
   ]
  },
  {
   "cell_type": "code",
   "execution_count": 6,
   "id": "eba4392d",
   "metadata": {},
   "outputs": [],
   "source": [
    "y_train_oh = tf.one_hot(Y_train, depth = 10)\n",
    "y_test_oh = tf.one_hot(Y_test, depth = 10)\n",
    "Y_train = sess.run(y_train_oh)\n",
    "Y_test = sess.run(y_test_oh)"
   ]
  },
  {
   "cell_type": "code",
   "execution_count": 7,
   "id": "5559bb65",
   "metadata": {},
   "outputs": [
    {
     "name": "stdout",
     "output_type": "stream",
     "text": [
      "Shapes of Datasets\n",
      "X_train :  (60000, 28, 28)\n",
      "X_test :  (10000, 28, 28)\n",
      "Y_train :  (60000, 10)\n",
      "Y_test :  (10000, 10)\n"
     ]
    }
   ],
   "source": [
    "print(\"Shapes of Datasets\")\n",
    "print(\"X_train : \", X_train.shape)\n",
    "print(\"X_test : \", X_test.shape)\n",
    "print(\"Y_train : \", Y_train.shape)\n",
    "print(\"Y_test : \", Y_test.shape)"
   ]
  },
  {
   "cell_type": "code",
   "execution_count": 8,
   "id": "52b4912c",
   "metadata": {},
   "outputs": [],
   "source": [
    "from matplotlib import pyplot as plt"
   ]
  },
  {
   "cell_type": "code",
   "execution_count": 9,
   "id": "3586d376",
   "metadata": {},
   "outputs": [
    {
     "data": {
      "image/png": "[encoded data removed]",
      "text/plain": [
       "<Figure size 432x288 with 1 Axes>"
      ]
     },
     "metadata": {
      "needs_background": "light"
     },
     "output_type": "display_data"
    }
   ],
   "source": [
    "first_image = X_train[0]\n",
    "plt.imshow(first_image)\n",
    "plt.show()"
   ]
  },
  {
   "cell_type": "code",
   "execution_count": 10,
   "id": "b389a34c",
   "metadata": {},
   "outputs": [],
   "source": [
    "X_train = X_train.reshape(-1,784)\n",
    "X_test = X_test.reshape(-1,784)"
   ]
  },
  {
   "cell_type": "markdown",
   "id": "e1a7c9c6",
   "metadata": {},
   "source": [
    "### Playing around tf.random.normal"
   ]
  },
  {
   "cell_type": "code",
   "execution_count": 11,
   "id": "9cc4470a",
   "metadata": {},
   "outputs": [
    {
     "data": {
      "text/plain": [
       "<tf.Tensor 'random_normal:0' shape=(2,) dtype=float32>"
      ]
     },
     "execution_count": 11,
     "metadata": {},
     "output_type": "execute_result"
    }
   ],
   "source": [
    "abc = tf.random.normal([2])\n",
    "abc"
   ]
  },
  {
   "cell_type": "code",
   "execution_count": 12,
   "id": "fdce2266",
   "metadata": {
    "scrolled": true
   },
   "outputs": [
    {
     "name": "stdout",
     "output_type": "stream",
     "text": [
      "[-0.04143685 -0.21156092]\n"
     ]
    }
   ],
   "source": [
    "print(sess.run(tf.random.normal([2])))"
   ]
  },
  {
   "cell_type": "code",
   "execution_count": null,
   "id": "8d2aefb4",
   "metadata": {},
   "outputs": [],
   "source": []
  },
  {
   "cell_type": "code",
   "execution_count": 13,
   "id": "27ba33c1",
   "metadata": {},
   "outputs": [],
   "source": [
    "n_input = 784\n",
    "n_hidden_1 = 256\n",
    "n_hidden_2 = 256\n",
    "n_classes = 10\n",
    "\n",
    "weights = {\n",
    "    'hid1':tf.Variable(tf.random.normal([n_input,n_hidden_1])),\n",
    "    'hid2':tf.Variable(tf.random.normal([n_hidden_1,n_hidden_2])),\n",
    "    'out':tf.Variable(tf.random.normal([n_hidden_2,n_classes])),\n",
    "}\n",
    "\n",
    "biases = {\n",
    "    'hid1':tf.Variable(tf.random.normal([n_hidden_1])),\n",
    "    'hid2':tf.Variable(tf.random.normal([n_hidden_2])),\n",
    "    'out':tf.Variable(tf.random.normal([n_classes])),\n",
    "}"
   ]
  },
  {
   "cell_type": "code",
   "execution_count": 14,
   "id": "063e53e8",
   "metadata": {},
   "outputs": [
    {
     "data": {
      "text/plain": [
       "[<tf.Variable 'Variable:0' shape=(784, 256) dtype=float32>,\n",
       " <tf.Variable 'Variable_1:0' shape=(256, 256) dtype=float32>,\n",
       " <tf.Variable 'Variable_2:0' shape=(256, 10) dtype=float32>,\n",
       " <tf.Variable 'Variable_3:0' shape=(256,) dtype=float32>,\n",
       " <tf.Variable 'Variable_4:0' shape=(256,) dtype=float32>,\n",
       " <tf.Variable 'Variable_5:0' shape=(10,) dtype=float32>]"
      ]
     },
     "execution_count": 14,
     "metadata": {},
     "output_type": "execute_result"
    }
   ],
   "source": [
    "tf.compat.v1.trainable_variables()"
   ]
  },
  {
   "cell_type": "code",
   "execution_count": 15,
   "id": "45a308a5",
   "metadata": {},
   "outputs": [],
   "source": [
    "def forward_propogation(X, weights, biases):\n",
    "    in_layer1 = tf.add(tf.matmul(X, weights['hid1']), biases['hid1'])\n",
    "    out_layer1 = tf.nn.relu(in_layer1)\n",
    "    \n",
    "    in_layer2 = tf.add(tf.matmul(out_layer1, weights['hid2']), biases['hid2'])\n",
    "    out_layer2 = tf.nn.relu(in_layer2)\n",
    "    \n",
    "    output = tf.add(tf.matmul(out_layer2, weights['out']), biases['out'])\n",
    "    return output"
   ]
  },
  {
   "cell_type": "code",
   "execution_count": 16,
   "id": "dca28e81",
   "metadata": {},
   "outputs": [],
   "source": [
    "sess.run(tf.compat.v1.global_variables_initializer())\n",
    "x = tf.compat.v1.placeholder(\"float\", [None, n_input])\n",
    "y = tf.compat.v1.placeholder(tf.int32, [None, n_classes])\n",
    "pred = forward_propogation(x, weights, biases)"
   ]
  },
  {
   "cell_type": "code",
   "execution_count": 17,
   "id": "6587e5f2",
   "metadata": {},
   "outputs": [],
   "source": [
    "cost = tf.reduce_mean(tf.nn.softmax_cross_entropy_with_logits(logits=pred, labels = y))"
   ]
  },
  {
   "cell_type": "code",
   "execution_count": 18,
   "id": "3081b81e",
   "metadata": {},
   "outputs": [],
   "source": [
    "optimizer = tf.compat.v1.train.GradientDescentOptimizer(learning_rate=0.1)\n",
    "optimize = optimizer.minimize(cost)"
   ]
  },
  {
   "cell_type": "code",
   "execution_count": 19,
   "id": "184f897b",
   "metadata": {},
   "outputs": [
    {
     "data": {
      "text/plain": [
       "487033.62"
      ]
     },
     "execution_count": 19,
     "metadata": {},
     "output_type": "execute_result"
    }
   ],
   "source": [
    "c, _ = sess.run([cost,optimize], feed_dict={x:X_train , y:Y_train})\n",
    "c"
   ]
  },
  {
   "cell_type": "code",
   "execution_count": 20,
   "id": "1da2ea57",
   "metadata": {},
   "outputs": [],
   "source": [
    "predictions = tf.argmax(pred,1)\n",
    "correct_labels = tf.argmax(y,1)\n",
    "correct_predictions = tf.equal(predictions,correct_labels)\n",
    "# here 1 is axis. Means along axis 1 that is find index of max element in each row"
   ]
  },
  {
   "cell_type": "code",
   "execution_count": 21,
   "id": "51f752ef",
   "metadata": {},
   "outputs": [
    {
     "data": {
      "text/plain": [
       "(array([3, 3, 3, ..., 3, 3, 3], dtype=int64),\n",
       " array([5, 0, 4, ..., 5, 6, 8], dtype=int64),\n",
       " array([False, False, False, ..., False, False, False]))"
      ]
     },
     "execution_count": 21,
     "metadata": {},
     "output_type": "execute_result"
    }
   ],
   "source": [
    "predictions_eval, labels, correct_pred  = sess.run([predictions, correct_labels, correct_predictions], feed_dict = {x: X_train, y: Y_train})\n",
    "predictions_eval, labels, correct_pred"
   ]
  },
  {
   "cell_type": "code",
   "execution_count": 22,
   "id": "70ca71bd",
   "metadata": {},
   "outputs": [
    {
     "data": {
      "text/plain": [
       "6131"
      ]
     },
     "execution_count": 22,
     "metadata": {},
     "output_type": "execute_result"
    }
   ],
   "source": [
    " correct_pred.sum()\n",
    "#How many preditions are correct"
   ]
  },
  {
   "cell_type": "raw",
   "id": "a768f813",
   "metadata": {},
   "source": [
    "for i in range(25):\n",
    "    c, _ = sess.run([cost,optimize], feed_dict={x:X_train , y:Y_train})\n",
    "    print(c)"
   ]
  },
  {
   "cell_type": "raw",
   "id": "efd1d082",
   "metadata": {},
   "source": [
    "predictions = tf.argmax(pred,1)\n",
    "correct_labels = tf.argmax(y,1)\n",
    "correct_predictions = tf.equal(predictions,correct_labels)\n",
    "# here 1 is axis. Means along axis 1 that is find index of max element in each row\n",
    "predictions_eval, correct_pred  = sess.run([predictions, correct_predictions], feed_dict = {x: X_train, y: Y_train})\n",
    "predictions_eval, correct_pred"
   ]
  },
  {
   "cell_type": "raw",
   "id": "a2a55902",
   "metadata": {},
   "source": [
    " correct_pred.sum()\n",
    "#How many preditions are correct"
   ]
  },
  {
   "cell_type": "code",
   "execution_count": 23,
   "id": "ed506923",
   "metadata": {},
   "outputs": [
    {
     "name": "stdout",
     "output_type": "stream",
     "text": [
      "51517410907514.09\n",
      "1380.8292689323425\n",
      "1380.8273167610168\n",
      "1380.827316045761\n",
      "1380.8273153305054\n",
      "1380.8273153305054\n",
      "1380.8273153305054\n",
      "1380.8273153305054\n",
      "1380.8273153305054\n",
      "1380.8273153305054\n",
      "1380.8273153305054\n",
      "1380.8273153305054\n",
      "1380.8273153305054\n",
      "1380.8273153305054\n",
      "1380.8273153305054\n",
      "1380.8273153305054\n",
      "1380.8273153305054\n",
      "1380.8273153305054\n",
      "1380.8273153305054\n",
      "1380.8273153305054\n",
      "1380.8273153305054\n",
      "1380.8273153305054\n",
      "1380.8273153305054\n",
      "1380.8273153305054\n",
      "1380.8273153305054\n"
     ]
    }
   ],
   "source": [
    "batch_size = 100\n",
    "for i in range(25):\n",
    "    num_batches = int(len(X_train)/batch_size)\n",
    "    total_cost = 0\n",
    "    i=0\n",
    "    j=99\n",
    "    for p in range(num_batches):\n",
    "        batch_X, batch_Y = X_train[i:j], Y_train[i:j]\n",
    "        i+=batch_size\n",
    "        j+=batch_size\n",
    "        c, _ = sess.run([cost,optimize], feed_dict={x:batch_X , y:batch_Y})\n",
    "        total_cost += c\n",
    "    print(total_cost)"
   ]
  },
  {
   "cell_type": "code",
   "execution_count": 24,
   "id": "05a78a34",
   "metadata": {},
   "outputs": [],
   "source": [
    "predictions = tf.argmax(pred,1)\n",
    "correct_labels = tf.argmax(y,1)\n",
    "correct_predictions = tf.equal(predictions,correct_labels)\n",
    "# here 1 is axis. Means along axis 1 that is find index of max element in each row"
   ]
  },
  {
   "cell_type": "code",
   "execution_count": 25,
   "id": "543a6d61",
   "metadata": {},
   "outputs": [
    {
     "data": {
      "text/plain": [
       "(array([1, 1, 1, ..., 1, 1, 1], dtype=int64),\n",
       " array([5, 0, 4, ..., 5, 6, 8], dtype=int64),\n",
       " array([False, False, False, ..., False, False, False]))"
      ]
     },
     "execution_count": 25,
     "metadata": {},
     "output_type": "execute_result"
    }
   ],
   "source": [
    "predictions_eval, labels, correct_pred  = sess.run([predictions, correct_labels, correct_predictions], feed_dict = {x: X_train, y: Y_train})\n",
    "predictions_eval, labels, correct_pred"
   ]
  },
  {
   "cell_type": "code",
   "execution_count": 26,
   "id": "6e87f191",
   "metadata": {},
   "outputs": [
    {
     "data": {
      "text/plain": [
       "6742"
      ]
     },
     "execution_count": 26,
     "metadata": {},
     "output_type": "execute_result"
    }
   ],
   "source": [
    " correct_pred.sum()\n",
    "#How many preditions are correct"
   ]
  },
  {
   "cell_type": "code",
   "execution_count": null,
   "id": "90de0739",
   "metadata": {},
   "outputs": [],
   "source": []
  }
 ],
 "metadata": {
  "kernelspec": {
   "display_name": "Python 3",
   "language": "python",
   "name": "python3"
  },
  "language_info": {
   "codemirror_mode": {
    "name": "ipython",
    "version": 3
   },
   "file_extension": ".py",
   "mimetype": "text/x-python",
   "name": "python",
   "nbconvert_exporter": "python",
   "pygments_lexer": "ipython3",
   "version": "3.8.8"
  }
 },
 "nbformat": 4,
 "nbformat_minor": 5
}
